{
  "nbformat": 4,
  "nbformat_minor": 0,
  "metadata": {
    "colab": {
      "provenance": []
    },
    "kernelspec": {
      "name": "python3",
      "display_name": "Python 3"
    },
    "language_info": {
      "name": "python"
    }
  },
  "cells": [
    {
      "cell_type": "markdown",
      "source": [
        "# LeetCode Problem: Max Sum of a Pair With Equal Sum of Digits"
      ],
      "metadata": {
        "id": "LcCT0DXdkMJL"
      }
    },
    {
      "cell_type": "code",
      "execution_count": null,
      "metadata": {
        "id": "jI7GYQ1OkF9S"
      },
      "outputs": [],
      "source": [
        "class Solution:\n",
        "    def maximumSum(self, nums):\n",
        "        max_arr = [0] * 82\n",
        "        ans = -1\n",
        "        for x in nums:\n",
        "            digit_sum = sum(int(d) for d in str(x))\n",
        "            if max_arr[digit_sum] != 0:\n",
        "                ans = max(ans, x + max_arr[digit_sum])\n",
        "            max_arr[digit_sum] = max(max_arr[digit_sum], x)\n",
        "        return ans\n",
        "\n",
        "nums = [18,43,36,13,7]\n"
      ]
    }
  ]
}