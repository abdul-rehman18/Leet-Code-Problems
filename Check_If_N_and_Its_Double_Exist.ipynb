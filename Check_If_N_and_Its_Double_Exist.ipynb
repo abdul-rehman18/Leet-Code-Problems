{
  "nbformat": 4,
  "nbformat_minor": 0,
  "metadata": {
    "colab": {
      "provenance": []
    },
    "kernelspec": {
      "name": "python3",
      "display_name": "Python 3"
    },
    "language_info": {
      "name": "python"
    }
  },
  "cells": [
    {
      "cell_type": "markdown",
      "source": [
        "# LeetCode Problem : Check If N and Its Double Exist"
      ],
      "metadata": {
        "id": "fmM55xqJitjU"
      }
    },
    {
      "cell_type": "code",
      "execution_count": 1,
      "metadata": {
        "colab": {
          "base_uri": "https://localhost:8080/"
        },
        "id": "EtuKhMith4-h",
        "outputId": "2f9896ef-7287-4ce1-f3ba-60cc7a844a45"
      },
      "outputs": [
        {
          "output_type": "stream",
          "name": "stdout",
          "text": [
            "True\n"
          ]
        }
      ],
      "source": [
        "def checkIfExist(arr):\n",
        "        s = set()\n",
        "        for i in arr:\n",
        "            if i*2 in s or i/2 in s:\n",
        "                return True\n",
        "            s.add(i)\n",
        "        return False\n",
        "\n",
        "arr = [10,2,5,3]\n",
        "print(checkIfExist(arr))"
      ]
    },
    {
      "cell_type": "code",
      "source": [],
      "metadata": {
        "id": "-mZuaK4Th-Nr"
      },
      "execution_count": null,
      "outputs": []
    }
  ]
}