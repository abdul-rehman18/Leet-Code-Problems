{
  "nbformat": 4,
  "nbformat_minor": 0,
  "metadata": {
    "colab": {
      "provenance": []
    },
    "kernelspec": {
      "name": "python3",
      "display_name": "Python 3"
    },
    "language_info": {
      "name": "python"
    }
  },
  "cells": [
    {
      "cell_type": "markdown",
      "source": [
        "# LeetCode Problem: Valid Arrangement of Pairs"
      ],
      "metadata": {
        "id": "pr8uQJivXb8e"
      }
    },
    {
      "cell_type": "code",
      "execution_count": 2,
      "metadata": {
        "colab": {
          "base_uri": "https://localhost:8080/"
        },
        "id": "9Toe1fIjW8xs",
        "outputId": "f73c0a22-793e-4d0c-b300-fdbcfc218d91"
      },
      "outputs": [
        {
          "output_type": "stream",
          "name": "stdout",
          "text": [
            "[(11, 9), (9, 4), (4, 5), (5, 1)]\n"
          ]
        }
      ],
      "source": [
        "import collections\n",
        "from collections import defaultdict\n",
        "class Solution:\n",
        "    def validArrangement(self,pairs):\n",
        "        # graph represents adjacency list, inOutDeg tracks in/out degree difference\n",
        "        graph = defaultdict(list)\n",
        "        inOutDeg = defaultdict(int)\n",
        "\n",
        "        # Build graph and count in/out degrees\n",
        "        for start, end in pairs:\n",
        "            graph[start].append(end)\n",
        "            inOutDeg[start] += 1  # out-degree\n",
        "            inOutDeg[end] -= 1    # in-degree\n",
        "\n",
        "        # Find starting node\n",
        "        startNode = pairs[0][0]\n",
        "        for node in inOutDeg:\n",
        "            if inOutDeg[node] == 1:\n",
        "                startNode = node\n",
        "                break\n",
        "\n",
        "        path = []\n",
        "        def dfs(curr):\n",
        "            while graph[curr]:\n",
        "                nextNode = graph[curr].pop()\n",
        "                dfs(nextNode)\n",
        "                path.append((curr, nextNode))\n",
        "\n",
        "        dfs(startNode)\n",
        "        return path[::-1]\n",
        "\n",
        "pairs = [[5,1],[4,5],[11,9],[9,4]]\n",
        "\n",
        "solution = Solution()\n",
        "result = solution.validArrangement(pairs)\n",
        "print(result)\n"
      ]
    },
    {
      "cell_type": "code",
      "source": [],
      "metadata": {
        "id": "ZKZhwxwEX-8n"
      },
      "execution_count": null,
      "outputs": []
    }
  ]
}