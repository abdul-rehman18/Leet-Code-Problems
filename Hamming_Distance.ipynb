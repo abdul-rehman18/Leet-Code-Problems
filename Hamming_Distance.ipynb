{
  "nbformat": 4,
  "nbformat_minor": 0,
  "metadata": {
    "colab": {
      "provenance": []
    },
    "kernelspec": {
      "name": "python3",
      "display_name": "Python 3"
    },
    "language_info": {
      "name": "python"
    }
  },
  "cells": [
    {
      "cell_type": "markdown",
      "source": [
        "# LeetCode Problem: Hamming Distance"
      ],
      "metadata": {
        "id": "H3C_Ax_YtHjG"
      }
    },
    {
      "cell_type": "code",
      "execution_count": 1,
      "metadata": {
        "colab": {
          "base_uri": "https://localhost:8080/"
        },
        "id": "ab4CGJI6rKcS",
        "outputId": "44b1d414-9537-47b2-ad1c-c0777a92a86d"
      },
      "outputs": [
        {
          "output_type": "stream",
          "name": "stdout",
          "text": [
            "1\n"
          ]
        }
      ],
      "source": [
        "def hammingDistance(x, y):\n",
        "        diff=x^y\n",
        "        num_positions=0\n",
        "        while diff:\n",
        "            if (diff & 1)==1:\n",
        "                num_positions+=1\n",
        "            diff=diff>>1\n",
        "        return num_positions\n",
        "\n",
        "x=3\n",
        "y=1\n",
        "res = hammingDistance(x, y)\n",
        "print(res)"
      ]
    },
    {
      "cell_type": "code",
      "source": [],
      "metadata": {
        "id": "Axnq7BsotRed"
      },
      "execution_count": null,
      "outputs": []
    }
  ]
}