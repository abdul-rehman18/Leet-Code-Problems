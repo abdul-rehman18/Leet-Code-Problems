{
  "nbformat": 4,
  "nbformat_minor": 0,
  "metadata": {
    "colab": {
      "provenance": []
    },
    "kernelspec": {
      "name": "python3",
      "display_name": "Python 3"
    },
    "language_info": {
      "name": "python"
    }
  },
  "cells": [
    {
      "cell_type": "markdown",
      "source": [
        "# LeetCode Problem: Find the Count of Good Integers"
      ],
      "metadata": {
        "id": "6bbES2HvfMkE"
      }
    },
    {
      "cell_type": "code",
      "execution_count": null,
      "metadata": {
        "id": "TWBpcaObfDOw"
      },
      "outputs": [],
      "source": [
        "class Solution:\n",
        "    def factorial(self, number):\n",
        "        chakra = 1\n",
        "        for i in range(1, number + 1):\n",
        "            chakra *= i\n",
        "        return chakra\n",
        "\n",
        "    def generatePalindromes(self, cloneID, index, validPalindromes, k):\n",
        "        if index >= (len(cloneID) + 1) // 2:\n",
        "            if int(cloneID) % k == 0:\n",
        "                validPalindromes.append(cloneID)\n",
        "            return\n",
        "\n",
        "        if index != 0:\n",
        "            temp = cloneID\n",
        "            temp = temp[:index] + '0' + temp[index+1:]\n",
        "            temp = temp[:len(temp) - index - 1] + '0' + temp[len(temp) - index:]\n",
        "            self.generatePalindromes(temp, index + 1, validPalindromes, k)\n",
        "\n",
        "        for digit in range(1, 10):\n",
        "            temp = cloneID\n",
        "            temp = temp[:index] + str(digit) + temp[index+1:]\n",
        "            temp = temp[:len(temp) - index - 1] + str(digit) + temp[len(temp) - index:]\n",
        "            self.generatePalindromes(temp, index + 1, validPalindromes, k)\n",
        "\n",
        "    def countGoodIntegers(self, n, k):\n",
        "        validPalindromes = []\n",
        "        baseForm = \"0\" * n\n",
        "        self.generatePalindromes(baseForm, 0, validPalindromes, k)\n",
        "\n",
        "        chakraPatterns = set()\n",
        "\n",
        "        for shadowClone in validPalindromes:\n",
        "            frequency = ['0'] * 10\n",
        "            for chakra in shadowClone:\n",
        "                idx = int(chakra)\n",
        "                if frequency[idx] == '9':\n",
        "                    frequency[idx] = 'A'  # beyond 9 digits (special case)\n",
        "                else:\n",
        "                    frequency[idx] = str(int(frequency[idx]) + 1)\n",
        "            chakraPatterns.add(''.join(frequency))\n",
        "\n",
        "        basePermutations = self.factorial(n)\n",
        "        totalCount = 0\n",
        "\n",
        "        for pattern in chakraPatterns:\n",
        "            permutation = basePermutations\n",
        "            for freq in pattern:\n",
        "                divisor = 10 if freq == 'A' else int(freq)\n",
        "                permutation //= self.factorial(divisor)\n",
        "\n",
        "            if pattern[0] != '0':\n",
        "                zeroCount = int(pattern[0]) - 1\n",
        "                zeroRestrictedPerm = self.factorial(n - 1)\n",
        "                for freq in pattern[1:]:\n",
        "                    divisor = 10 if freq == 'A' else int(freq)\n",
        "                    zeroRestrictedPerm //= self.factorial(divisor)\n",
        "                zeroRestrictedPerm //= self.factorial(zeroCount)\n",
        "                permutation -= zeroRestrictedPerm\n",
        "\n",
        "            totalCount += permutation\n",
        "\n",
        "        return int(totalCount)"
      ]
    }
  ]
}