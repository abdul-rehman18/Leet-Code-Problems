{
  "nbformat": 4,
  "nbformat_minor": 0,
  "metadata": {
    "colab": {
      "provenance": []
    },
    "kernelspec": {
      "name": "python3",
      "display_name": "Python 3"
    },
    "language_info": {
      "name": "python"
    }
  },
  "cells": [
    {
      "cell_type": "markdown",
      "source": [
        "# LeetCode Problem: Fair Candy Swap"
      ],
      "metadata": {
        "id": "b2pjyN6Xx2dk"
      }
    },
    {
      "cell_type": "code",
      "execution_count": 2,
      "metadata": {
        "colab": {
          "base_uri": "https://localhost:8080/"
        },
        "id": "K7yOjhfKxDwU",
        "outputId": "12c8cf85-27ef-4c85-9256-8a28b497ee08"
      },
      "outputs": [
        {
          "output_type": "stream",
          "name": "stdout",
          "text": [
            "[1.0, 2]\n"
          ]
        }
      ],
      "source": [
        "def fairCandySwap(A, B):\n",
        "        difference = (sum(A) - sum(B)) / 2\n",
        "        A = set(A)\n",
        "        for candy in set(B):\n",
        "            if difference + candy in A:\n",
        "                return [difference + candy, candy]\n",
        "\n",
        "\n",
        "\n",
        "A = [1,1]\n",
        "B = [2,2]\n",
        "\n",
        "print(fairCandySwap(A, B))"
      ]
    },
    {
      "cell_type": "code",
      "source": [],
      "metadata": {
        "id": "hOC0NlD3xrqk"
      },
      "execution_count": null,
      "outputs": []
    }
  ]
}