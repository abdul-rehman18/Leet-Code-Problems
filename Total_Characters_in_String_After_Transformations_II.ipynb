{
  "nbformat": 4,
  "nbformat_minor": 0,
  "metadata": {
    "colab": {
      "provenance": []
    },
    "kernelspec": {
      "name": "python3",
      "display_name": "Python 3"
    },
    "language_info": {
      "name": "python"
    }
  },
  "cells": [
    {
      "cell_type": "markdown",
      "source": [
        "# LeetCode Problem: Total Characters in String After Transformations II"
      ],
      "metadata": {
        "id": "xuleQphi3kMa"
      }
    },
    {
      "cell_type": "code",
      "execution_count": null,
      "metadata": {
        "id": "Mlth4dtY3HyS"
      },
      "outputs": [],
      "source": [
        "MOD = 10**9 + 7\n",
        "\n",
        "class Solution:\n",
        "    def lengthAfterTransformations(self, s: str, t: int, nums: list[int]) -> int:\n",
        "        T = self.getTransformationMatrix(nums)\n",
        "        poweredT = self.matrixPow(T, t)\n",
        "\n",
        "        count = [0] * 26\n",
        "        lengths = [0] * 26\n",
        "\n",
        "        for c in s:\n",
        "            count[ord(c) - ord('a')] += 1\n",
        "\n",
        "        for i in range(26):\n",
        "            for j in range(26):\n",
        "                lengths[j] = (lengths[j] + count[i] * poweredT[i][j]) % MOD\n",
        "\n",
        "        return sum(lengths) % MOD\n",
        "\n",
        "    def getTransformationMatrix(self, nums):\n",
        "        T = [[0] * 26 for _ in range(26)]\n",
        "        for i in range(len(nums)):\n",
        "            for step in range(1, nums[i] + 1):\n",
        "                T[i][(i + step) % 26] += 1\n",
        "        return T\n",
        "\n",
        "    def getIdentityMatrix(self, size):\n",
        "        I = [[0] * size for _ in range(size)]\n",
        "        for i in range(size):\n",
        "            I[i][i] = 1\n",
        "        return I\n",
        "\n",
        "    def matrixMult(self, A, B):\n",
        "        size = len(A)\n",
        "        C = [[0] * size for _ in range(size)]\n",
        "        for i in range(size):\n",
        "            for j in range(size):\n",
        "                for k in range(size):\n",
        "                    C[i][j] = (C[i][j] + A[i][k] * B[k][j]) % MOD\n",
        "        return C\n",
        "\n",
        "    def matrixPow(self, M, n):\n",
        "        if n == 0:\n",
        "            return self.getIdentityMatrix(len(M))\n",
        "        if n % 2 == 1:\n",
        "            return self.matrixMult(M, self.matrixPow(M, n - 1))\n",
        "        half = self.matrixPow(M, n // 2)\n",
        "        return self.matrixMult(half, half)"
      ]
    }
  ]
}