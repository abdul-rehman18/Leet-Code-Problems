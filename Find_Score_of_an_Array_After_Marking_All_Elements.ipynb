{
  "nbformat": 4,
  "nbformat_minor": 0,
  "metadata": {
    "colab": {
      "provenance": []
    },
    "kernelspec": {
      "name": "python3",
      "display_name": "Python 3"
    },
    "language_info": {
      "name": "python"
    }
  },
  "cells": [
    {
      "cell_type": "markdown",
      "source": [
        "# LeetCode Problem:  Find Score of an Array After Marking All Elements"
      ],
      "metadata": {
        "id": "PaGeIx12GA65"
      }
    },
    {
      "cell_type": "code",
      "execution_count": 1,
      "metadata": {
        "colab": {
          "base_uri": "https://localhost:8080/"
        },
        "id": "uNi4_HOzFleP",
        "outputId": "ea1d961a-1617-496d-9639-138ee54af033"
      },
      "outputs": [
        {
          "output_type": "stream",
          "name": "stdout",
          "text": [
            "7\n"
          ]
        }
      ],
      "source": [
        "def findScore(nums):\n",
        "        n = len(nums)\n",
        "        sorted_nums = sorted((num, idx) for idx, num in enumerate(nums))\n",
        "        score = 0\n",
        "        for num, idx in sorted_nums:\n",
        "            if nums[idx] != -1:  # Process only if not already marked\n",
        "                score += num\n",
        "                nums[idx] = -1  # Mark current index\n",
        "                if idx > 0:\n",
        "                    nums[idx - 1] = -1  # Mark left neighbor\n",
        "                if idx < n - 1:\n",
        "                    nums[idx + 1] = -1  # Mark right neighbor\n",
        "\n",
        "        return score\n",
        "\n",
        "nums = [2,1,3,4,5,2]\n",
        "print(findScore(nums))\n",
        "\n"
      ]
    },
    {
      "cell_type": "code",
      "source": [],
      "metadata": {
        "id": "wND8uhSoGuk6"
      },
      "execution_count": null,
      "outputs": []
    }
  ]
}