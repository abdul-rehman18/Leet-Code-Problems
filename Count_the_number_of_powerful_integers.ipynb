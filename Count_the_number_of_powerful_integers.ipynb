{
  "nbformat": 4,
  "nbformat_minor": 0,
  "metadata": {
    "colab": {
      "provenance": []
    },
    "kernelspec": {
      "name": "python3",
      "display_name": "Python 3"
    },
    "language_info": {
      "name": "python"
    }
  },
  "cells": [
    {
      "cell_type": "markdown",
      "source": [
        "# LeetCode Problem: Count the number of powerful integers"
      ],
      "metadata": {
        "id": "trzaK1KIFKW_"
      }
    },
    {
      "cell_type": "code",
      "execution_count": null,
      "metadata": {
        "id": "D36SkoaIEcL1"
      },
      "outputs": [],
      "source": [
        "class Solution:\n",
        "    def numberOfPowerfulInt(self, start: int, finish: int, limit: int, s: str) -> int:\n",
        "        def count(val: int) -> int:\n",
        "            chakra = str(val)  # Chakra flow string\n",
        "            n = len(chakra) - len(s)  # How much room left for chakra prefix\n",
        "\n",
        "            if n < 0:\n",
        "                return 0  # Not enough space to include suffix\n",
        "\n",
        "            # dp[i][tight] = number of valid chakra flows from index i\n",
        "            dp = [[0] * 2 for _ in range(n + 1)]\n",
        "\n",
        "            # Base case: formed entire prefix, check suffix compatibility\n",
        "            dp[n][0] = 1\n",
        "            dp[n][1] = int(chakra[n:] >= s)\n",
        "\n",
        "            # Fill DP table from back to front\n",
        "            for i in range(n - 1, -1, -1):\n",
        "                digit = int(chakra[i])\n",
        "\n",
        "                # Not tight → any digit from 0 to limit\n",
        "                dp[i][0] = (limit + 1) * dp[i + 1][0]\n",
        "\n",
        "                # Tight case → we must respect current digit\n",
        "                if digit <= limit:\n",
        "                    dp[i][1] = digit * dp[i + 1][0] + dp[i + 1][1]\n",
        "                else:\n",
        "                    dp[i][1] = (limit + 1) * dp[i + 1][0]\n",
        "\n",
        "            return dp[0][1]\n",
        "\n",
        "        return count(finish) - count(start - 1)"
      ]
    }
  ]
}