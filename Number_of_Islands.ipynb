{
  "nbformat": 4,
  "nbformat_minor": 0,
  "metadata": {
    "colab": {
      "provenance": []
    },
    "kernelspec": {
      "name": "python3",
      "display_name": "Python 3"
    },
    "language_info": {
      "name": "python"
    }
  },
  "cells": [
    {
      "cell_type": "markdown",
      "source": [
        "# LeetCode Problem: Number of Islands"
      ],
      "metadata": {
        "id": "LPdGJq-76BkN"
      }
    },
    {
      "cell_type": "code",
      "execution_count": 1,
      "metadata": {
        "colab": {
          "base_uri": "https://localhost:8080/"
        },
        "id": "LPkWUDpd5sNi",
        "outputId": "13761376-704e-43af-a5da-e6ef0a2cdcfc"
      },
      "outputs": [
        {
          "output_type": "stream",
          "name": "stdout",
          "text": [
            "1\n"
          ]
        }
      ],
      "source": [
        "def numIslands(grid):\n",
        "        if not grid:\n",
        "            return 0\n",
        "\n",
        "        def dfs(i, j):\n",
        "            if i < 0 or i >= len(grid) or j < 0 or j >= len(grid[0]) or grid[i][j] != '1':\n",
        "                return\n",
        "            grid[i][j] = '0'  # mark as visited\n",
        "            dfs(i+1, j)\n",
        "            dfs(i-1, j)\n",
        "            dfs(i, j+1)\n",
        "            dfs(i, j-1)\n",
        "\n",
        "        num_islands = 0\n",
        "        for i in range(len(grid)):\n",
        "            for j in range(len(grid[0])):\n",
        "                if grid[i][j] == '1':\n",
        "                    num_islands += 1\n",
        "                    dfs(i, j)\n",
        "\n",
        "        return num_islands\n",
        "\n",
        "\n",
        "\n",
        "grid = [\n",
        "  [\"1\",\"1\",\"1\",\"1\",\"0\"],\n",
        "  [\"1\",\"1\",\"0\",\"1\",\"0\"],\n",
        "  [\"1\",\"1\",\"0\",\"0\",\"0\"],\n",
        "  [\"0\",\"0\",\"0\",\"0\",\"0\"]\n",
        "]\n",
        "print(numIslands(grid))"
      ]
    },
    {
      "cell_type": "code",
      "source": [],
      "metadata": {
        "id": "mYu26Bhx6SVJ"
      },
      "execution_count": null,
      "outputs": []
    }
  ]
}