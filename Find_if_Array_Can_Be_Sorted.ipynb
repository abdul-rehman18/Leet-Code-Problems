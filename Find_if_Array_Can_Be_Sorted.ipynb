{
  "nbformat": 4,
  "nbformat_minor": 0,
  "metadata": {
    "colab": {
      "provenance": []
    },
    "kernelspec": {
      "name": "python3",
      "display_name": "Python 3"
    },
    "language_info": {
      "name": "python"
    }
  },
  "cells": [
    {
      "cell_type": "markdown",
      "source": [
        "# LeetCode Problem: Find if Array Can Be Sorted"
      ],
      "metadata": {
        "id": "KCyPdIAWuM6K"
      }
    },
    {
      "cell_type": "code",
      "execution_count": 1,
      "metadata": {
        "colab": {
          "base_uri": "https://localhost:8080/"
        },
        "id": "uDbTV-24tyvP",
        "outputId": "e373dc4b-d1fb-4e13-8546-a5a9771e3052"
      },
      "outputs": [
        {
          "output_type": "stream",
          "name": "stdout",
          "text": [
            "True\n"
          ]
        }
      ],
      "source": [
        "def canSortArray(nums):\n",
        "        prevMax, currMin, currMax=0, 0, 0\n",
        "        prevBit=-1\n",
        "        for  x in nums:\n",
        "            b=x.bit_count()\n",
        "            if prevBit!=b:\n",
        "                if currMin<prevMax: return False\n",
        "                prevMax=currMax\n",
        "                currMin, currMax=x, x\n",
        "                prevBit=b\n",
        "            else:\n",
        "                currMin=min(currMin, x)\n",
        "                currMax=max(currMax, x)\n",
        "        return currMin>=prevMax\n",
        "\n",
        "\n",
        "nums = [8,4,2,30,15]\n",
        "print(canSortArray(nums))"
      ]
    },
    {
      "cell_type": "code",
      "source": [],
      "metadata": {
        "id": "NzCZPPRuvBDZ"
      },
      "execution_count": null,
      "outputs": []
    }
  ]
}