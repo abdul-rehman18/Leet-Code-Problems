{
  "nbformat": 4,
  "nbformat_minor": 0,
  "metadata": {
    "colab": {
      "provenance": []
    },
    "kernelspec": {
      "name": "python3",
      "display_name": "Python 3"
    },
    "language_info": {
      "name": "python"
    }
  },
  "cells": [
    {
      "cell_type": "markdown",
      "source": [
        "# LeetCode Problem: Sort an Array"
      ],
      "metadata": {
        "id": "1zkvBC6Reugv"
      }
    },
    {
      "cell_type": "code",
      "execution_count": 1,
      "metadata": {
        "colab": {
          "base_uri": "https://localhost:8080/"
        },
        "id": "IYSyhsdXesuu",
        "outputId": "aeb90724-4e94-4980-e1b5-b979a0b1d89e"
      },
      "outputs": [
        {
          "output_type": "stream",
          "name": "stdout",
          "text": [
            "[1, 2, 3, 5]\n"
          ]
        }
      ],
      "source": [
        "class Solution:\n",
        "    def sortArray(self, nums):\n",
        "        self.mergeSort(nums, 0, len(nums) - 1)\n",
        "        return nums\n",
        "\n",
        "    def mergeSort(self, nums, left, right):\n",
        "        if left >= right:\n",
        "            return\n",
        "\n",
        "        mid = (left + right) // 2\n",
        "\n",
        "        self.mergeSort(nums, left, mid)\n",
        "        self.mergeSort(nums, mid + 1, right)\n",
        "\n",
        "        self.merge(nums, left, mid, right)\n",
        "\n",
        "    def merge(self, nums, left, mid, right):\n",
        "        n1 = mid - left + 1\n",
        "        n2 = right - mid\n",
        "\n",
        "        leftArray = nums[left:mid + 1]\n",
        "        rightArray = nums[mid + 1:right + 1]\n",
        "\n",
        "        i = j = 0\n",
        "        k = left\n",
        "\n",
        "        while i < n1 and j < n2:\n",
        "            if leftArray[i] <= rightArray[j]:\n",
        "                nums[k] = leftArray[i]\n",
        "                i += 1\n",
        "            else:\n",
        "                nums[k] = rightArray[j]\n",
        "                j += 1\n",
        "            k += 1\n",
        "\n",
        "        while i < n1:\n",
        "            nums[k] = leftArray[i]\n",
        "            i += 1\n",
        "            k += 1\n",
        "\n",
        "        while j < n2:\n",
        "            nums[k] = rightArray[j]\n",
        "            j += 1\n",
        "            k += 1\n",
        "\n",
        "def main():\n",
        "    solution = Solution()\n",
        "    nums = [5, 2, 3, 1]\n",
        "    sorted_nums = solution.sortArray(nums)\n",
        "    print(sorted_nums)\n",
        "\n",
        "if __name__ == \"__main__\":\n",
        "    main()"
      ]
    },
    {
      "cell_type": "code",
      "source": [],
      "metadata": {
        "id": "fG4GOHLWgm_n"
      },
      "execution_count": null,
      "outputs": []
    }
  ]
}