{
  "nbformat": 4,
  "nbformat_minor": 0,
  "metadata": {
    "colab": {
      "provenance": []
    },
    "kernelspec": {
      "name": "python3",
      "display_name": "Python 3"
    },
    "language_info": {
      "name": "python"
    }
  },
  "cells": [
    {
      "cell_type": "markdown",
      "source": [
        "# LeetCode Problem: String Compression III"
      ],
      "metadata": {
        "id": "m5eDstdteUqP"
      }
    },
    {
      "cell_type": "code",
      "execution_count": 1,
      "metadata": {
        "colab": {
          "base_uri": "https://localhost:8080/"
        },
        "id": "GPAy9uq4eCd8",
        "outputId": "015eb23f-7ba6-4282-fc46-334c89e40b3f"
      },
      "outputs": [
        {
          "output_type": "stream",
          "name": "stdout",
          "text": [
            "1a1b1c1d1e\n"
          ]
        }
      ],
      "source": [
        "def compressedString(word):\n",
        "        comp = \"\"\n",
        "        cnt, n = 1, len(word)\n",
        "        ch = word[0]\n",
        "        for i in range(1, n):\n",
        "            if word[i] == ch and cnt < 9:\n",
        "                cnt += 1\n",
        "            else:\n",
        "                comp += str(cnt) + ch\n",
        "                ch = word[i]\n",
        "                cnt = 1\n",
        "        comp += str(cnt) + ch\n",
        "        return comp\n",
        "\n",
        "\n",
        "word = \"abcde\"\n",
        "print(compressedString(word))"
      ]
    },
    {
      "cell_type": "code",
      "source": [],
      "metadata": {
        "id": "dKw7er1beiFs"
      },
      "execution_count": null,
      "outputs": []
    }
  ]
}