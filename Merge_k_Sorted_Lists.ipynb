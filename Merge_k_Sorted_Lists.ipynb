{
  "nbformat": 4,
  "nbformat_minor": 0,
  "metadata": {
    "colab": {
      "provenance": []
    },
    "kernelspec": {
      "name": "python3",
      "display_name": "Python 3"
    },
    "language_info": {
      "name": "python"
    }
  },
  "cells": [
    {
      "cell_type": "markdown",
      "source": [
        "# LeetCode Problem: Merge k Sorted Lists"
      ],
      "metadata": {
        "id": "1DKiKnrWnb_I"
      }
    },
    {
      "cell_type": "code",
      "execution_count": 4,
      "metadata": {
        "colab": {
          "base_uri": "https://localhost:8080/"
        },
        "id": "RFE2af8tmeN-",
        "outputId": "03e6a05f-daba-4c4f-c3b4-e4815e702566"
      },
      "outputs": [
        {
          "output_type": "stream",
          "name": "stdout",
          "text": [
            "1 -> 1 -> 2 -> 3 -> 4 -> 4 -> 5 -> 6 -> None\n"
          ]
        }
      ],
      "source": [
        "import heapq\n",
        "class ListNode:\n",
        "    def __init__(self, val=0, next=None):\n",
        "        self.val = val\n",
        "        self.next = next\n",
        "\n",
        "class Solution:\n",
        "    def mergeKLists(self, lists):\n",
        "        head = ListNode(None)\n",
        "        curr = head\n",
        "        h = []\n",
        "        for i in range(len(lists)):\n",
        "            if lists[i]:\n",
        "                heapq.heappush(h, (lists[i].val, i))\n",
        "                lists[i] = lists[i].next\n",
        "        while h:\n",
        "            val, i = heapq.heappop(h)\n",
        "            curr.next = ListNode(val)\n",
        "            curr = curr.next\n",
        "            if lists[i]:\n",
        "                heapq.heappush(h, (lists[i].val, i))\n",
        "                lists[i] = lists[i].next\n",
        "        return head.next\n",
        "\n",
        "def create_linked_list(arr):\n",
        "    dummy = ListNode(0)\n",
        "    curr = dummy\n",
        "    for val in arr:\n",
        "        curr.next = ListNode(val)\n",
        "        curr = curr.next\n",
        "    return dummy.next\n",
        "\n",
        "def print_linked_list(head):\n",
        "    curr = head\n",
        "    while curr:\n",
        "        print(curr.val, end=\" -> \")\n",
        "        curr = curr.next\n",
        "    print(\"None\")\n",
        "\n",
        "def main():\n",
        "    # Example usage\n",
        "    list1 = create_linked_list([1, 4, 5])\n",
        "    list2 = create_linked_list([1, 3, 4])\n",
        "    list3 = create_linked_list([2, 6])\n",
        "\n",
        "    lists = [list1, list2, list3]\n",
        "\n",
        "    solution = Solution()\n",
        "    merged_list = solution.mergeKLists(lists)\n",
        "    print_linked_list(merged_list)\n",
        "\n",
        "if __name__ == \"__main__\":\n",
        "    main()\n"
      ]
    },
    {
      "cell_type": "code",
      "source": [],
      "metadata": {
        "id": "W9-EI2KwrwX4"
      },
      "execution_count": null,
      "outputs": []
    }
  ]
}