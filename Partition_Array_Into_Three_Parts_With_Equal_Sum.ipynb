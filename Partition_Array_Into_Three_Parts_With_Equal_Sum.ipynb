{
  "nbformat": 4,
  "nbformat_minor": 0,
  "metadata": {
    "colab": {
      "provenance": []
    },
    "kernelspec": {
      "name": "python3",
      "display_name": "Python 3"
    },
    "language_info": {
      "name": "python"
    }
  },
  "cells": [
    {
      "cell_type": "markdown",
      "source": [
        "# LeetCode Problem: Partition Array Into Three Parts With Equal Sum"
      ],
      "metadata": {
        "id": "z1lhTPLT4DMA"
      }
    },
    {
      "cell_type": "code",
      "execution_count": 3,
      "metadata": {
        "colab": {
          "base_uri": "https://localhost:8080/"
        },
        "id": "zEbV2k_j3wk3",
        "outputId": "569de139-a88b-4299-e87f-27b9fb37df89"
      },
      "outputs": [
        {
          "output_type": "stream",
          "name": "stdout",
          "text": [
            "True\n"
          ]
        }
      ],
      "source": [
        "def canThreePartsEqualSum(A):\n",
        "    \tS = sum(A)\n",
        "    \tif S % 3 != 0: return False\n",
        "    \tg, C, p = S//3, 0, 0\n",
        "    \tfor a in A[:-1]:\n",
        "    \t\tC += a\n",
        "    \t\tif C == g:\n",
        "    \t\t\tif p == 1: return True\n",
        "    \t\t\tC, p = 0, 1\n",
        "    \treturn False\n",
        "\n",
        "\n",
        "arr = [0,2,1,-6,6,-7,9,1,2,0,1]\n",
        "print(canThreePartsEqualSum(arr))"
      ]
    },
    {
      "cell_type": "code",
      "source": [],
      "metadata": {
        "id": "9fu4BaP-39A0"
      },
      "execution_count": null,
      "outputs": []
    }
  ]
}