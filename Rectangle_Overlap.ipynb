{
  "nbformat": 4,
  "nbformat_minor": 0,
  "metadata": {
    "colab": {
      "provenance": []
    },
    "kernelspec": {
      "name": "python3",
      "display_name": "Python 3"
    },
    "language_info": {
      "name": "python"
    }
  },
  "cells": [
    {
      "cell_type": "markdown",
      "source": [
        "# LeetCode Problem: Rectangle Overlap"
      ],
      "metadata": {
        "id": "8nxVyWEhOXHY"
      }
    },
    {
      "cell_type": "code",
      "execution_count": 1,
      "metadata": {
        "colab": {
          "base_uri": "https://localhost:8080/"
        },
        "id": "thKS-AOIN8bs",
        "outputId": "1074e3d2-22e1-43f5-e1a8-03dea98726cc"
      },
      "outputs": [
        {
          "output_type": "stream",
          "name": "stdout",
          "text": [
            "True\n"
          ]
        }
      ],
      "source": [
        "def isRectangleOverlap(rec1, rec2):\n",
        "        return max(rec1[0], rec2[0]) < min(rec1[2], rec2[2]) and max(rec1[1], rec2[1]) < min(rec1[3], rec2[3])\n",
        "\n",
        "\n",
        "rec1 = [0,0,2,2]\n",
        "rec2 = [1,1,3,3]\n",
        "print(isRectangleOverlap(rec1, rec2))"
      ]
    },
    {
      "cell_type": "code",
      "source": [],
      "metadata": {
        "id": "gTR5wHvWOr7d"
      },
      "execution_count": null,
      "outputs": []
    }
  ]
}