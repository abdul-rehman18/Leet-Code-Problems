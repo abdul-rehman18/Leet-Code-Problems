{
  "nbformat": 4,
  "nbformat_minor": 0,
  "metadata": {
    "colab": {
      "provenance": []
    },
    "kernelspec": {
      "name": "python3",
      "display_name": "Python 3"
    },
    "language_info": {
      "name": "python"
    }
  },
  "cells": [
    {
      "cell_type": "markdown",
      "source": [
        "# LeetCode Problem: Cells with Odd Values in a Matrix"
      ],
      "metadata": {
        "id": "oFQ2wVKiULvG"
      }
    },
    {
      "cell_type": "code",
      "execution_count": 2,
      "metadata": {
        "colab": {
          "base_uri": "https://localhost:8080/"
        },
        "id": "ZIyCWpsoTuil",
        "outputId": "039310c3-42a9-4576-83fe-3430a028072e"
      },
      "outputs": [
        {
          "output_type": "stream",
          "name": "stdout",
          "text": [
            "6\n"
          ]
        }
      ],
      "source": [
        "def oddCells(m, n, indices):\n",
        "        mat = [[0] * n for _ in range(m)]\n",
        "        for ri, ci in indices:\n",
        "            for j in range(n):\n",
        "                mat[ri][j] += 1\n",
        "            for i in range(m):\n",
        "                mat[i][ci] += 1\n",
        "        odd_count = sum(1 for row in mat for cell in row if cell % 2 != 0)\n",
        "        return odd_count\n",
        "\n",
        "m = 2\n",
        "n = 3\n",
        "indices = [[0,1],[1,1]]\n",
        "\n",
        "print(oddCells(m, n, indices))"
      ]
    },
    {
      "cell_type": "code",
      "source": [],
      "metadata": {
        "id": "-zyRQeeWU7B_"
      },
      "execution_count": null,
      "outputs": []
    }
  ]
}