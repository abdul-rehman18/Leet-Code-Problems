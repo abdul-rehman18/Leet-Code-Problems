{
 "cells": [
  {
   "cell_type": "markdown",
   "id": "918479e2",
   "metadata": {},
   "source": [
    "# LeetCode Problem: Longest Common Prefix"
   ]
  },
  {
   "cell_type": "code",
   "execution_count": null,
   "id": "15ba5ef0",
   "metadata": {},
   "outputs": [],
   "source": [
    "def longestCommonPrefix(strs):\n",
    "    res=\"\"\n",
    "    strs = sorted(strs)\n",
    "    first=strs[0]\n",
    "    last = strs[-1]\n",
    "    for i in range(min(len(first),len(last))):\n",
    "        if first[i]!=last[i]:\n",
    "            return res\n",
    "        res+=first[i]\n",
    "    return\n",
    "        \n",
    "        \n",
    "strs = [\"flower\",\"flow\",\"flight\"]\n",
    "longestCommonPrefix(strs)"
   ]
  }
 ],
 "metadata": {
  "kernelspec": {
   "display_name": "Python 3 (ipykernel)",
   "language": "python",
   "name": "python3"
  },
  "language_info": {
   "codemirror_mode": {
    "name": "ipython",
    "version": 3
   },
   "file_extension": ".py",
   "mimetype": "text/x-python",
   "name": "python",
   "nbconvert_exporter": "python",
   "pygments_lexer": "ipython3",
   "version": "3.10.9"
  }
 },
 "nbformat": 4,
 "nbformat_minor": 5
}
