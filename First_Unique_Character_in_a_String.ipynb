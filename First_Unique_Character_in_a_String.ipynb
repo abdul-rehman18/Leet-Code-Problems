{
  "nbformat": 4,
  "nbformat_minor": 0,
  "metadata": {
    "colab": {
      "provenance": []
    },
    "kernelspec": {
      "name": "python3",
      "display_name": "Python 3"
    },
    "language_info": {
      "name": "python"
    }
  },
  "cells": [
    {
      "cell_type": "markdown",
      "source": [
        "# LeetCode Problem: First Unique Character in a String"
      ],
      "metadata": {
        "id": "ymOfh1Bru_lS"
      }
    },
    {
      "cell_type": "code",
      "execution_count": 1,
      "metadata": {
        "colab": {
          "base_uri": "https://localhost:8080/"
        },
        "id": "vUgidlGuu2rJ",
        "outputId": "f23bc98c-79cc-4909-9efc-ae7346c82b97"
      },
      "outputs": [
        {
          "output_type": "stream",
          "name": "stdout",
          "text": [
            "0\n"
          ]
        }
      ],
      "source": [
        "from collections import Counter\n",
        "\n",
        "class Solution:\n",
        "    def firstUniqChar(self,s):\n",
        "        char_count = Counter(s)\n",
        "\n",
        "        for i, char in enumerate(s):\n",
        "            if char_count[char] == 1:\n",
        "                return i\n",
        "\n",
        "        return -1\n",
        "\n",
        "if __name__ == \"__main__\":\n",
        "    solution = Solution()\n",
        "\n",
        "    input_str = \"leetcode\"\n",
        "    result = solution.firstUniqChar(input_str)\n",
        "\n",
        "    print(result)\n",
        "\n"
      ]
    },
    {
      "cell_type": "code",
      "source": [],
      "metadata": {
        "id": "n9guNFbhvS5e"
      },
      "execution_count": null,
      "outputs": []
    }
  ]
}