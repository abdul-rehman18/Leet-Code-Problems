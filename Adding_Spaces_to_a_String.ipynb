{
  "nbformat": 4,
  "nbformat_minor": 0,
  "metadata": {
    "colab": {
      "provenance": []
    },
    "kernelspec": {
      "name": "python3",
      "display_name": "Python 3"
    },
    "language_info": {
      "name": "python"
    }
  },
  "cells": [
    {
      "cell_type": "markdown",
      "source": [
        "# LeetCode Problem: Adding Spaces to a String"
      ],
      "metadata": {
        "id": "pnrTr6uIK3Ae"
      }
    },
    {
      "cell_type": "code",
      "execution_count": 4,
      "metadata": {
        "colab": {
          "base_uri": "https://localhost:8080/"
        },
        "id": "4pldGTbRKtLq",
        "outputId": "bcbf714e-718d-41d7-a64f-80fd95e4e97c"
      },
      "outputs": [
        {
          "output_type": "stream",
          "name": "stdout",
          "text": [
            "Leetcode Helps Me Learn\n"
          ]
        }
      ],
      "source": [
        "def addSpaces(s, spaces):\n",
        "        r = \"\"\n",
        "        for i in range(len(s)):\n",
        "            if i in spaces:\n",
        "                r += \" \"\n",
        "            r += s[i]\n",
        "        return r\n",
        "\n",
        "s = \"LeetcodeHelpsMeLearn\"\n",
        "spaces = [8,13,15]\n",
        "\n",
        "print(addSpaces(s,spaces))\n"
      ]
    },
    {
      "cell_type": "code",
      "source": [],
      "metadata": {
        "id": "rDZAJ8prOb_w"
      },
      "execution_count": null,
      "outputs": []
    }
  ]
}