{
  "nbformat": 4,
  "nbformat_minor": 0,
  "metadata": {
    "colab": {
      "provenance": []
    },
    "kernelspec": {
      "name": "python3",
      "display_name": "Python 3"
    },
    "language_info": {
      "name": "python"
    }
  },
  "cells": [
    {
      "cell_type": "markdown",
      "source": [
        "# LeetCode Problem: Add One Row to Tree"
      ],
      "metadata": {
        "id": "CqN2dwFG5wO_"
      }
    },
    {
      "cell_type": "code",
      "execution_count": 1,
      "metadata": {
        "colab": {
          "base_uri": "https://localhost:8080/"
        },
        "id": "_kx2hDxr4YNO",
        "outputId": "63a90e2f-5ea1-42f4-9f20-b3f131d7f39e"
      },
      "outputs": [
        {
          "output_type": "stream",
          "name": "stdout",
          "text": [
            "        -> 3\n",
            "    -> 4\n",
            "-> 1\n",
            "    -> 4\n",
            "        -> 2\n"
          ]
        }
      ],
      "source": [
        "class TreeNode:\n",
        "    def __init__(self, val=0, left=None, right=None):\n",
        "        self.val = val\n",
        "        self.left = left\n",
        "        self.right = right\n",
        "\n",
        "class Solution:\n",
        "    def addOneRow(self, root: TreeNode, val: int, depth: int) -> TreeNode:\n",
        "        def dfs(node, current_depth):\n",
        "            if node is None:\n",
        "                return\n",
        "            if current_depth == depth - 1:\n",
        "                node.left = TreeNode(val, node.left, None)\n",
        "                node.right = TreeNode(val, None, node.right)\n",
        "            else:\n",
        "                dfs(node.left, current_depth + 1)\n",
        "                dfs(node.right, current_depth + 1)\n",
        "\n",
        "        if depth == 1:\n",
        "            return TreeNode(val, root, None)\n",
        "\n",
        "        dfs(root, 1)\n",
        "        return root\n",
        "\n",
        "def print_tree(node, level=0):\n",
        "    if node is not None:\n",
        "        print_tree(node.right, level + 1)\n",
        "        print(' ' * 4 * level + '->', node.val)\n",
        "        print_tree(node.left, level + 1)\n",
        "\n",
        "# Example tree:\n",
        "#       1\n",
        "#      / \\\n",
        "#     2   3\n",
        "root = TreeNode(1, TreeNode(2), TreeNode(3))\n",
        "\n",
        "# Solution instance\n",
        "sol = Solution()\n",
        "\n",
        "# Adding a row of 4s at depth 2\n",
        "new_root = sol.addOneRow(root, 4, 2)\n",
        "\n",
        "# Print the modified tree\n",
        "print_tree(new_root)\n"
      ]
    },
    {
      "cell_type": "code",
      "source": [],
      "metadata": {
        "id": "0QhtKwBG5i7u"
      },
      "execution_count": null,
      "outputs": []
    }
  ]
}