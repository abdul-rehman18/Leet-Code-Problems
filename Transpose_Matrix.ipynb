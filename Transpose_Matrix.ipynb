{
  "nbformat": 4,
  "nbformat_minor": 0,
  "metadata": {
    "colab": {
      "provenance": []
    },
    "kernelspec": {
      "name": "python3",
      "display_name": "Python 3"
    },
    "language_info": {
      "name": "python"
    }
  },
  "cells": [
    {
      "cell_type": "markdown",
      "source": [
        "# LeetCode Problem: Transpose Matrix"
      ],
      "metadata": {
        "id": "MPznW5rPHs84"
      }
    },
    {
      "cell_type": "code",
      "execution_count": 1,
      "metadata": {
        "colab": {
          "base_uri": "https://localhost:8080/"
        },
        "id": "bBsZ-fpYG-Th",
        "outputId": "e8ccbf18-ff6d-4deb-eaf8-e8884c630094"
      },
      "outputs": [
        {
          "output_type": "stream",
          "name": "stdout",
          "text": [
            "[[1, 4, 7], [2, 5, 8], [3, 6, 9]]\n"
          ]
        }
      ],
      "source": [
        "def transpose(matrix):\n",
        "        res = []\n",
        "        for c in range(len(matrix[0])):\n",
        "            temp = []\n",
        "            for r in range(len(matrix)):\n",
        "                temp.append(matrix[r][c])\n",
        "            res.append(temp)\n",
        "        return res\n",
        "\n",
        "matrix = [[1,2,3],[4,5,6],[7,8,9]]\n",
        "print(transpose(matrix))"
      ]
    },
    {
      "cell_type": "code",
      "source": [],
      "metadata": {
        "id": "bacI2vKRHjmT"
      },
      "execution_count": null,
      "outputs": []
    }
  ]
}