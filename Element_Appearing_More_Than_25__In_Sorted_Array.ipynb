{
  "nbformat": 4,
  "nbformat_minor": 0,
  "metadata": {
    "colab": {
      "provenance": []
    },
    "kernelspec": {
      "name": "python3",
      "display_name": "Python 3"
    },
    "language_info": {
      "name": "python"
    }
  },
  "cells": [
    {
      "cell_type": "markdown",
      "source": [
        "# leetCode Problem:Element Appearing More Than 25% In Sorted Array"
      ],
      "metadata": {
        "id": "Id0UHBIQlLKJ"
      }
    },
    {
      "cell_type": "code",
      "execution_count": null,
      "metadata": {
        "id": "9oPSob4vkiJ_"
      },
      "outputs": [],
      "source": [
        "class Solution:\n",
        "    def findSpecialInteger(self, arr: List[int]) -> int:\n",
        "        n = len(arr)\n",
        "        quarter = n // 4\n",
        "\n",
        "        for i in range(n - quarter):\n",
        "            if arr[i] == arr[i + quarter]:\n",
        "                return arr[i]"
      ]
    }
  ]
}