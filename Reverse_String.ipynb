{
  "nbformat": 4,
  "nbformat_minor": 0,
  "metadata": {
    "colab": {
      "provenance": []
    },
    "kernelspec": {
      "name": "python3",
      "display_name": "Python 3"
    },
    "language_info": {
      "name": "python"
    }
  },
  "cells": [
    {
      "cell_type": "markdown",
      "source": [
        "# LeetCode Problem: Reverse String"
      ],
      "metadata": {
        "id": "7AxaJ1bd1xIR"
      }
    },
    {
      "cell_type": "code",
      "execution_count": 1,
      "metadata": {
        "colab": {
          "base_uri": "https://localhost:8080/"
        },
        "id": "gCOgVkCP05I8",
        "outputId": "fd067469-db97-4f63-fa46-582601b5df70"
      },
      "outputs": [
        {
          "output_type": "stream",
          "name": "stdout",
          "text": [
            "['o', 'l', 'l', 'e', 'h']\n"
          ]
        }
      ],
      "source": [
        "def reverseString(s):\n",
        "        \"\"\"\n",
        "        Do not return anything, modify s in-place instead.\n",
        "        \"\"\"\n",
        "        s[:] = s[::-1]\n",
        "\n",
        "        print(s)\n",
        "\n",
        "s = [\"h\",\"e\",\"l\",\"l\",\"o\"]\n",
        "reverseString(s)"
      ]
    },
    {
      "cell_type": "code",
      "source": [],
      "metadata": {
        "id": "nQ2I6wf52KkW"
      },
      "execution_count": null,
      "outputs": []
    }
  ]
}