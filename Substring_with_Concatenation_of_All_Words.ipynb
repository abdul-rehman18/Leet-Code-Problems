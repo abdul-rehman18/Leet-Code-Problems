{
  "nbformat": 4,
  "nbformat_minor": 0,
  "metadata": {
    "colab": {
      "provenance": []
    },
    "kernelspec": {
      "name": "python3",
      "display_name": "Python 3"
    },
    "language_info": {
      "name": "python"
    }
  },
  "cells": [
    {
      "cell_type": "markdown",
      "source": [
        "# LeetCode Problem: Substring with Concatenation of All Words"
      ],
      "metadata": {
        "id": "mnyy-Hy0ciS0"
      }
    },
    {
      "cell_type": "code",
      "execution_count": 2,
      "metadata": {
        "colab": {
          "base_uri": "https://localhost:8080/"
        },
        "id": "dJOk-xC-Xasp",
        "outputId": "8e0ebfde-dc2a-4f7a-aa34-ba01c2e8d9d6"
      },
      "outputs": [
        {
          "output_type": "stream",
          "name": "stdout",
          "text": [
            "[0, 9]\n"
          ]
        }
      ],
      "source": [
        "import collections\n",
        "def findSubstring(s, words):\n",
        "        wl = len(words[0])\n",
        "        sl = wl * len(words)\n",
        "        e = collections.Counter(words)\n",
        "        r = []\n",
        "        for i in range(wl):\n",
        "            wc = {w:0 for w in e.keys()}\n",
        "            for j in range(i,sl+i,wl):\n",
        "                w = s[j:j+wl]\n",
        "                if w in wc:\n",
        "                    wc[w] += 1\n",
        "            if wc == e:\n",
        "                r.append(i)\n",
        "            for st in range(i+wl,len(s)-sl+1,wl):\n",
        "                rw = s[st-wl:st]\n",
        "                aw = s[st+sl-wl:st+sl]\n",
        "                if rw in wc:\n",
        "                    wc[rw] -= 1\n",
        "                if aw in wc:\n",
        "                    wc[aw] += 1\n",
        "                if wc == e:\n",
        "                    r.append(st)\n",
        "        return r\n",
        "\n",
        "\n",
        "s = \"barfoothefoobarman\"\n",
        "words = [\"foo\",\"bar\"]\n",
        "print(findSubstring(s, words))"
      ]
    },
    {
      "cell_type": "code",
      "source": [],
      "metadata": {
        "id": "Dtd6p-LjcE-1"
      },
      "execution_count": null,
      "outputs": []
    }
  ]
}