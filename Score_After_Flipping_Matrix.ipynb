{
  "nbformat": 4,
  "nbformat_minor": 0,
  "metadata": {
    "colab": {
      "provenance": []
    },
    "kernelspec": {
      "name": "python3",
      "display_name": "Python 3"
    },
    "language_info": {
      "name": "python"
    }
  },
  "cells": [
    {
      "cell_type": "markdown",
      "source": [
        "# LeetCode Problem: Score After Flipping Matrix"
      ],
      "metadata": {
        "id": "tEt8I3cNn353"
      }
    },
    {
      "cell_type": "code",
      "execution_count": 1,
      "metadata": {
        "colab": {
          "base_uri": "https://localhost:8080/"
        },
        "id": "HfmB-43Xn0Pg",
        "outputId": "c002d79e-ebd2-45af-da53-e40467df77a6"
      },
      "outputs": [
        {
          "output_type": "stream",
          "name": "stdout",
          "text": [
            "39\n"
          ]
        }
      ],
      "source": [
        "def matrixScore(grid):\n",
        "        n, m = len(grid), len(grid[0])\n",
        "        res = (1 << (m - 1)) * n\n",
        "\n",
        "        for j in range(1, m):\n",
        "            val = 1 << (m - 1 - j)\n",
        "            set_count = 0\n",
        "\n",
        "            for i in range(n):\n",
        "                if grid[i][j] == grid[i][0]:\n",
        "                    set_count += 1\n",
        "\n",
        "            res += max(set_count, n - set_count) * val\n",
        "\n",
        "        return res\n",
        "grid = [[0,0,1,1],[1,0,1,0],[1,1,0,0]]\n",
        "print(matrixScore(grid))"
      ]
    },
    {
      "cell_type": "code",
      "source": [],
      "metadata": {
        "id": "IZYPbvi8oKqu"
      },
      "execution_count": null,
      "outputs": []
    }
  ]
}