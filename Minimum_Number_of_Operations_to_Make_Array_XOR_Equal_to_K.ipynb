{
  "nbformat": 4,
  "nbformat_minor": 0,
  "metadata": {
    "colab": {
      "provenance": []
    },
    "kernelspec": {
      "name": "python3",
      "display_name": "Python 3"
    },
    "language_info": {
      "name": "python"
    }
  },
  "cells": [
    {
      "cell_type": "markdown",
      "source": [
        "# LeetCode Problem: Minimum Number of Operations to Make Array XOR Equal to K"
      ],
      "metadata": {
        "id": "UCnhiPx7YHvy"
      }
    },
    {
      "cell_type": "code",
      "execution_count": 1,
      "metadata": {
        "colab": {
          "base_uri": "https://localhost:8080/"
        },
        "id": "plxMa7XOXv_M",
        "outputId": "7b40a738-8a18-43a4-9c7d-76712ea550b2"
      },
      "outputs": [
        {
          "output_type": "stream",
          "name": "stdout",
          "text": [
            "2\n"
          ]
        }
      ],
      "source": [
        "def minOperations(nums, k):\n",
        "        final_xor = 0\n",
        "        # XOR of all integers in the array.\n",
        "        for n in nums:\n",
        "            final_xor = final_xor ^ n\n",
        "\n",
        "        count = 0\n",
        "        # Keep iterating until any of k or final_xor becomes zero.\n",
        "        while k or final_xor:\n",
        "            # k % 2 returns the rightmost bit in k,\n",
        "            # final_xor % 2 returns the rightmost bit in final_xor.\n",
        "            # Increment counter, if the bits don't match.\n",
        "            if (k % 2) != (final_xor % 2):\n",
        "                count += 1\n",
        "\n",
        "            # Remove the last bit from both integers.\n",
        "            k //= 2\n",
        "            final_xor //= 2\n",
        "\n",
        "        return count\n",
        "\n",
        "nums = [2,1,3,4]\n",
        "k = 1\n",
        "print(minOperations(nums, k))"
      ]
    },
    {
      "cell_type": "code",
      "source": [],
      "metadata": {
        "id": "wakE_MsrYiBt"
      },
      "execution_count": null,
      "outputs": []
    }
  ]
}