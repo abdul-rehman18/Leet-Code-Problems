{
  "nbformat": 4,
  "nbformat_minor": 0,
  "metadata": {
    "colab": {
      "provenance": []
    },
    "kernelspec": {
      "name": "python3",
      "display_name": "Python 3"
    },
    "language_info": {
      "name": "python"
    }
  },
  "cells": [
    {
      "cell_type": "markdown",
      "source": [
        "# LeetCode Problem: 3Sum Closest"
      ],
      "metadata": {
        "id": "YAUcuD5AcvDT"
      }
    },
    {
      "cell_type": "code",
      "execution_count": 1,
      "metadata": {
        "colab": {
          "base_uri": "https://localhost:8080/"
        },
        "id": "IERF4aLNcZF4",
        "outputId": "292529d0-08ce-4b0b-f2a5-11ce8ea881a3"
      },
      "outputs": [
        {
          "output_type": "stream",
          "name": "stdout",
          "text": [
            "2\n"
          ]
        }
      ],
      "source": [
        "def threeSumClosest(nums, target):\n",
        "        nums.sort()\n",
        "        closestSum = float('inf')\n",
        "        for i in range(len(nums) - 2):\n",
        "            left, right = i + 1, len(nums) - 1\n",
        "            while left < right:\n",
        "                currentSum = nums[i] + nums[left] + nums[right]\n",
        "                if abs(target - currentSum) < abs(target - closestSum):\n",
        "                    closestSum = currentSum\n",
        "                if currentSum < target:\n",
        "                    left += 1\n",
        "                elif currentSum > target:\n",
        "                    right -= 1\n",
        "                else:\n",
        "                    return target\n",
        "        return closestSum\n",
        "\n",
        "nums = [-1,2,1,-4]\n",
        "target = 1\n",
        "print(threeSumClosest(nums, target))"
      ]
    },
    {
      "cell_type": "code",
      "source": [],
      "metadata": {
        "id": "Loha4yFxeST9"
      },
      "execution_count": null,
      "outputs": []
    }
  ]
}