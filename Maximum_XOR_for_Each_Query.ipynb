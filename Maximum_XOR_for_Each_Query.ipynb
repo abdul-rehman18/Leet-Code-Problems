{
  "nbformat": 4,
  "nbformat_minor": 0,
  "metadata": {
    "colab": {
      "provenance": []
    },
    "kernelspec": {
      "name": "python3",
      "display_name": "Python 3"
    },
    "language_info": {
      "name": "python"
    }
  },
  "cells": [
    {
      "cell_type": "markdown",
      "source": [
        "# LeetCode Problem: Maximum XOR for Each Query"
      ],
      "metadata": {
        "id": "6Ai6DHGXBkeQ"
      }
    },
    {
      "cell_type": "code",
      "execution_count": 1,
      "metadata": {
        "colab": {
          "base_uri": "https://localhost:8080/"
        },
        "id": "kMNqxbLS9OUu",
        "outputId": "b022b0aa-eca7-45ac-fcc2-97cfb3505678"
      },
      "outputs": [
        {
          "output_type": "stream",
          "name": "stdout",
          "text": [
            "[0, 3, 2, 3]\n"
          ]
        }
      ],
      "source": [
        "def getMaximumXor(nums, maximumBit):\n",
        "        n = len(nums)\n",
        "        xorr = nums[0]\n",
        "        max_xor = (1 << maximumBit) - 1\n",
        "\n",
        "        for i in range(1, n):\n",
        "            xorr ^= nums[i]\n",
        "\n",
        "        ans = []\n",
        "        for i in range(n):\n",
        "            ans.append(xorr ^ max_xor)\n",
        "            xorr ^= nums[n - 1 - i]\n",
        "\n",
        "        return ans\n",
        "\n",
        "\n",
        "nums = [0,1,1,3]\n",
        "maximumBit = 2\n",
        "\n",
        "print(getMaximumXor(nums, maximumBit))"
      ]
    },
    {
      "cell_type": "code",
      "source": [],
      "metadata": {
        "id": "481LmYDACBrP"
      },
      "execution_count": null,
      "outputs": []
    }
  ]
}