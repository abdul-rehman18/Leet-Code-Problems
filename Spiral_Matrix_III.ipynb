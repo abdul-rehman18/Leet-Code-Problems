{
  "nbformat": 4,
  "nbformat_minor": 0,
  "metadata": {
    "colab": {
      "provenance": []
    },
    "kernelspec": {
      "name": "python3",
      "display_name": "Python 3"
    },
    "language_info": {
      "name": "python"
    }
  },
  "cells": [
    {
      "cell_type": "markdown",
      "source": [
        "# LeetCode Problem: Spiral Matrix III"
      ],
      "metadata": {
        "id": "cA_lNqa1uKXk"
      }
    },
    {
      "cell_type": "code",
      "execution_count": 1,
      "metadata": {
        "colab": {
          "base_uri": "https://localhost:8080/"
        },
        "id": "atch88kyuDc4",
        "outputId": "f38abad4-ca59-4759-f836-a70cabafd67d"
      },
      "outputs": [
        {
          "output_type": "stream",
          "name": "stdout",
          "text": [
            "[[0, 0], [0, 1], [0, 2], [0, 3]]\n"
          ]
        }
      ],
      "source": [
        "def spiralMatrixIII(rows, cols, rStart, cStart):\n",
        "        i,j = rStart, cStart\n",
        "        diri, dirj = 0, 1 # directions to move\n",
        "        twice = 2\n",
        "        res = []\n",
        "        moves = 1\n",
        "        next_moves = 2\n",
        "        while len(res) < (rows * cols):\n",
        "            if (-1 < i < rows) and ( -1 < j < cols):\n",
        "                res.append([i,j])\n",
        "            i += diri\n",
        "            j += dirj\n",
        "            moves -= 1\n",
        "            if moves == 0:\n",
        "                diri, dirj = dirj, -diri # 90 deg Clockwise\n",
        "                twice -= 1\n",
        "                if twice == 0:\n",
        "                    twice = 2\n",
        "                    moves = next_moves\n",
        "                    next_moves += 1\n",
        "                else:\n",
        "                    moves = next_moves - 1\n",
        "        return res\n",
        "\n",
        "rows = 1\n",
        "cols = 4\n",
        "rStart = 0\n",
        "cStart = 0\n",
        "\n",
        "print(spiralMatrixIII(rows, cols, rStart, cStart))"
      ]
    },
    {
      "cell_type": "code",
      "source": [],
      "metadata": {
        "id": "ut04A74Que07"
      },
      "execution_count": null,
      "outputs": []
    }
  ]
}