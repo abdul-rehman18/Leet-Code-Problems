{
  "nbformat": 4,
  "nbformat_minor": 0,
  "metadata": {
    "colab": {
      "provenance": []
    },
    "kernelspec": {
      "name": "python3",
      "display_name": "Python 3"
    },
    "language_info": {
      "name": "python"
    }
  },
  "cells": [
    {
      "cell_type": "markdown",
      "source": [
        "# leetCode Problem: Longest Subarray With Maximum Bitwise AND"
      ],
      "metadata": {
        "id": "VzzkPnx86ffn"
      }
    },
    {
      "cell_type": "code",
      "execution_count": 1,
      "metadata": {
        "colab": {
          "base_uri": "https://localhost:8080/"
        },
        "id": "tcHAHldl5UyW",
        "outputId": "90fe4af0-8df9-41dc-e6c7-321fb9c73380"
      },
      "outputs": [
        {
          "output_type": "stream",
          "name": "stdout",
          "text": [
            "2\n"
          ]
        }
      ],
      "source": [
        "def longestSubarray(nums):\n",
        "        n=len(nums)\n",
        "        maxLen, xMax, Len=0, 0, 0\n",
        "        i=0\n",
        "        while i<n:\n",
        "            while i<n and nums[i]==xMax:\n",
        "                i+=1\n",
        "                Len+=1\n",
        "            if i==n or nums[i]<xMax:\n",
        "                maxLen=max(maxLen, Len)\n",
        "                Len=0\n",
        "            else:\n",
        "                xMax=nums[i]\n",
        "                maxLen=Len=1\n",
        "            i+=1\n",
        "        return maxLen\n",
        "\n",
        "\n",
        "nums = [1,2,3,3,2,2]\n",
        "print(longestSubarray(nums))"
      ]
    },
    {
      "cell_type": "code",
      "source": [],
      "metadata": {
        "id": "ooajwENW66IB"
      },
      "execution_count": null,
      "outputs": []
    }
  ]
}