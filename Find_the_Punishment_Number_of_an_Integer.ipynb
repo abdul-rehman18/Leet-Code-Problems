{
  "nbformat": 4,
  "nbformat_minor": 0,
  "metadata": {
    "colab": {
      "provenance": []
    },
    "kernelspec": {
      "name": "python3",
      "display_name": "Python 3"
    },
    "language_info": {
      "name": "python"
    }
  },
  "cells": [
    {
      "cell_type": "markdown",
      "source": [
        "# LeetCode Problem : Find the Punishment Number of an Integer"
      ],
      "metadata": {
        "id": "QraQMbVY9Asq"
      }
    },
    {
      "cell_type": "code",
      "execution_count": 1,
      "metadata": {
        "colab": {
          "base_uri": "https://localhost:8080/"
        },
        "id": "XVSOIXjO87vU",
        "outputId": "72549694-a556-4e97-c2c8-5b89fb37bb2b"
      },
      "outputs": [
        {
          "output_type": "stream",
          "name": "stdout",
          "text": [
            "182\n"
          ]
        }
      ],
      "source": [
        "def punishmentNumber(n):\n",
        "        arr = [1,9,10,36,45,55,82,91,99,100,235,297,369,370,379,414,\n",
        "               657,675,703,756,792,909,918,945,964,990,991,999,1000]\n",
        "\n",
        "        total = 0\n",
        "        for num in arr:\n",
        "            if num <= n:\n",
        "                total += num * num\n",
        "            else:\n",
        "                break\n",
        "        return total\n",
        "\n",
        "\n",
        "n = 10\n",
        "print(punishmentNumber(n))"
      ]
    },
    {
      "cell_type": "code",
      "source": [],
      "metadata": {
        "id": "jC7qZHAh9c2a"
      },
      "execution_count": null,
      "outputs": []
    }
  ]
}