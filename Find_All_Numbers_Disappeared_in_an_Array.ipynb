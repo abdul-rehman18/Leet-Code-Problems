{
  "nbformat": 4,
  "nbformat_minor": 0,
  "metadata": {
    "colab": {
      "provenance": []
    },
    "kernelspec": {
      "name": "python3",
      "display_name": "Python 3"
    },
    "language_info": {
      "name": "python"
    }
  },
  "cells": [
    {
      "cell_type": "markdown",
      "source": [
        "# LeetCode Problem: Find All Numbers Disappeared in an Array"
      ],
      "metadata": {
        "id": "hxGeBRiHx03D"
      }
    },
    {
      "cell_type": "code",
      "execution_count": 3,
      "metadata": {
        "colab": {
          "base_uri": "https://localhost:8080/"
        },
        "id": "fKYyuX0Nxqxl",
        "outputId": "676f3e4b-56eb-4b37-92b5-352009377ec8"
      },
      "outputs": [
        {
          "output_type": "stream",
          "name": "stdout",
          "text": [
            "[2]\n"
          ]
        }
      ],
      "source": [
        "def findDisappearedNumbers(nums):\n",
        "        set_nums = set(nums)\n",
        "        n=[]\n",
        "        for i in range(1,len(nums)+1):\n",
        "            if i not in set_nums:\n",
        "                n.append(i)\n",
        "        return n\n",
        "\n",
        "# nums= [4,3,2,7,8,2,3,1]\n",
        "nums=[1,1]\n",
        "res = findDisappearedNumbers(nums)\n",
        "print(res)"
      ]
    },
    {
      "cell_type": "code",
      "source": [
        "# OR\n",
        "def findDisappearedNumbers(nums):\n",
        "        n=[i for i in range(1,len(nums)+1)]\n",
        "        return list(set(n)-set(nums))\n",
        "\n",
        "nums= [4,3,2,7,8,2,3,1]\n",
        "# nums=[1,1]\n",
        "res = findDisappearedNumbers(nums)\n",
        "print(res)"
      ],
      "metadata": {
        "colab": {
          "base_uri": "https://localhost:8080/"
        },
        "id": "HqCs5ZDYyGNo",
        "outputId": "2bea84a6-4426-4bbb-e061-96683906f0aa"
      },
      "execution_count": 6,
      "outputs": [
        {
          "output_type": "stream",
          "name": "stdout",
          "text": [
            "[5, 6]\n"
          ]
        }
      ]
    },
    {
      "cell_type": "code",
      "source": [],
      "metadata": {
        "id": "gvDXFnZ-zsJ-"
      },
      "execution_count": null,
      "outputs": []
    }
  ]
}