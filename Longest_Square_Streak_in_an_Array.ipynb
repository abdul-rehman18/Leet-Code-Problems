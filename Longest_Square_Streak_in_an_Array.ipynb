{
  "nbformat": 4,
  "nbformat_minor": 0,
  "metadata": {
    "colab": {
      "provenance": []
    },
    "kernelspec": {
      "name": "python3",
      "display_name": "Python 3"
    },
    "language_info": {
      "name": "python"
    }
  },
  "cells": [
    {
      "cell_type": "markdown",
      "source": [
        "# LeetCode Problem: Longest Square Streak in an Array"
      ],
      "metadata": {
        "id": "g0Vj18PyPPep"
      }
    },
    {
      "cell_type": "code",
      "execution_count": 2,
      "metadata": {
        "colab": {
          "base_uri": "https://localhost:8080/"
        },
        "id": "H8gEz-8BPLq7",
        "outputId": "8e152857-66e9-4877-d69d-28fc25b6414e"
      },
      "outputs": [
        {
          "output_type": "stream",
          "name": "stdout",
          "text": [
            "3\n"
          ]
        }
      ],
      "source": [
        "from math import isqrt\n",
        "def longestSquareStreak(nums):\n",
        "        mp = {}\n",
        "        nums.sort()\n",
        "        res = -1\n",
        "\n",
        "        for num in nums:\n",
        "            sqrt = isqrt(num)\n",
        "\n",
        "            if sqrt * sqrt == num and sqrt in mp:\n",
        "                mp[num] = mp[sqrt] + 1\n",
        "                res = max(res, mp[num])\n",
        "            else:\n",
        "                mp[num] = 1\n",
        "\n",
        "        return res\n",
        "\n",
        "nums = [4,3,6,16,8,2]\n",
        "\n",
        "print(longestSquareStreak(nums))"
      ]
    },
    {
      "cell_type": "code",
      "source": [],
      "metadata": {
        "id": "8ygVI6FUPeMk"
      },
      "execution_count": null,
      "outputs": []
    }
  ]
}