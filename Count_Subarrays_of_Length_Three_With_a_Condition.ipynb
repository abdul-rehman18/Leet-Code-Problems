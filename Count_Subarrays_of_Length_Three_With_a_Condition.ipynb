{
  "nbformat": 4,
  "nbformat_minor": 0,
  "metadata": {
    "colab": {
      "provenance": []
    },
    "kernelspec": {
      "name": "python3",
      "display_name": "Python 3"
    },
    "language_info": {
      "name": "python"
    }
  },
  "cells": [
    {
      "cell_type": "markdown",
      "source": [
        "# LeetCode Problem: Count Subarrays of Length Three With a Condition"
      ],
      "metadata": {
        "id": "YvmJQ6kDrd8o"
      }
    },
    {
      "cell_type": "code",
      "execution_count": null,
      "metadata": {
        "id": "ZTcNoJszpuYq"
      },
      "outputs": [],
      "source": [
        "class Solution:\n",
        "    def countSubarrays(self, nums: List[int]) -> int:\n",
        "        count = 0\n",
        "        for i in range(len(nums) - 2):\n",
        "            if (nums[i] + nums[i+2]) * 2 == nums[i+1]:\n",
        "                count += 1\n",
        "        return count"
      ]
    }
  ]
}