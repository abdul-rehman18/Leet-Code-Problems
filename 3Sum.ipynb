{
  "nbformat": 4,
  "nbformat_minor": 0,
  "metadata": {
    "colab": {
      "provenance": []
    },
    "kernelspec": {
      "name": "python3",
      "display_name": "Python 3"
    },
    "language_info": {
      "name": "python"
    }
  },
  "cells": [
    {
      "cell_type": "markdown",
      "source": [
        "# LeetCode Problem: 3Sum"
      ],
      "metadata": {
        "id": "IVsFYNRWxxWi"
      }
    },
    {
      "cell_type": "code",
      "execution_count": 1,
      "metadata": {
        "colab": {
          "base_uri": "https://localhost:8080/"
        },
        "id": "2lS7XanYxBVn",
        "outputId": "2cb5ee68-72bc-4b14-8e64-f4e0503392ee"
      },
      "outputs": [
        {
          "output_type": "stream",
          "name": "stdout",
          "text": [
            "[[-1, -1, 2], [-1, 0, 1]]\n"
          ]
        }
      ],
      "source": [
        "class Solution:\n",
        "    def threeSum(self, nums):\n",
        "        nums.sort()\n",
        "        result = []\n",
        "        n = len(nums)\n",
        "        for i in range(n):\n",
        "            if i > 0 and nums[i] == nums[i - 1]:\n",
        "                continue\n",
        "            left, right = i + 1, n - 1\n",
        "            while left < right:\n",
        "                total = nums[i] + nums[left] + nums[right]\n",
        "                if total == 0:\n",
        "                    result.append([nums[i], nums[left], nums[right]])\n",
        "                    while left < right and nums[left] == nums[left + 1]:\n",
        "                        left += 1\n",
        "                    while left < right and nums[right] == nums[right - 1]:\n",
        "                        right -= 1\n",
        "                    left += 1\n",
        "                    right -= 1\n",
        "                elif total < 0:\n",
        "                    left += 1\n",
        "                else:\n",
        "                    right -= 1\n",
        "        return result\n",
        "\n",
        "if __name__ == \"__main__\":\n",
        "    nums = [-1, 0, 1, 2, -1, -4]\n",
        "    solution = Solution()\n",
        "    print(solution.threeSum(nums))"
      ]
    },
    {
      "cell_type": "code",
      "source": [],
      "metadata": {
        "id": "HBHNXVgBxkyW"
      },
      "execution_count": null,
      "outputs": []
    }
  ]
}