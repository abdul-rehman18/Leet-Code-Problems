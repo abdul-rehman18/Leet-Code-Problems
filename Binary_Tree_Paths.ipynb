{
  "nbformat": 4,
  "nbformat_minor": 0,
  "metadata": {
    "colab": {
      "provenance": []
    },
    "kernelspec": {
      "name": "python3",
      "display_name": "Python 3"
    },
    "language_info": {
      "name": "python"
    }
  },
  "cells": [
    {
      "cell_type": "markdown",
      "source": [
        "# LeetCode Problem: Binary Tree Paths"
      ],
      "metadata": {
        "id": "jAYSdnRSDmqC"
      }
    },
    {
      "cell_type": "code",
      "execution_count": 1,
      "metadata": {
        "colab": {
          "base_uri": "https://localhost:8080/"
        },
        "id": "1IqWWrNUC5ao",
        "outputId": "67b314d0-4eec-432a-c3a1-f2bb4c675e52"
      },
      "outputs": [
        {
          "output_type": "stream",
          "name": "stdout",
          "text": [
            "['1->2->5', '1->3']\n"
          ]
        }
      ],
      "source": [
        "class TreeNode:\n",
        "    def __init__(self, val=0, left=None, right=None):\n",
        "        self.val = val\n",
        "        self.left = left\n",
        "        self.right = right\n",
        "class Solution:\n",
        "    def binaryTreePaths(self, root):\n",
        "        def search(node,ans,arr):\n",
        "            if not node:\n",
        "                return\n",
        "            ans += str(node.val)\n",
        "            if not node.left and not node.right:\n",
        "                arr.append(ans)\n",
        "            else:\n",
        "                search(node.left,ans+'->',arr)\n",
        "                search(node.right,ans+'->',arr)\n",
        "\n",
        "        arr=[]\n",
        "        search(root,'',arr)\n",
        "        return arr\n",
        "\n",
        "def main():\n",
        "    root = TreeNode(1)\n",
        "    root.left = TreeNode(2)\n",
        "    root.right = TreeNode(3)\n",
        "    root.left.right = TreeNode(5)\n",
        "\n",
        "    solution = Solution()\n",
        "\n",
        "    paths = solution.binaryTreePaths(root)\n",
        "    print(paths)\n",
        "\n",
        "if __name__ == \"__main__\":\n",
        "    main()"
      ]
    },
    {
      "cell_type": "code",
      "source": [],
      "metadata": {
        "id": "hZViR-3MGc0m"
      },
      "execution_count": null,
      "outputs": []
    }
  ]
}