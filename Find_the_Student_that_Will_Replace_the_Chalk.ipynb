{
  "nbformat": 4,
  "nbformat_minor": 0,
  "metadata": {
    "colab": {
      "provenance": []
    },
    "kernelspec": {
      "name": "python3",
      "display_name": "Python 3"
    },
    "language_info": {
      "name": "python"
    }
  },
  "cells": [
    {
      "cell_type": "markdown",
      "source": [
        "# LeetCode Problem: Find the Student that Will Replace the Chalk"
      ],
      "metadata": {
        "id": "G1Hmqh_k6LWa"
      }
    },
    {
      "cell_type": "code",
      "execution_count": 1,
      "metadata": {
        "colab": {
          "base_uri": "https://localhost:8080/"
        },
        "id": "LYYClA8M6EFu",
        "outputId": "363cadbd-bd4a-4dbc-f357-bc2aa702762a"
      },
      "outputs": [
        {
          "output_type": "stream",
          "name": "stdout",
          "text": [
            "0\n"
          ]
        }
      ],
      "source": [
        "import bisect\n",
        "def chalkReplacer(chalk, k):\n",
        "        for i in range(1,len(chalk)):\n",
        "            chalk[i]+=chalk[i-1]\n",
        "        k%=chalk[-1]\n",
        "        return bisect.bisect_right(chalk,k)\n",
        "\n",
        "chalk = [5,1,5]\n",
        "k = 22\n",
        "\n",
        "print(chalkReplacer(chalk,k))"
      ]
    },
    {
      "cell_type": "code",
      "source": [],
      "metadata": {
        "id": "QwxPSoLf69-x"
      },
      "execution_count": null,
      "outputs": []
    }
  ]
}