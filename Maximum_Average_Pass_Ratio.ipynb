{
  "nbformat": 4,
  "nbformat_minor": 0,
  "metadata": {
    "colab": {
      "provenance": []
    },
    "kernelspec": {
      "name": "python3",
      "display_name": "Python 3"
    },
    "language_info": {
      "name": "python"
    }
  },
  "cells": [
    {
      "cell_type": "markdown",
      "source": [
        "# LeetCode Problem: Maximum Average Pass Ratio"
      ],
      "metadata": {
        "id": "CjiYxIlag8P2"
      }
    },
    {
      "cell_type": "code",
      "execution_count": null,
      "metadata": {
        "id": "3HrKqUrcg23c"
      },
      "outputs": [],
      "source": [
        "class Solution:\n",
        "    def maxAverageRatio(self, classes: List[List[int]], extraStudents: int) -> float:\n",
        "\n",
        "\n",
        "        def gain(pass_, total):\n",
        "            return (pass_ + 1) / (total + 1) - pass_ / total\n",
        "\n",
        "        max_heap = []\n",
        "        sum_ = 0.0\n",
        "\n",
        "        for pass_, total in classes:\n",
        "            sum_ += pass_ / total\n",
        "            heapq.heappush(max_heap, (-gain(pass_, total), pass_, total))\n",
        "\n",
        "        for _ in range(extraStudents):\n",
        "            current_gain, pass_, total = heapq.heappop(max_heap)\n",
        "            sum_ -= pass_ / total\n",
        "            pass_ += 1\n",
        "            total += 1\n",
        "            sum_ += pass_ / total\n",
        "            heapq.heappush(max_heap, (-gain(pass_, total), pass_, total))\n",
        "\n",
        "        return sum_ / len(classes)\n",
        "\n",
        "classes = [[1,2],[3,5],[2,2]]\n",
        "extraStudents = 2\n",
        "\n"
      ]
    }
  ]
}