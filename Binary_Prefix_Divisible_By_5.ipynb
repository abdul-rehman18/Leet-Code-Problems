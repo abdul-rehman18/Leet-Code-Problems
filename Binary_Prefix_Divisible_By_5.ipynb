{
  "nbformat": 4,
  "nbformat_minor": 0,
  "metadata": {
    "colab": {
      "provenance": []
    },
    "kernelspec": {
      "name": "python3",
      "display_name": "Python 3"
    },
    "language_info": {
      "name": "python"
    }
  },
  "cells": [
    {
      "cell_type": "markdown",
      "source": [
        "# LeetCode Problem: Binary Prefix Divisible By 5"
      ],
      "metadata": {
        "id": "QZfdkXddlxpR"
      }
    },
    {
      "cell_type": "code",
      "execution_count": 1,
      "metadata": {
        "colab": {
          "base_uri": "https://localhost:8080/"
        },
        "id": "c6EEXW4Sjib2",
        "outputId": "b06983ea-ca82-4e04-9c63-140d38648334"
      },
      "outputs": [
        {
          "output_type": "stream",
          "name": "stdout",
          "text": [
            "[True, False, False]\n"
          ]
        }
      ],
      "source": [
        "def prefixesDivBy5(nums):\n",
        "        ans = []\n",
        "        curr = 0\n",
        "        for num in nums:\n",
        "            curr = (curr * 2 + num) % 5\n",
        "            ans.append(curr == 0)\n",
        "        return ans\n",
        "\n",
        "nums = [0,1,1]\n",
        "print(prefixesDivBy5(nums))"
      ]
    },
    {
      "cell_type": "code",
      "source": [],
      "metadata": {
        "id": "zR6b-AAvl7uB"
      },
      "execution_count": null,
      "outputs": []
    }
  ]
}