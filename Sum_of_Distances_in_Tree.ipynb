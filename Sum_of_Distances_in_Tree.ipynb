{
  "nbformat": 4,
  "nbformat_minor": 0,
  "metadata": {
    "colab": {
      "provenance": []
    },
    "kernelspec": {
      "name": "python3",
      "display_name": "Python 3"
    },
    "language_info": {
      "name": "python"
    }
  },
  "cells": [
    {
      "cell_type": "markdown",
      "source": [
        "# LeetCode Problem: Sum of Distances in Tree"
      ],
      "metadata": {
        "id": "fUDjlTggilMO"
      }
    },
    {
      "cell_type": "code",
      "execution_count": 2,
      "metadata": {
        "colab": {
          "base_uri": "https://localhost:8080/"
        },
        "id": "yX6G21ORhb3k",
        "outputId": "d975d6c2-1a86-44e6-bf15-af54ee56c592"
      },
      "outputs": [
        {
          "output_type": "stream",
          "name": "stdout",
          "text": [
            "[8, 12, 6, 10, 10, 10]\n"
          ]
        }
      ],
      "source": [
        "from collections import defaultdict\n",
        "def sumOfDistancesInTree(n, edges):\n",
        "        graph = defaultdict(list)\n",
        "        for u, v in edges:\n",
        "            graph[u].append(v)\n",
        "            graph[v].append(u)\n",
        "\n",
        "        count = [1] * n\n",
        "        res = [0] * n\n",
        "\n",
        "        def dfs(node, parent):\n",
        "            for child in graph[node]:\n",
        "                if child != parent:\n",
        "                    dfs(child, node)\n",
        "                    count[node] += count[child]\n",
        "                    res[node] += res[child] + count[child]\n",
        "\n",
        "        def dfs2(node, parent):\n",
        "            for child in graph[node]:\n",
        "                if child != parent:\n",
        "                    res[child] = res[node] - count[child] + (n - count[child])\n",
        "                    dfs2(child, node)\n",
        "\n",
        "        dfs(0, -1)\n",
        "        dfs2(0, -1)\n",
        "\n",
        "        return res\n",
        "n = 6\n",
        "edges = [[0,1],[0,2],[2,3],[2,4],[2,5]]\n",
        "\n",
        "print(sumOfDistancesInTree(n, edges))"
      ]
    },
    {
      "cell_type": "code",
      "source": [],
      "metadata": {
        "id": "jTC5uDPIj1SW"
      },
      "execution_count": null,
      "outputs": []
    }
  ]
}