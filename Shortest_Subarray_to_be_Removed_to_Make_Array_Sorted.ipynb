{
  "nbformat": 4,
  "nbformat_minor": 0,
  "metadata": {
    "colab": {
      "provenance": []
    },
    "kernelspec": {
      "name": "python3",
      "display_name": "Python 3"
    },
    "language_info": {
      "name": "python"
    }
  },
  "cells": [
    {
      "cell_type": "markdown",
      "source": [
        "# LeetCode Problem: Shortest Subarray to be Removed to Make Array Sorted"
      ],
      "metadata": {
        "id": "pe1nfP2eDBQo"
      }
    },
    {
      "cell_type": "code",
      "execution_count": 1,
      "metadata": {
        "colab": {
          "base_uri": "https://localhost:8080/"
        },
        "id": "Q-796yeyC7hW",
        "outputId": "480aed34-3f1a-4eb8-f1ce-fd70b113b04d"
      },
      "outputs": [
        {
          "output_type": "stream",
          "name": "stdout",
          "text": [
            "3\n"
          ]
        }
      ],
      "source": [
        "def findLengthOfShortestSubarray(arr):\n",
        "        n = len(arr)\n",
        "\n",
        "        # Step 1: Find the longest non-decreasing prefix\n",
        "        left = 0\n",
        "        while left + 1 < n and arr[left] <= arr[left + 1]:\n",
        "            left += 1\n",
        "\n",
        "        # If the entire array is already sorted\n",
        "        if left == n - 1:\n",
        "            return 0\n",
        "\n",
        "        # Step 2: Find the longest non-decreasing suffix\n",
        "        right = n - 1\n",
        "        while right > 0 and arr[right - 1] <= arr[right]:\n",
        "            right -= 1\n",
        "\n",
        "        # Step 3: Find the minimum length to remove by comparing prefix and suffix\n",
        "        result = min(n - left - 1, right)\n",
        "\n",
        "        # Step 4: Use two pointers to find the smallest middle part to remove\n",
        "        i, j = 0, right\n",
        "        while i <= left and j < n:\n",
        "            if arr[i] <= arr[j]:\n",
        "                result = min(result, j - i - 1)\n",
        "                i += 1\n",
        "            else:\n",
        "                j += 1\n",
        "\n",
        "        return result\n",
        "\n",
        "\n",
        "arr = [1,2,3,10,4,2,3,5]\n",
        "\n",
        "\n",
        "print(findLengthOfShortestSubarray(arr))\n"
      ]
    },
    {
      "cell_type": "code",
      "source": [],
      "metadata": {
        "id": "r2jRXyhADPpP"
      },
      "execution_count": null,
      "outputs": []
    }
  ]
}