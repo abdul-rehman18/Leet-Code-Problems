{
  "nbformat": 4,
  "nbformat_minor": 0,
  "metadata": {
    "colab": {
      "provenance": []
    },
    "kernelspec": {
      "name": "python3",
      "display_name": "Python 3"
    },
    "language_info": {
      "name": "python"
    }
  },
  "cells": [
    {
      "cell_type": "markdown",
      "source": [
        "# LeetCode Problem : Univalued Binary Tree"
      ],
      "metadata": {
        "id": "HJILIJt_pyoR"
      }
    },
    {
      "cell_type": "code",
      "execution_count": 1,
      "metadata": {
        "colab": {
          "base_uri": "https://localhost:8080/"
        },
        "id": "D1H-JEAonjrj",
        "outputId": "4cc609d7-865f-44fb-c2b2-999bc8aaeb98"
      },
      "outputs": [
        {
          "output_type": "stream",
          "name": "stdout",
          "text": [
            "Is the tree univalued? True\n",
            "Is the tree univalued? False\n"
          ]
        }
      ],
      "source": [
        "# Definition for a binary tree node.\n",
        "class TreeNode:\n",
        "    def __init__(self, val=0, left=None, right=None):\n",
        "        self.val = val\n",
        "        self.left = left\n",
        "        self.right = right\n",
        "class Solution:\n",
        "    def isUnivalTree(self, root):\n",
        "        if not root:\n",
        "            return True\n",
        "        if root.left:\n",
        "            if root.val != root.left.val:\n",
        "                return False\n",
        "        if root.right:\n",
        "            if root.val != root.right.val:\n",
        "                return False\n",
        "        return self.isUnivalTree(root.left) and self.isUnivalTree(root.right)\n",
        "\n",
        "def main():\n",
        "    root = TreeNode(1)\n",
        "    root.left = TreeNode(1)\n",
        "    root.right = TreeNode(1)\n",
        "    root.left.left = TreeNode(1)\n",
        "    root.left.right = TreeNode(1)\n",
        "    root.right.right = TreeNode(1)\n",
        "\n",
        "    solution = Solution()\n",
        "    print(\"Is the tree univalued?\", solution.isUnivalTree(root))\n",
        "\n",
        "    root2 = TreeNode(2)\n",
        "    root2.left = TreeNode(2)\n",
        "    root2.right = TreeNode(3)\n",
        "    root2.left.left = TreeNode(5)\n",
        "    root2.left.right = TreeNode(2)\n",
        "\n",
        "    print(\"Is the tree univalued?\", solution.isUnivalTree(root2))\n",
        "\n",
        "if __name__ == \"__main__\":\n",
        "    main()\n",
        "\n"
      ]
    },
    {
      "cell_type": "code",
      "source": [],
      "metadata": {
        "id": "HQwjs3Tip5u4"
      },
      "execution_count": null,
      "outputs": []
    }
  ]
}