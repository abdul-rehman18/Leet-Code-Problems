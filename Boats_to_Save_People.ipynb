{
  "nbformat": 4,
  "nbformat_minor": 0,
  "metadata": {
    "colab": {
      "provenance": []
    },
    "kernelspec": {
      "name": "python3",
      "display_name": "Python 3"
    },
    "language_info": {
      "name": "python"
    }
  },
  "cells": [
    {
      "cell_type": "markdown",
      "source": [
        "# LeetCode Problem: Boats to Save People"
      ],
      "metadata": {
        "id": "SRglzD2p1gYb"
      }
    },
    {
      "cell_type": "code",
      "execution_count": 2,
      "metadata": {
        "colab": {
          "base_uri": "https://localhost:8080/"
        },
        "id": "YYa1D_DPz5HC",
        "outputId": "87d4a96b-22fb-4faf-8f8f-c5b8721c9a89"
      },
      "outputs": [
        {
          "output_type": "stream",
          "name": "stdout",
          "text": [
            "1\n"
          ]
        }
      ],
      "source": [
        "def numRescueBoats(p, limit):\n",
        "        p.sort()\n",
        "        x=0\n",
        "        l, r=0, len(p)-1\n",
        "        while l<=r:\n",
        "            x+=1\n",
        "            if p[l]+p[r]<=limit:\n",
        "                l+=1\n",
        "            r-=1\n",
        "        return x\n",
        "\n",
        "p = [1,2]\n",
        "limit = 3\n",
        "\n",
        "print(numRescueBoats(p, limit))"
      ]
    },
    {
      "cell_type": "code",
      "source": [],
      "metadata": {
        "id": "eXkIyJbg1y6n"
      },
      "execution_count": null,
      "outputs": []
    }
  ]
}