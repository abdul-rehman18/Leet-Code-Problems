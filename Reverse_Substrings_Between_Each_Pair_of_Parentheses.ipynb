{
  "nbformat": 4,
  "nbformat_minor": 0,
  "metadata": {
    "colab": {
      "provenance": []
    },
    "kernelspec": {
      "name": "python3",
      "display_name": "Python 3"
    },
    "language_info": {
      "name": "python"
    }
  },
  "cells": [
    {
      "cell_type": "markdown",
      "source": [
        "# LeetCode Problem: Reverse Substrings Between Each Pair of Parentheses"
      ],
      "metadata": {
        "id": "D8PR-oN_tprl"
      }
    },
    {
      "cell_type": "code",
      "execution_count": 1,
      "metadata": {
        "colab": {
          "base_uri": "https://localhost:8080/"
        },
        "id": "Wuqtib8xtgS9",
        "outputId": "b7352afd-93cc-484d-aa15-f03bf18b48cb"
      },
      "outputs": [
        {
          "output_type": "stream",
          "name": "stdout",
          "text": [
            "dcba\n"
          ]
        }
      ],
      "source": [
        "def reverseParentheses(s):\n",
        "        n = len(s)\n",
        "        stack = []\n",
        "        pair = {}\n",
        "        for i in range(n):\n",
        "            if s[i] == '(':\n",
        "                stack.append(i)\n",
        "            elif s[i] == ')':\n",
        "                j = stack.pop()\n",
        "                pair[i] = j\n",
        "                pair[j] = i\n",
        "        result = []\n",
        "        i = 0\n",
        "        direction = 1\n",
        "        while i < n:\n",
        "            if s[i] == '(' or s[i] == ')':\n",
        "                i = pair[i]\n",
        "                direction = -direction\n",
        "            else:\n",
        "                result.append(s[i])\n",
        "            i += direction\n",
        "\n",
        "        return ''.join(result)\n",
        "\n",
        "s = \"(abcd)\"\n",
        "\n",
        "\n",
        "print(reverseParentheses(s))"
      ]
    },
    {
      "cell_type": "code",
      "source": [],
      "metadata": {
        "id": "i6aggj2ruNDg"
      },
      "execution_count": null,
      "outputs": []
    }
  ]
}