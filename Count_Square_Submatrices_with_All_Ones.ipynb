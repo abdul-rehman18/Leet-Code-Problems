{
  "nbformat": 4,
  "nbformat_minor": 0,
  "metadata": {
    "colab": {
      "provenance": []
    },
    "kernelspec": {
      "name": "python3",
      "display_name": "Python 3"
    },
    "language_info": {
      "name": "python"
    }
  },
  "cells": [
    {
      "cell_type": "markdown",
      "source": [
        "# LeetCode Problem: Count Square Submatrices with All Ones"
      ],
      "metadata": {
        "id": "xKnm0wzR0k9J"
      }
    },
    {
      "cell_type": "code",
      "execution_count": 1,
      "metadata": {
        "colab": {
          "base_uri": "https://localhost:8080/"
        },
        "id": "EkQAlldJr7DD",
        "outputId": "1cabbdc6-203d-4a06-b03c-d6773b57f07e"
      },
      "outputs": [
        {
          "output_type": "stream",
          "name": "stdout",
          "text": [
            "15\n"
          ]
        }
      ],
      "source": [
        "def countSquares(matrix):\n",
        "        # Get dimensions of the matrix\n",
        "        n = len(matrix)    # number of rows\n",
        "        m = len(matrix[0]) # number of columns\n",
        "\n",
        "        # Create a DP table with same dimensions as matrix\n",
        "        dp = [[0] * m for _ in range(n)]\n",
        "\n",
        "        # Variable to store total count of squares\n",
        "        ans = 0\n",
        "\n",
        "        # Initialize first column of DP table\n",
        "        for i in range(n):\n",
        "            dp[i][0] = matrix[i][0]\n",
        "            ans += dp[i][0]\n",
        "\n",
        "        # Initialize first row of DP table\n",
        "        for j in range(1, m):\n",
        "            dp[0][j] = matrix[0][j]\n",
        "            ans += dp[0][j]\n",
        "\n",
        "        # Fill the DP table for remaining cells\n",
        "        for i in range(1, n):\n",
        "            for j in range(1, m):\n",
        "                # Only process if current cell in matrix is 1\n",
        "                if matrix[i][j] == 1:\n",
        "                    # Find minimum of left, top, and diagonal cells and add 1\n",
        "                    dp[i][j] = 1 + min(dp[i][j-1], dp[i-1][j], dp[i-1][j-1])\n",
        "                ans += dp[i][j]\n",
        "\n",
        "        return ans\n",
        "\n",
        "matrix =[[0,1,1,1],[1,1,1,1],[0,1,1,1]]\n",
        "\n",
        "print(countSquares(matrix))\n",
        "\n"
      ]
    },
    {
      "cell_type": "code",
      "source": [],
      "metadata": {
        "id": "ZRyX-XG81PwJ"
      },
      "execution_count": null,
      "outputs": []
    }
  ]
}