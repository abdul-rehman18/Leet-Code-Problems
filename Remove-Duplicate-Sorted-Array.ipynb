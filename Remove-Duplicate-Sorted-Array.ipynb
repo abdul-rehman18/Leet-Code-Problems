{
 "cells": [
  {
   "cell_type": "markdown",
   "id": "f12f0245",
   "metadata": {},
   "source": [
    "# LeetCode Problem: Remove-Duplicate-Sorted-Array"
   ]
  },
  {
   "cell_type": "code",
   "execution_count": 7,
   "id": "ec67dda0",
   "metadata": {},
   "outputs": [
    {
     "name": "stdout",
     "output_type": "stream",
     "text": [
      "5\n"
     ]
    }
   ],
   "source": [
    "def removeDuplicates(nums):\n",
    "    nums[:] = sorted(set(nums))\n",
    "    return len(nums)\n",
    "\n",
    "\n",
    "\n",
    "nums=[0,0,1,1,1,2,2,3,3,4]\n",
    "l=removeDuplicates(nums)\n",
    "print(l)"
   ]
  }
 ],
 "metadata": {
  "kernelspec": {
   "display_name": "Python 3 (ipykernel)",
   "language": "python",
   "name": "python3"
  },
  "language_info": {
   "codemirror_mode": {
    "name": "ipython",
    "version": 3
   },
   "file_extension": ".py",
   "mimetype": "text/x-python",
   "name": "python",
   "nbconvert_exporter": "python",
   "pygments_lexer": "ipython3",
   "version": "3.10.9"
  }
 },
 "nbformat": 4,
 "nbformat_minor": 5
}
