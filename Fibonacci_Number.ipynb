{
  "nbformat": 4,
  "nbformat_minor": 0,
  "metadata": {
    "colab": {
      "provenance": []
    },
    "kernelspec": {
      "name": "python3",
      "display_name": "Python 3"
    },
    "language_info": {
      "name": "python"
    }
  },
  "cells": [
    {
      "cell_type": "markdown",
      "source": [
        "# LeetCode Problem: Fibonacci Number"
      ],
      "metadata": {
        "id": "MyPt0scpGdP-"
      }
    },
    {
      "cell_type": "code",
      "execution_count": 1,
      "metadata": {
        "colab": {
          "base_uri": "https://localhost:8080/"
        },
        "id": "-ncfhGwEDQ8D",
        "outputId": "6b14496a-68f8-476b-89ab-c41fc610036d"
      },
      "outputs": [
        {
          "output_type": "stream",
          "name": "stdout",
          "text": [
            "2\n"
          ]
        }
      ],
      "source": [
        "def fib(n):\n",
        "        a,b =0,1\n",
        "        for i in range (n):\n",
        "            a,b = b,a+b\n",
        "        return a\n",
        "\n",
        "n=3\n",
        "print(fib(n))"
      ]
    },
    {
      "cell_type": "code",
      "source": [],
      "metadata": {
        "id": "gQmXhgxWGXVS"
      },
      "execution_count": null,
      "outputs": []
    }
  ]
}