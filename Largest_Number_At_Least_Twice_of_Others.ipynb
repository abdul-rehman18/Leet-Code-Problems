{
  "nbformat": 4,
  "nbformat_minor": 0,
  "metadata": {
    "colab": {
      "provenance": []
    },
    "kernelspec": {
      "name": "python3",
      "display_name": "Python 3"
    },
    "language_info": {
      "name": "python"
    }
  },
  "cells": [
    {
      "cell_type": "markdown",
      "source": [
        "# LeetCode Problem: Largest Number At Least Twice of Others"
      ],
      "metadata": {
        "id": "9vivQHWJ8-rY"
      }
    },
    {
      "cell_type": "code",
      "execution_count": 1,
      "metadata": {
        "colab": {
          "base_uri": "https://localhost:8080/"
        },
        "id": "OVyukLeK6kw6",
        "outputId": "adc6364d-e3e4-4ada-deae-b0198eb0ea9d"
      },
      "outputs": [
        {
          "output_type": "stream",
          "name": "stdout",
          "text": [
            "1\n"
          ]
        }
      ],
      "source": [
        "def dominantIndex(nums):\n",
        "        f_m = s_m = -1\n",
        "        m_i = 0\n",
        "        for i, num in enumerate(nums):\n",
        "            if num >= f_m:\n",
        "                f_m, s_m = num, f_m\n",
        "                m_i = i\n",
        "            elif num > s_m:\n",
        "                s_m = num\n",
        "        if f_m < 2*s_m:\n",
        "            m_i = -1\n",
        "        return m_i\n",
        "\n",
        "\n",
        "nums=[3,6,1,0]\n",
        "print(dominantIndex(nums))"
      ]
    },
    {
      "cell_type": "code",
      "source": [],
      "metadata": {
        "id": "fATwPQ7D9JpD"
      },
      "execution_count": null,
      "outputs": []
    }
  ]
}