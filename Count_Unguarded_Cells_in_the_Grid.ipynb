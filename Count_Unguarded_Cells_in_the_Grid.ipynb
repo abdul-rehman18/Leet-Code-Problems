{
  "nbformat": 4,
  "nbformat_minor": 0,
  "metadata": {
    "colab": {
      "provenance": []
    },
    "kernelspec": {
      "name": "python3",
      "display_name": "Python 3"
    },
    "language_info": {
      "name": "python"
    }
  },
  "cells": [
    {
      "cell_type": "markdown",
      "source": [
        "# LeetCode Problem: Count Unguarded Cells in the Grid"
      ],
      "metadata": {
        "id": "oHtOGst1n46_"
      }
    },
    {
      "cell_type": "code",
      "execution_count": 2,
      "metadata": {
        "id": "c8xdbN3eYKCV",
        "colab": {
          "base_uri": "https://localhost:8080/"
        },
        "outputId": "b8aeb7b9-72ba-4737-d90e-e86949156402"
      },
      "outputs": [
        {
          "output_type": "stream",
          "name": "stdout",
          "text": [
            "7\n"
          ]
        }
      ],
      "source": [
        "def countUnguarded(m, n, guards, walls):\n",
        "        grid = [[0] * n for _ in range(m)]\n",
        "        # 0 = free, 1 = guard, 2 = wall, 3 = guardable\n",
        "\n",
        "        for r, c in guards:\n",
        "            grid[r][c] = 1\n",
        "        for r, c in walls:\n",
        "            grid[r][c] = 2\n",
        "\n",
        "        def mark_guarded(r, c):\n",
        "            for row in range(r + 1, m):\n",
        "                if grid[row][c] in [1, 2]:\n",
        "                    break\n",
        "                grid[row][c] = 3\n",
        "            for row in reversed(range(0, r)):\n",
        "                if grid[row][c] in [1, 2]:\n",
        "                    break\n",
        "                grid[row][c] = 3\n",
        "            for col in range(c + 1, n):\n",
        "                if grid[r][col] in [1, 2]:\n",
        "                    break\n",
        "                grid[r][col] = 3\n",
        "            for col in reversed(range(0, c)):\n",
        "                if grid[r][col] in [1, 2]:\n",
        "                    break\n",
        "                grid[r][col] = 3\n",
        "\n",
        "        for r, c in guards:\n",
        "            mark_guarded(r, c)\n",
        "\n",
        "        res = 0\n",
        "        for row in grid:\n",
        "            for cell in row:\n",
        "                if cell == 0:\n",
        "                    res += 1\n",
        "\n",
        "        return res\n",
        "\n",
        "m = 4\n",
        "n = 6\n",
        "guards = [[0,0],[1,1],[2,3]]\n",
        "walls = [[0,1],[2,2],[1,4]]\n",
        "\n",
        "print(countUnguarded(m, n, guards, walls))\n"
      ]
    },
    {
      "cell_type": "code",
      "source": [],
      "metadata": {
        "id": "Wu7fo6Vxokt7"
      },
      "execution_count": null,
      "outputs": []
    }
  ]
}