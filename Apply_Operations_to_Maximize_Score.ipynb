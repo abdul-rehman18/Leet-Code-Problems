{
  "nbformat": 4,
  "nbformat_minor": 0,
  "metadata": {
    "colab": {
      "provenance": []
    },
    "kernelspec": {
      "name": "python3",
      "display_name": "Python 3"
    },
    "language_info": {
      "name": "python"
    }
  },
  "cells": [
    {
      "cell_type": "markdown",
      "source": [
        "# LeetCode Problem: Apply Operations to Maximize Score"
      ],
      "metadata": {
        "id": "7kadm2iNZbr6"
      }
    },
    {
      "cell_type": "code",
      "execution_count": null,
      "metadata": {
        "id": "Suoms4jCZVQQ"
      },
      "outputs": [],
      "source": [
        "def primeFactors(n):\n",
        "    i = 2\n",
        "    ans = set()\n",
        "    while i * i <= n:\n",
        "        while n % i == 0:\n",
        "            ans.add(i)\n",
        "            n //= i\n",
        "        i += 1\n",
        "    if n > 1:\n",
        "        ans.add(n)\n",
        "    return len(ans)\n",
        "\n",
        "\n",
        "class Solution:\n",
        "    def maximumScore(self, nums: List[int], k: int) -> int:\n",
        "        mod = 10**9 + 7\n",
        "        arr = [(i, primeFactors(x), x) for i, x in enumerate(nums)]\n",
        "        n = len(nums)\n",
        "\n",
        "        left = [-1] * n\n",
        "        right = [n] * n\n",
        "        stk = []\n",
        "        for i, f, x in arr:\n",
        "            while stk and stk[-1][0] < f:\n",
        "                stk.pop()\n",
        "            if stk:\n",
        "                left[i] = stk[-1][1]\n",
        "            stk.append((f, i))\n",
        "\n",
        "        stk = []\n",
        "        for i, f, x in arr[::-1]:\n",
        "            while stk and stk[-1][0] <= f:\n",
        "                stk.pop()\n",
        "            if stk:\n",
        "                right[i] = stk[-1][1]\n",
        "            stk.append((f, i))\n",
        "\n",
        "        arr.sort(key=lambda x: -x[2])\n",
        "        ans = 1\n",
        "        for i, f, x in arr:\n",
        "            l, r = left[i], right[i]\n",
        "            cnt = (i - l) * (r - i)\n",
        "            if cnt <= k:\n",
        "                ans = ans * pow(x, cnt, mod) % mod\n",
        "                k -= cnt\n",
        "            else:\n",
        "                ans = ans * pow(x, k, mod) % mod\n",
        "                break\n",
        "        return ans"
      ]
    }
  ]
}