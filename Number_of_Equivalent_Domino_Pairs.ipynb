{
  "nbformat": 4,
  "nbformat_minor": 0,
  "metadata": {
    "colab": {
      "provenance": []
    },
    "kernelspec": {
      "name": "python3",
      "display_name": "Python 3"
    },
    "language_info": {
      "name": "python"
    }
  },
  "cells": [
    {
      "cell_type": "markdown",
      "source": [
        "# LeetCode Problem: Number of Equivalent Domino Pairs"
      ],
      "metadata": {
        "id": "m4vLedZ717yA"
      }
    },
    {
      "cell_type": "code",
      "execution_count": 2,
      "metadata": {
        "colab": {
          "base_uri": "https://localhost:8080/"
        },
        "id": "uNnjtqcq1P75",
        "outputId": "8f397658-2ffe-4cdc-ccfb-2cde004fe4af"
      },
      "outputs": [
        {
          "output_type": "stream",
          "name": "stdout",
          "text": [
            "1\n"
          ]
        }
      ],
      "source": [
        "from collections import defaultdict\n",
        "\n",
        "def numEquivDominoPairs(dominoes):\n",
        "        cache = defaultdict(int)\n",
        "        for a, b in dominoes:\n",
        "            pair = [b, a] if a > b else [a, b]\n",
        "            cache[tuple(pair)] += 1\n",
        "\n",
        "        return sum([v * (v - 1) // 2 for v in cache.values() if v > 1])\n",
        "\n",
        "dominoes = [[1,2],[2,1],[3,4],[5,6]]\n",
        "print(numEquivDominoPairs(dominoes))"
      ]
    },
    {
      "cell_type": "code",
      "source": [],
      "metadata": {
        "id": "ccRXXFLK2ggp"
      },
      "execution_count": null,
      "outputs": []
    }
  ]
}