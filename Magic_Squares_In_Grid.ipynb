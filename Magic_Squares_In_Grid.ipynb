{
  "nbformat": 4,
  "nbformat_minor": 0,
  "metadata": {
    "colab": {
      "provenance": []
    },
    "kernelspec": {
      "name": "python3",
      "display_name": "Python 3"
    },
    "language_info": {
      "name": "python"
    }
  },
  "cells": [
    {
      "cell_type": "markdown",
      "source": [
        "# LeetCode Problem: Magic Squares In Grid"
      ],
      "metadata": {
        "id": "cDuE6FlMcQ6N"
      }
    },
    {
      "cell_type": "code",
      "execution_count": 1,
      "metadata": {
        "colab": {
          "base_uri": "https://localhost:8080/"
        },
        "id": "L7ZIxk9scKav",
        "outputId": "5757cfed-4d2a-43b1-fa1c-5064b3550a2a"
      },
      "outputs": [
        {
          "output_type": "stream",
          "name": "stdout",
          "text": [
            "1\n"
          ]
        }
      ],
      "source": [
        "def numMagicSquaresInside(grid):\n",
        "        def isMagic(i, j):\n",
        "            once=[False]*10\n",
        "            rowSum=[0]*3\n",
        "            colSum= [0]*3\n",
        "\n",
        "            for a in range(i-1, i+2):\n",
        "                for b in range(j-1, j+2):\n",
        "                    x= grid[a][b]\n",
        "                    if x < 1 or x > 9: return False\n",
        "                    rowSum[a-i+1] += x\n",
        "                    colSum[b-j+1] += x\n",
        "                    if once[x]:\n",
        "                        return False  # it's not unique\n",
        "                    once[x]=True\n",
        "\n",
        "            for b in once[1:]:\n",
        "                if not b: return False\n",
        "\n",
        "            for sum in rowSum:\n",
        "                if sum!=15: return False\n",
        "            for sum in colSum:\n",
        "                if sum!=15: return False\n",
        "\n",
        "            return grid[i-1][j-1]+grid[i+1][j+1]==10 and grid[i+1][j-1]+grid[i-1][j+1]==10\n",
        "        r, c = len(grid), len(grid[0])\n",
        "        if r < 3 or c < 3:\n",
        "            return 0\n",
        "        cnt=0\n",
        "        for i in range(1, r-1):\n",
        "            for j in range(1, c-1):\n",
        "                if grid[i][j] == 5 and isMagic(i, j):\n",
        "                    cnt+=1\n",
        "        return cnt\n",
        "\n",
        "\n",
        "grid = [[4,3,8,4],[9,5,1,9],[2,7,6,2]]\n",
        "\n",
        "print(numMagicSquaresInside(grid))\n"
      ]
    },
    {
      "cell_type": "code",
      "source": [],
      "metadata": {
        "id": "Oor4gWQVcrzF"
      },
      "execution_count": null,
      "outputs": []
    }
  ]
}