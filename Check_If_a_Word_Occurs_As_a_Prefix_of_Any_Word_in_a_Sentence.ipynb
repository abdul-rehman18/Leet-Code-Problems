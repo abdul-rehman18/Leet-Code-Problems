{
  "nbformat": 4,
  "nbformat_minor": 0,
  "metadata": {
    "colab": {
      "provenance": []
    },
    "kernelspec": {
      "name": "python3",
      "display_name": "Python 3"
    },
    "language_info": {
      "name": "python"
    }
  },
  "cells": [
    {
      "cell_type": "markdown",
      "source": [
        "# LeetCode Problem: Check If a Word Occurs As a Prefix of Any Word in a Sentence"
      ],
      "metadata": {
        "id": "zb6-rk_6wS97"
      }
    },
    {
      "cell_type": "code",
      "execution_count": 20,
      "metadata": {
        "colab": {
          "base_uri": "https://localhost:8080/"
        },
        "id": "T5lA9BtRwMxN",
        "outputId": "95561904-4c94-4645-9719-ee1298a0851e"
      },
      "outputs": [
        {
          "output_type": "stream",
          "name": "stdout",
          "text": [
            "-1\n"
          ]
        }
      ],
      "source": [
        "def isPrefixOfWord(sentence, searchWord):\n",
        "  y = sentence.split(\" \")\n",
        "  # print(y)\n",
        "  # print(len(y))\n",
        "  for i,j in enumerate(y):\n",
        "    # print(j[0:len(searchWord):])\n",
        "    if searchWord in j[0:len(searchWord):]:\n",
        "      return i+1\n",
        "  return -1\n",
        "\n",
        "# sentence = \"i love eating burger\"\n",
        "# searchWord = \"burg\"\n",
        "# sentence = \"i am tired\"\n",
        "# searchWord = \"you\"\n",
        "# sentence = \"this problem is an easy problem\"\n",
        "# searchWord = \"pro\"\n",
        "sentence = \"hellohello hellohellohello\"\n",
        "searchWord = \"ell\"\n",
        "\n",
        "print(isPrefixOfWord(sentence,searchWord))"
      ]
    },
    {
      "cell_type": "code",
      "source": [],
      "metadata": {
        "id": "1WN4d6xkxSuN"
      },
      "execution_count": null,
      "outputs": []
    }
  ]
}