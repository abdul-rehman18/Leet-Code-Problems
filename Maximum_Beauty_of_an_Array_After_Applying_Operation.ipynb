{
  "nbformat": 4,
  "nbformat_minor": 0,
  "metadata": {
    "colab": {
      "provenance": []
    },
    "kernelspec": {
      "name": "python3",
      "display_name": "Python 3"
    },
    "language_info": {
      "name": "python"
    }
  },
  "cells": [
    {
      "cell_type": "markdown",
      "source": [
        "# LeetCode Problem: Maximum Beauty of an Array After Applying Operation"
      ],
      "metadata": {
        "id": "-G5pgNjCDgAH"
      }
    },
    {
      "cell_type": "code",
      "execution_count": 1,
      "metadata": {
        "colab": {
          "base_uri": "https://localhost:8080/"
        },
        "id": "i-ghwPoyDZvh",
        "outputId": "ea5dbc3a-14c6-40d5-95d1-9e76af03bd60"
      },
      "outputs": [
        {
          "output_type": "stream",
          "name": "stdout",
          "text": [
            "3\n"
          ]
        }
      ],
      "source": [
        "def maximumBeauty(nums, k):\n",
        "        events = []\n",
        "        for num in nums:\n",
        "            events.append((num - k, 1))\n",
        "            events.append((num + k + 1, -1))\n",
        "\n",
        "        events.sort()\n",
        "\n",
        "        max_beauty = 0\n",
        "        current_count = 0\n",
        "        for value, effect in events:\n",
        "            current_count += effect\n",
        "            max_beauty = max(max_beauty, current_count)\n",
        "\n",
        "        return max_beauty\n",
        "\n",
        "nums = [4,6,1,2]\n",
        "k = 2\n",
        "\n",
        "print(maximumBeauty(nums, k))\n"
      ]
    },
    {
      "cell_type": "code",
      "source": [],
      "metadata": {
        "id": "CbQ6GOsZDzPC"
      },
      "execution_count": null,
      "outputs": []
    }
  ]
}