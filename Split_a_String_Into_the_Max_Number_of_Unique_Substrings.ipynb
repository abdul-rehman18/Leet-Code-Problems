{
  "nbformat": 4,
  "nbformat_minor": 0,
  "metadata": {
    "colab": {
      "provenance": []
    },
    "kernelspec": {
      "name": "python3",
      "display_name": "Python 3"
    },
    "language_info": {
      "name": "python"
    }
  },
  "cells": [
    {
      "cell_type": "markdown",
      "source": [
        "# LeetCode Problem: Split a String Into the Max Number of Unique Substrings"
      ],
      "metadata": {
        "id": "ZlITVT1najsn"
      }
    },
    {
      "cell_type": "code",
      "execution_count": 1,
      "metadata": {
        "id": "yuAhPZ_qiV3f",
        "colab": {
          "base_uri": "https://localhost:8080/"
        },
        "outputId": "5dfad1cc-326e-4cae-eff7-06391b445fed"
      },
      "outputs": [
        {
          "output_type": "stream",
          "name": "stdout",
          "text": [
            "5\n"
          ]
        }
      ],
      "source": [
        "def maxUniqueSplit(s):\n",
        "        def backtrack(start, seen):\n",
        "            if start == len(s):\n",
        "                return 0\n",
        "            max_splits = 0\n",
        "            for end in range(start + 1, len(s) + 1):\n",
        "                substring = s[start:end]\n",
        "                if substring not in seen:\n",
        "                    seen.add(substring)\n",
        "                    max_splits = max(max_splits, 1 + backtrack(end, seen))\n",
        "                    seen.remove(substring)\n",
        "            return max_splits\n",
        "        return backtrack(0, set())\n",
        "\n",
        "s = \"ababccc\"\n",
        "print(maxUniqueSplit(s))"
      ]
    },
    {
      "cell_type": "code",
      "source": [],
      "metadata": {
        "id": "0hs1cf-Qax6W"
      },
      "execution_count": null,
      "outputs": []
    }
  ]
}