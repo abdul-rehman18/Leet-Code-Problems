{
  "nbformat": 4,
  "nbformat_minor": 0,
  "metadata": {
    "colab": {
      "provenance": []
    },
    "kernelspec": {
      "name": "python3",
      "display_name": "Python 3"
    },
    "language_info": {
      "name": "python"
    }
  },
  "cells": [
    {
      "cell_type": "markdown",
      "source": [
        "# LeetCode Problem: Longest Palindromic Substring"
      ],
      "metadata": {
        "id": "kX0wDgaRlZ7l"
      }
    },
    {
      "cell_type": "code",
      "execution_count": 4,
      "metadata": {
        "colab": {
          "base_uri": "https://localhost:8080/"
        },
        "id": "zXMR8BaWiqlJ",
        "outputId": "35b69999-d745-4048-f192-9083057c9fa6"
      },
      "outputs": [
        {
          "output_type": "stream",
          "name": "stdout",
          "text": [
            "bab\n"
          ]
        }
      ],
      "source": [
        "def longestPalindrome(s):\n",
        "    a = \"\"\n",
        "    for i in range(len(s)):\n",
        "        for j in range(i + 1, len(s) + 1):\n",
        "            ss = s[i:j]\n",
        "            if ss == ss[::-1] and len(ss) > len(a):\n",
        "                a = ss\n",
        "    return a\n",
        "\n",
        "\n",
        "s = \"babad\"\n",
        "print(longestPalindrome(s))"
      ]
    },
    {
      "cell_type": "code",
      "source": [],
      "metadata": {
        "id": "QPDojndOlVTO"
      },
      "execution_count": null,
      "outputs": []
    }
  ]
}