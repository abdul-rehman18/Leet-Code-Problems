{
  "nbformat": 4,
  "nbformat_minor": 0,
  "metadata": {
    "colab": {
      "provenance": []
    },
    "kernelspec": {
      "name": "python3",
      "display_name": "Python 3"
    },
    "language_info": {
      "name": "python"
    }
  },
  "cells": [
    {
      "cell_type": "markdown",
      "source": [
        "# LeetCode Problem: Time Needed to Buy Tickets"
      ],
      "metadata": {
        "id": "TUnmXgN3FcXQ"
      }
    },
    {
      "cell_type": "code",
      "execution_count": 1,
      "metadata": {
        "colab": {
          "base_uri": "https://localhost:8080/"
        },
        "id": "zr57EICoErAG",
        "outputId": "1c80bcdc-f88f-41c8-cd72-ed98da53e4fd"
      },
      "outputs": [
        {
          "output_type": "stream",
          "name": "stdout",
          "text": [
            "6\n"
          ]
        }
      ],
      "source": [
        "def timeRequiredToBuy(tickets, k):\n",
        "        t = 0\n",
        "        for i, x in enumerate(tickets):\n",
        "            if i <= k:\n",
        "                t += min(tickets[i], tickets[k])\n",
        "            else:\n",
        "                t += min(tickets[i], tickets[k] - 1)\n",
        "        return t\n",
        "\n",
        "\n",
        "tickets = [2,3,2]\n",
        "k = 2\n",
        "\n",
        "print(timeRequiredToBuy(tickets, k))"
      ]
    },
    {
      "cell_type": "code",
      "source": [],
      "metadata": {
        "id": "aNcAWsvUFr-v"
      },
      "execution_count": null,
      "outputs": []
    }
  ]
}