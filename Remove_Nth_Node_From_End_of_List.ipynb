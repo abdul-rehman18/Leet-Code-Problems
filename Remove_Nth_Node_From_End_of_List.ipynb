{
  "nbformat": 4,
  "nbformat_minor": 0,
  "metadata": {
    "colab": {
      "provenance": []
    },
    "kernelspec": {
      "name": "python3",
      "display_name": "Python 3"
    },
    "language_info": {
      "name": "python"
    }
  },
  "cells": [
    {
      "cell_type": "markdown",
      "source": [
        "# LeetCode Problem: Remove Nth Node From End of List"
      ],
      "metadata": {
        "id": "aEXrRWUUJZpF"
      }
    },
    {
      "cell_type": "code",
      "execution_count": 1,
      "metadata": {
        "colab": {
          "base_uri": "https://localhost:8080/"
        },
        "id": "6OmJFHfKHPMw",
        "outputId": "489b7111-610c-45c9-ce3c-25d59cb50c2d"
      },
      "outputs": [
        {
          "output_type": "stream",
          "name": "stdout",
          "text": [
            "Original linked list:\n",
            "1 -> 2 -> 3 -> 4 -> 5 -> None\n",
            "\n",
            "Linked list after removing 2th node from end:\n",
            "1 -> 2 -> 3 -> 5 -> None\n"
          ]
        }
      ],
      "source": [
        "# Definition for singly-linked list.\n",
        "class ListNode:\n",
        "    def __init__(self, val=0, next=None):\n",
        "        self.val = val\n",
        "        self.next = next\n",
        "\n",
        "class Solution:\n",
        "    def removeNthFromEnd(self, head, n):\n",
        "        prev, curr = head, head\n",
        "        for i in range(n):\n",
        "            curr = curr.next\n",
        "\n",
        "        if not curr:\n",
        "            return head.next\n",
        "\n",
        "        while curr.next:\n",
        "            prev = prev.next\n",
        "            curr = curr.next\n",
        "\n",
        "        prev.next = prev.next.next\n",
        "        return head\n",
        "\n",
        "def main():\n",
        "    # Create a linked list: 1 -> 2 -> 3 -> 4 -> 5\n",
        "    head = ListNode(1)\n",
        "    head.next = ListNode(2)\n",
        "    head.next.next = ListNode(3)\n",
        "    head.next.next.next = ListNode(4)\n",
        "    head.next.next.next.next = ListNode(5)\n",
        "\n",
        "    # Print original linked list\n",
        "    print(\"Original linked list:\")\n",
        "    print_linked_list(head)\n",
        "\n",
        "    # Remove 2nd node from the end\n",
        "    n = 2\n",
        "    sol = Solution()\n",
        "    head = sol.removeNthFromEnd(head, n)\n",
        "\n",
        "    # Print modified linked list\n",
        "    print(f\"\\nLinked list after removing {n}th node from end:\")\n",
        "    print_linked_list(head)\n",
        "\n",
        "def print_linked_list(head):\n",
        "    current = head\n",
        "    while current:\n",
        "        print(current.val, end=\" -> \")\n",
        "        current = current.next\n",
        "    print(\"None\")\n",
        "\n",
        "if __name__ == \"__main__\":\n",
        "    main()\n"
      ]
    },
    {
      "cell_type": "code",
      "source": [],
      "metadata": {
        "id": "xBEj9PGnJTAv"
      },
      "execution_count": null,
      "outputs": []
    }
  ]
}