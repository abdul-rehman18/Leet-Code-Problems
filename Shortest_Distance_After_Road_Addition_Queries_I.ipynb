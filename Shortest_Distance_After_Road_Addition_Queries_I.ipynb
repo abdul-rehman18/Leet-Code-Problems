{
  "nbformat": 4,
  "nbformat_minor": 0,
  "metadata": {
    "colab": {
      "provenance": []
    },
    "kernelspec": {
      "name": "python3",
      "display_name": "Python 3"
    },
    "language_info": {
      "name": "python"
    }
  },
  "cells": [
    {
      "cell_type": "markdown",
      "source": [
        "# LeetCode Problem: Shortest Distance After Road Addition Queries I"
      ],
      "metadata": {
        "id": "fKi3kgby9a1T"
      }
    },
    {
      "cell_type": "code",
      "execution_count": null,
      "metadata": {
        "id": "4PtRQU_p9Fs-"
      },
      "outputs": [],
      "source": [
        "class Solution:\n",
        "    def updateDistances(self, graph, current, distances):\n",
        "        newDist = distances[current] + 1\n",
        "\n",
        "        for neighbor in graph[current]:\n",
        "            if distances[neighbor] <= newDist:\n",
        "                continue\n",
        "\n",
        "            distances[neighbor] = newDist\n",
        "            self.updateDistances(graph, neighbor, distances)\n",
        "\n",
        "    def shortestDistanceAfterQueries(self, n, queries):\n",
        "        distances = [n - 1 - i for i in range(n)]\n",
        "\n",
        "        graph = [[] for _ in range(n)]\n",
        "        for i in range(n-1):\n",
        "            graph[i + 1].append(i)\n",
        "\n",
        "        answer = []\n",
        "\n",
        "        for source, target in queries:\n",
        "            graph[target].append(source)\n",
        "            distances[source] = min(distances[source], distances[target] + 1)\n",
        "            self.updateDistances(graph, source, distances)\n",
        "\n",
        "            answer.append(distances[0])\n",
        "\n",
        "        return answer\n",
        "\n",
        "n = 5\n",
        "queries = [[2,4],[0,2],[0,4]]\n",
        "\n"
      ]
    }
  ]
}