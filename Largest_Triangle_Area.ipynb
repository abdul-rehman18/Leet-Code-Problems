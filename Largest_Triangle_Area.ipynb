{
  "nbformat": 4,
  "nbformat_minor": 0,
  "metadata": {
    "colab": {
      "provenance": []
    },
    "kernelspec": {
      "name": "python3",
      "display_name": "Python 3"
    },
    "language_info": {
      "name": "python"
    }
  },
  "cells": [
    {
      "cell_type": "markdown",
      "source": [
        "# LeetCode Problem: Largest Triangle Area"
      ],
      "metadata": {
        "id": "mJeSs2-yekBM"
      }
    },
    {
      "cell_type": "code",
      "execution_count": 1,
      "metadata": {
        "colab": {
          "base_uri": "https://localhost:8080/"
        },
        "id": "zK0hwnETeVGP",
        "outputId": "3fdf4002-b979-4cfd-c11c-d7e89d6c8e1f"
      },
      "outputs": [
        {
          "output_type": "stream",
          "name": "stdout",
          "text": [
            "2.0\n"
          ]
        }
      ],
      "source": [
        "def largestTriangleArea(points):\n",
        "        res = 0\n",
        "        n = len(points)\n",
        "        for i in range(n):\n",
        "            x1, y1 = points[i]\n",
        "            for j in range(i+1, n):\n",
        "                x2, y2 = points[j]\n",
        "                for k in range(j+1, n):\n",
        "                    x3, y3 = points[k]\n",
        "                    cur = abs(0.5*(x1*(y2 - y3) + x2*(y3 - y1) + x3*(y1 - y2)))\n",
        "                    if cur > res:\n",
        "                        res = cur\n",
        "        return res\n",
        "\n",
        "\n",
        "points = [[0,0],[0,1],[1,0],[0,2],[2,0]]\n",
        "print(largestTriangleArea(points))"
      ]
    },
    {
      "cell_type": "code",
      "source": [],
      "metadata": {
        "id": "6B7Fm13merEt"
      },
      "execution_count": null,
      "outputs": []
    }
  ]
}