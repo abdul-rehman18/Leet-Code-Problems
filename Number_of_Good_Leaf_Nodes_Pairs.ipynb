{
  "nbformat": 4,
  "nbformat_minor": 0,
  "metadata": {
    "colab": {
      "provenance": []
    },
    "kernelspec": {
      "name": "python3",
      "display_name": "Python 3"
    },
    "language_info": {
      "name": "python"
    }
  },
  "cells": [
    {
      "cell_type": "markdown",
      "source": [
        "# LeetCode Problem: Number of Good Leaf Nodes Pairs"
      ],
      "metadata": {
        "id": "gUvwgemG1dNs"
      }
    },
    {
      "cell_type": "code",
      "execution_count": 1,
      "metadata": {
        "colab": {
          "base_uri": "https://localhost:8080/"
        },
        "id": "47E1FKPh1R2L",
        "outputId": "30957581-28a2-43c5-dbbe-5408b86e127e"
      },
      "outputs": [
        {
          "output_type": "stream",
          "name": "stdout",
          "text": [
            "Number of good leaf node pairs: 3\n"
          ]
        }
      ],
      "source": [
        "class TreeNode:\n",
        "    def __init__(self, val=0, left=None, right=None):\n",
        "        self.val = val\n",
        "        self.left = left\n",
        "        self.right = right\n",
        "\n",
        "class Solution:\n",
        "    def countPairs(self, root: TreeNode, distance: int) -> int:\n",
        "        self.map = {}\n",
        "        self.leaves = []\n",
        "        self.findLeaves(root, [], self.leaves, self.map)\n",
        "        res = 0\n",
        "        for i in range(len(self.leaves)):\n",
        "            for j in range(i + 1, len(self.leaves)):\n",
        "                list_i, list_j = self.map[self.leaves[i]], self.map[self.leaves[j]]\n",
        "                for k in range(min(len(list_i), len(list_j))):\n",
        "                    if list_i[k] != list_j[k]:\n",
        "                        dist = len(list_i) - k + len(list_j) - k\n",
        "                        if dist <= distance:\n",
        "                            res += 1\n",
        "                        break\n",
        "        return res\n",
        "\n",
        "    def findLeaves(self, node: TreeNode, trail: list, leaves: list, map: dict):\n",
        "        if not node:\n",
        "            return\n",
        "        tmp = trail[:]\n",
        "        tmp.append(node)\n",
        "        if not node.left and not node.right:\n",
        "            map[node] = tmp\n",
        "            leaves.append(node)\n",
        "            return\n",
        "        self.findLeaves(node.left, tmp, leaves, map)\n",
        "        self.findLeaves(node.right, tmp, leaves, map)\n",
        "\n",
        "def main():\n",
        "    # Create a sample binary tree\n",
        "    root = TreeNode(1)\n",
        "    root.left = TreeNode(2)\n",
        "    root.right = TreeNode(3)\n",
        "    root.left.left = TreeNode(4)\n",
        "    root.left.right = TreeNode(5)\n",
        "    root.right.right = TreeNode(6)\n",
        "    root.left.left.left = TreeNode(7)\n",
        "    root.left.left.right = TreeNode(8)\n",
        "    root.right.right.right = TreeNode(9)\n",
        "\n",
        "    # Instantiate Solution and call the method\n",
        "    sol = Solution()\n",
        "    distance = 3\n",
        "    result = sol.countPairs(root, distance)\n",
        "    print(f\"Number of good leaf node pairs: {result}\")\n",
        "\n",
        "if __name__ == \"__main__\":\n",
        "    main()\n"
      ]
    },
    {
      "cell_type": "code",
      "source": [],
      "metadata": {
        "id": "m0iko-cW1w4t"
      },
      "execution_count": null,
      "outputs": []
    }
  ]
}