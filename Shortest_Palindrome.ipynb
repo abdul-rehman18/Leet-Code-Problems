{
  "nbformat": 4,
  "nbformat_minor": 0,
  "metadata": {
    "colab": {
      "provenance": []
    },
    "kernelspec": {
      "name": "python3",
      "display_name": "Python 3"
    },
    "language_info": {
      "name": "python"
    }
  },
  "cells": [
    {
      "cell_type": "markdown",
      "source": [
        "# LeetCode Problem: Shortest Palindrome"
      ],
      "metadata": {
        "id": "bWjZIqzdsHV8"
      }
    },
    {
      "cell_type": "code",
      "execution_count": 1,
      "metadata": {
        "colab": {
          "base_uri": "https://localhost:8080/"
        },
        "id": "3vA5YpWar20I",
        "outputId": "e3f6a694-8595-4430-fd6c-ca92472e64d6"
      },
      "outputs": [
        {
          "output_type": "stream",
          "name": "stdout",
          "text": [
            "aaacecaaa\n"
          ]
        }
      ],
      "source": [
        "def shortestPalindrome(s):\n",
        "        r = s[::-1]\n",
        "        for i in range(len(s) + 1):\n",
        "            if s.startswith(r[i:]):\n",
        "                return r[:i] + s\n",
        "\n",
        "s = \"aacecaaa\"\n",
        "print(shortestPalindrome(s))"
      ]
    },
    {
      "cell_type": "code",
      "source": [],
      "metadata": {
        "id": "keZjesCjsYu4"
      },
      "execution_count": null,
      "outputs": []
    }
  ]
}