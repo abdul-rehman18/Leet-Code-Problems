{
  "nbformat": 4,
  "nbformat_minor": 0,
  "metadata": {
    "colab": {
      "provenance": []
    },
    "kernelspec": {
      "name": "python3",
      "display_name": "Python 3"
    },
    "language_info": {
      "name": "python"
    }
  },
  "cells": [
    {
      "cell_type": "markdown",
      "source": [
        "# LeetCode Problem: Maximum Number of Moves in a Grid"
      ],
      "metadata": {
        "id": "iT0Xkh3WRZcr"
      }
    },
    {
      "cell_type": "code",
      "execution_count": 1,
      "metadata": {
        "colab": {
          "base_uri": "https://localhost:8080/"
        },
        "id": "Pdb4gJ1ORRbc",
        "outputId": "cab9f00e-9da1-4224-904f-1d27d0ce0b3d"
      },
      "outputs": [
        {
          "output_type": "stream",
          "name": "stdout",
          "text": [
            "3\n"
          ]
        }
      ],
      "source": [
        "def maxMoves(grid):\n",
        "        m, n = len(grid), len(grid[0])\n",
        "        dp = [[0] * n for _ in range(m)]\n",
        "        max_moves = 0\n",
        "\n",
        "        for col in range(n - 2, -1, -1):\n",
        "            for row in range(m):\n",
        "                if row > 0 and grid[row][col] < grid[row - 1][col + 1]:\n",
        "                    dp[row][col] = max(dp[row][col], dp[row - 1][col + 1] + 1)\n",
        "                if grid[row][col] < grid[row][col + 1]:\n",
        "                    dp[row][col] = max(dp[row][col], dp[row][col + 1] + 1)\n",
        "                if row < m - 1 and grid[row][col] < grid[row + 1][col + 1]:\n",
        "                    dp[row][col] = max(dp[row][col], dp[row + 1][col + 1] + 1)\n",
        "\n",
        "        for row in range(m):\n",
        "            max_moves = max(max_moves, dp[row][0])\n",
        "        return max_moves\n",
        "\n",
        "grid = [[2,4,3,5],[5,4,9,3],[3,4,2,11],[10,9,13,15]]\n",
        "\n",
        "\n",
        "print(maxMoves(grid))"
      ]
    },
    {
      "cell_type": "code",
      "source": [],
      "metadata": {
        "id": "03kO8qCURx62"
      },
      "execution_count": null,
      "outputs": []
    }
  ]
}