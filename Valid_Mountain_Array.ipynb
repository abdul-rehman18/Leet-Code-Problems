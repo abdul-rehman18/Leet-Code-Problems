{
  "nbformat": 4,
  "nbformat_minor": 0,
  "metadata": {
    "colab": {
      "provenance": []
    },
    "kernelspec": {
      "name": "python3",
      "display_name": "Python 3"
    },
    "language_info": {
      "name": "python"
    }
  },
  "cells": [
    {
      "cell_type": "markdown",
      "source": [
        "# LeetCode Problem: Valid Mountain Array"
      ],
      "metadata": {
        "id": "XAYhNALOeNh4"
      }
    },
    {
      "cell_type": "code",
      "execution_count": 13,
      "metadata": {
        "colab": {
          "base_uri": "https://localhost:8080/"
        },
        "id": "b1LyKRznd_d5",
        "outputId": "7602421d-38df-40de-90cc-f840cb9a849b"
      },
      "outputs": [
        {
          "output_type": "stream",
          "name": "stdout",
          "text": [
            "0\n",
            "3\n",
            "2\n",
            "True\n"
          ]
        }
      ],
      "source": [
        "def validMountainArray(arr):\n",
        "    if len(arr) < 3:\n",
        "        return False\n",
        "\n",
        "    peak = arr.index(max(arr))\n",
        "\n",
        "    if peak == 0 or peak == len(arr) - 1:\n",
        "        return False\n",
        "\n",
        "    for i in range(peak):\n",
        "        if arr[i] >= arr[i+1]:\n",
        "            return False\n",
        "\n",
        "    for i in range(peak, len(arr) - 1):\n",
        "        if arr[i] <= arr[i+1]:\n",
        "            return False\n",
        "\n",
        "    return True\n",
        "\n",
        "arr = [0, 3, 2, 1]\n",
        "print(validMountainArray(arr))\n"
      ]
    },
    {
      "cell_type": "code",
      "source": [],
      "metadata": {
        "id": "m01-PSfkeHvF"
      },
      "execution_count": null,
      "outputs": []
    }
  ]
}