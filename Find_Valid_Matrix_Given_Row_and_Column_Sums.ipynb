{
  "nbformat": 4,
  "nbformat_minor": 0,
  "metadata": {
    "colab": {
      "provenance": []
    },
    "kernelspec": {
      "name": "python3",
      "display_name": "Python 3"
    },
    "language_info": {
      "name": "python"
    }
  },
  "cells": [
    {
      "cell_type": "markdown",
      "source": [
        "# LeetCode Problem: Find Valid Matrix Given Row and Column Sums"
      ],
      "metadata": {
        "id": "9VV9Y-vzUvuQ"
      }
    },
    {
      "cell_type": "code",
      "execution_count": 1,
      "metadata": {
        "colab": {
          "base_uri": "https://localhost:8080/"
        },
        "id": "twlc_o73UZMI",
        "outputId": "52e5f3d5-81dc-48d9-99c9-865166ec8ca2"
      },
      "outputs": [
        {
          "output_type": "stream",
          "name": "stdout",
          "text": [
            "[[3, 0], [1, 7]]\n"
          ]
        }
      ],
      "source": [
        "def restoreMatrix(rowSum, colSum):\n",
        "        r, c=len(rowSum), len(colSum)\n",
        "        arr=[[0]*c for _ in range(r)]\n",
        "        i, j=0, 0\n",
        "        while i<r and j<c:\n",
        "            x=min(rowSum[i], colSum[j])\n",
        "            arr[i][j]=x\n",
        "            rowSum[i]-=x\n",
        "            colSum[j]-=x\n",
        "            i+=(rowSum[i]==0)\n",
        "            j+=(colSum[j]==0)\n",
        "        return arr\n",
        "\n",
        "\n",
        "rowSum = [3,8]\n",
        "colSum = [4,7]\n",
        "\n",
        "print(restoreMatrix(rowSum, colSum))"
      ]
    },
    {
      "cell_type": "code",
      "source": [],
      "metadata": {
        "id": "SyeQWM6ZVBGv"
      },
      "execution_count": null,
      "outputs": []
    }
  ]
}