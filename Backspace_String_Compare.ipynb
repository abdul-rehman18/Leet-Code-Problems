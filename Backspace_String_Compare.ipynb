{
  "nbformat": 4,
  "nbformat_minor": 0,
  "metadata": {
    "colab": {
      "provenance": []
    },
    "kernelspec": {
      "name": "python3",
      "display_name": "Python 3"
    },
    "language_info": {
      "name": "python"
    }
  },
  "cells": [
    {
      "cell_type": "markdown",
      "source": [
        "# LeetCode Problem: Backspace String Compare"
      ],
      "metadata": {
        "id": "4B64_xd94mA3"
      }
    },
    {
      "cell_type": "code",
      "execution_count": 1,
      "metadata": {
        "colab": {
          "base_uri": "https://localhost:8080/"
        },
        "id": "oow0rB-T4jaj",
        "outputId": "0c489ac8-cb74-45a2-966d-d2b8200ccda1"
      },
      "outputs": [
        {
          "output_type": "stream",
          "name": "stdout",
          "text": [
            "True\n"
          ]
        }
      ],
      "source": [
        " def backspaceCompare(s, t):\n",
        "        def remove_characters(s):\n",
        "            st = []\n",
        "            for ch in s:\n",
        "                if ch == '#' and st:\n",
        "                    st.pop()\n",
        "                elif ch != '#':\n",
        "                    st.append(ch)\n",
        "            return st\n",
        "\n",
        "        return remove_characters(s) == remove_characters(t)\n",
        "\n",
        "\n",
        "s = \"ab#c\"\n",
        "t = \"ad#c\"\n",
        "print(backspaceCompare(s, t))"
      ]
    },
    {
      "cell_type": "code",
      "source": [],
      "metadata": {
        "id": "mhjw8eQh5h_o"
      },
      "execution_count": null,
      "outputs": []
    }
  ]
}