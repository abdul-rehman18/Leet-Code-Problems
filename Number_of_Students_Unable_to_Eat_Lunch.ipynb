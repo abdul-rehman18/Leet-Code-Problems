{
  "nbformat": 4,
  "nbformat_minor": 0,
  "metadata": {
    "colab": {
      "provenance": []
    },
    "kernelspec": {
      "name": "python3",
      "display_name": "Python 3"
    },
    "language_info": {
      "name": "python"
    }
  },
  "cells": [
    {
      "cell_type": "markdown",
      "source": [
        "# LeetCode Problem: Number of Students Unable to Eat Lunch"
      ],
      "metadata": {
        "id": "n3fpM2nl8JoP"
      }
    },
    {
      "cell_type": "code",
      "execution_count": 1,
      "metadata": {
        "colab": {
          "base_uri": "https://localhost:8080/"
        },
        "id": "e4b3ufJ57FE5",
        "outputId": "5d816fac-b705-4c7a-ab41-347a5928a5a3"
      },
      "outputs": [
        {
          "output_type": "stream",
          "name": "stdout",
          "text": [
            "0\n"
          ]
        }
      ],
      "source": [
        "def countStudents(students, sandwiches):\n",
        "        counts = [0, 0]\n",
        "        for student in students:\n",
        "            counts[student] += 1\n",
        "\n",
        "        remaining = len(sandwiches)\n",
        "        for sandwich in sandwiches:\n",
        "            if counts[sandwich] == 0:\n",
        "                break\n",
        "            if remaining == 0:\n",
        "                break\n",
        "            counts[sandwich] -= 1\n",
        "            remaining -= 1\n",
        "\n",
        "        return remaining\n",
        "\n",
        "students = [1,1,0,0]\n",
        "sandwiches = [0,1,0,1]\n",
        "print(countStudents(students, sandwiches))"
      ]
    },
    {
      "cell_type": "code",
      "source": [],
      "metadata": {
        "id": "4Lb0uXKM7_aw"
      },
      "execution_count": null,
      "outputs": []
    }
  ]
}