{
  "nbformat": 4,
  "nbformat_minor": 0,
  "metadata": {
    "colab": {
      "provenance": []
    },
    "kernelspec": {
      "name": "python3",
      "display_name": "Python 3"
    },
    "language_info": {
      "name": "python"
    }
  },
  "cells": [
    {
      "cell_type": "markdown",
      "source": [
        "# LeetCode Problem: Minimum Number of Operations to Move All Balls to Each Box"
      ],
      "metadata": {
        "id": "QfzCFSbg0ErL"
      }
    },
    {
      "cell_type": "code",
      "execution_count": 1,
      "metadata": {
        "colab": {
          "base_uri": "https://localhost:8080/"
        },
        "id": "zZx5RSzWz4rQ",
        "outputId": "69477fcc-0878-468b-f36b-a9252b5af8cb"
      },
      "outputs": [
        {
          "output_type": "stream",
          "name": "stdout",
          "text": [
            "[1, 1, 3]\n"
          ]
        }
      ],
      "source": [
        "def minOperations(boxes):\n",
        "        n = len(boxes)\n",
        "        left = [0] * n\n",
        "        right = [0] * n\n",
        "        cnt = 0\n",
        "        for i in range(1, n):\n",
        "            if boxes[i - 1] == '1':\n",
        "                cnt += 1\n",
        "            left[i] = left[i - 1] + cnt\n",
        "        cnt = 0\n",
        "        for i in range(n - 2, -1, -1):\n",
        "            if boxes[i + 1] == '1':\n",
        "                cnt += 1\n",
        "            right[i] = right[i + 1] + cnt\n",
        "        return [a + b for a, b in zip(left, right)]\n",
        "\n",
        "boxes = \"110\"\n",
        "\n",
        "print(minOperations(boxes))\n"
      ]
    },
    {
      "cell_type": "code",
      "source": [],
      "metadata": {
        "id": "baMLZ5Vu0-QX"
      },
      "execution_count": null,
      "outputs": []
    }
  ]
}