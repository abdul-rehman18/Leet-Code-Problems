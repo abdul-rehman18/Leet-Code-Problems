{
  "nbformat": 4,
  "nbformat_minor": 0,
  "metadata": {
    "colab": {
      "provenance": []
    },
    "kernelspec": {
      "name": "python3",
      "display_name": "Python 3"
    },
    "language_info": {
      "name": "python"
    }
  },
  "cells": [
    {
      "cell_type": "markdown",
      "source": [
        "# LeetCode Problem: Maximum Matrix Sum"
      ],
      "metadata": {
        "id": "DlvKDQYeCrBH"
      }
    },
    {
      "cell_type": "code",
      "execution_count": null,
      "metadata": {
        "id": "CfRQjFuWCLMR"
      },
      "outputs": [],
      "source": [
        "def maxMatrixSum(self, matrix: List[List[int]]) -> int:\n",
        "        total_sum = 0\n",
        "        negative_count = 0\n",
        "        min_abs_value = float('inf')\n",
        "\n",
        "        for row in matrix:\n",
        "            for value in row:\n",
        "                total_sum += abs(value)\n",
        "                if value < 0:\n",
        "                    negative_count += 1\n",
        "                min_abs_value = min(min_abs_value, abs(value))\n",
        "\n",
        "        # If the count of negative numbers is odd, subtract twice the smallest absolute value\n",
        "        if negative_count % 2 == 1:\n",
        "            total_sum -= 2 * min_abs_value\n",
        "\n",
        "        return total_sum"
      ]
    }
  ]
}