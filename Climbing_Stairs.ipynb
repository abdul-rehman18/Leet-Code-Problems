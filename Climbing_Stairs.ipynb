{
 "cells": [
  {
   "cell_type": "markdown",
   "id": "dd71a54f",
   "metadata": {},
   "source": [
    "# LeetCode Problem: Climbing Stairs"
   ]
  },
  {
   "cell_type": "code",
   "execution_count": 4,
   "id": "1b6f12f8",
   "metadata": {},
   "outputs": [
    {
     "name": "stdout",
     "output_type": "stream",
     "text": [
      "3\n"
     ]
    }
   ],
   "source": [
    "def climbStairs(n):\n",
    "    memo ={}\n",
    "    memo[1] = 1\n",
    "    memo[2] = 2\n",
    "        \n",
    "    def climb(n):\n",
    "        if n in memo: \n",
    "            return memo[n]\n",
    "        else:   \n",
    "            memo[n] =  climb(n-1) + climb(n-2)\n",
    "            return memo[n]\n",
    "        \n",
    "    return climb(n)\n",
    "\n",
    "n=3\n",
    "ans=climbStairs(n)\n",
    "print(ans)"
   ]
  },
  {
   "cell_type": "code",
   "execution_count": null,
   "id": "79fd34d9",
   "metadata": {},
   "outputs": [],
   "source": []
  }
 ],
 "metadata": {
  "kernelspec": {
   "display_name": "Python 3 (ipykernel)",
   "language": "python",
   "name": "python3"
  },
  "language_info": {
   "codemirror_mode": {
    "name": "ipython",
    "version": 3
   },
   "file_extension": ".py",
   "mimetype": "text/x-python",
   "name": "python",
   "nbconvert_exporter": "python",
   "pygments_lexer": "ipython3",
   "version": "3.10.9"
  }
 },
 "nbformat": 4,
 "nbformat_minor": 5
}
