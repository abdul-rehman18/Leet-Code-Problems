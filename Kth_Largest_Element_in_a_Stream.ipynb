{
  "nbformat": 4,
  "nbformat_minor": 0,
  "metadata": {
    "colab": {
      "provenance": []
    },
    "kernelspec": {
      "name": "python3",
      "display_name": "Python 3"
    },
    "language_info": {
      "name": "python"
    }
  },
  "cells": [
    {
      "cell_type": "markdown",
      "source": [
        "# LeetCode Problem: Kth Largest Element in a Stream"
      ],
      "metadata": {
        "id": "lHnv8eW6DhGZ"
      }
    },
    {
      "cell_type": "code",
      "execution_count": 1,
      "metadata": {
        "colab": {
          "base_uri": "https://localhost:8080/"
        },
        "id": "qWdxvUhPDM8A",
        "outputId": "b39ae2a5-af62-4604-b804-58bbf08ab3a7"
      },
      "outputs": [
        {
          "output_type": "stream",
          "name": "stdout",
          "text": [
            "4\n",
            "5\n",
            "5\n",
            "8\n",
            "8\n"
          ]
        }
      ],
      "source": [
        "import heapq\n",
        "\n",
        "class KthLargest:\n",
        "    def __init__(self, k, nums):\n",
        "        self.heap = []\n",
        "        self.k = k\n",
        "        for i in nums:\n",
        "            if len(self.heap) < k:\n",
        "                heapq.heappush(self.heap, i)\n",
        "            else:\n",
        "                if i > self.heap[0]:\n",
        "                    heapq.heappushpop(self.heap, i)\n",
        "\n",
        "    def add(self, val):\n",
        "        if len(self.heap) < self.k:\n",
        "            heapq.heappush(self.heap, val)\n",
        "        else:\n",
        "            if val > self.heap[0]:\n",
        "                heapq.heappushpop(self.heap, val)\n",
        "        return self.heap[0]\n",
        "\n",
        "# Example usage\n",
        "if __name__ == \"__main__\":\n",
        "    k = 3\n",
        "    nums = [4, 5, 8, 2]\n",
        "    kth_largest = KthLargest(k, nums)\n",
        "\n",
        "    print(kth_largest.add(3))  # Output: 4\n",
        "    print(kth_largest.add(5))  # Output: 5\n",
        "    print(kth_largest.add(10))  # Output: 5\n",
        "    print(kth_largest.add(9))  # Output: 8\n",
        "    print(kth_largest.add(4))  # Output: 8\n"
      ]
    },
    {
      "cell_type": "code",
      "source": [],
      "metadata": {
        "id": "PNIBjbj0EmP-"
      },
      "execution_count": null,
      "outputs": []
    }
  ]
}