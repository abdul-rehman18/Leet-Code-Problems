{
  "nbformat": 4,
  "nbformat_minor": 0,
  "metadata": {
    "colab": {
      "provenance": []
    },
    "kernelspec": {
      "name": "python3",
      "display_name": "Python 3"
    },
    "language_info": {
      "name": "python"
    }
  },
  "cells": [
    {
      "cell_type": "markdown",
      "source": [
        "# LeetCode Problem: Maximum Total Importance of Roads"
      ],
      "metadata": {
        "id": "3KTVoJXsG2w3"
      }
    },
    {
      "cell_type": "code",
      "execution_count": 1,
      "metadata": {
        "colab": {
          "base_uri": "https://localhost:8080/"
        },
        "id": "8LFC_oQ9GwF-",
        "outputId": "4bbcea78-6ad6-4add-c527-660e809dd6e3"
      },
      "outputs": [
        {
          "output_type": "stream",
          "name": "stdout",
          "text": [
            "43\n"
          ]
        }
      ],
      "source": [
        "def maximumImportance(n, roads):\n",
        "        res = 0\n",
        "        cost = 1\n",
        "        conn = [0] * n\n",
        "        for road in roads:\n",
        "            conn[road[0]] += 1\n",
        "            conn[road[1]] += 1\n",
        "\n",
        "        conn.sort()\n",
        "        for con in conn:\n",
        "            res += con * cost\n",
        "            cost += 1\n",
        "        return res\n",
        "\n",
        "n = 5\n",
        "roads = [[0,1],[1,2],[2,3],[0,2],[1,3],[2,4]]\n",
        "\n",
        "print(maximumImportance(n, roads))"
      ]
    },
    {
      "cell_type": "code",
      "source": [],
      "metadata": {
        "id": "VwdpY2IxHSrf"
      },
      "execution_count": null,
      "outputs": []
    }
  ]
}