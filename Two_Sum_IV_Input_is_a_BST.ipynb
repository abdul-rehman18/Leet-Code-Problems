{
  "nbformat": 4,
  "nbformat_minor": 0,
  "metadata": {
    "colab": {
      "provenance": []
    },
    "kernelspec": {
      "name": "python3",
      "display_name": "Python 3"
    },
    "language_info": {
      "name": "python"
    }
  },
  "cells": [
    {
      "cell_type": "markdown",
      "source": [
        "# LeetCode Problem: Two Sum IV - Input is a BST"
      ],
      "metadata": {
        "id": "rrfiU1kVRTEO"
      }
    },
    {
      "cell_type": "code",
      "execution_count": 2,
      "metadata": {
        "colab": {
          "base_uri": "https://localhost:8080/"
        },
        "id": "RMmQhRuDL6Zy",
        "outputId": "911452fc-d283-4d63-e077-0921200e300e"
      },
      "outputs": [
        {
          "output_type": "stream",
          "name": "stdout",
          "text": [
            "There are two elements in the BST that add up to 9: True\n"
          ]
        }
      ],
      "source": [
        "class TreeNode:\n",
        "    def __init__(self, val=0, left=None, right=None):\n",
        "        self.val = val\n",
        "        self.left = left\n",
        "        self.right = right\n",
        "\n",
        "class Solution:\n",
        "    def findTarget(self, root, k):\n",
        "        o = []\n",
        "        self.inorder(root, o)\n",
        "        l, r = 0, len(o) - 1\n",
        "        while l < r:\n",
        "            s = o[l] + o[r]\n",
        "            if s == k:\n",
        "                return True\n",
        "            else:\n",
        "                if s < k:\n",
        "                    l += 1\n",
        "                else:\n",
        "                    r -= 1\n",
        "        return False\n",
        "\n",
        "    def inorder(self, root, output):\n",
        "        if root is None:\n",
        "            return\n",
        "        else:\n",
        "            self.inorder(root.left, output)\n",
        "            output.append(root.val)\n",
        "            self.inorder(root.right, output)\n",
        "\n",
        "\n",
        "def main():\n",
        "    # Create a sample binary tree\n",
        "    root = TreeNode(5)\n",
        "    root.left = TreeNode(3)\n",
        "    root.right = TreeNode(6)\n",
        "    root.left.left = TreeNode(2)\n",
        "    root.left.right = TreeNode(4)\n",
        "    root.right.right = TreeNode(7)\n",
        "\n",
        "    # Create an instance of the Solution class\n",
        "    solution = Solution()\n",
        "\n",
        "    # Check if there are two elements in the BST that add up to a specific target (e.g., 9)\n",
        "    target_sum = 9\n",
        "    result = solution.findTarget(root, target_sum)\n",
        "\n",
        "    # Display the result\n",
        "    print(f\"There are two elements in the BST that add up to {target_sum}: {result}\")\n",
        "\n",
        "\n",
        "if __name__ == \"__main__\":\n",
        "    main()\n"
      ]
    },
    {
      "cell_type": "code",
      "source": [],
      "metadata": {
        "id": "EnNBFLHERa5I"
      },
      "execution_count": null,
      "outputs": []
    }
  ]
}