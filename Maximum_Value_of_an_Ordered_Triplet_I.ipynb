{
  "nbformat": 4,
  "nbformat_minor": 0,
  "metadata": {
    "colab": {
      "provenance": []
    },
    "kernelspec": {
      "name": "python3",
      "display_name": "Python 3"
    },
    "language_info": {
      "name": "python"
    }
  },
  "cells": [
    {
      "cell_type": "markdown",
      "source": [
        "# LeetCode Problem: Maximum Value of an Ordered Triplet I"
      ],
      "metadata": {
        "id": "hf25C_hoT79g"
      }
    },
    {
      "cell_type": "code",
      "execution_count": null,
      "metadata": {
        "id": "rpa5OZY7T30v"
      },
      "outputs": [],
      "source": [
        "from typing import List\n",
        "\n",
        "class Solution:\n",
        "    def maximumTripletValue(self, nums: List[int]) -> int:\n",
        "        n = len(nums)\n",
        "        if n < 3:\n",
        "            return 0\n",
        "\n",
        "        left_max = [0] * n\n",
        "        left_max[0] = nums[0]\n",
        "        for i in range(1, n):\n",
        "            left_max[i] = max(left_max[i - 1], nums[i])\n",
        "\n",
        "        right_max = [0] * n\n",
        "        right_max[-1] = nums[-1]\n",
        "        for i in range(n - 2, -1, -1):\n",
        "            right_max[i] = max(right_max[i + 1], nums[i])\n",
        "\n",
        "        ans = 0\n",
        "        for i in range(1, n - 1):\n",
        "            left = left_max[i - 1]\n",
        "            right = right_max[i + 1]\n",
        "            ans = max(ans, (left - nums[i]) * right)\n",
        "\n",
        "        return ans"
      ]
    }
  ]
}