{
  "nbformat": 4,
  "nbformat_minor": 0,
  "metadata": {
    "colab": {
      "provenance": []
    },
    "kernelspec": {
      "name": "python3",
      "display_name": "Python 3"
    },
    "language_info": {
      "name": "python"
    }
  },
  "cells": [
    {
      "cell_type": "markdown",
      "source": [
        "# LeetCode Problems: Find Numbers with Even Number of Digits"
      ],
      "metadata": {
        "id": "MuyXmcyQ3ppy"
      }
    },
    {
      "cell_type": "code",
      "execution_count": null,
      "metadata": {
        "id": "DcdOMvE63h_Z"
      },
      "outputs": [],
      "source": [
        "class Solution:\n",
        "    def findNumbers(self, nums: List[int]) -> int:\n",
        "        return sum(int(floor(log10(x))+1)%2==0 for x in nums)\n",
        ""
      ]
    }
  ]
}