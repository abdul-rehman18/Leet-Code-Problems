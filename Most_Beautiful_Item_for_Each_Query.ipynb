{
  "nbformat": 4,
  "nbformat_minor": 0,
  "metadata": {
    "colab": {
      "provenance": []
    },
    "kernelspec": {
      "name": "python3",
      "display_name": "Python 3"
    },
    "language_info": {
      "name": "python"
    }
  },
  "cells": [
    {
      "cell_type": "markdown",
      "source": [
        "# LeetCode Problem: Most Beautiful Item for Each Query"
      ],
      "metadata": {
        "id": "uh14OHp9SzRI"
      }
    },
    {
      "cell_type": "code",
      "execution_count": 1,
      "metadata": {
        "colab": {
          "base_uri": "https://localhost:8080/"
        },
        "id": "P2bJ1WNkB05I",
        "outputId": "33219048-644d-4e9f-936e-ae538af962f1"
      },
      "outputs": [
        {
          "output_type": "stream",
          "name": "stdout",
          "text": [
            "[2, 4, 5, 5, 6, 6]\n"
          ]
        }
      ],
      "source": [
        "def maximumBeauty(items, queries):\n",
        "\n",
        "        maxI = float('inf')\n",
        "        res = [[0, 0, maxI]]\n",
        "\n",
        "        items.sort(key=lambda x: x[0])\n",
        "\n",
        "        for price, beauty in items:\n",
        "            lastBracket = res[-1]\n",
        "            if beauty > lastBracket[1]:\n",
        "                res[-1][2] = price\n",
        "                res.append([price, beauty, maxI])\n",
        "\n",
        "        ans = []\n",
        "\n",
        "        for x in queries:\n",
        "            for i in range(len(res) - 1, -1, -1):\n",
        "                if res[i][0] <= x:\n",
        "                    ans.append(res[i][1])\n",
        "                    break\n",
        "\n",
        "        return ans\n",
        "\n",
        "items = [[1,2],[3,2],[2,4],[5,6],[3,5]]\n",
        "queries = [1,2,3,4,5,6]\n",
        "\n",
        "print(maximumBeauty(items, queries))\n"
      ]
    },
    {
      "cell_type": "code",
      "source": [],
      "metadata": {
        "id": "q9X8qktFTWOX"
      },
      "execution_count": null,
      "outputs": []
    }
  ]
}