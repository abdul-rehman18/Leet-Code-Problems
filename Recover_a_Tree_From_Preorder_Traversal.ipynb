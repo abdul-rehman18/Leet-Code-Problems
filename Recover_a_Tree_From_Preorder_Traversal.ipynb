{
  "nbformat": 4,
  "nbformat_minor": 0,
  "metadata": {
    "colab": {
      "provenance": []
    },
    "kernelspec": {
      "name": "python3",
      "display_name": "Python 3"
    },
    "language_info": {
      "name": "python"
    }
  },
  "cells": [
    {
      "cell_type": "markdown",
      "source": [
        "# LeetCode Problem: Recover a Tree From Preorder Traversal"
      ],
      "metadata": {
        "id": "wcgS8xzRoKH7"
      }
    },
    {
      "cell_type": "code",
      "execution_count": null,
      "metadata": {
        "id": "syJaF42Wn9ih"
      },
      "outputs": [],
      "source": [
        "# Definition for a binary tree node.\n",
        "# class TreeNode:\n",
        "#     def __init__(self, val=0, left=None, right=None):\n",
        "#         self.val = val\n",
        "#         self.left = left\n",
        "#         self.right = right\n",
        "class Solution:\n",
        "    def recoverFromPreorder(self, traversal: str) -> Optional[TreeNode]:\n",
        "        self.s = traversal\n",
        "        self.idx = 0\n",
        "        self.level = 0\n",
        "        node = TreeNode(-1)\n",
        "        self.helper(node, 0)\n",
        "        return node.left\n",
        "\n",
        "    def helper(self, parent, lvl):\n",
        "        while self.idx < len(self.s) and lvl == self.level:\n",
        "            num = 0\n",
        "            while self.idx < len(self.s) and self.s[self.idx].isdigit():\n",
        "                num = num * 10 + int(self.s[self.idx])\n",
        "                self.idx += 1\n",
        "            node = TreeNode(num)\n",
        "            if not parent.left:\n",
        "                parent.left = node\n",
        "            else:\n",
        "                parent.right = node\n",
        "            self.level = 0\n",
        "            while self.idx < len(self.s) and self.s[self.idx] == '-':\n",
        "                self.level += 1\n",
        "                self.idx += 1\n",
        "            self.helper(node, lvl + 1)"
      ]
    }
  ]
}