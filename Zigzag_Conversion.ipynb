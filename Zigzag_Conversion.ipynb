{
  "nbformat": 4,
  "nbformat_minor": 0,
  "metadata": {
    "colab": {
      "provenance": []
    },
    "kernelspec": {
      "name": "python3",
      "display_name": "Python 3"
    },
    "language_info": {
      "name": "python"
    }
  },
  "cells": [
    {
      "cell_type": "markdown",
      "source": [
        "# LeetCode Problem: Zigzag Conversion"
      ],
      "metadata": {
        "id": "daFKsa3Ql80k"
      }
    },
    {
      "cell_type": "code",
      "execution_count": 1,
      "metadata": {
        "colab": {
          "base_uri": "https://localhost:8080/"
        },
        "id": "oRF1dlKeijq7",
        "outputId": "b9b7401e-3fa6-4758-9835-3315d649e4b7"
      },
      "outputs": [
        {
          "output_type": "stream",
          "name": "stdout",
          "text": [
            "PAHNAPLSIIGYIR\n"
          ]
        }
      ],
      "source": [
        "def convert(s, numRows):\n",
        "        if numRows == 1 or numRows >= len(s):\n",
        "            return s\n",
        "        res = [''] * numRows\n",
        "        r,j = 0,1\n",
        "        for c in s:\n",
        "            res[r] += c\n",
        "            if r == 0:\n",
        "                j = 1\n",
        "            elif r == numRows - 1:\n",
        "                j = -1\n",
        "            r += j\n",
        "        return ''.join(res)\n",
        "\n",
        "\n",
        "s = \"PAYPALISHIRING\"\n",
        "numRows = 3\n",
        "print(convert(s, numRows))"
      ]
    },
    {
      "cell_type": "code",
      "source": [],
      "metadata": {
        "id": "5FYaMyL5l5dZ"
      },
      "execution_count": null,
      "outputs": []
    }
  ]
}