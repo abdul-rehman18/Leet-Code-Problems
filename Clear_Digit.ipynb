{
  "nbformat": 4,
  "nbformat_minor": 0,
  "metadata": {
    "colab": {
      "provenance": []
    },
    "kernelspec": {
      "name": "python3",
      "display_name": "Python 3"
    },
    "language_info": {
      "name": "python"
    }
  },
  "cells": [
    {
      "cell_type": "markdown",
      "source": [
        "# LeetCode Problem: Clear Digit"
      ],
      "metadata": {
        "id": "oG4kFizwWBt2"
      }
    },
    {
      "cell_type": "code",
      "execution_count": 1,
      "metadata": {
        "colab": {
          "base_uri": "https://localhost:8080/"
        },
        "id": "jk0nqefXUh8s",
        "outputId": "7e3964d8-cab8-4662-f8a5-c79f8dcffe0e"
      },
      "outputs": [
        {
          "output_type": "stream",
          "name": "stdout",
          "text": [
            "a\n"
          ]
        }
      ],
      "source": [
        "def clearDigits(s):\n",
        "        stack = []\n",
        "        for c in s:\n",
        "            if c.isdigit():\n",
        "                if stack:\n",
        "                    stack.pop()\n",
        "            else:\n",
        "                stack.append(c)\n",
        "        return \"\".join(stack)\n",
        "\n",
        "s = \"abc22\"\n",
        "print(clearDigits(s))"
      ]
    },
    {
      "cell_type": "code",
      "source": [],
      "metadata": {
        "id": "IZJtcpsvWNor"
      },
      "execution_count": null,
      "outputs": []
    }
  ]
}