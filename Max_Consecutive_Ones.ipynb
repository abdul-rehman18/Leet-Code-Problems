{
  "nbformat": 4,
  "nbformat_minor": 0,
  "metadata": {
    "colab": {
      "provenance": []
    },
    "kernelspec": {
      "name": "python3",
      "display_name": "Python 3"
    },
    "language_info": {
      "name": "python"
    }
  },
  "cells": [
    {
      "cell_type": "markdown",
      "source": [
        "# LeetCode Problem: Max Consecutive Ones"
      ],
      "metadata": {
        "id": "qHGyqoQxFXPt"
      }
    },
    {
      "cell_type": "code",
      "execution_count": 1,
      "metadata": {
        "colab": {
          "base_uri": "https://localhost:8080/"
        },
        "id": "KYgGbrIdFPL2",
        "outputId": "1aa43d21-cdd0-48d5-c786-92502197fed5"
      },
      "outputs": [
        {
          "output_type": "stream",
          "name": "stdout",
          "text": [
            "3\n"
          ]
        }
      ],
      "source": [
        "def findMaxConsecutiveOnes(nums):\n",
        "\n",
        "        count = maxCount = 0\n",
        "\n",
        "        for i in range(len(nums)):\n",
        "            if nums[i] == 1:\n",
        "                count += 1\n",
        "            else:\n",
        "                maxCount = max(count, maxCount)\n",
        "                count = 0\n",
        "\n",
        "        return max(count, maxCount)\n",
        "\n",
        "\n",
        "nums = [1,1,0,1,1,1]\n",
        "print(findMaxConsecutiveOnes(nums))"
      ]
    },
    {
      "cell_type": "code",
      "source": [],
      "metadata": {
        "id": "_lD4L-LSF3Tc"
      },
      "execution_count": null,
      "outputs": []
    }
  ]
}