{
  "nbformat": 4,
  "nbformat_minor": 0,
  "metadata": {
    "colab": {
      "provenance": []
    },
    "kernelspec": {
      "name": "python3",
      "display_name": "Python 3"
    },
    "language_info": {
      "name": "python"
    }
  },
  "cells": [
    {
      "cell_type": "markdown",
      "source": [
        "# LeetCode Problems:Count and Say"
      ],
      "metadata": {
        "id": "CwJ5uNkklh5k"
      }
    },
    {
      "cell_type": "code",
      "execution_count": null,
      "metadata": {
        "id": "hEgm8KXKlfx-"
      },
      "outputs": [],
      "source": [
        "class Solution:\n",
        "    def countAndSay(self, n: int) -> str:\n",
        "        res = \"1\"\n",
        "        for _ in range(n - 1):\n",
        "            temp, i = \"\", 0\n",
        "            while i < len(res):\n",
        "                count = 1\n",
        "                while i + 1 < len(res) and res[i] == res[i + 1]:\n",
        "                    i += 1\n",
        "                    count += 1\n",
        "                temp += str(count) + res[i]\n",
        "                i += 1\n",
        "            res = temp\n",
        "        return res"
      ]
    }
  ]
}