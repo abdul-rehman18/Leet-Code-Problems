{
  "nbformat": 4,
  "nbformat_minor": 0,
  "metadata": {
    "colab": {
      "provenance": []
    },
    "kernelspec": {
      "name": "python3",
      "display_name": "Python 3"
    },
    "language_info": {
      "name": "python"
    }
  },
  "cells": [
    {
      "cell_type": "markdown",
      "source": [
        "# LeetCode Problem: Student Attendance Record I\n"
      ],
      "metadata": {
        "id": "IZAZXFnCfVh9"
      }
    },
    {
      "cell_type": "code",
      "execution_count": 1,
      "metadata": {
        "colab": {
          "base_uri": "https://localhost:8080/"
        },
        "id": "KF8GRx6Qeeal",
        "outputId": "d784eb50-b378-4d16-dc9f-e44ba036037e"
      },
      "outputs": [
        {
          "output_type": "stream",
          "name": "stdout",
          "text": [
            "True\n"
          ]
        }
      ],
      "source": [
        "def checkRecord(s):\n",
        "        A_count = 0\n",
        "        L_count = 0\n",
        "        for i in s:\n",
        "            if i == \"A\":\n",
        "                A_count += 1\n",
        "                if A_count == 2:\n",
        "                    return False\n",
        "            if i == \"L\":\n",
        "                L_count += 1\n",
        "                if L_count > 2:\n",
        "                    return False\n",
        "            else:\n",
        "                L_count = 0\n",
        "        return True\n",
        "\n",
        "\n",
        "s = \"PPALLP\"\n",
        "print(checkRecord(s))"
      ]
    },
    {
      "cell_type": "code",
      "source": [],
      "metadata": {
        "id": "t1C6uNDwfxNL"
      },
      "execution_count": null,
      "outputs": []
    }
  ]
}