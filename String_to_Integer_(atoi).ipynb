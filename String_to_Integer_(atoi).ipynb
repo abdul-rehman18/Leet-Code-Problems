{
  "nbformat": 4,
  "nbformat_minor": 0,
  "metadata": {
    "colab": {
      "provenance": []
    },
    "kernelspec": {
      "name": "python3",
      "display_name": "Python 3"
    },
    "language_info": {
      "name": "python"
    }
  },
  "cells": [
    {
      "cell_type": "markdown",
      "source": [
        "# LeetCode Problem: String to Integer (atoi)"
      ],
      "metadata": {
        "id": "lIUHMbvsI2W-"
      }
    },
    {
      "cell_type": "code",
      "execution_count": 1,
      "metadata": {
        "colab": {
          "base_uri": "https://localhost:8080/"
        },
        "id": "Tz9r4RMWCZY5",
        "outputId": "cd967add-eedc-46ad-e24c-4a7808a54682"
      },
      "outputs": [
        {
          "output_type": "stream",
          "name": "stdout",
          "text": [
            "42\n"
          ]
        }
      ],
      "source": [
        "def myAtoi(s):\n",
        "        s = s.strip()\n",
        "        if not s:\n",
        "            return 0\n",
        "        i,n,m = 0,0,1\n",
        "        if s[0] == '+' or s[0] == '-':\n",
        "            m = -1 if s[0] == '-' else 1\n",
        "            i += 1\n",
        "        while i < len(s) and s[i].isdigit():\n",
        "            d = int(s[i])\n",
        "            if n > (2 ** 31 - 1 - d) // 10:\n",
        "                return 2 ** 31 - 1 if m == 1 else -2 ** 31\n",
        "            n = n * 10 + d\n",
        "            i += 1\n",
        "        return m * n\n",
        "\n",
        "s = \"42\"\n",
        "print(myAtoi(s))"
      ]
    },
    {
      "cell_type": "code",
      "source": [],
      "metadata": {
        "id": "DwZpA33OIyR4"
      },
      "execution_count": null,
      "outputs": []
    }
  ]
}