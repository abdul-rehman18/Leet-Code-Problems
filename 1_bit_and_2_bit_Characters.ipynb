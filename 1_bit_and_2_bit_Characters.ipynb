{
  "nbformat": 4,
  "nbformat_minor": 0,
  "metadata": {
    "colab": {
      "provenance": []
    },
    "kernelspec": {
      "name": "python3",
      "display_name": "Python 3"
    },
    "language_info": {
      "name": "python"
    }
  },
  "cells": [
    {
      "cell_type": "markdown",
      "source": [
        "# LeetCode Problem: 1-bit and 2-bit Characters"
      ],
      "metadata": {
        "id": "COWqn7HsjAk7"
      }
    },
    {
      "cell_type": "code",
      "execution_count": 1,
      "metadata": {
        "colab": {
          "base_uri": "https://localhost:8080/"
        },
        "id": "DqCwIzu3fDfD",
        "outputId": "3991caca-1499-4545-e64c-62754abaaabb"
      },
      "outputs": [
        {
          "output_type": "stream",
          "name": "stdout",
          "text": [
            "True\n"
          ]
        }
      ],
      "source": [
        "def isOneBitCharacter(bits):\n",
        "        ret = True\n",
        "        for bit in bits[-2::-1]:\n",
        "            if bit: ret = not ret\n",
        "            else: break\n",
        "        return ret\n",
        "bits = [1,0,0]\n",
        "print(isOneBitCharacter(bits))"
      ]
    },
    {
      "cell_type": "code",
      "source": [],
      "metadata": {
        "id": "E1FnZ-H8jLqo"
      },
      "execution_count": null,
      "outputs": []
    }
  ]
}