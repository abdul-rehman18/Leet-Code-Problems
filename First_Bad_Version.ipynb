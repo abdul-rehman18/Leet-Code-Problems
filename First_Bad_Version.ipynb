{
  "nbformat": 4,
  "nbformat_minor": 0,
  "metadata": {
    "colab": {
      "provenance": []
    },
    "kernelspec": {
      "name": "python3",
      "display_name": "Python 3"
    },
    "language_info": {
      "name": "python"
    }
  },
  "cells": [
    {
      "cell_type": "markdown",
      "source": [
        "# LeetCode Problem: First Bad Version"
      ],
      "metadata": {
        "id": "eNj51hJZ13zs"
      }
    },
    {
      "cell_type": "code",
      "execution_count": 2,
      "metadata": {
        "colab": {
          "base_uri": "https://localhost:8080/"
        },
        "id": "Xt9LcUOexa1z",
        "outputId": "a6b0153d-6811-4ef5-eaa7-12827eb94705"
      },
      "outputs": [
        {
          "output_type": "stream",
          "name": "stdout",
          "text": [
            "The first bad version is: 5\n"
          ]
        }
      ],
      "source": [
        "def isBadVersion(version: int) -> bool:\n",
        "    return version >= 5\n",
        "class Solution:\n",
        "    def firstBadVersion(self, n: int) -> int:\n",
        "        l,r = 1,n\n",
        "\n",
        "        while l < r:\n",
        "            m = l + (r - l) // 2\n",
        "            if isBadVersion(m):\n",
        "                r = m\n",
        "            else:\n",
        "                l = m + 1\n",
        "        return l\n",
        "def main():\n",
        "    solution = Solution()\n",
        "\n",
        "    total_versions = 10\n",
        "\n",
        "    first_bad_version = solution.firstBadVersion(total_versions)\n",
        "\n",
        "    print(f\"The first bad version is: {first_bad_version}\")\n",
        "\n",
        "if __name__ == \"__main__\":\n",
        "    main()\n"
      ]
    },
    {
      "cell_type": "code",
      "source": [],
      "metadata": {
        "id": "6aXAVUN02YMg"
      },
      "execution_count": null,
      "outputs": []
    }
  ]
}