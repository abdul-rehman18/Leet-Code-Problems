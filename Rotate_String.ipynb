{
  "nbformat": 4,
  "nbformat_minor": 0,
  "metadata": {
    "colab": {
      "provenance": []
    },
    "kernelspec": {
      "name": "python3",
      "display_name": "Python 3"
    },
    "language_info": {
      "name": "python"
    }
  },
  "cells": [
    {
      "cell_type": "markdown",
      "source": [
        "# LeetCode Problem: Rotate String"
      ],
      "metadata": {
        "id": "XuLchyt2RFMB"
      }
    },
    {
      "cell_type": "code",
      "execution_count": 1,
      "metadata": {
        "colab": {
          "base_uri": "https://localhost:8080/"
        },
        "id": "P-RHc-7hOugl",
        "outputId": "8e7cb312-e1bb-4f4b-f6eb-3cac5a9d69d6"
      },
      "outputs": [
        {
          "output_type": "stream",
          "name": "stdout",
          "text": [
            "True\n"
          ]
        }
      ],
      "source": [
        "def rotateString(s, goal):\n",
        "        return len(s) == len(goal) and s in goal+goal\n",
        "\n",
        "s = \"abcde\"\n",
        "goal = \"cdeab\"\n",
        "\n",
        "print(rotateString(s, goal))"
      ]
    },
    {
      "cell_type": "code",
      "source": [],
      "metadata": {
        "id": "KkyPttLpRga0"
      },
      "execution_count": null,
      "outputs": []
    }
  ]
}