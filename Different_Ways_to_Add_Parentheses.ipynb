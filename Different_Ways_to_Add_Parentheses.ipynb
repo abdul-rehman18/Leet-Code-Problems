{
  "nbformat": 4,
  "nbformat_minor": 0,
  "metadata": {
    "colab": {
      "provenance": []
    },
    "kernelspec": {
      "name": "python3",
      "display_name": "Python 3"
    },
    "language_info": {
      "name": "python"
    }
  },
  "cells": [
    {
      "cell_type": "markdown",
      "source": [
        "# LeetCode Problem: Different Ways to Add Parentheses"
      ],
      "metadata": {
        "id": "MUa2_XJpB8qK"
      }
    },
    {
      "cell_type": "code",
      "execution_count": 1,
      "metadata": {
        "colab": {
          "base_uri": "https://localhost:8080/"
        },
        "id": "QXAmT_TmztDi",
        "outputId": "e33716e7-b964-49d3-b90d-1a90e5de06b5"
      },
      "outputs": [
        {
          "output_type": "stream",
          "name": "stdout",
          "text": [
            "[2, 0]\n"
          ]
        }
      ],
      "source": [
        "class Solution:\n",
        "    def diffWaysToCompute(self, expression):\n",
        "        res = []\n",
        "        for i in range(len(expression)):\n",
        "            oper = expression[i]\n",
        "            if oper == \"+\" or oper == \"-\" or oper == \"*\":\n",
        "                sub_str1 = expression[0 : i]\n",
        "                sub_str2 = expression[i + 1 : ]\n",
        "                s1 = self.diffWaysToCompute(sub_str1)\n",
        "                s2 = self.diffWaysToCompute(sub_str2)\n",
        "                for i in s1:\n",
        "                    for j in s2:\n",
        "                        if oper == \"*\":\n",
        "                            res.append(int(i) * int(j))\n",
        "                        if oper == \"+\":\n",
        "                            res.append(int(i) + int(j))\n",
        "                        if oper == \"-\":\n",
        "                            res.append(int(i) - int(j))\n",
        "        if len(res) == 0:\n",
        "            res.append(int(expression))\n",
        "        return res\n",
        "\n",
        "expression = \"2-1-1\"\n",
        "\n",
        "solution = Solution()\n",
        "print(solution.diffWaysToCompute(expression))\n"
      ]
    },
    {
      "cell_type": "code",
      "source": [],
      "metadata": {
        "id": "RHrhezXbCW8b"
      },
      "execution_count": null,
      "outputs": []
    }
  ]
}