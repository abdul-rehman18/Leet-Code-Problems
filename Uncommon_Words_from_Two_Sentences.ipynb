{
  "nbformat": 4,
  "nbformat_minor": 0,
  "metadata": {
    "colab": {
      "provenance": []
    },
    "kernelspec": {
      "name": "python3",
      "display_name": "Python 3"
    },
    "language_info": {
      "name": "python"
    }
  },
  "cells": [
    {
      "cell_type": "markdown",
      "source": [
        "# LeetCode Problem: Uncommon Words from Two Sentences"
      ],
      "metadata": {
        "id": "NtuNVjU5hJaf"
      }
    },
    {
      "cell_type": "code",
      "execution_count": 1,
      "metadata": {
        "colab": {
          "base_uri": "https://localhost:8080/"
        },
        "id": "go7y4kc1fWFe",
        "outputId": "79fab215-3e48-48a5-9d98-3eef0fce64a8"
      },
      "outputs": [
        {
          "output_type": "stream",
          "name": "stdout",
          "text": [
            "['sweet', 'sour']\n"
          ]
        }
      ],
      "source": [
        "def uncommonFromSentences(s1, s2):\n",
        "        d={}\n",
        "        res=[]\n",
        "        s1=s1.rsplit()\n",
        "        s2=s2.rsplit()\n",
        "        for i in s1+s2:\n",
        "            if i in d:\n",
        "                d[i]+=1\n",
        "            else:\n",
        "                d[i]=1\n",
        "        for i in d:\n",
        "            if d[i]==1:\n",
        "                res.append(i)\n",
        "        return res\n",
        "\n",
        "s1 = \"this apple is sweet\"\n",
        "s2 = \"this apple is sour\"\n",
        "print(uncommonFromSentences(s1, s2))"
      ]
    },
    {
      "cell_type": "code",
      "source": [],
      "metadata": {
        "id": "L9DFar2NhRHK"
      },
      "execution_count": null,
      "outputs": []
    }
  ]
}