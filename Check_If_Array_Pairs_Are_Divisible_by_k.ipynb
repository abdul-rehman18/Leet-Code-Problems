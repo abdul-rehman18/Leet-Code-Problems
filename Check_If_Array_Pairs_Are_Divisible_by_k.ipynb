{
  "nbformat": 4,
  "nbformat_minor": 0,
  "metadata": {
    "colab": {
      "provenance": []
    },
    "kernelspec": {
      "name": "python3",
      "display_name": "Python 3"
    },
    "language_info": {
      "name": "python"
    }
  },
  "cells": [
    {
      "cell_type": "markdown",
      "source": [
        "# LeetCode Problem: Check If Array Pairs Are Divisible by k"
      ],
      "metadata": {
        "id": "3-gnheGs_49_"
      }
    },
    {
      "cell_type": "code",
      "execution_count": 1,
      "metadata": {
        "colab": {
          "base_uri": "https://localhost:8080/"
        },
        "id": "TnN0q3VT_xkA",
        "outputId": "c5fcccb5-6c6d-416e-8d36-c506bfd3e46f"
      },
      "outputs": [
        {
          "output_type": "stream",
          "name": "stdout",
          "text": [
            "True\n"
          ]
        }
      ],
      "source": [
        "def canArrange(arr, k):\n",
        "        f = [0]*k\n",
        "        for n in arr:\n",
        "            rem = n%k\n",
        "            f[rem] += 1\n",
        "\n",
        "        if f[0]%2 != 0:\n",
        "            return False\n",
        "\n",
        "        for i in range(1,k//2+1):\n",
        "            if f[i] != f[k-i]:\n",
        "                return False\n",
        "\n",
        "        return True\n",
        "\n",
        "\n",
        "arr = [1,2,3,4,5,10,6,7,8,9]\n",
        "k = 5\n",
        "\n",
        "\n",
        "print(canArrange(arr,k))"
      ]
    },
    {
      "cell_type": "code",
      "source": [],
      "metadata": {
        "id": "j3QE58tvBs4v"
      },
      "execution_count": null,
      "outputs": []
    }
  ]
}