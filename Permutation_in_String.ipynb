{
  "nbformat": 4,
  "nbformat_minor": 0,
  "metadata": {
    "colab": {
      "provenance": []
    },
    "kernelspec": {
      "name": "python3",
      "display_name": "Python 3"
    },
    "language_info": {
      "name": "python"
    }
  },
  "cells": [
    {
      "cell_type": "markdown",
      "source": [
        "# LeetCode Problem: Permutation in String"
      ],
      "metadata": {
        "id": "NFVr1dLM9y6H"
      }
    },
    {
      "cell_type": "code",
      "execution_count": 2,
      "metadata": {
        "colab": {
          "base_uri": "https://localhost:8080/"
        },
        "id": "JimDR5sw9V-o",
        "outputId": "c4d8ac0a-aa3a-4392-aaa7-8daa7ceb3a72"
      },
      "outputs": [
        {
          "output_type": "stream",
          "name": "stdout",
          "text": [
            "True\n"
          ]
        }
      ],
      "source": [
        "def checkInclusion(s1, s2):\n",
        "        if len(s1) > len(s2):\n",
        "            return False\n",
        "\n",
        "        s1Count = [0] * 26\n",
        "        s2Count = [0] * 26\n",
        "\n",
        "        for i in range(len(s1)):\n",
        "            s1Count[ord(s1[i]) - ord('a')] += 1\n",
        "            s2Count[ord(s2[i]) - ord('a')] += 1\n",
        "\n",
        "        for i in range(len(s2) - len(s1)):\n",
        "            if s1Count == s2Count:\n",
        "                return True\n",
        "            s2Count[ord(s2[i]) - ord('a')] -= 1\n",
        "            s2Count[ord(s2[i + len(s1)]) - ord('a')] += 1\n",
        "\n",
        "        return s1Count == s2Count\n",
        "\n",
        "s1 = \"ab\"\n",
        "s2 = \"eidbaooo\"\n",
        "print(checkInclusion(s1, s2))  # Output: True"
      ]
    },
    {
      "cell_type": "code",
      "source": [],
      "metadata": {
        "id": "2LVhDKr--HMH"
      },
      "execution_count": null,
      "outputs": []
    }
  ]
}