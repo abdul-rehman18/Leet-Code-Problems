{
  "nbformat": 4,
  "nbformat_minor": 0,
  "metadata": {
    "colab": {
      "provenance": []
    },
    "kernelspec": {
      "name": "python3",
      "display_name": "Python 3"
    },
    "language_info": {
      "name": "python"
    }
  },
  "cells": [
    {
      "cell_type": "markdown",
      "source": [
        "# LeetCode Problem: Degree of an Array"
      ],
      "metadata": {
        "id": "hcYldDA_ZJ_t"
      }
    },
    {
      "cell_type": "code",
      "execution_count": 2,
      "metadata": {
        "colab": {
          "base_uri": "https://localhost:8080/"
        },
        "id": "7sDVh4d9YHUN",
        "outputId": "c3a2e6d0-ffe7-4228-8b88-1fd88b8a59c1"
      },
      "outputs": [
        {
          "output_type": "stream",
          "name": "stdout",
          "text": [
            "2\n"
          ]
        }
      ],
      "source": [
        "def findShortestSubArray(nums):\n",
        "    \tC = {}\n",
        "    \tfor i, n in enumerate(nums):\n",
        "    \t\tif n in C: C[n].append(i)\n",
        "    \t\telse: C[n] = [i]\n",
        "    \tM = max([len(i) for i in C.values()])\n",
        "    \treturn min([i[-1]-i[0] for i in C.values() if len(i) == M]) + 1\n",
        "\n",
        "nums=[1,2,2,3,1]\n",
        "print(findShortestSubArray(nums))"
      ]
    },
    {
      "cell_type": "code",
      "source": [],
      "metadata": {
        "id": "hlI_hIHhZHxp"
      },
      "execution_count": null,
      "outputs": []
    }
  ]
}