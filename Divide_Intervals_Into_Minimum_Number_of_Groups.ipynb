{
  "nbformat": 4,
  "nbformat_minor": 0,
  "metadata": {
    "colab": {
      "provenance": []
    },
    "kernelspec": {
      "name": "python3",
      "display_name": "Python 3"
    },
    "language_info": {
      "name": "python"
    }
  },
  "cells": [
    {
      "cell_type": "markdown",
      "source": [
        "# LeetCode Problem: Divide Intervals Into Minimum Number of Groups"
      ],
      "metadata": {
        "id": "PmfriYjl-MuD"
      }
    },
    {
      "cell_type": "code",
      "execution_count": 9,
      "metadata": {
        "colab": {
          "base_uri": "https://localhost:8080/"
        },
        "id": "Bw6YTYGl-A4k",
        "outputId": "cb0f0303-7226-41f3-bff3-d0ddf9f6d02a"
      },
      "outputs": [
        {
          "output_type": "stream",
          "name": "stdout",
          "text": [
            "1\n"
          ]
        }
      ],
      "source": [
        "def minGroups(intervals):\n",
        "  sor_l = sorted(i[0] for i in intervals)\n",
        "  sor_r = sorted(i[1] for i in intervals)\n",
        "  e, g = 0, 0\n",
        "  for i in sor_l:\n",
        "    if i > sor_r[e]:\n",
        "      e += 1\n",
        "    else:\n",
        "      g += 1\n",
        "  return g\n",
        "  print(sor)\n",
        "\n",
        "intervals = [[1,3],[5,6],[8,10],[11,13]]\n",
        "# intervals = [[5,10],[6,8],[1,5],[2,3],[1,10]]\n",
        "print(minGroups(intervals))"
      ]
    },
    {
      "cell_type": "code",
      "source": [],
      "metadata": {
        "id": "mOJkTZzC_duG"
      },
      "execution_count": null,
      "outputs": []
    }
  ]
}