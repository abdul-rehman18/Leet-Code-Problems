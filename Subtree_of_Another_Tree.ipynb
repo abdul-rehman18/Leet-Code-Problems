{
  "nbformat": 4,
  "nbformat_minor": 0,
  "metadata": {
    "colab": {
      "provenance": []
    },
    "kernelspec": {
      "name": "python3",
      "display_name": "Python 3"
    },
    "language_info": {
      "name": "python"
    }
  },
  "cells": [
    {
      "cell_type": "markdown",
      "source": [
        "# LeetCode Problem:Subtree of Another Tree"
      ],
      "metadata": {
        "id": "B8TkQq7MLkMJ"
      }
    },
    {
      "cell_type": "code",
      "execution_count": 1,
      "metadata": {
        "colab": {
          "base_uri": "https://localhost:8080/"
        },
        "id": "0mytxtKPK9k6",
        "outputId": "373ad15b-e927-4f5e-9904-6c3afa765754"
      },
      "outputs": [
        {
          "output_type": "stream",
          "name": "stdout",
          "text": [
            "True\n"
          ]
        }
      ],
      "source": [
        "class TreeNode:\n",
        "    def __init__(self, val=0, left=None, right=None):\n",
        "        self.val = val\n",
        "        self.left = left\n",
        "        self.right = right\n",
        "class Solution:\n",
        "    def isSubtree(self, s, t):\n",
        "        if not s:\n",
        "            return False\n",
        "        if self.isSameTree(s, t):\n",
        "            return True\n",
        "        return self.isSubtree(s.left, t) or self.isSubtree(s.right, t)\n",
        "\n",
        "    def isSameTree(self, p: TreeNode, q: TreeNode) -> bool:\n",
        "        if p and q:\n",
        "            return p.val == q.val and self.isSameTree(p.left, q.left) and self.isSameTree(p.right, q.right)\n",
        "        return p is q\n",
        "\n",
        "if __name__ == \"__main__\":\n",
        "    solution = Solution()\n",
        "\n",
        "    s = TreeNode(3, TreeNode(4, TreeNode(1), TreeNode(2)), TreeNode(5))\n",
        "    t = TreeNode(4, TreeNode(1), TreeNode(2))\n",
        "\n",
        "    result = solution.isSubtree(s, t)\n",
        "\n",
        "    print(result)"
      ]
    },
    {
      "cell_type": "code",
      "source": [],
      "metadata": {
        "id": "fhBTJuguL5t6"
      },
      "execution_count": null,
      "outputs": []
    }
  ]
}