{
  "nbformat": 4,
  "nbformat_minor": 0,
  "metadata": {
    "colab": {
      "provenance": []
    },
    "kernelspec": {
      "name": "python3",
      "display_name": "Python 3"
    },
    "language_info": {
      "name": "python"
    }
  },
  "cells": [
    {
      "cell_type": "markdown",
      "source": [
        "# LeetCode Problem: Next Greater Element I"
      ],
      "metadata": {
        "id": "kBVGo5yAGcWn"
      }
    },
    {
      "cell_type": "code",
      "execution_count": 1,
      "metadata": {
        "colab": {
          "base_uri": "https://localhost:8080/"
        },
        "id": "mOqwYZbgEdYM",
        "outputId": "0f88c401-c5be-4782-d9d3-6c661b366f96"
      },
      "outputs": [
        {
          "output_type": "stream",
          "name": "stdout",
          "text": [
            "[3, -1]\n"
          ]
        }
      ],
      "source": [
        "def nextGreaterElement(nums1, nums2):\n",
        "        res=[]\n",
        "        for i,n in list(enumerate(nums1)):\n",
        "            ind = nums2.index(n)\n",
        "            f = False\n",
        "            for i in range(ind,len(nums2)):\n",
        "                if nums2[i]>n:\n",
        "                    res.append(nums2[i])\n",
        "                    f = True\n",
        "                    break\n",
        "            if not f:\n",
        "                res.append(-1)\n",
        "        return res\n",
        "\n",
        "nums1 = [2,4]\n",
        "nums2 = [1,2,3,4]\n",
        "print(nextGreaterElement(nums1, nums2))"
      ]
    },
    {
      "cell_type": "code",
      "source": [],
      "metadata": {
        "id": "mLlqYGOIGQqG"
      },
      "execution_count": null,
      "outputs": []
    }
  ]
}