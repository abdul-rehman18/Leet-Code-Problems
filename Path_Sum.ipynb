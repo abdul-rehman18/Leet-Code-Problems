{
 "cells": [
  {
   "cell_type": "markdown",
   "id": "4f58351c",
   "metadata": {},
   "source": [
    "# LeetCode Problem: Path Sum"
   ]
  },
  {
   "cell_type": "code",
   "execution_count": 4,
   "id": "73d44725",
   "metadata": {},
   "outputs": [
    {
     "name": "stdout",
     "output_type": "stream",
     "text": [
      "There is a path with the sum 22.\n"
     ]
    }
   ],
   "source": [
    "class TreeNode:\n",
    "    def __init__(self, val=0, left=None, right=None):\n",
    "        self.val = val\n",
    "        self.left = left\n",
    "        self.right = right\n",
    "\n",
    "class Solution:\n",
    "    def hasPathSum(self, root, targetSum):\n",
    "        if not root:\n",
    "            return False\n",
    "        \n",
    "        if not root.left and not root.right:\n",
    "            return targetSum == root.val\n",
    "        \n",
    "        left_sum = self.hasPathSum(root.left, targetSum - root.val)\n",
    "        right_sum = self.hasPathSum(root.right, targetSum - root.val)\n",
    "        \n",
    "        return left_sum or right_sum\n",
    "\n",
    "# Create a binary tree:\n",
    "#       5\n",
    "#      / \\\n",
    "#     4   8\n",
    "#    /   / \\\n",
    "#   11  13  4\n",
    "#  /  \\      \\\n",
    "# 7    2      1\n",
    "root = TreeNode(5)\n",
    "root.left = TreeNode(4)\n",
    "root.right = TreeNode(8)\n",
    "root.left.left = TreeNode(11)\n",
    "root.right.left = TreeNode(13)\n",
    "root.right.right = TreeNode(4)\n",
    "root.left.left.left = TreeNode(7)\n",
    "root.left.left.right = TreeNode(2)\n",
    "root.right.right.right = TreeNode(1)\n",
    "\n",
    "# Create an instance of the Solution class\n",
    "solution = Solution()\n",
    "\n",
    "# Check if there's a path with the sum 22\n",
    "targetSum = 22\n",
    "result = solution.hasPathSum(root, targetSum)\n",
    "\n",
    "if result:\n",
    "    print(f'There is a path with the sum {targetSum}.')\n",
    "else:\n",
    "    print(f'There is no path with the sum {targetSum}.')\n"
   ]
  },
  {
   "cell_type": "code",
   "execution_count": null,
   "id": "c83784de",
   "metadata": {},
   "outputs": [],
   "source": []
  }
 ],
 "metadata": {
  "kernelspec": {
   "display_name": "Python 3 (ipykernel)",
   "language": "python",
   "name": "python3"
  },
  "language_info": {
   "codemirror_mode": {
    "name": "ipython",
    "version": 3
   },
   "file_extension": ".py",
   "mimetype": "text/x-python",
   "name": "python",
   "nbconvert_exporter": "python",
   "pygments_lexer": "ipython3",
   "version": "3.10.9"
  }
 },
 "nbformat": 4,
 "nbformat_minor": 5
}
