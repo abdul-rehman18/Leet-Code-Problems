{
  "nbformat": 4,
  "nbformat_minor": 0,
  "metadata": {
    "colab": {
      "provenance": []
    },
    "kernelspec": {
      "name": "python3",
      "display_name": "Python 3"
    },
    "language_info": {
      "name": "python"
    }
  },
  "cells": [
    {
      "cell_type": "markdown",
      "source": [
        "# LeetCode Problem: Flood Fill"
      ],
      "metadata": {
        "id": "lPT-80wgqndo"
      }
    },
    {
      "cell_type": "code",
      "execution_count": 1,
      "metadata": {
        "colab": {
          "base_uri": "https://localhost:8080/"
        },
        "id": "CgmMrc4Dqk8i",
        "outputId": "b58d17d4-b486-4979-a2f7-6d23066e8666"
      },
      "outputs": [
        {
          "output_type": "stream",
          "name": "stdout",
          "text": [
            "Original Image:\n",
            "[2, 2, 2]\n",
            "[2, 2, 0]\n",
            "[2, 0, 1]\n",
            "\n",
            "Flood-Filled Image:\n",
            "[2, 2, 2]\n",
            "[2, 2, 0]\n",
            "[2, 0, 1]\n"
          ]
        }
      ],
      "source": [
        "class Solution(object):\n",
        "    def fill(self, image, sr, sc, color, cur):\n",
        "        if sr < 0 or sr >= len(image) or sc < 0 or sc >= len(image[0]):\n",
        "            return\n",
        "        if cur != image[sr][sc]:\n",
        "            return\n",
        "        image[sr][sc] = color\n",
        "        self.fill(image, sr-1, sc, color, cur)\n",
        "        self.fill(image, sr+1, sc, color, cur)\n",
        "        self.fill(image, sr, sc-1, color, cur)\n",
        "        self.fill(image, sr, sc+1, color, cur)\n",
        "\n",
        "    def floodFill(self, image, sr, sc, color):\n",
        "        if image[sr][sc] == color:\n",
        "            return image\n",
        "        self.fill(image, sr, sc, color, image[sr][sc])\n",
        "        return image\n",
        "\n",
        "if __name__ == \"__main__\":\n",
        "    solution = Solution()\n",
        "    image = [\n",
        "        [1, 1, 1],\n",
        "        [1, 1, 0],\n",
        "        [1, 0, 1]\n",
        "    ]\n",
        "    sr, sc, new_color = 1, 1, 2\n",
        "\n",
        "    result = solution.floodFill(image, sr, sc, new_color)\n",
        "\n",
        "    print(\"Original Image:\")\n",
        "    for row in image:\n",
        "        print(row)\n",
        "\n",
        "    print(\"\\nFlood-Filled Image:\")\n",
        "    for row in result:\n",
        "        print(row)\n"
      ]
    },
    {
      "cell_type": "code",
      "source": [],
      "metadata": {
        "id": "Q30jo8nuqxpj"
      },
      "execution_count": null,
      "outputs": []
    }
  ]
}