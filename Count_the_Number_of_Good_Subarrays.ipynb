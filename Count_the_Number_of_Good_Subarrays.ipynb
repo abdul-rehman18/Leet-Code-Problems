{
  "nbformat": 4,
  "nbformat_minor": 0,
  "metadata": {
    "colab": {
      "provenance": []
    },
    "kernelspec": {
      "name": "python3",
      "display_name": "Python 3"
    },
    "language_info": {
      "name": "python"
    }
  },
  "cells": [
    {
      "cell_type": "markdown",
      "source": [
        "# LeetCode Problems: Count the Number of Good Subarrays"
      ],
      "metadata": {
        "id": "KB4aL7_TZbsA"
      }
    },
    {
      "cell_type": "code",
      "execution_count": null,
      "metadata": {
        "id": "wUnocJQpZU9T"
      },
      "outputs": [],
      "source": [
        "from collections import defaultdict\n",
        "\n",
        "class Solution:\n",
        "    def countGood(self, nums: List[int], k: int) -> int:\n",
        "        freq = defaultdict(int)\n",
        "        left = 0\n",
        "        pair_count = 0\n",
        "        good_subarrays = 0\n",
        "\n",
        "        for right in range(len(nums)):\n",
        "            pair_count += freq[nums[right]]\n",
        "            freq[nums[right]] += 1\n",
        "\n",
        "            while pair_count >= k:\n",
        "                good_subarrays += len(nums) - right\n",
        "                freq[nums[left]] -= 1\n",
        "                pair_count -= freq[nums[left]]\n",
        "                left += 1\n",
        "\n",
        "        return good_subarrays"
      ]
    }
  ]
}