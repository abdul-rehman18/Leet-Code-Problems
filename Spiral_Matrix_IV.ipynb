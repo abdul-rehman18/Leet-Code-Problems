{
  "nbformat": 4,
  "nbformat_minor": 0,
  "metadata": {
    "colab": {
      "provenance": []
    },
    "kernelspec": {
      "name": "python3",
      "display_name": "Python 3"
    },
    "language_info": {
      "name": "python"
    }
  },
  "cells": [
    {
      "cell_type": "markdown",
      "source": [
        "# LeetCode Problem: Spiral Matrix IV"
      ],
      "metadata": {
        "id": "XYgH_zCgPM43"
      }
    },
    {
      "cell_type": "code",
      "execution_count": 1,
      "metadata": {
        "colab": {
          "base_uri": "https://localhost:8080/"
        },
        "id": "JQAkd7yuNXPb",
        "outputId": "1d9c2717-8f1f-403c-d838-2335e0c1d38a"
      },
      "outputs": [
        {
          "output_type": "stream",
          "name": "stdout",
          "text": [
            "[1, 2, 3, 4]\n",
            "[10, 11, 12, 5]\n",
            "[9, 8, 7, 6]\n"
          ]
        }
      ],
      "source": [
        "# Definition for singly-linked list.\n",
        "class ListNode:\n",
        "    def __init__(self, val=0, next=None):\n",
        "        self.val = val\n",
        "        self.next = next\n",
        "\n",
        "class Solution:\n",
        "    def spiralMatrix(self, m: int, n: int, head: ListNode) -> list:\n",
        "        curr = head\n",
        "        matrix = [[-1] * n for _ in range(m)]\n",
        "        r, c, d_p = 0, 0, 0\n",
        "        d = [(0, 1), (1, 0), (0, -1), (-1, 0)]  # Right, Down, Left, Up\n",
        "        while curr:\n",
        "            matrix[r][c] = curr.val\n",
        "            curr = curr.next\n",
        "            next_r, next_c = r + d[d_p % 4][0], c + d[d_p % 4][1]\n",
        "            if 0 <= next_r < m and 0 <= next_c < n and matrix[next_r][next_c] == -1:\n",
        "                r, c = next_r, next_c\n",
        "            else:\n",
        "                d_p += 1\n",
        "                r, c = r + d[d_p % 4][0], c + d[d_p % 4][1]\n",
        "        return matrix\n",
        "\n",
        "# Helper function to create a linked list from a list of values\n",
        "def create_linked_list(values):\n",
        "    if not values:\n",
        "        return None\n",
        "    head = ListNode(values[0])\n",
        "    current = head\n",
        "    for val in values[1:]:\n",
        "        current.next = ListNode(val)\n",
        "        current = current.next\n",
        "    return head\n",
        "\n",
        "# Function to display the matrix\n",
        "def display_matrix(matrix):\n",
        "    for row in matrix:\n",
        "        print(row)\n",
        "\n",
        "# Main function\n",
        "def main():\n",
        "    # Input matrix dimensions\n",
        "    m = 3  # Rows\n",
        "    n = 4  # Columns\n",
        "\n",
        "    # Input linked list values\n",
        "    values = [1, 2, 3, 4, 5, 6, 7, 8, 9, 10, 11, 12]\n",
        "\n",
        "    # Create the linked list from values\n",
        "    head = create_linked_list(values)\n",
        "\n",
        "    # Create an instance of the Solution class\n",
        "    solution = Solution()\n",
        "\n",
        "    # Get the spiral matrix\n",
        "    result = solution.spiralMatrix(m, n, head)\n",
        "\n",
        "    # Display the resulting matrix\n",
        "    display_matrix(result)\n",
        "\n",
        "if __name__ == \"__main__\":\n",
        "    main()\n"
      ]
    },
    {
      "cell_type": "code",
      "source": [],
      "metadata": {
        "id": "wKHr5DMpQHTx"
      },
      "execution_count": null,
      "outputs": []
    }
  ]
}