{
  "nbformat": 4,
  "nbformat_minor": 0,
  "metadata": {
    "colab": {
      "provenance": []
    },
    "kernelspec": {
      "name": "python3",
      "display_name": "Python 3"
    },
    "language_info": {
      "name": "python"
    }
  },
  "cells": [
    {
      "cell_type": "markdown",
      "source": [
        "# LeetCode Problem: Linked List in Binary Tree"
      ],
      "metadata": {
        "id": "PrC_Cn430gC0"
      }
    },
    {
      "cell_type": "code",
      "execution_count": 1,
      "metadata": {
        "colab": {
          "base_uri": "https://localhost:8080/"
        },
        "id": "PgE1HK0E0bRq",
        "outputId": "04743ef8-a240-4545-feeb-f562f33f2868"
      },
      "outputs": [
        {
          "output_type": "stream",
          "name": "stdout",
          "text": [
            "Is the linked list a subpath of the binary tree? True\n"
          ]
        }
      ],
      "source": [
        "# Definition for singly-linked list.\n",
        "class ListNode:\n",
        "    def __init__(self, val=0, next=None):\n",
        "        self.val = val\n",
        "        self.next = next\n",
        "\n",
        "# Definition for a binary tree node.\n",
        "class TreeNode:\n",
        "    def __init__(self, val=0, left=None, right=None):\n",
        "        self.val = val\n",
        "        self.left = left\n",
        "        self.right = right\n",
        "\n",
        "class Solution:\n",
        "    def isSubPath(self, head, root):\n",
        "        def checkPath(head, root):\n",
        "            if not head:\n",
        "                return True\n",
        "            if not root or head.val != root.val:\n",
        "                return False\n",
        "            return checkPath(head.next, root.left) or checkPath(head.next, root.right)\n",
        "\n",
        "        if not root:\n",
        "            return False\n",
        "        if checkPath(head, root):\n",
        "            return True\n",
        "        return self.isSubPath(head, root.left) or self.isSubPath(head, root.right)\n",
        "\n",
        "\n",
        "def create_linked_list(arr):\n",
        "    \"\"\"Helper function to create a linked list from a list of values\"\"\"\n",
        "    if not arr:\n",
        "        return None\n",
        "    head = ListNode(arr[0])\n",
        "    current = head\n",
        "    for val in arr[1:]:\n",
        "        current.next = ListNode(val)\n",
        "        current = current.next\n",
        "    return head\n",
        "\n",
        "def create_binary_tree(nodes, index=0):\n",
        "    \"\"\"Helper function to create a binary tree from a list of values (None for empty nodes)\"\"\"\n",
        "    if index >= len(nodes) or nodes[index] is None:\n",
        "        return None\n",
        "    root = TreeNode(nodes[index])\n",
        "    root.left = create_binary_tree(nodes, 2 * index + 1)\n",
        "    root.right = create_binary_tree(nodes, 2 * index + 2)\n",
        "    return root\n",
        "\n",
        "def main():\n",
        "    # Example usage\n",
        "    # Create linked list [4, 2, 8]\n",
        "    linked_list_values = [4, 2, 8]\n",
        "    head = create_linked_list(linked_list_values)\n",
        "\n",
        "    # Create binary tree [1, 4, 4, None, 2, 2, None, 1, None, 6, 8, None, None, None, None, 1, 3]\n",
        "    binary_tree_values = [1, 4, 4, None, 2, 2, None, 1, None, 6, 8, None, None, None, None, 1, 3]\n",
        "    root = create_binary_tree(binary_tree_values)\n",
        "\n",
        "    # Check if the linked list is a subpath in the binary tree\n",
        "    solution = Solution()\n",
        "    result = solution.isSubPath(head, root)\n",
        "\n",
        "    print(\"Is the linked list a subpath of the binary tree?\", result)\n",
        "\n",
        "if __name__ == \"__main__\":\n",
        "    main()\n"
      ]
    },
    {
      "cell_type": "code",
      "source": [],
      "metadata": {
        "id": "olnpVSNi0yKS"
      },
      "execution_count": null,
      "outputs": []
    }
  ]
}