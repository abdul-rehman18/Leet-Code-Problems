{
  "nbformat": 4,
  "nbformat_minor": 0,
  "metadata": {
    "colab": {
      "provenance": []
    },
    "kernelspec": {
      "name": "python3",
      "display_name": "Python 3"
    },
    "language_info": {
      "name": "python"
    }
  },
  "cells": [
    {
      "cell_type": "markdown",
      "source": [
        "# LeetCode Problem: Isomorphic Strings"
      ],
      "metadata": {
        "id": "NblVIbtS3aw9"
      }
    },
    {
      "cell_type": "code",
      "execution_count": 1,
      "metadata": {
        "colab": {
          "base_uri": "https://localhost:8080/"
        },
        "id": "dZ3_D15s3AyZ",
        "outputId": "c561146f-cd2b-48f0-f447-19327c982cf2"
      },
      "outputs": [
        {
          "output_type": "stream",
          "name": "stdout",
          "text": [
            "True\n"
          ]
        }
      ],
      "source": [
        "def isIsomorphic(s, t):\n",
        "  m = []\n",
        "  n = []\n",
        "  for i in s:\n",
        "    m.append(s.index(i))\n",
        "  for i in t:\n",
        "    n.append(t.index(i))\n",
        "  if m==n:\n",
        "    return True\n",
        "  return False\n",
        "\n",
        "s = \"egg\"\n",
        "t = \"add\"\n",
        "print(isIsomorphic(s,t))"
      ]
    },
    {
      "cell_type": "code",
      "source": [],
      "metadata": {
        "id": "elL_2yrM40WR"
      },
      "execution_count": null,
      "outputs": []
    }
  ]
}