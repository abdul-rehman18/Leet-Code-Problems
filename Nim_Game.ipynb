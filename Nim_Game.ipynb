{
  "nbformat": 4,
  "nbformat_minor": 0,
  "metadata": {
    "colab": {
      "provenance": []
    },
    "kernelspec": {
      "name": "python3",
      "display_name": "Python 3"
    },
    "language_info": {
      "name": "python"
    }
  },
  "cells": [
    {
      "cell_type": "markdown",
      "source": [
        "# LeetCode Problem: Nim Game"
      ],
      "metadata": {
        "id": "JAm9_WA1_Kiz"
      }
    },
    {
      "cell_type": "markdown",
      "source": [
        "You are playing the following Nim Game with your friend:\n",
        "\n",
        "Initially, there is a heap of stones on the table.\n",
        "You and your friend will alternate taking turns, and you go first.\n",
        "On each turn, the person whose turn it is will remove 1 to 3 stones from the heap.\n",
        "The one who removes the last stone is the winner.\n",
        "Given n, the number of stones in the heap, return true if you can win the game assuming both you and your friend play optimally, otherwise return false."
      ],
      "metadata": {
        "id": "vPsb6AOAAq-o"
      }
    },
    {
      "cell_type": "code",
      "execution_count": 2,
      "metadata": {
        "colab": {
          "base_uri": "https://localhost:8080/"
        },
        "id": "GIjBMkCF_GTS",
        "outputId": "d69d9693-861a-4f27-ce07-8a02fa603862"
      },
      "outputs": [
        {
          "output_type": "stream",
          "name": "stdout",
          "text": [
            "True\n"
          ]
        }
      ],
      "source": [
        "def canWinNim(n):\n",
        "  return n % 4!=0\n",
        "\n",
        "n=5\n",
        "print(canWinNim(n))"
      ]
    },
    {
      "cell_type": "code",
      "source": [],
      "metadata": {
        "id": "VzXFZjYyAp3c"
      },
      "execution_count": null,
      "outputs": []
    }
  ]
}