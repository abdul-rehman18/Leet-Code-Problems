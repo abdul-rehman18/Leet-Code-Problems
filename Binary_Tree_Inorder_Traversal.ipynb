{
 "cells": [
  {
   "cell_type": "markdown",
   "id": "3e68551d",
   "metadata": {},
   "source": [
    "# LeetCode Problem:Binary Tree Inorder Traversal"
   ]
  },
  {
   "cell_type": "code",
   "execution_count": 14,
   "id": "17d6439b",
   "metadata": {},
   "outputs": [
    {
     "name": "stdout",
     "output_type": "stream",
     "text": [
      "Inorder traversal of binary tree is\n",
      "[4, 2, 5, 1, 3]\n"
     ]
    }
   ],
   "source": [
    "class TreeNode:\n",
    "    def __init__(self, val=0, left=None, right=None):\n",
    "        self.val = val\n",
    "        self.left = left\n",
    "        self.right = right\n",
    "\n",
    "class Solution:\n",
    "    def inorderTraversal(self, root):\n",
    "        res=[]\n",
    "        if root:\n",
    "            res.extend(self.inorderTraversal(root.left))  \n",
    "            res.append(root.val)\n",
    "            res.extend(self.inorderTraversal(root.right)) \n",
    "        return res\n",
    "if __name__ == \"__main__\":\n",
    "    root = TreeNode(1)\n",
    "    root.left = TreeNode(2)\n",
    "    root.right = TreeNode(3)\n",
    "    root.left.left = TreeNode(4)\n",
    "    root.left.right = TreeNode(5)\n",
    "    \n",
    "    s = Solution()\n",
    "    # Function call\n",
    "    print(\"Inorder traversal of binary tree is\")\n",
    "    r=s.inorderTraversal(root)\n",
    "    print(r)"
   ]
  },
  {
   "cell_type": "code",
   "execution_count": null,
   "id": "db275b7c",
   "metadata": {},
   "outputs": [],
   "source": []
  }
 ],
 "metadata": {
  "kernelspec": {
   "display_name": "Python 3 (ipykernel)",
   "language": "python",
   "name": "python3"
  },
  "language_info": {
   "codemirror_mode": {
    "name": "ipython",
    "version": 3
   },
   "file_extension": ".py",
   "mimetype": "text/x-python",
   "name": "python",
   "nbconvert_exporter": "python",
   "pygments_lexer": "ipython3",
   "version": "3.10.9"
  }
 },
 "nbformat": 4,
 "nbformat_minor": 5
}
