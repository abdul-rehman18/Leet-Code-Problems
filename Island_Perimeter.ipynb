{
  "nbformat": 4,
  "nbformat_minor": 0,
  "metadata": {
    "colab": {
      "provenance": []
    },
    "kernelspec": {
      "name": "python3",
      "display_name": "Python 3"
    },
    "language_info": {
      "name": "python"
    }
  },
  "cells": [
    {
      "cell_type": "markdown",
      "source": [
        "# LeetCode Problem: Island Perimeter"
      ],
      "metadata": {
        "id": "ODFCfVuAjTtO"
      }
    },
    {
      "cell_type": "code",
      "execution_count": 3,
      "metadata": {
        "colab": {
          "base_uri": "https://localhost:8080/"
        },
        "id": "XY0-FV8djQ1_",
        "outputId": "3893f0eb-b629-40db-e3ac-99496372e112"
      },
      "outputs": [
        {
          "output_type": "stream",
          "name": "stdout",
          "text": [
            "16\n"
          ]
        }
      ],
      "source": [
        "def islandPerimeter(grid):\n",
        "        r,c = len(grid),len(grid[0])\n",
        "        per = 0\n",
        "        for i in range(r):\n",
        "            for j in range(c):\n",
        "                if grid[i][j] == 1:\n",
        "                    per += 4\n",
        "                    if i>0 and grid[i-1][j] == 1:\n",
        "                        per -= 2\n",
        "                    if j>0 and grid[i][j-1] == 1:\n",
        "                        per -= 2\n",
        "        return per\n",
        "\n",
        "grid = [[0,1,0,0],[1,1,1,0],[0,1,0,0],[1,1,0,0]]\n",
        "res = islandPerimeter(grid)\n",
        "print(res)"
      ]
    },
    {
      "cell_type": "code",
      "source": [],
      "metadata": {
        "id": "gl0Meu_6lsmc"
      },
      "execution_count": null,
      "outputs": []
    }
  ]
}