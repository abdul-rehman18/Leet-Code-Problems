{
  "nbformat": 4,
  "nbformat_minor": 0,
  "metadata": {
    "colab": {
      "provenance": []
    },
    "kernelspec": {
      "name": "python3",
      "display_name": "Python 3"
    },
    "language_info": {
      "name": "python"
    }
  },
  "cells": [
    {
      "cell_type": "markdown",
      "source": [
        "# LeetCode Problem: Distance Between Bus Stops"
      ],
      "metadata": {
        "id": "OHvO0_eKLqFB"
      }
    },
    {
      "cell_type": "code",
      "execution_count": 1,
      "metadata": {
        "colab": {
          "base_uri": "https://localhost:8080/"
        },
        "id": "LC8F1xqKLBEP",
        "outputId": "b0e16ccd-223c-43a8-d20f-949ad33b041f"
      },
      "outputs": [
        {
          "output_type": "stream",
          "name": "stdout",
          "text": [
            "1\n"
          ]
        }
      ],
      "source": [
        "def distanceBetweenBusStops(distance, start, destination):\n",
        "        n=len(distance)\n",
        "        if start>destination:\n",
        "            start,destination=destination,start\n",
        "        distance=distance + distance\n",
        "        dist1=sum(distance[start:destination])\n",
        "        dist2=sum(distance[destination:start+n])\n",
        "        return min(dist1,dist2)\n",
        "\n",
        "\n",
        "distance = [1,2,3,4]\n",
        "start = 0\n",
        "destination = 1\n",
        "print(distanceBetweenBusStops(distance, start, destination))"
      ]
    },
    {
      "cell_type": "code",
      "source": [],
      "metadata": {
        "id": "pxEPLXGAMCCi"
      },
      "execution_count": null,
      "outputs": []
    }
  ]
}