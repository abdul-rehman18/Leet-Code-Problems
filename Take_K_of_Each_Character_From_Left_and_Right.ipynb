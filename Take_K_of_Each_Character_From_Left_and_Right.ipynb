{
  "nbformat": 4,
  "nbformat_minor": 0,
  "metadata": {
    "colab": {
      "provenance": []
    },
    "kernelspec": {
      "name": "python3",
      "display_name": "Python 3"
    },
    "language_info": {
      "name": "python"
    }
  },
  "cells": [
    {
      "cell_type": "markdown",
      "source": [
        "# LeetCode Problem: Take K of Each Character From Left and Right"
      ],
      "metadata": {
        "id": "QJWCdzqkJtcN"
      }
    },
    {
      "cell_type": "code",
      "execution_count": 1,
      "metadata": {
        "colab": {
          "base_uri": "https://localhost:8080/"
        },
        "id": "wdN_GxqaJd65",
        "outputId": "ac3d40ee-0a5c-43db-d30a-20280fe67e8a"
      },
      "outputs": [
        {
          "output_type": "stream",
          "name": "stdout",
          "text": [
            "8\n"
          ]
        }
      ],
      "source": [
        "def takeCharacters(s,k):\n",
        "        # Total counts\n",
        "        count = [0, 0, 0]\n",
        "        for c in s:\n",
        "            count[ord(c) - ord('a')] += 1\n",
        "\n",
        "        if min(count) < k:\n",
        "            return -1\n",
        "\n",
        "        # Sliding Window\n",
        "        res = float(\"inf\")\n",
        "        l = 0\n",
        "        for r in range(len(s)):\n",
        "            count[ord(s[r]) - ord('a')] -= 1\n",
        "\n",
        "            while min(count) < k:\n",
        "                count[ord(s[l]) - ord('a')] += 1\n",
        "                l += 1\n",
        "            res = min(res, len(s) - (r - l + 1))\n",
        "        return res\n",
        "\n",
        "s = \"aabaaaacaabc\"\n",
        "k = 2\n",
        "\n",
        "print(takeCharacters(s,k))"
      ]
    },
    {
      "cell_type": "code",
      "source": [],
      "metadata": {
        "id": "DCQf87raM7Hc"
      },
      "execution_count": null,
      "outputs": []
    }
  ]
}