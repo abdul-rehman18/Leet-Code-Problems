{
  "nbformat": 4,
  "nbformat_minor": 0,
  "metadata": {
    "colab": {
      "provenance": []
    },
    "kernelspec": {
      "name": "python3",
      "display_name": "Python 3"
    },
    "language_info": {
      "name": "python"
    }
  },
  "cells": [
    {
      "cell_type": "markdown",
      "source": [
        "# LeetCode Problem: Sort Array by Increasing Frequency"
      ],
      "metadata": {
        "id": "PuPXykQ96srG"
      }
    },
    {
      "cell_type": "code",
      "execution_count": 1,
      "metadata": {
        "colab": {
          "base_uri": "https://localhost:8080/"
        },
        "id": "XqyGcinP2nc0",
        "outputId": "5b2694d8-3d6b-411b-b8e5-339150a91e6c"
      },
      "outputs": [
        {
          "output_type": "stream",
          "name": "stdout",
          "text": [
            "[3, 1, 1, 2, 2, 2]\n"
          ]
        }
      ],
      "source": [
        "from collections import Counter\n",
        "def frequencySort(nums):\n",
        "        # Count the frequency of each number in the list using Counter\n",
        "        num_frequency = Counter(nums)\n",
        "\n",
        "        # Sort the numbers based on the frequency (ascending order)\n",
        "        # When frequencies are the same, sort by the number itself (descending order)\n",
        "        sorted_nums = sorted(nums, key=lambda x: (num_frequency[x], -x))\n",
        "\n",
        "        return sorted_nums\n",
        "\n",
        "nums = [1,1,2,2,2,3]\n",
        "print(frequencySort(nums))"
      ]
    },
    {
      "cell_type": "code",
      "source": [],
      "metadata": {
        "id": "C5F2Xd-r7CN-"
      },
      "execution_count": null,
      "outputs": []
    }
  ]
}