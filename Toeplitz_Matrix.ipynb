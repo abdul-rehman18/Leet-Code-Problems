{
  "nbformat": 4,
  "nbformat_minor": 0,
  "metadata": {
    "colab": {
      "provenance": []
    },
    "kernelspec": {
      "name": "python3",
      "display_name": "Python 3"
    },
    "language_info": {
      "name": "python"
    }
  },
  "cells": [
    {
      "cell_type": "markdown",
      "source": [
        "# LeetCode Problem: Toeplitz Matrix"
      ],
      "metadata": {
        "id": "PngLbdxXGLya"
      }
    },
    {
      "cell_type": "code",
      "execution_count": 1,
      "metadata": {
        "colab": {
          "base_uri": "https://localhost:8080/"
        },
        "id": "Lb-RIrP9F4uA",
        "outputId": "9d357804-cf82-48a5-99c4-e37a01b8e85d"
      },
      "outputs": [
        {
          "output_type": "stream",
          "name": "stdout",
          "text": [
            "True\n"
          ]
        }
      ],
      "source": [
        "def isToeplitzMatrix(matrix):\n",
        "        for i in range(1,len(matrix)):\n",
        "            for j in range(1,len(matrix[0])):\n",
        "                if matrix[i-1][j-1] != matrix[i][j]:\n",
        "                    return False\n",
        "        return True\n",
        "\n",
        "matrix = [[1,2,3,4],[5,1,2,3],[9,5,1,2]]\n",
        "print(isToeplitzMatrix(matrix))\n"
      ]
    },
    {
      "cell_type": "code",
      "source": [],
      "metadata": {
        "id": "QbNH6GlOGVnv"
      },
      "execution_count": null,
      "outputs": []
    }
  ]
}