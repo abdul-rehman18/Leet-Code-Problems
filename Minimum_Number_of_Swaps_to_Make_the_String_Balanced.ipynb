{
  "nbformat": 4,
  "nbformat_minor": 0,
  "metadata": {
    "colab": {
      "provenance": []
    },
    "kernelspec": {
      "name": "python3",
      "display_name": "Python 3"
    },
    "language_info": {
      "name": "python"
    }
  },
  "cells": [
    {
      "cell_type": "markdown",
      "source": [
        "# LeetCode Problem: Minimum Number of Swaps to Make the String Balanced"
      ],
      "metadata": {
        "id": "Sfq1jIv5Cy7p"
      }
    },
    {
      "cell_type": "code",
      "execution_count": 1,
      "metadata": {
        "colab": {
          "base_uri": "https://localhost:8080/"
        },
        "id": "Qw77WkpbCuTU",
        "outputId": "c3c2f6ea-7594-48bd-9375-79697f28daa8"
      },
      "outputs": [
        {
          "output_type": "stream",
          "name": "stdout",
          "text": [
            "1\n"
          ]
        }
      ],
      "source": [
        "def minSwaps(s):\n",
        "        a = 0\n",
        "        for i in s:\n",
        "            if i == '[':\n",
        "                a += 1\n",
        "            elif a > 0:\n",
        "                a -= 1\n",
        "        return (a + 1) // 2\n",
        "\n",
        "\n",
        "s = \"][][\"\n",
        "print(minSwaps(s))"
      ]
    },
    {
      "cell_type": "code",
      "source": [],
      "metadata": {
        "id": "9UK-c5lcEgax"
      },
      "execution_count": null,
      "outputs": []
    }
  ]
}