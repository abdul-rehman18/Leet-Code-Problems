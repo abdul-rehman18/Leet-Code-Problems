{
  "nbformat": 4,
  "nbformat_minor": 0,
  "metadata": {
    "colab": {
      "provenance": []
    },
    "kernelspec": {
      "name": "python3",
      "display_name": "Python 3"
    },
    "language_info": {
      "name": "python"
    }
  },
  "cells": [
    {
      "cell_type": "markdown",
      "source": [
        "# LeetCode Problem: Number of Segments in a String"
      ],
      "metadata": {
        "id": "DDKqBZi6mzzS"
      }
    },
    {
      "cell_type": "code",
      "execution_count": 3,
      "metadata": {
        "colab": {
          "base_uri": "https://localhost:8080/"
        },
        "id": "NGf1-FbDjXGQ",
        "outputId": "cc848818-273a-4d5d-a218-234b50d75d0f"
      },
      "outputs": [
        {
          "output_type": "stream",
          "name": "stdout",
          "text": [
            "5\n"
          ]
        }
      ],
      "source": [
        "def countSegments(s):\n",
        "  n = s.split()\n",
        "  return len(n)\n",
        "s = \"Hello, my name is John\"\n",
        "print(countSegments(s))"
      ]
    },
    {
      "cell_type": "code",
      "source": [],
      "metadata": {
        "id": "aurrie5-nVc-"
      },
      "execution_count": null,
      "outputs": []
    }
  ]
}