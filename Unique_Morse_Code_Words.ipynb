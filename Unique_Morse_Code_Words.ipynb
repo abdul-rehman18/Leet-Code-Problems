{
  "nbformat": 4,
  "nbformat_minor": 0,
  "metadata": {
    "colab": {
      "provenance": []
    },
    "kernelspec": {
      "name": "python3",
      "display_name": "Python 3"
    },
    "language_info": {
      "name": "python"
    }
  },
  "cells": [
    {
      "cell_type": "markdown",
      "source": [
        "# LeetCode Problem: Unique Morse Code Words"
      ],
      "metadata": {
        "id": "iK09tA4a4dac"
      }
    },
    {
      "cell_type": "code",
      "execution_count": 1,
      "metadata": {
        "colab": {
          "base_uri": "https://localhost:8080/"
        },
        "id": "LqYeBUaT4Hce",
        "outputId": "f3b3d68b-0c29-4fdf-fad2-cd8113aff800"
      },
      "outputs": [
        {
          "output_type": "stream",
          "name": "stdout",
          "text": [
            "2\n"
          ]
        }
      ],
      "source": [
        "def uniqueMorseRepresentations(words):\n",
        "        letters = \"abcdefghijklmnopqrstuvwxyz\"\n",
        "        morse_code = [\".-\", \"-...\", \"-.-.\", \"-..\", \".\", \"..-.\", \"--.\", \"....\", \"..\", \".---\", \"-.-\", \".-..\", \"--\", \"-.\", \"---\", \".--.\", \"--.-\", \".-.\", \"...\", \"-\", \"..-\", \"...-\", \".--\", \"-..-\", \"-.--\", \"--..\"]\n",
        "\n",
        "        morse_dict = dict(zip(letters, morse_code))\n",
        "        words2 = []\n",
        "        for word in words:\n",
        "            k = \"\"\n",
        "            for i in word:\n",
        "                k += morse_dict[i]\n",
        "\n",
        "            words2.append(k)\n",
        "\n",
        "        return len(set(words2))\n",
        "\n",
        "\n",
        "words = [\"gin\",\"zen\",\"gig\",\"msg\"]\n",
        "print(uniqueMorseRepresentations(words))"
      ]
    },
    {
      "cell_type": "code",
      "source": [],
      "metadata": {
        "id": "WdYhlQdg4XcZ"
      },
      "execution_count": null,
      "outputs": []
    }
  ]
}