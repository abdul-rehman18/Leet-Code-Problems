{
 "cells": [
  {
   "cell_type": "markdown",
   "id": "24e0fa36",
   "metadata": {},
   "source": [
    "# LEETCODE PROBLEM : Two Sum"
   ]
  },
  {
   "cell_type": "code",
   "execution_count": 12,
   "id": "0b6f4801",
   "metadata": {},
   "outputs": [
    {
     "name": "stdout",
     "output_type": "stream",
     "text": [
      "[0, 1]\n"
     ]
    }
   ],
   "source": [
    "def twoSum(nums, target):\n",
    "    i=0\n",
    "    ans=[]\n",
    "    for i in range(len(nums)):\n",
    "        for j in range(len(nums)):\n",
    "            if nums[i]+nums[j]==target:\n",
    "                ans.append(i)\n",
    "                ans.append(j)\n",
    "                break\n",
    "        if len(ans)!=0:\n",
    "            break\n",
    "            \n",
    "    return ans\n",
    "\n",
    "nums = [2,7,11,15]\n",
    "target = 9\n",
    "an=twoSum(nums,target)\n",
    "print(an)"
   ]
  },
  {
   "cell_type": "code",
   "execution_count": null,
   "id": "73f89e09",
   "metadata": {},
   "outputs": [],
   "source": []
  },
  {
   "cell_type": "code",
   "execution_count": null,
   "id": "f7530af4",
   "metadata": {},
   "outputs": [],
   "source": []
  },
  {
   "cell_type": "code",
   "execution_count": null,
   "id": "6bc3214c",
   "metadata": {},
   "outputs": [],
   "source": []
  }
 ],
 "metadata": {
  "kernelspec": {
   "display_name": "Python 3 (ipykernel)",
   "language": "python",
   "name": "python3"
  },
  "language_info": {
   "codemirror_mode": {
    "name": "ipython",
    "version": 3
   },
   "file_extension": ".py",
   "mimetype": "text/x-python",
   "name": "python",
   "nbconvert_exporter": "python",
   "pygments_lexer": "ipython3",
   "version": "3.10.9"
  }
 },
 "nbformat": 4,
 "nbformat_minor": 5
}
