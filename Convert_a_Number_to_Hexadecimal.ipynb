{
  "nbformat": 4,
  "nbformat_minor": 0,
  "metadata": {
    "colab": {
      "provenance": []
    },
    "kernelspec": {
      "name": "python3",
      "display_name": "Python 3"
    },
    "language_info": {
      "name": "python"
    }
  },
  "cells": [
    {
      "cell_type": "markdown",
      "source": [
        "# LeetCode Problem: Convert a Number to Hexadecimal"
      ],
      "metadata": {
        "id": "Lwms8OmsPPTL"
      }
    },
    {
      "cell_type": "code",
      "execution_count": 1,
      "metadata": {
        "colab": {
          "base_uri": "https://localhost:8080/"
        },
        "id": "9LkCbnN0PLiC",
        "outputId": "dd23cb8b-3741-4adc-96a3-b95a17b3a343"
      },
      "outputs": [
        {
          "output_type": "stream",
          "name": "stdout",
          "text": [
            "1a\n"
          ]
        }
      ],
      "source": [
        "def toHex(num):\n",
        "        h = \"0123456789abcdef\"\n",
        "        res = \"\"\n",
        "        if num==0:\n",
        "            return \"0\"\n",
        "        elif num<0:\n",
        "            num+=2**32\n",
        "        while num:\n",
        "            res = h[num%16]+res\n",
        "            num//=16\n",
        "        return res\n",
        "\n",
        "num = 26\n",
        "res = toHex(num)\n",
        "print(res)"
      ]
    },
    {
      "cell_type": "code",
      "source": [],
      "metadata": {
        "id": "nnvLP0t9Skbw"
      },
      "execution_count": null,
      "outputs": []
    }
  ]
}