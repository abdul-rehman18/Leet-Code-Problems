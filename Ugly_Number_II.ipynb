{
  "nbformat": 4,
  "nbformat_minor": 0,
  "metadata": {
    "colab": {
      "provenance": []
    },
    "kernelspec": {
      "name": "python3",
      "display_name": "Python 3"
    },
    "language_info": {
      "name": "python"
    }
  },
  "cells": [
    {
      "cell_type": "markdown",
      "source": [
        "# LeetCode Problem: Ugly Number II"
      ],
      "metadata": {
        "id": "YMi4a3FZB-2D"
      }
    },
    {
      "cell_type": "code",
      "execution_count": 1,
      "metadata": {
        "colab": {
          "base_uri": "https://localhost:8080/"
        },
        "id": "bpxsWmG8B1n2",
        "outputId": "70148568-6808-42a4-f008-809bb8059d87"
      },
      "outputs": [
        {
          "output_type": "stream",
          "name": "stdout",
          "text": [
            "12\n"
          ]
        }
      ],
      "source": [
        "import math\n",
        "from heapq import *\n",
        "def nthUglyNumber(n):\n",
        "        primes = [2,3,5]\n",
        "        uglyHeap = [1]\n",
        "        visited = set()\n",
        "        visited.add(1)\n",
        "        for _ in range(n):\n",
        "            curr = heappop(uglyHeap)\n",
        "            for prime in primes:\n",
        "                new_ugly = curr * prime\n",
        "                if new_ugly not in visited:\n",
        "                    heappush(uglyHeap, new_ugly)\n",
        "                    visited.add(new_ugly)\n",
        "        return curr\n",
        "\n",
        "n = 10\n",
        "print(nthUglyNumber(n))"
      ]
    },
    {
      "cell_type": "code",
      "source": [],
      "metadata": {
        "id": "zAnjI68jCWUc"
      },
      "execution_count": null,
      "outputs": []
    }
  ]
}