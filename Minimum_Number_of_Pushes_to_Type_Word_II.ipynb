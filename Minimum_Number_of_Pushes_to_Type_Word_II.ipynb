{
  "nbformat": 4,
  "nbformat_minor": 0,
  "metadata": {
    "colab": {
      "provenance": []
    },
    "kernelspec": {
      "name": "python3",
      "display_name": "Python 3"
    },
    "language_info": {
      "name": "python"
    }
  },
  "cells": [
    {
      "cell_type": "markdown",
      "source": [
        "# LeetCode Problem: Minimum Number of Pushes to Type Word II"
      ],
      "metadata": {
        "id": "KzgkXvx6dTT6"
      }
    },
    {
      "cell_type": "code",
      "execution_count": 1,
      "metadata": {
        "colab": {
          "base_uri": "https://localhost:8080/"
        },
        "id": "IWWkOlmgdB-1",
        "outputId": "77037e52-a823-4b4a-a78b-dde842de6ac6"
      },
      "outputs": [
        {
          "output_type": "stream",
          "name": "stdout",
          "text": [
            "5\n"
          ]
        }
      ],
      "source": [
        "def minimumPushes(input_text):\n",
        "        letter_counts = [0] * 26\n",
        "        for char in input_text:\n",
        "            letter_counts[ord(char) - ord('a')] += 1\n",
        "        sorted_counts = sorted(letter_counts, reverse=True)\n",
        "        total_key_presses = 0\n",
        "        for index, count in enumerate(sorted_counts):\n",
        "            if count == 0:\n",
        "                break\n",
        "            total_key_presses += (index // 8 + 1) * count\n",
        "        return total_key_presses\n",
        "\n",
        "word = \"abcde\"\n",
        "\n",
        "print(minimumPushes(word))"
      ]
    },
    {
      "cell_type": "code",
      "source": [],
      "metadata": {
        "id": "cM0t-Jj6eAnv"
      },
      "execution_count": null,
      "outputs": []
    }
  ]
}