{
  "nbformat": 4,
  "nbformat_minor": 0,
  "metadata": {
    "colab": {
      "provenance": []
    },
    "kernelspec": {
      "name": "python3",
      "display_name": "Python 3"
    },
    "language_info": {
      "name": "python"
    }
  },
  "cells": [
    {
      "cell_type": "markdown",
      "source": [
        "# LeetCode Problem: Check if Grid can be Cut into Sections"
      ],
      "metadata": {
        "id": "6CBbjTmrq7uL"
      }
    },
    {
      "cell_type": "code",
      "execution_count": null,
      "metadata": {
        "id": "JFpyutomq1Bm"
      },
      "outputs": [],
      "source": [
        "class Solution:\n",
        "    def checkValidCuts(self, n: int, rectangles: List[List[int]]) -> bool:\n",
        "        def check(intervals):\n",
        "            intervals.sort()\n",
        "\n",
        "            sections = 0\n",
        "            max_end = intervals[0][1]\n",
        "\n",
        "            for start, end in intervals:\n",
        "                if max_end <= start:\n",
        "                    sections += 1\n",
        "                max_end = max(max_end, end)\n",
        "\n",
        "            return sections >= 2\n",
        "\n",
        "        x_intervals = [[rect[0], rect[2]] for rect in rectangles]\n",
        "        y_intervals = [[rect[1], rect[3]] for rect in rectangles]\n",
        "\n",
        "        return check(x_intervals) or check(y_intervals)"
      ]
    }
  ]
}