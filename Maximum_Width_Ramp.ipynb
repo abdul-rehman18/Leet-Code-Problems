{
  "nbformat": 4,
  "nbformat_minor": 0,
  "metadata": {
    "colab": {
      "provenance": []
    },
    "kernelspec": {
      "name": "python3",
      "display_name": "Python 3"
    },
    "language_info": {
      "name": "python"
    }
  },
  "cells": [
    {
      "cell_type": "markdown",
      "source": [
        "# LeetCode Problem: Maximum Width Ramp"
      ],
      "metadata": {
        "id": "Dy1T-kYM7xci"
      }
    },
    {
      "cell_type": "code",
      "execution_count": 4,
      "metadata": {
        "colab": {
          "base_uri": "https://localhost:8080/"
        },
        "id": "sJ0XWQec7e0v",
        "outputId": "3a8ae8ae-fab2-47e0-aa7e-cbf9c8145eda"
      },
      "outputs": [
        {
          "output_type": "stream",
          "name": "stdout",
          "text": [
            "7\n"
          ]
        }
      ],
      "source": [
        "def maxWidthRamp(nums):\n",
        "        n = len(nums)\n",
        "        l = []\n",
        "        for i in range(n):\n",
        "            if not l or nums[l[-1]] > nums[i]:\n",
        "                l.append(i)\n",
        "        a = 0\n",
        "        for i in range(n-1,0,-1):\n",
        "            while l and nums[l[-1]] <= nums[i]:\n",
        "                a = max(a , i - l[-1])\n",
        "                l.pop()\n",
        "        return a\n",
        "\n",
        "\n",
        "# nums = [6,0,8,2,1,5]\n",
        "nums = [9,8,1,0,1,9,4,0,4,1]\n",
        "print(maxWidthRamp(nums))"
      ]
    },
    {
      "cell_type": "code",
      "source": [],
      "metadata": {
        "id": "hYwZ9Qix9y5K"
      },
      "execution_count": null,
      "outputs": []
    }
  ]
}