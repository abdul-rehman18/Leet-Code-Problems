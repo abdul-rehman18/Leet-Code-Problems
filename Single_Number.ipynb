{
  "nbformat": 4,
  "nbformat_minor": 0,
  "metadata": {
    "colab": {
      "provenance": []
    },
    "kernelspec": {
      "name": "python3",
      "display_name": "Python 3"
    },
    "language_info": {
      "name": "python"
    }
  },
  "cells": [
    {
      "cell_type": "markdown",
      "source": [
        "# LeetCode Problem: Single Number"
      ],
      "metadata": {
        "id": "VzfUhXik7ph0"
      }
    },
    {
      "cell_type": "code",
      "execution_count": 3,
      "metadata": {
        "colab": {
          "base_uri": "https://localhost:8080/"
        },
        "id": "ZeHdKFsj7LIb",
        "outputId": "dd3cd69e-cec5-42f8-dafb-273811d8fdc6"
      },
      "outputs": [
        {
          "output_type": "execute_result",
          "data": {
            "text/plain": [
              "1"
            ]
          },
          "metadata": {},
          "execution_count": 3
        }
      ],
      "source": [
        "from functools import reduce\n",
        "def singleNumber(nums):\n",
        "        return reduce(lambda t,e:t^e,nums)\n",
        "\n",
        "nums=[2,2,1]\n",
        "singleNumber(nums)"
      ]
    },
    {
      "cell_type": "code",
      "source": [],
      "metadata": {
        "id": "ZjDSXtPB7aGf"
      },
      "execution_count": null,
      "outputs": []
    }
  ]
}