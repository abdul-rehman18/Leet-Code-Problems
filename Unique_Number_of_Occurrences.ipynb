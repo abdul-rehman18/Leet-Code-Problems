{
  "nbformat": 4,
  "nbformat_minor": 0,
  "metadata": {
    "colab": {
      "provenance": []
    },
    "kernelspec": {
      "name": "python3",
      "display_name": "Python 3"
    },
    "language_info": {
      "name": "python"
    }
  },
  "cells": [
    {
      "cell_type": "markdown",
      "source": [
        "# LeetCode Problem: Unique Number of Occurrences"
      ],
      "metadata": {
        "id": "9XO4Hysq7MCh"
      }
    },
    {
      "cell_type": "code",
      "execution_count": 9,
      "metadata": {
        "colab": {
          "base_uri": "https://localhost:8080/"
        },
        "id": "CmXGyOed6WJN",
        "outputId": "847fba56-cce8-4da1-9128-810a7e1e70b6"
      },
      "outputs": [
        {
          "output_type": "stream",
          "name": "stdout",
          "text": [
            "True\n"
          ]
        }
      ],
      "source": [
        "from collections import Counter\n",
        "def uniqueOccurrences(arr):\n",
        "        d = Counter(arr)\n",
        "        return len(d.values()) == len(set(d.values()))\n",
        "\n",
        "arr = [1,2,2,1,1,3]\n",
        "\n",
        "print(uniqueOccurrences(arr))"
      ]
    },
    {
      "cell_type": "code",
      "source": [],
      "metadata": {
        "id": "mf0BBXLh824k"
      },
      "execution_count": null,
      "outputs": []
    }
  ]
}