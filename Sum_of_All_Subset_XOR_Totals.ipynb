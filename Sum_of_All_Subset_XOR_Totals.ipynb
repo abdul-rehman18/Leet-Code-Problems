{
  "nbformat": 4,
  "nbformat_minor": 0,
  "metadata": {
    "colab": {
      "provenance": []
    },
    "kernelspec": {
      "name": "python3",
      "display_name": "Python 3"
    },
    "language_info": {
      "name": "python"
    }
  },
  "cells": [
    {
      "cell_type": "markdown",
      "source": [
        "# LeetCode Problem: Sum of All Subset XOR Totals"
      ],
      "metadata": {
        "id": "nRinx-L6vKrx"
      }
    },
    {
      "cell_type": "code",
      "execution_count": 1,
      "metadata": {
        "colab": {
          "base_uri": "https://localhost:8080/"
        },
        "id": "08ohjqJvu3PZ",
        "outputId": "463ebe51-21ae-4bee-8ad7-7e75bed24f52"
      },
      "outputs": [
        {
          "output_type": "stream",
          "name": "stdout",
          "text": [
            "6\n"
          ]
        }
      ],
      "source": [
        "def subsetXORSum(nums):\n",
        "        n = len(nums)\n",
        "        total_sum = 0\n",
        "        # Iterate through all possible subsets\n",
        "        for i in range(1 << n):\n",
        "            subset_xor = 0\n",
        "            for j in range(n):\n",
        "                # Check if the j-th element is in the i-th subset\n",
        "                if i & (1 << j):\n",
        "                    subset_xor ^= nums[j]\n",
        "            total_sum += subset_xor\n",
        "        return total_sum\n",
        "\n",
        "nums = [1,3]\n",
        "print(subsetXORSum(nums))"
      ]
    },
    {
      "cell_type": "code",
      "source": [],
      "metadata": {
        "id": "qip7wmOkvtk8"
      },
      "execution_count": null,
      "outputs": []
    }
  ]
}