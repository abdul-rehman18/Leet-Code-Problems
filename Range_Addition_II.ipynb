{
  "nbformat": 4,
  "nbformat_minor": 0,
  "metadata": {
    "colab": {
      "provenance": []
    },
    "kernelspec": {
      "name": "python3",
      "display_name": "Python 3"
    },
    "language_info": {
      "name": "python"
    }
  },
  "cells": [
    {
      "cell_type": "markdown",
      "source": [
        "# LeetCode Problem: Range Addition II\n"
      ],
      "metadata": {
        "id": "QF6-C4-uQBLo"
      }
    },
    {
      "cell_type": "code",
      "execution_count": 1,
      "metadata": {
        "colab": {
          "base_uri": "https://localhost:8080/"
        },
        "id": "VXRtK_k0LrFN",
        "outputId": "2f9e9e94-f701-436f-b1c5-1dc7d01470eb"
      },
      "outputs": [
        {
          "output_type": "stream",
          "name": "stdout",
          "text": [
            "4\n"
          ]
        }
      ],
      "source": [
        "def maxCount(m, n, ops):\n",
        "        min_row = m\n",
        "        min_col = n\n",
        "        for i in range(len(ops)):\n",
        "            min_row=min(min_row, ops[i][0])\n",
        "            min_col=min(min_col, ops[i][1])\n",
        "        return min_row*min_col\n",
        "\n",
        "m = 3\n",
        "n = 3\n",
        "ops = [[2,2],[3,3]]\n",
        "print(maxCount(m, n, ops))"
      ]
    },
    {
      "cell_type": "code",
      "source": [],
      "metadata": {
        "id": "7DwboiyoP8FJ"
      },
      "execution_count": null,
      "outputs": []
    }
  ]
}