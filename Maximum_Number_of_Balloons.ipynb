{
  "nbformat": 4,
  "nbformat_minor": 0,
  "metadata": {
    "colab": {
      "provenance": []
    },
    "kernelspec": {
      "name": "python3",
      "display_name": "Python 3"
    },
    "language_info": {
      "name": "python"
    }
  },
  "cells": [
    {
      "cell_type": "markdown",
      "source": [
        "# LeetCode Problem: Maximum Number of Balloons"
      ],
      "metadata": {
        "id": "X29tiZirAcBL"
      }
    },
    {
      "cell_type": "code",
      "execution_count": 1,
      "metadata": {
        "colab": {
          "base_uri": "https://localhost:8080/"
        },
        "id": "wNS1zJh7_5gf",
        "outputId": "470f7273-8cb1-4093-d064-7fe1ef08b2f0"
      },
      "outputs": [
        {
          "output_type": "stream",
          "name": "stdout",
          "text": [
            "2\n"
          ]
        }
      ],
      "source": [
        "def maxNumberOfBalloons(text):\n",
        "        potential_count = float('inf')\n",
        "        d = {}\n",
        "\n",
        "        # poor man's counter.\n",
        "        for c in text:\n",
        "            d[c] = d.get(c, 0) + 1\n",
        "\n",
        "        # we need minimum count of b a n to be potential count\n",
        "        for c in \"ban\":\n",
        "            if d.get(c, 0) < potential_count:\n",
        "                potential_count = d.get(c, 0)\n",
        "        # if l and o are less than twice of potential_count, potential count is half of # of \"l/o\"s\n",
        "        for c in \"lo\":\n",
        "            if d.get(c, 0) < potential_count*2:\n",
        "                potential_count = d.get(c,0)//2\n",
        "        return potential_count\n",
        "\n",
        "text = \"nlaebolko\"\n",
        "print(maxNumberOfBalloons(\"loonbalxballpoon\"))"
      ]
    },
    {
      "cell_type": "code",
      "source": [],
      "metadata": {
        "id": "IhSsxsjABA2Z"
      },
      "execution_count": null,
      "outputs": []
    }
  ]
}