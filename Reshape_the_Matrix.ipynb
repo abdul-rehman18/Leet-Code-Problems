{
  "nbformat": 4,
  "nbformat_minor": 0,
  "metadata": {
    "colab": {
      "provenance": []
    },
    "kernelspec": {
      "name": "python3",
      "display_name": "Python 3"
    },
    "language_info": {
      "name": "python"
    }
  },
  "cells": [
    {
      "cell_type": "markdown",
      "source": [
        "# LeetCode Problem: Reshape the Matrix"
      ],
      "metadata": {
        "id": "db_Qmea4O448"
      }
    },
    {
      "cell_type": "code",
      "execution_count": 1,
      "metadata": {
        "colab": {
          "base_uri": "https://localhost:8080/"
        },
        "id": "JgjD2B1oOkDx",
        "outputId": "2614e90a-b290-46be-d8e7-eedd24fa0cb4"
      },
      "outputs": [
        {
          "output_type": "stream",
          "name": "stdout",
          "text": [
            "[[1, 2], [3, 4]]\n"
          ]
        }
      ],
      "source": [
        "def matrixReshape(mat, r, c):\n",
        "        f,m=[],[]\n",
        "        for a in mat:\n",
        "            for n in a:\n",
        "                f.append(n)\n",
        "        if r*c != len(f):\n",
        "            return mat\n",
        "        else:\n",
        "            for r_i in range(r):\n",
        "                m.append(f[r_i * c : r_i * c + c])\n",
        "            return m\n",
        "\n",
        "mat = [[1,2],[3,4]]\n",
        "r = 2\n",
        "c = 4\n",
        "print(matrixReshape(mat, r, c))"
      ]
    },
    {
      "cell_type": "code",
      "source": [],
      "metadata": {
        "id": "S7vYF-pSQqMn"
      },
      "execution_count": null,
      "outputs": []
    }
  ]
}