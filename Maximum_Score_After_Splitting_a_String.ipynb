{
  "nbformat": 4,
  "nbformat_minor": 0,
  "metadata": {
    "colab": {
      "provenance": []
    },
    "kernelspec": {
      "name": "python3",
      "display_name": "Python 3"
    },
    "language_info": {
      "name": "python"
    }
  },
  "cells": [
    {
      "cell_type": "markdown",
      "source": [
        "# LeetCode Problem:Maximum Score After Splitting a String"
      ],
      "metadata": {
        "id": "AqOKLrmWB5-c"
      }
    },
    {
      "cell_type": "code",
      "execution_count": 1,
      "metadata": {
        "colab": {
          "base_uri": "https://localhost:8080/"
        },
        "id": "j5NW-2IcBvAJ",
        "outputId": "c45fa551-5e9f-4713-bf7c-e818a70cf9ae"
      },
      "outputs": [
        {
          "output_type": "stream",
          "name": "stdout",
          "text": [
            "5\n"
          ]
        }
      ],
      "source": [
        "def maxScore(s):\n",
        "        total_zeros = s.count('0')\n",
        "        ans, zeros, n = -1, 0, len(s)\n",
        "        for i in range(1, n):\n",
        "            if s[i - 1] == '0':\n",
        "                zeros += 1\n",
        "                total_zeros -= 1\n",
        "            ans = max(ans, zeros + (n - total_zeros - i))\n",
        "        return ans\n",
        "\n",
        "s = \"011101\"\n",
        "\n",
        "print(maxScore(s))"
      ]
    },
    {
      "cell_type": "code",
      "source": [],
      "metadata": {
        "id": "RbmgaXduCQ7l"
      },
      "execution_count": null,
      "outputs": []
    }
  ]
}