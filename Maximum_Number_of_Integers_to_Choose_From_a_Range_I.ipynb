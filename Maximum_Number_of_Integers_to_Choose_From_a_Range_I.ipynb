{
  "nbformat": 4,
  "nbformat_minor": 0,
  "metadata": {
    "colab": {
      "provenance": []
    },
    "kernelspec": {
      "name": "python3",
      "display_name": "Python 3"
    },
    "language_info": {
      "name": "python"
    }
  },
  "cells": [
    {
      "cell_type": "markdown",
      "source": [
        "# LeetCode Problem: Maximum Number of Integers to Choose From a Range I"
      ],
      "metadata": {
        "id": "2w7im4Wk7Rev"
      }
    },
    {
      "cell_type": "code",
      "execution_count": 1,
      "metadata": {
        "colab": {
          "base_uri": "https://localhost:8080/"
        },
        "id": "nwTl04Iy67hy",
        "outputId": "0eb9a1e4-2ae4-46d7-db40-5868e4e96dde"
      },
      "outputs": [
        {
          "output_type": "stream",
          "name": "stdout",
          "text": [
            "2\n"
          ]
        }
      ],
      "source": [
        "def maxCount(banned, n, maxSum):\n",
        "        banned_set = set(banned)  # Use a set for quick lookups\n",
        "        total_sum = 0  # Track the cumulative sum\n",
        "        count = 0  # Track the count of valid numbers\n",
        "\n",
        "        for i in range(1, n + 1):\n",
        "            if i in banned_set:\n",
        "                continue  # Skip banned numbers\n",
        "            total_sum += i\n",
        "            if total_sum > maxSum:\n",
        "                break  # Stop if the sum exceeds maxSum\n",
        "            count += 1\n",
        "\n",
        "        return count\n",
        "\n",
        "\n",
        "banned = [1,6,5]\n",
        "n = 5\n",
        "maxSum = 6\n",
        "\n",
        "print(maxCount(banned, n, maxSum))\n"
      ]
    },
    {
      "cell_type": "code",
      "source": [],
      "metadata": {
        "id": "0_-0Mlmr70tw"
      },
      "execution_count": null,
      "outputs": []
    }
  ]
}