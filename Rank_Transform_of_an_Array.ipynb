{
  "nbformat": 4,
  "nbformat_minor": 0,
  "metadata": {
    "colab": {
      "provenance": []
    },
    "kernelspec": {
      "name": "python3",
      "display_name": "Python 3"
    },
    "language_info": {
      "name": "python"
    }
  },
  "cells": [
    {
      "cell_type": "markdown",
      "source": [
        "# LeetCode Problem:  Rank Transform of an Array"
      ],
      "metadata": {
        "id": "1633tN1oiGoZ"
      }
    },
    {
      "cell_type": "code",
      "execution_count": 2,
      "metadata": {
        "colab": {
          "base_uri": "https://localhost:8080/"
        },
        "id": "nl4Qlu5RgGfZ",
        "outputId": "23b8a577-5e50-4087-c025-4ce941679bf6"
      },
      "outputs": [
        {
          "output_type": "stream",
          "name": "stdout",
          "text": [
            "[4, 1, 2, 3]\n"
          ]
        }
      ],
      "source": [
        "def arrayRankTransform(arr):\n",
        "        value_to_rank = {}\n",
        "        sorted_unique_numbers = sorted(list(set(arr)))\n",
        "        for index in range(len(sorted_unique_numbers)):\n",
        "            value_to_rank[sorted_unique_numbers[index]] = index + 1\n",
        "\n",
        "        for index in range(len(arr)):\n",
        "            arr[index] = value_to_rank[arr[index]]\n",
        "\n",
        "        return arr\n",
        "\n",
        "\n",
        "arr = [40,10,20,30]\n",
        "print(arrayRankTransform(arr))"
      ]
    },
    {
      "cell_type": "code",
      "source": [],
      "metadata": {
        "id": "kD8HGx-HiNdM"
      },
      "execution_count": null,
      "outputs": []
    }
  ]
}