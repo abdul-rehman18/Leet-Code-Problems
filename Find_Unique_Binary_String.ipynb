{
  "nbformat": 4,
  "nbformat_minor": 0,
  "metadata": {
    "colab": {
      "provenance": []
    },
    "kernelspec": {
      "name": "python3",
      "display_name": "Python 3"
    },
    "language_info": {
      "name": "python"
    }
  },
  "cells": [
    {
      "cell_type": "markdown",
      "source": [
        "# LeetCode Problem: Find Unique Binary String"
      ],
      "metadata": {
        "id": "YGn9sjLd1y2B"
      }
    },
    {
      "cell_type": "code",
      "execution_count": 1,
      "metadata": {
        "colab": {
          "base_uri": "https://localhost:8080/"
        },
        "id": "09RiD4UB1fQx",
        "outputId": "7d9e079a-eae5-48f6-837e-ef5f80e385ed"
      },
      "outputs": [
        {
          "output_type": "stream",
          "name": "stdout",
          "text": [
            "11\n"
          ]
        }
      ],
      "source": [
        "def findDifferentBinaryString(nums):\n",
        "        result = []\n",
        "        for i in range(len(nums)):\n",
        "            if nums[i][i] == '0':\n",
        "                result.append('1')\n",
        "            else:\n",
        "                result.append('0')\n",
        "        return ''.join(result)\n",
        "\n",
        "nums = [\"01\",\"10\"]\n",
        "\n",
        "print(findDifferentBinaryString(nums))"
      ]
    },
    {
      "cell_type": "code",
      "source": [],
      "metadata": {
        "id": "e4miY5ob2IF7"
      },
      "execution_count": null,
      "outputs": []
    }
  ]
}