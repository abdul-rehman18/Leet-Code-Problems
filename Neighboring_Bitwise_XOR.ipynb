{
  "nbformat": 4,
  "nbformat_minor": 0,
  "metadata": {
    "colab": {
      "provenance": []
    },
    "kernelspec": {
      "name": "python3",
      "display_name": "Python 3"
    },
    "language_info": {
      "name": "python"
    }
  },
  "cells": [
    {
      "cell_type": "markdown",
      "source": [
        "# LeetCode Problem: Neighboring Bitwise XOR"
      ],
      "metadata": {
        "id": "7Exm_cLVtg46"
      }
    },
    {
      "cell_type": "code",
      "execution_count": 2,
      "metadata": {
        "colab": {
          "base_uri": "https://localhost:8080/"
        },
        "id": "gYjiFLrwtdPy",
        "outputId": "616b9c94-41bd-4fd9-b1ab-952927ca32fd"
      },
      "outputs": [
        {
          "output_type": "stream",
          "name": "stdout",
          "text": [
            "True\n"
          ]
        }
      ],
      "source": [
        "import numpy as np\n",
        "from functools import reduce\n",
        "from operator import xor\n",
        "def doesValidArrayExist(derived):\n",
        "        return reduce(xor, derived)==0\n",
        "\n",
        "derived = [1,1,0]\n",
        "\n",
        "print(doesValidArrayExist(derived))"
      ]
    },
    {
      "cell_type": "code",
      "source": [],
      "metadata": {
        "id": "u2TWZw01txjO"
      },
      "execution_count": null,
      "outputs": []
    }
  ]
}