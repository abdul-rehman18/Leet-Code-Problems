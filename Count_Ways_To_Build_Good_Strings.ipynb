{
  "nbformat": 4,
  "nbformat_minor": 0,
  "metadata": {
    "colab": {
      "provenance": []
    },
    "kernelspec": {
      "name": "python3",
      "display_name": "Python 3"
    },
    "language_info": {
      "name": "python"
    }
  },
  "cells": [
    {
      "cell_type": "markdown",
      "source": [
        "# LeetCode Problem:Count Ways To Build Good Strings"
      ],
      "metadata": {
        "id": "dEn2iH4GSjAV"
      }
    },
    {
      "cell_type": "code",
      "execution_count": 1,
      "metadata": {
        "colab": {
          "base_uri": "https://localhost:8080/"
        },
        "id": "Tdln7oGRR-eS",
        "outputId": "e76c620c-27ff-4b35-d21c-5f9abe25ae2b"
      },
      "outputs": [
        {
          "output_type": "stream",
          "name": "stdout",
          "text": [
            "8\n"
          ]
        }
      ],
      "source": [
        "def countGoodStrings(low, high, zero, one):\n",
        "        MOD = 10**9 + 7\n",
        "        ways = [0] * (high + 1)\n",
        "        ways[0] = 1\n",
        "\n",
        "        for length in range(high + 1):\n",
        "            if ways[length] == 0:\n",
        "                continue\n",
        "            if length + zero <= high:\n",
        "                ways[length + zero] = (ways[length + zero] + ways[length]) % MOD\n",
        "            if length + one <= high:\n",
        "                ways[length + one] = (ways[length + one] + ways[length]) % MOD\n",
        "\n",
        "        count = 0\n",
        "        for i in range(low, high + 1):\n",
        "            count = (count + ways[i]) % MOD\n",
        "\n",
        "        return count\n",
        "\n",
        "low = 3\n",
        "high = 3\n",
        "zero = 1\n",
        "one = 1\n",
        "\n",
        "print(countGoodStrings(low, high, zero, one))"
      ]
    },
    {
      "cell_type": "code",
      "source": [],
      "metadata": {
        "id": "rnA2B_qgS4hb"
      },
      "execution_count": null,
      "outputs": []
    }
  ]
}