{
  "nbformat": 4,
  "nbformat_minor": 0,
  "metadata": {
    "colab": {
      "provenance": []
    },
    "kernelspec": {
      "name": "python3",
      "display_name": "Python 3"
    },
    "language_info": {
      "name": "python"
    }
  },
  "cells": [
    {
      "cell_type": "markdown",
      "source": [
        "# LeetCode Problem: Day of the Week"
      ],
      "metadata": {
        "id": "7fVAo6h08Hw7"
      }
    },
    {
      "source": [
        "from datetime import date\n",
        "\n",
        "def dayOfTheWeek(day, month, year):\n",
        "    return date(year, month, day).strftime(\"%A\")\n",
        "\n",
        "day = 31\n",
        "month = 8\n",
        "year = 2019\n",
        "\n",
        "print(dayOfTheWeek(day, month, year))"
      ],
      "cell_type": "code",
      "metadata": {
        "id": "zV75MomQ9WbW",
        "outputId": "9fd65e25-2475-4ee4-8f01-14ffc4a97b30",
        "colab": {
          "base_uri": "https://localhost:8080/"
        }
      },
      "execution_count": 2,
      "outputs": [
        {
          "output_type": "stream",
          "name": "stdout",
          "text": [
            "Saturday\n"
          ]
        }
      ]
    },
    {
      "cell_type": "code",
      "source": [],
      "metadata": {
        "id": "PMf3332t9Bti"
      },
      "execution_count": null,
      "outputs": []
    }
  ]
}