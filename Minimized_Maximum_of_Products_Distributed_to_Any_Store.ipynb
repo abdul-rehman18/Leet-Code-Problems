{
  "nbformat": 4,
  "nbformat_minor": 0,
  "metadata": {
    "colab": {
      "provenance": []
    },
    "kernelspec": {
      "name": "python3",
      "display_name": "Python 3"
    },
    "language_info": {
      "name": "python"
    }
  },
  "cells": [
    {
      "cell_type": "markdown",
      "source": [
        "# LeetCode Problem: Minimized Maximum of Products Distributed to Any Store\n"
      ],
      "metadata": {
        "id": "WlxF8vHWkHXt"
      }
    },
    {
      "cell_type": "code",
      "execution_count": 2,
      "metadata": {
        "colab": {
          "base_uri": "https://localhost:8080/"
        },
        "id": "30B8Y8Myj_Ah",
        "outputId": "2e18520a-5b29-43e3-d225-a1644ad3b460"
      },
      "outputs": [
        {
          "output_type": "stream",
          "name": "stdout",
          "text": [
            "3\n"
          ]
        }
      ],
      "source": [
        "class Solution:\n",
        "    def minimizedMaximum(self,n, quantities):\n",
        "        def canDistribute(max_products):\n",
        "            stores_needed = sum((quantity + max_products - 1) // max_products for quantity in quantities)\n",
        "            return stores_needed <= n\n",
        "        left, right = 1, max(quantities)\n",
        "        while left < right:\n",
        "            mid = (left + right) // 2\n",
        "            if canDistribute(mid):\n",
        "                right = mid\n",
        "            else:\n",
        "                left = mid + 1\n",
        "        return left\n",
        "\n",
        "n = 6\n",
        "quantities = [11,6]\n",
        "\n",
        "\n",
        "solution = Solution()\n",
        "result = solution.minimizedMaximum(n, quantities)\n",
        "print(result)"
      ]
    },
    {
      "cell_type": "code",
      "source": [],
      "metadata": {
        "id": "LbyJWeslk0L7"
      },
      "execution_count": null,
      "outputs": []
    }
  ]
}