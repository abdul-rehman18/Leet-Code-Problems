{
  "nbformat": 4,
  "nbformat_minor": 0,
  "metadata": {
    "colab": {
      "provenance": []
    },
    "kernelspec": {
      "name": "python3",
      "display_name": "Python 3"
    },
    "language_info": {
      "name": "python"
    }
  },
  "cells": [
    {
      "cell_type": "markdown",
      "source": [
        "# LeetCode Problem: Second Minimum Node In a Binary Tree\n"
      ],
      "metadata": {
        "id": "aq88EqSeKpz4"
      }
    },
    {
      "cell_type": "code",
      "execution_count": 1,
      "metadata": {
        "colab": {
          "base_uri": "https://localhost:8080/"
        },
        "id": "4_uibhQ9J2ea",
        "outputId": "4a066b89-732c-47a5-a2cc-295ea79d618f"
      },
      "outputs": [
        {
          "output_type": "stream",
          "name": "stdout",
          "text": [
            "Second Minimum Value: 5\n"
          ]
        }
      ],
      "source": [
        "class TreeNode:\n",
        "    def __init__(self, val=0, left=None, right=None):\n",
        "        self.val = val\n",
        "        self.left = left\n",
        "        self.right = right\n",
        "class Solution:\n",
        "    def findSecondMinimumValue(self, root: TreeNode) -> int:\n",
        "        nums = []\n",
        "        nodes = [root]\n",
        "        while nodes:\n",
        "            t = nodes.pop()\n",
        "            nums.append(t.val)\n",
        "            if t.left:\n",
        "                nodes.append(t.left)\n",
        "            if t.right:\n",
        "                nodes.append(t.right)\n",
        "\n",
        "        if len(set(nums)) == 1:\n",
        "            return -1\n",
        "\n",
        "        return sorted(set(nums))[1]\n",
        "\n",
        "\n",
        "def main():\n",
        "    # Example usage of the Solution class\n",
        "    # You may need to create a TreeNode instance to test the findSecondMinimumValue method\n",
        "\n",
        "    # Example TreeNode:\n",
        "    root = TreeNode(2)\n",
        "    root.left = TreeNode(2)\n",
        "    root.right = TreeNode(5)\n",
        "    root.right.left = TreeNode(5)\n",
        "    root.right.right = TreeNode(7)\n",
        "\n",
        "    # Create an instance of Solution\n",
        "    solution_instance = Solution()\n",
        "\n",
        "    # Call the findSecondMinimumValue method with your TreeNode instance\n",
        "    result = solution_instance.findSecondMinimumValue(root)\n",
        "\n",
        "    # Print the result\n",
        "    print(\"Second Minimum Value:\", result)\n",
        "\n",
        "if __name__ == \"__main__\":\n",
        "    main()\n"
      ]
    },
    {
      "cell_type": "code",
      "source": [],
      "metadata": {
        "id": "8mOMw-GvKiiA"
      },
      "execution_count": null,
      "outputs": []
    }
  ]
}