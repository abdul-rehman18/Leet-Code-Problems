{
  "nbformat": 4,
  "nbformat_minor": 0,
  "metadata": {
    "colab": {
      "provenance": []
    },
    "kernelspec": {
      "name": "python3",
      "display_name": "Python 3"
    },
    "language_info": {
      "name": "python"
    }
  },
  "cells": [
    {
      "cell_type": "markdown",
      "source": [
        "# LeetCode Problem: Shifting Letters II"
      ],
      "metadata": {
        "id": "3mL2kKOYZbQz"
      }
    },
    {
      "cell_type": "code",
      "execution_count": null,
      "metadata": {
        "id": "GoRpNo7QQ6KM"
      },
      "outputs": [],
      "source": [
        "def shiftingLetters(str, shifts):\n",
        "        n = len(s)\n",
        "        shift = [0] * (n + 1)\n",
        "\n",
        "        for shiftOp in shifts:\n",
        "            start, end, direction = shiftOp\n",
        "            shift[start] += (1 if direction == 1 else -1)\n",
        "            if end + 1 < n:\n",
        "                shift[end + 1] -= (1 if direction == 1 else -1)\n",
        "\n",
        "        currentShift = 0\n",
        "        shiftList = list(s)\n",
        "        for i in range(n):\n",
        "            currentShift += shift[i]\n",
        "            netShift = (currentShift % 26 + 26) % 26\n",
        "            shiftList[i] = chr((ord(shiftList[i]) - ord('a') + netShift) % 26 + ord('a'))\n",
        "\n",
        "        return ''.join(shiftList)\n",
        "\n",
        "s = \"abc\"\n",
        "shifts = [[0,1,0],[1,2,1],[0,2,1]]\n",
        "\n",
        "print(shiftingLetters(str, shifts))"
      ]
    }
  ]
}