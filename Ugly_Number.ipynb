{
  "nbformat": 4,
  "nbformat_minor": 0,
  "metadata": {
    "colab": {
      "provenance": []
    },
    "kernelspec": {
      "name": "python3",
      "display_name": "Python 3"
    },
    "language_info": {
      "name": "python"
    }
  },
  "cells": [
    {
      "cell_type": "markdown",
      "source": [
        "# LeetCode Problem: Ugly Number"
      ],
      "metadata": {
        "id": "win6-FEnuOeE"
      }
    },
    {
      "cell_type": "code",
      "execution_count": 1,
      "metadata": {
        "colab": {
          "base_uri": "https://localhost:8080/"
        },
        "id": "AfHWL_evsgjQ",
        "outputId": "2f5dfa57-acbd-41fc-cb25-ba3894dbdd3c"
      },
      "outputs": [
        {
          "output_type": "stream",
          "name": "stdout",
          "text": [
            "True\n"
          ]
        }
      ],
      "source": [
        "def isUgly(n):\n",
        "  if n<=0:return False\n",
        "  for i in [2,3,5]:\n",
        "    if n%i==0:n = n//i\n",
        "  return n==1\n",
        "\n",
        "n=6\n",
        "print(isUgly(n))"
      ]
    },
    {
      "cell_type": "code",
      "source": [],
      "metadata": {
        "id": "W0EFjVG6ukQb"
      },
      "execution_count": null,
      "outputs": []
    }
  ]
}