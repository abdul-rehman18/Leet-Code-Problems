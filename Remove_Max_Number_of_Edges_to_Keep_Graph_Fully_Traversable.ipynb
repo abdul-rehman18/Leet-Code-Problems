{
  "nbformat": 4,
  "nbformat_minor": 0,
  "metadata": {
    "colab": {
      "provenance": []
    },
    "kernelspec": {
      "name": "python3",
      "display_name": "Python 3"
    },
    "language_info": {
      "name": "python"
    }
  },
  "cells": [
    {
      "cell_type": "markdown",
      "source": [
        "# LeetCode Problem: Remove Max Number of Edges to Keep Graph Fully Traversable"
      ],
      "metadata": {
        "id": "F1VTYfXpOF5D"
      }
    },
    {
      "cell_type": "code",
      "execution_count": 1,
      "metadata": {
        "colab": {
          "base_uri": "https://localhost:8080/"
        },
        "id": "IK49XuZtN9RE",
        "outputId": "06882afb-a0b9-4799-fe78-87082ef8b689"
      },
      "outputs": [
        {
          "output_type": "stream",
          "name": "stdout",
          "text": [
            "-1\n",
            "0\n",
            "-1\n"
          ]
        }
      ],
      "source": [
        "class Solution:\n",
        "    def maxNumEdgesToRemove(self, n, edges):\n",
        "        auf = UnionFind(n)\n",
        "        buf = UnionFind(n)\n",
        "        res = 0\n",
        "        for edge in edges:\n",
        "            if edge[0] == 3:\n",
        "                if auf.union(edge[1], edge[2]) == 1:\n",
        "                    buf.union(edge[1], edge[2])\n",
        "                    res += 1\n",
        "        if auf.is_connected() and buf.is_connected():\n",
        "            return len(edges) - res\n",
        "        for edge in edges:\n",
        "            if edge[0] == 1:\n",
        "                res += auf.union(edge[1], edge[2])\n",
        "            if edge[0] == 2:\n",
        "                res += buf.union(edge[1], edge[2])\n",
        "            if auf.is_connected() and buf.is_connected():\n",
        "                return len(edges) - res\n",
        "        return -1\n",
        "\n",
        "class UnionFind:\n",
        "    def __init__(self, n):\n",
        "        self.parent = list(range(n + 1))\n",
        "        self.node_count = n\n",
        "\n",
        "    def find(self, x):\n",
        "        if self.parent[x] == x:\n",
        "            return x\n",
        "        self.parent[x] = self.find(self.parent[x])\n",
        "        return self.parent[x]\n",
        "\n",
        "    def union(self, x, y):\n",
        "        px = self.find(x)\n",
        "        py = self.find(y)\n",
        "        if px == py:\n",
        "            return 0\n",
        "        self.parent[py] = px\n",
        "        self.node_count -= 1\n",
        "        return 1\n",
        "\n",
        "    def is_connected(self):\n",
        "        return self.node_count == 1\n",
        "\n",
        "def main():\n",
        "    # Example usage:\n",
        "    sol = Solution()\n",
        "\n",
        "    # Example 1\n",
        "    n1 = 4\n",
        "    edges1 = [[3, 1, 2], [3, 2, 3], [1, 1, 3], [1, 2, 4], [1, 3, 4]]\n",
        "    print(sol.maxNumEdgesToRemove(n1, edges1))  # Output: 2\n",
        "\n",
        "    # Example 2\n",
        "    n2 = 4\n",
        "    edges2 = [[3, 1, 2], [3, 2, 3], [1, 1, 4], [2, 1, 4]]\n",
        "    print(sol.maxNumEdgesToRemove(n2, edges2))  # Output: 0\n",
        "\n",
        "    # Example 3\n",
        "    n3 = 4\n",
        "    edges3 = [[3, 2, 3], [1, 1, 2], [2, 3, 4]]\n",
        "    print(sol.maxNumEdgesToRemove(n3, edges3))  # Output: -1\n",
        "\n",
        "if __name__ == \"__main__\":\n",
        "    main()\n"
      ]
    },
    {
      "cell_type": "code",
      "source": [],
      "metadata": {
        "id": "-voa18YuOotx"
      },
      "execution_count": null,
      "outputs": []
    }
  ]
}