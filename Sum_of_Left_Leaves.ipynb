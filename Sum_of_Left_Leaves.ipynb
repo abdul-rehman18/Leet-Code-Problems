{
  "nbformat": 4,
  "nbformat_minor": 0,
  "metadata": {
    "colab": {
      "provenance": []
    },
    "kernelspec": {
      "name": "python3",
      "display_name": "Python 3"
    },
    "language_info": {
      "name": "python"
    }
  },
  "cells": [
    {
      "cell_type": "markdown",
      "source": [
        "# LeetCode Problem: Sum of Left Leaves"
      ],
      "metadata": {
        "id": "dB5fkKd3WURX"
      }
    },
    {
      "cell_type": "code",
      "execution_count": 1,
      "metadata": {
        "colab": {
          "base_uri": "https://localhost:8080/"
        },
        "id": "bDasFFixWI7W",
        "outputId": "3d09fce6-a939-4ab9-adec-76cd5d92e998"
      },
      "outputs": [
        {
          "output_type": "stream",
          "name": "stdout",
          "text": [
            "Sum of left leaves: 24\n"
          ]
        }
      ],
      "source": [
        "class TreeNode:\n",
        "    def __init__(self, val=0, left=None, right=None):\n",
        "        self.val = val\n",
        "        self.left = left\n",
        "        self.right = right\n",
        "\n",
        "class Solution:\n",
        "    def sumOfLeftLeaves(self, root):\n",
        "        if not root:\n",
        "            return 0\n",
        "\n",
        "        if root.left and not root.left.left and not root.left.right:\n",
        "            return root.left.val + self.sumOfLeftLeaves(root.right)\n",
        "\n",
        "\n",
        "        return self.sumOfLeftLeaves(root.left) + self.sumOfLeftLeaves(root.right)\n",
        "\n",
        "def main():\n",
        "    root = TreeNode(3)\n",
        "    root.left = TreeNode(9)\n",
        "    root.right = TreeNode(20)\n",
        "    root.right.left = TreeNode(15)\n",
        "    root.right.right = TreeNode(7)\n",
        "\n",
        "    solution = Solution()\n",
        "\n",
        "    result = solution.sumOfLeftLeaves(root)\n",
        "    print(\"Sum of left leaves:\", result)\n",
        "\n",
        "if __name__ == \"__main__\":\n",
        "    main()\n"
      ]
    },
    {
      "cell_type": "code",
      "source": [],
      "metadata": {
        "id": "wKLsfqVMYO6r"
      },
      "execution_count": null,
      "outputs": []
    }
  ]
}