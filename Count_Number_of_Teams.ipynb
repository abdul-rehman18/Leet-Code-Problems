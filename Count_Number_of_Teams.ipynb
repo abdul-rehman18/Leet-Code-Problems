{
  "nbformat": 4,
  "nbformat_minor": 0,
  "metadata": {
    "colab": {
      "provenance": []
    },
    "kernelspec": {
      "name": "python3",
      "display_name": "Python 3"
    },
    "language_info": {
      "name": "python"
    }
  },
  "cells": [
    {
      "cell_type": "markdown",
      "source": [
        "# LeetCode Problem: Count Number of Teams"
      ],
      "metadata": {
        "id": "fe3jmvkt5HaT"
      }
    },
    {
      "cell_type": "code",
      "execution_count": 1,
      "metadata": {
        "colab": {
          "base_uri": "https://localhost:8080/"
        },
        "id": "hkremZn75Eax",
        "outputId": "d4b270e9-24de-4d99-83e3-b14dfd77f5be"
      },
      "outputs": [
        {
          "output_type": "stream",
          "name": "stdout",
          "text": [
            "Result from numTeams: 3\n",
            "Result from numTeams2: 3\n",
            "Result from numTeams1: 3\n"
          ]
        }
      ],
      "source": [
        "from typing import List\n",
        "import bisect\n",
        "\n",
        "class Solution:\n",
        "    def numTeams(self, rating: List[int]) -> int:\n",
        "        l = []\n",
        "        sr = sorted(rating)\n",
        "        low = {}\n",
        "        for idx, r in enumerate(sr):\n",
        "            low[r] = idx\n",
        "        res = 0\n",
        "        n = len(rating)\n",
        "        for idx, r in enumerate(rating):\n",
        "            i = bisect.bisect(l, r)\n",
        "            l.insert(i, r)\n",
        "            j = low[r] - i\n",
        "            res += i * (n - 1 - idx - j) + j * (idx - i)\n",
        "        return res\n",
        "\n",
        "    def numTeams2(self, rating: List[int]) -> int:\n",
        "        ans, n = 0, len(rating)\n",
        "        for j in range(n):\n",
        "            llt, lgt = 0, 0\n",
        "            for i in range(j):\n",
        "                llt += rating[i] < rating[j]\n",
        "                lgt += rating[i] > rating[j]\n",
        "            rlt, rgt = 0, 0\n",
        "            for k in range(j + 1, n):\n",
        "                rlt += rating[k] < rating[j]\n",
        "                rgt += rating[k] > rating[j]\n",
        "            ans += llt * rgt + lgt * rlt\n",
        "        return ans\n",
        "\n",
        "    def numTeams1(self, rating: List[int]) -> int:\n",
        "        ans, n = 0, len(rating)\n",
        "        for i in range(n):\n",
        "            for j in range(i + 1, n):\n",
        "                for k in range(j + 1, n):\n",
        "                    ans += 1 if rating[i] < rating[j] < rating[k] or rating[i] > rating[j] > rating[k] else 0\n",
        "        return ans\n",
        "\n",
        "def main():\n",
        "    solution = Solution()\n",
        "    rating = [2, 5, 3, 4, 1]\n",
        "\n",
        "    result1 = solution.numTeams(rating)\n",
        "    print(f\"Result from numTeams: {result1}\")\n",
        "\n",
        "    result2 = solution.numTeams2(rating)\n",
        "    print(f\"Result from numTeams2: {result2}\")\n",
        "\n",
        "    result3 = solution.numTeams1(rating)\n",
        "    print(f\"Result from numTeams1: {result3}\")\n",
        "\n",
        "if __name__ == \"__main__\":\n",
        "    main()\n"
      ]
    },
    {
      "cell_type": "code",
      "source": [],
      "metadata": {
        "id": "wi_8cJaU5vv2"
      },
      "execution_count": null,
      "outputs": []
    }
  ]
}