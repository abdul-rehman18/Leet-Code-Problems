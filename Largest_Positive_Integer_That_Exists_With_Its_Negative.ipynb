{
  "nbformat": 4,
  "nbformat_minor": 0,
  "metadata": {
    "colab": {
      "provenance": []
    },
    "kernelspec": {
      "name": "python3",
      "display_name": "Python 3"
    },
    "language_info": {
      "name": "python"
    }
  },
  "cells": [
    {
      "cell_type": "markdown",
      "source": [
        "# LeetCode Problem: Largest Positive Integer That Exists With Its Negative"
      ],
      "metadata": {
        "id": "AOqYqwxTjcKF"
      }
    },
    {
      "cell_type": "code",
      "execution_count": 1,
      "metadata": {
        "colab": {
          "base_uri": "https://localhost:8080/"
        },
        "id": "J7CLNdzQifMR",
        "outputId": "0639c1be-6060-4368-a44c-8122598352ef"
      },
      "outputs": [
        {
          "output_type": "stream",
          "name": "stdout",
          "text": [
            "3\n"
          ]
        }
      ],
      "source": [
        "def findMaxK(nums):\n",
        "        nums.sort()\n",
        "        n = len(nums)\n",
        "        for i in range(n-1, -1, -1):\n",
        "            if nums[i] > 0 and -nums[i] in nums:\n",
        "                return nums[i]\n",
        "        return -1\n",
        "\n",
        "nums = [-1,2,-3,3]\n",
        "print(findMaxK(nums))"
      ]
    },
    {
      "cell_type": "code",
      "source": [],
      "metadata": {
        "id": "uixRWsctjhDZ"
      },
      "execution_count": null,
      "outputs": []
    }
  ]
}