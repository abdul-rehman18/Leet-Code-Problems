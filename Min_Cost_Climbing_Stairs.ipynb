{
  "nbformat": 4,
  "nbformat_minor": 0,
  "metadata": {
    "colab": {
      "provenance": []
    },
    "kernelspec": {
      "name": "python3",
      "display_name": "Python 3"
    },
    "language_info": {
      "name": "python"
    }
  },
  "cells": [
    {
      "cell_type": "markdown",
      "source": [
        "# LeetCode Problem: Min Cost Climbing Stairs"
      ],
      "metadata": {
        "id": "ANaH59G767DR"
      }
    },
    {
      "cell_type": "code",
      "execution_count": 1,
      "metadata": {
        "colab": {
          "base_uri": "https://localhost:8080/"
        },
        "id": "-XbEk7cM3eAa",
        "outputId": "81dc31aa-48e6-43e7-acb0-9ca36aeb5b65"
      },
      "outputs": [
        {
          "output_type": "stream",
          "name": "stdout",
          "text": [
            "15\n"
          ]
        }
      ],
      "source": [
        "def minCostClimbingStairs(cost):\n",
        "        if not cost:\n",
        "            return 0\n",
        "\n",
        "        dp = [0] * len(cost)\n",
        "        dp[0] = cost[0]\n",
        "\n",
        "        if len(cost) >= 2:\n",
        "            dp[1] = cost[1]\n",
        "\n",
        "        for i in range(2, len(cost)):\n",
        "            dp[i] = cost[i] + min(dp[i-1], dp[i-2])\n",
        "        return min(dp[-1], dp[-2])\n",
        "\n",
        "\n",
        "cost = [10,15,20]\n",
        "print(minCostClimbingStairs(cost))\n",
        ""
      ]
    },
    {
      "cell_type": "code",
      "source": [],
      "metadata": {
        "id": "hma7AACH7GEc"
      },
      "execution_count": null,
      "outputs": []
    }
  ]
}