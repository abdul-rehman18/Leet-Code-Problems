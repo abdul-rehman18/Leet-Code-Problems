{
  "nbformat": 4,
  "nbformat_minor": 0,
  "metadata": {
    "colab": {
      "provenance": []
    },
    "kernelspec": {
      "name": "python3",
      "display_name": "Python 3"
    },
    "language_info": {
      "name": "python"
    }
  },
  "cells": [
    {
      "cell_type": "markdown",
      "source": [
        "# LeetCode Problem: Two Best Non-Overlapping Events"
      ],
      "metadata": {
        "id": "6zfzA6E5dkIe"
      }
    },
    {
      "cell_type": "code",
      "execution_count": 1,
      "metadata": {
        "colab": {
          "base_uri": "https://localhost:8080/"
        },
        "id": "d5Kz3xbmdeTq",
        "outputId": "a1099f87-1941-4c98-a6a1-700d60b7fdb1"
      },
      "outputs": [
        {
          "output_type": "stream",
          "name": "stdout",
          "text": [
            "4\n"
          ]
        }
      ],
      "source": [
        "def maxTwoEvents(events):\n",
        "        n = len(events)\n",
        "        events.sort(key=lambda x: x[0])\n",
        "        suffixMax = [0] * n\n",
        "        suffixMax[n - 1] = events[n - 1][2]\n",
        "        for i in range(n - 2, -1, -1):\n",
        "            suffixMax[i] = max(events[i][2], suffixMax[i + 1])\n",
        "        maxSum = 0\n",
        "        for i in range(n):\n",
        "            left, right = i + 1, n - 1\n",
        "            nextEventIndex = -1\n",
        "            while left <= right:\n",
        "                mid = left + (right - left) // 2\n",
        "                if events[mid][0] > events[i][1]:\n",
        "                    nextEventIndex = mid\n",
        "                    right = mid - 1\n",
        "                else:\n",
        "                    left = mid + 1\n",
        "\n",
        "            if nextEventIndex != -1:\n",
        "                maxSum = max(maxSum, events[i][2] + suffixMax[nextEventIndex])\n",
        "\n",
        "            maxSum = max(maxSum, events[i][2])\n",
        "\n",
        "        return maxSum\n",
        "\n",
        "\n",
        "events = [[1,3,2],[4,5,2],[2,4,3]]\n",
        "print(maxTwoEvents(events))"
      ]
    },
    {
      "cell_type": "code",
      "source": [],
      "metadata": {
        "id": "czF2EqqNd_tF"
      },
      "execution_count": null,
      "outputs": []
    }
  ]
}