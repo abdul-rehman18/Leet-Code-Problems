{
  "nbformat": 4,
  "nbformat_minor": 0,
  "metadata": {
    "colab": {
      "provenance": []
    },
    "kernelspec": {
      "name": "python3",
      "display_name": "Python 3"
    },
    "language_info": {
      "name": "python"
    }
  },
  "cells": [
    {
      "cell_type": "markdown",
      "source": [
        "# LeetCode Problem: Make Two Arrays Equal by Reversing Subarrays"
      ],
      "metadata": {
        "id": "jpDYmFT4Q3IR"
      }
    },
    {
      "cell_type": "code",
      "execution_count": 1,
      "metadata": {
        "colab": {
          "base_uri": "https://localhost:8080/"
        },
        "id": "WPGaYMzlQwzQ",
        "outputId": "043315e7-6277-4715-c762-7b618cd6ffdb"
      },
      "outputs": [
        {
          "output_type": "stream",
          "name": "stdout",
          "text": [
            "True\n"
          ]
        }
      ],
      "source": [
        "from collections import Counter\n",
        "\n",
        "def canBeEqual(target, arr):\n",
        "        return Counter(target) == Counter(arr)\n",
        "\n",
        "\n",
        "target = [1,2,3,4]\n",
        "arr = [2,4,1,3]\n",
        "\n",
        "print(canBeEqual(target, arr))\n"
      ]
    },
    {
      "cell_type": "code",
      "source": [],
      "metadata": {
        "id": "5bFASdEWROHg"
      },
      "execution_count": null,
      "outputs": []
    }
  ]
}