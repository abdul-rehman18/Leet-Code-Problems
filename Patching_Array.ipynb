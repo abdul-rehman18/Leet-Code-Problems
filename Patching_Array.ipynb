{
  "nbformat": 4,
  "nbformat_minor": 0,
  "metadata": {
    "colab": {
      "provenance": []
    },
    "kernelspec": {
      "name": "python3",
      "display_name": "Python 3"
    },
    "language_info": {
      "name": "python"
    }
  },
  "cells": [
    {
      "cell_type": "markdown",
      "source": [
        "# LeetCode Problem: Patching Array"
      ],
      "metadata": {
        "id": "-bnA6DYWNoC8"
      }
    },
    {
      "cell_type": "code",
      "execution_count": 1,
      "metadata": {
        "colab": {
          "base_uri": "https://localhost:8080/"
        },
        "id": "Z8JTJTt-NlrR",
        "outputId": "c56433c4-5178-497f-b1fc-35c8981db5e8"
      },
      "outputs": [
        {
          "output_type": "stream",
          "name": "stdout",
          "text": [
            "1\n"
          ]
        }
      ],
      "source": [
        "def minPatches(nums, n):\n",
        "        miss = 1\n",
        "        result = 0\n",
        "        i = 0\n",
        "        while miss <= n:\n",
        "            if i < len(nums) and nums[i] <= miss:\n",
        "                miss += nums[i]\n",
        "                i += 1\n",
        "            else:\n",
        "                miss += miss\n",
        "                result += 1\n",
        "        return result\n",
        "\n",
        "nums = [1,3]\n",
        "n = 6\n",
        "print(minPatches(nums, n))"
      ]
    },
    {
      "cell_type": "code",
      "source": [],
      "metadata": {
        "id": "WatIQoF6N8-O"
      },
      "execution_count": null,
      "outputs": []
    }
  ]
}