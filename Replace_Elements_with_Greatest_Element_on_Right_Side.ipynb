{
  "nbformat": 4,
  "nbformat_minor": 0,
  "metadata": {
    "colab": {
      "provenance": []
    },
    "kernelspec": {
      "name": "python3",
      "display_name": "Python 3"
    },
    "language_info": {
      "name": "python"
    }
  },
  "cells": [
    {
      "cell_type": "markdown",
      "source": [
        "# LeetCode Problem: Replace Elements with Greatest Element on Right Side"
      ],
      "metadata": {
        "id": "WhoBFQhVxOxT"
      }
    },
    {
      "cell_type": "code",
      "execution_count": null,
      "metadata": {
        "id": "gvI64BVuwll7"
      },
      "outputs": [],
      "source": [
        "class Solution:\n",
        "    def replaceElements(self, arr: List[int]) -> List[int]:\n",
        "        n = len(arr)\n",
        "        maxRight = -1\n",
        "\n",
        "        for i in range(n - 1, -1, -1):\n",
        "            current = arr[i]\n",
        "            arr[i] = maxRight\n",
        "            maxRight = max(maxRight, current)\n",
        "\n",
        "        return arr"
      ]
    }
  ]
}