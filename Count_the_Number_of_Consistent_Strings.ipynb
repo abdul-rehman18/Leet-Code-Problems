{
  "nbformat": 4,
  "nbformat_minor": 0,
  "metadata": {
    "colab": {
      "provenance": []
    },
    "kernelspec": {
      "name": "python3",
      "display_name": "Python 3"
    },
    "language_info": {
      "name": "python"
    }
  },
  "cells": [
    {
      "cell_type": "markdown",
      "source": [
        "# LeetCode Problem: Count the Number of Consistent Strings"
      ],
      "metadata": {
        "id": "0UL1CLRfjjjR"
      }
    },
    {
      "cell_type": "code",
      "execution_count": null,
      "metadata": {
        "colab": {
          "base_uri": "https://localhost:8080/"
        },
        "id": "MebF5n3SjSDq",
        "outputId": "c05ff7e0-d4cc-4f88-facd-d75bd54f156a"
      },
      "outputs": [
        {
          "output_type": "stream",
          "name": "stdout",
          "text": [
            "2\n"
          ]
        }
      ],
      "source": [
        "def countConsistentStrings(allowed, words):\n",
        "        arr = [0] * 26\n",
        "        for c in allowed:\n",
        "            arr[ord(c) - ord('a')] = 1\n",
        "\n",
        "        count = 0\n",
        "        for word in words:\n",
        "            flag = 1\n",
        "            for char in word:\n",
        "                if arr[ord(char) - ord('a')] == 0:\n",
        "                    flag = 0\n",
        "                    break\n",
        "            count += flag\n",
        "        return count\n",
        "\n",
        "allowed = \"ab\"\n",
        "words = [\"ad\",\"bd\",\"aaab\",\"baa\",\"badab\"]\n",
        "\n",
        "print(countConsistentStrings(allowed, words))"
      ]
    },
    {
      "cell_type": "code",
      "source": [],
      "metadata": {
        "id": "0uecUoYxkVIc"
      },
      "execution_count": null,
      "outputs": []
    }
  ]
}