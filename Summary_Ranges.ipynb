{
  "nbformat": 4,
  "nbformat_minor": 0,
  "metadata": {
    "colab": {
      "provenance": []
    },
    "kernelspec": {
      "name": "python3",
      "display_name": "Python 3"
    },
    "language_info": {
      "name": "python"
    }
  },
  "cells": [
    {
      "cell_type": "markdown",
      "source": [
        "# LeetCode Problem: Summary Ranges"
      ],
      "metadata": {
        "id": "GjhclWHdfYLB"
      }
    },
    {
      "cell_type": "code",
      "execution_count": 1,
      "metadata": {
        "colab": {
          "base_uri": "https://localhost:8080/"
        },
        "id": "AH_FvH4BfCDk",
        "outputId": "e0d6d269-6a8a-4acb-fccf-2f8b76953576"
      },
      "outputs": [
        {
          "output_type": "stream",
          "name": "stdout",
          "text": [
            "['0->2', '4->5', '7']\n"
          ]
        }
      ],
      "source": [
        "def summaryRanges(nums):\n",
        "  if not nums:\n",
        "    return []\n",
        "\n",
        "  r = []\n",
        "  st,en = nums[0],nums[0]\n",
        "  for num in nums[1:]:\n",
        "    if num == en+1:\n",
        "      en = num\n",
        "    else:\n",
        "      r.append(f\"{st}->{en}\"if st!=en else str(st))\n",
        "      st,en = num,num\n",
        "  r.append(f\"{st}->{en}\"if st!=en else str(st))\n",
        "  return r\n",
        "\n",
        "\n",
        "nums = [0,1,2,4,5,7]\n",
        "res = summaryRanges(nums)\n",
        "print(res)"
      ]
    },
    {
      "cell_type": "code",
      "source": [],
      "metadata": {
        "id": "DC0xny7mjW17"
      },
      "execution_count": null,
      "outputs": []
    }
  ]
}