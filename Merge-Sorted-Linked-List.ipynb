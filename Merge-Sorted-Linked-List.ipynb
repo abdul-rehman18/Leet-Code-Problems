{
 "cells": [
  {
   "cell_type": "markdown",
   "id": "84561e44",
   "metadata": {},
   "source": [
    "# LeetCode Problem: Merge Sorted LinkedList"
   ]
  },
  {
   "cell_type": "markdown",
   "id": "d06e8c45",
   "metadata": {},
   "source": [
    "# Using ListNode"
   ]
  },
  {
   "cell_type": "code",
   "execution_count": 10,
   "id": "84dae769",
   "metadata": {
    "scrolled": true
   },
   "outputs": [
    {
     "name": "stdout",
     "output_type": "stream",
     "text": [
      "1 -> 1 -> 2 -> 3 -> 4 -> 4 -> None\n"
     ]
    }
   ],
   "source": [
    "class ListNode:\n",
    "    def __init__(self, x):\n",
    "        self.val = x\n",
    "        self.next = None\n",
    "\n",
    "def mergeTwoLists(list1, list2):\n",
    "    head = ListNode(0)\n",
    "    current = head\n",
    "\n",
    "    while list1 is not None and list2 is not None:\n",
    "        if list1.val < list2.val:\n",
    "            current.next = list1\n",
    "            list1 = list1.next\n",
    "        else:\n",
    "            current.next = list2\n",
    "            list2 = list2.next\n",
    "        current = current.next\n",
    "\n",
    "    # Append the remaining elements from either list\n",
    "    current.next = list1 if list1 is not None else list2\n",
    "\n",
    "    return head.next\n",
    "\n",
    "list1 = ListNode(1)\n",
    "list1.next = ListNode(2)\n",
    "list1.next.next = ListNode(4)\n",
    "\n",
    "list2 = ListNode(1)\n",
    "list2.next = ListNode(3)\n",
    "list2.next.next = ListNode(4)\n",
    "# You can add more elements to list1 and list2 if needed\n",
    "\n",
    "merged_list = mergeTwoLists(list1, list2)\n",
    "\n",
    "# Print the values of the merged list\n",
    "current = merged_list\n",
    "while current is not None:\n",
    "    print(current.val, end=\" -> \")\n",
    "    current = current.next\n",
    "print(\"None\")\n"
   ]
  },
  {
   "cell_type": "markdown",
   "id": "892b3556",
   "metadata": {},
   "source": [
    "# Using Recursion"
   ]
  },
  {
   "cell_type": "code",
   "execution_count": 12,
   "id": "6516610a",
   "metadata": {},
   "outputs": [
    {
     "name": "stdout",
     "output_type": "stream",
     "text": [
      "1 -> 1 -> 2 -> 3 -> 4 -> 4 -> None\n"
     ]
    }
   ],
   "source": [
    "def mergeTwoLists(list1,list2):   \n",
    "    if not list1 or not list2:\n",
    "        return list1 or list2\n",
    "        \n",
    "    if list1.val <= list2.val:\n",
    "        list1.next = mergeTwoLists(list1.next, list2)\n",
    "        return list1\n",
    "    else: \n",
    "        list2.next = mergeTwoLists(list1, list2.next)\n",
    "        return list2\n",
    "\n",
    "list1 = ListNode(1)\n",
    "list1.next = ListNode(2)\n",
    "list1.next.next = ListNode(4)\n",
    "\n",
    "list2 = ListNode(1)\n",
    "list2.next = ListNode(3)\n",
    "list2.next.next = ListNode(4)\n",
    "# You can add more elements to list1 and list2 if needed\n",
    "\n",
    "merged_list = mergeTwoLists(list1, list2)\n",
    "\n",
    "# Print the values of the merged list\n",
    "current = merged_list\n",
    "while current is not None:\n",
    "    print(current.val, end=\" -> \")\n",
    "    current = current.next\n",
    "print(\"None\")\n"
   ]
  },
  {
   "cell_type": "code",
   "execution_count": null,
   "id": "7435e334",
   "metadata": {},
   "outputs": [],
   "source": []
  }
 ],
 "metadata": {
  "kernelspec": {
   "display_name": "Python 3 (ipykernel)",
   "language": "python",
   "name": "python3"
  },
  "language_info": {
   "codemirror_mode": {
    "name": "ipython",
    "version": 3
   },
   "file_extension": ".py",
   "mimetype": "text/x-python",
   "name": "python",
   "nbconvert_exporter": "python",
   "pygments_lexer": "ipython3",
   "version": "3.8.17"
  }
 },
 "nbformat": 4,
 "nbformat_minor": 5
}
