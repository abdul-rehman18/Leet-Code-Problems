{
  "nbformat": 4,
  "nbformat_minor": 0,
  "metadata": {
    "colab": {
      "provenance": []
    },
    "kernelspec": {
      "name": "python3",
      "display_name": "Python 3"
    },
    "language_info": {
      "name": "python"
    }
  },
  "cells": [
    {
      "cell_type": "markdown",
      "source": [
        "# LeetCode Problem : Minimum Number of Days to Disconnect Island"
      ],
      "metadata": {
        "id": "tZlcODSCcm6a"
      }
    },
    {
      "cell_type": "code",
      "execution_count": 1,
      "metadata": {
        "colab": {
          "base_uri": "https://localhost:8080/"
        },
        "id": "KHLD1kPpcXWc",
        "outputId": "d27621de-1978-4f65-99c1-6909547c2bc6"
      },
      "outputs": [
        {
          "output_type": "stream",
          "name": "stdout",
          "text": [
            "Minimum number of days: 0\n"
          ]
        }
      ],
      "source": [
        "class Solution:\n",
        "    def minDays(self, grid):\n",
        "        def count_islands():\n",
        "            seen = set()\n",
        "\n",
        "            def dfs(r, c):\n",
        "                stack = [(r, c)]\n",
        "                while stack:\n",
        "                    x, y = stack.pop()\n",
        "                    for nx, ny in [(x-1, y), (x+1, y), (x, y-1), (x, y+1)]:\n",
        "                        if 0 <= nx < len(grid) and 0 <= ny < len(grid[0]) and grid[nx][ny] == 1 and (nx, ny) not in seen:\n",
        "                            seen.add((nx, ny))\n",
        "                            stack.append((nx, ny))\n",
        "\n",
        "            islands = 0\n",
        "            for i in range(len(grid)):\n",
        "                for j in range(len(grid[0])):\n",
        "                    if grid[i][j] == 1 and (i, j) not in seen:\n",
        "                        islands += 1\n",
        "                        seen.add((i, j))\n",
        "                        dfs(i, j)\n",
        "            return islands\n",
        "\n",
        "        if count_islands() != 1:\n",
        "            return 0\n",
        "\n",
        "        for i in range(len(grid)):\n",
        "            for j in range(len(grid[0])):\n",
        "                if grid[i][j] == 1:\n",
        "                    grid[i][j] = 0\n",
        "                    if count_islands() != 1:\n",
        "                        return 1\n",
        "                    grid[i][j] = 1\n",
        "\n",
        "        return 2\n",
        "\n",
        "def main():\n",
        "    # Example input\n",
        "    grid = [\n",
        "        [1, 1, 0, 0],\n",
        "        [1, 1, 0, 0],\n",
        "        [0, 0, 1, 0],\n",
        "        [0, 0, 0, 1]\n",
        "    ]\n",
        "\n",
        "    # Create an instance of Solution\n",
        "    solution = Solution()\n",
        "\n",
        "    # Call the minDays method\n",
        "    result = solution.minDays(grid)\n",
        "\n",
        "    # Print the result\n",
        "    print(\"Minimum number of days:\", result)\n",
        "\n",
        "if __name__ == \"__main__\":\n",
        "    main()\n"
      ]
    },
    {
      "cell_type": "code",
      "source": [],
      "metadata": {
        "id": "tBSD5nCkdS0P"
      },
      "execution_count": null,
      "outputs": []
    }
  ]
}