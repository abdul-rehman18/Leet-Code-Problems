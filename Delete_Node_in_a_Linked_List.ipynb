{
  "nbformat": 4,
  "nbformat_minor": 0,
  "metadata": {
    "colab": {
      "provenance": []
    },
    "kernelspec": {
      "name": "python3",
      "display_name": "Python 3"
    },
    "language_info": {
      "name": "python"
    }
  },
  "cells": [
    {
      "cell_type": "markdown",
      "source": [
        "# LeetCode Problem: Delete Node in a Linked List"
      ],
      "metadata": {
        "id": "-9Ct0zbbc6RX"
      }
    },
    {
      "cell_type": "code",
      "execution_count": 1,
      "metadata": {
        "colab": {
          "base_uri": "https://localhost:8080/"
        },
        "id": "5ebY1sFgbRI7",
        "outputId": "dd70ef6e-20b1-4a27-e701-b20695d89d95"
      },
      "outputs": [
        {
          "output_type": "stream",
          "name": "stdout",
          "text": [
            "Original List:\n",
            "1 -> 2 -> 3 -> 4 -> None\n",
            "Modified List after deleting '2':\n",
            "1 -> 3 -> 4 -> None\n"
          ]
        }
      ],
      "source": [
        "class ListNode:\n",
        "    def __init__(self, x):\n",
        "        self.val = x\n",
        "        self.next = None\n",
        "\n",
        "class Solution:\n",
        "    def deleteNode(self, node):\n",
        "        node.val = node.next.val\n",
        "        node.next = node.next.next\n",
        "\n",
        "def print_list(node):\n",
        "    while node:\n",
        "        print(node.val, end=\" -> \")\n",
        "        node = node.next\n",
        "    print(\"None\")\n",
        "\n",
        "def main():\n",
        "    # Create a sample linked list: 1 -> 2 -> 3 -> 4 -> None\n",
        "    head = ListNode(1)\n",
        "    head.next = ListNode(2)\n",
        "    second = head.next\n",
        "    second.next = ListNode(3)\n",
        "    third = second.next\n",
        "    third.next = ListNode(4)\n",
        "\n",
        "    # Print the original list\n",
        "    print(\"Original List:\")\n",
        "    print_list(head)\n",
        "\n",
        "    # Let's delete the node with value 3\n",
        "    sol = Solution()\n",
        "    sol.deleteNode(second)  # Node to be deleted is '2'\n",
        "\n",
        "    # Print the modified list\n",
        "    print(\"Modified List after deleting '2':\")\n",
        "    print_list(head)\n",
        "\n",
        "if __name__ == \"__main__\":\n",
        "    main()\n"
      ]
    },
    {
      "cell_type": "code",
      "source": [],
      "metadata": {
        "id": "EG-BGt9bdDkp"
      },
      "execution_count": null,
      "outputs": []
    }
  ]
}