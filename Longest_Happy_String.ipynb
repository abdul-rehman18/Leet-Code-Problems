{
  "nbformat": 4,
  "nbformat_minor": 0,
  "metadata": {
    "colab": {
      "provenance": []
    },
    "kernelspec": {
      "name": "python3",
      "display_name": "Python 3"
    },
    "language_info": {
      "name": "python"
    }
  },
  "cells": [
    {
      "cell_type": "markdown",
      "source": [
        "# LeetCode Problem: Longest Happy String"
      ],
      "metadata": {
        "id": "Dy3zSTHuqxRq"
      }
    },
    {
      "cell_type": "code",
      "execution_count": 1,
      "metadata": {
        "colab": {
          "base_uri": "https://localhost:8080/"
        },
        "id": "2alFlkKHqioS",
        "outputId": "56806331-099b-4aa7-aba7-e1ec9ed1c363"
      },
      "outputs": [
        {
          "output_type": "stream",
          "name": "stdout",
          "text": [
            "ccaccbcc\n"
          ]
        }
      ],
      "source": [
        "import heapq\n",
        "def longestDiverseString(a, b, c):\n",
        "        # Max heap to always pick the character with the highest count.\n",
        "        pq = []\n",
        "        if a > 0:\n",
        "            heapq.heappush(pq, (-a, 'a'))\n",
        "        if b > 0:\n",
        "            heapq.heappush(pq, (-b, 'b'))\n",
        "        if c > 0:\n",
        "            heapq.heappush(pq, (-c, 'c'))\n",
        "\n",
        "        result = []\n",
        "\n",
        "        while pq:\n",
        "            count1, char1 = heapq.heappop(pq)\n",
        "\n",
        "            # If the last two characters are the same as char1.\n",
        "            if len(result) >= 2 and result[-1] == char1 and result[-2] == char1:\n",
        "                if not pq:\n",
        "                    break  # No valid characters left to pick.\n",
        "\n",
        "                count2, char2 = heapq.heappop(pq)\n",
        "                result.append(char2)\n",
        "                count2 += 1  # Decrease count (negated)\n",
        "\n",
        "                if count2 < 0:\n",
        "                    heapq.heappush(pq, (count2, char2))\n",
        "\n",
        "                heapq.heappush(pq, (count1, char1))\n",
        "            else:\n",
        "                result.append(char1)\n",
        "                count1 += 1  # Decrease count (negated)\n",
        "\n",
        "                if count1 < 0:\n",
        "                    heapq.heappush(pq, (count1, char1))\n",
        "\n",
        "        return ''.join(result)\n",
        "\n",
        "a = 1\n",
        "b = 1\n",
        "c = 7\n",
        "print(longestDiverseString(a, b, c))"
      ]
    },
    {
      "cell_type": "code",
      "source": [],
      "metadata": {
        "id": "1fOUS0YnrEEv"
      },
      "execution_count": null,
      "outputs": []
    }
  ]
}