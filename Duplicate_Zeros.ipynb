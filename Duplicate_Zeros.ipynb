{
  "nbformat": 4,
  "nbformat_minor": 0,
  "metadata": {
    "colab": {
      "provenance": []
    },
    "kernelspec": {
      "name": "python3",
      "display_name": "Python 3"
    },
    "language_info": {
      "name": "python"
    }
  },
  "cells": [
    {
      "cell_type": "markdown",
      "source": [
        "# LeetCode Problem: Duplicate Zeros"
      ],
      "metadata": {
        "id": "dOvrT07XuB8q"
      }
    },
    {
      "cell_type": "code",
      "execution_count": 2,
      "metadata": {
        "colab": {
          "base_uri": "https://localhost:8080/"
        },
        "id": "kIr9ViLRsXzJ",
        "outputId": "31996f2a-418e-4683-f223-644ddfe132ae"
      },
      "outputs": [
        {
          "output_type": "stream",
          "name": "stdout",
          "text": [
            "[1, 0, 0, 2, 3, 0, 0, 4]\n"
          ]
        }
      ],
      "source": [
        "def duplicateZeros(arr):\n",
        "        zeroes = arr.count(0)\n",
        "        n = len(arr)\n",
        "        for i in range(n-1, -1, -1):\n",
        "            if i + zeroes < n:\n",
        "                arr[i + zeroes] = arr[i]\n",
        "            if arr[i] == 0:\n",
        "                zeroes -= 1\n",
        "                if i + zeroes < n:\n",
        "                    arr[i + zeroes] = 0\n",
        "\n",
        "        return arr\n",
        "\n",
        "\n",
        "arr = [1,0,2,3,0,4,5,0]\n",
        "print(duplicateZeros(arr))"
      ]
    },
    {
      "cell_type": "code",
      "source": [],
      "metadata": {
        "id": "v2ody25Et81r"
      },
      "execution_count": null,
      "outputs": []
    }
  ]
}