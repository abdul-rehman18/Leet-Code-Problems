{
  "nbformat": 4,
  "nbformat_minor": 0,
  "metadata": {
    "colab": {
      "provenance": []
    },
    "kernelspec": {
      "name": "python3",
      "display_name": "Python 3"
    },
    "language_info": {
      "name": "python"
    }
  },
  "cells": [
    {
      "cell_type": "markdown",
      "source": [
        "# LeetCode Problem: Reverse Linked List"
      ],
      "metadata": {
        "id": "c4umFGCLnXqV"
      }
    },
    {
      "cell_type": "code",
      "execution_count": 1,
      "metadata": {
        "colab": {
          "base_uri": "https://localhost:8080/"
        },
        "id": "0xJXuspQnGYH",
        "outputId": "d381ce78-0da2-499b-cfe4-d073051f3528"
      },
      "outputs": [
        {
          "output_type": "stream",
          "name": "stdout",
          "text": [
            "Original Linked List:\n",
            "1 -> 2 -> 3 -> 4 -> 5 -> None\n",
            "\n",
            "Reversed Linked List:\n",
            "5 -> 4 -> 3 -> 2 -> 1 -> None\n"
          ]
        }
      ],
      "source": [
        "class ListNode:\n",
        "    def __init__(self, val=0, next=None):\n",
        "        self.val = val\n",
        "        self.next = next\n",
        "class Solution:\n",
        "    def reverseList(self, head):\n",
        "      n_l = None\n",
        "      cur = head\n",
        "      while cur:\n",
        "        next = cur.next\n",
        "        cur.next = n_l\n",
        "        n_l = cur\n",
        "        cur = next\n",
        "      return n_l\n",
        "\n",
        "\n",
        "def print_list(node):\n",
        "    while node:\n",
        "        print(node.val, end=\" -> \")\n",
        "        node = node.next\n",
        "    print(\"None\")\n",
        "\n",
        "if __name__ == \"__main__\":\n",
        "    head = ListNode(1, ListNode(2, ListNode(3, ListNode(4, ListNode(5)))))\n",
        "\n",
        "    solution = Solution()\n",
        "\n",
        "    print(\"Original Linked List:\")\n",
        "    print_list(head)\n",
        "\n",
        "    new_head = solution.reverseList(head)\n",
        "\n",
        "    print(\"\\nReversed Linked List:\")\n",
        "    print_list(new_head)\n"
      ]
    },
    {
      "cell_type": "code",
      "source": [],
      "metadata": {
        "id": "NLs5EOCsp7TF"
      },
      "execution_count": null,
      "outputs": []
    }
  ]
}