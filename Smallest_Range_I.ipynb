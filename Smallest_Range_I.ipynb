{
  "nbformat": 4,
  "nbformat_minor": 0,
  "metadata": {
    "colab": {
      "provenance": []
    },
    "kernelspec": {
      "name": "python3",
      "display_name": "Python 3"
    },
    "language_info": {
      "name": "python"
    }
  },
  "cells": [
    {
      "cell_type": "markdown",
      "source": [
        "# LeetCode Problem: Smallest Range I"
      ],
      "metadata": {
        "id": "CzgXaNy7_jm8"
      }
    },
    {
      "cell_type": "code",
      "execution_count": 1,
      "metadata": {
        "colab": {
          "base_uri": "https://localhost:8080/"
        },
        "id": "PEtmGDZe9rNz",
        "outputId": "17cd2d0b-a9b5-406e-ebc1-5177b7646ddf"
      },
      "outputs": [
        {
          "output_type": "stream",
          "name": "stdout",
          "text": [
            "6\n"
          ]
        }
      ],
      "source": [
        "def smallestRangeI(nums, k):\n",
        "        l= min(nums)+k\n",
        "        r= max(max(nums)-k,l)\n",
        "\n",
        "        return r-l\n",
        "\n",
        "nums=[0,10]\n",
        "k=2\n",
        "\n",
        "\n",
        "print(smallestRangeI(nums, k))"
      ]
    },
    {
      "cell_type": "code",
      "source": [],
      "metadata": {
        "id": "MhWK-E9H_x3Q"
      },
      "execution_count": null,
      "outputs": []
    }
  ]
}