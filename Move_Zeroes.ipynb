{
  "nbformat": 4,
  "nbformat_minor": 0,
  "metadata": {
    "colab": {
      "provenance": []
    },
    "kernelspec": {
      "name": "python3",
      "display_name": "Python 3"
    },
    "language_info": {
      "name": "python"
    }
  },
  "cells": [
    {
      "cell_type": "markdown",
      "source": [
        "# LeetCode Problem: Move Zeroes"
      ],
      "metadata": {
        "id": "R3AYWeIaxQOQ"
      }
    },
    {
      "cell_type": "code",
      "execution_count": 1,
      "metadata": {
        "colab": {
          "base_uri": "https://localhost:8080/"
        },
        "id": "LP49YmFJxMuO",
        "outputId": "dea44abc-9b4c-4ab0-8c7a-c52c7596d93b"
      },
      "outputs": [
        {
          "output_type": "stream",
          "name": "stdout",
          "text": [
            "[1, 3, 12, 0, 0]\n"
          ]
        }
      ],
      "source": [
        "def moveZeroes(nums):\n",
        "\n",
        "        i = 0\n",
        "        n = len(nums)\n",
        "        non_zero = [num for num in nums if num != 0]\n",
        "        nums[:n] = non_zero + [0] * (n - len(non_zero))\n",
        "        return nums\n",
        "\n",
        "\n",
        "nums = [0,1,0,3,12]\n",
        "res = moveZeroes(nums)\n",
        "print(res)"
      ]
    },
    {
      "cell_type": "code",
      "source": [],
      "metadata": {
        "id": "VaE-V2Cez0k4"
      },
      "execution_count": null,
      "outputs": []
    }
  ]
}