{
  "nbformat": 4,
  "nbformat_minor": 0,
  "metadata": {
    "colab": {
      "provenance": []
    },
    "kernelspec": {
      "name": "python3",
      "display_name": "Python 3"
    },
    "language_info": {
      "name": "python"
    }
  },
  "cells": [
    {
      "cell_type": "markdown",
      "source": [
        "# LeetCode Problem: Add Digits"
      ],
      "metadata": {
        "id": "oaIROTvk5I_E"
      }
    },
    {
      "cell_type": "code",
      "execution_count": 3,
      "metadata": {
        "colab": {
          "base_uri": "https://localhost:8080/"
        },
        "id": "Z1M-0O-n5DRW",
        "outputId": "26920ef9-187e-430a-b8cd-c455c7801b45"
      },
      "outputs": [
        {
          "output_type": "stream",
          "name": "stdout",
          "text": [
            "2\n"
          ]
        }
      ],
      "source": [
        "def addDigits(num):\n",
        "  while num > 9:\n",
        "    num = sum(int(i) for i in str(num))\n",
        "  return num\n",
        "\n",
        "ans = addDigits(38)\n",
        "print(ans)"
      ]
    },
    {
      "cell_type": "code",
      "source": [],
      "metadata": {
        "id": "ZNey6Am07jwJ"
      },
      "execution_count": null,
      "outputs": []
    }
  ]
}