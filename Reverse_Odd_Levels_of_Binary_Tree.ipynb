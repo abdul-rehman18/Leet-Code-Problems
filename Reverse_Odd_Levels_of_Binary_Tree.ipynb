{
  "nbformat": 4,
  "nbformat_minor": 0,
  "metadata": {
    "colab": {
      "provenance": []
    },
    "kernelspec": {
      "name": "python3",
      "display_name": "Python 3"
    },
    "language_info": {
      "name": "python"
    }
  },
  "cells": [
    {
      "cell_type": "markdown",
      "source": [
        "# LeetCode Problem: Reverse Odd Levels of Binary Tree"
      ],
      "metadata": {
        "id": "T5LBjjOgNX89"
      }
    },
    {
      "cell_type": "code",
      "execution_count": 2,
      "metadata": {
        "colab": {
          "base_uri": "https://localhost:8080/"
        },
        "id": "oq5tudKFNQ8f",
        "outputId": "bf2ea4bb-3f70-46c0-ae82-75fd0b2e885f"
      },
      "outputs": [
        {
          "output_type": "stream",
          "name": "stdout",
          "text": [
            "<__main__.TreeNode object at 0x7c543cded600>\n"
          ]
        }
      ],
      "source": [
        "import sys\n",
        "from collections import deque\n",
        "# Definition for a binary tree node.\n",
        "class TreeNode:\n",
        "    def __init__(self, val=0, left=None, right=None):\n",
        "        self.val = val\n",
        "        self.left = left\n",
        "        self.right = right\n",
        "class Solution:\n",
        "    def reverseOddLevels(self, root):\n",
        "        q=deque()\n",
        "        q.append(root)\n",
        "        rev=False\n",
        "        while q:\n",
        "            qz=len(q)\n",
        "            arr=[]\n",
        "            for i in range(qz):\n",
        "                Node=q.popleft()\n",
        "                if Node.left: q.append(Node.left)\n",
        "                if Node.right: q.append(Node.right)\n",
        "                if rev:\n",
        "                    arr.append(Node)\n",
        "                    if i>=qz/2:\n",
        "                        arr[i].val, arr[qz-1-i].val=arr[qz-1-i].val, arr[i].val\n",
        "            rev=not rev\n",
        "        return root\n",
        "\n",
        "\n",
        "sol=Solution()\n",
        "root=TreeNode(2)\n",
        "root.left=TreeNode(3)\n",
        "root.right=TreeNode(5)\n",
        "root.left.left=TreeNode(8)\n",
        "root.left.right=TreeNode(13)\n",
        "root.right.left=TreeNode(4)\n",
        "root.right.right=TreeNode(1)\n",
        "print(sol.reverseOddLevels(root))\n",
        "\n",
        ""
      ]
    },
    {
      "cell_type": "code",
      "source": [],
      "metadata": {
        "id": "_YCRpbdTN3TV"
      },
      "execution_count": null,
      "outputs": []
    }
  ]
}