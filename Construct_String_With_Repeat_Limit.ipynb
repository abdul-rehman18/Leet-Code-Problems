{
  "nbformat": 4,
  "nbformat_minor": 0,
  "metadata": {
    "colab": {
      "provenance": []
    },
    "kernelspec": {
      "name": "python3",
      "display_name": "Python 3"
    },
    "language_info": {
      "name": "python"
    }
  },
  "cells": [
    {
      "cell_type": "markdown",
      "source": [
        "# LeetCode Problem: Construct String With Repeat Limit"
      ],
      "metadata": {
        "id": "Y7k1daTlVA2B"
      }
    },
    {
      "cell_type": "code",
      "execution_count": 1,
      "metadata": {
        "colab": {
          "base_uri": "https://localhost:8080/"
        },
        "id": "aDHBozE8UYvq",
        "outputId": "a79c8f90-e195-4450-e4a3-4b4675d8a2ad"
      },
      "outputs": [
        {
          "output_type": "stream",
          "name": "stdout",
          "text": [
            "zzcccac\n"
          ]
        }
      ],
      "source": [
        "def repeatLimitedString(s,repeatLimit):\n",
        "        chars = sorted(s, reverse=True)\n",
        "\n",
        "        result = []\n",
        "        freq = 1\n",
        "        pointer = 0\n",
        "\n",
        "        for i in range(len(chars)):\n",
        "            if result and result[-1] == chars[i]:\n",
        "                if freq < repeatLimit:\n",
        "                    result.append(chars[i])\n",
        "                    freq += 1\n",
        "                else:\n",
        "                    pointer = max(pointer, i + 1)\n",
        "                    while pointer < len(chars) and chars[pointer] == chars[i]:\n",
        "                        pointer += 1\n",
        "\n",
        "                    if pointer < len(chars):\n",
        "                        result.append(chars[pointer])\n",
        "                        chars[i], chars[pointer] = chars[pointer], chars[i]\n",
        "                        freq = 1\n",
        "                    else:\n",
        "                        break\n",
        "            else:\n",
        "                result.append(chars[i])\n",
        "                freq = 1\n",
        "\n",
        "        return ''.join(result)\n",
        "\n",
        "s = \"cczazcc\"\n",
        "repeatLimit = 3\n",
        "print(repeatLimitedString(s,repeatLimit))\n"
      ]
    },
    {
      "cell_type": "code",
      "source": [],
      "metadata": {
        "id": "BNpYFLKeVY2o"
      },
      "execution_count": null,
      "outputs": []
    }
  ]
}