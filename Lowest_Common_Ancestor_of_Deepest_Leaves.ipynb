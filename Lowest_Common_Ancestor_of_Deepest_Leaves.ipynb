{
  "nbformat": 4,
  "nbformat_minor": 0,
  "metadata": {
    "colab": {
      "provenance": []
    },
    "kernelspec": {
      "name": "python3",
      "display_name": "Python 3"
    },
    "language_info": {
      "name": "python"
    }
  },
  "cells": [
    {
      "cell_type": "markdown",
      "source": [
        "# LeetCode Problem: Lowest Common Ancestor of Deepest Leaves"
      ],
      "metadata": {
        "id": "cIZFtSBEPNH-"
      }
    },
    {
      "cell_type": "code",
      "execution_count": null,
      "metadata": {
        "id": "dSjFjr5XPDf9"
      },
      "outputs": [],
      "source": [
        "# Definition for a binary tree node.\n",
        "# class TreeNode:\n",
        "#     def __init__(self, val=0, left=None, right=None):\n",
        "#         self.val = val\n",
        "#         self.left = left\n",
        "#         self.right = right\n",
        "class Solution(object):\n",
        "    def lcaDeepestLeaves(self, root):\n",
        "        \"\"\"\n",
        "        :type root: Optional[TreeNode]\n",
        "        :rtype: Optional[TreeNode]\n",
        "        \"\"\"\n",
        "        def dfs(node, depth):\n",
        "            if not node:\n",
        "                # If node is None, return (None, current depth)\n",
        "                return (None, depth)\n",
        "\n",
        "            # Recursively traverse left and right children\n",
        "            left_lca, left_depth = dfs(node.left, depth + 1)\n",
        "            right_lca, right_depth = dfs(node.right, depth + 1)\n",
        "\n",
        "            if left_depth > right_depth:\n",
        "                # Left subtree is deeper → propagate its LCA and depth upward\n",
        "                return (left_lca, left_depth)\n",
        "            elif right_depth > left_depth:\n",
        "                # Right subtree is deeper → propagate its LCA and depth upward\n",
        "                return (right_lca, right_depth)\n",
        "            else:\n",
        "                # Both subtrees are at the same depth → current node is LCA\n",
        "                return (node, left_depth)\n",
        "\n",
        "        # Start recursive DFS from the root at depth 0\n",
        "        lca_node, _ = dfs(root, 0)\n",
        "        return lca_node"
      ]
    }
  ]
}