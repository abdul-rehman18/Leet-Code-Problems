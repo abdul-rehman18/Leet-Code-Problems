{
  "nbformat": 4,
  "nbformat_minor": 0,
  "metadata": {
    "colab": {
      "provenance": []
    },
    "kernelspec": {
      "name": "python3",
      "display_name": "Python 3"
    },
    "language_info": {
      "name": "python"
    }
  },
  "cells": [
    {
      "cell_type": "markdown",
      "source": [
        "# LeetCode Problem:Second Minimum Time to Reach Destination"
      ],
      "metadata": {
        "id": "hmwQdBF-kpmy"
      }
    },
    {
      "cell_type": "code",
      "execution_count": 1,
      "metadata": {
        "colab": {
          "base_uri": "https://localhost:8080/"
        },
        "id": "o-rCW2dEkFSP",
        "outputId": "4436b71b-0176-484b-8f0e-46d5adf2191e"
      },
      "outputs": [
        {
          "output_type": "stream",
          "name": "stdout",
          "text": [
            "13\n"
          ]
        }
      ],
      "source": [
        "from collections import deque\n",
        "def secondMinimum(n, edges, time, change):\n",
        "\n",
        "        g = [[] for _ in range(n + 1)]\n",
        "\n",
        "        for u, v in edges:\n",
        "\n",
        "            g[u].append(v)\n",
        "\n",
        "            g[v].append(u)\n",
        "\n",
        "\n",
        "\n",
        "        q = deque([(1, 1)])\n",
        "\n",
        "        dist1 = [-1] * (n + 1)\n",
        "\n",
        "        dist2 = [-1] * (n + 1)\n",
        "\n",
        "        dist1[1] = 0\n",
        "\n",
        "        while q:\n",
        "\n",
        "            x, freq = q.popleft()\n",
        "\n",
        "            t = dist1[x] if freq == 1 else dist2[x]\n",
        "\n",
        "            if (t // change) % 2:\n",
        "\n",
        "                t = change * (t // change + 1) + time\n",
        "\n",
        "            else:\n",
        "\n",
        "                t += time\n",
        "\n",
        "            for y in g[x]:\n",
        "\n",
        "                if dist1[y] == -1:\n",
        "\n",
        "                    dist1[y] = t\n",
        "\n",
        "                    q.append((y, 1))\n",
        "\n",
        "                elif dist2[y] == -1 and dist1[y] != t:\n",
        "\n",
        "                    if y == n:\n",
        "\n",
        "                        return t\n",
        "\n",
        "                    dist2[y] = t\n",
        "\n",
        "                    q.append((y, 2))\n",
        "\n",
        "        return 0\n",
        "\n",
        "\n",
        "n = 5\n",
        "edges = [[1,2],[1,3],[1,4],[3,4],[4,5]]\n",
        "time = 3\n",
        "change = 5\n",
        "\n",
        "print(secondMinimum(n, edges, time, change))"
      ]
    },
    {
      "cell_type": "code",
      "source": [],
      "metadata": {
        "id": "yVSR_TZplHgF"
      },
      "execution_count": null,
      "outputs": []
    }
  ]
}