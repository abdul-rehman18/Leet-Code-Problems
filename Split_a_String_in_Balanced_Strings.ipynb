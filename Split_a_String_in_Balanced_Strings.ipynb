{
  "nbformat": 4,
  "nbformat_minor": 0,
  "metadata": {
    "colab": {
      "provenance": []
    },
    "kernelspec": {
      "name": "python3",
      "display_name": "Python 3"
    },
    "language_info": {
      "name": "python"
    }
  },
  "cells": [
    {
      "cell_type": "markdown",
      "source": [
        "# LeetCode Problem: Split a String in Balanced Strings"
      ],
      "metadata": {
        "id": "pInpfAxX4-lZ"
      }
    },
    {
      "cell_type": "code",
      "execution_count": 1,
      "metadata": {
        "colab": {
          "base_uri": "https://localhost:8080/"
        },
        "id": "LGCsFUM84YX9",
        "outputId": "1ac66090-b30e-4b23-fe61-e7295dc6b375"
      },
      "outputs": [
        {
          "output_type": "stream",
          "name": "stdout",
          "text": [
            "4\n"
          ]
        }
      ],
      "source": [
        "def balancedStringSplit(s):\n",
        "        l, r = 0, 0\n",
        "        res = 0\n",
        "        for c in s:\n",
        "            if c == 'R': r += 1\n",
        "            if c == 'L': l += 1\n",
        "            if l == r: res += 1\n",
        "        return res\n",
        "\n",
        "\n",
        "s = \"RLRRLLRLRL\"\n",
        "print(balancedStringSplit(s))"
      ]
    },
    {
      "cell_type": "code",
      "source": [],
      "metadata": {
        "id": "kfU-FHyu5bSO"
      },
      "execution_count": null,
      "outputs": []
    }
  ]
}