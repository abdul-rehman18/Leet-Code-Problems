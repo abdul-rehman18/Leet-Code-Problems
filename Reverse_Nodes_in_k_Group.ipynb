{
  "nbformat": 4,
  "nbformat_minor": 0,
  "metadata": {
    "colab": {
      "provenance": []
    },
    "kernelspec": {
      "name": "python3",
      "display_name": "Python 3"
    },
    "language_info": {
      "name": "python"
    }
  },
  "cells": [
    {
      "cell_type": "markdown",
      "source": [
        "# LeetCode Problem: Reverse Nodes in k-Group"
      ],
      "metadata": {
        "id": "wdoiUYTxNyu-"
      }
    },
    {
      "cell_type": "code",
      "execution_count": 1,
      "metadata": {
        "colab": {
          "base_uri": "https://localhost:8080/"
        },
        "id": "fODNVpUQLUNW",
        "outputId": "4ff03e3c-fb8e-4a90-abcb-a2efe7397c3c"
      },
      "outputs": [
        {
          "output_type": "stream",
          "name": "stdout",
          "text": [
            "Original linked list:\n",
            "1 -> 2 -> 3 -> 4 -> 5 -> None\n",
            "\n",
            "Linked list after reversing nodes in groups of 2\n",
            "2 -> 1 -> 4 -> 3 -> 5 -> None\n"
          ]
        }
      ],
      "source": [
        "class ListNode:\n",
        "    def __init__(self, val=0, next=None):\n",
        "        self.val = val\n",
        "        self.next = next\n",
        "\n",
        "class Solution:\n",
        "    def reverseKGroup(self, head: ListNode, k: int) -> ListNode:\n",
        "        def reverse_sublist(start, end):\n",
        "            prev, curr = None, start\n",
        "            while curr != end:\n",
        "                next_node = curr.next\n",
        "                curr.next = prev\n",
        "                prev = curr\n",
        "                curr = next_node\n",
        "            return prev\n",
        "\n",
        "        dummy = ListNode(0)\n",
        "        dummy.next = head\n",
        "        prev_group_end = dummy\n",
        "\n",
        "        while True:\n",
        "            group_start = prev_group_end.next\n",
        "            group_end = group_start\n",
        "            for _ in range(k - 1):\n",
        "                if group_end is None:\n",
        "                    return dummy.next\n",
        "                group_end = group_end.next\n",
        "\n",
        "            if group_end is None:\n",
        "                return dummy.next\n",
        "\n",
        "            next_group_start = group_end.next\n",
        "\n",
        "            reversed_head = reverse_sublist(group_start, next_group_start)\n",
        "\n",
        "            prev_group_end.next = reversed_head\n",
        "            group_start.next = next_group_start\n",
        "\n",
        "            prev_group_end = group_start\n",
        "\n",
        "        return dummy.next\n",
        "\n",
        "def create_linked_list(arr):\n",
        "    if not arr:\n",
        "        return None\n",
        "    head = ListNode(arr[0])\n",
        "    current = head\n",
        "    for val in arr[1:]:\n",
        "        current.next = ListNode(val)\n",
        "        current = current.next\n",
        "    return head\n",
        "\n",
        "def print_linked_list(head):\n",
        "    current = head\n",
        "    while current:\n",
        "        print(current.val, end=\" -> \")\n",
        "        current = current.next\n",
        "    print(\"None\")\n",
        "\n",
        "if __name__ == \"__main__\":\n",
        "    # Example usage\n",
        "    arr = [1, 2, 3, 4, 5]\n",
        "    k = 2\n",
        "\n",
        "    # Create linked list\n",
        "    head = create_linked_list(arr)\n",
        "\n",
        "    print(\"Original linked list:\")\n",
        "    print_linked_list(head)\n",
        "\n",
        "    # Reverse nodes in groups of k\n",
        "    solution = Solution()\n",
        "    modified_head = solution.reverseKGroup(head, k)\n",
        "\n",
        "    print(\"\\nLinked list after reversing nodes in groups of\", k)\n",
        "    print_linked_list(modified_head)\n"
      ]
    },
    {
      "cell_type": "code",
      "source": [],
      "metadata": {
        "id": "o09zk_31NlYI"
      },
      "execution_count": null,
      "outputs": []
    }
  ]
}