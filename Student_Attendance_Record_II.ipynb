{
  "nbformat": 4,
  "nbformat_minor": 0,
  "metadata": {
    "colab": {
      "provenance": []
    },
    "kernelspec": {
      "name": "python3",
      "display_name": "Python 3"
    },
    "language_info": {
      "name": "python"
    }
  },
  "cells": [
    {
      "cell_type": "markdown",
      "source": [
        "# LeetCode Problem: Student Attendance Record II"
      ],
      "metadata": {
        "id": "k_RiTt8zumVK"
      }
    },
    {
      "cell_type": "code",
      "execution_count": 1,
      "metadata": {
        "colab": {
          "base_uri": "https://localhost:8080/"
        },
        "id": "7AyISpiquNSY",
        "outputId": "b2cca3d9-783f-4c20-fd17-ff7c567dea5e"
      },
      "outputs": [
        {
          "output_type": "stream",
          "name": "stdout",
          "text": [
            "8\n"
          ]
        }
      ],
      "source": [
        "def checkRecord(n):\n",
        "        # Recursion + Cache\n",
        "        mod=10**9+7\n",
        "        #only @cache will lead to MLE\n",
        "        dp=[[[-1]*3 for _ in range(2)] for _ in range(n+1)]\n",
        "        def f(i, absent, late):\n",
        "            if absent>=2 or late>=3: return 0\n",
        "            if i==0: return 1\n",
        "            if dp[i][absent][late]!=-1:\n",
        "                return dp[i][absent][late]\n",
        "            ans=f(i-1, absent, 0)\n",
        "            ans+=f(i-1, absent, late+1)\n",
        "            ans+=f(i-1, absent+1, 0)\n",
        "            dp[i][absent][late]=ans%mod\n",
        "            return dp[i][absent][late]\n",
        "        return f(n, 0, 0)\n",
        "\n",
        "\n",
        "n = 2\n",
        "print(checkRecord(n))"
      ]
    },
    {
      "cell_type": "code",
      "source": [],
      "metadata": {
        "id": "Tr8lM9HYu65T"
      },
      "execution_count": null,
      "outputs": []
    }
  ]
}