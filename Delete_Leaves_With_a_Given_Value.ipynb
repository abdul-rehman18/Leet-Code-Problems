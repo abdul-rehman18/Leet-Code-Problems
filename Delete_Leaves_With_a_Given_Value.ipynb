{
  "nbformat": 4,
  "nbformat_minor": 0,
  "metadata": {
    "colab": {
      "provenance": []
    },
    "kernelspec": {
      "name": "python3",
      "display_name": "Python 3"
    },
    "language_info": {
      "name": "python"
    }
  },
  "cells": [
    {
      "cell_type": "markdown",
      "source": [
        "# LeetCode Problem: Delete Leaves With a Given Value"
      ],
      "metadata": {
        "id": "bKCtIw9Ivv-c"
      }
    },
    {
      "cell_type": "code",
      "execution_count": 1,
      "metadata": {
        "colab": {
          "base_uri": "https://localhost:8080/"
        },
        "id": "lPGkaen6vowp",
        "outputId": "aa90be24-6f99-45ec-cd71-efbbe17a5827"
      },
      "outputs": [
        {
          "output_type": "stream",
          "name": "stdout",
          "text": [
            "Original tree:\n",
            "Root: 1\n",
            "    L: 2\n",
            "        L: 2\n",
            "        R: 2\n",
            "    R: 3\n",
            "        L: 4\n",
            "        R: 5\n",
            "\n",
            "Tree after removing leaf nodes with target value 2:\n",
            "Root: 1\n",
            "    R: 3\n",
            "        L: 4\n",
            "        R: 5\n"
          ]
        }
      ],
      "source": [
        "# Definition for a binary tree node.\n",
        "class TreeNode:\n",
        "    def __init__(self, val=0, left=None, right=None):\n",
        "        self.val = val\n",
        "        self.left = left\n",
        "        self.right = right\n",
        "\n",
        "class Solution:\n",
        "    def removeLeafNodes(self, root, target):\n",
        "        if not root:\n",
        "            return None\n",
        "        root.left = self.removeLeafNodes(root.left, target)\n",
        "        root.right = self.removeLeafNodes(root.right, target)\n",
        "        if not root.left and not root.right and root.val == target:\n",
        "            return None\n",
        "        return root\n",
        "\n",
        "def print_tree(root, depth=0, label=\"Root\"):\n",
        "    if root is not None:\n",
        "        print(\" \" * (depth * 4) + f\"{label}: {root.val}\")\n",
        "        print_tree(root.left, depth + 1, \"L\")\n",
        "        print_tree(root.right, depth + 1, \"R\")\n",
        "\n",
        "def main():\n",
        "    # Create a sample tree\n",
        "    root = TreeNode(1)\n",
        "    root.left = TreeNode(2)\n",
        "    root.right = TreeNode(3)\n",
        "    root.left.left = TreeNode(2)\n",
        "    root.left.right = TreeNode(2)\n",
        "    root.right.left = TreeNode(4)\n",
        "    root.right.right = TreeNode(5)\n",
        "\n",
        "    print(\"Original tree:\")\n",
        "    print_tree(root)\n",
        "\n",
        "    # Define the target value\n",
        "    target = 2\n",
        "\n",
        "    # Create an instance of Solution and remove leaf nodes\n",
        "    sol = Solution()\n",
        "    new_root = sol.removeLeafNodes(root, target)\n",
        "\n",
        "    print(\"\\nTree after removing leaf nodes with target value 2:\")\n",
        "    print_tree(new_root)\n",
        "\n",
        "if __name__ == \"__main__\":\n",
        "    main()\n"
      ]
    },
    {
      "cell_type": "code",
      "source": [],
      "metadata": {
        "id": "2yB7Lfp3wdEi"
      },
      "execution_count": null,
      "outputs": []
    }
  ]
}