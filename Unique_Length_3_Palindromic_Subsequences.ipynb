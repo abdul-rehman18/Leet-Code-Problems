{
  "nbformat": 4,
  "nbformat_minor": 0,
  "metadata": {
    "colab": {
      "provenance": []
    },
    "kernelspec": {
      "name": "python3",
      "display_name": "Python 3"
    },
    "language_info": {
      "name": "python"
    }
  },
  "cells": [
    {
      "cell_type": "markdown",
      "source": [
        "# LeetCode Problem: Unique Length-3 Palindromic Subsequences"
      ],
      "metadata": {
        "id": "gBux67jyEfya"
      }
    },
    {
      "cell_type": "code",
      "execution_count": 1,
      "metadata": {
        "colab": {
          "base_uri": "https://localhost:8080/"
        },
        "id": "cy7ZppCpEPD4",
        "outputId": "30d11d0b-ee77-4e55-e75e-016412d891fb"
      },
      "outputs": [
        {
          "output_type": "stream",
          "name": "stdout",
          "text": [
            "3\n"
          ]
        }
      ],
      "source": [
        "def countPalindromicSubsequence(s):\n",
        "        R = [0] * 26\n",
        "        for u in s:\n",
        "            R[ord(u) - ord('a')] += 1\n",
        "\n",
        "        L = [0] * 26\n",
        "        S = set()\n",
        "\n",
        "        for i in range(len(s)):\n",
        "            t = ord(s[i]) - ord('a')\n",
        "            R[t] -= 1\n",
        "            for j in range(26):\n",
        "                if L[j] > 0 and R[j] > 0:\n",
        "                    S.add(26 * t + j)\n",
        "            L[t] += 1\n",
        "\n",
        "        return len(S)\n",
        "\n",
        "\n",
        "s = \"aabca\"\n",
        "print(countPalindromicSubsequence(s))"
      ]
    },
    {
      "cell_type": "code",
      "source": [],
      "metadata": {
        "id": "wULwbjmgEvxs"
      },
      "execution_count": null,
      "outputs": []
    }
  ]
}