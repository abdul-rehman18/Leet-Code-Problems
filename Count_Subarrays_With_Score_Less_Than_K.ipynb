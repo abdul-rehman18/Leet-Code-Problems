{
  "nbformat": 4,
  "nbformat_minor": 0,
  "metadata": {
    "colab": {
      "provenance": []
    },
    "kernelspec": {
      "name": "python3",
      "display_name": "Python 3"
    },
    "language_info": {
      "name": "python"
    }
  },
  "cells": [
    {
      "cell_type": "markdown",
      "source": [
        "# LeetCode Problem: Count Subarrays With Score Less Than K"
      ],
      "metadata": {
        "id": "KnB6QqFpKcE8"
      }
    },
    {
      "cell_type": "code",
      "execution_count": null,
      "metadata": {
        "id": "MJzcdfbQKWkk"
      },
      "outputs": [],
      "source": [
        "class Solution:\n",
        "    def countSubarrays(self, nums: List[int], k: int) -> int:\n",
        "        n = len(nums)\n",
        "        left = 0\n",
        "        total = 0\n",
        "        count = 0\n",
        "\n",
        "        for right in range(n):\n",
        "            total += nums[right]\n",
        "            while total * (right - left + 1) >= k:\n",
        "                total -= nums[left]\n",
        "                left += 1\n",
        "            count += (right - left + 1)\n",
        "\n",
        "        return count"
      ]
    }
  ]
}