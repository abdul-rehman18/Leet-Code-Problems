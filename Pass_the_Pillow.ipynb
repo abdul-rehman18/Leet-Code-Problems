{
  "nbformat": 4,
  "nbformat_minor": 0,
  "metadata": {
    "colab": {
      "provenance": []
    },
    "kernelspec": {
      "name": "python3",
      "display_name": "Python 3"
    },
    "language_info": {
      "name": "python"
    }
  },
  "cells": [
    {
      "cell_type": "markdown",
      "source": [
        "# LeetCode Problem: Pass the Pillow"
      ],
      "metadata": {
        "id": "DUDKslyPi5AA"
      }
    },
    {
      "cell_type": "code",
      "execution_count": 1,
      "metadata": {
        "colab": {
          "base_uri": "https://localhost:8080/"
        },
        "id": "pIRoGS92itRl",
        "outputId": "d81facfb-f4e4-458d-e59c-24b82e5a1794"
      },
      "outputs": [
        {
          "output_type": "stream",
          "name": "stdout",
          "text": [
            "2\n"
          ]
        }
      ],
      "source": [
        "def passThePillow(n, time):\n",
        "        return n - abs(n - 1 - time % (n * 2 - 2));\n",
        "\n",
        "n = 4\n",
        "time = 5\n",
        "\n",
        "print(passThePillow(n, time))"
      ]
    },
    {
      "cell_type": "code",
      "source": [],
      "metadata": {
        "id": "Gg_FSzGUjPA2"
      },
      "execution_count": null,
      "outputs": []
    }
  ]
}