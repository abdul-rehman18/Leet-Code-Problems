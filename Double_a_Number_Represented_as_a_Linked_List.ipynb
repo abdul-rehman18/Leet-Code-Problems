{
  "nbformat": 4,
  "nbformat_minor": 0,
  "metadata": {
    "colab": {
      "provenance": []
    },
    "kernelspec": {
      "name": "python3",
      "display_name": "Python 3"
    },
    "language_info": {
      "name": "python"
    }
  },
  "cells": [
    {
      "cell_type": "markdown",
      "source": [
        "# LeetCode Problem: Double a Number Represented as a Linked List"
      ],
      "metadata": {
        "id": "AUw0bZnyfELh"
      }
    },
    {
      "cell_type": "code",
      "execution_count": 1,
      "metadata": {
        "colab": {
          "base_uri": "https://localhost:8080/"
        },
        "id": "rcxbiJlue2jf",
        "outputId": "cc1787d6-ee65-423a-cfd3-61f1623add87"
      },
      "outputs": [
        {
          "output_type": "stream",
          "name": "stdout",
          "text": [
            "2 -> 4 -> 6\n"
          ]
        }
      ],
      "source": [
        "class ListNode:\n",
        "    def __init__(self, val=0, next=None):\n",
        "        self.val = val\n",
        "        self.next = next\n",
        "\n",
        "class Solution:\n",
        "    def doubleIt(self, head):\n",
        "        if not head:\n",
        "            return\n",
        "        current = head\n",
        "        newHead = dummy = ListNode(0)\n",
        "        number = 0\n",
        "\n",
        "        while current:\n",
        "            number = number * 10 + current.val\n",
        "            current = current.next\n",
        "\n",
        "        number *= 2\n",
        "\n",
        "        if number == 0:\n",
        "            return ListNode(0)\n",
        "\n",
        "        numbers = []\n",
        "\n",
        "        while number > 0:\n",
        "            digit = number % 10\n",
        "            number = number // 10\n",
        "            numbers.append(digit)\n",
        "\n",
        "        for num in reversed(numbers):\n",
        "            dummy.next = ListNode(num)\n",
        "            dummy = dummy.next\n",
        "\n",
        "        return newHead.next\n",
        "\n",
        "def print_list(node):\n",
        "    while node:\n",
        "        print(node.val, end=\"\")\n",
        "        if node.next:\n",
        "            print(\" -> \", end=\"\")\n",
        "        node = node.next\n",
        "    print()\n",
        "\n",
        "def main():\n",
        "    # Example: Convert 123 represented as a linked list into 246\n",
        "    l1 = ListNode(1, ListNode(2, ListNode(3)))\n",
        "    sol = Solution()\n",
        "    result = sol.doubleIt(l1)\n",
        "    print_list(result)  # Output should be 2 -> 4 -> 6\n",
        "\n",
        "if __name__ == \"__main__\":\n",
        "    main()\n"
      ]
    },
    {
      "cell_type": "code",
      "source": [],
      "metadata": {
        "id": "E-3LX6Ktf8oZ"
      },
      "execution_count": null,
      "outputs": []
    }
  ]
}