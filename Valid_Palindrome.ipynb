{
 "cells": [
  {
   "cell_type": "markdown",
   "id": "3eec39cb",
   "metadata": {},
   "source": [
    "# LeetCode Problem:Valid Palindrome"
   ]
  },
  {
   "cell_type": "code",
   "execution_count": 14,
   "id": "3749ceea",
   "metadata": {},
   "outputs": [
    {
     "name": "stdout",
     "output_type": "stream",
     "text": [
      "True\n"
     ]
    }
   ],
   "source": [
    "def isPalindrome(s):\n",
    "    n_s=\"\"\n",
    "    for i in s.lower():\n",
    "        if i.isalnum():\n",
    "            n_s+=i\n",
    "    return n_s==n_s[::-1]\n",
    "s = \"A man, a plan, a canal: Panama\"\n",
    "print(isPalindrome(s))"
   ]
  },
  {
   "cell_type": "code",
   "execution_count": null,
   "id": "517c8a48",
   "metadata": {},
   "outputs": [],
   "source": []
  },
  {
   "cell_type": "code",
   "execution_count": null,
   "id": "b4465242",
   "metadata": {},
   "outputs": [],
   "source": []
  }
 ],
 "metadata": {
  "kernelspec": {
   "display_name": "Python 3 (ipykernel)",
   "language": "python",
   "name": "python3"
  },
  "language_info": {
   "codemirror_mode": {
    "name": "ipython",
    "version": 3
   },
   "file_extension": ".py",
   "mimetype": "text/x-python",
   "name": "python",
   "nbconvert_exporter": "python",
   "pygments_lexer": "ipython3",
   "version": "3.10.9"
  }
 },
 "nbformat": 4,
 "nbformat_minor": 5
}
