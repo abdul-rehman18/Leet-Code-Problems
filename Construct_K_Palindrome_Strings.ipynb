{
  "nbformat": 4,
  "nbformat_minor": 0,
  "metadata": {
    "colab": {
      "provenance": []
    },
    "kernelspec": {
      "name": "python3",
      "display_name": "Python 3"
    },
    "language_info": {
      "name": "python"
    }
  },
  "cells": [
    {
      "cell_type": "markdown",
      "source": [
        "# LeetCode Problem: Construct K Palindrome Strings"
      ],
      "metadata": {
        "id": "_jPWqhFStz8-"
      }
    },
    {
      "cell_type": "code",
      "execution_count": 1,
      "metadata": {
        "colab": {
          "base_uri": "https://localhost:8080/"
        },
        "id": "AWK8NQ1EYToI",
        "outputId": "d6231cd2-f5aa-45c8-f72e-185a4c39d8d1"
      },
      "outputs": [
        {
          "output_type": "stream",
          "name": "stdout",
          "text": [
            "True\n"
          ]
        }
      ],
      "source": [
        "def canConstruct(s, k):\n",
        "        if len(s) < k:\n",
        "            return False\n",
        "        sorted_s = sorted(s)\n",
        "\n",
        "        odd_count = 0\n",
        "        i = 0\n",
        "\n",
        "        while i < len(sorted_s):\n",
        "            char = sorted_s[i]\n",
        "            count = 0\n",
        "            while i < len(sorted_s) and sorted_s[i] == char:\n",
        "                count += 1\n",
        "                i += 1\n",
        "            if count % 2 == 1:\n",
        "                odd_count += 1\n",
        "\n",
        "        return odd_count <= k\n",
        "\n",
        "s = \"annabelle\"\n",
        "k = 2\n",
        "\n",
        "print(canConstruct(s, k))"
      ]
    },
    {
      "cell_type": "code",
      "source": [],
      "metadata": {
        "id": "-jWUIFu3uLP-"
      },
      "execution_count": null,
      "outputs": []
    }
  ]
}