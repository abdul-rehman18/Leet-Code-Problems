{
 "cells": [
  {
   "cell_type": "markdown",
   "id": "4da9525c",
   "metadata": {},
   "source": [
    "# LeetCode Problem: Convert Sorted Array to Binary Search Tree"
   ]
  },
  {
   "cell_type": "code",
   "execution_count": 14,
   "id": "c5b54475",
   "metadata": {},
   "outputs": [
    {
     "name": "stdout",
     "output_type": "stream",
     "text": [
      "Sorted List:\n",
      "[-10, -3, 0, 5, 9]\n",
      "Binary Search Tree:\n",
      "0,-3,-10,9,5,"
     ]
    }
   ],
   "source": [
    "class TreeNode:\n",
    "    def __init__(self, val=0, left=None, right=None):\n",
    "        self.val = val\n",
    "        self.left = left\n",
    "        self.right = right\n",
    "class Solution:\n",
    "    def sortedArrayToBST(self, nums):\n",
    "        return self.BST(nums,0,len(nums))\n",
    "    \n",
    "    def BST(self,nums,st,en):\n",
    "        if st>=en: \n",
    "            return None\n",
    "        return TreeNode(\n",
    "            val = nums[(st+en)//2],\n",
    "            left = self.BST(nums, st, (st + en)//2),\n",
    "            right = self.BST(nums,1+((st+en)//2),en)\n",
    "        )\n",
    "    \n",
    "def printTree(root):\n",
    "    if root is not None:\n",
    "        print(str(root.val),end=\",\")\n",
    "        if root.left is not None or root.right is not None:\n",
    "            printTree(root.left )\n",
    "            printTree(root.right)\n",
    "            \n",
    "\n",
    "def main():\n",
    "    nums = [-10,-3,0,5,9]\n",
    "    print(\"Sorted List:\")\n",
    "    nums=sorted(nums)\n",
    "    print(nums)\n",
    "    solution = Solution()\n",
    "    root = solution.sortedArrayToBST(nums)\n",
    "    print(\"Binary Search Tree:\")\n",
    "    printTree(root)\n",
    "\n",
    "    \n",
    "    \n",
    "    \n",
    "if __name__ == \"__main__\":\n",
    "    main()"
   ]
  },
  {
   "cell_type": "code",
   "execution_count": null,
   "id": "18a3d7e0",
   "metadata": {},
   "outputs": [],
   "source": []
  }
 ],
 "metadata": {
  "kernelspec": {
   "display_name": "Python 3 (ipykernel)",
   "language": "python",
   "name": "python3"
  },
  "language_info": {
   "codemirror_mode": {
    "name": "ipython",
    "version": 3
   },
   "file_extension": ".py",
   "mimetype": "text/x-python",
   "name": "python",
   "nbconvert_exporter": "python",
   "pygments_lexer": "ipython3",
   "version": "3.10.9"
  }
 },
 "nbformat": 4,
 "nbformat_minor": 5
}
