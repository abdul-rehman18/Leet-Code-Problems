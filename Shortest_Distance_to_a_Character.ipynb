{
  "nbformat": 4,
  "nbformat_minor": 0,
  "metadata": {
    "colab": {
      "provenance": []
    },
    "kernelspec": {
      "name": "python3",
      "display_name": "Python 3"
    },
    "language_info": {
      "name": "python"
    }
  },
  "cells": [
    {
      "cell_type": "markdown",
      "source": [
        "# LeetCode Problem: Shortest Distance to a Character"
      ],
      "metadata": {
        "id": "KxhAFBl_iQZx"
      }
    },
    {
      "cell_type": "code",
      "execution_count": 1,
      "metadata": {
        "colab": {
          "base_uri": "https://localhost:8080/"
        },
        "id": "UMvvaRKtfGzG",
        "outputId": "1ee128af-304b-4643-fde3-889a945431e4"
      },
      "outputs": [
        {
          "output_type": "stream",
          "name": "stdout",
          "text": [
            "[3, 2, 1, 0, 1, 0, 0, 1, 2, 2, 1, 0]\n"
          ]
        }
      ],
      "source": [
        "def shortestToChar(s, c):\n",
        "        ids = [i for i in range(len(s)) if s[i] == c]\n",
        "        return [min([abs(i-id_) for id_ in ids]) for i in range(len(s))]\n",
        "\n",
        "\n",
        "s = \"loveleetcode\"\n",
        "c = \"e\"\n",
        "print(shortestToChar(s, c))"
      ]
    },
    {
      "cell_type": "code",
      "source": [],
      "metadata": {
        "id": "Z-EKmNbdiJ-M"
      },
      "execution_count": null,
      "outputs": []
    }
  ]
}