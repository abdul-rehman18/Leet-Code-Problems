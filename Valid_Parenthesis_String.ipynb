{
  "nbformat": 4,
  "nbformat_minor": 0,
  "metadata": {
    "colab": {
      "provenance": []
    },
    "kernelspec": {
      "name": "python3",
      "display_name": "Python 3"
    },
    "language_info": {
      "name": "python"
    }
  },
  "cells": [
    {
      "cell_type": "markdown",
      "source": [
        "# LeetCode Problem: Valid Parenthesis String"
      ],
      "metadata": {
        "id": "pTMNIi38yv0H"
      }
    },
    {
      "cell_type": "code",
      "execution_count": 1,
      "metadata": {
        "colab": {
          "base_uri": "https://localhost:8080/"
        },
        "id": "xVlJnHElymi1",
        "outputId": "a9701cbf-f491-4cfe-913d-97e6251db249"
      },
      "outputs": [
        {
          "output_type": "stream",
          "name": "stdout",
          "text": [
            "True\n"
          ]
        }
      ],
      "source": [
        "def checkValidString(s):\n",
        "        leftMin, leftMax = 0, 0\n",
        "\n",
        "        for c in s:\n",
        "            if c == \"(\":\n",
        "                leftMin, leftMax = leftMin + 1, leftMax + 1\n",
        "            elif c == \")\":\n",
        "                leftMin, leftMax = leftMin - 1, leftMax - 1\n",
        "            else:\n",
        "                leftMin, leftMax = leftMin - 1, leftMax + 1\n",
        "            if leftMax < 0:\n",
        "                return False\n",
        "            if leftMin < 0:\n",
        "                leftMin = 0\n",
        "        return leftMin == 0\n",
        "\n",
        "\n",
        "s=\"()\"\n",
        "print(checkValidString(s))"
      ]
    },
    {
      "cell_type": "code",
      "source": [],
      "metadata": {
        "id": "BZ-ZYb67ysRl"
      },
      "execution_count": null,
      "outputs": []
    }
  ]
}