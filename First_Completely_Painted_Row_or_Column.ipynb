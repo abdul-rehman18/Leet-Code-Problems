{
  "nbformat": 4,
  "nbformat_minor": 0,
  "metadata": {
    "colab": {
      "provenance": []
    },
    "kernelspec": {
      "name": "python3",
      "display_name": "Python 3"
    },
    "language_info": {
      "name": "python"
    }
  },
  "cells": [
    {
      "cell_type": "markdown",
      "source": [
        "# LeetCode Problem: First Completely Painted Row or Column"
      ],
      "metadata": {
        "id": "YxUeCW3wAroO"
      }
    },
    {
      "cell_type": "code",
      "execution_count": 1,
      "metadata": {
        "colab": {
          "base_uri": "https://localhost:8080/"
        },
        "id": "2eNXrQDgAi8S",
        "outputId": "26ffb543-f166-4b5f-af2c-c35c6a02cfe6"
      },
      "outputs": [
        {
          "output_type": "stream",
          "name": "stdout",
          "text": [
            "2\n"
          ]
        }
      ],
      "source": [
        "def firstCompleteIndex(arr, mat):\n",
        "        m = len(mat)\n",
        "        n = len(mat[0])\n",
        "\n",
        "        rowFeq = [0] * m\n",
        "        colFeq = [0] * n\n",
        "\n",
        "        map = {}\n",
        "        for i in range(m):\n",
        "            for j in range(n):\n",
        "                map[mat[i][j]] = [i, j]\n",
        "\n",
        "        for i in range(len(arr)):\n",
        "            idx = map[arr[i]]\n",
        "            r = idx[0]\n",
        "            c = idx[1]\n",
        "\n",
        "            rowFeq[r] += 1\n",
        "            colFeq[c] += 1\n",
        "\n",
        "            if rowFeq[r] == n or colFeq[c] == m:\n",
        "                return i\n",
        "\n",
        "        return -1\n",
        "\n",
        "arr = [1,3,4,2]\n",
        "mat = [[1,4],[2,3]]\n",
        "\n",
        "print(firstCompleteIndex(arr, mat))"
      ]
    },
    {
      "cell_type": "code",
      "source": [],
      "metadata": {
        "id": "WlwpIyWgBOSS"
      },
      "execution_count": null,
      "outputs": []
    }
  ]
}