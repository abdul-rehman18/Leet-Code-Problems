{
  "nbformat": 4,
  "nbformat_minor": 0,
  "metadata": {
    "colab": {
      "provenance": []
    },
    "kernelspec": {
      "name": "python3",
      "display_name": "Python 3"
    },
    "language_info": {
      "name": "python"
    }
  },
  "cells": [
    {
      "cell_type": "markdown",
      "source": [
        "# LeetCode Problem:Base 7"
      ],
      "metadata": {
        "id": "4MO_m5zxzAra"
      }
    },
    {
      "cell_type": "code",
      "execution_count": 1,
      "metadata": {
        "colab": {
          "base_uri": "https://localhost:8080/"
        },
        "id": "MIoSUctlyRS7",
        "outputId": "fcaf840c-2f6f-43e2-8680-2bc98fb81b2e"
      },
      "outputs": [
        {
          "output_type": "stream",
          "name": "stdout",
          "text": [
            "202\n"
          ]
        }
      ],
      "source": [
        "def convertToBase7(num):\n",
        "\n",
        "        if num == 0: return '0'\n",
        "\n",
        "        ans, n = '', abs(num)\n",
        "\n",
        "        while n:\n",
        "            n, m = divmod(n,7)\n",
        "            ans+=str(m)\n",
        "\n",
        "        if num < 0: ans+= '-'\n",
        "\n",
        "        return ans[::-1]\n",
        "\n",
        "\n",
        "num=100\n",
        "print(convertToBase7(num))\n"
      ]
    },
    {
      "cell_type": "code",
      "source": [],
      "metadata": {
        "id": "Ly1ibZLmzLTX"
      },
      "execution_count": null,
      "outputs": []
    }
  ]
}