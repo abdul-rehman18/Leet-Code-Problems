{
  "nbformat": 4,
  "nbformat_minor": 0,
  "metadata": {
    "colab": {
      "provenance": []
    },
    "kernelspec": {
      "name": "python3",
      "display_name": "Python 3"
    },
    "language_info": {
      "name": "python"
    }
  },
  "cells": [
    {
      "cell_type": "markdown",
      "source": [
        "# LeetCode Problem: Remove Outermost Parentheses"
      ],
      "metadata": {
        "id": "o9bbUgxOXD7l"
      }
    },
    {
      "cell_type": "code",
      "execution_count": 1,
      "metadata": {
        "colab": {
          "base_uri": "https://localhost:8080/"
        },
        "id": "ZDEe0dwrT7DN",
        "outputId": "64406c96-6d90-4883-b7a9-234178fdaef8"
      },
      "outputs": [
        {
          "output_type": "stream",
          "name": "stdout",
          "text": [
            "()()()\n"
          ]
        }
      ],
      "source": [
        "def removeOuterParentheses(s):\n",
        "        res, p = [],0\n",
        "        for i in s:\n",
        "            if i == '(' and p > 0:\n",
        "                res.append(i)\n",
        "            if i == ')' and p > 1:\n",
        "                res.append(i)\n",
        "            p += 1 if i == '(' else -1\n",
        "        return \"\".join(res)\n",
        "\n",
        "s = \"(()())(())\"\n",
        "print(removeOuterParentheses(s))"
      ]
    },
    {
      "cell_type": "code",
      "source": [],
      "metadata": {
        "id": "7IvCDS8TW_1-"
      },
      "execution_count": null,
      "outputs": []
    }
  ]
}