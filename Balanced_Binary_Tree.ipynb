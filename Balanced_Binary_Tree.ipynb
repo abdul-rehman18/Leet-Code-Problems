{
 "cells": [
  {
   "cell_type": "markdown",
   "id": "e56c73b6",
   "metadata": {},
   "source": [
    "# LeetCode Problem:Balanced Binary Tree"
   ]
  },
  {
   "cell_type": "code",
   "execution_count": null,
   "id": "edac3506",
   "metadata": {},
   "outputs": [],
   "source": [
    "class TreeNode:\n",
    "    def __init__(self, val=0, left=None, right=None):\n",
    "        self.val = val\n",
    "        self.left = left\n",
    "        self.right = right\n",
    "class Solution:\n",
    "    def isBalanced(self, root):\n",
    "        def height(root):\n",
    "            if root == None:\n",
    "                return 0\n",
    "            \n",
    "            h_left = height(root.left)\n",
    "            if h_left < 0:\n",
    "                return -1\n",
    "            h_right = height(root.right)\n",
    "            if h_right < 0 or abs(h_left - h_right) > 1:\n",
    "                return -1\n",
    "\n",
    "            return max(h_left, h_right) + 1\n",
    "        \n",
    "        return height(root) >= 0\n",
    "        "
   ]
  }
 ],
 "metadata": {
  "kernelspec": {
   "display_name": "Python 3 (ipykernel)",
   "language": "python",
   "name": "python3"
  },
  "language_info": {
   "codemirror_mode": {
    "name": "ipython",
    "version": 3
   },
   "file_extension": ".py",
   "mimetype": "text/x-python",
   "name": "python",
   "nbconvert_exporter": "python",
   "pygments_lexer": "ipython3",
   "version": "3.10.9"
  }
 },
 "nbformat": 4,
 "nbformat_minor": 5
}
