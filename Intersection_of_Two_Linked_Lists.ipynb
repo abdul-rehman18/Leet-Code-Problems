{
  "nbformat": 4,
  "nbformat_minor": 0,
  "metadata": {
    "colab": {
      "provenance": []
    },
    "kernelspec": {
      "name": "python3",
      "display_name": "Python 3"
    },
    "language_info": {
      "name": "python"
    }
  },
  "cells": [
    {
      "cell_type": "markdown",
      "source": [
        "# LeetCode Problem: Intersection of Two Linked Lists"
      ],
      "metadata": {
        "id": "Waj5NwEPgqdK"
      }
    },
    {
      "cell_type": "code",
      "execution_count": 2,
      "metadata": {
        "colab": {
          "base_uri": "https://localhost:8080/"
        },
        "id": "HkutmsscgS4P",
        "outputId": "d9f8d529-b909-451c-d353-2c37f79f9ee8"
      },
      "outputs": [
        {
          "output_type": "stream",
          "name": "stdout",
          "text": [
            "Intersection Node Value: 2\n"
          ]
        }
      ],
      "source": [
        "class ListNode:\n",
        "    def __init__(self, x):\n",
        "        self.val = x\n",
        "        self.next = None\n",
        "\n",
        "class Solution:\n",
        "    def getIntersectionNode(self, headA, headB):\n",
        "      n_s = set()\n",
        "      while headA:\n",
        "          n_s.add(headA)\n",
        "          headA=headA.next\n",
        "      while headB:\n",
        "          if headB in n_s:\n",
        "              return headB\n",
        "          headB=headB.next\n",
        "      return None\n",
        "\n",
        "def main():\n",
        "    # Creating nodes for linked lists\n",
        "    node1 = ListNode(1)\n",
        "    node2 = ListNode(2)\n",
        "    node3 = ListNode(3)\n",
        "    node4 = ListNode(4)\n",
        "    node5 = ListNode(5)\n",
        "\n",
        "    # Creating linked list A: 1 -> 2 -> 3\n",
        "    node1.next = node2\n",
        "    node2.next = node3\n",
        "    headA = node1\n",
        "\n",
        "    # Creating linked list B: 4 -> 5 -> 2 (intersecting with A)\n",
        "    node4.next = node5\n",
        "    node5.next = node2\n",
        "    headB = node4\n",
        "\n",
        "    # Creating an instance of the Solution class\n",
        "    solution = Solution()\n",
        "\n",
        "    # Finding the intersection node\n",
        "    intersection_node = solution.getIntersectionNode(headA, headB)\n",
        "\n",
        "    # Displaying the result\n",
        "    if intersection_node:\n",
        "        print(f\"Intersection Node Value: {intersection_node.val}\")\n",
        "    else:\n",
        "        print(\"No intersection node found\")\n",
        "\n",
        "if __name__ == \"__main__\":\n",
        "    main()\n"
      ]
    },
    {
      "cell_type": "code",
      "source": [],
      "metadata": {
        "id": "-mOHro0ijFxj"
      },
      "execution_count": null,
      "outputs": []
    }
  ]
}