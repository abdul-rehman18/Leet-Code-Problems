{
  "nbformat": 4,
  "nbformat_minor": 0,
  "metadata": {
    "colab": {
      "provenance": []
    },
    "kernelspec": {
      "name": "python3",
      "display_name": "Python 3"
    },
    "language_info": {
      "name": "python"
    }
  },
  "cells": [
    {
      "cell_type": "markdown",
      "source": [
        "# LeetCode Problem: Teemo Attacking"
      ],
      "metadata": {
        "id": "2gaMah4DDRHY"
      }
    },
    {
      "cell_type": "code",
      "execution_count": 1,
      "metadata": {
        "colab": {
          "base_uri": "https://localhost:8080/"
        },
        "id": "CY6nk9kvAXVq",
        "outputId": "9714c4ba-933e-4efe-a203-4dca0e709031"
      },
      "outputs": [
        {
          "output_type": "stream",
          "name": "stdout",
          "text": [
            "4\n"
          ]
        }
      ],
      "source": [
        "def findPoisonedDuration(timeSeries, duration):\n",
        "        repeat = 0\n",
        "        for i in range(len(timeSeries)-1):\n",
        "            diff = timeSeries[i+1] - timeSeries[i]\n",
        "            if diff < duration:\n",
        "                repeat += duration - diff\n",
        "        return len(timeSeries)*duration - repeat\n",
        "\n",
        "\n",
        "timeSeries = [1,4]\n",
        "duration = 2\n",
        "print(findPoisonedDuration(timeSeries, duration))"
      ]
    },
    {
      "cell_type": "code",
      "source": [],
      "metadata": {
        "id": "vVms4F81DdW3"
      },
      "execution_count": null,
      "outputs": []
    }
  ]
}