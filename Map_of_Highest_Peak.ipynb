{
  "nbformat": 4,
  "nbformat_minor": 0,
  "metadata": {
    "colab": {
      "provenance": []
    },
    "kernelspec": {
      "name": "python3",
      "display_name": "Python 3"
    },
    "language_info": {
      "name": "python"
    }
  },
  "cells": [
    {
      "cell_type": "markdown",
      "source": [
        "# LeetCode Problem: Map of Highest Peak"
      ],
      "metadata": {
        "id": "FjkzVp6uUgsc"
      }
    },
    {
      "cell_type": "code",
      "execution_count": 3,
      "metadata": {
        "colab": {
          "base_uri": "https://localhost:8080/"
        },
        "id": "EU4sEh8LUbYv",
        "outputId": "f6a2a4c3-a8c7-48cc-d0a2-3eac6403ff9e"
      },
      "outputs": [
        {
          "output_type": "stream",
          "name": "stdout",
          "text": [
            "[[1, 0], [2, 1]]\n"
          ]
        }
      ],
      "source": [
        "def highestPeak(isWater):\n",
        "        R = len(isWater)\n",
        "        C = len(isWater[0])\n",
        "        height = [[float('inf')] * C for _ in range(R)]\n",
        "\n",
        "        for i in range(R):\n",
        "            for j in range(C):\n",
        "                if isWater[i][j] == 1:\n",
        "                    height[i][j] = 0\n",
        "                else:\n",
        "                    if i > 0:\n",
        "                        height[i][j] = min(height[i][j], height[i - 1][j] + 1)\n",
        "                    if j > 0:\n",
        "                        height[i][j] = min(height[i][j], height[i][j - 1] + 1)\n",
        "\n",
        "        for i in range(R - 1, -1, -1):\n",
        "            for j in range(C - 1, -1, -1):\n",
        "                if i < R - 1:\n",
        "                    height[i][j] = min(height[i][j], height[i + 1][j] + 1)\n",
        "                if j < C - 1:\n",
        "                    height[i][j] = min(height[i][j], height[i][j + 1] + 1)\n",
        "\n",
        "        return height\n",
        "\n",
        "isWater = [[0,1],[0,0]]\n",
        "print(highestPeak(isWater))"
      ]
    },
    {
      "cell_type": "code",
      "source": [],
      "metadata": {
        "id": "8L1xbL-6U2iP"
      },
      "execution_count": null,
      "outputs": []
    }
  ]
}