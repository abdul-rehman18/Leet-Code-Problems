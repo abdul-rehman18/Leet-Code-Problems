{
  "nbformat": 4,
  "nbformat_minor": 0,
  "metadata": {
    "colab": {
      "provenance": []
    },
    "kernelspec": {
      "name": "python3",
      "display_name": "Python 3"
    },
    "language_info": {
      "name": "python"
    }
  },
  "cells": [
    {
      "cell_type": "markdown",
      "source": [
        "# LeetCode Problem: Remove Nodes From Linked List"
      ],
      "metadata": {
        "id": "xN5BKXNzr4Hm"
      }
    },
    {
      "cell_type": "code",
      "execution_count": 2,
      "metadata": {
        "colab": {
          "base_uri": "https://localhost:8080/"
        },
        "id": "NyT95tSZrSkW",
        "outputId": "70acc214-db4c-41e5-9ed1-fdb558a860b5"
      },
      "outputs": [
        {
          "output_type": "stream",
          "name": "stdout",
          "text": [
            "6 -> 6 -> None\n"
          ]
        }
      ],
      "source": [
        "# Definition for singly-linked list.\n",
        "class ListNode:\n",
        "    def __init__(self, val=0, next=None):\n",
        "        self.val = val\n",
        "        self.next = next\n",
        "class Solution:\n",
        "    def removeNodes(self, head):\n",
        "        cur = head\n",
        "        stack = []\n",
        "        while cur:\n",
        "            while stack and stack[-1].val < cur.val:\n",
        "                stack.pop()\n",
        "            stack.append(cur)\n",
        "            cur = cur.next\n",
        "\n",
        "        nxt = None\n",
        "        while stack:\n",
        "            cur = stack.pop()\n",
        "            cur.next = nxt\n",
        "            nxt = cur\n",
        "\n",
        "        return cur\n",
        "\n",
        "\n",
        "if __name__ == \"__main__\":\n",
        "    # Create a sample linked list: 1 -> 2 -> 6 -> 3 -> 4 -> 5 -> 6\n",
        "    head = ListNode(1)\n",
        "    head.next = ListNode(2)\n",
        "    head.next.next = ListNode(6)\n",
        "    head.next.next.next = ListNode(3)\n",
        "    head.next.next.next.next = ListNode(4)\n",
        "    head.next.next.next.next.next = ListNode(5)\n",
        "    head.next.next.next.next.next.next = ListNode(6)\n",
        "\n",
        "    # Instantiate the Solution class\n",
        "    solution = Solution()\n",
        "\n",
        "    # Call the removeNodes function\n",
        "    result_head = solution.removeNodes(head)\n",
        "\n",
        "    # Print the result\n",
        "    while result_head:\n",
        "        print(result_head.val, end=\" -> \")\n",
        "        result_head = result_head.next\n",
        "    print(\"None\")\n"
      ]
    },
    {
      "cell_type": "code",
      "source": [],
      "metadata": {
        "id": "LLY7BUyJsbrB"
      },
      "execution_count": null,
      "outputs": []
    }
  ]
}