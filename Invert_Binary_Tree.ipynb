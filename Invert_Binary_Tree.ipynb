{
  "nbformat": 4,
  "nbformat_minor": 0,
  "metadata": {
    "colab": {
      "provenance": []
    },
    "kernelspec": {
      "name": "python3",
      "display_name": "Python 3"
    },
    "language_info": {
      "name": "python"
    }
  },
  "cells": [
    {
      "cell_type": "markdown",
      "source": [
        "# LeetCode Problem: Invert Binary Tree"
      ],
      "metadata": {
        "id": "xMIbWaegnzhP"
      }
    },
    {
      "cell_type": "code",
      "execution_count": 2,
      "metadata": {
        "colab": {
          "base_uri": "https://localhost:8080/"
        },
        "id": "iS3LsAzKkUDy",
        "outputId": "fa73c823-0530-4391-813d-7252af8197f3"
      },
      "outputs": [
        {
          "output_type": "stream",
          "name": "stdout",
          "text": [
            "Original Tree:\n",
            "4 2 5 1 3 \n",
            "\n",
            "Inverted Tree:\n",
            "3 1 5 2 4 "
          ]
        }
      ],
      "source": [
        "class TreeNode:\n",
        "    def __init__(self, val=0, left=None, right=None):\n",
        "        self.val = val\n",
        "        self.left = left\n",
        "        self.right = right\n",
        "class Solution:\n",
        "    def invertTree(self, root):\n",
        "        if root:\n",
        "            root.left,root.right = root.right,root.left\n",
        "            self.invertTree(root.left)\n",
        "            self.invertTree(root.right)\n",
        "        return root\n",
        "\n",
        "def print_tree(root):\n",
        "    if root:\n",
        "        print_tree(root.left)\n",
        "        print(root.val, end=' ')\n",
        "        print_tree(root.right)\n",
        "\n",
        "if __name__ == \"__main__\":\n",
        "\n",
        "    root = TreeNode(1)\n",
        "    root.left = TreeNode(2)\n",
        "    root.right = TreeNode(3)\n",
        "    root.left.left = TreeNode(4)\n",
        "    root.left.right = TreeNode(5)\n",
        "\n",
        "    print(\"Original Tree:\")\n",
        "    print_tree(root)\n",
        "    print(\"\\n\")\n",
        "\n",
        "    solution = Solution()\n",
        "    inverted_root = solution.invertTree(root)\n",
        "\n",
        "    print(\"Inverted Tree:\")\n",
        "    print_tree(inverted_root)\n",
        ""
      ]
    },
    {
      "cell_type": "code",
      "source": [],
      "metadata": {
        "id": "eaBhp9pSqH_p"
      },
      "execution_count": null,
      "outputs": []
    }
  ]
}