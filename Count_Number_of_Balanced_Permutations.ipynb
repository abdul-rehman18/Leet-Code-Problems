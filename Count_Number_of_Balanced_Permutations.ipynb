{
  "nbformat": 4,
  "nbformat_minor": 0,
  "metadata": {
    "colab": {
      "provenance": []
    },
    "kernelspec": {
      "name": "python3",
      "display_name": "Python 3"
    },
    "language_info": {
      "name": "python"
    }
  },
  "cells": [
    {
      "cell_type": "markdown",
      "source": [
        "# LeetCode Problem: Count Number of Balanced Permutations"
      ],
      "metadata": {
        "id": "OLCp6OCYWmiX"
      }
    },
    {
      "cell_type": "code",
      "execution_count": null,
      "metadata": {
        "id": "0rcmth2VWjBy"
      },
      "outputs": [],
      "source": [
        "MOD = 10**9 + 7\n",
        "\n",
        "class Solution:\n",
        "    def __init__(self):\n",
        "        self.fact = []\n",
        "        self.inv = []\n",
        "        self.invFact = []\n",
        "\n",
        "    def precompute(self, n):\n",
        "        self.fact = [1] * (n + 1)\n",
        "        self.inv = [1] * (n + 1)\n",
        "        self.invFact = [1] * (n + 1)\n",
        "\n",
        "        for i in range(1, n + 1):\n",
        "            self.fact[i] = self.fact[i - 1] * i % MOD\n",
        "\n",
        "        for i in range(2, n + 1):\n",
        "            self.inv[i] = MOD - MOD // i * self.inv[MOD % i] % MOD\n",
        "\n",
        "        for i in range(1, n + 1):\n",
        "            self.invFact[i] = self.invFact[i - 1] * self.inv[i] % MOD\n",
        "\n",
        "    def countBalancedPermutations(self, num: str) -> int:\n",
        "        n = len(num)\n",
        "        digit_values = [int(c) for c in num]\n",
        "        total_sum = sum(digit_values)\n",
        "\n",
        "        if total_sum % 2 == 1:\n",
        "            return 0\n",
        "\n",
        "        self.precompute(n)\n",
        "\n",
        "        half_sum = total_sum // 2\n",
        "        half_len = n // 2\n",
        "\n",
        "        dp = [[0] * (half_len + 1) for _ in range(half_sum + 1)]\n",
        "        dp[0][0] = 1\n",
        "\n",
        "        digit_count = [0] * 10\n",
        "        for d in digit_values:\n",
        "            digit_count[d] += 1\n",
        "            for s in range(half_sum, d - 1, -1):\n",
        "                for l in range(half_len, 0, -1):\n",
        "                    dp[s][l] = (dp[s][l] + dp[s - d][l - 1]) % MOD\n",
        "\n",
        "        res = dp[half_sum][half_len]\n",
        "        res = res * self.fact[half_len] % MOD\n",
        "        res = res * self.fact[n - half_len] % MOD\n",
        "\n",
        "        for cnt in digit_count:\n",
        "            res = res * self.invFact[cnt] % MOD\n",
        "\n",
        "        return res"
      ]
    }
  ]
}