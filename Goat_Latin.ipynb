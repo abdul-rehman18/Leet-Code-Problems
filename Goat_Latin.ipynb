{
  "nbformat": 4,
  "nbformat_minor": 0,
  "metadata": {
    "colab": {
      "provenance": []
    },
    "kernelspec": {
      "name": "python3",
      "display_name": "Python 3"
    },
    "language_info": {
      "name": "python"
    }
  },
  "cells": [
    {
      "cell_type": "markdown",
      "source": [
        "# LeetCode Problem: Goat Latin"
      ],
      "metadata": {
        "id": "tNHj6dwTQ7bS"
      }
    },
    {
      "cell_type": "code",
      "execution_count": 1,
      "metadata": {
        "colab": {
          "base_uri": "https://localhost:8080/"
        },
        "id": "N1r_LBooQ097",
        "outputId": "9562ec2d-e395-4a69-b8e4-da3f824e0d89"
      },
      "outputs": [
        {
          "output_type": "stream",
          "name": "stdout",
          "text": [
            "Imaa peaksmaaa oatGmaaaa atinLmaaaaa\n"
          ]
        }
      ],
      "source": [
        "def toGoatLatin(S):\n",
        "        temp = []\n",
        "        ans = \" \"\n",
        "        i = 1\n",
        "        vowel = ['a', 'e', 'i', 'o', 'u', 'A', 'E', 'I', 'O', 'U']\n",
        "        for word in S.split(\" \"):\n",
        "            if word[0] in vowel:\n",
        "                word = word + \"ma\"\n",
        "            else:\n",
        "                word = word[1:] + word[0] + \"ma\"\n",
        "            word = word + \"a\"*i\n",
        "            i = i + 1\n",
        "            temp.append(word)\n",
        "        return ans.join(temp)\n",
        "\n",
        "S = \"I speak Goat Latin\"\n",
        "print(toGoatLatin(S))"
      ]
    },
    {
      "cell_type": "code",
      "source": [],
      "metadata": {
        "id": "wB2-cUAPRHVJ"
      },
      "execution_count": null,
      "outputs": []
    }
  ]
}