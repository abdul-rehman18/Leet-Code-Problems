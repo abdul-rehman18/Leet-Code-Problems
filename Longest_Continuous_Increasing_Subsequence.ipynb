{
  "nbformat": 4,
  "nbformat_minor": 0,
  "metadata": {
    "colab": {
      "provenance": []
    },
    "kernelspec": {
      "name": "python3",
      "display_name": "Python 3"
    },
    "language_info": {
      "name": "python"
    }
  },
  "cells": [
    {
      "cell_type": "markdown",
      "source": [
        "# LeetCode Problem: Longest Continuous Increasing Subsequence"
      ],
      "metadata": {
        "id": "_g7Tqw2JnTcX"
      }
    },
    {
      "cell_type": "code",
      "execution_count": 1,
      "metadata": {
        "colab": {
          "base_uri": "https://localhost:8080/"
        },
        "id": "HNvA0r9rlu1k",
        "outputId": "26dddd4c-2803-4a8e-d792-9b0acd1cf0b4"
      },
      "outputs": [
        {
          "output_type": "stream",
          "name": "stdout",
          "text": [
            "3\n"
          ]
        }
      ],
      "source": [
        "def findLengthOfLCIS(nums):\n",
        "        if not nums:\n",
        "            return 0\n",
        "\n",
        "        cur_len = 1\n",
        "        max_len = 1\n",
        "\n",
        "        for i in range(1,len(nums)):\n",
        "            if nums[i] > nums[i-1]:\n",
        "                cur_len += 1\n",
        "            else:\n",
        "                max_len = max(max_len,cur_len)\n",
        "                cur_len = 1\n",
        "\n",
        "        return max(max_len,cur_len)\n",
        "\n",
        "nums = [1,3,5,4,7]\n",
        "print(findLengthOfLCIS(nums))"
      ]
    },
    {
      "cell_type": "code",
      "source": [],
      "metadata": {
        "id": "PYuI-1XNnhx1"
      },
      "execution_count": null,
      "outputs": []
    }
  ]
}