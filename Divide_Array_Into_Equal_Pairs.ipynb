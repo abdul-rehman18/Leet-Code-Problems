{
  "nbformat": 4,
  "nbformat_minor": 0,
  "metadata": {
    "colab": {
      "provenance": []
    },
    "kernelspec": {
      "name": "python3",
      "display_name": "Python 3"
    },
    "language_info": {
      "name": "python"
    }
  },
  "cells": [
    {
      "cell_type": "markdown",
      "source": [
        "# LeetCode Problem: Divide Array Into Equal Pairs"
      ],
      "metadata": {
        "id": "alrjMU33QgqH"
      }
    },
    {
      "cell_type": "code",
      "execution_count": null,
      "metadata": {
        "id": "MzYfXTivPfjf"
      },
      "outputs": [],
      "source": [
        "class Solution:\n",
        "    def divideArray(self, nums: List[int]) -> bool:\n",
        "        counter = {}\n",
        "        for num in nums:\n",
        "            counter[num] = counter.get(num, 0) + 1\n",
        "\n",
        "        for count in counter.values():\n",
        "            if count % 2 != 0:\n",
        "                return False\n",
        "\n",
        "        return True"
      ]
    }
  ]
}