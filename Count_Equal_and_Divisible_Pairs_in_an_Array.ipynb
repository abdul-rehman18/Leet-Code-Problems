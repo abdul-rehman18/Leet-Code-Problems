{
  "nbformat": 4,
  "nbformat_minor": 0,
  "metadata": {
    "colab": {
      "provenance": []
    },
    "kernelspec": {
      "name": "python3",
      "display_name": "Python 3"
    },
    "language_info": {
      "name": "python"
    }
  },
  "cells": [
    {
      "cell_type": "markdown",
      "source": [
        "# LeetCode Problem: Count Equal and Divisible Pairs in an Array"
      ],
      "metadata": {
        "id": "kSQaSk-XCl9W"
      }
    },
    {
      "cell_type": "code",
      "execution_count": null,
      "metadata": {
        "id": "qWKo7jD4CgHN"
      },
      "outputs": [],
      "source": [
        "class Solution:\n",
        "    def countPairs(self, nums: List[int], k: int) -> int:\n",
        "        pos = defaultdict(list)\n",
        "        count = 0\n",
        "        for i, val in enumerate(nums):\n",
        "            for j in pos[val]:\n",
        "                if (i * j) % k == 0:\n",
        "                    count += 1\n",
        "            pos[val].append(i)\n",
        "        return count"
      ]
    }
  ]
}