{
  "nbformat": 4,
  "nbformat_minor": 0,
  "metadata": {
    "colab": {
      "provenance": []
    },
    "kernelspec": {
      "name": "python3",
      "display_name": "Python 3"
    },
    "language_info": {
      "name": "python"
    }
  },
  "cells": [
    {
      "cell_type": "markdown",
      "source": [
        "# LeetCode Problem: Self Dividing Numbers"
      ],
      "metadata": {
        "id": "NfWY5UDSeIk0"
      }
    },
    {
      "cell_type": "code",
      "execution_count": 6,
      "metadata": {
        "colab": {
          "base_uri": "https://localhost:8080/"
        },
        "id": "Um1lvLVXc27y",
        "outputId": "b0531592-a101-4464-cb7e-a4a1986b496a"
      },
      "outputs": [
        {
          "output_type": "stream",
          "name": "stdout",
          "text": [
            "[1, 2, 3, 4, 5, 6, 7, 8, 9, 11, 12, 15, 22]\n"
          ]
        }
      ],
      "source": [
        "def selfDividingNumbers(left, right):\n",
        "  ans = []\n",
        "  for val in range(left, right+1, 1):\n",
        "    div = val\n",
        "    while div > 0:\n",
        "      mod = div % 10\n",
        "      if mod == 0:\n",
        "        break\n",
        "      if val % mod == 0:\n",
        "        div = div//10\n",
        "      else:\n",
        "        break\n",
        "      if div == 0:\n",
        "        ans.append(val)\n",
        "  return ans\n",
        "\n",
        "left = 1\n",
        "right = 22\n",
        "print(selfDividingNumbers(left, right))"
      ]
    },
    {
      "cell_type": "code",
      "source": [],
      "metadata": {
        "id": "IVR5rsLmdZka"
      },
      "execution_count": null,
      "outputs": []
    }
  ]
}