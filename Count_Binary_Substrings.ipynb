{
  "nbformat": 4,
  "nbformat_minor": 0,
  "metadata": {
    "colab": {
      "provenance": []
    },
    "kernelspec": {
      "name": "python3",
      "display_name": "Python 3"
    },
    "language_info": {
      "name": "python"
    }
  },
  "cells": [
    {
      "cell_type": "markdown",
      "source": [
        "# LeetCode Problem: Count Binary Substrings"
      ],
      "metadata": {
        "id": "92bahnGFAJGV"
      }
    },
    {
      "cell_type": "code",
      "execution_count": 2,
      "metadata": {
        "colab": {
          "base_uri": "https://localhost:8080/"
        },
        "id": "Xlan_oe3-vLu",
        "outputId": "580db8c1-3e26-41df-8073-f1aad8e04148"
      },
      "outputs": [
        {
          "output_type": "stream",
          "name": "stdout",
          "text": [
            "6\n"
          ]
        }
      ],
      "source": [
        "def countBinarySubstrings(s):\n",
        "        # Initialize variables\n",
        "        pre_len = 0\n",
        "        cur_len = 1\n",
        "        count = 0\n",
        "\n",
        "        # Traverse through the string\n",
        "        for i in range(1, len(s)):\n",
        "            # If the current character is the same as the previous character\n",
        "            if s[i] == s[i-1]:\n",
        "                cur_len += 1\n",
        "            # If the current character is different from the previous character\n",
        "            else:\n",
        "                pre_len = cur_len\n",
        "                cur_len = 1\n",
        "\n",
        "            # If the previous length is greater than or equal to the current length\n",
        "            # then we have a valid substring\n",
        "            if pre_len >= cur_len:\n",
        "                count += 1\n",
        "\n",
        "        # Return the total count of valid substrings\n",
        "        return count\n",
        "\n",
        "s=\"00110011\"\n",
        "print(countBinarySubstrings(s))"
      ]
    },
    {
      "cell_type": "code",
      "source": [],
      "metadata": {
        "id": "kN96lnoyAEcc"
      },
      "execution_count": null,
      "outputs": []
    }
  ]
}