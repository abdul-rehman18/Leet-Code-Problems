{
  "nbformat": 4,
  "nbformat_minor": 0,
  "metadata": {
    "colab": {
      "provenance": []
    },
    "kernelspec": {
      "name": "python3",
      "display_name": "Python 3"
    },
    "language_info": {
      "name": "python"
    }
  },
  "cells": [
    {
      "cell_type": "markdown",
      "source": [
        "# LeetCode Problem: Sort Colors"
      ],
      "metadata": {
        "id": "c8NUMBefYBGC"
      }
    },
    {
      "cell_type": "code",
      "execution_count": 1,
      "metadata": {
        "colab": {
          "base_uri": "https://localhost:8080/"
        },
        "id": "sThjmdhbX4b0",
        "outputId": "bd0e9726-0916-47ba-e23e-a6b0f54d7ac5"
      },
      "outputs": [
        {
          "output_type": "stream",
          "name": "stdout",
          "text": [
            "[0, 0, 1, 1, 2, 2]\n"
          ]
        }
      ],
      "source": [
        "def sortColors(nums):\n",
        "        freq=[0]*3\n",
        "        for x in nums: freq[x]+=1\n",
        "        count=0\n",
        "        for x in range(3):\n",
        "            nums[count:count+freq[x]] = [x]*freq[x]\n",
        "            count+= freq[x]\n",
        "        return nums\n",
        "\n",
        "nums = [2,0,2,1,1,0]\n",
        "print(sortColors(nums))"
      ]
    },
    {
      "cell_type": "code",
      "source": [],
      "metadata": {
        "id": "A9noBMdpYZEN"
      },
      "execution_count": null,
      "outputs": []
    }
  ]
}