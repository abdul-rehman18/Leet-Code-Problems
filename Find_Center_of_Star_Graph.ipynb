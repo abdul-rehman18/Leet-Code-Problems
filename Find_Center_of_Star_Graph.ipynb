{
  "nbformat": 4,
  "nbformat_minor": 0,
  "metadata": {
    "colab": {
      "provenance": []
    },
    "kernelspec": {
      "name": "python3",
      "display_name": "Python 3"
    },
    "language_info": {
      "name": "python"
    }
  },
  "cells": [
    {
      "cell_type": "markdown",
      "source": [
        "# LeetCode Problem: Find Center of Star Graph"
      ],
      "metadata": {
        "id": "MRpK0wmAi-zS"
      }
    },
    {
      "cell_type": "code",
      "execution_count": 1,
      "metadata": {
        "colab": {
          "base_uri": "https://localhost:8080/"
        },
        "id": "Lmkken7Bi5g8",
        "outputId": "82928a38-433b-44c1-da71-13ded4ef2c01"
      },
      "outputs": [
        {
          "output_type": "stream",
          "name": "stdout",
          "text": [
            "2\n"
          ]
        }
      ],
      "source": [
        "def findCenter(edges):\n",
        "        return edges[0][0] if edges[0][0] in edges[1] else edges[0][1]\n",
        "\n",
        "edges = [[1,2],[2,3],[4,2]]\n",
        "print(findCenter(edges))"
      ]
    },
    {
      "cell_type": "code",
      "source": [],
      "metadata": {
        "id": "T_PFeqwZjNk-"
      },
      "execution_count": null,
      "outputs": []
    }
  ]
}