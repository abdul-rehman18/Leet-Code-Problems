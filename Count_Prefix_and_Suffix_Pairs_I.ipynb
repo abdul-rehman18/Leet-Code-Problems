{
  "nbformat": 4,
  "nbformat_minor": 0,
  "metadata": {
    "colab": {
      "provenance": []
    },
    "kernelspec": {
      "name": "python3",
      "display_name": "Python 3"
    },
    "language_info": {
      "name": "python"
    }
  },
  "cells": [
    {
      "cell_type": "markdown",
      "source": [
        "# LeetCode Problem: Count Prefix and Suffix Pairs I"
      ],
      "metadata": {
        "id": "G0nZpMPjKFqq"
      }
    },
    {
      "cell_type": "code",
      "execution_count": null,
      "metadata": {
        "id": "GyhIMFFmJwJP"
      },
      "outputs": [],
      "source": [
        "class Solution:\n",
        "    def isPrefixAndSuffix(self, str1, str2):\n",
        "        n1, n2 = len(str1), len(str2)\n",
        "        if n1 > n2:\n",
        "            return False\n",
        "        return str2[:n1] == str1 and str2[-n1:] == str1\n",
        "\n",
        "    def countPrefixSuffixPairs(self, words):\n",
        "        n = len(words)\n",
        "        count = 0\n",
        "        for i in range(n):\n",
        "            for j in range(i + 1, n):\n",
        "                if self.isPrefixAndSuffix(words[i], words[j]):\n",
        "                    count += 1\n",
        "        return count\n",
        "\n",
        "\n",
        "words = [\"a\",\"aba\",\"ababa\",\"aa\"]\n",
        "\n",
        "\n",
        "sol = Solution()\n"
      ]
    }
  ]
}