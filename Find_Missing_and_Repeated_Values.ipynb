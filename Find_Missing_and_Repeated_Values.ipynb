{
  "nbformat": 4,
  "nbformat_minor": 0,
  "metadata": {
    "colab": {
      "provenance": []
    },
    "kernelspec": {
      "name": "python3",
      "display_name": "Python 3"
    },
    "language_info": {
      "name": "python"
    }
  },
  "cells": [
    {
      "cell_type": "markdown",
      "source": [
        "# LeetCode Problem: Find Missing and Repeated Values"
      ],
      "metadata": {
        "id": "xH830iXpRJOW"
      }
    },
    {
      "cell_type": "code",
      "execution_count": null,
      "metadata": {
        "id": "OJUHwvWRMxgc"
      },
      "outputs": [],
      "source": [
        "class Solution:\n",
        "    def findMissingAndRepeatedValues(self, grid: List[List[int]]) -> List[int]:\n",
        "        n = len(grid)\n",
        "        size = n * n\n",
        "\n",
        "        count = [0] * (size + 1)\n",
        "\n",
        "        for i in range(n):\n",
        "            for j in range(n):\n",
        "                count[grid[i][j]] += 1\n",
        "\n",
        "        a, b = -1, -1\n",
        "\n",
        "        for num in range(1, size + 1):\n",
        "            if count[num] == 2:\n",
        "                a = num\n",
        "            elif count[num] == 0:\n",
        "                b = num\n",
        "\n",
        "        return [a, b]"
      ]
    }
  ]
}