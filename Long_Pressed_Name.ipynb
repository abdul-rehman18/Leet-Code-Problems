{
  "nbformat": 4,
  "nbformat_minor": 0,
  "metadata": {
    "colab": {
      "provenance": []
    },
    "kernelspec": {
      "name": "python3",
      "display_name": "Python 3"
    },
    "language_info": {
      "name": "python"
    }
  },
  "cells": [
    {
      "cell_type": "markdown",
      "source": [
        "# LeetCode Problem: Long Pressed Name"
      ],
      "metadata": {
        "id": "ldqmjH5fYcBu"
      }
    },
    {
      "cell_type": "code",
      "execution_count": 1,
      "metadata": {
        "colab": {
          "base_uri": "https://localhost:8080/"
        },
        "id": "wf8QdQdyWwVN",
        "outputId": "f37b8d40-3200-4993-92a9-539d88187f59"
      },
      "outputs": [
        {
          "output_type": "stream",
          "name": "stdout",
          "text": [
            "True\n"
          ]
        }
      ],
      "source": [
        "def isLongPressedName(name, typed):\n",
        "        i, j = 0, 0\n",
        "        while j < len(typed):\n",
        "            if i < len(name) and name[i] == typed[j]:\n",
        "                i += 1\n",
        "                j += 1\n",
        "            elif j > 0 and typed[j-1] == typed[j]:\n",
        "                j += 1\n",
        "            else:\n",
        "                return False\n",
        "\n",
        "        return i == len(name)\n",
        "\n",
        "\n",
        "\n",
        "name = \"alex\"\n",
        "typed = \"aaleex\"\n",
        "print(isLongPressedName(name, typed))"
      ]
    },
    {
      "cell_type": "code",
      "source": [],
      "metadata": {
        "id": "cO6PRJrHYVDu"
      },
      "execution_count": null,
      "outputs": []
    }
  ]
}