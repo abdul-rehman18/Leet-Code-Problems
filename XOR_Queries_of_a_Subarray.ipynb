{
  "nbformat": 4,
  "nbformat_minor": 0,
  "metadata": {
    "colab": {
      "provenance": []
    },
    "kernelspec": {
      "name": "python3",
      "display_name": "Python 3"
    },
    "language_info": {
      "name": "python"
    }
  },
  "cells": [
    {
      "cell_type": "markdown",
      "source": [
        "# LeetCode Problem: XOR Queries of a Subarray"
      ],
      "metadata": {
        "id": "hh9LdhNMidwA"
      }
    },
    {
      "cell_type": "code",
      "execution_count": 2,
      "metadata": {
        "colab": {
          "base_uri": "https://localhost:8080/"
        },
        "id": "RK8LmZRliYQ3",
        "outputId": "88eb5b38-c8ed-4cb5-e08e-47b15613f181"
      },
      "outputs": [
        {
          "output_type": "stream",
          "name": "stdout",
          "text": [
            "[2, 7, 14, 8]\n"
          ]
        }
      ],
      "source": [
        "def xorQueries(arr, queries):\n",
        "        n = len(arr)\n",
        "        prefix = [0] * n\n",
        "        ans = []\n",
        "        prefix[0] = arr[0]\n",
        "        for i in range(1, n):\n",
        "            prefix[i] = prefix[i - 1] ^ arr[i]\n",
        "        for left, right in queries:\n",
        "            if left == 0:\n",
        "                ans.append(prefix[right])\n",
        "            else:\n",
        "                ans.append(prefix[right] ^ prefix[left - 1])\n",
        "        return ans\n",
        "\n",
        "arr = [1,3,4,8]\n",
        "queries = [[0,1],[1,2],[0,3],[3,3]]\n",
        "\n",
        "print(xorQueries(arr, queries))"
      ]
    },
    {
      "cell_type": "code",
      "source": [],
      "metadata": {
        "id": "B6LeQbUyi11Q"
      },
      "execution_count": null,
      "outputs": []
    }
  ]
}