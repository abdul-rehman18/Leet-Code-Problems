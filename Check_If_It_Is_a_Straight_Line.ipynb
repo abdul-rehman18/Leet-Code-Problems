{
  "nbformat": 4,
  "nbformat_minor": 0,
  "metadata": {
    "colab": {
      "provenance": []
    },
    "kernelspec": {
      "name": "python3",
      "display_name": "Python 3"
    },
    "language_info": {
      "name": "python"
    }
  },
  "cells": [
    {
      "cell_type": "markdown",
      "source": [
        "# LeetCode Problem: Check If It Is a Straight Line"
      ],
      "metadata": {
        "id": "Yrfw-nz1Wy-0"
      }
    },
    {
      "cell_type": "code",
      "execution_count": 1,
      "metadata": {
        "colab": {
          "base_uri": "https://localhost:8080/"
        },
        "id": "giSasSPuWucg",
        "outputId": "d21ea948-d819-481a-9bdd-17e49aaab79f"
      },
      "outputs": [
        {
          "output_type": "stream",
          "name": "stdout",
          "text": [
            "True\n"
          ]
        }
      ],
      "source": [
        "def checkStraightLine(coordinates):\n",
        "        x0, y0 = coordinates[0]\n",
        "        x1, y1 = coordinates[1]\n",
        "        dx, dy = x1 - x0, y1 - y0\n",
        "        return all(dx * (y - y0) == dy * (x - x0) for x, y in coordinates[1:])\n",
        "\n",
        "coordinates = [[1,2],[2,3],[3,4],[4,5],[5,6],[6,7]]\n",
        "print(checkStraightLine(coordinates))"
      ]
    },
    {
      "cell_type": "code",
      "source": [],
      "metadata": {
        "id": "7CUUL94jXHJS"
      },
      "execution_count": null,
      "outputs": []
    }
  ]
}