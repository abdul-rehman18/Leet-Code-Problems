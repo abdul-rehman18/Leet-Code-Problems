{
  "nbformat": 4,
  "nbformat_minor": 0,
  "metadata": {
    "colab": {
      "provenance": []
    },
    "kernelspec": {
      "name": "python3",
      "display_name": "Python 3"
    },
    "language_info": {
      "name": "python"
    }
  },
  "cells": [
    {
      "cell_type": "markdown",
      "source": [
        "# LeetCode Problem: Defanging an IP Address"
      ],
      "metadata": {
        "id": "YRob-WIwhcG-"
      }
    },
    {
      "cell_type": "code",
      "execution_count": 2,
      "metadata": {
        "colab": {
          "base_uri": "https://localhost:8080/"
        },
        "id": "06kMXQ5ggxNP",
        "outputId": "9e87d938-6588-42b0-e731-244ef21f9ff0"
      },
      "outputs": [
        {
          "output_type": "stream",
          "name": "stdout",
          "text": [
            "1[.]1[.]1[.]1\n"
          ]
        }
      ],
      "source": [
        "def defangIPaddr(address):\n",
        "        return address.replace(\".\",\"[.]\")\n",
        "\n",
        "\n",
        "address = \"1.1.1.1\"\n",
        "print(defangIPaddr(address))"
      ]
    },
    {
      "cell_type": "code",
      "source": [],
      "metadata": {
        "id": "pzx_h4Eyh5qy"
      },
      "execution_count": null,
      "outputs": []
    }
  ]
}