{
  "nbformat": 4,
  "nbformat_minor": 0,
  "metadata": {
    "colab": {
      "provenance": []
    },
    "kernelspec": {
      "name": "python3",
      "display_name": "Python 3"
    },
    "language_info": {
      "name": "python"
    }
  },
  "cells": [
    {
      "cell_type": "markdown",
      "source": [
        "# LeetCode Problem: Find the City With the Smallest Number of Neighbors at a Threshold Distance"
      ],
      "metadata": {
        "id": "YEU1u_MbF8Vn"
      }
    },
    {
      "cell_type": "code",
      "execution_count": 1,
      "metadata": {
        "colab": {
          "base_uri": "https://localhost:8080/"
        },
        "id": "jRKyhp-hF1MJ",
        "outputId": "9c96eff1-3ab0-49e9-e2fa-26a87ddc510d"
      },
      "outputs": [
        {
          "output_type": "stream",
          "name": "stdout",
          "text": [
            "3\n"
          ]
        }
      ],
      "source": [
        "def findTheCity(n, edges, distanceThreshold):\n",
        "        # Initialize the distance matrix with infinity\n",
        "        dist = [[float('inf')] * n for _ in range(n)]\n",
        "\n",
        "        # Distance to itself is 0\n",
        "        for i in range(n):\n",
        "            dist[i][i] = 0\n",
        "\n",
        "        # Populate the distance matrix with the given edges\n",
        "        for u, v, w in edges:\n",
        "            dist[u][v] = w\n",
        "            dist[v][u] = w\n",
        "\n",
        "        # Floyd-Warshall algorithm\n",
        "        for k in range(n):\n",
        "            for i in range(n):\n",
        "                for j in range(n):\n",
        "                    if dist[i][j] > dist[i][k] + dist[k][j]:\n",
        "                        dist[i][j] = dist[i][k] + dist[k][j]\n",
        "\n",
        "        # Find the city with the smallest number of reachable cities\n",
        "        # and if there is a tie, choose the city with the greatest number.\n",
        "        minReachableCities = float('inf')\n",
        "        bestCity = -1\n",
        "\n",
        "        for i in range(n):\n",
        "            reachableCities = 0\n",
        "            for j in range(n):\n",
        "                if dist[i][j] <= distanceThreshold:\n",
        "                    reachableCities += 1\n",
        "\n",
        "            if reachableCities <= minReachableCities:\n",
        "                minReachableCities = reachableCities\n",
        "                bestCity = i\n",
        "\n",
        "        return bestCity\n",
        "\n",
        "n = 4\n",
        "edges = [[0,1,3],[1,2,1],[1,3,4],[2,3,1]]\n",
        "distanceThreshold = 4\n",
        "\n",
        "\n",
        "print(findTheCity(n, edges, distanceThreshold))"
      ]
    },
    {
      "cell_type": "code",
      "source": [],
      "metadata": {
        "id": "TYaYalq0GaNo"
      },
      "execution_count": null,
      "outputs": []
    }
  ]
}