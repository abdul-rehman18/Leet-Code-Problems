{
  "nbformat": 4,
  "nbformat_minor": 0,
  "metadata": {
    "colab": {
      "provenance": []
    },
    "kernelspec": {
      "name": "python3",
      "display_name": "Python 3"
    },
    "language_info": {
      "name": "python"
    }
  },
  "cells": [
    {
      "cell_type": "markdown",
      "source": [
        "# LeetCode Problem: Push Dominoes"
      ],
      "metadata": {
        "id": "KeZ2HPZ-4DwO"
      }
    },
    {
      "cell_type": "code",
      "execution_count": null,
      "metadata": {
        "id": "TVzNiCbg4CFi"
      },
      "outputs": [],
      "source": [
        "class Solution:\n",
        "    def pushDominoes(self, dominoes: str) -> str:\n",
        "        dominoes = list(dominoes)\n",
        "        n = len(dominoes)\n",
        "        last_right = -1\n",
        "        last_left = 0\n",
        "\n",
        "        for i, d in enumerate(dominoes):\n",
        "            if d == 'R':\n",
        "                if last_right != -1:\n",
        "                    for j in range(last_right + 1, i):\n",
        "                        dominoes[j] = 'R'\n",
        "                last_right = i\n",
        "            elif d == 'L':\n",
        "                if last_right != -1:\n",
        "                    l, r = last_right + 1, i - 1\n",
        "                    while l < r:\n",
        "                        dominoes[l], dominoes[r] = 'R', 'L'\n",
        "                        l += 1\n",
        "                        r -= 1\n",
        "                    last_right = -1\n",
        "                else:\n",
        "                    for j in range(last_left, i):\n",
        "                        dominoes[j] = 'L'\n",
        "                last_left = i\n",
        "\n",
        "        if last_right != -1:\n",
        "            for i in range(last_right + 1, n):\n",
        "                dominoes[i] = 'R'\n",
        "\n",
        "        return ''.join(dominoes)"
      ]
    }
  ]
}