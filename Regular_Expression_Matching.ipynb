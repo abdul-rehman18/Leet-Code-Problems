{
  "nbformat": 4,
  "nbformat_minor": 0,
  "metadata": {
    "colab": {
      "provenance": []
    },
    "kernelspec": {
      "name": "python3",
      "display_name": "Python 3"
    },
    "language_info": {
      "name": "python"
    }
  },
  "cells": [
    {
      "cell_type": "markdown",
      "source": [
        "# LeetCode Problem: Regular Expression Matching"
      ],
      "metadata": {
        "id": "qrKHSn1sEpRO"
      }
    },
    {
      "cell_type": "code",
      "execution_count": 1,
      "metadata": {
        "colab": {
          "base_uri": "https://localhost:8080/"
        },
        "id": "i6IaztnXZCc7",
        "outputId": "56528002-0d1a-40b4-be40-6b32ff871052"
      },
      "outputs": [
        {
          "output_type": "stream",
          "name": "stdout",
          "text": [
            "False\n"
          ]
        }
      ],
      "source": [
        "def isMatch(s, p):\n",
        "        n_s = len(s)\n",
        "        n_p = len(p)\n",
        "        dp = [[False]*(n_p+1) for _ in range(n_s+1)]\n",
        "        dp[0][0] = True\n",
        "\n",
        "        for i in range(1,n_p+1):\n",
        "            if p[i-1] == \"*\":\n",
        "                dp[0][i] = dp[0][i-2]\n",
        "        for i in range(1,n_s+1):\n",
        "            for j in range(1,n_p+1):\n",
        "                if s[i-1] == p[j-1] or p[j-1] == '.':\n",
        "                    dp[i][j] = dp[i-1][j-1]\n",
        "\n",
        "                elif p[j-1] == \"*\":\n",
        "                    dp[i][j] = dp[i][j-2]\n",
        "                    if p[j-2] == \".\" or p[j-2] == s[i-1]:\n",
        "                        dp[i][j] = dp[i][j] or dp[i-1][j]\n",
        "        return dp[n_s][n_p]\n",
        "\n",
        "\n",
        "s = \"aa\"\n",
        "p = \"a\"\n",
        "print(isMatch(s, p))"
      ]
    },
    {
      "cell_type": "code",
      "source": [],
      "metadata": {
        "id": "03I5ci-vEyma"
      },
      "execution_count": null,
      "outputs": []
    }
  ]
}