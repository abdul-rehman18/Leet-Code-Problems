{
  "nbformat": 4,
  "nbformat_minor": 0,
  "metadata": {
    "colab": {
      "provenance": []
    },
    "kernelspec": {
      "name": "python3",
      "display_name": "Python 3"
    },
    "language_info": {
      "name": "python"
    }
  },
  "cells": [
    {
      "cell_type": "markdown",
      "source": [
        "# LeetCode Problem: Length of Longest Fibonacci Subsequence"
      ],
      "metadata": {
        "id": "9-TP9RJGfTVg"
      }
    },
    {
      "cell_type": "code",
      "execution_count": 2,
      "metadata": {
        "id": "hwvXo-VqfQSe"
      },
      "outputs": [],
      "source": [
        "def lenLongestFibSubseq(arr):\n",
        "        # Store array elements in set for O(1) lookup\n",
        "        num_set = set(arr)\n",
        "        max_len = 0\n",
        "        n = len(arr)\n",
        "\n",
        "        # Try all possible first two numbers of sequence\n",
        "        for start in range(n):\n",
        "            for next in range(start + 1, n):\n",
        "                # Start with first two numbers\n",
        "                prev = arr[next]\n",
        "                curr = arr[start] + arr[next]\n",
        "                curr_len = 2\n",
        "\n",
        "                # Keep finding next Fibonacci number\n",
        "                while curr in num_set:\n",
        "                    prev, curr = curr, curr + prev\n",
        "                    curr_len += 1\n",
        "                    max_len = max(max_len, curr_len)\n",
        "\n",
        "        return max_len\n",
        "\n",
        "\n",
        "arr = [1,2,3,4,5,6,7,8]\n"
      ]
    },
    {
      "cell_type": "code",
      "source": [],
      "metadata": {
        "id": "3ortxPcJfvjb"
      },
      "execution_count": null,
      "outputs": []
    }
  ]
}