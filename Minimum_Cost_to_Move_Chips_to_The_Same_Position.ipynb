{
  "nbformat": 4,
  "nbformat_minor": 0,
  "metadata": {
    "colab": {
      "provenance": []
    },
    "kernelspec": {
      "name": "python3",
      "display_name": "Python 3"
    },
    "language_info": {
      "name": "python"
    }
  },
  "cells": [
    {
      "cell_type": "markdown",
      "source": [
        "# LeetCode Problem: Minimum Cost to Move Chips to The Same Position"
      ],
      "metadata": {
        "id": "clQJqqotTPe2"
      }
    },
    {
      "cell_type": "code",
      "execution_count": 1,
      "metadata": {
        "colab": {
          "base_uri": "https://localhost:8080/"
        },
        "id": "J1UUVT_fSzkm",
        "outputId": "3110eac4-c2dc-47c6-a744-e00c6d16e25c"
      },
      "outputs": [
        {
          "output_type": "stream",
          "name": "stdout",
          "text": [
            "1\n"
          ]
        }
      ],
      "source": [
        "def minCostToMoveChips(position):\n",
        "        even, odd = 0, 0\n",
        "        for num in position:\n",
        "            if num%2:\n",
        "                odd += 1\n",
        "            else:\n",
        "                even += 1\n",
        "        return min(odd, even)\n",
        "\n",
        "position = [1,2,3]\n",
        "print(minCostToMoveChips(position))\n"
      ]
    },
    {
      "cell_type": "code",
      "source": [],
      "metadata": {
        "id": "CKj9RP5VTfJq"
      },
      "execution_count": null,
      "outputs": []
    }
  ]
}