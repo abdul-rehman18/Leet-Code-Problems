{
  "nbformat": 4,
  "nbformat_minor": 0,
  "metadata": {
    "colab": {
      "provenance": []
    },
    "kernelspec": {
      "name": "python3",
      "display_name": "Python 3"
    },
    "language_info": {
      "name": "python"
    }
  },
  "cells": [
    {
      "cell_type": "markdown",
      "source": [
        "# LeetCode Problem: Find the Prefix Common Array of Two Arrays"
      ],
      "metadata": {
        "id": "agUDtUVXh3Pi"
      }
    },
    {
      "cell_type": "code",
      "execution_count": 1,
      "metadata": {
        "colab": {
          "base_uri": "https://localhost:8080/"
        },
        "id": "VeXKU_KfhW_3",
        "outputId": "d2816ee0-ff50-4d4f-cc5e-2485a1f963d2"
      },
      "outputs": [
        {
          "output_type": "stream",
          "name": "stdout",
          "text": [
            "[0, 2, 3, 4]\n"
          ]
        }
      ],
      "source": [
        "def findThePrefixCommonArray(A, B):\n",
        "        n = len(A)\n",
        "        ans = []\n",
        "        seen = [0] * (n + 1)\n",
        "        common = 0\n",
        "\n",
        "        for i in range(n):\n",
        "            if seen[A[i]] == 0:\n",
        "                seen[A[i]] = 1\n",
        "            elif seen[A[i]] == 1:\n",
        "                common += 1\n",
        "            if seen[B[i]] == 0:\n",
        "                seen[B[i]] = 1\n",
        "            elif seen[B[i]] == 1:\n",
        "                common += 1\n",
        "            ans.append(common)\n",
        "        return ans\n",
        "\n",
        "A = [1,3,2,4]\n",
        "B = [3,1,2,4]\n",
        "\n",
        "print(findThePrefixCommonArray(A, B))"
      ]
    },
    {
      "cell_type": "code",
      "source": [],
      "metadata": {
        "id": "s3YaWwOSidUB"
      },
      "execution_count": null,
      "outputs": []
    }
  ]
}