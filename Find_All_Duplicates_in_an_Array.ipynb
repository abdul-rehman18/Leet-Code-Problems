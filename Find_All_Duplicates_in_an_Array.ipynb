{
  "nbformat": 4,
  "nbformat_minor": 0,
  "metadata": {
    "colab": {
      "provenance": []
    },
    "kernelspec": {
      "name": "python3",
      "display_name": "Python 3"
    },
    "language_info": {
      "name": "python"
    }
  },
  "cells": [
    {
      "cell_type": "markdown",
      "source": [
        "# LeetCode Problem: Find All Duplicates in an Array"
      ],
      "metadata": {
        "id": "12AGNQJ45PKs"
      }
    },
    {
      "cell_type": "code",
      "execution_count": 1,
      "metadata": {
        "colab": {
          "base_uri": "https://localhost:8080/"
        },
        "id": "V3DepJde5HCY",
        "outputId": "2d9044b1-d38c-46de-d512-69442940fce5"
      },
      "outputs": [
        {
          "output_type": "stream",
          "name": "stdout",
          "text": [
            "[2, 3]\n"
          ]
        }
      ],
      "source": [
        "def findDuplicates(nums):\n",
        "    # Result list to store the duplicates\n",
        "    duplicates = []\n",
        "\n",
        "    # Iterate over each number in the list\n",
        "    for num in nums:\n",
        "        # The index corresponding to the current number\n",
        "        index = abs(num) - 1\n",
        "\n",
        "        # If the value at the index is negative, we have seen this number before\n",
        "        if nums[index] < 0:\n",
        "            duplicates.append(abs(num))\n",
        "        else:\n",
        "            # Mark the number as seen by negating the value at its corresponding index\n",
        "            nums[index] = -nums[index]\n",
        "\n",
        "    return duplicates\n",
        "\n",
        "\n",
        "nums = [4,3,2,7,8,2,3,1]\n",
        "print(findDuplicates(nums))"
      ]
    },
    {
      "cell_type": "code",
      "source": [],
      "metadata": {
        "id": "Xnc5TjBz6s8W"
      },
      "execution_count": null,
      "outputs": []
    }
  ]
}