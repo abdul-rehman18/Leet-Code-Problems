{
  "nbformat": 4,
  "nbformat_minor": 0,
  "metadata": {
    "colab": {
      "provenance": []
    },
    "kernelspec": {
      "name": "python3",
      "display_name": "Python 3"
    },
    "language_info": {
      "name": "python"
    }
  },
  "cells": [
    {
      "cell_type": "markdown",
      "source": [
        "# LeetCode Problems: Partition Array According to Given Pivot"
      ],
      "metadata": {
        "id": "ikdh9cAxgx6a"
      }
    },
    {
      "cell_type": "code",
      "execution_count": 3,
      "metadata": {
        "id": "Ihzn8M3Egf1c"
      },
      "outputs": [],
      "source": [
        "class Solution:\n",
        "    def pivotArray(self, nums, pivot):\n",
        "        result = [0] * len(nums)\n",
        "        left = 0\n",
        "        right = len(nums) - 1\n",
        "\n",
        "        for i, j in zip(range(len(nums)), range(len(nums) - 1, -1, -1)):\n",
        "            if nums[i] < pivot:\n",
        "                result[left] = nums[i]\n",
        "                left += 1\n",
        "\n",
        "            if nums[j] > pivot:\n",
        "                result[right] = nums[j]\n",
        "                right -= 1\n",
        "\n",
        "        while left <= right:\n",
        "            result[left] = pivot\n",
        "            left += 1\n",
        "\n",
        "        return result\n",
        "\n",
        "nums = [9,12,5,10,14,3,10]\n",
        "pivot = 10\n",
        "\n"
      ]
    },
    {
      "cell_type": "code",
      "source": [],
      "metadata": {
        "id": "UZN6nVoxhQcJ"
      },
      "execution_count": null,
      "outputs": []
    }
  ]
}