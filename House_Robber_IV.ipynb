{
  "nbformat": 4,
  "nbformat_minor": 0,
  "metadata": {
    "colab": {
      "provenance": []
    },
    "kernelspec": {
      "name": "python3",
      "display_name": "Python 3"
    },
    "language_info": {
      "name": "python"
    }
  },
  "cells": [
    {
      "cell_type": "markdown",
      "source": [
        "# LeetCode Problem: House Robber IV"
      ],
      "metadata": {
        "id": "Eo08QeXWybAe"
      }
    },
    {
      "cell_type": "code",
      "execution_count": null,
      "metadata": {
        "id": "srjtmYpXyYZ4"
      },
      "outputs": [],
      "source": [
        "class Solution:\n",
        "    def minCapability(self, nums: List[int], k: int) -> int:\n",
        "        def can_steal_k_houses(capability):\n",
        "            count = 0\n",
        "            i = 0\n",
        "            while i < len(nums):\n",
        "                if nums[i] <= capability:\n",
        "                    count += 1\n",
        "                    i += 2\n",
        "                else:\n",
        "                    i += 1\n",
        "            return count >= k\n",
        "\n",
        "        left, right = min(nums), max(nums)\n",
        "\n",
        "        while left < right:\n",
        "            mid = left + (right - left) // 2\n",
        "            if can_steal_k_houses(mid):\n",
        "                right = mid\n",
        "            else:\n",
        "                left = mid + 1\n",
        "\n",
        "        return left"
      ]
    }
  ]
}