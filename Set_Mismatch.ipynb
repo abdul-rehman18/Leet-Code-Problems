{
  "nbformat": 4,
  "nbformat_minor": 0,
  "metadata": {
    "colab": {
      "provenance": []
    },
    "kernelspec": {
      "name": "python3",
      "display_name": "Python 3"
    },
    "language_info": {
      "name": "python"
    }
  },
  "cells": [
    {
      "cell_type": "markdown",
      "source": [
        "# LeetCode Problem: Set Mismatch"
      ],
      "metadata": {
        "id": "GvNjRk7ADY5g"
      }
    },
    {
      "cell_type": "code",
      "execution_count": 3,
      "metadata": {
        "colab": {
          "base_uri": "https://localhost:8080/"
        },
        "id": "ZgnU8qFwBiIk",
        "outputId": "2afaad33-a6f7-4a2b-9428-3a67a7dc2ab2"
      },
      "outputs": [
        {
          "output_type": "stream",
          "name": "stdout",
          "text": [
            "[2, 3]\n"
          ]
        }
      ],
      "source": [
        "from collections import Counter\n",
        "\n",
        "def findErrorNums(nums):\n",
        "        c=Counter(nums)\n",
        "        l=[0,0]\n",
        "        for i in range(1,len(nums)+1):\n",
        "            if c[i]==2:\n",
        "                l[0]=i\n",
        "            if c[i]==0:\n",
        "                l[1]=i\n",
        "        return l\n",
        "\n",
        "nums=[1,2,2,4]\n",
        "print(findErrorNums(nums))"
      ]
    },
    {
      "cell_type": "code",
      "source": [],
      "metadata": {
        "id": "skm0fqa1DVbe"
      },
      "execution_count": null,
      "outputs": []
    }
  ]
}