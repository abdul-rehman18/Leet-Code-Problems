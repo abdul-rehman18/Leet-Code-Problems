{
  "nbformat": 4,
  "nbformat_minor": 0,
  "metadata": {
    "colab": {
      "provenance": []
    },
    "kernelspec": {
      "name": "python3",
      "display_name": "Python 3"
    },
    "language_info": {
      "name": "python"
    }
  },
  "cells": [
    {
      "cell_type": "markdown",
      "source": [
        "# LeetCode Problem: Number of Ways to Split Array"
      ],
      "metadata": {
        "id": "V-homRBEN5C7"
      }
    },
    {
      "cell_type": "code",
      "execution_count": 1,
      "metadata": {
        "colab": {
          "base_uri": "https://localhost:8080/"
        },
        "id": "66q9ZbXGNrWs",
        "outputId": "f3ba1fa8-900a-43d3-ad99-b2d0547f1b51"
      },
      "outputs": [
        {
          "output_type": "stream",
          "name": "stdout",
          "text": [
            "2\n"
          ]
        }
      ],
      "source": [
        "def waysToSplitArray(nums):\n",
        "        n=len(nums)\n",
        "        Sum=sum(nums)\n",
        "        acc, cnt=0, 0\n",
        "        for i in range(n-1):\n",
        "            acc+=nums[i]\n",
        "            cnt+=(2*acc>=Sum)\n",
        "        return cnt\n",
        "\n",
        "nums = [10,4,-8,7]\n",
        "\n",
        "print(waysToSplitArray(nums))"
      ]
    },
    {
      "cell_type": "code",
      "source": [],
      "metadata": {
        "id": "3rHIiygHOKPe"
      },
      "execution_count": null,
      "outputs": []
    }
  ]
}