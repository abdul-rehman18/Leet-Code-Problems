{
  "nbformat": 4,
  "nbformat_minor": 0,
  "metadata": {
    "colab": {
      "provenance": []
    },
    "kernelspec": {
      "name": "python3",
      "display_name": "Python 3"
    },
    "language_info": {
      "name": "python"
    }
  },
  "cells": [
    {
      "cell_type": "markdown",
      "source": [
        "# LeetCode Problem: Three Consecutive Odds"
      ],
      "metadata": {
        "id": "UhgfH_Ry1eqW"
      }
    },
    {
      "cell_type": "code",
      "execution_count": 1,
      "metadata": {
        "colab": {
          "base_uri": "https://localhost:8080/"
        },
        "id": "0RpooNg91adl",
        "outputId": "2aace05c-5317-428b-afdc-6ce057e3a94d"
      },
      "outputs": [
        {
          "output_type": "stream",
          "name": "stdout",
          "text": [
            "False\n"
          ]
        }
      ],
      "source": [
        "def threeConsecutiveOdds(arr):\n",
        "        odds = 0\n",
        "        for num in arr:\n",
        "            if num % 2 == 1:\n",
        "                odds += 1\n",
        "                if odds == 3:\n",
        "                    return True\n",
        "            else:\n",
        "                odds = 0\n",
        "        return False\n",
        "\n",
        "arr = [2,6,4,1]\n",
        "\n",
        "print(threeConsecutiveOdds(arr))"
      ]
    },
    {
      "cell_type": "code",
      "source": [],
      "metadata": {
        "id": "_eL_jh2T1xVT"
      },
      "execution_count": null,
      "outputs": []
    }
  ]
}