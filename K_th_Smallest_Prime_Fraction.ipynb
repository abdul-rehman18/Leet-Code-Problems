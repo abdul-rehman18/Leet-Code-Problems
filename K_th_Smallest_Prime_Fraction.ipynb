{
  "nbformat": 4,
  "nbformat_minor": 0,
  "metadata": {
    "colab": {
      "provenance": []
    },
    "kernelspec": {
      "name": "python3",
      "display_name": "Python 3"
    },
    "language_info": {
      "name": "python"
    }
  },
  "cells": [
    {
      "cell_type": "markdown",
      "source": [
        "# LeetCode Problem: K-th Smallest Prime Fraction"
      ],
      "metadata": {
        "id": "Lko6roJvs_gk"
      }
    },
    {
      "cell_type": "code",
      "execution_count": 1,
      "metadata": {
        "colab": {
          "base_uri": "https://localhost:8080/"
        },
        "id": "g5MfOB9ks5iZ",
        "outputId": "ee8cf717-de1c-41b3-e069-8bb4b7a63405"
      },
      "outputs": [
        {
          "output_type": "stream",
          "name": "stdout",
          "text": [
            "[2, 5]\n"
          ]
        }
      ],
      "source": [
        "def kthSmallestPrimeFraction(arr, k):\n",
        "        n = len(arr)\n",
        "        left, right = 0, 1\n",
        "        res = []\n",
        "\n",
        "        while left <= right:\n",
        "            mid = left + (right - left) / 2\n",
        "            j, total, num, den = 1, 0, 0, 0\n",
        "            maxFrac = 0\n",
        "            for i in range(n):\n",
        "                while j < n and arr[i] >= arr[j] * mid:\n",
        "                    j += 1\n",
        "\n",
        "                total += n - j\n",
        "\n",
        "                if j < n and maxFrac < arr[i] * 1.0 / arr[j]:\n",
        "                    maxFrac = arr[i] * 1.0 / arr[j]\n",
        "                    num, den = i, j\n",
        "\n",
        "            if total == k:\n",
        "                res = [arr[num], arr[den]]\n",
        "                break\n",
        "\n",
        "            if total > k:\n",
        "                right = mid\n",
        "            else:\n",
        "                left = mid\n",
        "\n",
        "        return res\n",
        "\n",
        "arr = [1,2,3,5]\n",
        "k = 3\n",
        "print(kthSmallestPrimeFraction(arr, k))"
      ]
    },
    {
      "cell_type": "code",
      "source": [],
      "metadata": {
        "id": "F7GBEh5pums0"
      },
      "execution_count": null,
      "outputs": []
    }
  ]
}