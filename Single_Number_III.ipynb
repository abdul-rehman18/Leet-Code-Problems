{
  "nbformat": 4,
  "nbformat_minor": 0,
  "metadata": {
    "colab": {
      "provenance": []
    },
    "kernelspec": {
      "name": "python3",
      "display_name": "Python 3"
    },
    "language_info": {
      "name": "python"
    }
  },
  "cells": [
    {
      "cell_type": "markdown",
      "source": [
        "# LeetCode Problem: Single Number III"
      ],
      "metadata": {
        "id": "BjRpF-am-NLL"
      }
    },
    {
      "cell_type": "code",
      "execution_count": 1,
      "metadata": {
        "colab": {
          "base_uri": "https://localhost:8080/"
        },
        "id": "8adazRTK96RG",
        "outputId": "341188df-fb32-4ef1-e6a3-d531ac54e1a3"
      },
      "outputs": [
        {
          "output_type": "stream",
          "name": "stdout",
          "text": [
            "[3, 5]\n"
          ]
        }
      ],
      "source": [
        "def singleNumber(nums):\n",
        "        n: int = len(nums)\n",
        "        result: list[int] = [0, 0]\n",
        "        index = 0\n",
        "\n",
        "        for i in range(n):\n",
        "            found = False\n",
        "            for j in range(n):\n",
        "                if i != j and nums[i] == nums[j]:\n",
        "                    found = True\n",
        "                    break\n",
        "            if not found:\n",
        "                result[index] = nums[i]\n",
        "                index += 1\n",
        "                if index == 2:\n",
        "                    break\n",
        "\n",
        "        return result\n",
        "\n",
        "nums = [1,2,1,3,2,5]\n",
        "print(singleNumber(nums))"
      ]
    },
    {
      "cell_type": "code",
      "source": [],
      "metadata": {
        "id": "PbfNASxj-4cd"
      },
      "execution_count": null,
      "outputs": []
    }
  ]
}