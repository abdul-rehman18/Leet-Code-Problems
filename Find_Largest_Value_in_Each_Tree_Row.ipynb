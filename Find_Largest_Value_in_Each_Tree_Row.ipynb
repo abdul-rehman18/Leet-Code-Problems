{
  "nbformat": 4,
  "nbformat_minor": 0,
  "metadata": {
    "colab": {
      "provenance": []
    },
    "kernelspec": {
      "name": "python3",
      "display_name": "Python 3"
    },
    "language_info": {
      "name": "python"
    }
  },
  "cells": [
    {
      "cell_type": "markdown",
      "source": [
        "# LeetCode Problem: Find Largest Value in Each Tree Row"
      ],
      "metadata": {
        "id": "hRrtNv0-tR5O"
      }
    },
    {
      "cell_type": "code",
      "execution_count": null,
      "metadata": {
        "id": "EQIeHgFqs_fk"
      },
      "outputs": [],
      "source": [
        "# Definition for a binary tree node.\n",
        "# class TreeNode:\n",
        "#     def __init__(self, val=0, left=None, right=None):\n",
        "#         self.val = val\n",
        "#         self.left = left\n",
        "#         self.right = right\n",
        "class Solution:\n",
        "    def largestValues(self, root: Optional[TreeNode]) -> List[int]:\n",
        "        arr=[]\n",
        "        def preOrder(Node, level):\n",
        "            if not Node: return\n",
        "            if len(arr)<=level: arr.append(-2**31)\n",
        "            arr[level]=max(arr[level], Node.val)\n",
        "\n",
        "            preOrder(Node.left, level+1)\n",
        "            preOrder(Node.right, level+1)\n",
        "\n",
        "        preOrder(root, 0)\n",
        "        return arr\n",
        "\n",
        "\n",
        ""
      ]
    }
  ]
}