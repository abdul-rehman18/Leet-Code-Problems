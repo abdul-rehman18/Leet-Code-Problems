{
  "nbformat": 4,
  "nbformat_minor": 0,
  "metadata": {
    "colab": {
      "provenance": []
    },
    "kernelspec": {
      "name": "python3",
      "display_name": "Python 3"
    },
    "language_info": {
      "name": "python"
    }
  },
  "cells": [
    {
      "cell_type": "markdown",
      "source": [
        "# LeetCode Problem: N-th Tribonacci Number"
      ],
      "metadata": {
        "id": "alXpwP9skgmh"
      }
    },
    {
      "cell_type": "code",
      "execution_count": 2,
      "metadata": {
        "colab": {
          "base_uri": "https://localhost:8080/"
        },
        "id": "Dx04Y4igkaS1",
        "outputId": "93cb4da4-9466-4487-eaab-635d9ecb480a"
      },
      "outputs": [
        {
          "output_type": "stream",
          "name": "stdout",
          "text": [
            "1389537\n"
          ]
        }
      ],
      "source": [
        "def tribonacci(n):\n",
        "  if n == 0:\n",
        "    return 0\n",
        "  if n == 1 or n == 2:\n",
        "    return 1\n",
        "\n",
        "  a,b,c = 0,1,1\n",
        "  for _ in range(3,n+1):\n",
        "    ne = a+b+c\n",
        "    a,b,c = b,c,ne\n",
        "  return c\n",
        "\n",
        "n = 25\n",
        "print(tribonacci(n))"
      ]
    },
    {
      "cell_type": "code",
      "source": [],
      "metadata": {
        "id": "kR8_FtXvmBPG"
      },
      "execution_count": null,
      "outputs": []
    }
  ]
}