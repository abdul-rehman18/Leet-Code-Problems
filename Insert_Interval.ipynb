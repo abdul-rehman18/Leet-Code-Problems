{
  "nbformat": 4,
  "nbformat_minor": 0,
  "metadata": {
    "colab": {
      "provenance": []
    },
    "kernelspec": {
      "name": "python3",
      "display_name": "Python 3"
    },
    "language_info": {
      "name": "python"
    }
  },
  "cells": [
    {
      "cell_type": "markdown",
      "source": [
        "# LeetCode Problem: Insert Interval"
      ],
      "metadata": {
        "id": "8LlaaB5nJ6eW"
      }
    },
    {
      "cell_type": "code",
      "execution_count": 1,
      "metadata": {
        "colab": {
          "base_uri": "https://localhost:8080/"
        },
        "id": "nurMJeB1JmxX",
        "outputId": "678e2b25-6e1e-4ec7-cdb6-8e4d5dac6b69"
      },
      "outputs": [
        {
          "output_type": "stream",
          "name": "stdout",
          "text": [
            "[[1, 5], [6, 9]]\n"
          ]
        }
      ],
      "source": [
        "def insert_interval(intervals, new_interval):\n",
        "    result = []\n",
        "    i = 0\n",
        "    n = len(intervals)\n",
        "\n",
        "    # Add all intervals before the new_interval\n",
        "    while i < n and intervals[i][1] < new_interval[0]:\n",
        "        result.append(intervals[i])\n",
        "        i += 1\n",
        "\n",
        "    # Merge intervals that overlap with new_interval\n",
        "    while i < n and intervals[i][0] <= new_interval[1]:\n",
        "        new_interval = [min(intervals[i][0], new_interval[0]), max(intervals[i][1], new_interval[1])]\n",
        "        i += 1\n",
        "\n",
        "    # Add the merged interval\n",
        "    result.append(new_interval)\n",
        "\n",
        "    # Add the remaining intervals\n",
        "    while i < n:\n",
        "        result.append(intervals[i])\n",
        "        i += 1\n",
        "\n",
        "    return result\n",
        "\n",
        "intervals = [[1, 3], [6, 9]]\n",
        "new_interval = [2, 5]\n",
        "print(insert_interval(intervals, new_interval))\n"
      ]
    },
    {
      "cell_type": "code",
      "source": [],
      "metadata": {
        "id": "oKHRghf-KY5l"
      },
      "execution_count": null,
      "outputs": []
    }
  ]
}