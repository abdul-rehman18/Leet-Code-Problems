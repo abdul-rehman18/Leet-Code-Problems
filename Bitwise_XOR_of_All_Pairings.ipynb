{
  "nbformat": 4,
  "nbformat_minor": 0,
  "metadata": {
    "colab": {
      "provenance": []
    },
    "kernelspec": {
      "name": "python3",
      "display_name": "Python 3"
    },
    "language_info": {
      "name": "python"
    }
  },
  "cells": [
    {
      "cell_type": "markdown",
      "source": [
        "# LeetCode Problem: Bitwise XOR of All Pairings"
      ],
      "metadata": {
        "id": "NaMtuyxo8Gz0"
      }
    },
    {
      "cell_type": "code",
      "execution_count": 1,
      "metadata": {
        "colab": {
          "base_uri": "https://localhost:8080/"
        },
        "id": "P_BtjE8V5ZCf",
        "outputId": "16a6089e-5f37-45da-b7b5-756354ab9f26"
      },
      "outputs": [
        {
          "output_type": "stream",
          "name": "stdout",
          "text": [
            "13\n"
          ]
        }
      ],
      "source": [
        "def xorAllNums(nums1, nums2):\n",
        "        c1 = len(nums1)\n",
        "        c2 = len(nums2)\n",
        "        x1 = 0\n",
        "        x2 = 0\n",
        "        if c1 % 2 != 0:\n",
        "            for i in nums2:\n",
        "                x2 ^= i\n",
        "        if c2 % 2 != 0:\n",
        "            for i in nums1:\n",
        "                x1 ^= i\n",
        "        return x1 ^ x2\n",
        "\n",
        "nums1 = [2,1,3]\n",
        "nums2 = [10,2,5,0]\n",
        "\n",
        "print(xorAllNums(nums1, nums2))"
      ]
    },
    {
      "cell_type": "code",
      "source": [],
      "metadata": {
        "id": "qiThAYRn8axq"
      },
      "execution_count": null,
      "outputs": []
    }
  ]
}