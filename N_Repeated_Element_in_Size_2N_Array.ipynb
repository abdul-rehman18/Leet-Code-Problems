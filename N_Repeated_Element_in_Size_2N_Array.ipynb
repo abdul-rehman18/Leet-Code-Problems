{
  "nbformat": 4,
  "nbformat_minor": 0,
  "metadata": {
    "colab": {
      "provenance": []
    },
    "kernelspec": {
      "name": "python3",
      "display_name": "Python 3"
    },
    "language_info": {
      "name": "python"
    }
  },
  "cells": [
    {
      "cell_type": "markdown",
      "source": [
        "# LeetCode Problem: N-Repeated Element in Size 2N Array"
      ],
      "metadata": {
        "id": "eX3GXtDeiXbm"
      }
    },
    {
      "cell_type": "code",
      "execution_count": 2,
      "metadata": {
        "colab": {
          "base_uri": "https://localhost:8080/"
        },
        "id": "2K3Ty9nlgk27",
        "outputId": "7fb68037-15ec-4c0d-cf43-4ca7e93be41d"
      },
      "outputs": [
        {
          "output_type": "stream",
          "name": "stdout",
          "text": [
            "3\n"
          ]
        }
      ],
      "source": [
        "def repeatedNTimes(nums):\n",
        "        c = set()\n",
        "        for i in nums:\n",
        "            if i in c:\n",
        "                return i\n",
        "            c.add(i)\n",
        "        return 0\n",
        "\n",
        "nums = [1,2,3,3]\n",
        "print(repeatedNTimes(nums))"
      ]
    },
    {
      "cell_type": "code",
      "source": [],
      "metadata": {
        "id": "7Qr8TYWhiG9_"
      },
      "execution_count": null,
      "outputs": []
    }
  ]
}