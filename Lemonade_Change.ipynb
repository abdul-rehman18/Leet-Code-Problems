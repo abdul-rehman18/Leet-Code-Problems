{
  "nbformat": 4,
  "nbformat_minor": 0,
  "metadata": {
    "colab": {
      "provenance": []
    },
    "kernelspec": {
      "name": "python3",
      "display_name": "Python 3"
    },
    "language_info": {
      "name": "python"
    }
  },
  "cells": [
    {
      "cell_type": "markdown",
      "source": [
        "# LeetCode Problem: Lemonade Change"
      ],
      "metadata": {
        "id": "QyxsGcj8j-gU"
      }
    },
    {
      "cell_type": "code",
      "execution_count": 1,
      "metadata": {
        "colab": {
          "base_uri": "https://localhost:8080/"
        },
        "id": "FQPVlMHHXAwX",
        "outputId": "f8f01706-222a-4989-a268-78395aa67768"
      },
      "outputs": [
        {
          "output_type": "stream",
          "name": "stdout",
          "text": [
            "True\n"
          ]
        }
      ],
      "source": [
        "def lemonadeChange(bills):\n",
        "        change5=0\n",
        "        change10=0\n",
        "        change20=0\n",
        "        for i in range(len(bills)):\n",
        "            if bills[i]==5:\n",
        "                change5+=1\n",
        "            elif bills[i]==10:\n",
        "                change10+=1\n",
        "                change5-=1\n",
        "            elif bills[i]==20:\n",
        "                if change10>0 :\n",
        "                    change5-=1\n",
        "                    change10-=1\n",
        "                else:\n",
        "                    change5-=3\n",
        "                change20+=1\n",
        "            if change5<0 or change10<0 or change20<0:\n",
        "                return False\n",
        "        return True\n",
        "\n",
        "bills = [5,5,5,10,20]\n",
        "\n",
        "print(lemonadeChange(bills))"
      ]
    },
    {
      "cell_type": "code",
      "source": [],
      "metadata": {
        "id": "X9Q3z72XkB6i"
      },
      "execution_count": null,
      "outputs": []
    }
  ]
}