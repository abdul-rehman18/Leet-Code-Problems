{
  "nbformat": 4,
  "nbformat_minor": 0,
  "metadata": {
    "colab": {
      "provenance": []
    },
    "kernelspec": {
      "name": "python3",
      "display_name": "Python 3"
    },
    "language_info": {
      "name": "python"
    }
  },
  "cells": [
    {
      "cell_type": "markdown",
      "source": [
        "# LeetCode Problem: Trapping Rain Water"
      ],
      "metadata": {
        "id": "v3UqMD0fMYvk"
      }
    },
    {
      "cell_type": "code",
      "execution_count": 1,
      "metadata": {
        "id": "2Mlxn_T5JAnG",
        "colab": {
          "base_uri": "https://localhost:8080/"
        },
        "outputId": "a4581254-3c0a-4c2d-caab-03c32474790b"
      },
      "outputs": [
        {
          "output_type": "stream",
          "name": "stdout",
          "text": [
            "6\n"
          ]
        }
      ],
      "source": [
        "def trap(height):\n",
        "        n = len(height)\n",
        "        s , e = 0 , n-1\n",
        "        m1 , m2 , m = 0 , 0 , 0\n",
        "        while s <= e:\n",
        "            if height[s] <= height[e]:\n",
        "                if height[s] >= m1:\n",
        "                    m1 = height[s]\n",
        "                else:\n",
        "                    m += m1 - height[s]\n",
        "                s += 1\n",
        "            else:\n",
        "                if height[e] >= m2:\n",
        "                    m2 = height[e]\n",
        "                else:\n",
        "                    m += m2 - height[e]\n",
        "                e -= 1\n",
        "        return m\n",
        "\n",
        "height = [0,1,0,2,1,0,1,3,2,1,2,1]\n",
        "print(trap(height))"
      ]
    },
    {
      "cell_type": "code",
      "source": [],
      "metadata": {
        "id": "omTIjQR3MWZx"
      },
      "execution_count": null,
      "outputs": []
    }
  ]
}