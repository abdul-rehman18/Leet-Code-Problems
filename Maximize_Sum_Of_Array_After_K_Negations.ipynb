{
  "nbformat": 4,
  "nbformat_minor": 0,
  "metadata": {
    "colab": {
      "provenance": []
    },
    "kernelspec": {
      "name": "python3",
      "display_name": "Python 3"
    },
    "language_info": {
      "name": "python"
    }
  },
  "cells": [
    {
      "cell_type": "markdown",
      "source": [
        "# LeetCode Problem: Maximize Sum Of Array After K Negations"
      ],
      "metadata": {
        "id": "7BXmM2Y2MZxr"
      }
    },
    {
      "cell_type": "code",
      "execution_count": 2,
      "metadata": {
        "colab": {
          "base_uri": "https://localhost:8080/"
        },
        "id": "IgXpLXoyLqCT",
        "outputId": "35e8683f-3ea1-440b-f355-3ca97ad15106"
      },
      "outputs": [
        {
          "output_type": "stream",
          "name": "stdout",
          "text": [
            "5\n"
          ]
        }
      ],
      "source": [
        "def largestSumAfterKNegations(nums, k):\n",
        "    nums.sort()\n",
        "    for i in range(len(nums)):\n",
        "        if nums[i] < 0 and k > 0:\n",
        "            nums[i] = -nums[i]\n",
        "            k -= 1\n",
        "    if k % 2 == 1:\n",
        "        nums.sort()\n",
        "        nums[0] = -nums[0]\n",
        "    return sum(nums)\n",
        "\n",
        "\n",
        "nums = [4, 2, 3]\n",
        "k = 1\n",
        "print(largestSumAfterKNegations(nums, k))\n"
      ]
    },
    {
      "cell_type": "code",
      "source": [],
      "metadata": {
        "id": "Pomtm_U4M5Bn"
      },
      "execution_count": null,
      "outputs": []
    }
  ]
}