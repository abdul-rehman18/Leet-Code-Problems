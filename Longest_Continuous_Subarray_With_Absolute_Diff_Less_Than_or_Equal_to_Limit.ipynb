{
  "nbformat": 4,
  "nbformat_minor": 0,
  "metadata": {
    "colab": {
      "provenance": []
    },
    "kernelspec": {
      "name": "python3",
      "display_name": "Python 3"
    },
    "language_info": {
      "name": "python"
    }
  },
  "cells": [
    {
      "cell_type": "markdown",
      "source": [
        "# LeetCode Problem: Longest Continuous Subarray With Absolute Diff Less Than or Equal to Limit"
      ],
      "metadata": {
        "id": "6NTBkmFXAmOZ"
      }
    },
    {
      "cell_type": "code",
      "execution_count": 2,
      "metadata": {
        "colab": {
          "base_uri": "https://localhost:8080/"
        },
        "id": "11n1qtam86xw",
        "outputId": "c89b51bf-3cf6-48f7-f713-327ed2bc8220"
      },
      "outputs": [
        {
          "output_type": "stream",
          "name": "stdout",
          "text": [
            "2\n"
          ]
        }
      ],
      "source": [
        "import collections\n",
        "def longestSubarray(nums, limit):\n",
        "        decQ = collections.deque()\n",
        "        incQ = collections.deque()\n",
        "        ans = 0\n",
        "        left = 0\n",
        "\n",
        "        for right, num in enumerate(nums):\n",
        "            while decQ and num > decQ[-1]:\n",
        "                decQ.pop()\n",
        "\n",
        "            decQ.append(num)\n",
        "\n",
        "            while incQ and num < incQ[-1]:\n",
        "                incQ.pop()\n",
        "\n",
        "            incQ.append(num)\n",
        "\n",
        "            while decQ[0] - incQ[0] > limit:\n",
        "                if decQ[0] == nums[left]:\n",
        "                    decQ.popleft()\n",
        "\n",
        "                if incQ[0] == nums[left]:\n",
        "                    incQ.popleft()\n",
        "\n",
        "                left += 1\n",
        "\n",
        "            ans = max(ans, right - left + 1)\n",
        "\n",
        "        return ans\n",
        "\n",
        "nums = [8,2,4,7]\n",
        "limit = 4\n",
        "print(longestSubarray(nums, limit))"
      ]
    },
    {
      "cell_type": "code",
      "source": [],
      "metadata": {
        "id": "PEBR-hGoBSB2"
      },
      "execution_count": null,
      "outputs": []
    }
  ]
}