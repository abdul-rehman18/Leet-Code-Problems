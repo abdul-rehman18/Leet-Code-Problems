{
  "nbformat": 4,
  "nbformat_minor": 0,
  "metadata": {
    "colab": {
      "provenance": []
    },
    "kernelspec": {
      "name": "python3",
      "display_name": "Python 3"
    },
    "language_info": {
      "name": "python"
    }
  },
  "cells": [
    {
      "cell_type": "markdown",
      "source": [
        "# LeetCode Problem: Subarray Sums Divisible by K"
      ],
      "metadata": {
        "id": "rZbYCCii2UvD"
      }
    },
    {
      "cell_type": "code",
      "execution_count": 1,
      "metadata": {
        "colab": {
          "base_uri": "https://localhost:8080/"
        },
        "id": "cv4Yq-dw2Rpn",
        "outputId": "db976cf9-1a42-402b-8f27-b4132e1bbfb8"
      },
      "outputs": [
        {
          "output_type": "stream",
          "name": "stdout",
          "text": [
            "7\n"
          ]
        }
      ],
      "source": [
        "def subarraysDivByK(nums, k):\n",
        "        count = 0\n",
        "        n = len(nums)\n",
        "        for i in range(n):\n",
        "            curr_sum = 0\n",
        "            for j in range(i, n):\n",
        "                curr_sum += nums[j]\n",
        "                if curr_sum % k == 0:\n",
        "                    count += 1\n",
        "        return count\n",
        "\n",
        "\n",
        "nums = [4,5,0,-2,-3,1]\n",
        "k = 5\n",
        "print(subarraysDivByK(nums, k))"
      ]
    },
    {
      "cell_type": "code",
      "source": [],
      "metadata": {
        "id": "PZWtL2aF2vVi"
      },
      "execution_count": null,
      "outputs": []
    }
  ]
}