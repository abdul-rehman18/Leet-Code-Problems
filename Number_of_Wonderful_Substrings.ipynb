{
  "nbformat": 4,
  "nbformat_minor": 0,
  "metadata": {
    "colab": {
      "provenance": []
    },
    "kernelspec": {
      "name": "python3",
      "display_name": "Python 3"
    },
    "language_info": {
      "name": "python"
    }
  },
  "cells": [
    {
      "cell_type": "markdown",
      "source": [
        "# LeetCode Problem: Number of Wonderful Substrings"
      ],
      "metadata": {
        "id": "23jxVfZnRrqV"
      }
    },
    {
      "cell_type": "code",
      "execution_count": 1,
      "metadata": {
        "colab": {
          "base_uri": "https://localhost:8080/"
        },
        "id": "snx7hI_vRoU9",
        "outputId": "7efd300e-26f1-4b0c-c0fd-881bea3297b3"
      },
      "outputs": [
        {
          "output_type": "stream",
          "name": "stdout",
          "text": [
            "4\n"
          ]
        }
      ],
      "source": [
        "def wonderfulSubstrings(word):\n",
        "        count = [0] * 1024  # 2^10 to store XOR values\n",
        "        result = 0\n",
        "        prefix_xor = 0\n",
        "        count[prefix_xor] = 1\n",
        "\n",
        "        for char in word:\n",
        "            char_index = ord(char) - ord('a')\n",
        "            prefix_xor ^= 1 << char_index\n",
        "            result += count[prefix_xor]\n",
        "            for i in range(10):\n",
        "                result += count[prefix_xor ^ (1 << i)]\n",
        "            count[prefix_xor] += 1\n",
        "\n",
        "        return result\n",
        "\n",
        "word = \"aba\"\n",
        "print(wonderfulSubstrings(word))"
      ]
    },
    {
      "cell_type": "code",
      "source": [],
      "metadata": {
        "id": "JKvoDslFR7qx"
      },
      "execution_count": null,
      "outputs": []
    }
  ]
}