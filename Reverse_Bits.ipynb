{
  "nbformat": 4,
  "nbformat_minor": 0,
  "metadata": {
    "colab": {
      "provenance": []
    },
    "kernelspec": {
      "name": "python3",
      "display_name": "Python 3"
    },
    "language_info": {
      "name": "python"
    }
  },
  "cells": [
    {
      "cell_type": "markdown",
      "source": [
        "# LeetCode Problem: Reverse Bits"
      ],
      "metadata": {
        "id": "h58hPsIrFe-r"
      }
    },
    {
      "cell_type": "code",
      "execution_count": 1,
      "metadata": {
        "colab": {
          "base_uri": "https://localhost:8080/"
        },
        "id": "i_SLjGbhEukh",
        "outputId": "99e5b066-ea8d-402c-e0ee-566b879fd7a9"
      },
      "outputs": [
        {
          "output_type": "stream",
          "name": "stdout",
          "text": [
            "0b1101100000000000000000000000000\n"
          ]
        }
      ],
      "source": [
        "class BitReverser:\n",
        "    def f(self, n, r, count):\n",
        "        if n < 1:\n",
        "            return r << (32 - count)\n",
        "        return self.f(n >> 1, (r << 1) | (n & 1), count + 1)\n",
        "\n",
        "    def reverseBits(self, n: int) -> int:\n",
        "        return self.f(n, 0, 0)\n",
        "\n",
        "# Example usage:\n",
        "bit_reverser = BitReverser()\n",
        "result = bit_reverser.reverseBits(0b110110)\n",
        "print(bin(result))  # Output: 0b11011000000000000000000000000000\n"
      ]
    },
    {
      "cell_type": "code",
      "source": [],
      "metadata": {
        "id": "kEJwpvlLGR5z"
      },
      "execution_count": null,
      "outputs": []
    }
  ]
}