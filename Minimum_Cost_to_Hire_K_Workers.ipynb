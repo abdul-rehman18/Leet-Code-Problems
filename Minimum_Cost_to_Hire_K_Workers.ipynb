{
  "nbformat": 4,
  "nbformat_minor": 0,
  "metadata": {
    "colab": {
      "provenance": []
    },
    "kernelspec": {
      "name": "python3",
      "display_name": "Python 3"
    },
    "language_info": {
      "name": "python"
    }
  },
  "cells": [
    {
      "cell_type": "markdown",
      "source": [
        "# LeetCode Problem:  Minimum Cost to Hire K Workers"
      ],
      "metadata": {
        "id": "PWEphAKytk_K"
      }
    },
    {
      "cell_type": "code",
      "execution_count": 2,
      "metadata": {
        "colab": {
          "base_uri": "https://localhost:8080/"
        },
        "id": "8GalOh7AtYDi",
        "outputId": "04912c61-fe06-45e4-c84e-6e3625bdc831"
      },
      "outputs": [
        {
          "output_type": "stream",
          "name": "stdout",
          "text": [
            "105.0\n"
          ]
        }
      ],
      "source": [
        "import heapq\n",
        "def mincostToHireWorkers(quality, wage, k):\n",
        "        ratio = sorted([(w / q, q) for w, q in zip(wage, quality)])\n",
        "        max_heap = []\n",
        "        quality_sum = 0\n",
        "        max_ratio = 0.0\n",
        "\n",
        "        for i in range(k):\n",
        "            max_ratio = max(max_ratio, ratio[i][0])\n",
        "            quality_sum += ratio[i][1]\n",
        "            heapq.heappush(max_heap, -ratio[i][1])\n",
        "\n",
        "        res = max_ratio * quality_sum\n",
        "\n",
        "        for i in range(k, len(quality)):\n",
        "            max_ratio = max(max_ratio, ratio[i][0])\n",
        "            quality_sum += ratio[i][1] + heapq.heappop(max_heap)\n",
        "            heapq.heappush(max_heap, -ratio[i][1])\n",
        "            res = min(res, max_ratio * quality_sum)\n",
        "\n",
        "        return res\n",
        "\n",
        "quality = [10,20,5]\n",
        "wage = [70,50,30]\n",
        "k = 2\n",
        "print(mincostToHireWorkers(quality, wage, k))"
      ]
    },
    {
      "cell_type": "code",
      "source": [],
      "metadata": {
        "id": "lWv_J4Cxt-iB"
      },
      "execution_count": null,
      "outputs": []
    }
  ]
}