{
  "nbformat": 4,
  "nbformat_minor": 0,
  "metadata": {
    "colab": {
      "provenance": []
    },
    "kernelspec": {
      "name": "python3",
      "display_name": "Python 3"
    },
    "language_info": {
      "name": "python"
    }
  },
  "cells": [
    {
      "cell_type": "markdown",
      "source": [
        "# LeetCode Problem: Path with Maximum Gold"
      ],
      "metadata": {
        "id": "vagfWWBfUTAR"
      }
    },
    {
      "cell_type": "code",
      "execution_count": 6,
      "metadata": {
        "colab": {
          "base_uri": "https://localhost:8080/"
        },
        "id": "z_LKCdJYUDgM",
        "outputId": "f2633ea7-7c6d-4b4f-fbb9-57410a9f2407"
      },
      "outputs": [
        {
          "output_type": "stream",
          "name": "stdout",
          "text": [
            "24\n"
          ]
        }
      ],
      "source": [
        "roww = [1, -1, 0, 0]\n",
        "coll = [0, 0, -1, 1]\n",
        "\n",
        "def dfs(grid, x, y, n, m):\n",
        "        if x < 0 or x >= n or y < 0 or y >= m or grid[x][y] == 0:\n",
        "            return 0\n",
        "\n",
        "        curr = grid[x][y]\n",
        "        grid[x][y] = 0\n",
        "        localMaxGold = curr\n",
        "\n",
        "        for i in range(4):\n",
        "            newX = x + roww[i]\n",
        "            newY = y + coll[i]\n",
        "            localMaxGold = max(localMaxGold, curr + dfs(grid, newX, newY, n, m))\n",
        "\n",
        "        grid[x][y] = curr\n",
        "        return localMaxGold\n",
        "\n",
        "def getMaximumGold(grid):\n",
        "        n = len(grid)\n",
        "        m = len(grid[0])\n",
        "        maxGold = 0\n",
        "\n",
        "        for i in range(n):\n",
        "            for j in range(m):\n",
        "                if grid[i][j] != 0:\n",
        "                    maxGold = max(maxGold, dfs(grid, i, j, n, m))\n",
        "\n",
        "        return maxGold\n",
        "\n",
        "\n",
        "\n",
        "\n",
        "\n",
        "grid = [[0,6,0],[5,8,7],[0,9,0]]\n",
        "print(getMaximumGold(grid))"
      ]
    },
    {
      "cell_type": "code",
      "source": [],
      "metadata": {
        "id": "EPr3KkZrUt7P"
      },
      "execution_count": null,
      "outputs": []
    }
  ]
}