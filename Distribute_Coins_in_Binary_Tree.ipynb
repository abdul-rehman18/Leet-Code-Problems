{
  "nbformat": 4,
  "nbformat_minor": 0,
  "metadata": {
    "colab": {
      "provenance": []
    },
    "kernelspec": {
      "name": "python3",
      "display_name": "Python 3"
    },
    "language_info": {
      "name": "python"
    }
  },
  "cells": [
    {
      "cell_type": "markdown",
      "source": [
        "# LeetCode Problem: Distribute Coins in Binary Tree"
      ],
      "metadata": {
        "id": "FA-AQHZty0K8"
      }
    },
    {
      "cell_type": "code",
      "execution_count": 1,
      "metadata": {
        "id": "y25yDp1bywpZ"
      },
      "outputs": [],
      "source": [
        "# Definition for a binary tree node.\n",
        "class TreeNode:\n",
        "    def __init__(self, val=0, left=None, right=None):\n",
        "        self.val = val\n",
        "        self.left = left\n",
        "        self.right = right\n",
        "class Solution:\n",
        "    def distributeCoins(self, root):\n",
        "        #move coins to parent DFS\n",
        "        def f(root, parent):\n",
        "            if root==None: return 0\n",
        "            moves=f(root.left, root)+f(root.right, root)\n",
        "            x=root.val-1\n",
        "            if parent!=None: parent.val+=x\n",
        "            moves+=abs(x)\n",
        "            return moves\n",
        "        return f(root, None)"
      ]
    },
    {
      "cell_type": "code",
      "source": [],
      "metadata": {
        "id": "xGOIdj2uzKEr"
      },
      "execution_count": null,
      "outputs": []
    }
  ]
}