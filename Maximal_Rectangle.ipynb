{
  "nbformat": 4,
  "nbformat_minor": 0,
  "metadata": {
    "colab": {
      "provenance": []
    },
    "kernelspec": {
      "name": "python3",
      "display_name": "Python 3"
    },
    "language_info": {
      "name": "python"
    }
  },
  "cells": [
    {
      "cell_type": "markdown",
      "source": [
        "# LeetCode Problem: Maximal Rectangle"
      ],
      "metadata": {
        "id": "Cf3_KsYKwcPV"
      }
    },
    {
      "cell_type": "code",
      "execution_count": 1,
      "metadata": {
        "colab": {
          "base_uri": "https://localhost:8080/"
        },
        "id": "FbkPRIDpvyM_",
        "outputId": "c4f25e56-d362-49d4-f018-05459a80a6a9"
      },
      "outputs": [
        {
          "output_type": "stream",
          "name": "stdout",
          "text": [
            "6\n"
          ]
        }
      ],
      "source": [
        "def maximalRectangle(matrix):\n",
        "        if not matrix:\n",
        "            return 0\n",
        "        rows, cols = len(matrix), len(matrix[0])\n",
        "        heights = [0] * (cols + 1)  # Include an extra element for easier calculation\n",
        "        max_area = 0\n",
        "        for row in matrix:\n",
        "            for i in range(cols):\n",
        "                heights[i] = heights[i] + 1 if row[i] == '1' else 0\n",
        "            # Calculate max area using histogram method\n",
        "            stack = []\n",
        "            for i in range(len(heights)):\n",
        "                while stack and heights[i] < heights[stack[-1]]:\n",
        "                    h = heights[stack.pop()]\n",
        "                    w = i if not stack else i - stack[-1] - 1\n",
        "                    max_area = max(max_area, h * w)\n",
        "                stack.append(i)\n",
        "        return max_area\n",
        "\n",
        "\n",
        "matrix = [[\"1\",\"0\",\"1\",\"0\",\"0\"],[\"1\",\"0\",\"1\",\"1\",\"1\"],[\"1\",\"1\",\"1\",\"1\",\"1\"],[\"1\",\"0\",\"0\",\"1\",\"0\"]]\n",
        "print(maximalRectangle(matrix))"
      ]
    },
    {
      "cell_type": "code",
      "source": [],
      "metadata": {
        "id": "I9krTaARwXVN"
      },
      "execution_count": null,
      "outputs": []
    }
  ]
}