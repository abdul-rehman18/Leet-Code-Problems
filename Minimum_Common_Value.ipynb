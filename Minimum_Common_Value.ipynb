{
  "nbformat": 4,
  "nbformat_minor": 0,
  "metadata": {
    "colab": {
      "provenance": []
    },
    "kernelspec": {
      "name": "python3",
      "display_name": "Python 3"
    },
    "language_info": {
      "name": "python"
    }
  },
  "cells": [
    {
      "cell_type": "markdown",
      "source": [
        "# LeetCode Problem: Minimum Common Value"
      ],
      "metadata": {
        "id": "VPb75QKFCGyr"
      }
    },
    {
      "cell_type": "code",
      "execution_count": 2,
      "metadata": {
        "colab": {
          "base_uri": "https://localhost:8080/",
          "height": 0
        },
        "id": "e3AxnA0ZAwpE",
        "outputId": "9c14afca-af39-4bc0-ad29-425f12475edc"
      },
      "outputs": [
        {
          "output_type": "stream",
          "name": "stdout",
          "text": [
            "2\n"
          ]
        }
      ],
      "source": [
        "def getCommon(nums1, nums2):\n",
        "        i = j = 0\n",
        "        while i < len(nums1) and j < len(nums2):\n",
        "            if nums1[i] < nums2[j]:\n",
        "                i += 1\n",
        "            elif nums2[j] < nums1[i]:\n",
        "                j += 1\n",
        "            else:\n",
        "                return nums1[i]\n",
        "        return -1\n",
        "\n",
        "nums1 = [1,2,3]\n",
        "nums2 = [2,4]\n",
        "print(getCommon(nums1, nums2))"
      ]
    },
    {
      "cell_type": "code",
      "source": [],
      "metadata": {
        "id": "ETJI8V4cCTVp"
      },
      "execution_count": null,
      "outputs": []
    }
  ]
}