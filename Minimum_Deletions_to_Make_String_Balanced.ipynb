{
  "nbformat": 4,
  "nbformat_minor": 0,
  "metadata": {
    "colab": {
      "provenance": []
    },
    "kernelspec": {
      "name": "python3",
      "display_name": "Python 3"
    },
    "language_info": {
      "name": "python"
    }
  },
  "cells": [
    {
      "cell_type": "markdown",
      "source": [
        "# LeetCode Problem: Minimum Deletions to Make String Balanced"
      ],
      "metadata": {
        "id": "2hSPpX6DeoeB"
      }
    },
    {
      "cell_type": "code",
      "execution_count": 1,
      "metadata": {
        "colab": {
          "base_uri": "https://localhost:8080/"
        },
        "id": "TdxS0Gh_egbw",
        "outputId": "0a09d04c-d9a4-4773-d3be-9db30590cee3"
      },
      "outputs": [
        {
          "output_type": "stream",
          "name": "stdout",
          "text": [
            "2\n"
          ]
        }
      ],
      "source": [
        "def minimumDeletions(s):\n",
        "        n = len(s)\n",
        "        f = [0] * (n + 1)\n",
        "        b = 0\n",
        "        for i, c in enumerate(s, 1):\n",
        "            if c == 'b':\n",
        "                f[i] = f[i - 1]\n",
        "                b += 1\n",
        "            else:\n",
        "                f[i] = min(f[i - 1] + 1, b)\n",
        "        return f[n]\n",
        "\n",
        "s = \"aababbab\"\n",
        "\n",
        "print( minimumDeletions(s))"
      ]
    },
    {
      "cell_type": "code",
      "source": [],
      "metadata": {
        "id": "yWzOzZVke-Zj"
      },
      "execution_count": null,
      "outputs": []
    }
  ]
}