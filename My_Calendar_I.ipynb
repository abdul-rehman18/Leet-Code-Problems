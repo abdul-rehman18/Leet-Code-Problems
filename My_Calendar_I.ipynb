{
  "nbformat": 4,
  "nbformat_minor": 0,
  "metadata": {
    "colab": {
      "provenance": []
    },
    "kernelspec": {
      "name": "python3",
      "display_name": "Python 3"
    },
    "language_info": {
      "name": "python"
    }
  },
  "cells": [
    {
      "cell_type": "markdown",
      "source": [
        "# LeetCode Problem: My Calendar I"
      ],
      "metadata": {
        "id": "6fkBJyn6mz36"
      }
    },
    {
      "cell_type": "code",
      "execution_count": 1,
      "metadata": {
        "colab": {
          "base_uri": "https://localhost:8080/"
        },
        "id": "P7K9tfGliDe1",
        "outputId": "3243e93e-eb29-407e-ed72-b6a066c2c3be"
      },
      "outputs": [
        {
          "output_type": "stream",
          "name": "stdout",
          "text": [
            "True\n",
            "False\n",
            "True\n"
          ]
        }
      ],
      "source": [
        "from bisect import bisect_left\n",
        "class MyCalendar:\n",
        "    def __init__(self):\n",
        "        self.bookings = []\n",
        "\n",
        "    def book(self, start: int, end: int) -> bool:\n",
        "        idx = bisect_left(self.bookings, (end, 0))\n",
        "        if idx and self.bookings[idx-1][0] > start:\n",
        "            return False\n",
        "        if idx < len(self.bookings) and self.bookings[idx][1] < end:\n",
        "            return False\n",
        "\n",
        "        self.bookings.insert(idx, (end, start))\n",
        "        return True\n",
        "\n",
        "s = MyCalendar()\n",
        "print(s.book(10, 20))\n",
        "print(s.book(15, 25))\n",
        "print(s.book(20, 30))\n"
      ]
    },
    {
      "cell_type": "code",
      "source": [],
      "metadata": {
        "id": "VkNhDmDum7Ux"
      },
      "execution_count": null,
      "outputs": []
    }
  ]
}