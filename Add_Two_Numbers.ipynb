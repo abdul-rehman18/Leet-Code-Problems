{
  "nbformat": 4,
  "nbformat_minor": 0,
  "metadata": {
    "colab": {
      "provenance": []
    },
    "kernelspec": {
      "name": "python3",
      "display_name": "Python 3"
    },
    "language_info": {
      "name": "python"
    }
  },
  "cells": [
    {
      "cell_type": "markdown",
      "source": [
        "# LeetCode Problem: Add Two Numbers"
      ],
      "metadata": {
        "id": "J-cwdkDCg_Ko"
      }
    },
    {
      "cell_type": "code",
      "execution_count": 1,
      "metadata": {
        "colab": {
          "base_uri": "https://localhost:8080/"
        },
        "id": "cpGi2EjAZBDx",
        "outputId": "b3211be5-777d-4c9c-a856-dfc3f5641a4e"
      },
      "outputs": [
        {
          "output_type": "stream",
          "name": "stdout",
          "text": [
            "7 -> 0 -> 8 -> None\n"
          ]
        }
      ],
      "source": [
        "# Definition for singly-linked list.\n",
        "class ListNode:\n",
        "    def __init__(self, val=0, next=None):\n",
        "        self.val = val\n",
        "        self.next = next\n",
        "\n",
        "class Solution:\n",
        "    def addTwoNumbers(self, l1, l2):\n",
        "        dummy = cur = ListNode(0)\n",
        "        carry = 0\n",
        "        while l1 or l2 or carry:\n",
        "            if l1:\n",
        "                carry += l1.val\n",
        "                l1 = l1.next\n",
        "            if l2:\n",
        "                carry += l2.val\n",
        "                l2 = l2.next\n",
        "            cur.next = ListNode(carry % 10)\n",
        "            cur = cur.next\n",
        "            carry //= 10\n",
        "        return dummy.next\n",
        "\n",
        "def main():\n",
        "    l1 = ListNode(2)\n",
        "    l1.next = ListNode(4)\n",
        "    l1.next.next = ListNode(3)\n",
        "\n",
        "    l2 = ListNode(5)\n",
        "    l2.next = ListNode(6)\n",
        "    l2.next.next = ListNode(4)\n",
        "\n",
        "    solution = Solution()\n",
        "    result = solution.addTwoNumbers(l1, l2)\n",
        "\n",
        "    while result:\n",
        "        print(result.val, end=\" -> \")\n",
        "        result = result.next\n",
        "    print(\"None\")\n",
        "\n",
        "if __name__ == \"__main__\":\n",
        "    main()\n"
      ]
    },
    {
      "cell_type": "code",
      "source": [],
      "metadata": {
        "id": "9wsodKzYg2km"
      },
      "execution_count": null,
      "outputs": []
    }
  ]
}