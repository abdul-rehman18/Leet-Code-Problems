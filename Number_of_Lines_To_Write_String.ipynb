{
  "nbformat": 4,
  "nbformat_minor": 0,
  "metadata": {
    "colab": {
      "provenance": []
    },
    "kernelspec": {
      "name": "python3",
      "display_name": "Python 3"
    },
    "language_info": {
      "name": "python"
    }
  },
  "cells": [
    {
      "cell_type": "markdown",
      "source": [
        "# LeetCode Problem: Number of Lines To Write String"
      ],
      "metadata": {
        "id": "oPYsyV9EwYJm"
      }
    },
    {
      "cell_type": "code",
      "execution_count": 1,
      "metadata": {
        "colab": {
          "base_uri": "https://localhost:8080/"
        },
        "id": "7K-6e0EcuLk9",
        "outputId": "6ab52d54-3b8f-41df-8d59-def5709800fd"
      },
      "outputs": [
        {
          "output_type": "stream",
          "name": "stdout",
          "text": [
            "[3, 60]\n"
          ]
        }
      ],
      "source": [
        "def numberOfLines(widths, s):\n",
        "        tot=0\n",
        "        lines=0\n",
        "        for i in s:\n",
        "            if tot+widths[ord(i)-97]>100:\n",
        "                tot=0\n",
        "                lines+=1\n",
        "            tot+=widths[ord(i)-97]\n",
        "        return [lines+1,tot]\n",
        "\n",
        "\n",
        "\n",
        "widths = [10,10,10,10,10,10,10,10,10,10,10,10,10,10,10,10,10,10,10,10,10,10,10,10,10,10]\n",
        "s = \"abcdefghijklmnopqrstuvwxyz\"\n",
        "print(numberOfLines(widths, s))"
      ]
    },
    {
      "cell_type": "code",
      "source": [],
      "metadata": {
        "id": "A4wTRPQ5wHVg"
      },
      "execution_count": null,
      "outputs": []
    }
  ]
}