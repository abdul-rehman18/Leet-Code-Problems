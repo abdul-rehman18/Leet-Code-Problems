{
  "nbformat": 4,
  "nbformat_minor": 0,
  "metadata": {
    "colab": {
      "provenance": []
    },
    "kernelspec": {
      "name": "python3",
      "display_name": "Python 3"
    },
    "language_info": {
      "name": "python"
    }
  },
  "cells": [
    {
      "cell_type": "markdown",
      "source": [
        "# LeetCode Problem: Take Gifts From the Richest Pile"
      ],
      "metadata": {
        "id": "_95Z0L6yyK8Y"
      }
    },
    {
      "cell_type": "code",
      "execution_count": 4,
      "metadata": {
        "colab": {
          "base_uri": "https://localhost:8080/"
        },
        "id": "qXxzMP_RyF-X",
        "outputId": "081e35e0-7b1b-4032-a6e2-bfadb1a7e6db"
      },
      "outputs": [
        {
          "output_type": "stream",
          "name": "stdout",
          "text": [
            "29\n"
          ]
        }
      ],
      "source": [
        "from math import isqrt\n",
        "from heapq import heapify, heappush, heappop\n",
        "\n",
        "def pickGifts(gifts, k):\n",
        "        gifts=[-x for x in gifts]\n",
        "        heapify(gifts)\n",
        "        x, i=1<<32, 0\n",
        "        while i<k and x>1:\n",
        "            x=-heappop(gifts)\n",
        "            heappush(gifts, -isqrt(x))\n",
        "            i+=1\n",
        "        return -sum(gifts)\n",
        "\n",
        "gifts = [25,64,9,4,100]\n",
        "k = 4\n",
        "\n",
        "print(pickGifts(gifts, k))\n"
      ]
    },
    {
      "cell_type": "code",
      "source": [],
      "metadata": {
        "id": "c7UASV6nyjoo"
      },
      "execution_count": null,
      "outputs": []
    }
  ]
}