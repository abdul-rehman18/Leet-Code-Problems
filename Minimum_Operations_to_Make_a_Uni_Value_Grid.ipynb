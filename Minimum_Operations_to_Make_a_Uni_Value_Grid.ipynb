{
  "nbformat": 4,
  "nbformat_minor": 0,
  "metadata": {
    "colab": {
      "provenance": []
    },
    "kernelspec": {
      "name": "python3",
      "display_name": "Python 3"
    },
    "language_info": {
      "name": "python"
    }
  },
  "cells": [
    {
      "cell_type": "markdown",
      "source": [
        "# LeetCode Problem: Minimum Operations to Make a Uni-Value Grid"
      ],
      "metadata": {
        "id": "-fINdQfNCI-a"
      }
    },
    {
      "cell_type": "code",
      "execution_count": null,
      "metadata": {
        "id": "3qBZalbQB60B"
      },
      "outputs": [],
      "source": [
        "class Solution:\n",
        "    def minOperations(self, grid: List[List[int]], x: int) -> int:\n",
        "        values = sorted([val for row in grid for val in row])\n",
        "\n",
        "        diff = [abs(val - values[0]) % x for val in values]\n",
        "        if any(d != 0 for d in diff):\n",
        "            return -1\n",
        "\n",
        "        median = values[len(values) // 2]\n",
        "        operations = sum(abs(val - median) // x for val in values)\n",
        "\n",
        "        return operations\n",
        ""
      ]
    }
  ]
}