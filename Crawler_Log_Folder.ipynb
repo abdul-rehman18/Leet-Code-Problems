{
  "nbformat": 4,
  "nbformat_minor": 0,
  "metadata": {
    "colab": {
      "provenance": []
    },
    "kernelspec": {
      "name": "python3",
      "display_name": "Python 3"
    },
    "language_info": {
      "name": "python"
    }
  },
  "cells": [
    {
      "cell_type": "markdown",
      "source": [
        "# LeetCode Problem: Crawler Log Folder"
      ],
      "metadata": {
        "id": "Va2g2082YnVN"
      }
    },
    {
      "cell_type": "code",
      "execution_count": 1,
      "metadata": {
        "colab": {
          "base_uri": "https://localhost:8080/"
        },
        "id": "Ma5dO-SoX1BW",
        "outputId": "e846ce10-ece0-46f0-e8a1-2703a317acf7"
      },
      "outputs": [
        {
          "output_type": "stream",
          "name": "stdout",
          "text": [
            "2\n"
          ]
        }
      ],
      "source": [
        "def minOperations(logs):\n",
        "        depth = 0\n",
        "        for log in logs:\n",
        "            if log == \"../\":\n",
        "                depth -= 1 if depth > 0 else 0\n",
        "            elif log == \"./\":\n",
        "                depth += 0\n",
        "            else:\n",
        "                depth += 1\n",
        "        return depth\n",
        "\n",
        "logs = [\"d1/\",\"d2/\",\"../\",\"d21/\",\"./\"]\n",
        "\n",
        "print(minOperations(logs))"
      ]
    },
    {
      "cell_type": "code",
      "source": [],
      "metadata": {
        "id": "tkjO0SdzY5he"
      },
      "execution_count": null,
      "outputs": []
    }
  ]
}