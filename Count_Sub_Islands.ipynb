{
  "nbformat": 4,
  "nbformat_minor": 0,
  "metadata": {
    "colab": {
      "provenance": []
    },
    "kernelspec": {
      "name": "python3",
      "display_name": "Python 3"
    },
    "language_info": {
      "name": "python"
    }
  },
  "cells": [
    {
      "cell_type": "markdown",
      "source": [
        "# LeetCode Problem: Count Sub Islands"
      ],
      "metadata": {
        "id": "59d_mNyYt-Z_"
      }
    },
    {
      "cell_type": "code",
      "execution_count": 2,
      "metadata": {
        "colab": {
          "base_uri": "https://localhost:8080/"
        },
        "id": "0Jg91D_et1Td",
        "outputId": "140b96ba-3b5b-4b3a-8159-c7d815159d79"
      },
      "outputs": [
        {
          "output_type": "stream",
          "name": "stdout",
          "text": [
            "Number of sub-islands: 2\n"
          ]
        }
      ],
      "source": [
        "class Solution:\n",
        "    def countSubIslands(self, grid1, grid2):\n",
        "        if not grid1 or not grid1[0] or not grid2 or not grid2[0]:\n",
        "            return 0\n",
        "\n",
        "        ROWS, COLS = len(grid1), len(grid1[0])\n",
        "        DIRECTIONS = [(1, 0), (-1, 0), (0, 1), (0, -1)]\n",
        "        island_count = 0\n",
        "\n",
        "        def dfs_explore(r, c):\n",
        "            if r < 0 or r >= ROWS or c < 0 or c >= COLS or grid2[r][c] == 0:\n",
        "                return True\n",
        "\n",
        "            # Mark cell as visited\n",
        "            grid2[r][c] = 0\n",
        "\n",
        "            # Disqualify as sub-island if cell is water in grid1\n",
        "            if grid1[r][c] == 0:\n",
        "                nonlocal is_sub_island\n",
        "                is_sub_island = False\n",
        "\n",
        "            for dr, dc in DIRECTIONS:\n",
        "                dfs_explore(r + dr, c + dc)\n",
        "\n",
        "            return is_sub_island\n",
        "\n",
        "        for row in range(ROWS):\n",
        "            for col in range(COLS):\n",
        "                if grid2[row][col] == 1:\n",
        "                    is_sub_island = True\n",
        "                    if dfs_explore(row, col):\n",
        "                        island_count += 1\n",
        "\n",
        "        return island_count\n",
        "\n",
        "def main():\n",
        "    # Example input grids\n",
        "    grid1 = [\n",
        "        [1, 1, 1, 0, 0],\n",
        "        [1, 1, 0, 0, 0],\n",
        "        [1, 0, 0, 1, 1],\n",
        "        [0, 0, 0, 1, 1]\n",
        "    ]\n",
        "\n",
        "    grid2 = [\n",
        "        [1, 1, 1, 0, 0],\n",
        "        [0, 1, 0, 0, 0],\n",
        "        [1, 0, 1, 1, 1],\n",
        "        [0, 0, 0, 1, 1]\n",
        "    ]\n",
        "\n",
        "    # Create an instance of Solution\n",
        "    solution = Solution()\n",
        "\n",
        "    # Get the number of sub-islands\n",
        "    result = solution.countSubIslands(grid1, grid2)\n",
        "\n",
        "    # Print the result\n",
        "    print(\"Number of sub-islands:\", result)\n",
        "\n",
        "if __name__ == \"__main__\":\n",
        "    main()\n"
      ]
    },
    {
      "cell_type": "code",
      "source": [],
      "metadata": {
        "id": "9g7VmGKRu676"
      },
      "execution_count": null,
      "outputs": []
    }
  ]
}