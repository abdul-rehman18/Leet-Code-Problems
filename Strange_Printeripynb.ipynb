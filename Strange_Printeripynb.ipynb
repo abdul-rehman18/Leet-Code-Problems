{
  "nbformat": 4,
  "nbformat_minor": 0,
  "metadata": {
    "colab": {
      "provenance": []
    },
    "kernelspec": {
      "name": "python3",
      "display_name": "Python 3"
    },
    "language_info": {
      "name": "python"
    }
  },
  "cells": [
    {
      "cell_type": "markdown",
      "source": [
        "# LeetCode Problem: Strange Printer"
      ],
      "metadata": {
        "id": "NZn1hh0j06Ef"
      }
    },
    {
      "cell_type": "code",
      "execution_count": 1,
      "metadata": {
        "colab": {
          "base_uri": "https://localhost:8080/"
        },
        "id": "AMwxRprMyeE3",
        "outputId": "8427d7a8-e094-40ba-ed7b-7024d90b9aa0"
      },
      "outputs": [
        {
          "output_type": "stream",
          "name": "stdout",
          "text": [
            "Input: aaabbb, Output: 2\n",
            "Input: abcabc, Output: 5\n",
            "Input: aaaa, Output: 1\n",
            "Input: ababab, Output: 4\n"
          ]
        }
      ],
      "source": [
        "import functools\n",
        "\n",
        "class Solution:\n",
        "    def strangePrinter(self, s: str) -> int:\n",
        "        new = [c for i, c in enumerate(s) if i == len(s) - 1 or c != s[i + 1]]\n",
        "        n = len(new)\n",
        "\n",
        "        @functools.cache\n",
        "        def f(i, j):\n",
        "            ans = 0 if i == j else 1 + f(i + 1, j)\n",
        "            for k in range(i + 2, j):\n",
        "                if new[k] == new[i]:\n",
        "                    ans = min(ans, f(i + 1, k) + f(k, j))\n",
        "\n",
        "            return ans\n",
        "\n",
        "        return f(0, n)\n",
        "\n",
        "def main():\n",
        "    solution = Solution()\n",
        "    # Test cases\n",
        "    test_cases = [\n",
        "        \"aaabbb\",  # Expected output: 2\n",
        "        \"abcabc\",  # Expected output: 5\n",
        "        \"aaaa\",    # Expected output: 1\n",
        "        \"ababab\",  # Expected output: 4\n",
        "    ]\n",
        "    for s in test_cases:\n",
        "        print(f\"Input: {s}, Output: {solution.strangePrinter(s)}\")\n",
        "\n",
        "if __name__ == \"__main__\":\n",
        "    main()\n"
      ]
    },
    {
      "cell_type": "code",
      "source": [],
      "metadata": {
        "id": "lDc2SjhV1XAC"
      },
      "execution_count": null,
      "outputs": []
    }
  ]
}