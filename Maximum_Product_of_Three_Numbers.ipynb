{
  "nbformat": 4,
  "nbformat_minor": 0,
  "metadata": {
    "colab": {
      "provenance": []
    },
    "kernelspec": {
      "name": "python3",
      "display_name": "Python 3"
    },
    "language_info": {
      "name": "python"
    }
  },
  "cells": [
    {
      "cell_type": "markdown",
      "source": [
        "# LeetCode Problem: Maximum Product of Three Numbers"
      ],
      "metadata": {
        "id": "QdSLzaUNbTJL"
      }
    },
    {
      "cell_type": "code",
      "execution_count": 1,
      "metadata": {
        "colab": {
          "base_uri": "https://localhost:8080/"
        },
        "id": "EoGklSuGbEeB",
        "outputId": "c87c4a0c-13aa-4295-984f-cc37208f0612"
      },
      "outputs": [
        {
          "output_type": "stream",
          "name": "stdout",
          "text": [
            "6\n"
          ]
        }
      ],
      "source": [
        "def maximumProduct(nums):\n",
        "        nums.sort()\n",
        "        return max(nums[0]*nums[1]*nums[-1],nums[-1]*nums[-2]*nums[-3])\n",
        "\n",
        "\n",
        "nums =[1,2,3]\n",
        "print(maximumProduct(nums))"
      ]
    },
    {
      "cell_type": "code",
      "source": [],
      "metadata": {
        "id": "5MNJJLDGbOKU"
      },
      "execution_count": null,
      "outputs": []
    }
  ]
}