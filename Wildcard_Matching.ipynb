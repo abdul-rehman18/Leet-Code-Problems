{
  "nbformat": 4,
  "nbformat_minor": 0,
  "metadata": {
    "colab": {
      "provenance": []
    },
    "kernelspec": {
      "name": "python3",
      "display_name": "Python 3"
    },
    "language_info": {
      "name": "python"
    }
  },
  "cells": [
    {
      "cell_type": "markdown",
      "source": [
        "# LeetCode Problem: Wildcard Matching"
      ],
      "metadata": {
        "id": "jzJ2atPYN7GQ"
      }
    },
    {
      "cell_type": "code",
      "execution_count": 1,
      "metadata": {
        "colab": {
          "base_uri": "https://localhost:8080/"
        },
        "id": "WsvJ606cK-lZ",
        "outputId": "4b3393ec-b0f5-4f96-ad68-9b47a61dc29f"
      },
      "outputs": [
        {
          "output_type": "stream",
          "name": "stdout",
          "text": [
            "0\n"
          ]
        }
      ],
      "source": [
        "def isMatch(s, p):\n",
        "        pre, curr = [0]*(len(s)+1), [0]*(len(s)+1)\n",
        "        pre[0] = 1\n",
        "        pi = 0\n",
        "        while pi<len(p):\n",
        "            for i in range(len(curr)):\n",
        "                if p[pi]=='*' and pre[i]:\n",
        "                    for j in range(i, len(curr)):\n",
        "                        curr[j] = 1\n",
        "                elif i>0 and pre[i-1] and (p[pi] == s[i-1] or p[pi]=='?'): curr[i] = 1\n",
        "            pre = curr\n",
        "            curr = [0]*(len(s)+1)\n",
        "            pi+=1\n",
        "        return pre[-1]\n",
        "\n",
        "\n",
        "s = \"aa\"\n",
        "p = \"a\"\n",
        "print(isMatch(s,p))"
      ]
    },
    {
      "cell_type": "code",
      "source": [],
      "metadata": {
        "id": "Jcw9BJbyN_FO"
      },
      "execution_count": null,
      "outputs": []
    }
  ]
}