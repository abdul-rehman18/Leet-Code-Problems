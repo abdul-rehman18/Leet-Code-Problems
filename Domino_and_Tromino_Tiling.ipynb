{
  "nbformat": 4,
  "nbformat_minor": 0,
  "metadata": {
    "colab": {
      "provenance": []
    },
    "kernelspec": {
      "name": "python3",
      "display_name": "Python 3"
    },
    "language_info": {
      "name": "python"
    }
  },
  "cells": [
    {
      "cell_type": "markdown",
      "source": [
        "# LeetCode Problem:Domino and Tromino Tiling\n"
      ],
      "metadata": {
        "id": "r3MHVJ1kgMY8"
      }
    },
    {
      "cell_type": "code",
      "execution_count": null,
      "metadata": {
        "id": "Sh_vKgtMfZZ6"
      },
      "outputs": [],
      "source": [
        "class Solution:\n",
        "    def numTilings(self, n: int) -> int:\n",
        "        MOD = 10**9 + 7\n",
        "        if n <= 1:\n",
        "            return 1\n",
        "        if n == 2:\n",
        "            return 2\n",
        "        if n == 3:\n",
        "            return 5\n",
        "\n",
        "        dp = [0] * (n + 1)\n",
        "        dp[0], dp[1], dp[2], dp[3] = 1, 1, 2, 5\n",
        "\n",
        "        for i in range(4, n + 1):\n",
        "            dp[i] = (2 * dp[i - 1] + dp[i - 3]) % MOD\n",
        "\n",
        "        return dp[n]"
      ]
    }
  ]
}