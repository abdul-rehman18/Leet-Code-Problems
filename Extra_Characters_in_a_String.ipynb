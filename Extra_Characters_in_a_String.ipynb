{
  "nbformat": 4,
  "nbformat_minor": 0,
  "metadata": {
    "colab": {
      "provenance": []
    },
    "kernelspec": {
      "name": "python3",
      "display_name": "Python 3"
    },
    "language_info": {
      "name": "python"
    }
  },
  "cells": [
    {
      "cell_type": "markdown",
      "source": [
        "# leetCode Problem:Extra Characters in a String"
      ],
      "metadata": {
        "id": "z4ZZ75eO_zSh"
      }
    },
    {
      "cell_type": "code",
      "execution_count": 2,
      "metadata": {
        "colab": {
          "base_uri": "https://localhost:8080/"
        },
        "id": "VNWqa5QV_t1E",
        "outputId": "08489c0d-fc21-4a26-bfb6-f5092d7f012c"
      },
      "outputs": [
        {
          "output_type": "stream",
          "name": "stdout",
          "text": [
            "1\n"
          ]
        }
      ],
      "source": [
        "def minExtraChar(s, dictionary):\n",
        "        # Convert the dictionary list into a set for O(1) lookup time\n",
        "        wordSet = set(dictionary)\n",
        "        n = len(s)\n",
        "\n",
        "        # dp[i] will store the minimum extra characters in the substring s[i:]\n",
        "        dp = [0] * (n + 1)\n",
        "\n",
        "        # Fill dp array from right to left\n",
        "        for i in range(n - 1, -1, -1):\n",
        "            # By default, we assume the current character is extra\n",
        "            dp[i] = dp[i + 1] + 1\n",
        "\n",
        "            # Try to match any word from dictionary starting at index i\n",
        "            for length in range(1, n - i + 1):\n",
        "                if s[i:i + length] in wordSet:\n",
        "                    dp[i] = min(dp[i], dp[i + length])\n",
        "\n",
        "        # The answer is the number of extra characters in the entire string\n",
        "        return dp[0]\n",
        "\n",
        "s = \"leetscode\"\n",
        "dictionary = [\"leet\",\"code\",\"leetcode\"]\n",
        "\n",
        "print(minExtraChar(s, dictionary))"
      ]
    },
    {
      "cell_type": "code",
      "source": [],
      "metadata": {
        "id": "Pay6i_DuAFl2"
      },
      "execution_count": null,
      "outputs": []
    }
  ]
}