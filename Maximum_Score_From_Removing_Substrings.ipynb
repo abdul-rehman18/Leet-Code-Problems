{
  "nbformat": 4,
  "nbformat_minor": 0,
  "metadata": {
    "colab": {
      "provenance": []
    },
    "kernelspec": {
      "name": "python3",
      "display_name": "Python 3"
    },
    "language_info": {
      "name": "python"
    }
  },
  "cells": [
    {
      "cell_type": "markdown",
      "source": [
        "# LeetCode Problem: Maximum Score From Removing Substrings"
      ],
      "metadata": {
        "id": "a8zMwU8KAT9e"
      }
    },
    {
      "cell_type": "code",
      "execution_count": 1,
      "metadata": {
        "colab": {
          "base_uri": "https://localhost:8080/"
        },
        "id": "9o1NEIni8zCz",
        "outputId": "6944cf17-0ca3-4c65-bfc9-5c80166380a3"
      },
      "outputs": [
        {
          "output_type": "stream",
          "name": "stdout",
          "text": [
            "19\n"
          ]
        }
      ],
      "source": [
        "def maximumGain(s, x, y):\n",
        "        res = 0\n",
        "        if y > x:\n",
        "            top = \"ba\"\n",
        "            top_score = y\n",
        "            bot = \"ab\"\n",
        "            bot_score = x\n",
        "        else:\n",
        "            top = \"ab\"\n",
        "            top_score = x\n",
        "            bot = \"ba\"\n",
        "            bot_score = y\n",
        "\n",
        "        # removing first top substrings cause they give more points\n",
        "        stack: list[str] = []\n",
        "        for char in s:\n",
        "            if char == top[1] and stack and stack[-1] == top[0]:\n",
        "                res += top_score\n",
        "                stack.pop()  # delete first char of this substring\n",
        "            else:\n",
        "                stack.append(char)\n",
        "\n",
        "        # removing bot substrings cause they give less or equal amount of scores\n",
        "        new_stack: list[str] = []\n",
        "        for char in stack:\n",
        "            if char == bot[1] and new_stack and new_stack[-1] == bot[0]:\n",
        "                res += bot_score\n",
        "                new_stack.pop()\n",
        "            else:\n",
        "                new_stack.append(char)\n",
        "\n",
        "        return res\n",
        "\n",
        "s = \"cdbcbbaaabab\"\n",
        "x = 4\n",
        "y = 5\n",
        "\n",
        "print(maximumGain(s, x, y))"
      ]
    },
    {
      "cell_type": "code",
      "source": [],
      "metadata": {
        "id": "UYYpPlhIAliP"
      },
      "execution_count": null,
      "outputs": []
    }
  ]
}