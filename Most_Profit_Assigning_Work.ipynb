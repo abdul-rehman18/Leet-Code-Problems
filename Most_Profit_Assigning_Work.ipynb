{
  "nbformat": 4,
  "nbformat_minor": 0,
  "metadata": {
    "colab": {
      "provenance": []
    },
    "kernelspec": {
      "name": "python3",
      "display_name": "Python 3"
    },
    "language_info": {
      "name": "python"
    }
  },
  "cells": [
    {
      "cell_type": "markdown",
      "source": [
        "# LeetCode Problem: Most Profit Assigning Work"
      ],
      "metadata": {
        "id": "KZXQikjO6kCR"
      }
    },
    {
      "cell_type": "code",
      "execution_count": 2,
      "metadata": {
        "colab": {
          "base_uri": "https://localhost:8080/"
        },
        "id": "H6kr3ZKR40Rb",
        "outputId": "b46d4386-4d4d-4d9f-c28b-1a90d7a56c2a"
      },
      "outputs": [
        {
          "output_type": "stream",
          "name": "stdout",
          "text": [
            "100\n"
          ]
        }
      ],
      "source": [
        "def maxProfitAssignment(difficulty, profit, worker):\n",
        "        worker.sort()\n",
        "        diff_profit = [(0,0)] + sorted(list(zip(difficulty, profit)))\n",
        "        diff_i, cur_best_profit = 0, 0\n",
        "        total_profit = 0\n",
        "        for level in worker:\n",
        "            while diff_i+1 < len(diff_profit) and diff_profit[diff_i+1][0] <= level:\n",
        "                cur_best_profit = max(cur_best_profit, diff_profit[diff_i+1][1])\n",
        "                diff_i += 1\n",
        "            total_profit += cur_best_profit\n",
        "        return total_profit\n",
        "\n",
        "\n",
        "difficulty = [2,4,6,8,10]\n",
        "profit = [10,20,30,40,50]\n",
        "worker = [4,5,6,7]\n",
        "\n",
        "print(maxProfitAssignment(difficulty, profit, worker))"
      ]
    },
    {
      "cell_type": "code",
      "source": [],
      "metadata": {
        "id": "WQNozihk9BA1"
      },
      "execution_count": null,
      "outputs": []
    }
  ]
}