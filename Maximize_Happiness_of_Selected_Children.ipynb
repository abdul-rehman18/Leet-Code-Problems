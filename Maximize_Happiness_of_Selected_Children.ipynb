{
  "nbformat": 4,
  "nbformat_minor": 0,
  "metadata": {
    "colab": {
      "provenance": []
    },
    "kernelspec": {
      "name": "python3",
      "display_name": "Python 3"
    },
    "language_info": {
      "name": "python"
    }
  },
  "cells": [
    {
      "cell_type": "markdown",
      "source": [
        "# LeetCode Problem: Maximize Happiness of Selected Children"
      ],
      "metadata": {
        "id": "XlwjAXDUHI-H"
      }
    },
    {
      "cell_type": "code",
      "execution_count": 1,
      "metadata": {
        "colab": {
          "base_uri": "https://localhost:8080/"
        },
        "id": "YWGw5c6oG_k5",
        "outputId": "7457e16c-e1ff-491a-96c1-870b39a40b0a"
      },
      "outputs": [
        {
          "output_type": "stream",
          "name": "stdout",
          "text": [
            "4\n"
          ]
        }
      ],
      "source": [
        "def maximumHappinessSum(happiness, k):\n",
        "        happiness.sort(reverse=True)\n",
        "        i = 0\n",
        "        res = 0\n",
        "\n",
        "        while k > 0:\n",
        "            happiness[i] = max(happiness[i] - i, 0)\n",
        "            res += happiness[i]\n",
        "            i += 1\n",
        "            k -= 1\n",
        "\n",
        "        return res\n",
        "\n",
        "happiness = [1,2,3]\n",
        "k = 2\n",
        "print(maximumHappinessSum(happiness, k))"
      ]
    },
    {
      "cell_type": "code",
      "source": [],
      "metadata": {
        "id": "Jri1-iT-HccH"
      },
      "execution_count": null,
      "outputs": []
    }
  ]
}