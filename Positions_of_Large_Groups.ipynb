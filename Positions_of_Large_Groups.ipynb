{
  "nbformat": 4,
  "nbformat_minor": 0,
  "metadata": {
    "colab": {
      "provenance": []
    },
    "kernelspec": {
      "name": "python3",
      "display_name": "Python 3"
    },
    "language_info": {
      "name": "python"
    }
  },
  "cells": [
    {
      "cell_type": "markdown",
      "source": [
        "# LeetCode Problem: Positions of Large Groups"
      ],
      "metadata": {
        "id": "NC3MnTwmsLGJ"
      }
    },
    {
      "cell_type": "code",
      "execution_count": 1,
      "metadata": {
        "colab": {
          "base_uri": "https://localhost:8080/"
        },
        "id": "Gh3R_VYHsEvy",
        "outputId": "e790dd31-ff69-460c-81f5-6bd7ab0d17e2"
      },
      "outputs": [
        {
          "output_type": "stream",
          "name": "stdout",
          "text": [
            "[[3, 6]]\n"
          ]
        }
      ],
      "source": [
        "def largeGroupPositions(s):\n",
        "        s+=\" \"\n",
        "        start,cur,res = 0, s[0], []\n",
        "\n",
        "        for i, c in enumerate(s):\n",
        "            if c != cur:\n",
        "                if i - start >= 3:\n",
        "                    res.append([start, i-1])\n",
        "                start, cur = i, s[i]\n",
        "\n",
        "        return res\n",
        "\n",
        "\n",
        "\n",
        "s = \"abbxxxxzzy\"\n",
        "print(largeGroupPositions(s))"
      ]
    },
    {
      "cell_type": "code",
      "source": [],
      "metadata": {
        "id": "1qBd9ICItw1x"
      },
      "execution_count": null,
      "outputs": []
    }
  ]
}