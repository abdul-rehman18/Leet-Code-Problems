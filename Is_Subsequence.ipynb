{
  "nbformat": 4,
  "nbformat_minor": 0,
  "metadata": {
    "colab": {
      "provenance": []
    },
    "kernelspec": {
      "name": "python3",
      "display_name": "Python 3"
    },
    "language_info": {
      "name": "python"
    }
  },
  "cells": [
    {
      "cell_type": "markdown",
      "source": [
        "# LeetCode Problem: Is Subsequence"
      ],
      "metadata": {
        "id": "YQosBAKlHEBx"
      }
    },
    {
      "cell_type": "code",
      "execution_count": 1,
      "metadata": {
        "colab": {
          "base_uri": "https://localhost:8080/"
        },
        "id": "fLBnErVHG7eD",
        "outputId": "1902c216-6d99-46fc-8bfd-fc43257b01ee"
      },
      "outputs": [
        {
          "output_type": "stream",
          "name": "stdout",
          "text": [
            "True\n"
          ]
        }
      ],
      "source": [
        "def isSubsequence(s, t):\n",
        "        n = len(s)\n",
        "        index = 0\n",
        "        for c in t:\n",
        "            if index == n:\n",
        "                break\n",
        "            if c == s[index]:\n",
        "                index += 1\n",
        "        return n == index\n",
        "\n",
        "\n",
        "s = \"abc\"\n",
        "t = \"ahbgdc\"\n",
        "print(isSubsequence(s, t))"
      ]
    },
    {
      "cell_type": "code",
      "source": [],
      "metadata": {
        "id": "IJfcycdCJKXJ"
      },
      "execution_count": null,
      "outputs": []
    }
  ]
}