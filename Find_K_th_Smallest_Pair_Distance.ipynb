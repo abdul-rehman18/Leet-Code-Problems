{
  "nbformat": 4,
  "nbformat_minor": 0,
  "metadata": {
    "colab": {
      "provenance": []
    },
    "kernelspec": {
      "name": "python3",
      "display_name": "Python 3"
    },
    "language_info": {
      "name": "python"
    }
  },
  "cells": [
    {
      "cell_type": "markdown",
      "source": [
        "# LeetCode Problem: Find K-th Smallest Pair Distance"
      ],
      "metadata": {
        "id": "JM46se0iJmCK"
      }
    },
    {
      "cell_type": "code",
      "execution_count": 2,
      "metadata": {
        "colab": {
          "base_uri": "https://localhost:8080/"
        },
        "id": "_Wx0ENRzJQo1",
        "outputId": "63e4cb41-c1c1-47f2-ec6b-1ecbd919df87"
      },
      "outputs": [
        {
          "output_type": "stream",
          "name": "stdout",
          "text": [
            "The 1th smallest pair distance is: 0\n"
          ]
        }
      ],
      "source": [
        "class Solution:\n",
        "    def smallestDistancePair(self, nums,k):\n",
        "        nums.sort()\n",
        "        low, high = 0, nums[-1] - nums[0]\n",
        "\n",
        "        while low < high:\n",
        "            mid = (low + high) // 2\n",
        "            if self.countPairs(nums, mid) < k:\n",
        "                low = mid + 1\n",
        "            else:\n",
        "                high = mid\n",
        "\n",
        "        return low\n",
        "\n",
        "    def countPairs(self, nums, distance):\n",
        "        count = left = 0\n",
        "        for right in range(1, len(nums)):\n",
        "            while nums[right] - nums[left] > distance:\n",
        "                left += 1\n",
        "            count += right - left\n",
        "        return count\n",
        "\n",
        "def main():\n",
        "    # Example usage:\n",
        "    solution = Solution()\n",
        "\n",
        "    # Sample input\n",
        "    nums = [1, 3, 1]\n",
        "    k = 1\n",
        "\n",
        "    result = solution.smallestDistancePair(nums, k)\n",
        "    print(f\"The {k}th smallest pair distance is: {result}\")\n",
        "\n",
        "if __name__ == \"__main__\":\n",
        "    main()\n"
      ]
    },
    {
      "cell_type": "code",
      "source": [],
      "metadata": {
        "id": "EUufgv5dKgZi"
      },
      "execution_count": null,
      "outputs": []
    }
  ]
}