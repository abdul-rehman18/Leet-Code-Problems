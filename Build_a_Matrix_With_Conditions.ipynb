{
  "nbformat": 4,
  "nbformat_minor": 0,
  "metadata": {
    "colab": {
      "provenance": []
    },
    "kernelspec": {
      "name": "python3",
      "display_name": "Python 3"
    },
    "language_info": {
      "name": "python"
    }
  },
  "cells": [
    {
      "cell_type": "markdown",
      "source": [
        "# LeetCode Problem: Build a Matrix With Conditions"
      ],
      "metadata": {
        "id": "QPyu46rE3GtH"
      }
    },
    {
      "cell_type": "code",
      "execution_count": 1,
      "metadata": {
        "colab": {
          "base_uri": "https://localhost:8080/"
        },
        "id": "efldWe752uJv",
        "outputId": "9c926220-329f-4c1b-dbcb-2843903b2af0"
      },
      "outputs": [
        {
          "output_type": "stream",
          "name": "stdout",
          "text": [
            "[[3, 0, 0], [0, 0, 1], [0, 2, 0]]\n"
          ]
        }
      ],
      "source": [
        "from collections import defaultdict\n",
        "def buildMatrix(k, rowConditions, colConditions):\n",
        "        # return True if all okay and return False if cycle was found\n",
        "        def dfs(src, graph, visited, cur_path, res) -> bool:\n",
        "            if src in cur_path:\n",
        "                return False  # cycle detected\n",
        "\n",
        "            if src in visited:\n",
        "                return True  # all okay, but we've already visited this node\n",
        "\n",
        "            visited.add(src)\n",
        "            cur_path.add(src)\n",
        "\n",
        "            for neighbor in graph[src]:\n",
        "                if not dfs(neighbor, graph, visited, cur_path, res):  # if any child returns false\n",
        "                    return False\n",
        "\n",
        "            cur_path.remove(src)  # backtrack path\n",
        "            res.append(src)\n",
        "            return True\n",
        "\n",
        "        # if there will be cycle - return empty array, in other case return 1d array as described above\n",
        "        def topo_sort(edges) -> list[int]:\n",
        "            graph = defaultdict(list)\n",
        "            for src, dst in edges:\n",
        "                graph[src].append(dst)\n",
        "\n",
        "            visited: set[int] = set()\n",
        "            cur_path: set[int] = set()\n",
        "            res: list[int] = []\n",
        "\n",
        "            for src in range(1, k + 1, 1):\n",
        "                if not dfs(src, graph, visited, cur_path, res):\n",
        "                    return []\n",
        "\n",
        "            return res[::-1]  # we will have res as reversed so we need to reverse it one more time\n",
        "\n",
        "        row_sorting: list[int] = topo_sort(rowConditions)\n",
        "        col_sorting: list[int] = topo_sort(colConditions)\n",
        "        if [] in (row_sorting, col_sorting):\n",
        "            return []\n",
        "\n",
        "        value_position: dict[int, list[int]] = {\n",
        "            n: [0, 0] for n in range(1, k + 1, 1)\n",
        "        }  # element -> [row_index, col_index]\n",
        "        for ind, val in enumerate(row_sorting):\n",
        "            value_position[val][0] = ind\n",
        "        for ind, val in enumerate(col_sorting):\n",
        "            value_position[val][1] = ind\n",
        "\n",
        "        res: list[list[int]] = [[0 for _ in range(k)] for _ in range(k)]\n",
        "        for value in range(1, k + 1, 1):\n",
        "            row, column = value_position[value]\n",
        "            res[row][column] = value\n",
        "\n",
        "        return res\n",
        "\n",
        "\n",
        "k = 3\n",
        "rowConditions = [[1,2],[3,2]]\n",
        "colConditions = [[2,1],[3,2]]\n",
        "\n",
        "\n",
        "print(buildMatrix(k, rowConditions, colConditions))\n"
      ]
    },
    {
      "cell_type": "code",
      "source": [],
      "metadata": {
        "id": "Ke7CXJD03hRR"
      },
      "execution_count": null,
      "outputs": []
    }
  ]
}