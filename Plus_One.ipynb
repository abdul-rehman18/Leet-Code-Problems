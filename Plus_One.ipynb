{
 "cells": [
  {
   "cell_type": "markdown",
   "id": "55a4b2c0",
   "metadata": {},
   "source": [
    "# LeetCode Problem: Plus One"
   ]
  },
  {
   "cell_type": "code",
   "execution_count": 1,
   "id": "c6c74455",
   "metadata": {},
   "outputs": [
    {
     "name": "stdout",
     "output_type": "stream",
     "text": [
      "[1, 0]\n"
     ]
    }
   ],
   "source": [
    "def plusOne(digits):\n",
    "    s= int(''.join(map(str,digits)))+1\n",
    "    m_l = list(map(int,str(s)))\n",
    "    return m_l\n",
    "    \n",
    "digits = [9]\n",
    "ans=plusOne(digits)\n",
    "print(ans)"
   ]
  }
 ],
 "metadata": {
  "kernelspec": {
   "display_name": "Python 3 (ipykernel)",
   "language": "python",
   "name": "python3"
  },
  "language_info": {
   "codemirror_mode": {
    "name": "ipython",
    "version": 3
   },
   "file_extension": ".py",
   "mimetype": "text/x-python",
   "name": "python",
   "nbconvert_exporter": "python",
   "pygments_lexer": "ipython3",
   "version": "3.10.9"
  }
 },
 "nbformat": 4,
 "nbformat_minor": 5
}
