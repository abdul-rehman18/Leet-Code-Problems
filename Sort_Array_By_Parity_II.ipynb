{
  "nbformat": 4,
  "nbformat_minor": 0,
  "metadata": {
    "colab": {
      "provenance": []
    },
    "kernelspec": {
      "name": "python3",
      "display_name": "Python 3"
    },
    "language_info": {
      "name": "python"
    }
  },
  "cells": [
    {
      "cell_type": "markdown",
      "source": [
        "# LeetCode Problem: Sort Array By Parity II"
      ],
      "metadata": {
        "id": "3msCSWk4RZAg"
      }
    },
    {
      "cell_type": "code",
      "execution_count": 1,
      "metadata": {
        "colab": {
          "base_uri": "https://localhost:8080/"
        },
        "id": "zuNVzWnGQKvN",
        "outputId": "8f3df0db-457a-4c22-d26a-f3f1c71a73ea"
      },
      "outputs": [
        {
          "output_type": "stream",
          "name": "stdout",
          "text": [
            "[4, 5, 2, 7]\n"
          ]
        }
      ],
      "source": [
        "def sortArrayByParityII(nums):\n",
        "        e = []\n",
        "        o = []\n",
        "        l=[]\n",
        "        for i in range(len(nums)):\n",
        "            if nums[i]%2 == 0:\n",
        "                e.append(nums[i])\n",
        "            else:\n",
        "                o.append(nums[i])\n",
        "        for i in range(len(e)):\n",
        "            l.append(e[i])\n",
        "            l.append(o[i])\n",
        "        return l\n",
        "\n",
        "nums = [4,2,5,7]\n",
        "\n",
        "print(sortArrayByParityII(nums))"
      ]
    },
    {
      "cell_type": "code",
      "source": [],
      "metadata": {
        "id": "-g2jYG4PRUVk"
      },
      "execution_count": null,
      "outputs": []
    }
  ]
}