{
  "nbformat": 4,
  "nbformat_minor": 0,
  "metadata": {
    "colab": {
      "provenance": []
    },
    "kernelspec": {
      "name": "python3",
      "display_name": "Python 3"
    },
    "language_info": {
      "name": "python"
    }
  },
  "cells": [
    {
      "cell_type": "markdown",
      "source": [
        "# LeetCode Problem: Increasing Order Search Tree"
      ],
      "metadata": {
        "id": "jdmqD_Jja4Hn"
      }
    },
    {
      "cell_type": "code",
      "execution_count": 1,
      "metadata": {
        "colab": {
          "base_uri": "https://localhost:8080/"
        },
        "id": "M4fwbR_EaZDH",
        "outputId": "6269850b-1dd9-4965-dee5-f225491cec6a"
      },
      "outputs": [
        {
          "output_type": "stream",
          "name": "stdout",
          "text": [
            "1 2 3 4 5 6 7 8 9 "
          ]
        }
      ],
      "source": [
        "class TreeNode:\n",
        "    def __init__(self, val=0, left=None, right=None):\n",
        "        self.val = val\n",
        "        self.left = left\n",
        "        self.right = right\n",
        "\n",
        "class Solution:\n",
        "    def increasingBST(self, node: TreeNode) -> TreeNode:\n",
        "        dummy = tail = TreeNode()\n",
        "        while node is not None:\n",
        "            if node.left is not None:\n",
        "                predecessor = node.left\n",
        "                while predecessor.right is not None:\n",
        "                    predecessor = predecessor.right\n",
        "\n",
        "                predecessor.right = node\n",
        "                left, node.left = node.left, None\n",
        "                node = left\n",
        "            else:\n",
        "                tail.right = tail = node\n",
        "                node = node.right\n",
        "\n",
        "        return dummy.right\n",
        "\n",
        "def main():\n",
        "    root = TreeNode(5)\n",
        "    root.left = TreeNode(3)\n",
        "    root.right = TreeNode(6)\n",
        "    root.left.left = TreeNode(2)\n",
        "    root.left.right = TreeNode(4)\n",
        "    root.right.right = TreeNode(8)\n",
        "    root.left.left.left = TreeNode(1)\n",
        "    root.right.right.left = TreeNode(7)\n",
        "    root.right.right.right = TreeNode(9)\n",
        "\n",
        "    solution = Solution()\n",
        "    result = solution.increasingBST(root)\n",
        "\n",
        "    while result:\n",
        "        print(result.val, end=\" \")\n",
        "        result = result.right\n",
        "\n",
        "if __name__ == \"__main__\":\n",
        "    main()\n"
      ]
    },
    {
      "cell_type": "code",
      "source": [],
      "metadata": {
        "id": "y6ia3678axOW"
      },
      "execution_count": null,
      "outputs": []
    }
  ]
}