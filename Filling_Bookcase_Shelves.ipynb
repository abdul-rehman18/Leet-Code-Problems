{
  "nbformat": 4,
  "nbformat_minor": 0,
  "metadata": {
    "colab": {
      "provenance": []
    },
    "kernelspec": {
      "name": "python3",
      "display_name": "Python 3"
    },
    "language_info": {
      "name": "python"
    }
  },
  "cells": [
    {
      "cell_type": "markdown",
      "source": [
        "# LeetCode Problem: Filling Bookcase Shelves"
      ],
      "metadata": {
        "id": "3tbV1Z-XLaiW"
      }
    },
    {
      "cell_type": "code",
      "execution_count": 1,
      "metadata": {
        "colab": {
          "base_uri": "https://localhost:8080/"
        },
        "id": "f-HREMDuLVr8",
        "outputId": "f9ef1683-4360-4f5b-8bdb-7d17ca545037"
      },
      "outputs": [
        {
          "output_type": "stream",
          "name": "stdout",
          "text": [
            "6\n"
          ]
        }
      ],
      "source": [
        "def minHeightShelves(books, shelfWidth):\n",
        "        n = len(books)\n",
        "        f = [0] * (n + 1)\n",
        "        for i, (w, h) in enumerate(books, 1):\n",
        "            f[i] = f[i - 1] + h\n",
        "            for j in range(i - 1, 0, -1):\n",
        "                w += books[j - 1][0]\n",
        "                if w > shelfWidth:\n",
        "                    break\n",
        "                h = max(h, books[j - 1][1])\n",
        "                f[i] = min(f[i], f[j - 1] + h)\n",
        "        return f[n]\n",
        "\n",
        "books = [[1,1],[2,3],[2,3],[1,1],[1,1],[1,1],[1,2]]\n",
        "shelfWidth = 4\n",
        "\n",
        "print(minHeightShelves(books, shelfWidth))"
      ]
    },
    {
      "cell_type": "code",
      "source": [],
      "metadata": {
        "id": "K9RReGQEL31i"
      },
      "execution_count": null,
      "outputs": []
    }
  ]
}