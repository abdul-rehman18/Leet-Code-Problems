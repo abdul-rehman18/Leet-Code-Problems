{
  "nbformat": 4,
  "nbformat_minor": 0,
  "metadata": {
    "colab": {
      "provenance": []
    },
    "kernelspec": {
      "name": "python3",
      "display_name": "Python 3"
    },
    "language_info": {
      "name": "python"
    }
  },
  "cells": [
    {
      "cell_type": "markdown",
      "source": [
        "# LeetCode Problem: Prime Arrangements"
      ],
      "metadata": {
        "id": "7CrBwCHRdNFr"
      }
    },
    {
      "cell_type": "code",
      "execution_count": 1,
      "metadata": {
        "colab": {
          "base_uri": "https://localhost:8080/"
        },
        "id": "D9eZSE9Nc7i0",
        "outputId": "a1e816b1-146a-4890-bd7b-f326b7337a95"
      },
      "outputs": [
        {
          "output_type": "stream",
          "name": "stdout",
          "text": [
            "12\n"
          ]
        }
      ],
      "source": [
        "def numPrimeArrangements(n):\n",
        "        def factorial(n):\n",
        "            if n == 0:\n",
        "                return 1\n",
        "            else:\n",
        "                return n * factorial(n - 1)\n",
        "\n",
        "        def is_prime(num):\n",
        "            if num < 2:\n",
        "                return False\n",
        "            for i in range(2, int(num ** 0.5) + 1):\n",
        "                if num % i == 0:\n",
        "                    return False\n",
        "            return True\n",
        "\n",
        "        pcount = 0\n",
        "        for num in range(1, n + 1):\n",
        "            if is_prime(num):\n",
        "                pcount += 1\n",
        "\n",
        "        return factorial(pcount) * factorial(n - pcount) % (10**9 + 7)\n",
        "\n",
        "n=5\n",
        "print(numPrimeArrangements(n))"
      ]
    },
    {
      "cell_type": "code",
      "source": [],
      "metadata": {
        "id": "cfxZ2Go8dwel"
      },
      "execution_count": null,
      "outputs": []
    }
  ]
}