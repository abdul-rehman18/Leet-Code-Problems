{
  "nbformat": 4,
  "nbformat_minor": 0,
  "metadata": {
    "colab": {
      "provenance": []
    },
    "kernelspec": {
      "name": "python3",
      "display_name": "Python 3"
    },
    "language_info": {
      "name": "python"
    }
  },
  "cells": [
    {
      "cell_type": "markdown",
      "source": [
        "# LeetCode Problem: Make Lexicographically Smallest Array by Swapping Elements"
      ],
      "metadata": {
        "id": "PJVEo85kulU9"
      }
    },
    {
      "cell_type": "code",
      "execution_count": null,
      "metadata": {
        "colab": {
          "base_uri": "https://localhost:8080/"
        },
        "id": "3xmMADEouf7j",
        "outputId": "2a5f670f-d2c4-48d7-ee37-5d30a2b46370"
      },
      "outputs": [
        {
          "output_type": "stream",
          "name": "stdout",
          "text": [
            "[1, 3, 5, 8, 9]\n"
          ]
        }
      ],
      "source": [
        "def lexicographicallySmallestArray(nums, limit):\n",
        "        n = len(nums)\n",
        "        # Pair each number with its index and sort by the number\n",
        "        sorted_enum = sorted((num, i) for i, num in enumerate(nums))\n",
        "\n",
        "        new_positions = []\n",
        "        curr_positions = []\n",
        "        prev = float('-inf')\n",
        "\n",
        "        for num, idx in sorted_enum:\n",
        "            # If the current number exceeds the previous number by more than the limit,\n",
        "            # sort and append the current positions to the result\n",
        "            if num > prev + limit:\n",
        "                new_positions.extend(sorted(curr_positions))\n",
        "                curr_positions = [idx]\n",
        "            else:\n",
        "                curr_positions.append(idx)\n",
        "            prev = num\n",
        "\n",
        "        # Append any remaining positions\n",
        "        new_positions.extend(sorted(curr_positions))\n",
        "\n",
        "        # Construct the result array using the new positions\n",
        "        res = [0] * n\n",
        "        for i, idx in enumerate(new_positions):\n",
        "            res[idx] = sorted_enum[i][0]\n",
        "\n",
        "        return res\n",
        "\n",
        "nums = [1,5,3,9,8]\n",
        "limit = 2\n",
        "\n",
        "print(lexicographicallySmallestArray(nums, limit))"
      ]
    },
    {
      "cell_type": "code",
      "source": [],
      "metadata": {
        "id": "hp-Dg3dYu6gh"
      },
      "execution_count": null,
      "outputs": []
    }
  ]
}