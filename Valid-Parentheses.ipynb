{
 "cells": [
  {
   "cell_type": "markdown",
   "id": "9eece327",
   "metadata": {},
   "source": [
    "# LeetCode Problem: Valid Parentheses"
   ]
  },
  {
   "cell_type": "code",
   "execution_count": 10,
   "id": "9e5d5a10",
   "metadata": {},
   "outputs": [
    {
     "data": {
      "text/plain": [
       "True"
      ]
     },
     "execution_count": 10,
     "metadata": {},
     "output_type": "execute_result"
    }
   ],
   "source": [
    "def isValid(s):\n",
    "    temp =[]\n",
    "    brac_dict = {\n",
    "            '(': ')',\n",
    "            '{': '}',\n",
    "            '[': ']'\n",
    "        }\n",
    "    for i in s:\n",
    "        if i in brac_dict:\n",
    "            temp.append(i)\n",
    "        elif len(temp)==0 or i!=brac_dict[temp.pop()]:\n",
    "            return False\n",
    "    return len(temp)==0\n",
    "\n",
    "isValid('()')"
   ]
  },
  {
   "cell_type": "code",
   "execution_count": null,
   "id": "7d53e4ef",
   "metadata": {},
   "outputs": [],
   "source": []
  }
 ],
 "metadata": {
  "kernelspec": {
   "display_name": "Python 3 (ipykernel)",
   "language": "python",
   "name": "python3"
  },
  "language_info": {
   "codemirror_mode": {
    "name": "ipython",
    "version": 3
   },
   "file_extension": ".py",
   "mimetype": "text/x-python",
   "name": "python",
   "nbconvert_exporter": "python",
   "pygments_lexer": "ipython3",
   "version": "3.10.9"
  }
 },
 "nbformat": 4,
 "nbformat_minor": 5
}
