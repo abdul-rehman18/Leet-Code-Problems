{
  "nbformat": 4,
  "nbformat_minor": 0,
  "metadata": {
    "colab": {
      "provenance": []
    },
    "kernelspec": {
      "name": "python3",
      "display_name": "Python 3"
    },
    "language_info": {
      "name": "python"
    }
  },
  "cells": [
    {
      "cell_type": "markdown",
      "source": [
        "# LeetCode Problem: Delete Nodes From Linked List Present in Array"
      ],
      "metadata": {
        "id": "uNQmQFTEIxFs"
      }
    },
    {
      "cell_type": "code",
      "execution_count": 1,
      "metadata": {
        "colab": {
          "base_uri": "https://localhost:8080/"
        },
        "id": "Xhe5MSsIIdY4",
        "outputId": "a1ea345b-1138-4d50-daa4-6f32723ddd89"
      },
      "outputs": [
        {
          "output_type": "stream",
          "name": "stdout",
          "text": [
            "Original linked list:\n",
            "1 -> 2 -> 3 -> 4 -> 5\n",
            "Modified linked list:\n",
            "1 -> 4 -> 5\n"
          ]
        }
      ],
      "source": [
        "# Definition for singly-linked list.\n",
        "class ListNode:\n",
        "    def __init__(self, val=0, next=None):\n",
        "        self.val = val\n",
        "        self.next = next\n",
        "\n",
        "class Solution:\n",
        "    def modifiedList(self, nums, head):\n",
        "        s = set(nums)\n",
        "        while head and head.val in s:\n",
        "            head = head.next\n",
        "        if not head:\n",
        "            return None\n",
        "        prev = head\n",
        "        curr = head.next\n",
        "        while curr:\n",
        "            if curr.val not in s:\n",
        "                prev.next = curr\n",
        "                prev = curr\n",
        "            curr = curr.next\n",
        "        prev.next = None\n",
        "        return head\n",
        "\n",
        "# Helper function to create a linked list from a list\n",
        "def createLinkedList(arr):\n",
        "    if not arr:\n",
        "        return None\n",
        "    head = ListNode(arr[0])\n",
        "    current = head\n",
        "    for value in arr[1:]:\n",
        "        current.next = ListNode(value)\n",
        "        current = current.next\n",
        "    return head\n",
        "\n",
        "# Helper function to print the linked list\n",
        "def printLinkedList(head):\n",
        "    current = head\n",
        "    while current:\n",
        "        print(current.val, end=\" -> \" if current.next else \"\\n\")\n",
        "        current = current.next\n",
        "\n",
        "def main():\n",
        "    # Example usage\n",
        "    nums = [2, 3]\n",
        "    arr = [1, 2, 3, 4, 5]\n",
        "\n",
        "    # Create linked list from array\n",
        "    head = createLinkedList(arr)\n",
        "\n",
        "    print(\"Original linked list:\")\n",
        "    printLinkedList(head)\n",
        "\n",
        "    # Apply modifiedList function\n",
        "    solution = Solution()\n",
        "    modified_head = solution.modifiedList(nums, head)\n",
        "\n",
        "    print(\"Modified linked list:\")\n",
        "    printLinkedList(modified_head)\n",
        "\n",
        "if __name__ == \"__main__\":\n",
        "    main()\n"
      ]
    },
    {
      "cell_type": "code",
      "source": [],
      "metadata": {
        "id": "JhxtlSWUJKDU"
      },
      "execution_count": null,
      "outputs": []
    }
  ]
}