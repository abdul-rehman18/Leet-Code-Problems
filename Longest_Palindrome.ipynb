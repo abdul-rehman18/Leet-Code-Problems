{
  "nbformat": 4,
  "nbformat_minor": 0,
  "metadata": {
    "colab": {
      "provenance": []
    },
    "kernelspec": {
      "name": "python3",
      "display_name": "Python 3"
    },
    "language_info": {
      "name": "python"
    }
  },
  "cells": [
    {
      "cell_type": "markdown",
      "source": [
        "# LeetCode Problem: Longest Palindrome"
      ],
      "metadata": {
        "id": "-scBPm5W6wBz"
      }
    },
    {
      "cell_type": "code",
      "execution_count": 1,
      "metadata": {
        "colab": {
          "base_uri": "https://localhost:8080/"
        },
        "id": "0YBR4JWU4XpH",
        "outputId": "a347b574-fc7c-4418-b463-c88c13b842b7"
      },
      "outputs": [
        {
          "output_type": "stream",
          "name": "stdout",
          "text": [
            "7\n"
          ]
        }
      ],
      "source": [
        "def longestPalindrome(s):\n",
        "    ss = set()\n",
        "    for letter in s:\n",
        "        if letter not in ss:\n",
        "            ss.add(letter)\n",
        "        else:\n",
        "            ss.remove(letter)\n",
        "    if len(ss) != 0:\n",
        "        return len(s) - len(ss) + 1\n",
        "    else:\n",
        "        return len(s)\n",
        "\n",
        "s = \"abccccdd\"\n",
        "print(longestPalindrome(s))"
      ]
    },
    {
      "cell_type": "code",
      "source": [],
      "metadata": {
        "id": "cZroYmOg662r"
      },
      "execution_count": null,
      "outputs": []
    }
  ]
}