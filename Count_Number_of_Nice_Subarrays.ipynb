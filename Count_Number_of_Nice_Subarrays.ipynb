{
  "nbformat": 4,
  "nbformat_minor": 0,
  "metadata": {
    "colab": {
      "provenance": []
    },
    "kernelspec": {
      "name": "python3",
      "display_name": "Python 3"
    },
    "language_info": {
      "name": "python"
    }
  },
  "cells": [
    {
      "cell_type": "markdown",
      "source": [
        "# LeetCode Problem: Count Number of Nice Subarrays"
      ],
      "metadata": {
        "id": "VAf3EczYv4u6"
      }
    },
    {
      "cell_type": "code",
      "execution_count": null,
      "metadata": {
        "id": "qV7yTUMRvx6F"
      },
      "outputs": [],
      "source": [
        "def numberOfSubarrays(nums, k):\n",
        "        for i in range(len(nums)):\n",
        "            nums[i] %= 2\n",
        "\n",
        "        prefix_count = [0] * (len(nums) + 1)\n",
        "        prefix_count[0] = 1\n",
        "        s = 0\n",
        "        ans = 0\n",
        "\n",
        "        for num in nums:\n",
        "            s += num\n",
        "            if s >= k:\n",
        "                ans += prefix_count[s - k]\n",
        "            prefix_count[s] += 1\n",
        "\n",
        "        return ans\n",
        "nums = [1,1,2,1,1]\n",
        "k = 3\n",
        "print(numberOfSubarrays(nums, k))"
      ]
    }
  ]
}