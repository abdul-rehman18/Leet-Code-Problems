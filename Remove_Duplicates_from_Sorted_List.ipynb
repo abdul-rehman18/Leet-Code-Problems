{
 "cells": [
  {
   "cell_type": "markdown",
   "id": "0b0299df",
   "metadata": {},
   "source": [
    "# LeetCode Problem:Remove Duplicates from Sorted List"
   ]
  },
  {
   "cell_type": "code",
   "execution_count": 8,
   "id": "50ada91f",
   "metadata": {},
   "outputs": [
    {
     "name": "stdout",
     "output_type": "stream",
     "text": [
      "Original Linked List:\n",
      "1 -> 1 -> 2 -> 3 -> 3 -> None\n",
      "Linked List after removing duplicates:\n",
      "1 -> 2 -> 3 -> None\n"
     ]
    }
   ],
   "source": [
    "class ListNode:\n",
    "    def __init__(self, val=0, next=None):\n",
    "        self.val = val\n",
    "        self.next = next\n",
    "\n",
    "    def deleteDuplicates(head):\n",
    "        temp = head\n",
    "        while temp and temp.next:\n",
    "            if temp.next.val == temp.val:\n",
    "                temp.next = temp.next.next\n",
    "                continue\n",
    "            temp = temp.next\n",
    "        return head\n",
    "def print_linked_list(head):\n",
    "    current = head\n",
    "    while current:\n",
    "        print(current.val, end=\" -> \")\n",
    "        current = current.next\n",
    "    print(\"None\")\n",
    "\n",
    "def main():\n",
    "    head = ListNode(1)\n",
    "    head.next = ListNode(1)\n",
    "    head.next.next = ListNode(2)\n",
    "    head.next.next.next = ListNode(3)\n",
    "    head.next.next.next.next = ListNode(3)\n",
    "\n",
    "    print(\"Original Linked List:\")\n",
    "    print_linked_list(head)\n",
    "\n",
    "    # Call deleteDuplicates to remove duplicates\n",
    "    new_head = ListNode.deleteDuplicates(head)\n",
    "\n",
    "    print(\"Linked List after removing duplicates:\")\n",
    "    print_linked_list(new_head)\n",
    "\n",
    "if __name__ == \"__main__\":\n",
    "    main()\n",
    "\n",
    "        \n",
    "        \n"
   ]
  },
  {
   "cell_type": "code",
   "execution_count": null,
   "id": "a13551df",
   "metadata": {},
   "outputs": [],
   "source": []
  }
 ],
 "metadata": {
  "kernelspec": {
   "display_name": "Python 3 (ipykernel)",
   "language": "python",
   "name": "python3"
  },
  "language_info": {
   "codemirror_mode": {
    "name": "ipython",
    "version": 3
   },
   "file_extension": ".py",
   "mimetype": "text/x-python",
   "name": "python",
   "nbconvert_exporter": "python",
   "pygments_lexer": "ipython3",
   "version": "3.10.9"
  }
 },
 "nbformat": 4,
 "nbformat_minor": 5
}
