{
  "nbformat": 4,
  "nbformat_minor": 0,
  "metadata": {
    "colab": {
      "provenance": []
    },
    "kernelspec": {
      "name": "python3",
      "display_name": "Python 3"
    },
    "language_info": {
      "name": "python"
    }
  },
  "cells": [
    {
      "cell_type": "markdown",
      "source": [
        "# LeetCode Problem: Minimum Number of Arrows to Burst Balloons"
      ],
      "metadata": {
        "id": "Cx7R_XXTF-CH"
      }
    },
    {
      "cell_type": "code",
      "execution_count": 1,
      "metadata": {
        "colab": {
          "base_uri": "https://localhost:8080/"
        },
        "id": "MxPtXiWlDtCm",
        "outputId": "cb8cbb65-d99d-47f6-e386-6d6ab8909fbb"
      },
      "outputs": [
        {
          "output_type": "stream",
          "name": "stdout",
          "text": [
            "2\n"
          ]
        }
      ],
      "source": [
        "def findMinArrowShots(points):\n",
        "        points.sort(key=lambda x: x[1])\n",
        "        arrows = 0\n",
        "        arrow_pos = float('-inf')\n",
        "        for x_st, x_en in points:\n",
        "            if x_st > arrow_pos:\n",
        "                arrows += 1\n",
        "                arrow_pos = x_en\n",
        "        return arrows\n",
        "\n",
        "\n",
        "points = [[10,16],[2,8],[1,6],[7,12]]\n",
        "print(findMinArrowShots(points))"
      ]
    },
    {
      "cell_type": "code",
      "source": [],
      "metadata": {
        "id": "_O_5kDklF4hL"
      },
      "execution_count": null,
      "outputs": []
    }
  ]
}