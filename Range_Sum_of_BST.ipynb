{
  "nbformat": 4,
  "nbformat_minor": 0,
  "metadata": {
    "colab": {
      "provenance": []
    },
    "kernelspec": {
      "name": "python3",
      "display_name": "Python 3"
    },
    "language_info": {
      "name": "python"
    }
  },
  "cells": [
    {
      "cell_type": "markdown",
      "source": [
        "# LeetCode Problem: Range Sum of BST"
      ],
      "metadata": {
        "id": "IIsizyl2d51G"
      }
    },
    {
      "cell_type": "code",
      "execution_count": 2,
      "metadata": {
        "colab": {
          "base_uri": "https://localhost:8080/"
        },
        "id": "Zfel52hwZEyh",
        "outputId": "c2dcd5a5-cd09-440e-c7b1-1eb49bc94880"
      },
      "outputs": [
        {
          "output_type": "stream",
          "name": "stdout",
          "text": [
            "32\n"
          ]
        }
      ],
      "source": [
        "class TreeNode:\n",
        "    def __init__(self, val=0, left=None, right=None):\n",
        "        self.val = val\n",
        "        self.left = left\n",
        "        self.right = right\n",
        "\n",
        "class Solution:\n",
        "    def rangeSumBST(self, root, low, high):\n",
        "        if not root:\n",
        "            return 0\n",
        "\n",
        "        q = 0\n",
        "\n",
        "        def dfs(node):\n",
        "            nonlocal q\n",
        "            if not node:\n",
        "                return\n",
        "            if low <= node.val <= high:\n",
        "                q += node.val\n",
        "            if node.val > low:\n",
        "                dfs(node.left)\n",
        "            if node.val < high:\n",
        "                dfs(node.right)\n",
        "\n",
        "        dfs(root)\n",
        "        return q\n",
        "\n",
        "def main():\n",
        "    root = TreeNode(10)\n",
        "    root.left = TreeNode(5)\n",
        "    root.right = TreeNode(15)\n",
        "    root.left.left = TreeNode(3)\n",
        "    root.left.right = TreeNode(7)\n",
        "    root.right.right = TreeNode(18)\n",
        "    solution = Solution()\n",
        "    print(solution.rangeSumBST(root, 7, 15))\n",
        "\n",
        "if __name__ == \"__main__\":\n",
        "    main()\n"
      ]
    },
    {
      "cell_type": "code",
      "source": [],
      "metadata": {
        "id": "KOUKeXLEd1PU"
      },
      "execution_count": null,
      "outputs": []
    }
  ]
}