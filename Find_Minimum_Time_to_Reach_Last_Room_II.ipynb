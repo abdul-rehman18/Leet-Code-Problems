{
  "nbformat": 4,
  "nbformat_minor": 0,
  "metadata": {
    "colab": {
      "provenance": []
    },
    "kernelspec": {
      "name": "python3",
      "display_name": "Python 3"
    },
    "language_info": {
      "name": "python"
    }
  },
  "cells": [
    {
      "cell_type": "code",
      "execution_count": null,
      "metadata": {
        "id": "-UMPh2K3_ZxV"
      },
      "outputs": [],
      "source": [
        "class Solution:\n",
        "    def minTimeToReach(self, moveTime):\n",
        "        n = len(moveTime)\n",
        "        m = len(moveTime[0])\n",
        "        INF = float('inf')\n",
        "        dp = [[INF]*m for _ in range(n)]\n",
        "        minh = [(0, 0, 0)]\n",
        "        moveTime[0][0] = 0\n",
        "\n",
        "        directions = [(1, 0), (0, 1), (-1, 0), (0, -1)]\n",
        "        while minh:\n",
        "            currTime, currRow, currCol = heapq.heappop(minh)\n",
        "            if currTime >= dp[currRow][currCol]:\n",
        "                continue\n",
        "            if currRow == n - 1 and currCol == m - 1:\n",
        "                return currTime\n",
        "            dp[currRow][currCol] = currTime\n",
        "\n",
        "            for dr, dc in directions:\n",
        "                nextRow = currRow + dr\n",
        "                nextCol = currCol + dc\n",
        "                if 0 <= nextRow < n and 0 <= nextCol < m and dp[nextRow][nextCol] == INF:\n",
        "                    cost  = (currRow + currCol) % 2 + 1\n",
        "                    start = max(moveTime[nextRow][nextCol], currTime)\n",
        "                    nextTime = start + cost\n",
        "                    heapq.heappush(minh, (nextTime, nextRow, nextCol))\n",
        "\n",
        "        return -1"
      ]
    }
  ]
}