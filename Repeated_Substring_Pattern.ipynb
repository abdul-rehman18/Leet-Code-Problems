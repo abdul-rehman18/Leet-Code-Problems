{
  "nbformat": 4,
  "nbformat_minor": 0,
  "metadata": {
    "colab": {
      "provenance": []
    },
    "kernelspec": {
      "name": "python3",
      "display_name": "Python 3"
    },
    "language_info": {
      "name": "python"
    }
  },
  "cells": [
    {
      "cell_type": "markdown",
      "source": [
        "# LeetCode Problem: Repeated Substring Pattern"
      ],
      "metadata": {
        "id": "Oq9mYMqO7Eva"
      }
    },
    {
      "cell_type": "code",
      "execution_count": 8,
      "metadata": {
        "colab": {
          "base_uri": "https://localhost:8080/"
        },
        "id": "abvrnKUo5jkj",
        "outputId": "250f14bd-a58a-40f9-b980-84544af7178f"
      },
      "outputs": [
        {
          "output_type": "stream",
          "name": "stdout",
          "text": [
            "abaaba\n",
            "baab\n",
            "False\n"
          ]
        }
      ],
      "source": [
        "def repeatedSubstringPattern(s):\n",
        "    concatenated = s + s\n",
        "    # print(concatenated)\n",
        "    concatenated = concatenated[1:-1]\n",
        "    # print(concatenated)\n",
        "    return s in concatenated\n",
        "\n",
        "s = \"aba\"\n",
        "print(repeatedSubstringPattern(s))\n"
      ]
    },
    {
      "cell_type": "code",
      "source": [],
      "metadata": {
        "id": "lmui4esM7HuO"
      },
      "execution_count": null,
      "outputs": []
    }
  ]
}