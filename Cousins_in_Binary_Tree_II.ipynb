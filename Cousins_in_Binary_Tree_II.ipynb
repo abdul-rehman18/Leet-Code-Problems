{
  "nbformat": 4,
  "nbformat_minor": 0,
  "metadata": {
    "colab": {
      "provenance": []
    },
    "kernelspec": {
      "name": "python3",
      "display_name": "Python 3"
    },
    "language_info": {
      "name": "python"
    }
  },
  "cells": [
    {
      "cell_type": "markdown",
      "source": [
        "# LeetCode Problem: Cousins in Binary Tree II"
      ],
      "metadata": {
        "id": "UBA8J49nmXgI"
      }
    },
    {
      "cell_type": "code",
      "execution_count": 2,
      "metadata": {
        "colab": {
          "base_uri": "https://localhost:8080/"
        },
        "id": "aIVMv1WjmDjE",
        "outputId": "f9db52e3-41c7-47f0-9d56-3e151e658ea4"
      },
      "outputs": [
        {
          "output_type": "stream",
          "name": "stdout",
          "text": [
            "<__main__.TreeNode object at 0x7fad9b791660>\n"
          ]
        }
      ],
      "source": [
        "from collections import deque\n",
        "class TreeNode:\n",
        "    def __init__(self, val=0, left=None, right=None):\n",
        "        self.val = val\n",
        "        self.left = left\n",
        "        self.right = right\n",
        "class Solution:\n",
        "    def replaceValueInTree(self, root):\n",
        "\n",
        "        pq = deque()\n",
        "        pq.append((root.val, root))\n",
        "\n",
        "        while pq:\n",
        "            n = len(pq)\n",
        "\n",
        "\t\t\t# calculate levelSum at each level\n",
        "            levelSum = 0\n",
        "            for localSum, node in pq:\n",
        "                levelSum += node.val\n",
        "\n",
        "            for i in range(n):\n",
        "                localSum, node = pq.popleft()\n",
        "\n",
        "\t\t\t\t# calculate childSum\n",
        "                childSum = 0\n",
        "                if node.left: childSum += node.left.val\n",
        "                if node.right: childSum += node.right.val\n",
        "\n",
        "\t\t\t\t# queue children with childSum\n",
        "                if node.left: pq.append((childSum, node.left))\n",
        "                if node.right: pq.append((childSum, node.right))\n",
        "\n",
        "\t\t\t\t# new node value is levelSum - localSum\n",
        "                node.val = levelSum - localSum\n",
        "\n",
        "        return root\n",
        "\n",
        "root = TreeNode(5)\n",
        "root.left = TreeNode(3)\n",
        "root.right = TreeNode(1)\n",
        "sols = Solution()\n",
        "print(sols.replaceValueInTree(root))\n"
      ]
    },
    {
      "cell_type": "code",
      "source": [],
      "metadata": {
        "id": "8LUCWk2nqGj0"
      },
      "execution_count": null,
      "outputs": []
    }
  ]
}