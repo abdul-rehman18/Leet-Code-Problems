{
  "nbformat": 4,
  "nbformat_minor": 0,
  "metadata": {
    "colab": {
      "provenance": []
    },
    "kernelspec": {
      "name": "python3",
      "display_name": "Python 3"
    },
    "language_info": {
      "name": "python"
    }
  },
  "cells": [
    {
      "cell_type": "markdown",
      "source": [
        "# LeetCode Problem: Stone Game II"
      ],
      "metadata": {
        "id": "KXb_OJ0OvULE"
      }
    },
    {
      "cell_type": "code",
      "execution_count": 1,
      "metadata": {
        "colab": {
          "base_uri": "https://localhost:8080/"
        },
        "id": "qriODg9avJzk",
        "outputId": "981fe6bc-c48f-4473-8d38-427225e22261"
      },
      "outputs": [
        {
          "output_type": "stream",
          "name": "stdout",
          "text": [
            "10\n"
          ]
        }
      ],
      "source": [
        "def stoneGameII(piles):\n",
        "        n = len(piles)\n",
        "        dp = [[0] * (n + 1) for _ in range(n)]\n",
        "        suffix_sum = [0] * n\n",
        "        suffix_sum[-1] = piles[-1]\n",
        "        for i in range(n - 2, -1, -1):\n",
        "            suffix_sum[i] = suffix_sum[i + 1] + piles[i]\n",
        "        for i in range(n - 1, -1, -1):\n",
        "            for m in range(1, n + 1):\n",
        "                if i + 2 * m >= n:\n",
        "                    dp[i][m] = suffix_sum[i]\n",
        "                else:\n",
        "                    for x in range(1, 2 * m + 1):\n",
        "                        dp[i][m] = max(dp[i][m], suffix_sum[i] - dp[i + x][max(m, x)])\n",
        "        return dp[0][1]\n",
        "\n",
        "piles = [2,7,9,4,4]\n",
        "\n",
        "print(stoneGameII(piles))"
      ]
    },
    {
      "cell_type": "code",
      "source": [],
      "metadata": {
        "id": "CeYEkOujvouA"
      },
      "execution_count": null,
      "outputs": []
    }
  ]
}