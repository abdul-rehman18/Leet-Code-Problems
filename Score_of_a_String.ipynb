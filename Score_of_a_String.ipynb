{
  "nbformat": 4,
  "nbformat_minor": 0,
  "metadata": {
    "colab": {
      "provenance": []
    },
    "kernelspec": {
      "name": "python3",
      "display_name": "Python 3"
    },
    "language_info": {
      "name": "python"
    }
  },
  "cells": [
    {
      "cell_type": "markdown",
      "source": [
        "# LeetCode Problem: Score of a String"
      ],
      "metadata": {
        "id": "Rqm0MVLFnlBr"
      }
    },
    {
      "cell_type": "code",
      "execution_count": 2,
      "metadata": {
        "colab": {
          "base_uri": "https://localhost:8080/"
        },
        "id": "ENRpHt4XnbrW",
        "outputId": "150dbc27-365c-40b5-af9f-ae13e20152d7"
      },
      "outputs": [
        {
          "output_type": "stream",
          "name": "stdout",
          "text": [
            "13\n"
          ]
        }
      ],
      "source": [
        "def scoreOfString(s):\n",
        "        sc = 0\n",
        "        for i in range(len(s)-1):\n",
        "            sc += abs(ord(s[i])-ord(s[i+1]))\n",
        "        return sc\n",
        "\n",
        "s = \"hello\"\n",
        "print(scoreOfString(s))"
      ]
    },
    {
      "cell_type": "code",
      "source": [],
      "metadata": {
        "id": "vCfZYqtcoFGX"
      },
      "execution_count": null,
      "outputs": []
    }
  ]
}