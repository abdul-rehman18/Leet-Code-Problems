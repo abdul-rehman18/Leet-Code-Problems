{
  "nbformat": 4,
  "nbformat_minor": 0,
  "metadata": {
    "colab": {
      "provenance": []
    },
    "kernelspec": {
      "name": "python3",
      "display_name": "Python 3"
    },
    "language_info": {
      "name": "python"
    }
  },
  "cells": [
    {
      "cell_type": "markdown",
      "source": [
        "# LeetCode Problem: Check if Number is a Sum of Powers of Three"
      ],
      "metadata": {
        "id": "z5iZWKpfg5V9"
      }
    },
    {
      "cell_type": "code",
      "execution_count": null,
      "metadata": {
        "id": "b_B-TMeHgHs1"
      },
      "outputs": [],
      "source": [
        "class Solution:\n",
        "    def checkPowersOfThree(self, n: int) -> bool:\n",
        "        while n > 0:\n",
        "            if n % 3 == 2:\n",
        "                return False\n",
        "            n //= 3\n",
        "\n",
        "        return True"
      ]
    }
  ]
}