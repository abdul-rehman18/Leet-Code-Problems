{
  "nbformat": 4,
  "nbformat_minor": 0,
  "metadata": {
    "colab": {
      "provenance": []
    },
    "kernelspec": {
      "name": "python3",
      "display_name": "Python 3"
    },
    "language_info": {
      "name": "python"
    }
  },
  "cells": [
    {
      "cell_type": "markdown",
      "source": [
        "# LeetCode Problem: Count Symmetric Integers"
      ],
      "metadata": {
        "id": "yu5APbSm8oxG"
      }
    },
    {
      "cell_type": "code",
      "execution_count": null,
      "metadata": {
        "id": "_KTwnNdr8lws"
      },
      "outputs": [],
      "source": [
        "class Solution:\n",
        "    def countSymmetricIntegers(self, low: int, high: int) -> int:\n",
        "        count = 0  # 🍜 Mission count\n",
        "\n",
        "        for num in range(low, high + 1):\n",
        "            s = str(num)  # 🔍 Naruto's string transformation no jutsu\n",
        "            n = len(s)\n",
        "\n",
        "            if n % 2 != 0:\n",
        "                continue  # ☠️ Odd-digit numbers are not balanced, skip\n",
        "\n",
        "            half = n // 2\n",
        "            left = sum(int(s[i]) for i in range(half))  # ⬅️ Left chakra\n",
        "            right = sum(int(s[i]) for i in range(half, n))  # ➡️ Right chakra\n",
        "\n",
        "            if left == right:\n",
        "                count += 1  # ✅ Symmetry detected, add to mission count\n",
        "\n",
        "        return count"
      ]
    }
  ]
}