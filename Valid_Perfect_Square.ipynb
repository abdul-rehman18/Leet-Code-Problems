{
  "nbformat": 4,
  "nbformat_minor": 0,
  "metadata": {
    "colab": {
      "provenance": []
    },
    "kernelspec": {
      "name": "python3",
      "display_name": "Python 3"
    },
    "language_info": {
      "name": "python"
    }
  },
  "cells": [
    {
      "cell_type": "markdown",
      "source": [
        "# LeetCode Problem: Valid Perfect Square"
      ],
      "metadata": {
        "id": "M7KtcNOZentR"
      }
    },
    {
      "cell_type": "code",
      "execution_count": 2,
      "metadata": {
        "colab": {
          "base_uri": "https://localhost:8080/"
        },
        "id": "QZtkb2X9eUXi",
        "outputId": "ab84a702-95e6-4b2e-bc7b-8335d8f98ca0"
      },
      "outputs": [
        {
          "output_type": "stream",
          "name": "stdout",
          "text": [
            "True\n"
          ]
        }
      ],
      "source": [
        "def isPerfectSquare(num):\n",
        "        st,end =1,num\n",
        "        while st<=end:\n",
        "            mid = (st+end)//2\n",
        "            if mid*mid == num:\n",
        "                return True\n",
        "            elif mid*mid <num:\n",
        "                st = mid+1\n",
        "            else:\n",
        "                end = mid-1\n",
        "        return False\n",
        "\n",
        "\n",
        "num = 16\n",
        "print(isPerfectSquare(num))"
      ]
    },
    {
      "cell_type": "code",
      "source": [],
      "metadata": {
        "id": "H4H-_D4ahMgP"
      },
      "execution_count": null,
      "outputs": []
    }
  ]
}