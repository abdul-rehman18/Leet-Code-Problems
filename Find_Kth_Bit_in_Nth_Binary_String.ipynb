{
  "nbformat": 4,
  "nbformat_minor": 0,
  "metadata": {
    "colab": {
      "provenance": []
    },
    "kernelspec": {
      "name": "python3",
      "display_name": "Python 3"
    },
    "language_info": {
      "name": "python"
    }
  },
  "cells": [
    {
      "cell_type": "markdown",
      "source": [
        "# LeetCode Problem: Find Kth Bit in Nth Binary String"
      ],
      "metadata": {
        "id": "ZvOeGzmmSSA3"
      }
    },
    {
      "cell_type": "code",
      "execution_count": 1,
      "metadata": {
        "colab": {
          "base_uri": "https://localhost:8080/"
        },
        "id": "EKDtBjyaRbaB",
        "outputId": "58a9cc8c-222a-4661-f007-065fcd754778"
      },
      "outputs": [
        {
          "output_type": "stream",
          "name": "stdout",
          "text": [
            "0\n"
          ]
        }
      ],
      "source": [
        "class Solution:\n",
        "    def findKthBit(self, n: int, k: int) -> str:\n",
        "        if n == 1:\n",
        "            return '0'\n",
        "        length = (1 << n) - 1\n",
        "        mid = length // 2 + 1\n",
        "        if k == mid:\n",
        "            return '1'\n",
        "        if k < mid:\n",
        "            return self.findKthBit(n - 1, k)\n",
        "        return '1' if self.findKthBit(n - 1, length - k + 1) == '0' else '0'\n",
        "\n",
        "n = 3\n",
        "k = 1\n",
        "solution = Solution()\n",
        "print(solution.findKthBit(n, k))\n"
      ]
    },
    {
      "cell_type": "code",
      "source": [],
      "metadata": {
        "id": "xg2Ag311Slbk"
      },
      "execution_count": null,
      "outputs": []
    }
  ]
}