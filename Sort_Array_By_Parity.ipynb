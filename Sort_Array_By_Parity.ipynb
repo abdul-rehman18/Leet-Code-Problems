{
  "nbformat": 4,
  "nbformat_minor": 0,
  "metadata": {
    "colab": {
      "provenance": []
    },
    "kernelspec": {
      "name": "python3",
      "display_name": "Python 3"
    },
    "language_info": {
      "name": "python"
    }
  },
  "cells": [
    {
      "cell_type": "markdown",
      "source": [
        "# LeetCode Problem: Sort Array By Parity"
      ],
      "metadata": {
        "id": "kr8OWiTAPaov"
      }
    },
    {
      "cell_type": "code",
      "execution_count": 1,
      "metadata": {
        "colab": {
          "base_uri": "https://localhost:8080/"
        },
        "id": "tHw5_p2zNQco",
        "outputId": "a93c38e8-8e2b-423f-9647-55248e573868"
      },
      "outputs": [
        {
          "output_type": "stream",
          "name": "stdout",
          "text": [
            "[2, 4, 3, 1]\n"
          ]
        }
      ],
      "source": [
        "def sortArrayByParity(nums):\n",
        "        return [i for i in nums if i%2==0]+[i for i in nums if i%2==1]\n",
        "\n",
        "\n",
        "nums=[3,1,2,4]\n",
        "print(sortArrayByParity(nums))"
      ]
    },
    {
      "cell_type": "code",
      "source": [],
      "metadata": {
        "id": "UAAvtBGSPYCG"
      },
      "execution_count": null,
      "outputs": []
    }
  ]
}