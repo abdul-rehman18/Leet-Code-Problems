{
  "nbformat": 4,
  "nbformat_minor": 0,
  "metadata": {
    "colab": {
      "provenance": []
    },
    "kernelspec": {
      "name": "python3",
      "display_name": "Python 3"
    },
    "language_info": {
      "name": "python"
    }
  },
  "cells": [
    {
      "cell_type": "markdown",
      "source": [
        "# LeetCode Problem: Solving Questions With Brainpower"
      ],
      "metadata": {
        "id": "vwiw8PMBCvqE"
      }
    },
    {
      "cell_type": "code",
      "execution_count": null,
      "metadata": {
        "id": "3fgFh7mYCq2G"
      },
      "outputs": [],
      "source": [
        "class Solution:\n",
        "    def mostPoints(self, questions: List[List[int]]) -> int:\n",
        "        n = len(questions)\n",
        "        dp = [0] * (n + 1)\n",
        "\n",
        "        for i in range(n - 1, -1, -1):\n",
        "            points = questions[i][0]\n",
        "            brainpower = questions[i][1]\n",
        "            next_q = i + brainpower + 1\n",
        "\n",
        "            take = points + (dp[next_q] if next_q < n else 0)\n",
        "            skip = dp[i + 1]\n",
        "\n",
        "            dp[i] = max(take, skip)\n",
        "\n",
        "        return dp[0]"
      ]
    }
  ]
}