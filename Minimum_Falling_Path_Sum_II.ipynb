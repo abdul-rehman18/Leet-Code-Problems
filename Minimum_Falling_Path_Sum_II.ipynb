{
  "nbformat": 4,
  "nbformat_minor": 0,
  "metadata": {
    "colab": {
      "provenance": []
    },
    "kernelspec": {
      "name": "python3",
      "display_name": "Python 3"
    },
    "language_info": {
      "name": "python"
    }
  },
  "cells": [
    {
      "cell_type": "markdown",
      "source": [
        "# LeetCode Problem: Minimum Falling Path Sum II"
      ],
      "metadata": {
        "id": "k6N2qjknFJB0"
      }
    },
    {
      "cell_type": "code",
      "execution_count": 2,
      "metadata": {
        "colab": {
          "base_uri": "https://localhost:8080/"
        },
        "id": "xMtul7yUEZVl",
        "outputId": "d651f143-55f7-484b-9f4c-4723a2709dc6"
      },
      "outputs": [
        {
          "output_type": "stream",
          "name": "stdout",
          "text": [
            "13\n"
          ]
        }
      ],
      "source": [
        "def minFallingPathSum(grid):\n",
        "        n, res = len(grid), float('inf')\n",
        "        dp = [[-1] * n for _ in range(n)]\n",
        "\n",
        "        for j in range(n):\n",
        "            dp[0][j] = grid[0][j]\n",
        "\n",
        "        for i in range(1, n):\n",
        "            for j in range(n):\n",
        "                temp = float('inf')\n",
        "\n",
        "                for k in range(n):\n",
        "                    if j != k:\n",
        "                        temp = min(temp, grid[i][j] + dp[i - 1][k])\n",
        "\n",
        "                dp[i][j] = temp\n",
        "\n",
        "        for j in range(n):\n",
        "            res = min(res, dp[n - 1][j])\n",
        "\n",
        "        return res\n",
        "\n",
        "grid = [[1,2,3],[4,5,6],[7,8,9]]\n",
        "print(minFallingPathSum(grid))"
      ]
    },
    {
      "cell_type": "code",
      "source": [],
      "metadata": {
        "id": "18t-vZfJE-BQ"
      },
      "execution_count": null,
      "outputs": []
    }
  ]
}