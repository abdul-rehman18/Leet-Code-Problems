{
  "nbformat": 4,
  "nbformat_minor": 0,
  "metadata": {
    "colab": {
      "provenance": []
    },
    "kernelspec": {
      "name": "python3",
      "display_name": "Python 3"
    },
    "language_info": {
      "name": "python"
    }
  },
  "cells": [
    {
      "cell_type": "markdown",
      "source": [
        "# LeetCode Problem: Unique Email Addresses"
      ],
      "metadata": {
        "id": "2ZtipdbPiMrB"
      }
    },
    {
      "cell_type": "code",
      "execution_count": 1,
      "metadata": {
        "colab": {
          "base_uri": "https://localhost:8080/"
        },
        "id": "hOst7gsLgelU",
        "outputId": "0044e1e8-de4f-4e0e-c637-f950b5c0bc69"
      },
      "outputs": [
        {
          "output_type": "stream",
          "name": "stdout",
          "text": [
            "2\n"
          ]
        }
      ],
      "source": [
        "def numUniqueEmails(emails):\n",
        "        def p(e):\n",
        "            l,d =  e.split('@')\n",
        "            l = l.split('+')[0].replace('.',\"\")\n",
        "            return f\"{l}@{d}\"\n",
        "        return len(set(map(p,emails)))\n",
        "\n",
        "emails = [\"test.email+alex@leetcode.com\",\"test.e.mail+bob.cathy@leetcode.com\",\"testemail+david@lee.tcode.com\"]\n",
        "print(numUniqueEmails(emails))"
      ]
    },
    {
      "cell_type": "code",
      "source": [],
      "metadata": {
        "id": "QZy3COf6iH_k"
      },
      "execution_count": null,
      "outputs": []
    }
  ]
}