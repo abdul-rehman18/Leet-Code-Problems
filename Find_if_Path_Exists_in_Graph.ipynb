{
  "nbformat": 4,
  "nbformat_minor": 0,
  "metadata": {
    "colab": {
      "provenance": []
    },
    "kernelspec": {
      "name": "python3",
      "display_name": "Python 3"
    },
    "language_info": {
      "name": "python"
    }
  },
  "cells": [
    {
      "cell_type": "markdown",
      "source": [
        "# LeetCode Problem:Find if Path Exists in Graph"
      ],
      "metadata": {
        "id": "8FtZTLeLKEGb"
      }
    },
    {
      "cell_type": "code",
      "execution_count": 2,
      "metadata": {
        "colab": {
          "base_uri": "https://localhost:8080/"
        },
        "id": "poU2tSBcFere",
        "outputId": "49436975-f816-4f54-f064-e597f1bef7fb"
      },
      "outputs": [
        {
          "output_type": "stream",
          "name": "stdout",
          "text": [
            "True\n"
          ]
        }
      ],
      "source": [
        "import collections\n",
        "def validPath(n, edges, source, destination):\n",
        "        graph = collections.defaultdict(list)\n",
        "        for u, v in edges:\n",
        "            graph[u].append(v)\n",
        "            graph[v].append(u)\n",
        "\n",
        "        def dfs(node, visited):\n",
        "            if node == destination:\n",
        "                return True\n",
        "            visited.add(node)\n",
        "            for neighbor in graph[node]:\n",
        "                if neighbor not in visited:\n",
        "                    if dfs(neighbor, visited):\n",
        "                        return True\n",
        "            return False\n",
        "\n",
        "        visited = set()\n",
        "        return dfs(source, visited)\n",
        "\n",
        "\n",
        "n = 3\n",
        "edges = [[0,1],[1,2],[2,0]]\n",
        "source = 0\n",
        "destination = 2\n",
        "print(validPath(n, edges, source, destination))\n"
      ]
    },
    {
      "cell_type": "code",
      "source": [],
      "metadata": {
        "id": "dz83KX_rK7B9"
      },
      "execution_count": null,
      "outputs": []
    }
  ]
}