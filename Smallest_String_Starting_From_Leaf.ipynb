{
  "nbformat": 4,
  "nbformat_minor": 0,
  "metadata": {
    "colab": {
      "provenance": []
    },
    "kernelspec": {
      "name": "python3",
      "display_name": "Python 3"
    },
    "language_info": {
      "name": "python"
    }
  },
  "cells": [
    {
      "cell_type": "markdown",
      "source": [
        "# LeetCode Problem: Smallest_String_Starting_From_Leaf"
      ],
      "metadata": {
        "id": "c-Ecwaej101l"
      }
    },
    {
      "cell_type": "code",
      "execution_count": 1,
      "metadata": {
        "colab": {
          "base_uri": "https://localhost:8080/"
        },
        "id": "4Dk6ACjL01_6",
        "outputId": "e42904aa-b5a8-4176-9a6d-79dd6c4c4878"
      },
      "outputs": [
        {
          "output_type": "stream",
          "name": "stdout",
          "text": [
            "Smallest string from leaf: ecb\n"
          ]
        }
      ],
      "source": [
        "# Definition for a binary tree node.\n",
        "class TreeNode:\n",
        "    def __init__(self, val=0, left=None, right=None):\n",
        "        self.val = val\n",
        "        self.left = left\n",
        "        self.right = right\n",
        "\n",
        "import collections\n",
        "\n",
        "class Solution:\n",
        "    def numToal(self, number):\n",
        "        return chr(ord('a') + number)\n",
        "\n",
        "    def smallestFromLeaf(self, root: TreeNode) -> str:\n",
        "        queue = collections.deque()\n",
        "        queue.append((root, self.numToal(root.val)))\n",
        "        results = []\n",
        "\n",
        "        while queue:\n",
        "            cur, path = queue.popleft()\n",
        "            if not cur.left and not cur.right:\n",
        "                results.append(path[::-1])\n",
        "            if cur.left:\n",
        "                queue.append((cur.left, path + self.numToal(cur.left.val)))\n",
        "            if cur.right:\n",
        "                queue.append((cur.right, path + self.numToal(cur.right.val)))\n",
        "        results.sort()\n",
        "        return results[0]\n",
        "\n",
        "# Example to create a binary tree:\n",
        "#     1\n",
        "#    / \\\n",
        "#   2   3\n",
        "#  /   / \\\n",
        "# 4   5   6\n",
        "root = TreeNode(1)\n",
        "root.left = TreeNode(2)\n",
        "root.right = TreeNode(3)\n",
        "root.left.left = TreeNode(4)\n",
        "root.right.left = TreeNode(5)\n",
        "root.right.right = TreeNode(6)\n",
        "\n",
        "# Instantiate Solution and find the smallest path from root to leaf\n",
        "sol = Solution()\n",
        "result = sol.smallestFromLeaf(root)\n",
        "print(\"Smallest string from leaf:\", result)\n"
      ]
    },
    {
      "cell_type": "code",
      "source": [],
      "metadata": {
        "id": "HA7caexX2F9G"
      },
      "execution_count": null,
      "outputs": []
    }
  ]
}