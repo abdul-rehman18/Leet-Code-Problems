{
  "nbformat": 4,
  "nbformat_minor": 0,
  "metadata": {
    "colab": {
      "provenance": []
    },
    "kernelspec": {
      "name": "python3",
      "display_name": "Python 3"
    },
    "language_info": {
      "name": "python"
    }
  },
  "cells": [
    {
      "cell_type": "markdown",
      "source": [
        "# LeetCode Problem: The Number of the Smallest Unoccupied Chair"
      ],
      "metadata": {
        "id": "BdxL9ITNBYng"
      }
    },
    {
      "cell_type": "code",
      "execution_count": 19,
      "metadata": {
        "colab": {
          "base_uri": "https://localhost:8080/"
        },
        "id": "ufaQzX2-_diK",
        "outputId": "e33fca35-d02d-46b4-a0d2-4fbe4c49c299"
      },
      "outputs": [
        {
          "output_type": "stream",
          "name": "stdout",
          "text": [
            "[(5, 0)]\n",
            "[(5, 0), (6, 1)]\n",
            "2\n"
          ]
        }
      ],
      "source": [
        "import heapq\n",
        "import collections\n",
        "def smallestChair(times, targetFriend):\n",
        "        sortedTimes = sorted(range(len(times)), key = lambda x: times[x][0])\n",
        "        # print(sortedTimes)\n",
        "        emp, tak = list(range(len(times))) , []\n",
        "        for i in sortedTimes:\n",
        "          ar, lv  = times[i]\n",
        "          while tak and tak[0][0] <= ar:\n",
        "            heapq.heappush(emp, heapq.heappop(tak)[1])\n",
        "            print(emp)\n",
        "          se = heapq.heappop(emp)\n",
        "          if i == targetFriend: return se\n",
        "          heapq.heappush(tak, (lv, se))\n",
        "          print(tak)\n",
        "\n",
        "\n",
        "# times = [[1,4],[2,3],[4,6]]\n",
        "# targetFriend = 1\n",
        "\n",
        "times = [[3,10],[1,5],[2,6]]\n",
        "targetFriend = 0\n",
        "\n",
        "print(smallestChair(times, targetFriend))\n"
      ]
    },
    {
      "cell_type": "code",
      "source": [],
      "metadata": {
        "id": "zBTSU2a5C16Y"
      },
      "execution_count": null,
      "outputs": []
    }
  ]
}