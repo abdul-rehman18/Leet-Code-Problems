{
  "nbformat": 4,
  "nbformat_minor": 0,
  "metadata": {
    "colab": {
      "provenance": []
    },
    "kernelspec": {
      "name": "python3",
      "display_name": "Python 3"
    },
    "language_info": {
      "name": "python"
    }
  },
  "cells": [
    {
      "cell_type": "markdown",
      "source": [
        "# LeetCode Problem: Happy Number"
      ],
      "metadata": {
        "id": "J1kTzLtGyH6W"
      }
    },
    {
      "cell_type": "code",
      "execution_count": 1,
      "metadata": {
        "colab": {
          "base_uri": "https://localhost:8080/"
        },
        "id": "xPNRm8qZx5eq",
        "outputId": "c6f38b55-52c2-4113-96ba-378892692517"
      },
      "outputs": [
        {
          "output_type": "stream",
          "name": "stdout",
          "text": [
            "True\n"
          ]
        }
      ],
      "source": [
        "class Solution:\n",
        "    def isHappy(self,n):\n",
        "        if n == 1: return True\n",
        "\n",
        "        slow = n\n",
        "        fast = n\n",
        "\n",
        "        while True:\n",
        "            slow = sumOfSquares(slow)\n",
        "            fast = sumOfSquares(sumOfSquares(fast))\n",
        "            if slow == fast: break\n",
        "        return slow == 1\n",
        "\n",
        "def sumOfSquares(num):\n",
        "    sum = 0\n",
        "    while num > 0:\n",
        "        last_diget = num % 10\n",
        "        sum += last_diget**2\n",
        "        num = num // 10\n",
        "    return sum\n",
        "\n",
        "solution_instance = Solution()\n",
        "\n",
        "\n",
        "result = solution_instance.isHappy(19)\n",
        "\n",
        "print(result)\n",
        ""
      ]
    },
    {
      "cell_type": "code",
      "source": [],
      "metadata": {
        "id": "_S_T405oz8cL"
      },
      "execution_count": null,
      "outputs": []
    }
  ]
}