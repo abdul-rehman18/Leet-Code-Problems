{
  "nbformat": 4,
  "nbformat_minor": 0,
  "metadata": {
    "colab": {
      "provenance": []
    },
    "kernelspec": {
      "name": "python3",
      "display_name": "Python 3"
    },
    "language_info": {
      "name": "python"
    }
  },
  "cells": [
    {
      "cell_type": "markdown",
      "source": [
        "# LeetCode Problem: Convert 1D Array Into 2D Array"
      ],
      "metadata": {
        "id": "2eqQmvXjWXrH"
      }
    },
    {
      "cell_type": "code",
      "execution_count": 1,
      "metadata": {
        "colab": {
          "base_uri": "https://localhost:8080/"
        },
        "id": "j9SoxUlgWUFN",
        "outputId": "49e20c0c-b79b-461a-cdb4-689bb74e0c22"
      },
      "outputs": [
        {
          "output_type": "stream",
          "name": "stdout",
          "text": [
            "[[1, 2], [3, 4]]\n"
          ]
        }
      ],
      "source": [
        "import numpy as np\n",
        "def construct2DArray(original, m, n):\n",
        "\n",
        "        if len(original) != m * n:\n",
        "            return []\n",
        "\n",
        "        # Use NumPy to reshape the 1D array into a 2D array\n",
        "        arr2D = np.array(original).reshape(m, n)\n",
        "        return arr2D.tolist()\n",
        "\n",
        "original = [1,2,3,4]\n",
        "m = 2\n",
        "n = 2\n",
        "\n",
        "print(construct2DArray(original, m, n))"
      ]
    },
    {
      "cell_type": "code",
      "source": [],
      "metadata": {
        "id": "Cbgd6_P2W9t2"
      },
      "execution_count": null,
      "outputs": []
    }
  ]
}