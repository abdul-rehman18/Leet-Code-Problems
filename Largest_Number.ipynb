{
  "nbformat": 4,
  "nbformat_minor": 0,
  "metadata": {
    "colab": {
      "provenance": []
    },
    "kernelspec": {
      "name": "python3",
      "display_name": "Python 3"
    },
    "language_info": {
      "name": "python"
    }
  },
  "cells": [
    {
      "cell_type": "markdown",
      "source": [
        "# LeetCode Problem: Largest Number"
      ],
      "metadata": {
        "id": "StYLwsSZhQ6C"
      }
    },
    {
      "cell_type": "code",
      "execution_count": 2,
      "metadata": {
        "colab": {
          "base_uri": "https://localhost:8080/"
        },
        "id": "jRj5HIV_g0zo",
        "outputId": "133b2d47-f3b9-4a24-b6f1-3f54441151da"
      },
      "outputs": [
        {
          "output_type": "stream",
          "name": "stdout",
          "text": [
            "9534330\n"
          ]
        }
      ],
      "source": [
        "def largestNumber(nums):\n",
        "        array = list(map(str, nums))\n",
        "        array.sort(key=lambda x: x*10, reverse=True)\n",
        "        if array[0] == \"0\":\n",
        "            return \"0\"\n",
        "        largest = ''.join(array)\n",
        "        return largest\n",
        "\n",
        "nums = [3,30,34,5,9]\n",
        "print(largestNumber(nums))\n"
      ]
    },
    {
      "cell_type": "code",
      "source": [],
      "metadata": {
        "id": "Z8632WefhnzL"
      },
      "execution_count": null,
      "outputs": []
    }
  ]
}