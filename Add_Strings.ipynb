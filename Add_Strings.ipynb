{
  "nbformat": 4,
  "nbformat_minor": 0,
  "metadata": {
    "colab": {
      "provenance": []
    },
    "kernelspec": {
      "name": "python3",
      "display_name": "Python 3"
    },
    "language_info": {
      "name": "python"
    }
  },
  "cells": [
    {
      "cell_type": "markdown",
      "source": [
        "# LeetCode Problem: Add Strings"
      ],
      "metadata": {
        "id": "VPoVV1sCdN0R"
      }
    },
    {
      "cell_type": "code",
      "execution_count": 1,
      "metadata": {
        "colab": {
          "base_uri": "https://localhost:8080/"
        },
        "id": "G67SRcy8dLY7",
        "outputId": "802c47bc-e35c-4757-b841-fc493322eb83"
      },
      "outputs": [
        {
          "output_type": "stream",
          "name": "stdout",
          "text": [
            "134\n"
          ]
        }
      ],
      "source": [
        "def addStrings(num1, num2):\n",
        "        def func(n):\n",
        "            value = {'0':0, '1':1, '2':2, '3':3, '4':4, '5':5, '6':6, '7':7, '8':8, '9':9}\n",
        "            result = 0\n",
        "            for digit in n:\n",
        "                result = 10 * result + value[digit]\n",
        "\n",
        "            return result\n",
        "\n",
        "        ans = func(num1) + func(num2)\n",
        "        return str(ans)\n",
        "\n",
        "\n",
        "num1='11'\n",
        "num2='123'\n",
        "print(addStrings(num1, num2))"
      ]
    },
    {
      "cell_type": "code",
      "source": [],
      "metadata": {
        "id": "yFI8mw7Vd-7z"
      },
      "execution_count": null,
      "outputs": []
    }
  ]
}