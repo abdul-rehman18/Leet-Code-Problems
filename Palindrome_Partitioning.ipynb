{
  "nbformat": 4,
  "nbformat_minor": 0,
  "metadata": {
    "colab": {
      "provenance": []
    },
    "kernelspec": {
      "name": "python3",
      "display_name": "Python 3"
    },
    "language_info": {
      "name": "python"
    }
  },
  "cells": [
    {
      "cell_type": "markdown",
      "source": [
        "# LeetCode Problem: Palindrome Partitioning"
      ],
      "metadata": {
        "id": "2xXHicP2h4XM"
      }
    },
    {
      "cell_type": "code",
      "execution_count": 1,
      "metadata": {
        "colab": {
          "base_uri": "https://localhost:8080/"
        },
        "id": "1L-Mi2V4hqW1",
        "outputId": "b184833f-a5f5-4e84-9574-bde98262beb3"
      },
      "outputs": [
        {
          "output_type": "stream",
          "name": "stdout",
          "text": [
            "[['a', 'a', 'b'], ['aa', 'b']]\n"
          ]
        }
      ],
      "source": [
        "def partition(s):\n",
        "        def is_palindrome(sub):\n",
        "            return sub == sub[::-1]\n",
        "\n",
        "        def backtrack(start, path):\n",
        "            if start == len(s):\n",
        "                result.append(path[:])\n",
        "                return\n",
        "            for end in range(start + 1, len(s) + 1):\n",
        "                if is_palindrome(s[start:end]):\n",
        "                    backtrack(end, path + [s[start:end]])\n",
        "\n",
        "        result = []\n",
        "        backtrack(0, [])\n",
        "        return result\n",
        "\n",
        "s = \"aab\"\n",
        "print(partition(s))"
      ]
    },
    {
      "cell_type": "code",
      "source": [],
      "metadata": {
        "id": "j502YF5hijq7"
      },
      "execution_count": null,
      "outputs": []
    }
  ]
}