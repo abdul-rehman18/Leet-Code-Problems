{
  "nbformat": 4,
  "nbformat_minor": 0,
  "metadata": {
    "colab": {
      "provenance": []
    },
    "kernelspec": {
      "name": "python3",
      "display_name": "Python 3"
    },
    "language_info": {
      "name": "python"
    }
  },
  "cells": [
    {
      "cell_type": "markdown",
      "source": [
        "# LeetCode Problem: Maximum Number of Points with Cost"
      ],
      "metadata": {
        "id": "oIWJ18WnQFds"
      }
    },
    {
      "cell_type": "code",
      "execution_count": 1,
      "metadata": {
        "colab": {
          "base_uri": "https://localhost:8080/"
        },
        "id": "8E1vl9ntPaAN",
        "outputId": "ddc166b0-0fee-422f-90ac-5456f29eb57f"
      },
      "outputs": [
        {
          "output_type": "stream",
          "name": "stdout",
          "text": [
            "9\n"
          ]
        }
      ],
      "source": [
        "def maxPoints(points):\n",
        "        r, c=len(points), len(points[0])\n",
        "        for i in range(1, r):\n",
        "            left, right=[0]*c, [0]*c\n",
        "            right[-1]=points[i-1][-1]\n",
        "            for j in range(c-2, -1, -1):\n",
        "                right[j]=max(right[j+1]-1, points[i-1][j])\n",
        "            left[0]=points[i-1][0]\n",
        "            points[i][0]=max(left[0], right[0])+points[i][0]\n",
        "            for j in range(1, c):\n",
        "                left[j]=max(left[j-1]-1, points[i-1][j])\n",
        "                points[i][j]=max(left[j], right[j])+points[i][j]\n",
        "        return max(points[-1])\n",
        "\n",
        "points = [[1,2,3],[1,5,1],[3,1,1]]\n",
        "\n",
        "print(maxPoints(points))\n"
      ]
    },
    {
      "cell_type": "code",
      "source": [],
      "metadata": {
        "id": "T6EZQFRfQlI6"
      },
      "execution_count": null,
      "outputs": []
    }
  ]
}