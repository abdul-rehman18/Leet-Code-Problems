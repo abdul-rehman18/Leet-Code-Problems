{
  "nbformat": 4,
  "nbformat_minor": 0,
  "metadata": {
    "colab": {
      "provenance": []
    },
    "kernelspec": {
      "name": "python3",
      "display_name": "Python 3"
    },
    "language_info": {
      "name": "python"
    }
  },
  "cells": [
    {
      "cell_type": "markdown",
      "source": [
        "# LeetCode Problem: Find Smallest Letter Greater Than Target"
      ],
      "metadata": {
        "id": "Bp01F0bC_PVQ"
      }
    },
    {
      "cell_type": "code",
      "execution_count": 2,
      "metadata": {
        "colab": {
          "base_uri": "https://localhost:8080/"
        },
        "id": "v3Q4BPL48myk",
        "outputId": "84258d21-9c5c-400c-cd8f-0cd07edc0ca4"
      },
      "outputs": [
        {
          "output_type": "stream",
          "name": "stdout",
          "text": [
            "c\n"
          ]
        }
      ],
      "source": [
        "def nextGreatestLetter(letters, target):\n",
        "        if target >= letters[-1] or target < letters[0]:\n",
        "            return letters[0]\n",
        "\n",
        "        l, r = 0, len(letters) - 1\n",
        "\n",
        "        while l <= r:\n",
        "            m = (r + l) // 2\n",
        "\n",
        "            if target >= letters[m]:\n",
        "                l = m + 1\n",
        "            if target < letters[m]:\n",
        "                r = m - 1\n",
        "        return letters[l]\n",
        "\n",
        "\n",
        "letters = [\"c\",\"f\",\"j\"]\n",
        "target = \"a\"\n",
        "print(nextGreatestLetter(letters, target))"
      ]
    },
    {
      "cell_type": "code",
      "source": [],
      "metadata": {
        "id": "SPFFrvPe_dyg"
      },
      "execution_count": null,
      "outputs": []
    }
  ]
}