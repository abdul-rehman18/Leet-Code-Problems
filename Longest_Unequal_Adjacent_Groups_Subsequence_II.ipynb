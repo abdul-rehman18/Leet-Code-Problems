{
  "nbformat": 4,
  "nbformat_minor": 0,
  "metadata": {
    "colab": {
      "provenance": []
    },
    "kernelspec": {
      "name": "python3",
      "display_name": "Python 3"
    },
    "language_info": {
      "name": "python"
    }
  },
  "cells": [
    {
      "cell_type": "markdown",
      "source": [
        "# LeetCode Problem:  Longest Unequal Adjacent Groups Subsequence II"
      ],
      "metadata": {
        "id": "SPBANkkFUDKt"
      }
    },
    {
      "cell_type": "code",
      "execution_count": null,
      "metadata": {
        "id": "ePSJifeYT73L"
      },
      "outputs": [],
      "source": [
        "class Solution:\n",
        "    def getWordsInLongestSubsequence(self, words, groups):\n",
        "        from functools import lru_cache\n",
        "\n",
        "        def hamming_dist(w1, w2):\n",
        "            return sum(a != b for a, b in zip(w1, w2)) == 1\n",
        "\n",
        "        n = len(words)\n",
        "        @lru_cache(None)\n",
        "        def dfs(i, last_group, last_word):\n",
        "            if i == n:\n",
        "                return []\n",
        "            take = []\n",
        "            if len(words[i]) == len(last_word) and hamming_dist(last_word, words[i]) and groups[i] != last_group:\n",
        "                take = [words[i]] + dfs(i + 1, groups[i], words[i])\n",
        "            skip = dfs(i + 1, last_group, last_word)\n",
        "            return take if len(take) > len(skip) else skip\n",
        "\n",
        "        res = []\n",
        "        for i in range(n):\n",
        "            curr = [words[i]] + dfs(i + 1, groups[i], words[i])\n",
        "            if len(curr) > len(res):\n",
        "                res = curr\n",
        "        return res"
      ]
    }
  ]
}