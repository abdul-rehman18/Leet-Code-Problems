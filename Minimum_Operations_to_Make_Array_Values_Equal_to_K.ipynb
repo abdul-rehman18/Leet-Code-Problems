{
  "nbformat": 4,
  "nbformat_minor": 0,
  "metadata": {
    "colab": {
      "provenance": []
    },
    "kernelspec": {
      "name": "python3",
      "display_name": "Python 3"
    },
    "language_info": {
      "name": "python"
    }
  },
  "cells": [
    {
      "cell_type": "markdown",
      "source": [
        "# LeetCode Problem: Minimum Operations to Make Array Values Equal to K"
      ],
      "metadata": {
        "id": "GS8sGApn4nro"
      }
    },
    {
      "cell_type": "code",
      "execution_count": null,
      "metadata": {
        "id": "0kUZz9-L4gtz"
      },
      "outputs": [],
      "source": [
        "class Solution:\n",
        "    def minOperations(self, nums, k):\n",
        "        if k > min(nums):\n",
        "            return -1\n",
        "        unique_elements = set(nums)\n",
        "        unique_count = len(unique_elements)\n",
        "        if k in unique_elements:\n",
        "            return unique_count - 1\n",
        "        else:\n",
        "            return unique_count"
      ]
    }
  ]
}