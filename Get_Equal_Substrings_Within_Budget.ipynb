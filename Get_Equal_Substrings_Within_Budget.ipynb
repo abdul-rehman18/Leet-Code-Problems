{
  "nbformat": 4,
  "nbformat_minor": 0,
  "metadata": {
    "colab": {
      "provenance": []
    },
    "kernelspec": {
      "name": "python3",
      "display_name": "Python 3"
    },
    "language_info": {
      "name": "python"
    }
  },
  "cells": [
    {
      "cell_type": "markdown",
      "source": [
        "# LeetCode Problem: Get Equal Substrings Within Budget"
      ],
      "metadata": {
        "id": "3wcvDm8gaAkF"
      }
    },
    {
      "cell_type": "code",
      "execution_count": 1,
      "metadata": {
        "colab": {
          "base_uri": "https://localhost:8080/"
        },
        "id": "yPF1lTnwPkQ4",
        "outputId": "aad0d7f8-820c-4e6c-a336-d3bdaf2a67e4"
      },
      "outputs": [
        {
          "output_type": "stream",
          "name": "stdout",
          "text": [
            "3\n"
          ]
        }
      ],
      "source": [
        "def equalSubstring(s, t, maxCost):\n",
        "        n = len(s)\n",
        "        start = 0\n",
        "        current_cost = 0\n",
        "        max_length = 0\n",
        "\n",
        "        for end in range(n):\n",
        "            current_cost += abs(ord(s[end]) - ord(t[end]))\n",
        "\n",
        "            while current_cost > maxCost:\n",
        "                current_cost -= abs(ord(s[start]) - ord(t[start]))\n",
        "                start += 1\n",
        "\n",
        "            max_length = max(max_length, end - start + 1)\n",
        "\n",
        "        return max_length\n",
        "\n",
        "s = \"abcd\"\n",
        "t = \"bcdf\"\n",
        "maxCost = 3\n",
        "\n",
        "print(equalSubstring(s, t, maxCost))"
      ]
    },
    {
      "cell_type": "code",
      "source": [],
      "metadata": {
        "id": "-Xjs8VhfaY3N"
      },
      "execution_count": null,
      "outputs": []
    }
  ]
}