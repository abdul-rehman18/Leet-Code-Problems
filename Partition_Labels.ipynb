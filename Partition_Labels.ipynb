{
  "nbformat": 4,
  "nbformat_minor": 0,
  "metadata": {
    "colab": {
      "provenance": []
    },
    "kernelspec": {
      "name": "python3",
      "display_name": "Python 3"
    },
    "language_info": {
      "name": "python"
    }
  },
  "cells": [
    {
      "cell_type": "markdown",
      "source": [
        "# LeetCode Problem: Partition Labels"
      ],
      "metadata": {
        "id": "5UMBgRB9-8wz"
      }
    },
    {
      "cell_type": "code",
      "execution_count": null,
      "metadata": {
        "id": "WLUFxX3B-3vo"
      },
      "outputs": [],
      "source": [
        "class Solution:\n",
        "    def partitionLabels(self, s: str) -> List[int]:\n",
        "        last_occurrence = {}\n",
        "\n",
        "        for i, char in enumerate(s):\n",
        "            last_occurrence[char] = i\n",
        "\n",
        "        result = []\n",
        "        start = 0\n",
        "        end = 0\n",
        "\n",
        "        for i, char in enumerate(s):\n",
        "            end = max(end, last_occurrence[char])\n",
        "\n",
        "            if i == end:\n",
        "                result.append(end - start + 1)\n",
        "                start = i + 1\n",
        "\n",
        "        return result"
      ]
    }
  ]
}