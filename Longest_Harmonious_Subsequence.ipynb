{
  "nbformat": 4,
  "nbformat_minor": 0,
  "metadata": {
    "colab": {
      "provenance": []
    },
    "kernelspec": {
      "name": "python3",
      "display_name": "Python 3"
    },
    "language_info": {
      "name": "python"
    }
  },
  "cells": [
    {
      "cell_type": "markdown",
      "source": [
        "# LeetCode Problem: Longest Harmonious Subsequence"
      ],
      "metadata": {
        "id": "k6wKZ-SMpq45"
      }
    },
    {
      "cell_type": "code",
      "execution_count": 4,
      "metadata": {
        "id": "W-UdAw8HmNYs"
      },
      "outputs": [],
      "source": [
        "from collections import Counter"
      ]
    },
    {
      "cell_type": "code",
      "source": [
        "def findLHS(nums):\n",
        "\t\ttmp = Counter(nums)\n",
        "\t\tkeys = tmp.keys()\n",
        "\t\tmax = 0\n",
        "\t\tfor num in keys:\n",
        "\t\t\tif num - 1 in keys:\n",
        "\t\t\t\tif tmp[num - 1] + tmp[num] > max:\n",
        "\t\t\t\t\tmax = tmp[num - 1] + tmp[num]\n",
        "\t\treturn max\n",
        "\n",
        "nums = [1,3,2,2,5,2,3,7]\n",
        "print(findLHS(nums))"
      ],
      "metadata": {
        "colab": {
          "base_uri": "https://localhost:8080/"
        },
        "id": "jRyW_ZhEpWSg",
        "outputId": "3111fd2c-67f5-4f86-a2d2-357694333860"
      },
      "execution_count": 5,
      "outputs": [
        {
          "output_type": "stream",
          "name": "stdout",
          "text": [
            "5\n"
          ]
        }
      ]
    },
    {
      "cell_type": "code",
      "source": [],
      "metadata": {
        "id": "uZPZ1Tq1pgZh"
      },
      "execution_count": null,
      "outputs": []
    }
  ]
}