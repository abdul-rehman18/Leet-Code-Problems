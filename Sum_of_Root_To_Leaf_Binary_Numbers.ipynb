{
  "nbformat": 4,
  "nbformat_minor": 0,
  "metadata": {
    "colab": {
      "provenance": []
    },
    "kernelspec": {
      "name": "python3",
      "display_name": "Python 3"
    },
    "language_info": {
      "name": "python"
    }
  },
  "cells": [
    {
      "cell_type": "markdown",
      "source": [
        "# LeetCode Problem: Sum of Root To Leaf Binary Numbers"
      ],
      "metadata": {
        "id": "ucNddfutw4o-"
      }
    },
    {
      "cell_type": "code",
      "execution_count": 2,
      "metadata": {
        "colab": {
          "base_uri": "https://localhost:8080/"
        },
        "id": "c9Knot49v7Et",
        "outputId": "f212a6b1-b096-44a3-c007-b90b615d27bd"
      },
      "outputs": [
        {
          "output_type": "stream",
          "name": "stdout",
          "text": [
            "22\n"
          ]
        }
      ],
      "source": [
        "# Definition for a binary tree node.\n",
        "class TreeNode:\n",
        "    def __init__(self, val=0, left=None, right=None):\n",
        "        self.val = val\n",
        "        self.left = left\n",
        "        self.right = right\n",
        "\n",
        "class Solution:\n",
        "    def sumRootToLeaf(self, root):\n",
        "        def dfs(n, p):\n",
        "            if not n: return 0\n",
        "            p = (p << 1) + n.val\n",
        "            if not n.left and not n.right:\n",
        "                return p\n",
        "            return dfs(n.left, p) + dfs(n.right, p)\n",
        "        return dfs(root, 0)\n",
        "\n",
        "if __name__ == \"__main__\":\n",
        "    root = TreeNode(1)\n",
        "    root.left = TreeNode(0)\n",
        "    root.right = TreeNode(1)\n",
        "    root.left.left = TreeNode(0)\n",
        "    root.left.right = TreeNode(1)\n",
        "    root.right.left = TreeNode(0)\n",
        "    root.right.right = TreeNode(1)\n",
        "    solution = Solution()\n",
        "    print(solution.sumRootToLeaf(root))\n"
      ]
    },
    {
      "cell_type": "code",
      "source": [],
      "metadata": {
        "id": "sn4IAoZpw8i4"
      },
      "execution_count": null,
      "outputs": []
    }
  ]
}