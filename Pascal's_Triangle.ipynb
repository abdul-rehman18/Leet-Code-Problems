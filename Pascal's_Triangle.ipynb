{
 "cells": [
  {
   "cell_type": "markdown",
   "id": "c459f150",
   "metadata": {},
   "source": [
    "# LeetCode Problem: Pascal's Triangle"
   ]
  },
  {
   "cell_type": "code",
   "execution_count": 3,
   "id": "8a798aad",
   "metadata": {},
   "outputs": [
    {
     "data": {
      "text/plain": [
       "[[1], [1, 1], [1, 2, 1], [1, 3, 3, 1], [1, 4, 6, 4, 1]]"
      ]
     },
     "execution_count": 3,
     "metadata": {},
     "output_type": "execute_result"
    }
   ],
   "source": [
    "#Runtime: \n",
    "def generate(numRows):\n",
    "    if numRows == 0:\n",
    "        return []\n",
    "    if numRows == 1:\n",
    "        return [[1]]\n",
    "        \n",
    "    prevRows = generate(numRows - 1)\n",
    "    newRow = [1] * numRows\n",
    "        \n",
    "    for i in range(1, numRows - 1):\n",
    "        newRow[i] = prevRows[-1][i - 1] + prevRows[-1][i]\n",
    "        \n",
    "    prevRows.append(newRow)\n",
    "    return prevRows\n",
    "\n",
    "\n",
    "generate(5)"
   ]
  },
  {
   "cell_type": "code",
   "execution_count": 4,
   "id": "18943040",
   "metadata": {},
   "outputs": [
    {
     "data": {
      "text/plain": [
       "[[1], [1, 1], [1, 2, 1], [1, 3, 3, 1], [1, 4, 6, 4, 1]]"
      ]
     },
     "execution_count": 4,
     "metadata": {},
     "output_type": "execute_result"
    }
   ],
   "source": [
    "#2nd approach\n",
    "\n",
    "def generate(numRows):\n",
    "    if numRows == 0:\n",
    "        return []\n",
    "    if numRows == 1:\n",
    "        return [[1]]\n",
    "        \n",
    "    triangle = [[1],[1,1]]\n",
    "    \n",
    "    for i in range(2,numRows):\n",
    "        new_row = [1]+[triangle[-1][j-1]+triangle[-1][j] for j in range(1,i)]+[1]\n",
    "        triangle.append(new_row)\n",
    "    return triangle\n",
    "\n",
    "\n",
    "generate(5)"
   ]
  },
  {
   "cell_type": "code",
   "execution_count": null,
   "id": "17295f5a",
   "metadata": {},
   "outputs": [],
   "source": []
  }
 ],
 "metadata": {
  "kernelspec": {
   "display_name": "Python 3 (ipykernel)",
   "language": "python",
   "name": "python3"
  },
  "language_info": {
   "codemirror_mode": {
    "name": "ipython",
    "version": 3
   },
   "file_extension": ".py",
   "mimetype": "text/x-python",
   "name": "python",
   "nbconvert_exporter": "python",
   "pygments_lexer": "ipython3",
   "version": "3.10.9"
  }
 },
 "nbformat": 4,
 "nbformat_minor": 5
}
