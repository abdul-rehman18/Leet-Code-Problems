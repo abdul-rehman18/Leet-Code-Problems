{
 "cells": [
  {
   "cell_type": "markdown",
   "id": "0b05a1b0",
   "metadata": {},
   "source": [
    "# LeetCode Problem: Pascal's Triangle"
   ]
  },
  {
   "cell_type": "code",
   "execution_count": 2,
   "id": "95079b68",
   "metadata": {},
   "outputs": [
    {
     "ename": "TypeError",
     "evalue": "generate() missing 1 required positional argument: 'numRows'",
     "output_type": "error",
     "traceback": [
      "\u001b[1;31m---------------------------------------------------------------------------\u001b[0m",
      "\u001b[1;31mTypeError\u001b[0m                                 Traceback (most recent call last)",
      "Cell \u001b[1;32mIn[2], line 17\u001b[0m\n\u001b[0;32m     13\u001b[0m     prevRows\u001b[38;5;241m.\u001b[39mappend(newRow)\n\u001b[0;32m     14\u001b[0m     \u001b[38;5;28;01mreturn\u001b[39;00m prevRows\n\u001b[1;32m---> 17\u001b[0m \u001b[43mgenerate\u001b[49m\u001b[43m(\u001b[49m\u001b[38;5;241;43m5\u001b[39;49m\u001b[43m)\u001b[49m\n",
      "\u001b[1;31mTypeError\u001b[0m: generate() missing 1 required positional argument: 'numRows'"
     ]
    }
   ],
   "source": [
    "def generate(numRows):\n",
    "    if numRows == 0:\n",
    "        return []\n",
    "    if numRows == 1:\n",
    "        return [[1]]\n",
    "        \n",
    "    prevRows = self.generate(numRows - 1)\n",
    "    newRow = [1] * numRows\n",
    "        \n",
    "    for i in range(1, numRows - 1):\n",
    "        newRow[i] = prevRows[-1][i - 1] + prevRows[-1][i]\n",
    "        \n",
    "    prevRows.append(newRow)\n",
    "    return prevRows\n",
    "\n",
    "\n",
    "generate(5)"
   ]
  },
  {
   "cell_type": "code",
   "execution_count": null,
   "id": "ffefb42d",
   "metadata": {},
   "outputs": [],
   "source": []
  }
 ],
 "metadata": {
  "kernelspec": {
   "display_name": "Python 3 (ipykernel)",
   "language": "python",
   "name": "python3"
  },
  "language_info": {
   "codemirror_mode": {
    "name": "ipython",
    "version": 3
   },
   "file_extension": ".py",
   "mimetype": "text/x-python",
   "name": "python",
   "nbconvert_exporter": "python",
   "pygments_lexer": "ipython3",
   "version": "3.10.9"
  }
 },
 "nbformat": 4,
 "nbformat_minor": 5
}
