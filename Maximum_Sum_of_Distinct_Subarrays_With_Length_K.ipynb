{
  "nbformat": 4,
  "nbformat_minor": 0,
  "metadata": {
    "colab": {
      "provenance": []
    },
    "kernelspec": {
      "name": "python3",
      "display_name": "Python 3"
    },
    "language_info": {
      "name": "python"
    }
  },
  "cells": [
    {
      "cell_type": "markdown",
      "source": [
        "# LeetCode Problem: Maximum Sum of Distinct Subarrays With Length K"
      ],
      "metadata": {
        "id": "AD5lllPV7pnC"
      }
    },
    {
      "cell_type": "code",
      "execution_count": 2,
      "metadata": {
        "colab": {
          "base_uri": "https://localhost:8080/"
        },
        "id": "j8tCBqAU6f2b",
        "outputId": "74621d56-accb-4eab-d020-4b432d436fdd"
      },
      "outputs": [
        {
          "output_type": "stream",
          "name": "stdout",
          "text": [
            "15\n"
          ]
        }
      ],
      "source": [
        "import numpy as np\n",
        "from collections import defaultdict\n",
        "def maximumSubarraySum(nums, k):\n",
        "        res = 0\n",
        "        count = defaultdict(int)\n",
        "        cur_sum = 0\n",
        "\n",
        "        l = 0\n",
        "        for r in range(len(nums)):\n",
        "            cur_sum += nums[r]\n",
        "            count[nums[r]] += 1\n",
        "\n",
        "            if r - l + 1 > k:\n",
        "                count[nums[l]] -= 1\n",
        "                if count[nums[l]] == 0:\n",
        "                    count.pop(nums[l])\n",
        "                cur_sum -= nums[l]\n",
        "                l += 1\n",
        "\n",
        "            if len(count) == r - l + 1 == k:\n",
        "                res = max(res, cur_sum)\n",
        "        return res\n",
        "\n",
        "\n",
        "nums = [1,5,4,2,9,9,9]\n",
        "k = 3\n",
        "print(maximumSubarraySum(nums, k))"
      ]
    },
    {
      "cell_type": "code",
      "source": [],
      "metadata": {
        "id": "6KQb2lr-76OE"
      },
      "execution_count": null,
      "outputs": []
    }
  ]
}