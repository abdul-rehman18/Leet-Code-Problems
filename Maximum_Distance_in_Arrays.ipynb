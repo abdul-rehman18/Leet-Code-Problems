{
  "nbformat": 4,
  "nbformat_minor": 0,
  "metadata": {
    "colab": {
      "provenance": []
    },
    "kernelspec": {
      "name": "python3",
      "display_name": "Python 3"
    },
    "language_info": {
      "name": "python"
    }
  },
  "cells": [
    {
      "cell_type": "markdown",
      "source": [
        "# LeetCode Problem: Maximum Distance in Arrays"
      ],
      "metadata": {
        "id": "XRjm6YWKbvc5"
      }
    },
    {
      "cell_type": "code",
      "execution_count": 1,
      "metadata": {
        "colab": {
          "base_uri": "https://localhost:8080/"
        },
        "id": "SOUG9KPgbsKV",
        "outputId": "02082da2-2571-4f8e-f273-a2f50dd239fa"
      },
      "outputs": [
        {
          "output_type": "stream",
          "name": "stdout",
          "text": [
            "4\n"
          ]
        }
      ],
      "source": [
        "def maxDistance(arrays):\n",
        "        smallest = arrays[0][0]\n",
        "        biggest = arrays[0][-1]\n",
        "        max_distance = 0\n",
        "        for i in range(1, len(arrays)):\n",
        "            arr = arrays[i]\n",
        "            max_distance = max(max_distance, abs(arr[-1] - smallest), abs(biggest - arr[0]))\n",
        "            smallest = min(smallest, arr[0])\n",
        "            biggest = max(biggest, arr[-1])\n",
        "        return max_distance\n",
        "\n",
        "arrays = [[1,2,3],[4,5],[1,2,3]]\n",
        "print(maxDistance(arrays))\n"
      ]
    },
    {
      "cell_type": "code",
      "source": [],
      "metadata": {
        "id": "70_uuBOYb_WI"
      },
      "execution_count": null,
      "outputs": []
    }
  ]
}