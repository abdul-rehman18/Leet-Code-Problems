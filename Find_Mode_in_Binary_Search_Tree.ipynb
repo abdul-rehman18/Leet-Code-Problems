{
  "nbformat": 4,
  "nbformat_minor": 0,
  "metadata": {
    "colab": {
      "provenance": []
    },
    "kernelspec": {
      "name": "python3",
      "display_name": "Python 3"
    },
    "language_info": {
      "name": "python"
    }
  },
  "cells": [
    {
      "cell_type": "markdown",
      "source": [
        "# LeetCode Problem: Find Mode in Binary Search Tree"
      ],
      "metadata": {
        "id": "XyxrLBRGEuMv"
      }
    },
    {
      "cell_type": "code",
      "execution_count": 1,
      "metadata": {
        "colab": {
          "base_uri": "https://localhost:8080/"
        },
        "id": "4zNdRezFCI_s",
        "outputId": "418c4936-5ae0-4d58-fcf1-379f13182d1f"
      },
      "outputs": [
        {
          "output_type": "stream",
          "name": "stdout",
          "text": [
            "Mode(s): [1, 2]\n"
          ]
        }
      ],
      "source": [
        "class TreeNode:\n",
        "    def __init__(self, val=0, left=None, right=None):\n",
        "        self.val = val\n",
        "        self.left = left\n",
        "        self.right = right\n",
        "\n",
        "class Solution:\n",
        "    def findMode(self, root):\n",
        "        counts = {}\n",
        "        max_count = 0\n",
        "        modes = []\n",
        "\n",
        "        def inorder(node):\n",
        "            if not node:\n",
        "                return\n",
        "            inorder(node.left)\n",
        "\n",
        "            nonlocal max_count, modes\n",
        "\n",
        "            counts[node.val] = 1 + counts.get(node.val, 0)\n",
        "\n",
        "            if counts[node.val] > max_count:\n",
        "                max_count = counts[node.val]\n",
        "                modes = [node.val]\n",
        "            elif counts[node.val] == max_count:\n",
        "                modes.append(node.val)\n",
        "\n",
        "            inorder(node.right)\n",
        "\n",
        "        inorder(root)\n",
        "\n",
        "        return modes\n",
        "\n",
        "# Create a sample binary search tree\n",
        "#       2\n",
        "#      / \\\n",
        "#     1   3\n",
        "#    / \\\n",
        "#   1   2\n",
        "sample_tree = TreeNode(2, TreeNode(1, TreeNode(1), TreeNode(2)), TreeNode(3))\n",
        "\n",
        "# Create an instance of the Solution class\n",
        "solution_instance = Solution()\n",
        "\n",
        "# Find the mode(s) in the binary search tree\n",
        "result = solution_instance.findMode(sample_tree)\n",
        "\n",
        "# Print the result\n",
        "print(\"Mode(s):\", result)\n"
      ]
    },
    {
      "cell_type": "code",
      "source": [],
      "metadata": {
        "id": "VyyZYVPNJjfd"
      },
      "execution_count": null,
      "outputs": []
    }
  ]
}