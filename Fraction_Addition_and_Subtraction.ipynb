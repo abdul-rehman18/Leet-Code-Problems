{
  "nbformat": 4,
  "nbformat_minor": 0,
  "metadata": {
    "colab": {
      "provenance": []
    },
    "kernelspec": {
      "name": "python3",
      "display_name": "Python 3"
    },
    "language_info": {
      "name": "python"
    }
  },
  "cells": [
    {
      "cell_type": "markdown",
      "source": [
        "# LeetCode Problem: Fraction Addition and Subtraction"
      ],
      "metadata": {
        "id": "CJ8bEsMpvnUE"
      }
    },
    {
      "cell_type": "code",
      "execution_count": 1,
      "metadata": {
        "colab": {
          "base_uri": "https://localhost:8080/"
        },
        "id": "766R8TCSgCEo",
        "outputId": "a87fcbfd-c87d-4314-cc55-ad18f0f1878e"
      },
      "outputs": [
        {
          "output_type": "stream",
          "name": "stdout",
          "text": [
            "0/1\n"
          ]
        }
      ],
      "source": [
        "import re\n",
        "from math import gcd\n",
        "def fractionAddition(expression):\n",
        "        nums = list(map(int, re.findall(r'[+-]?\\d+', expression)))\n",
        "        numerator = 0\n",
        "        denominator = 1\n",
        "\n",
        "        for i in range(0, len(nums), 2):\n",
        "            num, den = nums[i], nums[i + 1]\n",
        "            numerator = numerator * den + num * denominator\n",
        "            denominator *= den\n",
        "\n",
        "        common_divisor = gcd(numerator, denominator)\n",
        "        return f\"{numerator // common_divisor}/{denominator // common_divisor}\"\n",
        "\n",
        "expression = \"-1/2+1/2\"\n",
        "\n",
        "\n",
        "print(fractionAddition(expression))"
      ]
    },
    {
      "cell_type": "code",
      "source": [],
      "metadata": {
        "id": "GT417ltywC5u"
      },
      "execution_count": null,
      "outputs": []
    }
  ]
}