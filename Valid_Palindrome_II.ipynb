{
  "nbformat": 4,
  "nbformat_minor": 0,
  "metadata": {
    "colab": {
      "provenance": []
    },
    "kernelspec": {
      "name": "python3",
      "display_name": "Python 3"
    },
    "language_info": {
      "name": "python"
    }
  },
  "cells": [
    {
      "cell_type": "markdown",
      "source": [
        "# LeetCode Problem: Valid Palindrome II"
      ],
      "metadata": {
        "id": "kf0gOY0WAF-9"
      }
    },
    {
      "cell_type": "code",
      "execution_count": 2,
      "metadata": {
        "colab": {
          "base_uri": "https://localhost:8080/"
        },
        "id": "8l6pIPtc8VQb",
        "outputId": "90f035d9-2ee7-4740-f2d3-4ce2e1f5c0c7"
      },
      "outputs": [
        {
          "output_type": "stream",
          "name": "stdout",
          "text": [
            "True\n"
          ]
        }
      ],
      "source": [
        "def validPalindrome(s):\n",
        "        left, right = 0, len(s) - 1\n",
        "        while left < right:\n",
        "            if s[left] != s[right]:\n",
        "                one, two = s[left:right], s[left + 1:right + 1]\n",
        "                return one == one[::-1] or two == two[::-1]\n",
        "            left, right = left + 1, right - 1\n",
        "        return True\n",
        "\n",
        "\n",
        "s = \"aba\"\n",
        "print(validPalindrome(s))"
      ]
    },
    {
      "cell_type": "code",
      "source": [],
      "metadata": {
        "id": "JPd6oM43AJlA"
      },
      "execution_count": null,
      "outputs": []
    }
  ]
}