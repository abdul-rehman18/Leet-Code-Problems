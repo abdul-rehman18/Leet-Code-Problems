{
  "nbformat": 4,
  "nbformat_minor": 0,
  "metadata": {
    "colab": {
      "provenance": []
    },
    "kernelspec": {
      "name": "python3",
      "display_name": "Python 3"
    },
    "language_info": {
      "name": "python"
    }
  },
  "cells": [
    {
      "cell_type": "markdown",
      "source": [
        "# LeetCode Problem: Robot Collisions"
      ],
      "metadata": {
        "id": "-euoMDkUaHFz"
      }
    },
    {
      "cell_type": "code",
      "execution_count": 1,
      "metadata": {
        "colab": {
          "base_uri": "https://localhost:8080/"
        },
        "id": "e1MQK5qyaE0i",
        "outputId": "d8aae705-9f67-4e30-9f48-b5d1dc3e6052"
      },
      "outputs": [
        {
          "output_type": "stream",
          "name": "stdout",
          "text": [
            "[2, 17, 9, 15, 10]\n"
          ]
        }
      ],
      "source": [
        "def survivedRobotsHealths(positions, healths, directions):\n",
        "        # Combine positions, healths, and directions into a list of tuples and sort by positions\n",
        "        robots = sorted(zip(positions, healths, directions, range(len(positions))))\n",
        "\n",
        "        stack = []  # stack to keep track of robots moving to the right\n",
        "        results = [None] * len(positions)  # to store final healths of robots in original order\n",
        "\n",
        "        for pos, health, direction, index in robots:\n",
        "            if direction == 'R':\n",
        "                stack.append((pos, health, direction, index))\n",
        "            else:  # direction == 'L'\n",
        "                while stack and health > 0:\n",
        "                    r_pos, r_health, r_direction, r_index = stack[-1]\n",
        "                    if r_health < health:\n",
        "                        # Robot moving to the right is weaker, it is destroyed\n",
        "                        health -= 1\n",
        "                        stack.pop()\n",
        "                    elif r_health > health:\n",
        "                        # Robot moving to the left is weaker, it is destroyed\n",
        "                        stack[-1] = (r_pos, r_health - 1, r_direction, r_index)\n",
        "                        health = 0\n",
        "                    else:  # r_health == health\n",
        "                        # Both robots destroy each other\n",
        "                        stack.pop()\n",
        "                        health = 0\n",
        "\n",
        "                if health > 0:\n",
        "                    results[index] = health\n",
        "\n",
        "        # Robots moving to the right that did not collide\n",
        "        while stack:\n",
        "            pos, health, direction, index = stack.pop()\n",
        "            results[index] = health\n",
        "\n",
        "        # Filter out the None values to get the final list of surviving robots' healths\n",
        "        return [health for health in results if health is not None]\n",
        "\n",
        "\n",
        "positions = [5,4,3,2,1]\n",
        "healths = [2,17,9,15,10]\n",
        "directions = \"RRRRR\"\n",
        "\n",
        "print(survivedRobotsHealths(positions, healths, directions))"
      ]
    },
    {
      "cell_type": "code",
      "source": [],
      "metadata": {
        "id": "GF7SzOI_ankW"
      },
      "execution_count": null,
      "outputs": []
    }
  ]
}