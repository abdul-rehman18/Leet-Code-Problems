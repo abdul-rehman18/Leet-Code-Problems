{
  "nbformat": 4,
  "nbformat_minor": 0,
  "metadata": {
    "colab": {
      "provenance": []
    },
    "kernelspec": {
      "name": "python3",
      "display_name": "Python 3"
    },
    "language_info": {
      "name": "python"
    }
  },
  "cells": [
    {
      "cell_type": "markdown",
      "source": [
        "# LeetCode Problem: Middle of the Linked List"
      ],
      "metadata": {
        "id": "Fy7XvxPqnGXk"
      }
    },
    {
      "cell_type": "code",
      "execution_count": 2,
      "metadata": {
        "colab": {
          "base_uri": "https://localhost:8080/"
        },
        "id": "Zf9lQf_DlcmI",
        "outputId": "b7cdc6b6-f112-4948-bb27-107f64e6941e"
      },
      "outputs": [
        {
          "output_type": "stream",
          "name": "stdout",
          "text": [
            "Middle node value: 3\n"
          ]
        }
      ],
      "source": [
        "class ListNode:\n",
        "    def __init__(self, val=0, next=None):\n",
        "        self.val = val\n",
        "        self.next = next\n",
        "\n",
        "class Solution(object):\n",
        "    def middleNode(self, head):\n",
        "        temp = head\n",
        "        while temp and temp.next:\n",
        "            head = head.next\n",
        "            temp = temp.next.next\n",
        "        return head\n",
        "\n",
        "def main():\n",
        "    head = ListNode(1)\n",
        "    head.next = ListNode(2)\n",
        "    head.next.next = ListNode(3)\n",
        "    head.next.next.next = ListNode(4)\n",
        "    head.next.next.next.next = ListNode(5)\n",
        "\n",
        "    solution = Solution()\n",
        "    middle = solution.middleNode(head)\n",
        "\n",
        "    print(\"Middle node value:\", middle.val)\n",
        "\n",
        "if __name__ == \"__main__\":\n",
        "    main()\n"
      ]
    },
    {
      "cell_type": "code",
      "source": [],
      "metadata": {
        "id": "LWI4j3W9m_R7"
      },
      "execution_count": null,
      "outputs": []
    }
  ]
}