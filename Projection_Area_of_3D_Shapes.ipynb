{
  "nbformat": 4,
  "nbformat_minor": 0,
  "metadata": {
    "colab": {
      "provenance": []
    },
    "kernelspec": {
      "name": "python3",
      "display_name": "Python 3"
    },
    "language_info": {
      "name": "python"
    }
  },
  "cells": [
    {
      "cell_type": "markdown",
      "source": [
        "# LeetCode Problem: Projection Area of 3D Shapes"
      ],
      "metadata": {
        "id": "ad6xrZzxesP4"
      }
    },
    {
      "cell_type": "code",
      "execution_count": 1,
      "metadata": {
        "colab": {
          "base_uri": "https://localhost:8080/"
        },
        "id": "G27pz4y5dghN",
        "outputId": "6d840432-ff87-474e-db45-2a14d8a1866e"
      },
      "outputs": [
        {
          "output_type": "stream",
          "name": "stdout",
          "text": [
            "5\n"
          ]
        }
      ],
      "source": [
        "def projectionArea(grid):\n",
        "        xy = sum(i > 0 for s in grid for i in s)\n",
        "        xz = sum(max(s) for s in grid)\n",
        "        yz = sum(max(s[i] for s in grid) for i in range(len(grid)))\n",
        "        return xy + xz + yz\n",
        "grid = [[2]]\n",
        "print(projectionArea(grid))"
      ]
    },
    {
      "cell_type": "code",
      "source": [],
      "metadata": {
        "id": "U0ajxnFSekA2"
      },
      "execution_count": null,
      "outputs": []
    }
  ]
}