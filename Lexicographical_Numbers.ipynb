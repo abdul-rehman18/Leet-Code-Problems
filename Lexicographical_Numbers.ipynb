{
  "nbformat": 4,
  "nbformat_minor": 0,
  "metadata": {
    "colab": {
      "provenance": []
    },
    "kernelspec": {
      "name": "python3",
      "display_name": "Python 3"
    },
    "language_info": {
      "name": "python"
    }
  },
  "cells": [
    {
      "cell_type": "markdown",
      "source": [
        "# LeetCode Problem: Lexicographical Numbers"
      ],
      "metadata": {
        "id": "Pp1pao2Ss_l9"
      }
    },
    {
      "cell_type": "code",
      "execution_count": 1,
      "metadata": {
        "colab": {
          "base_uri": "https://localhost:8080/"
        },
        "id": "5zpS9cUNs9d4",
        "outputId": "3322dab9-af98-49fe-b16e-7e4897bd150b"
      },
      "outputs": [
        {
          "output_type": "stream",
          "name": "stdout",
          "text": [
            "[1, 10, 11, 12, 13, 2, 3, 4, 5, 6, 7, 8, 9]\n"
          ]
        }
      ],
      "source": [
        "class Solution:\n",
        "    def lexicalOrder(self, n):\n",
        "        result = []\n",
        "        current = 1\n",
        "        for _ in range(n):\n",
        "            result.append(current)\n",
        "            current = self.get_next_number(current, n)\n",
        "        return result\n",
        "    def get_next_number(self, current, n):\n",
        "        if current * 10 <= n:\n",
        "            return current * 10\n",
        "        if current >= n:\n",
        "            current //= 10\n",
        "        current += 1\n",
        "        while current % 10 == 0:\n",
        "            current //= 10\n",
        "        return current\n",
        "\n",
        "n = 13\n",
        "\n",
        "solution = Solution()\n",
        "result = solution.lexicalOrder(n)\n",
        "print(result)\n"
      ]
    },
    {
      "cell_type": "code",
      "source": [],
      "metadata": {
        "id": "s28buNzStkOL"
      },
      "execution_count": null,
      "outputs": []
    }
  ]
}