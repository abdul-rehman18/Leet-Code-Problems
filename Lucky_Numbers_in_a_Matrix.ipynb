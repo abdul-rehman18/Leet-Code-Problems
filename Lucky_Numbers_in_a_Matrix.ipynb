{
  "nbformat": 4,
  "nbformat_minor": 0,
  "metadata": {
    "colab": {
      "provenance": []
    },
    "kernelspec": {
      "name": "python3",
      "display_name": "Python 3"
    },
    "language_info": {
      "name": "python"
    }
  },
  "cells": [
    {
      "cell_type": "markdown",
      "source": [
        "# LeetCode Problem: Lucky Numbers in a Matrix"
      ],
      "metadata": {
        "id": "ugVKIAixX0mc"
      }
    },
    {
      "cell_type": "code",
      "execution_count": 1,
      "metadata": {
        "colab": {
          "base_uri": "https://localhost:8080/"
        },
        "id": "r39dUrrYXwc6",
        "outputId": "2daceaa6-3f77-4f04-ad53-3f32468c8332"
      },
      "outputs": [
        {
          "output_type": "stream",
          "name": "stdout",
          "text": [
            "[15]\n"
          ]
        }
      ],
      "source": [
        "def luckyNumbers(matrix):\n",
        "        N = len(matrix)\n",
        "        M = len(matrix[0])\n",
        "\n",
        "        rowMin = []\n",
        "        for i in range(N):\n",
        "            rMin = float('inf')\n",
        "            for j in range(M):\n",
        "                rMin = min(rMin, matrix[i][j])\n",
        "            rowMin.append(rMin)\n",
        "\n",
        "        colMax = []\n",
        "        for i in range(M):\n",
        "            cMax = float('-inf')\n",
        "            for j in range(N):\n",
        "                cMax = max(cMax, matrix[j][i])\n",
        "            colMax.append(cMax)\n",
        "\n",
        "        luckyNumbers = []\n",
        "        for i in range(N):\n",
        "            for j in range(M):\n",
        "                if matrix[i][j] == rowMin[i] and matrix[i][j] == colMax[j]:\n",
        "                    luckyNumbers.append(matrix[i][j])\n",
        "\n",
        "        return luckyNumbers\n",
        "\n",
        "matrix = [[3,7,8],[9,11,13],[15,16,17]]\n",
        "\n",
        "\n",
        "print(luckyNumbers(matrix))"
      ]
    },
    {
      "cell_type": "code",
      "source": [],
      "metadata": {
        "id": "zyvyplf-YGa3"
      },
      "execution_count": null,
      "outputs": []
    }
  ]
}