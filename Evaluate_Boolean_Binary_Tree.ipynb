{
  "nbformat": 4,
  "nbformat_minor": 0,
  "metadata": {
    "colab": {
      "provenance": []
    },
    "kernelspec": {
      "name": "python3",
      "display_name": "Python 3"
    },
    "language_info": {
      "name": "python"
    }
  },
  "cells": [
    {
      "cell_type": "markdown",
      "source": [
        "# LeetCode Problem: Evaluate Boolean Binary Tree"
      ],
      "metadata": {
        "id": "trx4cNCS9FCZ"
      }
    },
    {
      "cell_type": "code",
      "execution_count": 2,
      "metadata": {
        "colab": {
          "base_uri": "https://localhost:8080/"
        },
        "id": "JpfPYVuu86YC",
        "outputId": "5aa6e756-227f-44ba-cb3f-ce519793d625"
      },
      "outputs": [
        {
          "output_type": "stream",
          "name": "stdout",
          "text": [
            "Evaluation result of the tree: False\n"
          ]
        }
      ],
      "source": [
        "# Definition for a binary tree node.\n",
        "class TreeNode:\n",
        "    def __init__(self, val=0, left=None, right=None):\n",
        "        self.val = val\n",
        "        self.left = left\n",
        "        self.right = right\n",
        "\n",
        "class Solution:\n",
        "    def evaluateTree(self, root):\n",
        "        if root is None:\n",
        "            return False\n",
        "        if root.val == 0:\n",
        "            return False\n",
        "        if root.val == 1:\n",
        "            return True\n",
        "        if root.val == 2:\n",
        "            return self.evaluateTree(root.left) or self.evaluateTree(root.right)\n",
        "        if root.val == 3:\n",
        "            return self.evaluateTree(root.left) and self.evaluateTree(root.right)\n",
        "        return False\n",
        "\n",
        "# Example usage:\n",
        "# Construct the tree:\n",
        "#        3\n",
        "#       / \\\n",
        "#      2   0\n",
        "#     / \\\n",
        "#    1   0\n",
        "\n",
        "root = TreeNode(3)\n",
        "root.left = TreeNode(2)\n",
        "root.right = TreeNode(0)\n",
        "root.left.left = TreeNode(1)\n",
        "root.left.right = TreeNode(0)\n",
        "\n",
        "# Create a Solution instance and evaluate the tree\n",
        "solution = Solution()\n",
        "result = solution.evaluateTree(root)\n",
        "\n",
        "print(f\"Evaluation result of the tree: {result}\")\n"
      ]
    },
    {
      "cell_type": "code",
      "source": [],
      "metadata": {
        "id": "E7OrrdzP9mgY"
      },
      "execution_count": null,
      "outputs": []
    }
  ]
}