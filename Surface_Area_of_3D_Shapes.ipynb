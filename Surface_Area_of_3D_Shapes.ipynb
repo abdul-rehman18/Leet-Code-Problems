{
  "nbformat": 4,
  "nbformat_minor": 0,
  "metadata": {
    "colab": {
      "provenance": []
    },
    "kernelspec": {
      "name": "python3",
      "display_name": "Python 3"
    },
    "language_info": {
      "name": "python"
    }
  },
  "cells": [
    {
      "cell_type": "markdown",
      "source": [
        "# LeetCode Problem: Surface Area of 3D Shapes"
      ],
      "metadata": {
        "id": "uKFmhJD1hc2g"
      }
    },
    {
      "cell_type": "code",
      "execution_count": 1,
      "metadata": {
        "colab": {
          "base_uri": "https://localhost:8080/"
        },
        "id": "9XfrtbDAghh5",
        "outputId": "f3478794-87d4-4abb-d8d8-5b859978f9ab"
      },
      "outputs": [
        {
          "output_type": "stream",
          "name": "stdout",
          "text": [
            "34\n"
          ]
        }
      ],
      "source": [
        "def surfaceArea(grid):\n",
        "        l = len(grid)\n",
        "        area=0\n",
        "        for row in range(l):\n",
        "            for col in range(l):\n",
        "                if grid[row][col]:\n",
        "                    area += (grid[row][col]*4) +2\n",
        "                if row:\n",
        "                    area -= min(grid[row][col],grid[row-1][col])*2\n",
        "                if col:\n",
        "                    area -= min(grid[row][col],grid[row][col-1])*2\n",
        "        return area\n",
        "\n",
        "\n",
        "grid = [[1,2],[3,4]]\n",
        "print(surfaceArea(grid))"
      ]
    },
    {
      "cell_type": "code",
      "source": [],
      "metadata": {
        "id": "DTX4aX9dhXEF"
      },
      "execution_count": null,
      "outputs": []
    }
  ]
}