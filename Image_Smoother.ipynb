{
  "nbformat": 4,
  "nbformat_minor": 0,
  "metadata": {
    "colab": {
      "provenance": []
    },
    "kernelspec": {
      "name": "python3",
      "display_name": "Python 3"
    },
    "language_info": {
      "name": "python"
    }
  },
  "cells": [
    {
      "cell_type": "markdown",
      "source": [
        "# LeetCode Problem: Image Smoother"
      ],
      "metadata": {
        "id": "Wg3T3jiEx6bN"
      }
    },
    {
      "cell_type": "code",
      "execution_count": 1,
      "metadata": {
        "colab": {
          "base_uri": "https://localhost:8080/"
        },
        "id": "MKUWOOZFwLAx",
        "outputId": "0b6340ec-8dc2-4431-d393-6751e5a51889"
      },
      "outputs": [
        {
          "output_type": "stream",
          "name": "stdout",
          "text": [
            "[[0, 0, 0], [0, 0, 0], [0, 0, 0]]\n"
          ]
        }
      ],
      "source": [
        "def imageSmoother(img):\n",
        "        rows, cols = len(img), len(img[0])\n",
        "        result = [[0] * cols for _ in range(rows)]\n",
        "\n",
        "        for i in range(rows):\n",
        "            for j in range(cols):\n",
        "                total_sum = 0\n",
        "                count = 0\n",
        "\n",
        "                for x in range(max(0, i-1), min(rows, i+2)):\n",
        "                    for y in range(max(0, j-1), min(cols, j+2)):\n",
        "                        total_sum += img[x][y]\n",
        "                        count += 1\n",
        "\n",
        "                result[i][j] = total_sum // count\n",
        "\n",
        "        return result\n",
        "\n",
        "\n",
        "img = [[1,1,1],[1,0,1],[1,1,1]]\n",
        "print(imageSmoother(img))"
      ]
    },
    {
      "cell_type": "code",
      "source": [],
      "metadata": {
        "id": "wgGeZ104x2KG"
      },
      "execution_count": null,
      "outputs": []
    }
  ]
}