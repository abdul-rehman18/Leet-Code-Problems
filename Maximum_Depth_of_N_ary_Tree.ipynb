{
  "nbformat": 4,
  "nbformat_minor": 0,
  "metadata": {
    "colab": {
      "provenance": []
    },
    "kernelspec": {
      "name": "python3",
      "display_name": "Python 3"
    },
    "language_info": {
      "name": "python"
    }
  },
  "cells": [
    {
      "cell_type": "markdown",
      "source": [
        "# LeetCode Problem: Maximum Depth of N-ary Tree"
      ],
      "metadata": {
        "id": "U31MDlVYKebr"
      }
    },
    {
      "cell_type": "code",
      "execution_count": 2,
      "metadata": {
        "colab": {
          "base_uri": "https://localhost:8080/"
        },
        "id": "Y30MVBQZI9Eh",
        "outputId": "18fab31a-b472-4595-8cd7-3066f5b350d6"
      },
      "outputs": [
        {
          "output_type": "stream",
          "name": "stdout",
          "text": [
            "Maximum Depth: 3\n"
          ]
        }
      ],
      "source": [
        "class Node:\n",
        "    def __init__(self, val=None, children=None):\n",
        "        self.val = val\n",
        "        self.children = children\n",
        "\n",
        "class Solution:\n",
        "    def maxDepth(self, root):\n",
        "        if not root:\n",
        "            return 0\n",
        "        if not root.children:\n",
        "            return 1\n",
        "        max_dep = 0\n",
        "        for c in root.children:\n",
        "            max_dep = max(max_dep, self.maxDepth(c))\n",
        "        return max_dep + 1\n",
        "\n",
        "def main():\n",
        "    leaf1 = Node(3)\n",
        "    leaf2 = Node(4)\n",
        "    leaf3 = Node(5)\n",
        "    leaf4 = Node(6)\n",
        "\n",
        "    child1 = Node(1, [leaf1, leaf2])\n",
        "    child2 = Node(2, [leaf3, leaf4])\n",
        "\n",
        "    root = Node(0, [child1, child2])\n",
        "\n",
        "    solution = Solution()\n",
        "    depth = solution.maxDepth(root)\n",
        "\n",
        "    print(\"Maximum Depth:\", depth)\n",
        "\n",
        "if __name__ == \"__main__\":\n",
        "    main()\n"
      ]
    },
    {
      "cell_type": "code",
      "source": [],
      "metadata": {
        "id": "JIF8jvUUKnCc"
      },
      "execution_count": null,
      "outputs": []
    }
  ]
}