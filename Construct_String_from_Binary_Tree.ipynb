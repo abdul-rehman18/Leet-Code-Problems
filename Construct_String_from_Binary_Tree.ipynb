{
  "nbformat": 4,
  "nbformat_minor": 0,
  "metadata": {
    "colab": {
      "provenance": []
    },
    "kernelspec": {
      "name": "python3",
      "display_name": "Python 3"
    },
    "language_info": {
      "name": "python"
    }
  },
  "cells": [
    {
      "cell_type": "markdown",
      "source": [
        "# LeetCode Problem: Construct String from Binary Tree"
      ],
      "metadata": {
        "id": "2ru0JerSklPO"
      }
    },
    {
      "cell_type": "code",
      "execution_count": 2,
      "metadata": {
        "colab": {
          "base_uri": "https://localhost:8080/"
        },
        "id": "sUqI9U0bYCS3",
        "outputId": "9573023a-bbc9-4df2-e107-15ee6fc8c413"
      },
      "outputs": [
        {
          "output_type": "stream",
          "name": "stdout",
          "text": [
            "String representation of the binary tree: 1(2(4))(3)\n"
          ]
        }
      ],
      "source": [
        "class TreeNode:\n",
        "    def __init__(self, val=0, left=None, right=None):\n",
        "        self.val = val\n",
        "        self.left = left\n",
        "        self.right = right\n",
        "\n",
        "class Solution:\n",
        "    def tree2str(self, root):\n",
        "        # Helper function to recursively convert the binary tree to a string\n",
        "        def t(node):\n",
        "            # Base case: if the node is None, return an empty string\n",
        "            if node is None:\n",
        "                return \"\"\n",
        "\n",
        "            # Convert the current node's value to a string\n",
        "            result = str(node.val)\n",
        "\n",
        "            # Check if the left or right child exists\n",
        "            if node.left or node.right:\n",
        "                # Add the left subtree representation (if it exists)\n",
        "                result += \"(\" + t(node.left) + \")\"\n",
        "\n",
        "            # Add the right subtree representation (if it exists)\n",
        "            if node.right:\n",
        "                result += \"(\" + t(node.right) + \")\"\n",
        "\n",
        "            return result\n",
        "\n",
        "        # Call the helper function with the root of the tree\n",
        "        return t(root)\n",
        "\n",
        "\n",
        "def main():\n",
        "    # Example usage\n",
        "    # Creating a sample binary tree: 1(2(4))(3)\n",
        "    root = TreeNode(1)\n",
        "    root.left = TreeNode(2)\n",
        "    root.left.left = TreeNode(4)\n",
        "    root.right = TreeNode(3)\n",
        "\n",
        "    # Creating the Solution object\n",
        "    solution = Solution()\n",
        "\n",
        "    # Calling the tree2str method to get the string representation\n",
        "    result_str = solution.tree2str(root)\n",
        "\n",
        "    # Printing the result\n",
        "    print(\"String representation of the binary tree:\", result_str)\n",
        "\n",
        "if __name__ == \"__main__\":\n",
        "    main()"
      ]
    },
    {
      "cell_type": "code",
      "source": [],
      "metadata": {
        "id": "A6QTEuHBkewK"
      },
      "execution_count": null,
      "outputs": []
    }
  ]
}