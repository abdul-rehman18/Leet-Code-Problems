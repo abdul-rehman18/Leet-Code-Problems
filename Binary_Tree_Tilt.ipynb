{
  "nbformat": 4,
  "nbformat_minor": 0,
  "metadata": {
    "colab": {
      "provenance": []
    },
    "kernelspec": {
      "name": "python3",
      "display_name": "Python 3"
    },
    "language_info": {
      "name": "python"
    }
  },
  "cells": [
    {
      "cell_type": "markdown",
      "source": [
        "# LeetCode Problem: Binary Tree Tilt"
      ],
      "metadata": {
        "id": "P3mt2-Pq4vrZ"
      }
    },
    {
      "cell_type": "code",
      "execution_count": 2,
      "metadata": {
        "colab": {
          "base_uri": "https://localhost:8080/"
        },
        "id": "UAIDEQpt1kEb",
        "outputId": "0c7f5d18-6de2-4fbc-9622-4c5ac547562d"
      },
      "outputs": [
        {
          "output_type": "stream",
          "name": "stdout",
          "text": [
            "Total Tilt of the binary tree: 9\n"
          ]
        }
      ],
      "source": [
        "class TreeNode:\n",
        "    def __init__(self, val=0, left=None, right=None):\n",
        "        self.val = val\n",
        "        self.left = left\n",
        "        self.right = right\n",
        "\n",
        "class Solution:\n",
        "    def findTilt(self, root):\n",
        "        self.tt = 0\n",
        "        def cal_t(node):\n",
        "            if not node:\n",
        "                return 0\n",
        "            ls, rs = cal_t(node.left), cal_t(node.right)\n",
        "            t = abs(ls - rs)\n",
        "            self.tt += t\n",
        "            return ls + rs + node.val\n",
        "        cal_t(root)\n",
        "        return self.tt\n",
        "\n",
        "def main():\n",
        "    # Example usage of the Solution class\n",
        "    # Creating a sample binary tree\n",
        "    #        1\n",
        "    #       / \\\n",
        "    #      2   3\n",
        "    #     / \\\n",
        "    #    4   5\n",
        "    root = TreeNode(1)\n",
        "    root.left = TreeNode(2, TreeNode(4), TreeNode(5))\n",
        "    root.right = TreeNode(3)\n",
        "\n",
        "    solution = Solution()\n",
        "\n",
        "    result = solution.findTilt(root)\n",
        "\n",
        "    print(f'Total Tilt of the binary tree: {result}')\n",
        "\n",
        "if __name__ == \"__main__\":\n",
        "    main()\n"
      ]
    }
  ]
}