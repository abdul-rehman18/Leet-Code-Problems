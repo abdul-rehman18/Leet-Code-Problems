{
  "nbformat": 4,
  "nbformat_minor": 0,
  "metadata": {
    "colab": {
      "provenance": []
    },
    "kernelspec": {
      "name": "python3",
      "display_name": "Python 3"
    },
    "language_info": {
      "name": "python"
    }
  },
  "cells": [
    {
      "cell_type": "markdown",
      "source": [
        "# LeetCode Probleml: Guess Number Higher or Lower"
      ],
      "metadata": {
        "id": "Vy3Sl6GRPVM_"
      }
    },
    {
      "cell_type": "code",
      "execution_count": 1,
      "metadata": {
        "colab": {
          "base_uri": "https://localhost:8080/"
        },
        "id": "HItdP1ArPM3q",
        "outputId": "25f58b93-1543-4fb6-88cb-e3b471a4d816"
      },
      "outputs": [
        {
          "output_type": "stream",
          "name": "stdout",
          "text": [
            "The guessed number is: 42\n"
          ]
        }
      ],
      "source": [
        "# Example implementation of the guess function (you might have a separate API for this)\n",
        "def guess(num):\n",
        "    # Assume pick is the target number you want to guess\n",
        "    pick = 42\n",
        "    if num < pick:\n",
        "        return 1  # Your guess is lower than the number I picked\n",
        "    elif num > pick:\n",
        "        return -1  # Your guess is higher than the number I picked\n",
        "    else:\n",
        "        return 0  # Your guess is equal to the number I picked\n",
        "\n",
        "class Solution:\n",
        "    def guessNumber(self, n: int) -> int:\n",
        "        low, high = 1, n\n",
        "        while low <= high:\n",
        "            mid = (low + high) // 2\n",
        "            res = guess(mid)\n",
        "            if res == 0:\n",
        "                return mid  # Number found\n",
        "            elif res < 0:\n",
        "                high = mid - 1\n",
        "            else:\n",
        "                low = mid + 1\n",
        "\n",
        "# Example usage in a main function\n",
        "def main():\n",
        "    solution = Solution()\n",
        "    n = 100  # Set your desired range\n",
        "    result = solution.guessNumber(n)\n",
        "    print(f\"The guessed number is: {result}\")\n",
        "\n",
        "if __name__ == \"__main__\":\n",
        "    main()\n"
      ]
    },
    {
      "cell_type": "code",
      "source": [],
      "metadata": {
        "id": "LQ8ygksbSPmJ"
      },
      "execution_count": null,
      "outputs": []
    }
  ]
}