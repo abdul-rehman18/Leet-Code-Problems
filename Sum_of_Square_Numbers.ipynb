{
  "nbformat": 4,
  "nbformat_minor": 0,
  "metadata": {
    "colab": {
      "provenance": []
    },
    "kernelspec": {
      "name": "python3",
      "display_name": "Python 3"
    },
    "language_info": {
      "name": "python"
    }
  },
  "cells": [
    {
      "cell_type": "markdown",
      "source": [
        "# LeetCode Problem: Sum of Square Numbers"
      ],
      "metadata": {
        "id": "JVua_d2rrDuK"
      }
    },
    {
      "cell_type": "code",
      "execution_count": 1,
      "metadata": {
        "colab": {
          "base_uri": "https://localhost:8080/"
        },
        "id": "59x22Qgsq_WY",
        "outputId": "897ebc31-93a4-4b8a-d070-864bbfb40616"
      },
      "outputs": [
        {
          "output_type": "stream",
          "name": "stdout",
          "text": [
            "True\n"
          ]
        }
      ],
      "source": [
        "from math import sqrt\n",
        "def judgeSquareSum(c):\n",
        "  for a in range(int(sqrt(c)) + 1):\n",
        "    b = sqrt(c - a * a)\n",
        "    if b == int(b):\n",
        "      return True\n",
        "  return False\n",
        "\n",
        "c = 5\n",
        "print(judgeSquareSum(c))"
      ]
    },
    {
      "cell_type": "code",
      "source": [],
      "metadata": {
        "id": "cqXljetpr8Y2"
      },
      "execution_count": null,
      "outputs": []
    }
  ]
}