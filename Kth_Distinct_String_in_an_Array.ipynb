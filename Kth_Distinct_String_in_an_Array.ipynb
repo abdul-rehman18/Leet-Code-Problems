{
  "nbformat": 4,
  "nbformat_minor": 0,
  "metadata": {
    "colab": {
      "provenance": []
    },
    "kernelspec": {
      "name": "python3",
      "display_name": "Python 3"
    },
    "language_info": {
      "name": "python"
    }
  },
  "cells": [
    {
      "cell_type": "markdown",
      "source": [
        "# LeetCode Problem: Kth Distinct String in an Array"
      ],
      "metadata": {
        "id": "Cpd5uUq9hc1g"
      }
    },
    {
      "cell_type": "code",
      "execution_count": 1,
      "metadata": {
        "colab": {
          "base_uri": "https://localhost:8080/"
        },
        "id": "wJZYhkTLhYWz",
        "outputId": "9ad51116-9047-4511-d784-2e58389c8230"
      },
      "outputs": [
        {
          "output_type": "stream",
          "name": "stdout",
          "text": [
            "a\n"
          ]
        }
      ],
      "source": [
        "from collections import Counter\n",
        "def kthDistinct(arr, k):\n",
        "        counter = Counter(arr)\n",
        "        for v in arr:\n",
        "            if counter[v] == 1:\n",
        "                k -= 1\n",
        "                if k == 0:\n",
        "                    return v\n",
        "        return ''\n",
        "\n",
        "arr = [\"d\",\"b\",\"c\",\"b\",\"c\",\"a\"]\n",
        "k = 2\n",
        "\n",
        "print(kthDistinct(arr, k))"
      ]
    },
    {
      "cell_type": "code",
      "source": [],
      "metadata": {
        "id": "TNUJelAHhxJn"
      },
      "execution_count": null,
      "outputs": []
    }
  ]
}