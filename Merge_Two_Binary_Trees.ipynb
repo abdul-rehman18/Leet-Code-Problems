{
  "nbformat": 4,
  "nbformat_minor": 0,
  "metadata": {
    "colab": {
      "provenance": []
    },
    "kernelspec": {
      "name": "python3",
      "display_name": "Python 3"
    },
    "language_info": {
      "name": "python"
    }
  },
  "cells": [
    {
      "cell_type": "markdown",
      "source": [
        "# LeetCode Problem: Merge Two Binary Trees"
      ],
      "metadata": {
        "id": "YfynZnkwNDZO"
      }
    },
    {
      "cell_type": "code",
      "execution_count": 2,
      "metadata": {
        "colab": {
          "base_uri": "https://localhost:8080/"
        },
        "id": "tnqYr3WRKQ7F",
        "outputId": "464db5f0-dbfa-482a-fa12-d438fb5eb7e3"
      },
      "outputs": [
        {
          "output_type": "stream",
          "name": "stdout",
          "text": [
            "Merged Tree:\n",
            "5 4 4 3 5 7 "
          ]
        }
      ],
      "source": [
        "# Definition for a binary tree node.\n",
        "class TreeNode:\n",
        "    def __init__(self, val=0, left=None, right=None):\n",
        "        self.val = val\n",
        "        self.left = left\n",
        "        self.right = right\n",
        "\n",
        "class Solution:\n",
        "    def mergeTrees(self, root1, root2):\n",
        "        # If either tree is empty, return the other tree\n",
        "        if not root1:\n",
        "            return root2\n",
        "        elif not root2:\n",
        "            return root1\n",
        "        else:\n",
        "            # Create a new node with the sum of values from both trees\n",
        "            root = TreeNode(root1.val + root2.val)\n",
        "\n",
        "            # Recursively merge the left and right subtrees\n",
        "            root.left = self.mergeTrees(root1.left, root2.left)\n",
        "            root.right = self.mergeTrees(root1.right, root2.right)\n",
        "\n",
        "        return root\n",
        "\n",
        "def main():\n",
        "    # Example usage:\n",
        "    # Create two sample trees\n",
        "    tree1 = TreeNode(1, TreeNode(3, TreeNode(5)), TreeNode(2))\n",
        "    tree2 = TreeNode(2, TreeNode(1, None, TreeNode(4)), TreeNode(3, None, TreeNode(7)))\n",
        "\n",
        "    # Create an instance of the Solution class\n",
        "    solution = Solution()\n",
        "\n",
        "    # Merge the two trees\n",
        "    tree = solution.mergeTrees(tree1, tree2)\n",
        "\n",
        "    # Print the merged tree (you can replace this with any desired tree traversal logic)\n",
        "    print(\"Merged Tree:\")\n",
        "    print_tree(tree)\n",
        "\n",
        "# Helper function to print the tree (in-order traversal)\n",
        "def print_tree(root):\n",
        "    if root:\n",
        "        print_tree(root.left)\n",
        "        print(root.val, end=' ')\n",
        "        print_tree(root.right)\n",
        "\n",
        "if __name__ == \"__main__\":\n",
        "    main()\n"
      ]
    },
    {
      "cell_type": "code",
      "source": [],
      "metadata": {
        "id": "FsAaRQXyMf0M"
      },
      "execution_count": null,
      "outputs": []
    }
  ]
}