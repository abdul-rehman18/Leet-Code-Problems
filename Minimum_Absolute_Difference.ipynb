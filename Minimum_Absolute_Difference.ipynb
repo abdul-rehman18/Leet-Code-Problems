{
  "nbformat": 4,
  "nbformat_minor": 0,
  "metadata": {
    "colab": {
      "provenance": []
    },
    "kernelspec": {
      "name": "python3",
      "display_name": "Python 3"
    },
    "language_info": {
      "name": "python"
    }
  },
  "cells": [
    {
      "cell_type": "markdown",
      "source": [
        "# LeetCode Problem: Minimum Absolute Difference"
      ],
      "metadata": {
        "id": "5T0jDPfIZRup"
      }
    },
    {
      "cell_type": "code",
      "execution_count": 1,
      "metadata": {
        "colab": {
          "base_uri": "https://localhost:8080/"
        },
        "id": "jgTxYGRPYzTy",
        "outputId": "62565e2d-f886-41a2-cf97-d271480c47fc"
      },
      "outputs": [
        {
          "output_type": "stream",
          "name": "stdout",
          "text": [
            "[[1, 2], [2, 3], [3, 4]]\n"
          ]
        }
      ],
      "source": [
        "def minimumAbsDifference(arr):\n",
        "        indx = []\n",
        "        arr.sort()\n",
        "        mabs = arr[1] - arr[0]\n",
        "        for i in range(len(arr) - 1):\n",
        "            min_abs = abs(arr[i + 1] - arr[i])\n",
        "\n",
        "            if min_abs < mabs:\n",
        "                mabs = min_abs\n",
        "                indx.clear()\n",
        "                indx.append([arr[i], arr[i + 1]])\n",
        "\n",
        "            elif min_abs == mabs:\n",
        "                indx.append([arr[i], arr[i + 1]])\n",
        "        return indx\n",
        "\n",
        "arr = [4,2,1,3]\n",
        "print(minimumAbsDifference(arr))\n"
      ]
    },
    {
      "cell_type": "code",
      "source": [],
      "metadata": {
        "id": "j9ZO8qMRcGy-"
      },
      "execution_count": null,
      "outputs": []
    }
  ]
}