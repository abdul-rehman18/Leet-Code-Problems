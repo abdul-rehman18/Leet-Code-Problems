{
  "nbformat": 4,
  "nbformat_minor": 0,
  "metadata": {
    "colab": {
      "provenance": []
    },
    "kernelspec": {
      "name": "python3",
      "display_name": "Python 3"
    },
    "language_info": {
      "name": "python"
    }
  },
  "cells": [
    {
      "cell_type": "markdown",
      "source": [
        "# LeetCode Problem: The Number of Beautiful Subsets"
      ],
      "metadata": {
        "id": "buqzzI5g26m5"
      }
    },
    {
      "cell_type": "code",
      "execution_count": 1,
      "metadata": {
        "colab": {
          "base_uri": "https://localhost:8080/"
        },
        "id": "1suYqgDP23RX",
        "outputId": "af8a3a73-bef9-4ec9-b141-5a6719afef0e"
      },
      "outputs": [
        {
          "output_type": "stream",
          "name": "stdout",
          "text": [
            "4\n"
          ]
        }
      ],
      "source": [
        "from collections import defaultdict\n",
        "def beautifulSubsets(nums, k):\n",
        "        count = 0\n",
        "        lenNums = len(nums)\n",
        "\n",
        "        def explore(index):\n",
        "            nonlocal count\n",
        "            if lenNums == index:\n",
        "                count += 1\n",
        "                return\n",
        "\n",
        "            num = nums[index]\n",
        "\n",
        "            if num - k not in visited and num + k not in visited:\n",
        "                visited[num] += 1\n",
        "                explore(index + 1)\n",
        "                visited[num] -= 1\n",
        "                if visited[num] == 0:\n",
        "                    del visited[num]\n",
        "\n",
        "            explore(index + 1)\n",
        "\n",
        "        visited = defaultdict(int)\n",
        "        explore(0)\n",
        "        return count - 1\n",
        "\n",
        "nums = [2,4,6]\n",
        "k = 2\n",
        "print(beautifulSubsets(nums, k))"
      ]
    },
    {
      "cell_type": "code",
      "source": [],
      "metadata": {
        "id": "Wmi2kpkc3pSl"
      },
      "execution_count": null,
      "outputs": []
    }
  ]
}