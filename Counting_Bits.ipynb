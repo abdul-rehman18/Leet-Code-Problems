{
  "nbformat": 4,
  "nbformat_minor": 0,
  "metadata": {
    "colab": {
      "provenance": []
    },
    "kernelspec": {
      "name": "python3",
      "display_name": "Python 3"
    },
    "language_info": {
      "name": "python"
    }
  },
  "cells": [
    {
      "cell_type": "markdown",
      "source": [
        "# LeetCode Problem: Counting Bits"
      ],
      "metadata": {
        "id": "COMwdibbiEoy"
      }
    },
    {
      "cell_type": "code",
      "execution_count": 1,
      "metadata": {
        "colab": {
          "base_uri": "https://localhost:8080/"
        },
        "id": "oto-CXr7h6lT",
        "outputId": "4e063589-d168-47ff-b6a5-27c5bbdb4411"
      },
      "outputs": [
        {
          "output_type": "stream",
          "name": "stdout",
          "text": [
            "[0, 1, 1]\n"
          ]
        }
      ],
      "source": [
        "def countBits(n):\n",
        "        counter = [0]\n",
        "        for i in range(1 , n+1):\n",
        "            counter.append(counter[i >> 1] + i % 2)\n",
        "        return counter\n",
        "\n",
        "n = 2\n",
        "res = countBits(n)\n",
        "print(res)"
      ]
    },
    {
      "cell_type": "code",
      "source": [],
      "metadata": {
        "id": "Os_JsFQEn5kR"
      },
      "execution_count": null,
      "outputs": []
    }
  ]
}