{
  "nbformat": 4,
  "nbformat_minor": 0,
  "metadata": {
    "colab": {
      "provenance": []
    },
    "kernelspec": {
      "name": "python3",
      "display_name": "Python 3"
    },
    "language_info": {
      "name": "python"
    }
  },
  "cells": [
    {
      "cell_type": "markdown",
      "source": [
        "# LeetCode Problem: Find Pivot Index"
      ],
      "metadata": {
        "id": "9sDLgyvza_nZ"
      }
    },
    {
      "cell_type": "code",
      "execution_count": 1,
      "metadata": {
        "colab": {
          "base_uri": "https://localhost:8080/"
        },
        "id": "BXRFU2yRauum",
        "outputId": "bd6317f3-f40e-4ab3-a1df-9e0bc418f5bd"
      },
      "outputs": [
        {
          "output_type": "stream",
          "name": "stdout",
          "text": [
            "3\n"
          ]
        }
      ],
      "source": [
        "def pivotIndex(nums):\n",
        "        l,r =0,sum(nums)\n",
        "        for i,e in enumerate(nums):\n",
        "            r-=e\n",
        "            if l==r:\n",
        "                return i\n",
        "            l+=e\n",
        "        return -1\n",
        "\n",
        "nums = [1,7,3,6,5,6]\n",
        "print(pivotIndex(nums))"
      ]
    },
    {
      "cell_type": "code",
      "source": [],
      "metadata": {
        "id": "4EcIhz4tdFCk"
      },
      "execution_count": null,
      "outputs": []
    }
  ]
}