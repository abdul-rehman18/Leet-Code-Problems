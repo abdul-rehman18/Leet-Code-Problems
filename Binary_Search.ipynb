{
  "nbformat": 4,
  "nbformat_minor": 0,
  "metadata": {
    "colab": {
      "provenance": []
    },
    "kernelspec": {
      "name": "python3",
      "display_name": "Python 3"
    },
    "language_info": {
      "name": "python"
    }
  },
  "cells": [
    {
      "cell_type": "markdown",
      "source": [
        "# LeetCode Problem: Binary Search"
      ],
      "metadata": {
        "id": "ZY1rlo5SYb2n"
      }
    },
    {
      "cell_type": "code",
      "execution_count": 1,
      "metadata": {
        "colab": {
          "base_uri": "https://localhost:8080/"
        },
        "id": "u3FOM-6mWVsI",
        "outputId": "716d1b10-1d35-4489-9610-fa8a21aeeb84"
      },
      "outputs": [
        {
          "output_type": "stream",
          "name": "stdout",
          "text": [
            "4\n"
          ]
        }
      ],
      "source": [
        "def search(nums, target):\n",
        "        left = 0\n",
        "        right = len(nums)-1\n",
        "\n",
        "        while left<=right:\n",
        "            mid = (left+right)//2\n",
        "            if nums[mid]==target:\n",
        "                return mid\n",
        "            elif nums[mid]>target:\n",
        "                right = mid-1\n",
        "            else:\n",
        "                left = mid+1\n",
        "\n",
        "        return -1\n",
        "\n",
        "\n",
        "nums = [-1,0,3,5,9,12]\n",
        "target = 9\n",
        "print(search(nums, target))"
      ]
    },
    {
      "cell_type": "code",
      "source": [],
      "metadata": {
        "id": "Yisq22F5YWpO"
      },
      "execution_count": null,
      "outputs": []
    }
  ]
}