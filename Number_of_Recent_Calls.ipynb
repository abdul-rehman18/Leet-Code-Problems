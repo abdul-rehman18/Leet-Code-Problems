{
  "nbformat": 4,
  "nbformat_minor": 0,
  "metadata": {
    "colab": {
      "provenance": []
    },
    "kernelspec": {
      "name": "python3",
      "display_name": "Python 3"
    },
    "language_info": {
      "name": "python"
    }
  },
  "cells": [
    {
      "cell_type": "markdown",
      "source": [
        "# LeetCode Problem: Number of Recent Calls"
      ],
      "metadata": {
        "id": "5D6oQ05KvZYQ"
      }
    },
    {
      "cell_type": "code",
      "execution_count": 1,
      "metadata": {
        "colab": {
          "base_uri": "https://localhost:8080/"
        },
        "id": "gtjt-njdvM3Y",
        "outputId": "ff9bc8c4-fd1a-4dfd-f3bf-eb2dde357340"
      },
      "outputs": [
        {
          "output_type": "stream",
          "name": "stdout",
          "text": [
            "Ping at time 1\n",
            "Number of recent pings: 1\n",
            "\n",
            "Ping at time 100\n",
            "Number of recent pings: 2\n",
            "\n",
            "Ping at time 3001\n",
            "Number of recent pings: 3\n",
            "\n",
            "Ping at time 3002\n",
            "Number of recent pings: 3\n",
            "\n"
          ]
        }
      ],
      "source": [
        "from collections import deque\n",
        "\n",
        "class RecentCounter:\n",
        "    def __init__(self):\n",
        "        self.q = deque()\n",
        "\n",
        "    def ping(self, t):\n",
        "        q = self.q\n",
        "        s = t - 3000\n",
        "        q.append(t)\n",
        "        while q and q[0] < s:\n",
        "            q.popleft()\n",
        "        return len(q)\n",
        "\n",
        "def main():\n",
        "    counter = RecentCounter()\n",
        "\n",
        "    pings = [1, 100, 3001, 3002]\n",
        "\n",
        "    for ping in pings:\n",
        "        print(\"Ping at time\", ping)\n",
        "        print(\"Number of recent pings:\", counter.ping(ping))\n",
        "        print()\n",
        "\n",
        "if __name__ == \"__main__\":\n",
        "    main()\n"
      ]
    },
    {
      "cell_type": "code",
      "source": [],
      "metadata": {
        "id": "eeSlZRqOwTHi"
      },
      "execution_count": null,
      "outputs": []
    }
  ]
}