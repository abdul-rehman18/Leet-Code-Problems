{
  "nbformat": 4,
  "nbformat_minor": 0,
  "metadata": {
    "colab": {
      "provenance": []
    },
    "kernelspec": {
      "name": "python3",
      "display_name": "Python 3"
    },
    "language_info": {
      "name": "python"
    }
  },
  "cells": [
    {
      "cell_type": "markdown",
      "source": [
        "# LeetCode Problem: Relative Sort Array"
      ],
      "metadata": {
        "id": "mb0Wt5q6cd_w"
      }
    },
    {
      "cell_type": "code",
      "execution_count": 1,
      "metadata": {
        "colab": {
          "base_uri": "https://localhost:8080/"
        },
        "id": "LXIVYUDGb3nI",
        "outputId": "daf12837-208d-4aa8-db65-269ac87d4f0d"
      },
      "outputs": [
        {
          "output_type": "stream",
          "name": "stdout",
          "text": [
            "[2, 2, 2, 1, 4, 3, 3, 9, 6, 7, 19]\n"
          ]
        }
      ],
      "source": [
        "def relativeSortArray(arr1, arr2):\n",
        "        presentElements = {}\n",
        "        lengthOfArr1 = len(arr1)\n",
        "\n",
        "        for i in range(len(arr2)):\n",
        "            presentElements[arr2[i]] = i\n",
        "\n",
        "        def relativeSort(x):\n",
        "            if x in presentElements:\n",
        "                return presentElements[x]\n",
        "            return x + lengthOfArr1\n",
        "\n",
        "        arr1.sort(key = relativeSort)\n",
        "        return arr1\n",
        "\n",
        "arr1 = [2,3,1,3,2,4,6,7,9,2,19]\n",
        "arr2 = [2,1,4,3,9,6]\n",
        "print(relativeSortArray(arr1, arr2))"
      ]
    },
    {
      "cell_type": "code",
      "source": [],
      "metadata": {
        "id": "ENedDedccvQ7"
      },
      "execution_count": null,
      "outputs": []
    }
  ]
}