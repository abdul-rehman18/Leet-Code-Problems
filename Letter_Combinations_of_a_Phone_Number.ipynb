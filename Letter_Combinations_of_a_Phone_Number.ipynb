{
  "nbformat": 4,
  "nbformat_minor": 0,
  "metadata": {
    "colab": {
      "provenance": []
    },
    "kernelspec": {
      "name": "python3",
      "display_name": "Python 3"
    },
    "language_info": {
      "name": "python"
    }
  },
  "cells": [
    {
      "cell_type": "markdown",
      "source": [
        "# LeetCode Problem: Letter Combinations of a Phone Number"
      ],
      "metadata": {
        "id": "VH9eYamkPV6q"
      }
    },
    {
      "cell_type": "code",
      "execution_count": 6,
      "metadata": {
        "colab": {
          "base_uri": "https://localhost:8080/"
        },
        "id": "T1aiVc_LJmmL",
        "outputId": "95b169e8-05bf-4eb5-a671-ed1dd14da55f"
      },
      "outputs": [
        {
          "output_type": "stream",
          "name": "stdout",
          "text": [
            "['ad', 'ae', 'af', 'bd', 'be', 'bf', 'cd', 'ce', 'cf']\n"
          ]
        }
      ],
      "source": [
        "def letterCombinations(digits):\n",
        "        if not digits:\n",
        "            return []\n",
        "        phone_map = {\n",
        "            '2': 'abc',\n",
        "            '3': 'def',\n",
        "            '4': 'ghi',\n",
        "            '5': 'jkl',\n",
        "            '6': 'mno',\n",
        "            '7': 'pqrs',\n",
        "            '8': 'tuv',\n",
        "            '9': 'wxyz'\n",
        "        }\n",
        "        def backtrack(combination, next_digits):\n",
        "            if len(next_digits) == 0:\n",
        "                output.append(combination)\n",
        "            else:\n",
        "                for letter in phone_map[next_digits[0]]:\n",
        "                    backtrack(combination + letter, next_digits[1:])\n",
        "        output = []\n",
        "        backtrack(\"\", digits)\n",
        "        return output\n",
        "\n",
        "\n",
        "digits = \"23\"\n",
        "print(letterCombinations(digits))"
      ]
    },
    {
      "cell_type": "code",
      "source": [],
      "metadata": {
        "id": "RSlhEa2zJz5o"
      },
      "execution_count": null,
      "outputs": []
    }
  ]
}