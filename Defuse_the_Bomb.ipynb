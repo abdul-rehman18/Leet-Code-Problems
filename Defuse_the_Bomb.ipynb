{
  "nbformat": 4,
  "nbformat_minor": 0,
  "metadata": {
    "colab": {
      "provenance": []
    },
    "kernelspec": {
      "name": "python3",
      "display_name": "Python 3"
    },
    "language_info": {
      "name": "python"
    }
  },
  "cells": [
    {
      "cell_type": "markdown",
      "source": [
        "# LeetCode Problem: Defuse the Bomb"
      ],
      "metadata": {
        "id": "fRAMQZTaZ6Jr"
      }
    },
    {
      "cell_type": "code",
      "execution_count": 1,
      "metadata": {
        "colab": {
          "base_uri": "https://localhost:8080/"
        },
        "id": "fC2PV2ZKZ4Si",
        "outputId": "d11934fb-249e-4c2f-9ab2-344626c22e20"
      },
      "outputs": [
        {
          "output_type": "stream",
          "name": "stdout",
          "text": [
            "[12, 10, 16, 13]\n"
          ]
        }
      ],
      "source": [
        "def decrypt(code, k):\n",
        "        n=len(code)\n",
        "        ans=[0]*n\n",
        "        if k==0: return ans\n",
        "        if k>0:\n",
        "            ans[0]=wsum=sum(code[1:k+1])\n",
        "            for l in range(1, n):\n",
        "                r=(l+k)%n\n",
        "                wsum+=-code[l]+code[r]\n",
        "                ans[l]=wsum\n",
        "            return ans\n",
        "        # Python has minus index\n",
        "        ans[0]=wsum=sum(code[-1:k-1:-1])\n",
        "        for l in range(1, n):\n",
        "            r=(l-k)%n\n",
        "            wsum+=-code[-l]+code[-r]\n",
        "            ans[-l]=wsum\n",
        "        return ans\n",
        "\n",
        "code = [5,7,1,4]\n",
        "k = 3\n",
        "\n",
        "print(decrypt(code, k))"
      ]
    },
    {
      "cell_type": "code",
      "source": [],
      "metadata": {
        "id": "A9mFuIpZaPz8"
      },
      "execution_count": null,
      "outputs": []
    }
  ]
}