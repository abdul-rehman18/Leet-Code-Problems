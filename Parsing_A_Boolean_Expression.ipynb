{
  "nbformat": 4,
  "nbformat_minor": 0,
  "metadata": {
    "colab": {
      "provenance": []
    },
    "kernelspec": {
      "name": "python3",
      "display_name": "Python 3"
    },
    "language_info": {
      "name": "python"
    }
  },
  "cells": [
    {
      "cell_type": "markdown",
      "source": [
        "# LeetCode Problem: Parsing A Boolean Expression"
      ],
      "metadata": {
        "id": "XLBFTIhV2PyV"
      }
    },
    {
      "cell_type": "code",
      "execution_count": 1,
      "metadata": {
        "colab": {
          "base_uri": "https://localhost:8080/"
        },
        "id": "dzQRUchDJvln",
        "outputId": "3cf80115-29cf-421b-f5a1-9597de08039b"
      },
      "outputs": [
        {
          "output_type": "stream",
          "name": "stdout",
          "text": [
            "False\n"
          ]
        }
      ],
      "source": [
        "import re\n",
        "from collections import deque\n",
        "def parseBoolExpr(expression):\n",
        "        st = deque()\n",
        "        for c in expression:\n",
        "            if c == \",\" or c == \"(\":\n",
        "                continue\n",
        "            if c in [\"t\", \"f\", \"!\", \"&\", \"|\"]:\n",
        "                st.append(c)\n",
        "            elif c == \")\":\n",
        "                has_true = False\n",
        "                has_false = False\n",
        "                while st[-1] not in [\"!\", \"&\", \"|\"]:\n",
        "                    top_value = st.pop()\n",
        "                    if top_value == \"t\":\n",
        "                        has_true = True\n",
        "                    elif top_value == \"f\":\n",
        "                        has_false = True\n",
        "                op = st.pop()\n",
        "                if op == \"!\":\n",
        "                    st.append(\"t\" if not has_true else \"f\")\n",
        "                elif op == \"&\":\n",
        "                    st.append(\"f\" if has_false else \"t\")\n",
        "                else:\n",
        "                    st.append(\"t\" if has_true else \"f\")\n",
        "        return st[-1] == \"t\"\n",
        "\n",
        "expression = \"&(|(f))\"\n",
        "print(parseBoolExpr(expression))\n"
      ]
    },
    {
      "cell_type": "code",
      "source": [],
      "metadata": {
        "id": "ynggbl4A2g6l"
      },
      "execution_count": null,
      "outputs": []
    }
  ]
}