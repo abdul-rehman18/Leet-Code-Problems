{
  "nbformat": 4,
  "nbformat_minor": 0,
  "metadata": {
    "colab": {
      "provenance": []
    },
    "kernelspec": {
      "name": "python3",
      "display_name": "Python 3"
    },
    "language_info": {
      "name": "python"
    }
  },
  "cells": [
    {
      "cell_type": "markdown",
      "source": [
        "# LeetCode Problem: Can Place Flowers"
      ],
      "metadata": {
        "id": "KXvOnT4xuVLG"
      }
    },
    {
      "cell_type": "code",
      "execution_count": 1,
      "metadata": {
        "colab": {
          "base_uri": "https://localhost:8080/"
        },
        "id": "iv4cfAI0qtX5",
        "outputId": "e4afae2d-bcc3-4763-e25c-9ddd3936b62a"
      },
      "outputs": [
        {
          "output_type": "stream",
          "name": "stdout",
          "text": [
            "True\n"
          ]
        }
      ],
      "source": [
        "def canPlaceFlowers(flowerbed, n):\n",
        "        if n==0:\n",
        "            return True\n",
        "        for i in range(len(flowerbed)):\n",
        "            if flowerbed[i]==0 and (i==0 or flowerbed[i-1]==0) and (i==len(flowerbed)-1 or flowerbed[i+1]==0):\n",
        "                flowerbed[i]=1\n",
        "                n-=1\n",
        "                if n==0:\n",
        "                    return True\n",
        "        return False\n",
        "\n",
        "\n",
        "flowerbed = [1,0,0,0,1]\n",
        "n = 1\n",
        "print(canPlaceFlowers(flowerbed, n))"
      ]
    },
    {
      "cell_type": "code",
      "source": [],
      "metadata": {
        "id": "6yHOssr3udw7"
      },
      "execution_count": null,
      "outputs": []
    }
  ]
}