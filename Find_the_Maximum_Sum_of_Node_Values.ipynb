{
  "nbformat": 4,
  "nbformat_minor": 0,
  "metadata": {
    "colab": {
      "provenance": []
    },
    "kernelspec": {
      "name": "python3",
      "display_name": "Python 3"
    },
    "language_info": {
      "name": "python"
    }
  },
  "cells": [
    {
      "cell_type": "markdown",
      "source": [
        "# LeetCode Problem: Find the Maximum Sum of Node Values"
      ],
      "metadata": {
        "id": "c5EhtIUW2tfU"
      }
    },
    {
      "cell_type": "code",
      "execution_count": 1,
      "metadata": {
        "colab": {
          "base_uri": "https://localhost:8080/"
        },
        "id": "2hKz5svY2l2f",
        "outputId": "12da65c9-995a-465b-a4ed-e30cf6571d32"
      },
      "outputs": [
        {
          "output_type": "stream",
          "name": "stdout",
          "text": [
            "6\n"
          ]
        }
      ],
      "source": [
        "def maximumValueSum(nums, k, edges):\n",
        "        totalSum = 0\n",
        "        count = 0\n",
        "        positiveMin = float(\"inf\")\n",
        "        negativeMax = float(\"-inf\")\n",
        "\n",
        "        for nodeValue in nums:\n",
        "            nodeValAfterOperation = nodeValue ^ k\n",
        "\n",
        "            totalSum += nodeValue\n",
        "            netChange = nodeValAfterOperation - nodeValue\n",
        "\n",
        "            if netChange > 0:\n",
        "                positiveMin = min(positiveMin, netChange)\n",
        "                totalSum += netChange\n",
        "                count += 1\n",
        "            else:\n",
        "                negativeMax = max(negativeMax, netChange)\n",
        "\n",
        "        if count % 2 == 0:\n",
        "            return totalSum\n",
        "        return max(totalSum - positiveMin, totalSum + negativeMax)\n",
        "\n",
        "\n",
        "\n",
        "nums = [1,2,1]\n",
        "k = 3\n",
        "edges = [[0,1],[0,2]]\n",
        "print(maximumValueSum(nums, k, edges))"
      ]
    },
    {
      "cell_type": "code",
      "source": [],
      "metadata": {
        "id": "dwQt49cQ3sQw"
      },
      "execution_count": null,
      "outputs": []
    }
  ]
}