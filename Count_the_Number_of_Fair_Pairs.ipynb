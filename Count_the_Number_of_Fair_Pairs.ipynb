{
  "nbformat": 4,
  "nbformat_minor": 0,
  "metadata": {
    "colab": {
      "provenance": []
    },
    "kernelspec": {
      "name": "python3",
      "display_name": "Python 3"
    },
    "language_info": {
      "name": "python"
    }
  },
  "cells": [
    {
      "cell_type": "markdown",
      "source": [
        "# LeetCode Problem: Count the Number of Fair Pairs"
      ],
      "metadata": {
        "id": "OrP_mD1f0pfc"
      }
    },
    {
      "cell_type": "code",
      "execution_count": 1,
      "metadata": {
        "colab": {
          "base_uri": "https://localhost:8080/"
        },
        "id": "9jv-zNIQz-0A",
        "outputId": "c6e49607-8958-4ab7-97c5-c37da5902c35"
      },
      "outputs": [
        {
          "output_type": "stream",
          "name": "stdout",
          "text": [
            "6\n"
          ]
        }
      ],
      "source": [
        "from bisect import bisect_left, bisect_right\n",
        "def countFairPairs(v, lower, upper):\n",
        "        v.sort()\n",
        "        ans = 0\n",
        "        for i in range(len(v) - 1):\n",
        "            low = bisect_left(v, lower - v[i], i + 1)\n",
        "            up = bisect_right(v, upper - v[i], i + 1)\n",
        "            ans += up - low\n",
        "        return ans\n",
        "\n",
        "nums = [0,1,7,4,4,5]\n",
        "lower = 3\n",
        "upper = 6\n",
        "\n",
        "print(countFairPairs(nums, lower, upper))\n"
      ]
    },
    {
      "cell_type": "code",
      "source": [],
      "metadata": {
        "id": "hcwqIlMp05Zf"
      },
      "execution_count": null,
      "outputs": []
    }
  ]
}