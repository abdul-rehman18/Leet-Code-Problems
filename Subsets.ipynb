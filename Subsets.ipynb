{
  "nbformat": 4,
  "nbformat_minor": 0,
  "metadata": {
    "colab": {
      "provenance": []
    },
    "kernelspec": {
      "name": "python3",
      "display_name": "Python 3"
    },
    "language_info": {
      "name": "python"
    }
  },
  "cells": [
    {
      "cell_type": "markdown",
      "source": [
        "# LeetCode Problem: Subsets\n"
      ],
      "metadata": {
        "id": "QQWfkpTpUXXa"
      }
    },
    {
      "cell_type": "code",
      "execution_count": 1,
      "metadata": {
        "colab": {
          "base_uri": "https://localhost:8080/"
        },
        "id": "hZgVfGcvUVja",
        "outputId": "ac4e1c9e-0349-435c-e69f-4df16f046de5"
      },
      "outputs": [
        {
          "output_type": "stream",
          "name": "stdout",
          "text": [
            "[[], [1], [1, 2], [1, 2, 3], [1, 3], [2], [2, 3], [3]]\n"
          ]
        }
      ],
      "source": [
        "def subsets(nums):\n",
        "        def backtrack(start, path):\n",
        "            result.append(path)\n",
        "            for i in range(start, len(nums)):\n",
        "                backtrack(i + 1, path + [nums[i]])\n",
        "\n",
        "        result = []\n",
        "        backtrack(0, [])\n",
        "        return result\n",
        "nums = [1,2,3]\n",
        "print(subsets(nums))"
      ]
    },
    {
      "cell_type": "code",
      "source": [],
      "metadata": {
        "id": "eNnki36tU3Kv"
      },
      "execution_count": null,
      "outputs": []
    }
  ]
}