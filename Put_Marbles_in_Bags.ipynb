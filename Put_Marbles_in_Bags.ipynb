{
  "nbformat": 4,
  "nbformat_minor": 0,
  "metadata": {
    "colab": {
      "provenance": []
    },
    "kernelspec": {
      "name": "python3",
      "display_name": "Python 3"
    },
    "language_info": {
      "name": "python"
    }
  },
  "cells": [
    {
      "cell_type": "markdown",
      "source": [
        "# LeetCode Problem: Put Marbles in Bags"
      ],
      "metadata": {
        "id": "JH2eS5UM0J6E"
      }
    },
    {
      "cell_type": "code",
      "execution_count": null,
      "metadata": {
        "id": "DiAtSNOe0G0N"
      },
      "outputs": [],
      "source": [
        "class Solution:\n",
        "    def putMarbles(self, weights: List[int], k: int) -> int:\n",
        "        if k == 1:\n",
        "            return 0\n",
        "\n",
        "        pair_sums = []\n",
        "        for i in range(len(weights) - 1):\n",
        "            pair_sums.append(weights[i] + weights[i + 1])\n",
        "\n",
        "        pair_sums.sort()\n",
        "\n",
        "        min_score = sum(pair_sums[:k-1])\n",
        "        max_score = sum(pair_sums[-(k-1):])\n",
        "\n",
        "        return max_score - min_score"
      ]
    }
  ]
}