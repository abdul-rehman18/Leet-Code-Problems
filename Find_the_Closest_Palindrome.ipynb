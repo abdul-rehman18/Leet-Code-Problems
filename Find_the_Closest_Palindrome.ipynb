{
  "nbformat": 4,
  "nbformat_minor": 0,
  "metadata": {
    "colab": {
      "provenance": []
    },
    "kernelspec": {
      "name": "python3",
      "display_name": "Python 3"
    },
    "language_info": {
      "name": "python"
    }
  },
  "cells": [
    {
      "cell_type": "markdown",
      "source": [
        "# LeetCode Problem: Find the Closest Palindrome"
      ],
      "metadata": {
        "id": "RtEC-4MQTIJb"
      }
    },
    {
      "cell_type": "code",
      "execution_count": 1,
      "metadata": {
        "colab": {
          "base_uri": "https://localhost:8080/"
        },
        "id": "LRwFowjBTDdE",
        "outputId": "12f9ac8b-8e76-43c2-a786-ac79f0a11565"
      },
      "outputs": [
        {
          "output_type": "stream",
          "name": "stdout",
          "text": [
            "Enter a number: 124\n",
            "The nearest palindrome is: 121\n"
          ]
        }
      ],
      "source": [
        "class Solution:\n",
        "    def nearestPalindromic(self, numberStr: str) -> str:\n",
        "        number = int(numberStr)\n",
        "        if number <= 10:\n",
        "            return str(number - 1)\n",
        "        if number == 11:\n",
        "            return \"9\"\n",
        "\n",
        "        length = len(numberStr)\n",
        "        leftHalf = int(numberStr[:(length + 1) // 2])\n",
        "\n",
        "        palindromeCandidates = [\n",
        "            self.generatePalindromeFromLeft(leftHalf - 1, length % 2 == 0),\n",
        "            self.generatePalindromeFromLeft(leftHalf, length % 2 == 0),\n",
        "            self.generatePalindromeFromLeft(leftHalf + 1, length % 2 == 0),\n",
        "            10**(length - 1) - 1,\n",
        "            10**length + 1\n",
        "        ]\n",
        "\n",
        "        nearestPalindrome = 0\n",
        "        minDifference = float('inf')\n",
        "\n",
        "        for candidate in palindromeCandidates:\n",
        "            if candidate == number:\n",
        "                continue\n",
        "            difference = abs(candidate - number)\n",
        "            if difference < minDifference or (difference == minDifference and candidate < nearestPalindrome):\n",
        "                minDifference = difference\n",
        "                nearestPalindrome = candidate\n",
        "\n",
        "        return str(nearestPalindrome)\n",
        "\n",
        "    def generatePalindromeFromLeft(self, leftHalf: int, isEvenLength: bool) -> int:\n",
        "        palindrome = leftHalf\n",
        "        if not isEvenLength:\n",
        "            leftHalf //= 10\n",
        "        while leftHalf > 0:\n",
        "            palindrome = palindrome * 10 + leftHalf % 10\n",
        "            leftHalf //= 10\n",
        "        return palindrome\n",
        "\n",
        "def main():\n",
        "    # Create an instance of the Solution class\n",
        "    solution = Solution()\n",
        "\n",
        "    # Input: Read number from user\n",
        "    numberStr = input(\"Enter a number: \")\n",
        "\n",
        "    # Find the nearest palindromic number\n",
        "    nearestPalindrome = solution.nearestPalindromic(numberStr)\n",
        "\n",
        "    # Output: Print the result\n",
        "    print(f\"The nearest palindrome is: {nearestPalindrome}\")\n",
        "\n",
        "# Call the main function\n",
        "if __name__ == \"__main__\":\n",
        "    main()\n"
      ]
    },
    {
      "cell_type": "code",
      "source": [],
      "metadata": {
        "id": "2YLsMNMiTawN"
      },
      "execution_count": null,
      "outputs": []
    }
  ]
}