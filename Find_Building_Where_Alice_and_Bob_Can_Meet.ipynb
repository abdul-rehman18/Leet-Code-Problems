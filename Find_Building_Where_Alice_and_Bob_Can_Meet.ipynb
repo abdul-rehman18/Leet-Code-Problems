{
  "nbformat": 4,
  "nbformat_minor": 0,
  "metadata": {
    "colab": {
      "provenance": []
    },
    "kernelspec": {
      "name": "python3",
      "display_name": "Python 3"
    },
    "language_info": {
      "name": "python"
    }
  },
  "cells": [
    {
      "cell_type": "markdown",
      "source": [
        "# LeetCode Problem: Find Building Where Alice and Bob Can Meet"
      ],
      "metadata": {
        "id": "tFl0khVvfLXu"
      }
    },
    {
      "cell_type": "code",
      "execution_count": 1,
      "metadata": {
        "id": "1ga-ml2QaUG4"
      },
      "outputs": [],
      "source": [
        "class Solution:\n",
        "    def leftmostBuildingQueries(self, heights, queries):\n",
        "        n = len(heights)\n",
        "        st = [[0] * 20 for _ in range(n)]\n",
        "        Log = [-1] * (n + 1)\n",
        "        Log[0] = -1\n",
        "        for i in range(1, n + 1):\n",
        "            Log[i] = Log[i >> 1] + 1\n",
        "        for i in range(n):\n",
        "            st[i][0] = heights[i]\n",
        "        for i in range(1, 20):\n",
        "            for j in range(n):\n",
        "                if j + (1 << i) <= n:\n",
        "                    st[j][i] = max(st[j][i - 1], st[j + (1 << (i - 1))][i - 1])\n",
        "\n",
        "        def Ask(l, r):\n",
        "            k = Log[r - l + 1]\n",
        "            return max(st[l][k], st[r - (1 << k) + 1][k])\n",
        "\n",
        "        res = []\n",
        "        for l, r in queries:\n",
        "            if l > r:\n",
        "                l, r = r, l\n",
        "            if l == r:\n",
        "                res.append(l)\n",
        "                continue\n",
        "            if heights[r] > heights[l]:\n",
        "                res.append(r)\n",
        "                continue\n",
        "            max_height = max(heights[r], heights[l])\n",
        "            left, right = r + 1, n\n",
        "            while left < right:\n",
        "                mid = (left + right) // 2\n",
        "                if Ask(r + 1, mid) > max_height:\n",
        "                    right = mid\n",
        "                else:\n",
        "                    left = mid + 1\n",
        "            res.append(left if left != n else -1)\n",
        "        return res\n",
        "\n",
        "\n",
        "heights = [6,4,8,5,2,7]\n",
        "queries = [[0,1],[0,3],[2,4],[3,4],[2,2]]\n",
        "\n",
        "\n",
        "sol = Solution()\n"
      ]
    },
    {
      "cell_type": "code",
      "source": [],
      "metadata": {
        "id": "0HRkNHYygF1F"
      },
      "execution_count": null,
      "outputs": []
    }
  ]
}