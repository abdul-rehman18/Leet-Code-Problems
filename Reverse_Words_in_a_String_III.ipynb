{
  "nbformat": 4,
  "nbformat_minor": 0,
  "metadata": {
    "colab": {
      "provenance": []
    },
    "kernelspec": {
      "name": "python3",
      "display_name": "Python 3"
    },
    "language_info": {
      "name": "python"
    }
  },
  "cells": [
    {
      "cell_type": "markdown",
      "source": [
        "# LeetCode Problem: Reverse Words in a String III"
      ],
      "metadata": {
        "id": "bSlG_x6X0ZKO"
      }
    },
    {
      "cell_type": "code",
      "execution_count": 1,
      "metadata": {
        "colab": {
          "base_uri": "https://localhost:8080/"
        },
        "id": "Zg_u7Vxy0Q7F",
        "outputId": "34a2b379-485e-4756-b2fe-ab6773a92f13"
      },
      "outputs": [
        {
          "output_type": "stream",
          "name": "stdout",
          "text": [
            "s'teL ekat edoCteeL tsetnoc\n"
          ]
        }
      ],
      "source": [
        "def reverseWords(s):\n",
        "        ls=s.split()\n",
        "        res=[]\n",
        "        for i in ls:\n",
        "            a=i[::-1]\n",
        "            res.append(a)\n",
        "        r=' '.join(res)\n",
        "        return r\n",
        "\n",
        "s = \"Let's take LeetCode contest\"\n",
        "print(reverseWords(s))"
      ]
    },
    {
      "cell_type": "code",
      "source": [],
      "metadata": {
        "id": "nrGS_lRG0j6V"
      },
      "execution_count": null,
      "outputs": []
    }
  ]
}