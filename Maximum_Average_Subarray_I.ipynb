{
  "nbformat": 4,
  "nbformat_minor": 0,
  "metadata": {
    "colab": {
      "provenance": []
    },
    "kernelspec": {
      "name": "python3",
      "display_name": "Python 3"
    },
    "language_info": {
      "name": "python"
    }
  },
  "cells": [
    {
      "cell_type": "markdown",
      "source": [
        "# LeetCode Problem:Maximum Average Subarray I"
      ],
      "metadata": {
        "id": "Dju4tjSnmPAG"
      }
    },
    {
      "cell_type": "code",
      "execution_count": 2,
      "metadata": {
        "colab": {
          "base_uri": "https://localhost:8080/"
        },
        "id": "qyDNl25EapaZ",
        "outputId": "3c70c571-8809-495f-bc9b-8d1e20e58453"
      },
      "outputs": [
        {
          "output_type": "stream",
          "name": "stdout",
          "text": [
            "12.75\n"
          ]
        }
      ],
      "source": [
        "def findMaxAverage(nums, k):\n",
        "\n",
        "        # Initialize currSum and maxSum to the sum of the initial k elements\n",
        "        currSum = maxSum = sum(nums[:k])\n",
        "\n",
        "        # Start the loop from the kth element\n",
        "        # Iterate until you reach the end\n",
        "        for i in range(k, len(nums)):\n",
        "\n",
        "            # Subtract the left element of the window\n",
        "            # Add the right element of the window\n",
        "            currSum += nums[i] - nums[i - k]\n",
        "\n",
        "            # Update the max\n",
        "            maxSum = max(maxSum, currSum)\n",
        "\n",
        "        # Since the problem requires average, we return the average\n",
        "        return maxSum / k\n",
        "\n",
        "\n",
        "nums = [1,12,-5,-6,50,3]\n",
        "k = 4\n",
        "print(findMaxAverage(nums, k))"
      ]
    },
    {
      "cell_type": "code",
      "source": [],
      "metadata": {
        "id": "qXYJRXzlmKUK"
      },
      "execution_count": null,
      "outputs": []
    }
  ]
}