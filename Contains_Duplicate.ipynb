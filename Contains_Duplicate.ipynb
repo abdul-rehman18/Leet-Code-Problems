{
  "nbformat": 4,
  "nbformat_minor": 0,
  "metadata": {
    "colab": {
      "provenance": []
    },
    "kernelspec": {
      "name": "python3",
      "display_name": "Python 3"
    },
    "language_info": {
      "name": "python"
    }
  },
  "cells": [
    {
      "cell_type": "markdown",
      "source": [
        "# LeetCode Problem: Contains Duplicate"
      ],
      "metadata": {
        "id": "YbJkmS8Uvb1P"
      }
    },
    {
      "cell_type": "code",
      "execution_count": 3,
      "metadata": {
        "colab": {
          "base_uri": "https://localhost:8080/"
        },
        "id": "s2aAGgPKvU9e",
        "outputId": "8e0f72ee-d4ad-4c85-9b96-ce3c766bf3d6"
      },
      "outputs": [
        {
          "output_type": "stream",
          "name": "stdout",
          "text": [
            "False\n"
          ]
        }
      ],
      "source": [
        "def containsDuplicate(nums):\n",
        "  seen = set()\n",
        "  for num in nums:\n",
        "    if num in seen:\n",
        "      return True\n",
        "    seen.add(num)\n",
        "  return False\n",
        "\n",
        "nums=[3,1]\n",
        "print(containsDuplicate(nums))"
      ]
    },
    {
      "cell_type": "code",
      "source": [],
      "metadata": {
        "id": "mB3wushTwTp2"
      },
      "execution_count": null,
      "outputs": []
    }
  ]
}