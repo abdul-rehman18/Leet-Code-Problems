{
  "nbformat": 4,
  "nbformat_minor": 0,
  "metadata": {
    "colab": {
      "provenance": []
    },
    "kernelspec": {
      "name": "python3",
      "display_name": "Python 3"
    },
    "language_info": {
      "name": "python"
    }
  },
  "cells": [
    {
      "cell_type": "markdown",
      "source": [
        "# LeetCode Problem: Matrix Cells in Distance Order"
      ],
      "metadata": {
        "id": "yWrl_-FC9N2g"
      }
    },
    {
      "cell_type": "code",
      "execution_count": 1,
      "metadata": {
        "colab": {
          "base_uri": "https://localhost:8080/"
        },
        "id": "dFqDbxHU7KYQ",
        "outputId": "7fb6b831-7d04-4e0f-ea8c-1fa053a5d5e5"
      },
      "outputs": [
        {
          "output_type": "stream",
          "name": "stdout",
          "text": [
            "[[0, 0], [0, 1]]\n"
          ]
        }
      ],
      "source": [
        "def allCellsDistOrder(rows, cols, rCenter, cCenter):\n",
        "        all_cells = [[r, c] for r in range(rows) for c in range(cols)]\n",
        "        all_cells.sort(key=lambda x: abs(x[0] - rCenter) + abs(x[1] - cCenter))\n",
        "        return all_cells\n",
        "\n",
        "rows = 1\n",
        "cols = 2\n",
        "rCenter = 0\n",
        "cCenter = 0\n",
        "\n",
        "print(allCellsDistOrder(rows, cols, rCenter, cCenter))"
      ]
    },
    {
      "cell_type": "code",
      "source": [],
      "metadata": {
        "id": "knrk4vkA_TK6"
      },
      "execution_count": null,
      "outputs": []
    }
  ]
}