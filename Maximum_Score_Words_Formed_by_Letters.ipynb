{
  "nbformat": 4,
  "nbformat_minor": 0,
  "metadata": {
    "colab": {
      "provenance": []
    },
    "kernelspec": {
      "name": "python3",
      "display_name": "Python 3"
    },
    "language_info": {
      "name": "python"
    }
  },
  "cells": [
    {
      "cell_type": "markdown",
      "source": [
        "# LeetCode Problem: Maximum Score Words Formed by Letters"
      ],
      "metadata": {
        "id": "uFKYAXQwVYjz"
      }
    },
    {
      "cell_type": "code",
      "execution_count": 2,
      "metadata": {
        "colab": {
          "base_uri": "https://localhost:8080/"
        },
        "id": "-S1QfUwIVTv_",
        "outputId": "a92044d4-6440-4a8a-b560-59d6d061142a"
      },
      "outputs": [
        {
          "output_type": "stream",
          "name": "stdout",
          "text": [
            "23\n"
          ]
        }
      ],
      "source": [
        "from collections import Counter\n",
        "import copy\n",
        "def maxScoreWords(words, letters, score):\n",
        "        lettersCounter = Counter(letters)\n",
        "        totalScore = 0\n",
        "\n",
        "        def explore(index, letterCounter, currScore):\n",
        "            nonlocal totalScore\n",
        "\n",
        "            totalScore = max(totalScore, currScore)\n",
        "            if index == len(words):\n",
        "                return\n",
        "\n",
        "            for i in range(index, len(words)):\n",
        "                tmpCounter = copy.deepcopy(letterCounter)\n",
        "                word = words[i]\n",
        "                wordScore = 0\n",
        "                isValid = True\n",
        "\n",
        "                for ch in word:\n",
        "                    if ch in tmpCounter and tmpCounter[ch] > 0:\n",
        "                        tmpCounter[ch] -= 1\n",
        "                        wordScore += score[ord(ch) - ord(\"a\")]\n",
        "                    else:\n",
        "                        isValid = False\n",
        "                        break\n",
        "                if isValid:\n",
        "                    explore(i + 1, tmpCounter, currScore + wordScore)\n",
        "\n",
        "        explore(0, lettersCounter, 0)\n",
        "        return totalScore\n",
        "\n",
        "words = [\"dog\",\"cat\",\"dad\",\"good\"]\n",
        "letters = [\"a\",\"a\",\"c\",\"d\",\"d\",\"d\",\"g\",\"o\",\"o\"]\n",
        "score = [1,0,9,5,0,0,3,0,0,0,0,0,0,0,2,0,0,0,0,0,0,0,0,0,0,0]\n",
        "\n",
        "print(maxScoreWords(words, letters, score))"
      ]
    },
    {
      "cell_type": "code",
      "source": [],
      "metadata": {
        "id": "s871gSuOWM7P"
      },
      "execution_count": null,
      "outputs": []
    }
  ]
}