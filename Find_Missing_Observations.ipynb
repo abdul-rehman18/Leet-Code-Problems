{
  "nbformat": 4,
  "nbformat_minor": 0,
  "metadata": {
    "colab": {
      "provenance": []
    },
    "kernelspec": {
      "name": "python3",
      "display_name": "Python 3"
    },
    "language_info": {
      "name": "python"
    }
  },
  "cells": [
    {
      "cell_type": "markdown",
      "source": [
        "# LeetCode Problem: Find Missing Observations"
      ],
      "metadata": {
        "id": "vAR9gb35l_zc"
      }
    },
    {
      "cell_type": "code",
      "execution_count": 1,
      "metadata": {
        "colab": {
          "base_uri": "https://localhost:8080/"
        },
        "id": "jOh2jz6Pk8HO",
        "outputId": "24a13b84-56e2-430a-91f3-a29fa3724c33"
      },
      "outputs": [
        {
          "output_type": "stream",
          "name": "stdout",
          "text": [
            "[6, 6]\n"
          ]
        }
      ],
      "source": [
        "def missingRolls(rolls , mean, n):\n",
        "        total_sum = (len(rolls) + n) * mean\n",
        "        obs_sum = sum(rolls)\n",
        "        miss_sum = total_sum - obs_sum\n",
        "        if miss_sum < n or miss_sum > n * 6:\n",
        "            return []\n",
        "        base, rem = divmod(miss_sum, n)\n",
        "        res = [base] * n\n",
        "        for i in range(rem):\n",
        "            res[i] += 1\n",
        "        return res\n",
        "\n",
        "rolls = [3,2,4,3]\n",
        "mean = 4\n",
        "n = 2\n",
        "print(missingRolls(rolls , mean, n))"
      ]
    },
    {
      "cell_type": "code",
      "source": [],
      "metadata": {
        "id": "ZUdxkVlOmHyE"
      },
      "execution_count": null,
      "outputs": []
    }
  ]
}