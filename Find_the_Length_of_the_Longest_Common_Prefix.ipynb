{
  "nbformat": 4,
  "nbformat_minor": 0,
  "metadata": {
    "colab": {
      "provenance": []
    },
    "kernelspec": {
      "name": "python3",
      "display_name": "Python 3"
    },
    "language_info": {
      "name": "python"
    }
  },
  "cells": [
    {
      "cell_type": "markdown",
      "source": [
        "# LeetCode Problem: Find the Length of the Longest Common Prefix"
      ],
      "metadata": {
        "id": "HH-69NSST4qJ"
      }
    },
    {
      "cell_type": "code",
      "execution_count": 1,
      "metadata": {
        "colab": {
          "base_uri": "https://localhost:8080/"
        },
        "id": "4ExmGTfZTxgw",
        "outputId": "d6be10f4-11a9-4b43-eb60-2cfd4eebe175"
      },
      "outputs": [
        {
          "output_type": "stream",
          "name": "stdout",
          "text": [
            "3\n"
          ]
        }
      ],
      "source": [
        "def longestCommonPrefix(arr1, arr2):\n",
        "        prefix_map = {}\n",
        "        # Step 1: Build the prefix map for arr1\n",
        "        for num in arr1:\n",
        "            str_num = str(num)\n",
        "            prefix = \"\"\n",
        "            for ch in str_num:\n",
        "                prefix += ch\n",
        "                prefix_map[prefix] = prefix_map.get(prefix, 0) + 1\n",
        "\n",
        "        max_length = 0\n",
        "        # Step 2: Check for common prefixes in arr2\n",
        "        for num in arr2:\n",
        "            str_num = str(num)\n",
        "            prefix = \"\"\n",
        "            for ch in str_num:\n",
        "                prefix += ch\n",
        "                if prefix in prefix_map:\n",
        "                    max_length = max(max_length, len(prefix))\n",
        "\n",
        "        return max_length\n",
        "\n",
        "arr1 = [1,10,100]\n",
        "arr2 = [1000]\n",
        "\n",
        "print(longestCommonPrefix(arr1, arr2))\n",
        "\n"
      ]
    },
    {
      "cell_type": "code",
      "source": [],
      "metadata": {
        "id": "4V8qaWWxUL8p"
      },
      "execution_count": null,
      "outputs": []
    }
  ]
}