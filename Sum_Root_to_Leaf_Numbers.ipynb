{
  "nbformat": 4,
  "nbformat_minor": 0,
  "metadata": {
    "colab": {
      "provenance": []
    },
    "kernelspec": {
      "name": "python3",
      "display_name": "Python 3"
    },
    "language_info": {
      "name": "python"
    }
  },
  "cells": [
    {
      "cell_type": "markdown",
      "source": [
        "# LeetCode Problem: Sum Root to Leaf Numbers"
      ],
      "metadata": {
        "id": "c5-ePLwZTCD6"
      }
    },
    {
      "cell_type": "code",
      "execution_count": 1,
      "metadata": {
        "colab": {
          "base_uri": "https://localhost:8080/"
        },
        "id": "kfvYkkeBR5BI",
        "outputId": "5c66c27e-ccde-4669-934a-facafe2fcebc"
      },
      "outputs": [
        {
          "output_type": "stream",
          "name": "stdout",
          "text": [
            "25\n"
          ]
        }
      ],
      "source": [
        "class TreeNode:\n",
        "    def __init__(self, val=0, left=None, right=None):\n",
        "        self.val = val\n",
        "        self.left = left\n",
        "        self.right = right\n",
        "\n",
        "class Solution:\n",
        "    def sumNumbers(self, root: TreeNode) -> int:\n",
        "        def dfs(node, current_number):\n",
        "            if not node:\n",
        "                return 0\n",
        "            current_number = current_number * 10 + node.val\n",
        "            # If it's a leaf node, return the current number\n",
        "            if not node.left and not node.right:\n",
        "                return current_number\n",
        "            # Recurse on left and right children\n",
        "            left_sum = dfs(node.left, current_number)\n",
        "            right_sum = dfs(node.right, current_number)\n",
        "            return left_sum + right_sum\n",
        "\n",
        "        return dfs(root, 0)\n",
        "\n",
        "# Example usage (commented out for now)\n",
        "root = TreeNode(1, TreeNode(2), TreeNode(3))\n",
        "solution = Solution()\n",
        "print(solution.sumNumbers(root))  # Output should be 25\n"
      ]
    },
    {
      "cell_type": "code",
      "source": [],
      "metadata": {
        "id": "98LckTKRS7gZ"
      },
      "execution_count": null,
      "outputs": []
    }
  ]
}