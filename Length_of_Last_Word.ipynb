{
 "cells": [
  {
   "cell_type": "markdown",
   "id": "3d7fac94",
   "metadata": {},
   "source": [
    "# LeetCode Problem: Length of Last Word"
   ]
  },
  {
   "cell_type": "code",
   "execution_count": 1,
   "id": "125e4886",
   "metadata": {},
   "outputs": [
    {
     "data": {
      "text/plain": [
       "4"
      ]
     },
     "execution_count": 1,
     "metadata": {},
     "output_type": "execute_result"
    }
   ],
   "source": [
    "def lengthOfLastWord(s):\n",
    "    m_l = s.strip()\n",
    "    return len(m_l.split(\" \")[-1])\n",
    "    \n",
    "s = \"   fly me   to   the moon  \"\n",
    "lengthOfLastWord(s)"
   ]
  }
 ],
 "metadata": {
  "kernelspec": {
   "display_name": "Python 3 (ipykernel)",
   "language": "python",
   "name": "python3"
  },
  "language_info": {
   "codemirror_mode": {
    "name": "ipython",
    "version": 3
   },
   "file_extension": ".py",
   "mimetype": "text/x-python",
   "name": "python",
   "nbconvert_exporter": "python",
   "pygments_lexer": "ipython3",
   "version": "3.10.9"
  }
 },
 "nbformat": 4,
 "nbformat_minor": 5
}
