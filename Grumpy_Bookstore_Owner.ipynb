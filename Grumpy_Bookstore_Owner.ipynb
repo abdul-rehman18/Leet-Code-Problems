{
  "nbformat": 4,
  "nbformat_minor": 0,
  "metadata": {
    "colab": {
      "provenance": []
    },
    "kernelspec": {
      "name": "python3",
      "display_name": "Python 3"
    },
    "language_info": {
      "name": "python"
    }
  },
  "cells": [
    {
      "cell_type": "markdown",
      "source": [
        "# LeetCode Problem: Grumpy Bookstore Owner"
      ],
      "metadata": {
        "id": "atXO513iM2Ti"
      }
    },
    {
      "cell_type": "code",
      "execution_count": 1,
      "metadata": {
        "colab": {
          "base_uri": "https://localhost:8080/"
        },
        "id": "EeG-5jnsMX72",
        "outputId": "91811335-7f55-499d-eca8-42cb65f40ee8"
      },
      "outputs": [
        {
          "output_type": "stream",
          "name": "stdout",
          "text": [
            "16\n"
          ]
        }
      ],
      "source": [
        "def maxSatisfied(customers, grumpy, minutes):\n",
        "        ans = 0\n",
        "        total = sum((1 - grumpy[i]) * customers[i] for i in range(len(customers)))\n",
        "\n",
        "        window_all = 0\n",
        "        window_partial = 0\n",
        "        for i in range(len(customers)):\n",
        "            window_all += customers[i]\n",
        "            window_partial += (1 - grumpy[i]) * customers[i]\n",
        "            if i + 1 >= minutes:\n",
        "                ans = max(ans, total - window_partial + window_all)\n",
        "                left = i - minutes + 1\n",
        "                window_all -= customers[left]\n",
        "                window_partial -= (1 - grumpy[left]) * customers[left]\n",
        "\n",
        "        return ans\n",
        "\n",
        "customers = [1,0,1,2,1,1,7,5]\n",
        "grumpy = [0,1,0,1,0,1,0,1]\n",
        "minutes = 3\n",
        "print(maxSatisfied(customers, grumpy, minutes))"
      ]
    },
    {
      "cell_type": "code",
      "source": [],
      "metadata": {
        "id": "_VWhpwVwNgg_"
      },
      "execution_count": null,
      "outputs": []
    }
  ]
}