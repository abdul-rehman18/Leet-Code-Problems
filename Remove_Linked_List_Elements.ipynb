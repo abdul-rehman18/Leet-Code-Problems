{
  "nbformat": 4,
  "nbformat_minor": 0,
  "metadata": {
    "colab": {
      "provenance": []
    },
    "kernelspec": {
      "name": "python3",
      "display_name": "Python 3"
    },
    "language_info": {
      "name": "python"
    }
  },
  "cells": [
    {
      "cell_type": "markdown",
      "source": [
        "# LeetCode Problem:Remove Linked List Elements"
      ],
      "metadata": {
        "id": "9XR9M_oHyDEj"
      }
    },
    {
      "cell_type": "code",
      "execution_count": 1,
      "metadata": {
        "colab": {
          "base_uri": "https://localhost:8080/"
        },
        "id": "868--02fxz2q",
        "outputId": "98905fb1-da5f-4599-8edd-20ccca998c6c"
      },
      "outputs": [
        {
          "output_type": "stream",
          "name": "stdout",
          "text": [
            "Original Linked List:\n",
            "1 -> 2 -> 6 -> 3 -> 4 -> 5 -> 6 -> None\n",
            "\n",
            "Linked List after removing elements with value 6:\n",
            "1 -> 2 -> 3 -> 4 -> 5 -> None\n"
          ]
        }
      ],
      "source": [
        "class ListNode:\n",
        "    def __init__(self, val=0, next=None):\n",
        "        self.val = val\n",
        "        self.next = next\n",
        "class Solution:\n",
        "    def removeElements(self, head, val):\n",
        "      prev, curr = None, head\n",
        "      while curr:\n",
        "          if curr.val == val:\n",
        "              if prev:\n",
        "                  prev.next = curr.next\n",
        "              else:\n",
        "                  head = curr.next\n",
        "              curr = curr.next\n",
        "          else:\n",
        "              prev, curr = curr, curr.next\n",
        "      return head\n",
        "\n",
        "def print_linked_list(head):\n",
        "    while head:\n",
        "        print(head.val, end=\" -> \")\n",
        "        head = head.next\n",
        "    print(\"None\")\n",
        "\n",
        "\n",
        "if __name__ == \"__main__\":\n",
        "    head = ListNode(1, ListNode(2, ListNode(6, ListNode(3, ListNode(4, ListNode(5, ListNode(6)))))))\n",
        "\n",
        "    print(\"Original Linked List:\")\n",
        "    print_linked_list(head)\n",
        "\n",
        "    solution = Solution()\n",
        "\n",
        "    head = solution.removeElements(head, 6)\n",
        "\n",
        "    print(\"\\nLinked List after removing elements with value 6:\")\n",
        "    print_linked_list(head)"
      ]
    },
    {
      "cell_type": "code",
      "source": [],
      "metadata": {
        "id": "X2khE6L90Atg"
      },
      "execution_count": null,
      "outputs": []
    }
  ]
}