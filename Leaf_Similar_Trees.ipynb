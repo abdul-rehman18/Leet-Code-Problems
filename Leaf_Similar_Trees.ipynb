{
  "nbformat": 4,
  "nbformat_minor": 0,
  "metadata": {
    "colab": {
      "provenance": []
    },
    "kernelspec": {
      "name": "python3",
      "display_name": "Python 3"
    },
    "language_info": {
      "name": "python"
    }
  },
  "cells": [
    {
      "cell_type": "markdown",
      "source": [
        "# LeetCode Problem: Leaf-Similar Trees"
      ],
      "metadata": {
        "id": "g8hPDE7eJIw9"
      }
    },
    {
      "cell_type": "code",
      "execution_count": 2,
      "metadata": {
        "colab": {
          "base_uri": "https://localhost:8080/"
        },
        "id": "OBmv2hUjIxi8",
        "outputId": "800a9eae-9aa1-47ff-9dc1-c5ff31b13566"
      },
      "outputs": [
        {
          "output_type": "stream",
          "name": "stdout",
          "text": [
            "Are the leaf values of the two trees similar? True\n"
          ]
        }
      ],
      "source": [
        "class TreeNode:\n",
        "    def __init__(self, val=0, left=None, right=None):\n",
        "        self.val = val\n",
        "        self.left = left\n",
        "        self.right = right\n",
        "\n",
        "class Solution:\n",
        "    def leafSimilar(self, root1, root2):\n",
        "        def collect_leaf_values(root, leaf_values):\n",
        "            if not root:\n",
        "                return\n",
        "            if not root.left and not root.right:\n",
        "                leaf_values.append(root.val)\n",
        "            collect_leaf_values(root.left, leaf_values)\n",
        "            collect_leaf_values(root.right, leaf_values)\n",
        "\n",
        "        leaf_values1 = []\n",
        "        leaf_values2 = []\n",
        "\n",
        "        collect_leaf_values(root1, leaf_values1)\n",
        "        collect_leaf_values(root2, leaf_values2)\n",
        "\n",
        "        return leaf_values1 == leaf_values2\n",
        "\n",
        "def main():\n",
        "    root1 = TreeNode(3)\n",
        "    root1.left = TreeNode(5)\n",
        "    root1.right = TreeNode(1)\n",
        "    root1.left.left = TreeNode(6)\n",
        "    root1.left.right = TreeNode(2)\n",
        "    root1.left.right.left = TreeNode(7)\n",
        "    root1.left.right.right = TreeNode(4)\n",
        "    root1.right.left = TreeNode(9)\n",
        "    root1.right.right = TreeNode(8)\n",
        "\n",
        "    root2 = TreeNode(3)\n",
        "    root2.left = TreeNode(5)\n",
        "    root2.right = TreeNode(1)\n",
        "    root2.left.left = TreeNode(6)\n",
        "    root2.left.right = TreeNode(7)\n",
        "    root2.right.left = TreeNode(4)\n",
        "    root2.right.right = TreeNode(2)\n",
        "    root2.right.right.left = TreeNode(9)\n",
        "    root2.right.right.right = TreeNode(8)\n",
        "\n",
        "    solution = Solution()\n",
        "    result = solution.leafSimilar(root1, root2)\n",
        "    print(\"Are the leaf values of the two trees similar?\", result)\n",
        "\n",
        "if __name__ == \"__main__\":\n",
        "    main()\n"
      ]
    },
    {
      "cell_type": "code",
      "source": [],
      "metadata": {
        "id": "d0E-hU4uJx28"
      },
      "execution_count": null,
      "outputs": []
    }
  ]
}