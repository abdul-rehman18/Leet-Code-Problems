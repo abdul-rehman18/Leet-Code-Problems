{
  "nbformat": 4,
  "nbformat_minor": 0,
  "metadata": {
    "colab": {
      "provenance": []
    },
    "kernelspec": {
      "name": "python3",
      "display_name": "Python 3"
    },
    "language_info": {
      "name": "python"
    }
  },
  "cells": [
    {
      "cell_type": "markdown",
      "source": [
        "# LeetCode Problem: Combination Sum II"
      ],
      "metadata": {
        "id": "Bq8fWIhEKTMS"
      }
    },
    {
      "cell_type": "code",
      "execution_count": 1,
      "metadata": {
        "colab": {
          "base_uri": "https://localhost:8080/"
        },
        "id": "577s7XnTKKJ9",
        "outputId": "7af32278-7053-429c-97b8-a6eb8968d53b"
      },
      "outputs": [
        {
          "output_type": "stream",
          "name": "stdout",
          "text": [
            "Unique combinations that sum up to 8 are:\n",
            "[1, 1, 6]\n",
            "[1, 2, 5]\n",
            "[1, 7]\n",
            "[2, 6]\n"
          ]
        }
      ],
      "source": [
        "class Solution:\n",
        "    def combinationSum2(self, cand, target):\n",
        "        cand.sort()\n",
        "        res = []\n",
        "        path = []\n",
        "        self.dfs(cand, 0, target, path, res)\n",
        "        return res\n",
        "\n",
        "    def dfs(self, cand, cur, target, path, res):\n",
        "        if target == 0:\n",
        "            res.append(path.copy())\n",
        "            return\n",
        "        if target < 0:\n",
        "            return\n",
        "\n",
        "        for i in range(cur, len(cand)):\n",
        "            if i > cur and cand[i] == cand[i - 1]:  # Skip duplicates\n",
        "                continue\n",
        "            path.append(cand[i])\n",
        "            self.dfs(cand, i + 1, target - cand[i], path, res)\n",
        "            path.pop()  # Backtrack\n",
        "\n",
        "def main():\n",
        "    cand = [10, 1, 2, 7, 6, 1, 5]\n",
        "    target = 8\n",
        "    solution = Solution()\n",
        "    result = solution.combinationSum2(cand, target)\n",
        "    print(\"Unique combinations that sum up to\", target, \"are:\")\n",
        "    for combination in result:\n",
        "        print(combination)\n",
        "\n",
        "if __name__ == \"__main__\":\n",
        "    main()\n"
      ]
    },
    {
      "cell_type": "code",
      "source": [],
      "metadata": {
        "id": "_i1mQHQLKwvS"
      },
      "execution_count": null,
      "outputs": []
    }
  ]
}