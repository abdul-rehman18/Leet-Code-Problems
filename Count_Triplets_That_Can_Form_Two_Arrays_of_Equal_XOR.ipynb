{
  "nbformat": 4,
  "nbformat_minor": 0,
  "metadata": {
    "colab": {
      "provenance": []
    },
    "kernelspec": {
      "name": "python3",
      "display_name": "Python 3"
    },
    "language_info": {
      "name": "python"
    }
  },
  "cells": [
    {
      "cell_type": "markdown",
      "source": [
        "# LeetCode Problem: Count Triplets That Can Form Two Arrays of Equal XOR"
      ],
      "metadata": {
        "id": "qQ0ZCFvo2IAK"
      }
    },
    {
      "cell_type": "code",
      "execution_count": 1,
      "metadata": {
        "colab": {
          "base_uri": "https://localhost:8080/"
        },
        "id": "t3jRQ_ze16pX",
        "outputId": "829c0f46-28fa-422e-8b02-89bae7bebacd"
      },
      "outputs": [
        {
          "output_type": "stream",
          "name": "stdout",
          "text": [
            "4\n"
          ]
        }
      ],
      "source": [
        "def countTriplets(arr):\n",
        "        n = len(arr)\n",
        "        prefix = [0] * (n + 1)\n",
        "\n",
        "        for i in range(n):\n",
        "            prefix[i + 1] = prefix[i] ^ arr[i]\n",
        "\n",
        "        count = 0\n",
        "        for i in range(n):\n",
        "            for k in range(i + 1, n):\n",
        "                if prefix[i] == prefix[k + 1]:\n",
        "                    count += (k - i)\n",
        "\n",
        "        return count\n",
        "\n",
        "\n",
        "arr = [2,3,1,6,7]\n",
        "print(countTriplets(arr))"
      ]
    },
    {
      "cell_type": "code",
      "source": [],
      "metadata": {
        "id": "Xp7JCGsm2j4m"
      },
      "execution_count": null,
      "outputs": []
    }
  ]
}