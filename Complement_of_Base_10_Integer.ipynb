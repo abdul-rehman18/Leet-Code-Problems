{
  "nbformat": 4,
  "nbformat_minor": 0,
  "metadata": {
    "colab": {
      "provenance": []
    },
    "kernelspec": {
      "name": "python3",
      "display_name": "Python 3"
    },
    "language_info": {
      "name": "python"
    }
  },
  "cells": [
    {
      "cell_type": "markdown",
      "source": [
        "# LeetCode Problem: Complement of Base 10 Integer"
      ],
      "metadata": {
        "id": "b7PLSs39Job6"
      }
    },
    {
      "cell_type": "code",
      "execution_count": 1,
      "metadata": {
        "colab": {
          "base_uri": "https://localhost:8080/"
        },
        "id": "xDboOcQXGD8C",
        "outputId": "3919bfa6-e457-4bb6-c4ae-3c44a0b2449c"
      },
      "outputs": [
        {
          "output_type": "stream",
          "name": "stdout",
          "text": [
            "2\n"
          ]
        }
      ],
      "source": [
        "def bitwiseComplement(n):\n",
        "        if n == 0:\n",
        "            return 1\n",
        "        bits = n.bit_length()\n",
        "        mask = (1 << bits) - 1\n",
        "        return n ^ mask\n",
        "\n",
        "\n",
        "n = 5\n",
        "print(bitwiseComplement(n))"
      ]
    },
    {
      "cell_type": "code",
      "source": [],
      "metadata": {
        "id": "0aJOd25GJffF"
      },
      "execution_count": null,
      "outputs": []
    }
  ]
}