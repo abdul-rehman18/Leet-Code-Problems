{
  "nbformat": 4,
  "nbformat_minor": 0,
  "metadata": {
    "colab": {
      "provenance": []
    },
    "kernelspec": {
      "name": "python3",
      "display_name": "Python 3"
    },
    "language_info": {
      "name": "python"
    }
  },
  "cells": [
    {
      "cell_type": "markdown",
      "source": [
        "# LeetCode Problem: Flipping an Image"
      ],
      "metadata": {
        "id": "OGxUORsvu6a4"
      }
    },
    {
      "cell_type": "code",
      "execution_count": 1,
      "metadata": {
        "colab": {
          "base_uri": "https://localhost:8080/"
        },
        "id": "sPXSOvU5owhj",
        "outputId": "4cd66f40-81bf-4519-960e-2bcf6733913f"
      },
      "outputs": [
        {
          "output_type": "stream",
          "name": "stdout",
          "text": [
            "[[1, 0, 0], [0, 1, 0], [1, 1, 1]]\n"
          ]
        }
      ],
      "source": [
        "def flipAndInvertImage(image):\n",
        "        return [[int(not x) for x in x][::-1] for x in image]\n",
        "\n",
        "\n",
        "image = [[1,1,0],[1,0,1],[0,0,0]]\n",
        "print(flipAndInvertImage(image))"
      ]
    },
    {
      "cell_type": "code",
      "source": [],
      "metadata": {
        "id": "s7Er2EQzp1CB"
      },
      "execution_count": null,
      "outputs": []
    }
  ]
}