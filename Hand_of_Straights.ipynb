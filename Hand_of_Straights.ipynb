{
  "nbformat": 4,
  "nbformat_minor": 0,
  "metadata": {
    "colab": {
      "provenance": []
    },
    "kernelspec": {
      "name": "python3",
      "display_name": "Python 3"
    },
    "language_info": {
      "name": "python"
    }
  },
  "cells": [
    {
      "cell_type": "markdown",
      "source": [
        "# LeetCode Problem: Hand of Straights"
      ],
      "metadata": {
        "id": "MMROzcxXIPH4"
      }
    },
    {
      "cell_type": "code",
      "execution_count": 2,
      "metadata": {
        "colab": {
          "base_uri": "https://localhost:8080/"
        },
        "id": "5H3CFwxlIGgC",
        "outputId": "cee5938a-d76c-4df3-eb59-4702e706edd9"
      },
      "outputs": [
        {
          "output_type": "stream",
          "name": "stdout",
          "text": [
            "True\n"
          ]
        }
      ],
      "source": [
        "from collections import Counter\n",
        "def isNStraightHand(hand, groupSize):\n",
        "        if len(hand) % groupSize != 0:\n",
        "            return False\n",
        "        count = Counter(hand)\n",
        "        sorted_keys = sorted(count.keys())\n",
        "        for key in sorted_keys:\n",
        "            if count[key] > 0:\n",
        "                for i in range(1, groupSize):\n",
        "                    if count[key + i] < count[key]:\n",
        "                        return False\n",
        "                    count[key + i] -= count[key]\n",
        "        return True\n",
        "\n",
        "hand = [1,2,3,6,2,3,4,7,8]\n",
        "groupSize = 3\n",
        "print(isNStraightHand(hand, groupSize))"
      ]
    },
    {
      "cell_type": "code",
      "source": [],
      "metadata": {
        "id": "XlZja18jIw2p"
      },
      "execution_count": null,
      "outputs": []
    }
  ]
}