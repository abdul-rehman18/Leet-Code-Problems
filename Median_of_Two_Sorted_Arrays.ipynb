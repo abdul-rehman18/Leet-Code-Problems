{
  "nbformat": 4,
  "nbformat_minor": 0,
  "metadata": {
    "colab": {
      "provenance": []
    },
    "kernelspec": {
      "name": "python3",
      "display_name": "Python 3"
    },
    "language_info": {
      "name": "python"
    }
  },
  "cells": [
    {
      "cell_type": "markdown",
      "source": [
        "# LeetCode Problem: Median of Two Sorted Arrays"
      ],
      "metadata": {
        "id": "OKU40-UfPY4S"
      }
    },
    {
      "cell_type": "code",
      "execution_count": 13,
      "metadata": {
        "colab": {
          "base_uri": "https://localhost:8080/"
        },
        "id": "WGCUlmLjLD2q",
        "outputId": "b4e200f5-fd3b-4738-d98f-555002c866c2"
      },
      "outputs": [
        {
          "output_type": "stream",
          "name": "stdout",
          "text": [
            "2.5\n"
          ]
        }
      ],
      "source": [
        "def findMedianSortedArrays(nums1, nums2):\n",
        "        m = nums1 + nums2\n",
        "        m.sort()\n",
        "        if len(m) % 2 == 0:\n",
        "            mid1 = len(m) // 2\n",
        "            mid2 = mid1 - 1\n",
        "            median = (m[mid1] + m[mid2]) / 2\n",
        "        else:\n",
        "            mid = len(m) // 2\n",
        "            median = m[mid]\n",
        "\n",
        "        return median\n",
        "\n",
        "nums1=[1,2]\n",
        "nums2=[3,4]\n",
        "print(findMedianSortedArrays(nums1, nums2))"
      ]
    },
    {
      "cell_type": "code",
      "source": [],
      "metadata": {
        "id": "eu_UBP8fLidH"
      },
      "execution_count": null,
      "outputs": []
    }
  ]
}