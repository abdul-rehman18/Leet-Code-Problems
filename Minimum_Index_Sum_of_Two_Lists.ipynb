{
  "nbformat": 4,
  "nbformat_minor": 0,
  "metadata": {
    "colab": {
      "provenance": []
    },
    "kernelspec": {
      "name": "python3",
      "display_name": "Python 3"
    },
    "language_info": {
      "name": "python"
    }
  },
  "cells": [
    {
      "cell_type": "markdown",
      "source": [
        "# LeetCode Problem: Minimum Index Sum of Two Lists"
      ],
      "metadata": {
        "id": "kwd_YZEKoxbo"
      }
    },
    {
      "cell_type": "code",
      "execution_count": 1,
      "metadata": {
        "id": "NEXf-hmvZnW1",
        "colab": {
          "base_uri": "https://localhost:8080/"
        },
        "outputId": "9a76c56a-aaa3-4f63-a88e-749ed2c6826f"
      },
      "outputs": [
        {
          "output_type": "stream",
          "name": "stdout",
          "text": [
            "['Shogun']\n"
          ]
        }
      ],
      "source": [
        "def findRestaurant(list1, list2):\n",
        "    # Find common elements between both lists\n",
        "    common = set(list1) & set(list2)\n",
        "\n",
        "    # Initialize a dictionary to store the index sum of common elements in list1\n",
        "    index_sum = {}\n",
        "\n",
        "    # Iterate over list1 to calculate and store index sum for common elements\n",
        "    for i, r in enumerate(list1):\n",
        "        if r in common:\n",
        "            index_sum[r] = i\n",
        "\n",
        "    # Iterate over list2 to add index sum of common elements\n",
        "    for i, r in enumerate(list2):\n",
        "        if r in common:\n",
        "            index_sum[r] += i\n",
        "\n",
        "    # Find the minimum index sum\n",
        "    min_sum = min(index_sum.values())\n",
        "\n",
        "    # Return elements with the minimum index sum\n",
        "    return [r for r, s in index_sum.items() if s == min_sum]\n",
        "\n",
        "\n",
        "\n",
        "list1 = [\"Shogun\",\"Tapioca Express\",\"Burger King\",\"KFC\"]\n",
        "list2 = [\"Piatti\",\"The Grill at Torrey Pines\",\"Hungry Hunter Steakhouse\",\"Shogun\"]\n",
        "print(findRestaurant(list1, list2))"
      ]
    },
    {
      "cell_type": "code",
      "source": [],
      "metadata": {
        "id": "_LZAFc8zpX1P"
      },
      "execution_count": null,
      "outputs": []
    }
  ]
}