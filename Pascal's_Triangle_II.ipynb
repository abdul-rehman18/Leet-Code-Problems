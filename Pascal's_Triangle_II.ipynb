{
 "cells": [
  {
   "cell_type": "markdown",
   "id": "c459f150",
   "metadata": {},
   "source": [
    "# LeetCode Problem: Pascal's Triangle"
   ]
  },
  {
   "cell_type": "code",
   "execution_count": 15,
   "id": "8a798aad",
   "metadata": {},
   "outputs": [
    {
     "ename": "NameError",
     "evalue": "name 'generate' is not defined",
     "output_type": "error",
     "traceback": [
      "\u001b[1;31m---------------------------------------------------------------------------\u001b[0m",
      "\u001b[1;31mNameError\u001b[0m                                 Traceback (most recent call last)",
      "Cell \u001b[1;32mIn[15], line 18\u001b[0m\n\u001b[0;32m     14\u001b[0m     prevRows\u001b[38;5;241m.\u001b[39mappend(newRow)\n\u001b[0;32m     15\u001b[0m     \u001b[38;5;28;01mreturn\u001b[39;00m prevRows\n\u001b[1;32m---> 18\u001b[0m \u001b[43mgenerate\u001b[49m(\u001b[38;5;241m3\u001b[39m)\n",
      "\u001b[1;31mNameError\u001b[0m: name 'generate' is not defined"
     ]
    }
   ],
   "source": [
    "#Runtime: \n",
    "def getRow(rowIndex):\n",
    "    if rowIndex == 0:\n",
    "        return [1]\n",
    "    if rowIndex == 1:\n",
    "        return [1,1]\n",
    "        \n",
    "    prevRows = generate(rowIndex - 1)\n",
    "    newRow = [1] * rowIndex\n",
    "        \n",
    "    for i in range(1, rowIndex - 1):\n",
    "        newRow[i] = prevRows[-1][i - 1] + prevRows[-1][i]\n",
    "        \n",
    "    prevRows.append(newRow)\n",
    "    return prevRows\n",
    "\n",
    "\n",
    "generate(3)"
   ]
  },
  {
   "cell_type": "code",
   "execution_count": 14,
   "id": "18943040",
   "metadata": {},
   "outputs": [
    {
     "data": {
      "text/plain": [
       "[1, 5, 10, 10, 5, 1]"
      ]
     },
     "execution_count": 14,
     "metadata": {},
     "output_type": "execute_result"
    }
   ],
   "source": [
    "#2nd approach\n",
    "\n",
    "def getRow(rowIndex):\n",
    "#     new_row=[]\n",
    "    if rowIndex == 0:\n",
    "        return [1]\n",
    "    if rowIndex == 1:\n",
    "        return [1,1]\n",
    "        \n",
    "    triangle = [[1],[1,1]]\n",
    "    \n",
    "    for i in range(2,rowIndex+1):\n",
    "        new_row = [1]+[triangle[-1][j-1]+triangle[-1][j] for j in range(1,i)]+[1]\n",
    "        triangle.append(new_row)\n",
    "    return new_row\n",
    "\n",
    "\n",
    "getRow(5)"
   ]
  },
  {
   "cell_type": "code",
   "execution_count": null,
   "id": "17295f5a",
   "metadata": {},
   "outputs": [],
   "source": []
  }
 ],
 "metadata": {
  "kernelspec": {
   "display_name": "Python 3 (ipykernel)",
   "language": "python",
   "name": "python3"
  },
  "language_info": {
   "codemirror_mode": {
    "name": "ipython",
    "version": 3
   },
   "file_extension": ".py",
   "mimetype": "text/x-python",
   "name": "python",
   "nbconvert_exporter": "python",
   "pygments_lexer": "ipython3",
   "version": "3.10.9"
  }
 },
 "nbformat": 4,
 "nbformat_minor": 5
}
