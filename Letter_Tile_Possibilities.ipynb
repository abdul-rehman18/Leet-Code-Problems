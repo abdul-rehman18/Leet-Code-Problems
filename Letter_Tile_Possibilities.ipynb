{
  "nbformat": 4,
  "nbformat_minor": 0,
  "metadata": {
    "colab": {
      "provenance": []
    },
    "kernelspec": {
      "name": "python3",
      "display_name": "Python 3"
    },
    "language_info": {
      "name": "python"
    }
  },
  "cells": [
    {
      "cell_type": "markdown",
      "source": [
        "# Leetcode Problem: Letter Tile Possibilities"
      ],
      "metadata": {
        "id": "jRgo0-GcZu3K"
      }
    },
    {
      "cell_type": "code",
      "execution_count": 1,
      "metadata": {
        "colab": {
          "base_uri": "https://localhost:8080/"
        },
        "id": "cnRRKXMoZrVu",
        "outputId": "09252e68-5f8e-41bb-a7a5-52434c1f6083"
      },
      "outputs": [
        {
          "output_type": "stream",
          "name": "stdout",
          "text": [
            "8\n"
          ]
        }
      ],
      "source": [
        " def numTilePossibilities(tiles):\n",
        "        counts = [0] * 26\n",
        "        fac = [1] * (len(tiles) + 1)\n",
        "        for i in range(1, len(tiles) + 1):\n",
        "            fac[i] = i * fac[i - 1]\n",
        "        for c in tiles:\n",
        "            counts[ord(c) - ord('A')] += 1\n",
        "        lengthcounts = [0] * (len(tiles) + 1)\n",
        "        lengthcounts[0] = 1\n",
        "        for i in range(26):\n",
        "            if counts[i] > 0:\n",
        "                temp = [0] * (len(tiles) + 1)\n",
        "                for j in range(len(tiles) + 1):\n",
        "                    if lengthcounts[j] > 0:\n",
        "                        for k in range(1, counts[i] + 1):\n",
        "                            totallength = j + k\n",
        "                            temp[totallength] += lengthcounts[j] * fac[totallength] // (fac[k] * fac[j])\n",
        "                for j in range(len(tiles) + 1):\n",
        "                    lengthcounts[j] += temp[j]\n",
        "        return sum(lengthcounts[1:])\n",
        "\n",
        "\n",
        "tiles = \"AAB\"\n",
        "\n",
        "print(numTilePossibilities(tiles))\n"
      ]
    },
    {
      "cell_type": "code",
      "source": [],
      "metadata": {
        "id": "wK6a3Ml7aKu5"
      },
      "execution_count": null,
      "outputs": []
    }
  ]
}