{
  "nbformat": 4,
  "nbformat_minor": 0,
  "metadata": {
    "colab": {
      "provenance": []
    },
    "kernelspec": {
      "name": "python3",
      "display_name": "Python 3"
    },
    "language_info": {
      "name": "python"
    }
  },
  "cells": [
    {
      "cell_type": "markdown",
      "source": [
        "# LeetCode Problem: Available Captures for Rook"
      ],
      "metadata": {
        "id": "LZ_BdNvF_LEJ"
      }
    },
    {
      "cell_type": "code",
      "execution_count": 1,
      "metadata": {
        "colab": {
          "base_uri": "https://localhost:8080/"
        },
        "id": "wGqWYu7v_BzG",
        "outputId": "6e038779-94eb-4e73-8958-523489e9f59f"
      },
      "outputs": [
        {
          "output_type": "stream",
          "name": "stdout",
          "text": [
            "3\n"
          ]
        }
      ],
      "source": [
        "def numRookCaptures(board):\n",
        "        idx = []\n",
        "        for i in range(len(board)):\n",
        "            for j in range(len(board[0])):\n",
        "                if board[i][j] == 'R':\n",
        "                    idx = [i, j]\n",
        "                    break\n",
        "        x, y = idx[0], idx[1]\n",
        "        count = 0\n",
        "        for i in range(x-1, -1, -1):\n",
        "            if board[i][y] == 'p':\n",
        "                count+=1\n",
        "                break\n",
        "            elif board[i][y] == 'B':\n",
        "                break\n",
        "\n",
        "        for i in range(x+1, 8):\n",
        "            if board[i][y] == 'p':\n",
        "                count+=1\n",
        "                break\n",
        "            elif board[i][y] == 'B':\n",
        "                break\n",
        "\n",
        "        for i in range(y-1, -1, -1):\n",
        "            if board[x][i] == 'p':\n",
        "                count+=1\n",
        "                break\n",
        "            elif board[x][i] == 'B':\n",
        "                break\n",
        "\n",
        "        for i in range(y+1, 8):\n",
        "            if board[x][i] == 'p':\n",
        "                count+=1\n",
        "                break\n",
        "            elif board[x][i] == 'B':\n",
        "                break\n",
        "        return count\n",
        "\n",
        "\n",
        "board = [[\".\",\".\",\".\",\".\",\".\",\".\",\".\",\".\"],[\".\",\".\",\".\",\"p\",\".\",\".\",\".\",\".\"],[\".\",\".\",\".\",\"R\",\".\",\".\",\".\",\"p\"],[\".\",\".\",\".\",\".\",\".\",\".\",\".\",\".\"],[\".\",\".\",\".\",\".\",\".\",\".\",\".\",\".\"],[\".\",\".\",\".\",\"p\",\".\",\".\",\".\",\".\"],[\".\",\".\",\".\",\".\",\".\",\".\",\".\",\".\"],[\".\",\".\",\".\",\".\",\".\",\".\",\".\",\".\"]]\n",
        "\n",
        "print(numRookCaptures(board))"
      ]
    },
    {
      "cell_type": "code",
      "source": [],
      "metadata": {
        "id": "H8u0IEz6_niU"
      },
      "execution_count": null,
      "outputs": []
    }
  ]
}