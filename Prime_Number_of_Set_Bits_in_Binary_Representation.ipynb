{
  "nbformat": 4,
  "nbformat_minor": 0,
  "metadata": {
    "colab": {
      "provenance": []
    },
    "kernelspec": {
      "name": "python3",
      "display_name": "Python 3"
    },
    "language_info": {
      "name": "python"
    }
  },
  "cells": [
    {
      "cell_type": "markdown",
      "source": [
        "# LeetCode Problem: Prime Number of Set Bits in Binary Representation"
      ],
      "metadata": {
        "id": "-B4s1Y8r7kfi"
      }
    },
    {
      "cell_type": "code",
      "execution_count": 1,
      "metadata": {
        "colab": {
          "base_uri": "https://localhost:8080/"
        },
        "id": "7pZQ0NSe5bI9",
        "outputId": "2c7aa9e5-ec96-4ad1-8e3f-272d2e0e9d5a"
      },
      "outputs": [
        {
          "output_type": "stream",
          "name": "stdout",
          "text": [
            "4\n"
          ]
        }
      ],
      "source": [
        "def countPrimeSetBits(left, right):\n",
        "        count=0\n",
        "        for i in range(left,right+1):\n",
        "            c=0\n",
        "            n=bin(i).count(\"1\")\n",
        "            if n in [2, 3, 5, 7, 11, 13, 17, 19]:\n",
        "                count += 1\n",
        "        return count\n",
        "\n",
        "left = 6\n",
        "right = 10\n",
        "print(countPrimeSetBits(left, right))"
      ]
    },
    {
      "cell_type": "code",
      "source": [],
      "metadata": {
        "id": "5BT6_fWD706L"
      },
      "execution_count": null,
      "outputs": []
    }
  ]
}