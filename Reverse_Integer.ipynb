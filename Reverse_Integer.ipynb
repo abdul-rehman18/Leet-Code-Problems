{
  "nbformat": 4,
  "nbformat_minor": 0,
  "metadata": {
    "colab": {
      "provenance": []
    },
    "kernelspec": {
      "name": "python3",
      "display_name": "Python 3"
    },
    "language_info": {
      "name": "python"
    }
  },
  "cells": [
    {
      "cell_type": "markdown",
      "source": [
        "# LeetCode Problem: Reverse Integer"
      ],
      "metadata": {
        "id": "VdGflbVlxa0q"
      }
    },
    {
      "cell_type": "code",
      "execution_count": 2,
      "metadata": {
        "colab": {
          "base_uri": "https://localhost:8080/"
        },
        "id": "R6CtJ25Wu5Bz",
        "outputId": "a8760830-9526-4eaa-f487-fc3f3da03efe"
      },
      "outputs": [
        {
          "output_type": "stream",
          "name": "stdout",
          "text": [
            "321\n"
          ]
        }
      ],
      "source": [
        "import math\n",
        "def reverse(x):\n",
        "        rev = 0\n",
        "        while x != 0:\n",
        "            if rev > (2 ** 31 -1) / 10 or rev < (-2 ** 31) / 10:\n",
        "                return 0\n",
        "            d = x % 10 if x > 0 else x % -10\n",
        "            rev = rev * 10 + d\n",
        "            x = math.trunc(x / 10)\n",
        "        return rev\n",
        "\n",
        "x = 123\n",
        "print(reverse(x))"
      ]
    },
    {
      "cell_type": "code",
      "source": [],
      "metadata": {
        "id": "Fijx0H9nxWiy"
      },
      "execution_count": null,
      "outputs": []
    }
  ]
}