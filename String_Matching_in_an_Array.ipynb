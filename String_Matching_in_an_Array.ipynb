{
  "nbformat": 4,
  "nbformat_minor": 0,
  "metadata": {
    "colab": {
      "provenance": []
    },
    "kernelspec": {
      "name": "python3",
      "display_name": "Python 3"
    },
    "language_info": {
      "name": "python"
    }
  },
  "cells": [
    {
      "cell_type": "markdown",
      "source": [
        "# LeetCode Problem: String Matching in an Array"
      ],
      "metadata": {
        "id": "J2m9cFVFDFPk"
      }
    },
    {
      "cell_type": "code",
      "execution_count": 1,
      "metadata": {
        "colab": {
          "base_uri": "https://localhost:8080/"
        },
        "id": "uTIJHmvxzu-2",
        "outputId": "24dfba72-2263-4350-eb57-d89f7c08a4d3"
      },
      "outputs": [
        {
          "output_type": "stream",
          "name": "stdout",
          "text": [
            "['as', 'hero']\n"
          ]
        }
      ],
      "source": [
        "def stringMatching(words):\n",
        "        n = len(words)\n",
        "        ans = []\n",
        "\n",
        "        for i in range(n):\n",
        "            for j in range(n):\n",
        "                if i != j and words[j].find(words[i]) != -1:\n",
        "                    ans.append(words[i])\n",
        "                    break\n",
        "\n",
        "        return ans\n",
        "\n",
        "\n",
        "words = [\"mass\",\"as\",\"hero\",\"superhero\"]\n",
        "\n",
        "print(stringMatching(words))"
      ]
    },
    {
      "cell_type": "code",
      "source": [],
      "metadata": {
        "id": "H12JwtMtD1hU"
      },
      "execution_count": null,
      "outputs": []
    }
  ]
}