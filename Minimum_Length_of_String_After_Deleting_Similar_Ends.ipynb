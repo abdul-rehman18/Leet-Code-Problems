{
  "nbformat": 4,
  "nbformat_minor": 0,
  "metadata": {
    "colab": {
      "provenance": []
    },
    "kernelspec": {
      "name": "python3",
      "display_name": "Python 3"
    },
    "language_info": {
      "name": "python"
    }
  },
  "cells": [
    {
      "cell_type": "markdown",
      "source": [
        "# LeetCode Problem: Minimum Length of String After Deleting Similar Ends"
      ],
      "metadata": {
        "id": "vrl4x0GAW_Sk"
      }
    },
    {
      "cell_type": "code",
      "execution_count": 2,
      "metadata": {
        "colab": {
          "base_uri": "https://localhost:8080/"
        },
        "id": "TJ1HInvMUO0h",
        "outputId": "897b3041-59c0-4bb0-89df-2ec6010cc645"
      },
      "outputs": [
        {
          "output_type": "stream",
          "name": "stdout",
          "text": [
            "2\n"
          ]
        }
      ],
      "source": [
        "def minimumLength(s):\n",
        "        l,r = 0 , len(s)-1\n",
        "        while l<r and s[l]==s[r]:\n",
        "            c = s[l]\n",
        "            while l<=r and s[l] == c:\n",
        "                l+=1\n",
        "            while r>=l and s[r] == c:\n",
        "                r-=1\n",
        "        return r-l+1\n",
        "\n",
        "s = \"ca\"\n",
        "print(minimumLength(s))"
      ]
    },
    {
      "cell_type": "code",
      "source": [],
      "metadata": {
        "id": "SdzVXAmAXIBk"
      },
      "execution_count": null,
      "outputs": []
    }
  ]
}