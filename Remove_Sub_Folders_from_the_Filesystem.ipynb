{
  "nbformat": 4,
  "nbformat_minor": 0,
  "metadata": {
    "colab": {
      "provenance": []
    },
    "kernelspec": {
      "name": "python3",
      "display_name": "Python 3"
    },
    "language_info": {
      "name": "python"
    }
  },
  "cells": [
    {
      "cell_type": "markdown",
      "source": [
        "# LeetCode Problem: Remove Sub-Folders from the Filesystem"
      ],
      "metadata": {
        "id": "X9ePV89q-lvm"
      }
    },
    {
      "cell_type": "code",
      "execution_count": 1,
      "metadata": {
        "colab": {
          "base_uri": "https://localhost:8080/"
        },
        "id": "T_KnKNWt-deP",
        "outputId": "9d79ca5c-6582-46a2-e5f0-ffda0ffa6a75"
      },
      "outputs": [
        {
          "output_type": "stream",
          "name": "stdout",
          "text": [
            "['/a', '/c/d', '/c/f']\n"
          ]
        }
      ],
      "source": [
        "def removeSubfolders(folder):\n",
        "        folder.sort()\n",
        "        ans = [folder[0]]\n",
        "        for i in range(1, len(folder)):\n",
        "            last_folder = ans[-1] + '/'\n",
        "            if not folder[i].startswith(last_folder):\n",
        "                ans.append(folder[i])\n",
        "        return ans\n",
        "\n",
        "folder = [\"/a\",\"/a/b\",\"/c/d\",\"/c/d/e\",\"/c/f\"]\n",
        "print(removeSubfolders(folder))\n",
        "\n"
      ]
    },
    {
      "cell_type": "code",
      "source": [],
      "metadata": {
        "id": "vr0Dvjaz_sXA"
      },
      "execution_count": null,
      "outputs": []
    }
  ]
}