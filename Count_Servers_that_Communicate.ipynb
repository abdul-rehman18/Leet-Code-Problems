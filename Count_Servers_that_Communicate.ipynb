{
  "nbformat": 4,
  "nbformat_minor": 0,
  "metadata": {
    "colab": {
      "provenance": []
    },
    "kernelspec": {
      "name": "python3",
      "display_name": "Python 3"
    },
    "language_info": {
      "name": "python"
    }
  },
  "cells": [
    {
      "cell_type": "markdown",
      "source": [
        "# LeetCode Problem:Count Servers that Communicate"
      ],
      "metadata": {
        "id": "Y87fcAW6a6e1"
      }
    },
    {
      "cell_type": "code",
      "execution_count": 1,
      "metadata": {
        "colab": {
          "base_uri": "https://localhost:8080/"
        },
        "id": "uxbGaIola2ay",
        "outputId": "1905e43c-1ae7-4ae2-c13f-0033acd06158"
      },
      "outputs": [
        {
          "output_type": "stream",
          "name": "stdout",
          "text": [
            "0\n"
          ]
        }
      ],
      "source": [
        "def countServers(grid):\n",
        "        Rows = [sum(row) for row in grid]\n",
        "        Col = [sum(grid[i][j] for i in range(len(grid))) for j in range(len(grid[0]))]\n",
        "        return sum(1 for i in range(len(grid)) for j in range(len(grid[0])) if grid[i][j] == 1 and (Rows[i] > 1 or Col[j] > 1))\n",
        "\n",
        "grid = [[1,0],[0,1]]\n",
        "\n",
        "print(countServers(grid))"
      ]
    },
    {
      "cell_type": "code",
      "source": [],
      "metadata": {
        "id": "cKLTHSzVbi_w"
      },
      "execution_count": null,
      "outputs": []
    }
  ]
}