{
  "nbformat": 4,
  "nbformat_minor": 0,
  "metadata": {
    "colab": {
      "provenance": []
    },
    "kernelspec": {
      "name": "python3",
      "display_name": "Python 3"
    },
    "language_info": {
      "name": "python"
    }
  },
  "cells": [
    {
      "cell_type": "markdown",
      "source": [
        "# LeetCode Problem: Remove All Adjacent Duplicates In String"
      ],
      "metadata": {
        "id": "5rbgqAinIott"
      }
    },
    {
      "cell_type": "code",
      "execution_count": 1,
      "metadata": {
        "colab": {
          "base_uri": "https://localhost:8080/",
          "height": 0
        },
        "id": "XQ0HvTl8GXoa",
        "outputId": "a0e885ad-dc8d-4266-a96c-f21a8af49071"
      },
      "outputs": [
        {
          "output_type": "stream",
          "name": "stdout",
          "text": [
            "ca\n"
          ]
        }
      ],
      "source": [
        "def removeDuplicates(s):\n",
        "        res = []\n",
        "        for c in s:\n",
        "            if res:\n",
        "                if c == res[-1]:\n",
        "                    res.pop()\n",
        "                else:\n",
        "                    res.append(c)\n",
        "            else:\n",
        "                res.append(c)\n",
        "        r = ''.join(res)\n",
        "        return r\n",
        "\n",
        "s = \"abbaca\"\n",
        "print(removeDuplicates(s))"
      ]
    },
    {
      "cell_type": "code",
      "source": [],
      "metadata": {
        "id": "lFPPYdbqIwhJ"
      },
      "execution_count": null,
      "outputs": []
    }
  ]
}