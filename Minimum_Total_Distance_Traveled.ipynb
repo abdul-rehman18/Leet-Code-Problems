{
  "nbformat": 4,
  "nbformat_minor": 0,
  "metadata": {
    "colab": {
      "provenance": []
    },
    "kernelspec": {
      "name": "python3",
      "display_name": "Python 3"
    },
    "language_info": {
      "name": "python"
    }
  },
  "cells": [
    {
      "cell_type": "markdown",
      "source": [
        "# LeetCode Problem: Minimum Total Distance Traveled"
      ],
      "metadata": {
        "id": "gbozI3HbAVH9"
      }
    },
    {
      "cell_type": "code",
      "execution_count": 2,
      "metadata": {
        "colab": {
          "base_uri": "https://localhost:8080/"
        },
        "id": "3iKlxbAGAOKu",
        "outputId": "bb0eb991-41fe-4fdc-cec6-7761d4f4b206"
      },
      "outputs": [
        {
          "output_type": "stream",
          "name": "stdout",
          "text": [
            "4\n"
          ]
        }
      ],
      "source": [
        "import sys\n",
        "from collections import deque\n",
        "def minimumTotalDistance(robot, factory):\n",
        "        # Sort positions to enable optimal matching\n",
        "        robot.sort()\n",
        "        factory.sort()\n",
        "\n",
        "        m, n = len(robot), len(factory)\n",
        "        # DP table initialization\n",
        "        dp = [[0]*(n+1) for _ in range(m+1)]\n",
        "\n",
        "        # Base case: if no factories left, distance is infinite\n",
        "        for i in range(m):\n",
        "            dp[i][-1] = float('inf')\n",
        "\n",
        "        # Process each factory from right to left\n",
        "        for j in range(n-1, -1, -1):\n",
        "            prefix = 0\n",
        "            qq = deque([(m, 0)])\n",
        "\n",
        "            # Process each robot from right to left\n",
        "            for i in range(m-1, -1, -1):\n",
        "                # Add distance to current factory\n",
        "                prefix += abs(robot[i] - factory[j][0])\n",
        "\n",
        "                # Remove elements outside factory limit window\n",
        "                if qq[0][0] > i+factory[j][1]:\n",
        "                    qq.popleft()\n",
        "\n",
        "                # Maintain monotonic queue property\n",
        "                while qq and qq[-1][1] >= dp[i][j+1] - prefix:\n",
        "                    qq.pop()\n",
        "\n",
        "                qq.append((i, dp[i][j+1] - prefix))\n",
        "                dp[i][j] = qq[0][1] + prefix\n",
        "\n",
        "        return dp[0][0]\n",
        "\n",
        "\n",
        "robot = [0,4,6]\n",
        "factory = [[2,2],[6,2]]\n",
        "print(minimumTotalDistance(robot, factory))"
      ]
    },
    {
      "cell_type": "code",
      "source": [],
      "metadata": {
        "id": "23c1KFJPAjJt"
      },
      "execution_count": null,
      "outputs": []
    }
  ]
}