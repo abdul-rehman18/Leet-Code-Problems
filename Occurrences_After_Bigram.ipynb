{
  "nbformat": 4,
  "nbformat_minor": 0,
  "metadata": {
    "colab": {
      "provenance": []
    },
    "kernelspec": {
      "name": "python3",
      "display_name": "Python 3"
    },
    "language_info": {
      "name": "python"
    }
  },
  "cells": [
    {
      "cell_type": "markdown",
      "source": [
        "# LeetCode Problem: Occurrences After Bigram"
      ],
      "metadata": {
        "id": "SBOLhcW1B7cy"
      }
    },
    {
      "cell_type": "code",
      "execution_count": 1,
      "metadata": {
        "colab": {
          "base_uri": "https://localhost:8080/"
        },
        "id": "wdHl0VfWBZ4V",
        "outputId": "973ff263-3a3a-49eb-a1a9-66135c99c7ca"
      },
      "outputs": [
        {
          "output_type": "stream",
          "name": "stdout",
          "text": [
            "['girl', 'student']\n"
          ]
        }
      ],
      "source": [
        "def findOcurrences(text, first, second):\n",
        "        words = text.split()\n",
        "        ans = []\n",
        "        for i in range(len(words) - 2):\n",
        "            if words[i] == first and words[i + 1] == second:\n",
        "                ans.append(words[i + 2])\n",
        "        return ans\n",
        "\n",
        "text = \"alice is a good girl she is a good student\"\n",
        "first = \"a\"\n",
        "second = \"good\"\n",
        "print(findOcurrences(text, first, second))\n"
      ]
    },
    {
      "cell_type": "code",
      "source": [],
      "metadata": {
        "id": "xoc0P4W7CJ-G"
      },
      "execution_count": null,
      "outputs": []
    }
  ]
}