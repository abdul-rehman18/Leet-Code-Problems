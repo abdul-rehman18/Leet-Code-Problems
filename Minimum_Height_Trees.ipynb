{
  "nbformat": 4,
  "nbformat_minor": 0,
  "metadata": {
    "colab": {
      "provenance": []
    },
    "kernelspec": {
      "name": "python3",
      "display_name": "Python 3"
    },
    "language_info": {
      "name": "python"
    }
  },
  "cells": [
    {
      "cell_type": "markdown",
      "source": [
        "# LeetCode Problem: Minimum Height Trees"
      ],
      "metadata": {
        "id": "PiNnqWVNMo2g"
      }
    },
    {
      "cell_type": "code",
      "execution_count": 3,
      "metadata": {
        "colab": {
          "base_uri": "https://localhost:8080/"
        },
        "id": "tIzFsVsRMOiV",
        "outputId": "31cf0684-7ea9-471b-cebd-287c41a835fd"
      },
      "outputs": [
        {
          "output_type": "stream",
          "name": "stdout",
          "text": [
            "[1]\n"
          ]
        }
      ],
      "source": [
        "from collections import defaultdict,deque\n",
        "def findMinHeightTrees(n, edges):\n",
        "        if n == 1:\n",
        "            return [0]\n",
        "\n",
        "        # Initialize the adjacency list and degree of each node\n",
        "        adjacency_list = defaultdict(list)\n",
        "        degree = [0] * n\n",
        "        for u, v in edges:\n",
        "            adjacency_list[u].append(v)\n",
        "            adjacency_list[v].append(u)\n",
        "            degree[u] += 1\n",
        "            degree[v] += 1\n",
        "\n",
        "        # Initialize leaves queue\n",
        "        leaves = deque([i for i in range(n) if degree[i] == 1])\n",
        "\n",
        "        # Trim leaves until 2 or fewer nodes remain\n",
        "        remaining_nodes = n\n",
        "        while remaining_nodes > 2:\n",
        "            leaves_count = len(leaves)\n",
        "            remaining_nodes -= leaves_count\n",
        "            for _ in range(leaves_count):\n",
        "                leaf = leaves.popleft()\n",
        "                for neighbor in adjacency_list[leaf]:\n",
        "                    degree[neighbor] -= 1\n",
        "                    if degree[neighbor] == 1:\n",
        "                        leaves.append(neighbor)\n",
        "\n",
        "        return list(leaves)\n",
        "\n",
        "\n",
        "n = 4\n",
        "edges = [[1,0],[1,2],[1,3]]\n",
        "print(findMinHeightTrees(n, edges))"
      ]
    },
    {
      "cell_type": "code",
      "source": [],
      "metadata": {
        "id": "EQ49LU_ZMoWW"
      },
      "execution_count": null,
      "outputs": []
    }
  ]
}