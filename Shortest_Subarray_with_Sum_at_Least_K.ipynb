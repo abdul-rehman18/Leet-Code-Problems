{
  "nbformat": 4,
  "nbformat_minor": 0,
  "metadata": {
    "colab": {
      "provenance": []
    },
    "kernelspec": {
      "name": "python3",
      "display_name": "Python 3"
    },
    "language_info": {
      "name": "python"
    }
  },
  "cells": [
    {
      "cell_type": "markdown",
      "source": [
        "# LeetCode Problem: Shortest Subarray with Sum at Least K"
      ],
      "metadata": {
        "id": "eHWzOA8gxg-V"
      }
    },
    {
      "cell_type": "code",
      "execution_count": 1,
      "metadata": {
        "colab": {
          "base_uri": "https://localhost:8080/"
        },
        "id": "ignbu9gVxaJd",
        "outputId": "4e2b3e82-5f88-4523-9dea-eae63928a641"
      },
      "outputs": [
        {
          "output_type": "stream",
          "name": "stdout",
          "text": [
            "1\n"
          ]
        }
      ],
      "source": [
        "def shortestSubarray(nums, k):\n",
        "        n = len(nums)\n",
        "        sum_arr = [0] * (n + 1)\n",
        "\n",
        "        for i in range(n):\n",
        "            sum_arr[i + 1] = sum_arr[i] + nums[i]\n",
        "\n",
        "        q = [0] * (n + 1)\n",
        "        l = r = 0\n",
        "        min_length = n + 1\n",
        "\n",
        "        for i in range(len(sum_arr)):\n",
        "            while r > l and sum_arr[i] >= sum_arr[q[l]] + k:\n",
        "                min_length = min(min_length, i - q[l])\n",
        "                l += 1\n",
        "\n",
        "            while r > l and sum_arr[i] <= sum_arr[q[r - 1]]:\n",
        "                r -= 1\n",
        "\n",
        "            q[r] = i\n",
        "            r += 1\n",
        "\n",
        "        return min_length if min_length <= n else -1\n",
        "\n",
        "nums = [1]\n",
        "k = 1\n",
        "\n",
        "print(shortestSubarray(nums, k))"
      ]
    },
    {
      "cell_type": "code",
      "source": [],
      "metadata": {
        "id": "2VZ3C7Z8x4Nk"
      },
      "execution_count": null,
      "outputs": []
    }
  ]
}