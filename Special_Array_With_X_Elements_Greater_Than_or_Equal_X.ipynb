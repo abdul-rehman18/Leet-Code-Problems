{
  "nbformat": 4,
  "nbformat_minor": 0,
  "metadata": {
    "colab": {
      "provenance": []
    },
    "kernelspec": {
      "name": "python3",
      "display_name": "Python 3"
    },
    "language_info": {
      "name": "python"
    }
  },
  "cells": [
    {
      "cell_type": "markdown",
      "source": [
        "# LeetCode Problem: Special Array With X Elements Greater Than or Equal X"
      ],
      "metadata": {
        "id": "415eyISNYBNx"
      }
    },
    {
      "cell_type": "code",
      "execution_count": 1,
      "metadata": {
        "colab": {
          "base_uri": "https://localhost:8080/"
        },
        "id": "VeI3lOdTX6KT",
        "outputId": "40cd788a-49c1-4ca9-c85d-70a233a81ce7"
      },
      "outputs": [
        {
          "output_type": "stream",
          "name": "stdout",
          "text": [
            "2\n"
          ]
        }
      ],
      "source": [
        "import bisect\n",
        "\n",
        "def specialArray(nums):\n",
        "        nums=sorted(nums)\n",
        "        n=len(nums)\n",
        "        for i in range(n,0,-1):\n",
        "            k=bisect.bisect_left(nums,i)\n",
        "            if(n-k==i):\n",
        "                return i\n",
        "        return -1\n",
        "\n",
        "nums = [3,5]\n",
        "print(specialArray(nums))"
      ]
    },
    {
      "cell_type": "code",
      "source": [],
      "metadata": {
        "id": "pxnrfewGYSvJ"
      },
      "execution_count": null,
      "outputs": []
    }
  ]
}