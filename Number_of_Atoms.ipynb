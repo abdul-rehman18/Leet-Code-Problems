{
  "nbformat": 4,
  "nbformat_minor": 0,
  "metadata": {
    "colab": {
      "provenance": []
    },
    "kernelspec": {
      "name": "python3",
      "display_name": "Python 3"
    },
    "language_info": {
      "name": "python"
    }
  },
  "cells": [
    {
      "cell_type": "markdown",
      "source": [
        "# LeetCode Problem: Number of Atoms"
      ],
      "metadata": {
        "id": "8rFL11juwDt0"
      }
    },
    {
      "cell_type": "code",
      "execution_count": 1,
      "metadata": {
        "colab": {
          "base_uri": "https://localhost:8080/"
        },
        "id": "bBW3e3L-wBeO",
        "outputId": "8c593621-b4e2-4b23-a3bd-4d86ff35090c"
      },
      "outputs": [
        {
          "output_type": "stream",
          "name": "stdout",
          "text": [
            "H2O\n"
          ]
        }
      ],
      "source": [
        "def countOfAtoms(formula):\n",
        "        n: int = len(formula)\n",
        "        result_counter: dict[str, int] = {}\n",
        "        parenthesis_stack: list[dict[str, int]] = []\n",
        "        cur_ind = 0\n",
        "\n",
        "        while cur_ind < n:\n",
        "            cur_char: str = formula[cur_ind]\n",
        "\n",
        "            if cur_char == \"(\":\n",
        "                cur_ind += 1\n",
        "                parenthesis_stack.append({})\n",
        "                continue\n",
        "\n",
        "            if cur_char == \")\":\n",
        "                mult: str = \"\"\n",
        "                cur_ind += 1\n",
        "\n",
        "                while cur_ind < n and formula[cur_ind].isdigit():\n",
        "                    mult += formula[cur_ind]\n",
        "                    cur_ind += 1\n",
        "\n",
        "                last_counter: dict[str, int] = parenthesis_stack.pop()\n",
        "                target: dict[str, int] = parenthesis_stack[-1] if parenthesis_stack else result_counter\n",
        "                for elem, counter in last_counter.items():\n",
        "                    if elem not in target:\n",
        "                        target[elem] = 0\n",
        "                    target[elem] += counter * (int(mult) if mult else 1)\n",
        "                continue\n",
        "\n",
        "            cur_elem: str = \"\"\n",
        "            cur_counter: str = \"\"\n",
        "            target: dict[str, int] = parenthesis_stack[-1] if parenthesis_stack else result_counter\n",
        "\n",
        "            while cur_ind < n and cur_char not in \"()\":\n",
        "                if cur_char.isalpha():\n",
        "                    if cur_char.isupper() and cur_elem != \"\":\n",
        "                        if not cur_elem in target:\n",
        "                            target[cur_elem] = 0\n",
        "                        target[cur_elem] += int(cur_counter) if cur_counter else 1\n",
        "                        cur_counter = \"\"\n",
        "                        cur_elem = \"\"\n",
        "                    cur_elem += cur_char\n",
        "                else:\n",
        "                    cur_counter += cur_char\n",
        "                cur_ind += 1\n",
        "                if cur_ind != n:\n",
        "                    cur_char = formula[cur_ind]\n",
        "\n",
        "            target = parenthesis_stack[-1] if parenthesis_stack else result_counter\n",
        "            if not cur_elem in target:\n",
        "                target[cur_elem] = 0\n",
        "            target[cur_elem] += int(cur_counter) if cur_counter else 1\n",
        "\n",
        "        parts: list[str] = [\n",
        "            elem + str(counter) if not counter == 1 else elem for elem, counter in result_counter.items()\n",
        "        ]\n",
        "        parts.sort()\n",
        "\n",
        "        return \"\".join(parts)\n",
        "\n",
        "formula = \"H2O\"\n",
        "\n",
        "\n",
        "print(countOfAtoms(formula))"
      ]
    },
    {
      "cell_type": "code",
      "source": [],
      "metadata": {
        "id": "C9x5dfpRwdMK"
      },
      "execution_count": null,
      "outputs": []
    }
  ]
}