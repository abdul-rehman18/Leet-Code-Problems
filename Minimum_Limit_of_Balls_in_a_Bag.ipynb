{
  "nbformat": 4,
  "nbformat_minor": 0,
  "metadata": {
    "colab": {
      "provenance": []
    },
    "kernelspec": {
      "name": "python3",
      "display_name": "Python 3"
    },
    "language_info": {
      "name": "python"
    }
  },
  "cells": [
    {
      "cell_type": "markdown",
      "source": [
        "# LeetCode Problem: Minimum Limit of Balls in a Bag"
      ],
      "metadata": {
        "id": "A4n4H6hiyRv1"
      }
    },
    {
      "cell_type": "code",
      "execution_count": 1,
      "metadata": {
        "colab": {
          "base_uri": "https://localhost:8080/"
        },
        "id": "39H0YU5UuTJA",
        "outputId": "596f63ce-a6af-4f9d-8cd8-0e0b7afa81e2"
      },
      "outputs": [
        {
          "output_type": "stream",
          "name": "stdout",
          "text": [
            "3\n"
          ]
        }
      ],
      "source": [
        "def minimumSize(nums, maxOps):\n",
        "        low, high = 1, max(nums) # min and max posible bags\n",
        "        while low < high:\n",
        "            mid = (low + high) // 2\n",
        "            if sum((n - 1) // mid for n in nums) <= maxOps: high = mid\n",
        "            else: low = mid + 1\n",
        "        return high\n",
        "\n",
        "nums = [9]\n",
        "maxOperations = 2\n",
        "\n",
        "print(minimumSize(nums, maxOperations))\n"
      ]
    },
    {
      "cell_type": "code",
      "source": [],
      "metadata": {
        "id": "8QIurHGZykmX"
      },
      "execution_count": null,
      "outputs": []
    }
  ]
}