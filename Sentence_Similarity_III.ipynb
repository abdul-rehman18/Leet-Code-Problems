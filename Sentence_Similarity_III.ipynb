{
  "nbformat": 4,
  "nbformat_minor": 0,
  "metadata": {
    "colab": {
      "provenance": []
    },
    "kernelspec": {
      "name": "python3",
      "display_name": "Python 3"
    },
    "language_info": {
      "name": "python"
    }
  },
  "cells": [
    {
      "cell_type": "markdown",
      "source": [
        "# LeetCode Problem: Sentence Similarity III"
      ],
      "metadata": {
        "id": "iY0o-cTaUgca"
      }
    },
    {
      "cell_type": "code",
      "execution_count": 1,
      "metadata": {
        "colab": {
          "base_uri": "https://localhost:8080/"
        },
        "id": "Rig4IGlEUdAh",
        "outputId": "291d7383-c0b6-4ae4-d24d-db45f1242dbe"
      },
      "outputs": [
        {
          "output_type": "stream",
          "name": "stdout",
          "text": [
            "True\n"
          ]
        }
      ],
      "source": [
        "def areSentencesSimilar(sentence1, sentence2):\n",
        "        words1 = sentence1.split()\n",
        "        words2 = sentence2.split()\n",
        "\n",
        "        if len(words1) < len(words2):\n",
        "            words1, words2 = words2, words1\n",
        "\n",
        "        start, end = 0, 0\n",
        "        n1, n2 = len(words1), len(words2)\n",
        "\n",
        "        while start < n2 and words1[start] == words2[start]:\n",
        "            start += 1\n",
        "\n",
        "        while end < n2 and words1[n1 - end - 1] == words2[n2 - end - 1]:\n",
        "            end += 1\n",
        "\n",
        "        return start + end >= n2\n",
        "\n",
        "sentence1 = \"My name is Haley\"\n",
        "sentence2 = \"My Haley\"\n",
        "\n",
        "print(areSentencesSimilar(sentence1, sentence2))"
      ]
    },
    {
      "cell_type": "code",
      "source": [],
      "metadata": {
        "id": "orzXCryMU5eW"
      },
      "execution_count": null,
      "outputs": []
    }
  ]
}