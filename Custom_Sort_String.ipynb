{
  "nbformat": 4,
  "nbformat_minor": 0,
  "metadata": {
    "colab": {
      "provenance": []
    },
    "kernelspec": {
      "name": "python3",
      "display_name": "Python 3"
    },
    "language_info": {
      "name": "python"
    }
  },
  "cells": [
    {
      "cell_type": "markdown",
      "source": [
        "# LeetCode Problem: Custom Sort String"
      ],
      "metadata": {
        "id": "MQMFbLnyE8MJ"
      }
    },
    {
      "cell_type": "code",
      "execution_count": 1,
      "metadata": {
        "colab": {
          "base_uri": "https://localhost:8080/",
          "height": 0
        },
        "id": "O5C24q15Btz5",
        "outputId": "2f027697-f0f1-4170-8ffa-d82680396b11"
      },
      "outputs": [
        {
          "output_type": "stream",
          "name": "stdout",
          "text": [
            "cbad\n"
          ]
        }
      ],
      "source": [
        "def customSortString(order, s):\n",
        "        res = \"\"\n",
        "        a = {}\n",
        "        for i in s:\n",
        "            a[i] = a.get(i,0)+1\n",
        "        for i in order:\n",
        "            if i in a:\n",
        "                res += i * a[i]\n",
        "                del a[i]\n",
        "        for i,j in a.items():\n",
        "            res += i * j\n",
        "        return res\n",
        "\n",
        "\n",
        "order = \"cba\"\n",
        "s = \"abcd\"\n",
        "print(customSortString(order, s))"
      ]
    },
    {
      "cell_type": "code",
      "source": [],
      "metadata": {
        "id": "392QCUTiE4i4"
      },
      "execution_count": null,
      "outputs": []
    }
  ]
}