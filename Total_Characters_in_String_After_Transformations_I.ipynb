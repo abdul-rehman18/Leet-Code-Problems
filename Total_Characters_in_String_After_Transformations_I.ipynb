{
  "nbformat": 4,
  "nbformat_minor": 0,
  "metadata": {
    "colab": {
      "provenance": []
    },
    "kernelspec": {
      "name": "python3",
      "display_name": "Python 3"
    },
    "language_info": {
      "name": "python"
    }
  },
  "cells": [
    {
      "cell_type": "markdown",
      "source": [
        "# LeetCode Problem : Total Characters in String After Transformations I"
      ],
      "metadata": {
        "id": "WmccvtOt7_dQ"
      }
    },
    {
      "cell_type": "code",
      "execution_count": null,
      "metadata": {
        "id": "Lbrx1B7I76ed"
      },
      "outputs": [],
      "source": [
        "class Solution:\n",
        "    def lengthAfterTransformations(self, s: str, t: int) -> int:\n",
        "        MOD = 1000000007\n",
        "        cnt = [0] * 26\n",
        "\n",
        "        for char in s:\n",
        "            cnt[ord(char) - ord('a')] += 1\n",
        "\n",
        "        for _ in range(t):\n",
        "            tmp = [0] * 26\n",
        "            for i in range(26):\n",
        "                if i == 25:\n",
        "                    tmp[0] = (tmp[0] + cnt[i]) % MOD\n",
        "                    tmp[1] = (tmp[1] + cnt[i]) % MOD\n",
        "                else:\n",
        "                    tmp[i + 1] = (tmp[i + 1] + cnt[i]) % MOD\n",
        "            cnt = tmp\n",
        "\n",
        "        return sum(cnt) % MOD"
      ]
    }
  ]
}