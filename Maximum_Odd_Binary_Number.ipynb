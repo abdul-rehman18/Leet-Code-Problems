{
  "nbformat": 4,
  "nbformat_minor": 0,
  "metadata": {
    "colab": {
      "provenance": []
    },
    "kernelspec": {
      "name": "python3",
      "display_name": "Python 3"
    },
    "language_info": {
      "name": "python"
    }
  },
  "cells": [
    {
      "cell_type": "markdown",
      "source": [
        "# LeetCode Problem: Maximum Odd Binary Number"
      ],
      "metadata": {
        "id": "dNUEvrO4bvGU"
      }
    },
    {
      "cell_type": "code",
      "execution_count": 2,
      "metadata": {
        "colab": {
          "base_uri": "https://localhost:8080/"
        },
        "id": "s8UymFVoYbFC",
        "outputId": "fff0ea21-27f8-4386-a122-d75dd0022a42"
      },
      "outputs": [
        {
          "output_type": "stream",
          "name": "stdout",
          "text": [
            "1001\n"
          ]
        }
      ],
      "source": [
        "def maximumOddBinaryNumber(s):\n",
        "        c = sorted(s,reverse=True)\n",
        "        for i in range(len(c)-1,-1,-1):\n",
        "            if c[i] == '1':\n",
        "                c[i],c[-1] = c[-1],c[i]\n",
        "                break\n",
        "        return ''.join(c)\n",
        "\n",
        "s = \"0101\"\n",
        "print(maximumOddBinaryNumber(s))"
      ]
    },
    {
      "cell_type": "code",
      "source": [],
      "metadata": {
        "id": "oIf9dNKubfUR"
      },
      "execution_count": null,
      "outputs": []
    }
  ]
}