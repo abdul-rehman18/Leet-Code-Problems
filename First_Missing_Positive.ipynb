{
  "nbformat": 4,
  "nbformat_minor": 0,
  "metadata": {
    "colab": {
      "provenance": []
    },
    "kernelspec": {
      "name": "python3",
      "display_name": "Python 3"
    },
    "language_info": {
      "name": "python"
    }
  },
  "cells": [
    {
      "cell_type": "markdown",
      "source": [
        "# LeetCode Problem: First Missing Positive"
      ],
      "metadata": {
        "id": "dmT2W72szYO8"
      }
    },
    {
      "cell_type": "code",
      "execution_count": 1,
      "metadata": {
        "colab": {
          "base_uri": "https://localhost:8080/"
        },
        "id": "JYVG9DmbxkGZ",
        "outputId": "77d1bdf3-1da5-4cbe-9449-14d4d1f5e5bd"
      },
      "outputs": [
        {
          "output_type": "stream",
          "name": "stdout",
          "text": [
            "2\n"
          ]
        }
      ],
      "source": [
        "def firstMissingPositive(nums):\n",
        "        nums = set(nums)\n",
        "        i = 1\n",
        "        while i in nums:\n",
        "            i += 1\n",
        "        return i\n",
        "\n",
        "nums = [3,4,-1,1]\n",
        "print(firstMissingPositive(nums))"
      ]
    },
    {
      "cell_type": "code",
      "source": [],
      "metadata": {
        "id": "J-AJ1xmazUN5"
      },
      "execution_count": null,
      "outputs": []
    }
  ]
}