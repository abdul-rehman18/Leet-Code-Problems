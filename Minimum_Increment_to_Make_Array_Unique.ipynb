{
  "nbformat": 4,
  "nbformat_minor": 0,
  "metadata": {
    "colab": {
      "provenance": []
    },
    "kernelspec": {
      "name": "python3",
      "display_name": "Python 3"
    },
    "language_info": {
      "name": "python"
    }
  },
  "cells": [
    {
      "cell_type": "markdown",
      "source": [
        "# LeetCode Problem: Minimum Increment to Make Array Unique"
      ],
      "metadata": {
        "id": "UKwNZLTf1Sxm"
      }
    },
    {
      "cell_type": "code",
      "execution_count": 1,
      "metadata": {
        "colab": {
          "base_uri": "https://localhost:8080/"
        },
        "id": "qsbegBUS1NpH",
        "outputId": "7c0393bb-556e-4269-fc06-c89cfa49ec1d"
      },
      "outputs": [
        {
          "output_type": "stream",
          "name": "stdout",
          "text": [
            "1\n"
          ]
        }
      ],
      "source": [
        "def minIncrementForUnique(nums):\n",
        "        nums.sort()\n",
        "        numTracker = 0\n",
        "        minIncreament = 0\n",
        "\n",
        "        for num in nums:\n",
        "            numTracker = max(numTracker, num)\n",
        "            minIncreament += numTracker - num\n",
        "            numTracker += 1\n",
        "        return minIncreament\n",
        "\n",
        "nums = [1,2,2]\n",
        "print(minIncrementForUnique(nums))"
      ]
    },
    {
      "cell_type": "code",
      "source": [],
      "metadata": {
        "id": "r7onqQpG1rrw"
      },
      "execution_count": null,
      "outputs": []
    }
  ]
}