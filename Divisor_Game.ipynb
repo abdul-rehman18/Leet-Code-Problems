{
  "nbformat": 4,
  "nbformat_minor": 0,
  "metadata": {
    "colab": {
      "provenance": []
    },
    "kernelspec": {
      "name": "python3",
      "display_name": "Python 3"
    },
    "language_info": {
      "name": "python"
    }
  },
  "cells": [
    {
      "cell_type": "markdown",
      "source": [
        "# LeetCode Problem: Divisor Game"
      ],
      "metadata": {
        "id": "4MdxCzBF1yNI"
      }
    },
    {
      "cell_type": "code",
      "execution_count": 1,
      "metadata": {
        "colab": {
          "base_uri": "https://localhost:8080/"
        },
        "id": "JZDDQ6hZ0uNP",
        "outputId": "09eafdec-6e79-4774-d3e5-52adc5e5c776"
      },
      "outputs": [
        {
          "output_type": "stream",
          "name": "stdout",
          "text": [
            "True\n"
          ]
        }
      ],
      "source": [
        "def divisorGame(n):\n",
        "        return n % 2 == 0\n",
        "\n",
        "n = 2\n",
        "print(divisorGame(n))"
      ]
    },
    {
      "cell_type": "code",
      "source": [],
      "metadata": {
        "id": "WUzR02Tc2RMV"
      },
      "execution_count": null,
      "outputs": []
    }
  ]
}