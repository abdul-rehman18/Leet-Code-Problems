{
  "nbformat": 4,
  "nbformat_minor": 0,
  "metadata": {
    "colab": {
      "provenance": []
    },
    "kernelspec": {
      "name": "python3",
      "display_name": "Python 3"
    },
    "language_info": {
      "name": "python"
    }
  },
  "cells": [
    {
      "cell_type": "markdown",
      "source": [
        "# LeetCode Problem: Minimum Number of Operations to Make Elements in Array Distinct"
      ],
      "metadata": {
        "id": "PCH92Xhyx4Am"
      }
    },
    {
      "cell_type": "code",
      "execution_count": null,
      "metadata": {
        "id": "0MgXtJa1xuhZ"
      },
      "outputs": [],
      "source": [
        "class Solution:\n",
        "    def minimumOperations(self, nums: List[int]) -> int:\n",
        "        from collections import Counter\n",
        "        freq = Counter(nums)\n",
        "\n",
        "        def is_distinct():\n",
        "            return all(v <= 1 for v in freq.values())\n",
        "\n",
        "        if is_distinct():\n",
        "            return 0\n",
        "\n",
        "        k = 0\n",
        "        while nums:\n",
        "            if len(nums) < 3:\n",
        "                return k + 1\n",
        "\n",
        "            for i in range(3):\n",
        "                freq[nums[i]] -= 1\n",
        "                if freq[nums[i]] == 0:\n",
        "                    del freq[nums[i]]\n",
        "            nums = nums[3:]\n",
        "            k += 1\n",
        "            if is_distinct():\n",
        "                return k\n",
        "\n",
        "        return k"
      ]
    }
  ]
}