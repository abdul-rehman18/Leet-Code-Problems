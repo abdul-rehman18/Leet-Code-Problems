{
  "nbformat": 4,
  "nbformat_minor": 0,
  "metadata": {
    "colab": {
      "provenance": []
    },
    "kernelspec": {
      "name": "python3",
      "display_name": "Python 3"
    },
    "language_info": {
      "name": "python"
    }
  },
  "cells": [
    {
      "cell_type": "markdown",
      "source": [
        "# LeetCode Problem: Largest Divisible Subset"
      ],
      "metadata": {
        "id": "xVQZSGiaVVmO"
      }
    },
    {
      "cell_type": "code",
      "execution_count": null,
      "metadata": {
        "id": "Z51ILC7LVBF1"
      },
      "outputs": [],
      "source": [
        "class Solution:\n",
        "    def largestDivisibleSubset(self, nums):\n",
        "        # Step 1: Sort the numbers so that divisors come before their multiples\n",
        "        nums.sort()\n",
        "        n = len(nums)\n",
        "\n",
        "        # dp[i] will hold the size of the largest divisible subset ending with nums[i]\n",
        "        dp = [1] * n\n",
        "\n",
        "        # Variables to track the size and ending index of the maximum subset\n",
        "        max_size = 1\n",
        "        max_index = 0\n",
        "\n",
        "        # Step 2: Fill the dp array using nested loops\n",
        "        for i in range(1, n):\n",
        "            for j in range(i):\n",
        "                # If nums[i] is divisible by nums[j], it can be chained to the subset ending at nums[j]\n",
        "                if nums[i] % nums[j] == 0:\n",
        "                    if dp[j] + 1 > dp[i]:\n",
        "                        dp[i] = dp[j] + 1\n",
        "\n",
        "            # Update the largest subset info if we found a longer one\n",
        "            if dp[i] > max_size:\n",
        "                max_size = dp[i]\n",
        "                max_index = i\n",
        "\n",
        "        # Step 3: Reconstruct the subset by walking backward from max_index\n",
        "        result = []\n",
        "        current_num = nums[max_index]\n",
        "        current_size = max_size\n",
        "\n",
        "        for i in range(max_index, -1, -1):\n",
        "            # If the current number is divisible and matches the expected size\n",
        "            if current_num % nums[i] == 0 and dp[i] == current_size:\n",
        "                result.append(nums[i])\n",
        "                current_num = nums[i]\n",
        "                current_size -= 1\n",
        "\n",
        "        # Since we collected elements in reverse order, reverse to return in ascending order\n",
        "        result.reverse()\n",
        "        return result"
      ]
    }
  ]
}