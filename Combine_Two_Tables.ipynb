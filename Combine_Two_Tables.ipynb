{
  "nbformat": 4,
  "nbformat_minor": 0,
  "metadata": {
    "colab": {
      "provenance": []
    },
    "kernelspec": {
      "name": "python3",
      "display_name": "Python 3"
    },
    "language_info": {
      "name": "python"
    }
  },
  "cells": [
    {
      "cell_type": "markdown",
      "source": [
        "# LeetCode Problem: Combine Two Tables"
      ],
      "metadata": {
        "id": "5ZeP3kD8wmYB"
      }
    },
    {
      "cell_type": "code",
      "execution_count": 1,
      "metadata": {
        "id": "XT4ttjV5wTsY"
      },
      "outputs": [],
      "source": [
        "import pandas as pd\n",
        "\n",
        "def combine_two_tables(person, address):\n",
        "  mer = person.merge(address,on='personId',how='left')\n",
        "  res = mer[['firstName','lastName','city','state']]\n",
        "  return res\n"
      ]
    },
    {
      "cell_type": "code",
      "source": [],
      "metadata": {
        "id": "zss6mqXlzL1X"
      },
      "execution_count": null,
      "outputs": []
    }
  ]
}