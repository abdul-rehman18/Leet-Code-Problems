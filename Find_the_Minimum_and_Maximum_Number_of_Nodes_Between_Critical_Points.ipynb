{
  "nbformat": 4,
  "nbformat_minor": 0,
  "metadata": {
    "colab": {
      "provenance": []
    },
    "kernelspec": {
      "name": "python3",
      "display_name": "Python 3"
    },
    "language_info": {
      "name": "python"
    }
  },
  "cells": [
    {
      "cell_type": "markdown",
      "source": [
        "# LeetCode Problem: Find the Minimum and Maximum Number of Nodes Between Critical Points"
      ],
      "metadata": {
        "id": "6_3EpJ9T3O13"
      }
    },
    {
      "cell_type": "code",
      "execution_count": 2,
      "metadata": {
        "colab": {
          "base_uri": "https://localhost:8080/"
        },
        "id": "vrWCUDPG25dD",
        "outputId": "eeb50f32-e107-470f-cfb5-250fa8717f3f"
      },
      "outputs": [
        {
          "output_type": "stream",
          "name": "stdout",
          "text": [
            "[3, 3]\n"
          ]
        }
      ],
      "source": [
        "# Definition for singly-linked list.\n",
        "class ListNode:\n",
        "    def __init__(self, val=0, next=None):\n",
        "        self.val = val\n",
        "        self.next = next\n",
        "\n",
        "class Solution:\n",
        "    def nodesBetweenCriticalPoints(self, head):\n",
        "        if not head or not head.next or not head.next.next:\n",
        "            return [-1, -1]\n",
        "\n",
        "        critical_points = []\n",
        "        prev = head\n",
        "        curr = head.next\n",
        "        position = 1\n",
        "\n",
        "        while curr.next:\n",
        "            if (curr.val > prev.val and curr.val > curr.next.val) or (curr.val < prev.val and curr.val < curr.next.val):\n",
        "                critical_points.append(position)\n",
        "            prev = curr\n",
        "            curr = curr.next\n",
        "            position += 1\n",
        "\n",
        "        if len(critical_points) < 2:\n",
        "            return [-1, -1]\n",
        "\n",
        "        min_distance = float('inf')\n",
        "        max_distance = critical_points[-1] - critical_points[0]\n",
        "\n",
        "        for i in range(1, len(critical_points)):\n",
        "            min_distance = min(min_distance, critical_points[i] - critical_points[i - 1])\n",
        "\n",
        "        return [min_distance, max_distance]\n",
        "\n",
        "def main():\n",
        "    # Helper function to create a linked list from a list of values\n",
        "    def create_linked_list(values):\n",
        "        if not values:\n",
        "            return None\n",
        "        head = ListNode(values[0])\n",
        "        current = head\n",
        "        for value in values[1:]:\n",
        "            current.next = ListNode(value)\n",
        "            current = current.next\n",
        "        return head\n",
        "\n",
        "    # Example linked list: [1,3,2,2,3,2,2,2,7]\n",
        "    values = [1, 3, 2, 2, 3, 2, 2, 2, 7]\n",
        "    head = create_linked_list(values)\n",
        "\n",
        "    # Create a Solution object and use the method\n",
        "    sol = Solution()\n",
        "    result = sol.nodesBetweenCriticalPoints(head)\n",
        "\n",
        "    # Print the result\n",
        "    print(result)\n",
        "\n",
        "if __name__ == \"__main__\":\n",
        "    main()\n"
      ]
    },
    {
      "cell_type": "code",
      "source": [],
      "metadata": {
        "id": "mwkro-sE3iPk"
      },
      "execution_count": null,
      "outputs": []
    }
  ]
}