{
  "nbformat": 4,
  "nbformat_minor": 0,
  "metadata": {
    "colab": {
      "provenance": []
    },
    "kernelspec": {
      "name": "python3",
      "display_name": "Python 3"
    },
    "language_info": {
      "name": "python"
    }
  },
  "cells": [
    {
      "cell_type": "markdown",
      "source": [
        "# LeetCode Problem: Find Longest Special Substring That Occurs Thrice I"
      ],
      "metadata": {
        "id": "OL-bpCES241u"
      }
    },
    {
      "cell_type": "code",
      "execution_count": 1,
      "metadata": {
        "colab": {
          "base_uri": "https://localhost:8080/"
        },
        "id": "-Q1qXiRj20Hh",
        "outputId": "3b2de0d1-2476-4071-fe4b-88176bddf8fe"
      },
      "outputs": [
        {
          "output_type": "stream",
          "name": "stdout",
          "text": [
            "2\n"
          ]
        }
      ],
      "source": [
        "from collections import Counter\n",
        "def maximumLength(s):\n",
        "        subarrays = []\n",
        "\n",
        "        for i in range(len(s)):\n",
        "            index = i\n",
        "            while index < len(s) and s[index] == s[i]:\n",
        "                subarrays.append(s[i:index+1])\n",
        "                index += 1\n",
        "\n",
        "        counter = Counter(subarrays)\n",
        "        max_len = 0\n",
        "\n",
        "        for j, n in counter.items():\n",
        "            if n >= 3:\n",
        "                if len(j) > max_len:\n",
        "                    max_len = len(j)\n",
        "\n",
        "        if max_len == 0:\n",
        "            return -1\n",
        "\n",
        "        return max_len\n",
        "\n",
        "\n",
        "s = \"aaaa\"\n",
        "\n",
        "print(maximumLength(s))"
      ]
    },
    {
      "cell_type": "code",
      "source": [],
      "metadata": {
        "id": "j2BsAq5a3Ve8"
      },
      "execution_count": null,
      "outputs": []
    }
  ]
}