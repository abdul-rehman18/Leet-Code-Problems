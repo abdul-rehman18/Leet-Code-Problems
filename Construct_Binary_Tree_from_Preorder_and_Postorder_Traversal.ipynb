{
  "nbformat": 4,
  "nbformat_minor": 0,
  "metadata": {
    "colab": {
      "provenance": []
    },
    "kernelspec": {
      "name": "python3",
      "display_name": "Python 3"
    },
    "language_info": {
      "name": "python"
    }
  },
  "cells": [
    {
      "cell_type": "markdown",
      "source": [
        "# LeetCode Problem: onstruct Binary Tree from Preorder and Postorder Traversal"
      ],
      "metadata": {
        "id": "0PxoADpjVi6_"
      }
    },
    {
      "cell_type": "code",
      "execution_count": null,
      "metadata": {
        "id": "BboNHoOkVf17"
      },
      "outputs": [],
      "source": [
        "# Definition for a binary tree node.\n",
        "# class TreeNode:\n",
        "#     def __init__(self, val=0, left=None, right=None):\n",
        "#         self.val = val\n",
        "#         self.left = left\n",
        "#         self.right = right\n",
        "class Solution:\n",
        "    def constructFromPrePost(self, pre: List[int], post: List[int]) -> Optional[TreeNode]:\n",
        "        index = [0]  # Mutable index to track preorder position\n",
        "        return self.construct(pre, post, index, 0, len(pre) - 1)\n",
        "\n",
        "    def construct(self, pre, post, index, l, h):\n",
        "        if index[0] >= len(pre) or l > h:\n",
        "            return None\n",
        "\n",
        "        root = TreeNode(pre[index[0]])\n",
        "        index[0] += 1\n",
        "        if l == h:\n",
        "            return root\n",
        "\n",
        "        i = l\n",
        "        while i <= h and post[i] != pre[index[0]]:\n",
        "            i += 1\n",
        "\n",
        "        if i <= h:\n",
        "            root.left = self.construct(pre, post, index, l, i)\n",
        "            root.right = self.construct(pre, post, index, i + 1, h - 1)\n",
        "\n",
        "        return root"
      ]
    }
  ]
}