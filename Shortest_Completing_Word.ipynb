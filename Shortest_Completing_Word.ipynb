{
  "nbformat": 4,
  "nbformat_minor": 0,
  "metadata": {
    "colab": {
      "provenance": []
    },
    "kernelspec": {
      "name": "python3",
      "display_name": "Python 3"
    },
    "language_info": {
      "name": "python"
    }
  },
  "cells": [
    {
      "cell_type": "markdown",
      "source": [
        "# LeetCode Problem: Shortest Completing Word"
      ],
      "metadata": {
        "id": "ClCuI5sL0mGw"
      }
    },
    {
      "cell_type": "code",
      "execution_count": 1,
      "metadata": {
        "colab": {
          "base_uri": "https://localhost:8080/"
        },
        "id": "ACFnls3ryNr2",
        "outputId": "ec719784-da99-4db8-87eb-362511474707"
      },
      "outputs": [
        {
          "output_type": "stream",
          "name": "stdout",
          "text": [
            "steps\n"
          ]
        }
      ],
      "source": [
        "def shortestCompletingWord(licensePlate, words):\n",
        "        licensePlate = ''.join([i.lower() for i in licensePlate if i.isalpha()])\n",
        "        words = sorted(words, key=len)\n",
        "        for word in words:\n",
        "            for i in range(len(licensePlate)):\n",
        "                if word.count(licensePlate[i]) < licensePlate.count(licensePlate[i]):\n",
        "                    break\n",
        "                if i == len(licensePlate)-1:\n",
        "                    return word\n",
        "\n",
        "licensePlate = \"1s3 PSt\"\n",
        "words = [\"step\",\"steps\",\"stripe\",\"stepple\"]\n",
        "print(shortestCompletingWord(licensePlate, words))"
      ]
    },
    {
      "cell_type": "code",
      "source": [],
      "metadata": {
        "id": "_qfZjlI61FuD"
      },
      "execution_count": null,
      "outputs": []
    }
  ]
}