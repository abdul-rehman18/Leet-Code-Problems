{
  "nbformat": 4,
  "nbformat_minor": 0,
  "metadata": {
    "colab": {
      "provenance": []
    },
    "kernelspec": {
      "name": "python3",
      "display_name": "Python 3"
    },
    "language_info": {
      "name": "python"
    }
  },
  "cells": [
    {
      "cell_type": "markdown",
      "source": [
        "# LeetCode Problem: Sudoku Solver"
      ],
      "metadata": {
        "id": "JLEMAcU_rBf0"
      }
    },
    {
      "cell_type": "code",
      "execution_count": 3,
      "metadata": {
        "id": "vOWd8d-kmueF"
      },
      "outputs": [],
      "source": [
        "class Solution:\n",
        "    def solveSudoku(self, board):\n",
        "        n = 9\n",
        "\n",
        "        def isValid(row, col, ch):\n",
        "            row, col = int(row), int(col)\n",
        "\n",
        "            for i in range(9):\n",
        "                if board[i][col] == ch:\n",
        "                    return False\n",
        "                if board[row][i] == ch:\n",
        "                    return False\n",
        "                if board[3*(row//3) + i//3][3*(col//3) + i%3] == ch:\n",
        "                    return False\n",
        "\n",
        "            return True\n",
        "\n",
        "        def solve(row, col):\n",
        "            if row == n:\n",
        "                return True\n",
        "            if col == n:\n",
        "                return solve(row+1, 0)\n",
        "\n",
        "            if board[row][col] == \".\":\n",
        "                for i in range(1, 10):\n",
        "                    if isValid(row, col, str(i)):\n",
        "                        board[row][col] = str(i)\n",
        "                        if solve(row, col + 1):\n",
        "                            return True\n",
        "                        else:\n",
        "                            board[row][col] = \".\"\n",
        "                return False\n",
        "            else:\n",
        "                return solve(row, col + 1)\n",
        "\n",
        "        solve(0, 0)\n",
        "\n",
        "# Instantiate the Solution class\n",
        "solution = Solution()\n",
        "board = [[\"5\",\"3\",\".\",\".\",\"7\",\".\",\".\",\".\",\".\"],[\"6\",\".\",\".\",\"1\",\"9\",\"5\",\".\",\".\",\".\"],[\".\",\"9\",\"8\",\".\",\".\",\".\",\".\",\"6\",\".\"],[\"8\",\".\",\".\",\".\",\"6\",\".\",\".\",\".\",\"3\"],[\"4\",\".\",\".\",\"8\",\".\",\"3\",\".\",\".\",\"1\"],[\"7\",\".\",\".\",\".\",\"2\",\".\",\".\",\".\",\"6\"],[\".\",\"6\",\".\",\".\",\".\",\".\",\"2\",\"8\",\".\"],[\".\",\".\",\".\",\"4\",\"1\",\"9\",\".\",\".\",\"5\"],[\".\",\".\",\".\",\".\",\"8\",\".\",\".\",\"7\",\"9\"]]\n",
        "\n",
        "solution.solveSudoku(board)\n"
      ]
    },
    {
      "cell_type": "code",
      "source": [],
      "metadata": {
        "id": "3NPFIz9srjy_"
      },
      "execution_count": null,
      "outputs": []
    }
  ]
}