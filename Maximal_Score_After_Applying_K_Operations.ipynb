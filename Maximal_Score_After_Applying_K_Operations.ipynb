{
  "nbformat": 4,
  "nbformat_minor": 0,
  "metadata": {
    "colab": {
      "provenance": []
    },
    "kernelspec": {
      "name": "python3",
      "display_name": "Python 3"
    },
    "language_info": {
      "name": "python"
    }
  },
  "cells": [
    {
      "cell_type": "markdown",
      "source": [
        "# LeetCode Problem: Maximal Score After Applying K Operations"
      ],
      "metadata": {
        "id": "cjoEDtxD71UC"
      }
    },
    {
      "cell_type": "code",
      "execution_count": 1,
      "metadata": {
        "colab": {
          "base_uri": "https://localhost:8080/"
        },
        "id": "dHOmfAj67k2l",
        "outputId": "a56fbfad-caa1-44e9-a3c6-692950188386"
      },
      "outputs": [
        {
          "output_type": "stream",
          "name": "stdout",
          "text": [
            "45\n"
          ]
        }
      ],
      "source": [
        "import heapq\n",
        "import math\n",
        "\n",
        "def maxKelements(nums, k):\n",
        "    pq = [-num for num in nums]\n",
        "    heapq.heapify(pq)\n",
        "\n",
        "    score = 0\n",
        "    while k > 0:\n",
        "        ele = -heapq.heappop(pq)\n",
        "        score += ele\n",
        "        heapq.heappush(pq, -math.ceil(ele / 3))\n",
        "        k -= 1\n",
        "\n",
        "    return score\n",
        "\n",
        "nums = [10, 20, 15]\n",
        "k = 3\n",
        "print(maxKelements(nums, k))"
      ]
    },
    {
      "cell_type": "code",
      "source": [],
      "metadata": {
        "id": "2L9noIcY8OHE"
      },
      "execution_count": null,
      "outputs": []
    }
  ]
}