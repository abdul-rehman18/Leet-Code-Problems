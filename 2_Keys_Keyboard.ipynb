{
  "nbformat": 4,
  "nbformat_minor": 0,
  "metadata": {
    "colab": {
      "provenance": []
    },
    "kernelspec": {
      "name": "python3",
      "display_name": "Python 3"
    },
    "language_info": {
      "name": "python"
    }
  },
  "cells": [
    {
      "cell_type": "markdown",
      "source": [
        "# LeetCode Problem: 2 Keys Keyboard"
      ],
      "metadata": {
        "id": "hITXhJau-d2i"
      }
    },
    {
      "cell_type": "code",
      "execution_count": 1,
      "metadata": {
        "colab": {
          "base_uri": "https://localhost:8080/"
        },
        "id": "PEVgwC6X-atB",
        "outputId": "ecb1e980-892c-4e15-f184-c8723071c0c4"
      },
      "outputs": [
        {
          "output_type": "stream",
          "name": "stdout",
          "text": [
            "3\n"
          ]
        }
      ],
      "source": [
        "def minSteps(n):\n",
        "        if n == 1:\n",
        "            return 0\n",
        "        s = 0\n",
        "        f = 2\n",
        "        while n > 1:\n",
        "            while n % f == 0:\n",
        "                s += f\n",
        "                n //= f\n",
        "            f += 1\n",
        "        return s\n",
        "\n",
        "n = 3\n",
        "\n",
        "print(minSteps(n))\n"
      ]
    },
    {
      "cell_type": "code",
      "source": [],
      "metadata": {
        "id": "91qm6g4OAPzv"
      },
      "execution_count": null,
      "outputs": []
    }
  ]
}