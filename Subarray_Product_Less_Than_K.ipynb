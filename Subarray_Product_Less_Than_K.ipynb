{
  "nbformat": 4,
  "nbformat_minor": 0,
  "metadata": {
    "colab": {
      "provenance": []
    },
    "kernelspec": {
      "name": "python3",
      "display_name": "Python 3"
    },
    "language_info": {
      "name": "python"
    }
  },
  "cells": [
    {
      "cell_type": "markdown",
      "source": [
        "# LeetCode Problem: Subarray Product Less Than K"
      ],
      "metadata": {
        "id": "QEAssgt6UJDf"
      }
    },
    {
      "cell_type": "code",
      "execution_count": 2,
      "metadata": {
        "colab": {
          "base_uri": "https://localhost:8080/"
        },
        "id": "HWUV0r9EI1dK",
        "outputId": "cc1ab2b7-1ff8-4714-cf95-ad8d30628d33"
      },
      "outputs": [
        {
          "output_type": "stream",
          "name": "stdout",
          "text": [
            "8\n"
          ]
        }
      ],
      "source": [
        "def numSubarrayProductLessThanK(nums, k):\n",
        "    if k <= 1:\n",
        "        return 0\n",
        "    left = 0\n",
        "    prod = 1\n",
        "    count = 0\n",
        "    for right in range(len(nums)):\n",
        "        prod *= nums[right]\n",
        "        while prod >= k:\n",
        "            prod /= nums[left]\n",
        "            left += 1\n",
        "        count += right - left + 1\n",
        "    return count\n",
        "\n",
        "nums = [10,5,2,6]\n",
        "k = 100\n",
        "print(numSubarrayProductLessThanK(nums, k))"
      ]
    },
    {
      "cell_type": "code",
      "source": [],
      "metadata": {
        "id": "K8OgbHyFU34q"
      },
      "execution_count": null,
      "outputs": []
    }
  ]
}