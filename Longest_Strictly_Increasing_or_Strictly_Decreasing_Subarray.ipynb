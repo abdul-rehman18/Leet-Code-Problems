{
  "nbformat": 4,
  "nbformat_minor": 0,
  "metadata": {
    "colab": {
      "provenance": []
    },
    "kernelspec": {
      "name": "python3",
      "display_name": "Python 3"
    },
    "language_info": {
      "name": "python"
    }
  },
  "cells": [
    {
      "cell_type": "markdown",
      "source": [
        "# LeetCode Problem: Longest Strictly Increasing or Strictly Decreasing Subarray"
      ],
      "metadata": {
        "id": "uJ6O5TPiCbMO"
      }
    },
    {
      "cell_type": "code",
      "execution_count": 1,
      "metadata": {
        "colab": {
          "base_uri": "https://localhost:8080/"
        },
        "id": "HmpYMcZbAc7W",
        "outputId": "278e4f83-aeca-465b-94c7-1440218e9d38"
      },
      "outputs": [
        {
          "output_type": "stream",
          "name": "stdout",
          "text": [
            "2\n"
          ]
        }
      ],
      "source": [
        "def longestMonotonicSubarray(nums):\n",
        "        n, ans, inc, dec=len(nums), 0, 1, 1\n",
        "        if n==1: return 1\n",
        "        for i in range(1, n):\n",
        "            if nums[i]>nums[i-1]:\n",
        "                inc+=1\n",
        "                dec=1\n",
        "            elif nums[i]<nums[i-1]:\n",
        "                inc=1\n",
        "                dec+=1\n",
        "            else:\n",
        "                inc=dec=1\n",
        "            ans=max(ans, dec, inc)\n",
        "        return ans\n",
        "\n",
        "nums = [1,4,3,3,2]\n",
        "print(longestMonotonicSubarray(nums))"
      ]
    },
    {
      "cell_type": "code",
      "source": [],
      "metadata": {
        "id": "_8SCylfNCubj"
      },
      "execution_count": null,
      "outputs": []
    }
  ]
}