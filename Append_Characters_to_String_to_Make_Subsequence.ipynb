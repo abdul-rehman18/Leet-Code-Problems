{
  "nbformat": 4,
  "nbformat_minor": 0,
  "metadata": {
    "colab": {
      "provenance": []
    },
    "kernelspec": {
      "name": "python3",
      "display_name": "Python 3"
    },
    "language_info": {
      "name": "python"
    }
  },
  "cells": [
    {
      "cell_type": "markdown",
      "source": [
        "# LeetCode Problem: Append Characters to String to Make Subsequence"
      ],
      "metadata": {
        "id": "dFdg9UxTv07z"
      }
    },
    {
      "cell_type": "code",
      "execution_count": 1,
      "metadata": {
        "colab": {
          "base_uri": "https://localhost:8080/"
        },
        "id": "_m5ZgTjsvsAA",
        "outputId": "b06f7792-063c-4166-a0f1-b28e9e14954d"
      },
      "outputs": [
        {
          "output_type": "stream",
          "name": "stdout",
          "text": [
            "4\n"
          ]
        }
      ],
      "source": [
        "def appendCharacters(s, t):\n",
        "        i, j = 0, 0\n",
        "        while i < len(s) and j < len(t):\n",
        "            if s[i] == t[j]:\n",
        "                j += 1\n",
        "            i += 1\n",
        "        return len(t) - j\n",
        "\n",
        "s = \"coaching\"\n",
        "t = \"coding\"\n",
        "print(appendCharacters(s, t))"
      ]
    },
    {
      "cell_type": "code",
      "source": [],
      "metadata": {
        "id": "gr6Fsn2GwYjT"
      },
      "execution_count": null,
      "outputs": []
    }
  ]
}