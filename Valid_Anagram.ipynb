{
  "nbformat": 4,
  "nbformat_minor": 0,
  "metadata": {
    "colab": {
      "provenance": []
    },
    "kernelspec": {
      "name": "python3",
      "display_name": "Python 3"
    },
    "language_info": {
      "name": "python"
    }
  },
  "cells": [
    {
      "cell_type": "markdown",
      "source": [
        "# LeetCode Problem:Valid Anagram"
      ],
      "metadata": {
        "id": "3iiy_5IcT4k8"
      }
    },
    {
      "cell_type": "code",
      "execution_count": 1,
      "metadata": {
        "colab": {
          "base_uri": "https://localhost:8080/"
        },
        "id": "uv_IQjBtTpO0",
        "outputId": "f8e04128-f08f-4409-bb2a-13a5f0f22152"
      },
      "outputs": [
        {
          "output_type": "stream",
          "name": "stdout",
          "text": [
            "True\n"
          ]
        }
      ],
      "source": [
        "def isAnagram(s, t):\n",
        "  flag = True\n",
        "  if len(s) != len(t):\n",
        "    flag = False\n",
        "  else:\n",
        "    alp = \"abcdefghijklmnopqrstuvwxyz\"\n",
        "    for a in alp:\n",
        "      if s.count(a) != t.count(a):\n",
        "        flag = False\n",
        "        break\n",
        "  return flag\n",
        "\n",
        "\n",
        "s = \"anagram\"\n",
        "t = \"nagaram\"\n",
        "print(isAnagram(s,t))"
      ]
    },
    {
      "cell_type": "code",
      "source": [],
      "metadata": {
        "id": "XoLl_7VUWxx5"
      },
      "execution_count": null,
      "outputs": []
    }
  ]
}