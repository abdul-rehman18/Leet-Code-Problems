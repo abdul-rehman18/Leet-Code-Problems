{
  "nbformat": 4,
  "nbformat_minor": 0,
  "metadata": {
    "colab": {
      "provenance": []
    },
    "kernelspec": {
      "name": "python3",
      "display_name": "Python 3"
    },
    "language_info": {
      "name": "python"
    }
  },
  "cells": [
    {
      "cell_type": "markdown",
      "source": [
        "# LeetCode Problem: Split Linked List in Parts"
      ],
      "metadata": {
        "id": "0W7Wy58k5GlF"
      }
    },
    {
      "cell_type": "code",
      "execution_count": null,
      "metadata": {
        "id": "61kEzep_5DC3"
      },
      "outputs": [],
      "source": [
        "# Definition for singly-linked list.\n",
        "class ListNode:\n",
        "    def __init__(self, val=0, next=None):\n",
        "        self.val = val\n",
        "        self.next = next\n",
        "\n",
        "class Solution:\n",
        "    def splitListToParts(self, head: ListNode, k: int):\n",
        "        # Step 1: Count the number of nodes\n",
        "        current = head\n",
        "        count = 0\n",
        "        while current:\n",
        "            count += 1\n",
        "            current = current.next\n",
        "\n",
        "        # Step 2: Calculate the size of each part and the number of extra nodes\n",
        "        part_size, extra_nodes = divmod(count, k)\n",
        "\n",
        "        # Step 3: Split the list into k parts\n",
        "        current = head\n",
        "        result = []\n",
        "        for i in range(k):\n",
        "            part_head = current\n",
        "            for j in range(part_size - 1 + (i < extra_nodes)):\n",
        "                if current:\n",
        "                    current = current.next\n",
        "            if current:\n",
        "                next_node = current.next\n",
        "                current.next = None\n",
        "                current = next_node\n",
        "            result.append(part_head)\n",
        "\n",
        "        return result\n",
        "\n",
        "# Helper function to print the linked list\n",
        "def print_linked_list(head):\n",
        "    if not head:\n",
        "        print(\"None\")\n",
        "    else:\n",
        "        current = head\n",
        "        while current:\n",
        "            print(current.val, end=\" -> \" if current.next else \"\\n\")\n",
        "            current = current.next\n",
        "\n",
        "# Helper function to create a linked list from a list of values\n",
        "def create_linked_list(values):\n",
        "    if not values:\n",
        "        return None\n",
        "    head = ListNode(values[0])\n",
        "    current = head\n",
        "    for value in values[1:]:\n",
        "        current.next = ListNode(value)\n",
        "        current = current.next\n",
        "    return head\n",
        "\n",
        "# Main function to test the splitListToParts\n",
        "def main():\n",
        "    # Create a linked list: 1 -> 2 -> 3 -> 4 -> 5 -> 6 -> 7 -> 8 -> 9 -> 10\n",
        "    values = [1, 2, 3, 4, 5, 6, 7, 8, 9, 10]\n",
        "    head = create_linked_list(values)\n",
        "\n",
        "    # Number of parts to split the list into\n",
        "    k = 3\n",
        "\n",
        "    # Create an instance of the Solution class\n",
        "    solution = Solution()\n",
        "\n",
        "    # Split the list into k parts\n",
        "    result = solution.splitListToParts(head, k)\n",
        "\n",
        "    # Print the resulting parts\n",
        "    for i, part in enumerate(result):\n",
        "        print(f\"Part {i+1}:\")\n",
        "        print_linked_list(part)\n",
        "\n",
        "# Run the main function\n",
        "if __name__ == \"__main__\":\n",
        "    main()\n"
      ]
    },
    {
      "cell_type": "code",
      "source": [],
      "metadata": {
        "id": "tIbNVAXL5cks"
      },
      "execution_count": null,
      "outputs": []
    }
  ]
}