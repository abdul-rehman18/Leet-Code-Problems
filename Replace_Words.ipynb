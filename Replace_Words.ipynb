{
  "nbformat": 4,
  "nbformat_minor": 0,
  "metadata": {
    "colab": {
      "provenance": []
    },
    "kernelspec": {
      "name": "python3",
      "display_name": "Python 3"
    },
    "language_info": {
      "name": "python"
    }
  },
  "cells": [
    {
      "cell_type": "markdown",
      "source": [
        "# LeetCode Problem: Replace Words"
      ],
      "metadata": {
        "id": "UITYkyEJas0Z"
      }
    },
    {
      "cell_type": "code",
      "execution_count": 2,
      "metadata": {
        "colab": {
          "base_uri": "https://localhost:8080/"
        },
        "id": "VPADQttvaLfb",
        "outputId": "749685a6-7907-4839-a936-a36b01749268"
      },
      "outputs": [
        {
          "output_type": "stream",
          "name": "stdout",
          "text": [
            "the cat was rat by the bat\n"
          ]
        }
      ],
      "source": [
        "def replaceWords(dictionary, sentence):\n",
        "        words = sentence.split()\n",
        "        for i in range(len(words)):\n",
        "            for root in dictionary:\n",
        "                if words[i].startswith(root):\n",
        "                    words[i] = root\n",
        "                    break\n",
        "        return ' '.join(words)\n",
        "\n",
        "dictionary = [\"cat\",\"bat\",\"rat\"]\n",
        "sentence = \"the cattle was rattled by the battery\"\n",
        "print(replaceWords(dictionary, sentence))"
      ]
    },
    {
      "cell_type": "code",
      "source": [],
      "metadata": {
        "id": "UsaWxsCzbQ3G"
      },
      "execution_count": null,
      "outputs": []
    }
  ]
}