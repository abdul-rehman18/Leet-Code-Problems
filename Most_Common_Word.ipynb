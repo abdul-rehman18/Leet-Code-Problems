{
  "nbformat": 4,
  "nbformat_minor": 0,
  "metadata": {
    "colab": {
      "provenance": []
    },
    "kernelspec": {
      "name": "python3",
      "display_name": "Python 3"
    },
    "language_info": {
      "name": "python"
    }
  },
  "cells": [
    {
      "cell_type": "markdown",
      "source": [
        "# LeetCode Problem: Most Common Word"
      ],
      "metadata": {
        "id": "dY6jQbQYr41W"
      }
    },
    {
      "cell_type": "code",
      "execution_count": 1,
      "metadata": {
        "colab": {
          "base_uri": "https://localhost:8080/"
        },
        "id": "4gcwnJA2qQgI",
        "outputId": "6c2f6241-04a7-414a-cf88-e2b0f57dd86f"
      },
      "outputs": [
        {
          "output_type": "stream",
          "name": "stdout",
          "text": [
            "ball\n"
          ]
        }
      ],
      "source": [
        "import re\n",
        "\n",
        "def mostCommonWord(paragraph, banned):\n",
        "  words = re.findall(r'\\w+', paragraph.lower())\n",
        "  banned_set = set(banned)\n",
        "  filtered_words = [word for word in words if word not in banned_set]\n",
        "  return max(set(filtered_words), key=filtered_words.count)\n",
        "\n",
        "paragraph = \"Bob hit a ball, the hit BALL flew far after it was hit.\"\n",
        "banned = [\"hit\"]\n",
        "print(mostCommonWord(paragraph, banned))"
      ]
    },
    {
      "cell_type": "code",
      "source": [],
      "metadata": {
        "id": "HtXOCZ5vsB8I"
      },
      "execution_count": null,
      "outputs": []
    }
  ]
}