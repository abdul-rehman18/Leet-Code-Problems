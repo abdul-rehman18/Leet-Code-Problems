{
  "nbformat": 4,
  "nbformat_minor": 0,
  "metadata": {
    "colab": {
      "provenance": []
    },
    "kernelspec": {
      "name": "python3",
      "display_name": "Python 3"
    },
    "language_info": {
      "name": "python"
    }
  },
  "cells": [
    {
      "cell_type": "markdown",
      "source": [
        "# LeetCode Problem: Longest Ideal Subsequence"
      ],
      "metadata": {
        "id": "hsVBWOtmR6yk"
      }
    },
    {
      "cell_type": "code",
      "execution_count": 1,
      "metadata": {
        "colab": {
          "base_uri": "https://localhost:8080/"
        },
        "id": "9UiITNsSRo3a",
        "outputId": "300c37e9-532e-4892-c414-cd77750fe644"
      },
      "outputs": [
        {
          "output_type": "stream",
          "name": "stdout",
          "text": [
            "4\n"
          ]
        }
      ],
      "source": [
        "def longestIdealString(s, k):\n",
        "        l = [0] * 128\n",
        "        for c in s:\n",
        "            i = ord(c)\n",
        "            l[i] = max(l[i - k : i + k + 1]) + 1\n",
        "        return max(l)\n",
        "\n",
        "\n",
        "\n",
        "s = \"acfgbd\"\n",
        "k = 2\n",
        "print(longestIdealString(s, k))"
      ]
    },
    {
      "cell_type": "code",
      "source": [],
      "metadata": {
        "id": "De396FGCSKAD"
      },
      "execution_count": null,
      "outputs": []
    }
  ]
}