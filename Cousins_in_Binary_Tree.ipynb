{
  "nbformat": 4,
  "nbformat_minor": 0,
  "metadata": {
    "colab": {
      "provenance": []
    },
    "kernelspec": {
      "name": "python3",
      "display_name": "Python 3"
    },
    "language_info": {
      "name": "python"
    }
  },
  "cells": [
    {
      "cell_type": "markdown",
      "source": [
        "# LeetCode Problem: Cousins in Binary Tree"
      ],
      "metadata": {
        "id": "n4MOS4kkOTI9"
      }
    },
    {
      "cell_type": "code",
      "execution_count": 2,
      "metadata": {
        "colab": {
          "base_uri": "https://localhost:8080/"
        },
        "id": "uxAcBTUfN5z8",
        "outputId": "e9174c78-f1d7-4265-b198-d89d00ad9d25"
      },
      "outputs": [
        {
          "output_type": "stream",
          "name": "stdout",
          "text": [
            "Are 5 and 4 cousins? True\n"
          ]
        }
      ],
      "source": [
        "# Definition for a binary tree node.\n",
        "class TreeNode:\n",
        "    def __init__(self, val=0, left=None, right=None):\n",
        "        self.val = val\n",
        "        self.left = left\n",
        "        self.right = right\n",
        "\n",
        "from collections import deque\n",
        "\n",
        "class Solution:\n",
        "    def isCousins(self, root, x, y):\n",
        "        re = []\n",
        "        q = deque([(root, None, 0)])\n",
        "        while q:\n",
        "            if len(re) == 2:\n",
        "                break\n",
        "            n, p, d = q.popleft()\n",
        "            if n.val == x or n.val == y:\n",
        "                re.append((p, d))\n",
        "            if n.left:\n",
        "                q.append((n.left, n, d + 1))\n",
        "            if n.right:\n",
        "                q.append((n.right, n, d + 1))\n",
        "        x_info, y_info = re\n",
        "        return x_info[0] != y_info[0] and x_info[1] == y_info[1]\n",
        "\n",
        "def main():\n",
        "    # Test the isCousins function\n",
        "    root = TreeNode(1)\n",
        "    root.left = TreeNode(2)\n",
        "    root.right = TreeNode(3)\n",
        "    root.left.left = TreeNode(4)\n",
        "    root.right.right = TreeNode(5)\n",
        "\n",
        "    x = 5\n",
        "    y = 4\n",
        "\n",
        "    sol = Solution()\n",
        "    print(\"Are\", x, \"and\", y, \"cousins?\", sol.isCousins(root, x, y))\n",
        "\n",
        "if __name__ == \"__main__\":\n",
        "    main()\n"
      ]
    },
    {
      "cell_type": "code",
      "source": [],
      "metadata": {
        "id": "XYp-ttIAQV8b"
      },
      "execution_count": null,
      "outputs": []
    }
  ]
}