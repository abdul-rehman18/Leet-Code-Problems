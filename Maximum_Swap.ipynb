{
  "nbformat": 4,
  "nbformat_minor": 0,
  "metadata": {
    "colab": {
      "provenance": []
    },
    "kernelspec": {
      "name": "python3",
      "display_name": "Python 3"
    },
    "language_info": {
      "name": "python"
    }
  },
  "cells": [
    {
      "cell_type": "markdown",
      "source": [
        "# LeetCode Problem: Maximum Swap"
      ],
      "metadata": {
        "id": "G1ZjQLvpbNyk"
      }
    },
    {
      "cell_type": "code",
      "execution_count": 1,
      "metadata": {
        "colab": {
          "base_uri": "https://localhost:8080/"
        },
        "id": "kF4jgd_abH9h",
        "outputId": "b722ec0e-f117-42da-9eae-c12471c01c58"
      },
      "outputs": [
        {
          "output_type": "stream",
          "name": "stdout",
          "text": [
            "[2, 7, 3, 6]\n",
            "7236\n"
          ]
        }
      ],
      "source": [
        "def maximumSwap(num):\n",
        "        nums=list(map(int,str(num)))\n",
        "        print(nums)\n",
        "        for i in range(len(nums)-1):\n",
        "            if nums[i]>=max(nums[i+1:]):\n",
        "                continue\n",
        "            else:\n",
        "                j=len(nums)-1-nums[::-1].index(max(nums[i+1:]))\n",
        "                nums[i],nums[j]=nums[j],nums[i]\n",
        "                break\n",
        "        return int(''.join(map(str,nums)))\n",
        "\n",
        "\n",
        "num = 2736\n",
        "\n",
        "print(maximumSwap(num))"
      ]
    },
    {
      "cell_type": "code",
      "source": [],
      "metadata": {
        "id": "5JGcC2uEbiAL"
      },
      "execution_count": null,
      "outputs": []
    }
  ]
}