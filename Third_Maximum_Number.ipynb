{
  "nbformat": 4,
  "nbformat_minor": 0,
  "metadata": {
    "colab": {
      "provenance": []
    },
    "kernelspec": {
      "name": "python3",
      "display_name": "Python 3"
    },
    "language_info": {
      "name": "python"
    }
  },
  "cells": [
    {
      "cell_type": "markdown",
      "source": [
        "# LeetCode Problem: Third Maximum Number"
      ],
      "metadata": {
        "id": "Fjv_KakxBxon"
      }
    },
    {
      "cell_type": "code",
      "execution_count": 1,
      "metadata": {
        "colab": {
          "base_uri": "https://localhost:8080/"
        },
        "id": "TZPYgcA5_27j",
        "outputId": "b91cbcbb-ceb1-4888-9ee8-e46d1ffaa56a"
      },
      "outputs": [
        {
          "output_type": "execute_result",
          "data": {
            "text/plain": [
              "1"
            ]
          },
          "metadata": {},
          "execution_count": 1
        }
      ],
      "source": [
        "def thirdMax(nums):\n",
        "        nums = sorted(list(set(nums)))\n",
        "        if len(nums)>2:\n",
        "            return nums[-3]\n",
        "        return nums[-1]\n",
        "\n",
        "nums = [3,2,1]\n",
        "print(thirdMax(nums))\n",
        ""
      ]
    },
    {
      "cell_type": "code",
      "source": [],
      "metadata": {
        "id": "Wm3ssYWiB-cq"
      },
      "execution_count": null,
      "outputs": []
    }
  ]
}