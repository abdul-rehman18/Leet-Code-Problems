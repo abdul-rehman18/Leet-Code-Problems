{
  "nbformat": 4,
  "nbformat_minor": 0,
  "metadata": {
    "colab": {
      "provenance": []
    },
    "kernelspec": {
      "name": "python3",
      "display_name": "Python 3"
    },
    "language_info": {
      "name": "python"
    }
  },
  "cells": [
    {
      "cell_type": "markdown",
      "source": [
        "# LeetCode Problem: Maximum Sum of 3 Non-Overlapping Subarrays"
      ],
      "metadata": {
        "id": "uSXi1B982clU"
      }
    },
    {
      "cell_type": "code",
      "execution_count": 1,
      "metadata": {
        "id": "24TAJTlHuaCT",
        "colab": {
          "base_uri": "https://localhost:8080/"
        },
        "outputId": "f2396dff-1896-478d-c88e-4da92fc587ff"
      },
      "outputs": [
        {
          "output_type": "stream",
          "name": "stdout",
          "text": [
            "[0, 3, 5]\n"
          ]
        }
      ],
      "source": [
        "def maxSumOfThreeSubarrays(nums, k):\n",
        "        n = len(nums)\n",
        "        sum1 = sum(nums[:k])\n",
        "        sum2 = sum(nums[k:2*k])\n",
        "        sum3 = sum(nums[2*k:3*k])\n",
        "\n",
        "        max1 = sum1\n",
        "        max12 = sum1 + sum2\n",
        "        max123 = sum1 + sum2 + sum3\n",
        "\n",
        "        index1 = 0\n",
        "        index12_1 = 0\n",
        "        index12_2 = k\n",
        "        ans = [0, k, 2 * k]\n",
        "\n",
        "        for i in range(1, n - 3 * k + 1):\n",
        "            sum1 = sum1 - nums[i - 1] + nums[i + k - 1]\n",
        "            sum2 = sum2 - nums[i + k - 1] + nums[i + 2 * k - 1]\n",
        "            sum3 = sum3 - nums[i + 2 * k - 1] + nums[i + 3 * k - 1]\n",
        "\n",
        "            if sum1 > max1:\n",
        "                max1 = sum1\n",
        "                index1 = i\n",
        "\n",
        "            if max1 + sum2 > max12:\n",
        "                max12 = max1 + sum2\n",
        "                index12_1 = index1\n",
        "                index12_2 = i + k\n",
        "\n",
        "            if max12 + sum3 > max123:\n",
        "                max123 = max12 + sum3\n",
        "                ans = [index12_1, index12_2, i + 2 * k]\n",
        "\n",
        "        return ans\n",
        "\n",
        "nums = [1,2,1,2,6,7,5,1]\n",
        "k = 2\n",
        "\n",
        "print(maxSumOfThreeSubarrays(nums, k))"
      ]
    },
    {
      "cell_type": "code",
      "source": [],
      "metadata": {
        "id": "YeWz9tIH2r0f"
      },
      "execution_count": null,
      "outputs": []
    }
  ]
}