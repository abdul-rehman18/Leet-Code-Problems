{
  "nbformat": 4,
  "nbformat_minor": 0,
  "metadata": {
    "colab": {
      "provenance": []
    },
    "kernelspec": {
      "name": "python3",
      "display_name": "Python 3"
    },
    "language_info": {
      "name": "python"
    }
  },
  "cells": [
    {
      "cell_type": "markdown",
      "source": [
        "# LeetCode Problem: Create Binary Tree From Descriptions"
      ],
      "metadata": {
        "id": "Q9DTEv_9ub8r"
      }
    },
    {
      "cell_type": "code",
      "execution_count": 2,
      "metadata": {
        "id": "IQINlhpWuSWw"
      },
      "outputs": [],
      "source": [
        "from collections import defaultdict\n",
        "class TreeNode:\n",
        "    def __init__(self, x):\n",
        "        self.val = x\n",
        "        self.left = None\n",
        "        self.right = None\n",
        "\n",
        "class Solution:\n",
        "    def createBinaryTree(self, descriptions):\n",
        "        nodes = defaultdict(TreeNode)\n",
        "        hasParent = set()\n",
        "\n",
        "        for parent, child, isLeft in descriptions:\n",
        "            if child not in nodes:\n",
        "                nodes[child] = TreeNode(child)\n",
        "            if parent not in nodes:\n",
        "                nodes[parent] = TreeNode(parent)\n",
        "\n",
        "            if isLeft:\n",
        "                nodes[parent].left = nodes[child]\n",
        "            else:\n",
        "                nodes[parent].right = nodes[child]\n",
        "\n",
        "            hasParent.add(child)\n",
        "\n",
        "        for node in nodes.keys():\n",
        "            if node not in hasParent:\n",
        "                return nodes[node]\n",
        "\n",
        "# Example usage:\n",
        "descriptions = [[20,15,1],[20,17,0],[50,20,1],[50,80,0],[80,19,1]]\n",
        "sol = Solution()\n",
        "root = sol.createBinaryTree(descriptions)"
      ]
    },
    {
      "cell_type": "code",
      "source": [],
      "metadata": {
        "id": "iflnY-L5ubTm"
      },
      "execution_count": null,
      "outputs": []
    }
  ]
}