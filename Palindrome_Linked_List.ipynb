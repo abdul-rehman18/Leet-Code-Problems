{
  "nbformat": 4,
  "nbformat_minor": 0,
  "metadata": {
    "colab": {
      "provenance": []
    },
    "kernelspec": {
      "name": "python3",
      "display_name": "Python 3"
    },
    "language_info": {
      "name": "python"
    }
  },
  "cells": [
    {
      "cell_type": "markdown",
      "source": [
        "# LeetCode Problem: Palindrome Linked List"
      ],
      "metadata": {
        "id": "e1CBZkMNGpDe"
      }
    },
    {
      "cell_type": "code",
      "execution_count": 2,
      "metadata": {
        "colab": {
          "base_uri": "https://localhost:8080/"
        },
        "id": "TnK8zuPaGA7y",
        "outputId": "96e0893d-430a-4e08-b7c0-e9721ecf8fd2"
      },
      "outputs": [
        {
          "output_type": "stream",
          "name": "stdout",
          "text": [
            "The linked list is a palindrome.\n"
          ]
        }
      ],
      "source": [
        "class ListNode:\n",
        "    def __init__(self, val=0, next=None):\n",
        "        self.val = val\n",
        "        self.next = next\n",
        "class Solution:\n",
        "    def isPalindrome(self, head):\n",
        "        if not head or not head.next:\n",
        "            return True\n",
        "\n",
        "        #Find the midpoint of the linked list\n",
        "        slow = fast = head\n",
        "        while fast and fast.next:\n",
        "            slow = slow.next\n",
        "            fast = fast.next.next\n",
        "\n",
        "        #Reverse the second half of the linked list\n",
        "        prev = None\n",
        "        curr = slow\n",
        "        while curr:\n",
        "            next_node = curr.next\n",
        "            curr.next = prev\n",
        "            prev = curr\n",
        "            curr = next_node\n",
        "\n",
        "        #See if the two halves are equal (palindromes)\n",
        "        p1 = head\n",
        "        p2 = prev\n",
        "        while p2:\n",
        "            if p1.val != p2.val:\n",
        "                return False\n",
        "            p1 = p1.next\n",
        "            p2 = p2.next\n",
        "\n",
        "        return True\n",
        "\n",
        "def main():\n",
        "\n",
        "    head = ListNode(1, ListNode(2, ListNode(3, ListNode(2, ListNode(1)))))\n",
        "\n",
        "    solution = Solution()\n",
        "\n",
        "    result = solution.isPalindrome(head)\n",
        "\n",
        "    if result:\n",
        "        print(\"The linked list is a palindrome.\")\n",
        "    else:\n",
        "        print(\"The linked list is not a palindrome.\")\n",
        "\n",
        "if __name__ == \"__main__\":\n",
        "    main()\n"
      ]
    },
    {
      "cell_type": "code",
      "source": [],
      "metadata": {
        "id": "x8nlvDayHguS"
      },
      "execution_count": null,
      "outputs": []
    }
  ]
}