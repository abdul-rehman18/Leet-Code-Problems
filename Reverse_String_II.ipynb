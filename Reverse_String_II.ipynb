{
  "nbformat": 4,
  "nbformat_minor": 0,
  "metadata": {
    "colab": {
      "provenance": []
    },
    "kernelspec": {
      "name": "python3",
      "display_name": "Python 3"
    },
    "language_info": {
      "name": "python"
    }
  },
  "cells": [
    {
      "cell_type": "markdown",
      "source": [
        "# LeetCode Problem: Reverse String II"
      ],
      "metadata": {
        "id": "k70efk74SFYQ"
      }
    },
    {
      "cell_type": "code",
      "execution_count": 1,
      "metadata": {
        "colab": {
          "base_uri": "https://localhost:8080/"
        },
        "id": "ziqWtseHSCU8",
        "outputId": "e2085eb8-356f-4739-8428-de78dc745c53"
      },
      "outputs": [
        {
          "output_type": "stream",
          "name": "stdout",
          "text": [
            "bacdfeg\n"
          ]
        }
      ],
      "source": [
        "def reverseStr(s, k):\n",
        "        s=list(s)\n",
        "        for i in range(0,len(s),2*k):\n",
        "            s[i:i+k]=(s[i:i+k])[::-1]\n",
        "        return ''.join(s)\n",
        "\n",
        "\n",
        "s = \"abcdefg\"\n",
        "k = 2\n",
        "print(reverseStr(s, k))"
      ]
    },
    {
      "cell_type": "code",
      "source": [],
      "metadata": {
        "id": "qLxngJ7QTW3z"
      },
      "execution_count": null,
      "outputs": []
    }
  ]
}