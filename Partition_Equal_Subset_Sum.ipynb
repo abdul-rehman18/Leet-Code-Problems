{
  "nbformat": 4,
  "nbformat_minor": 0,
  "metadata": {
    "colab": {
      "provenance": []
    },
    "kernelspec": {
      "name": "python3",
      "display_name": "Python 3"
    },
    "language_info": {
      "name": "python"
    }
  },
  "cells": [
    {
      "cell_type": "markdown",
      "source": [
        "# LeetCode Problem: Partition Equal Subset Sum"
      ],
      "metadata": {
        "id": "e_Y-KWAu1xIH"
      }
    },
    {
      "cell_type": "code",
      "execution_count": null,
      "metadata": {
        "id": "ueSV-Jjk1vJ5"
      },
      "outputs": [],
      "source": [
        "class Solution:\n",
        "    def canPartition(self, nums: List[int]) -> bool:\n",
        "        total = sum(nums)\n",
        "        if total % 2 != 0:\n",
        "            return False\n",
        "\n",
        "        target = total // 2\n",
        "        dp = [False] * (target + 1)\n",
        "        dp[0] = True\n",
        "\n",
        "        for num in nums:\n",
        "            for i in range(target, num - 1, -1):\n",
        "                dp[i] = dp[i] or dp[i - num]\n",
        "\n",
        "        return dp[target]"
      ]
    }
  ]
}