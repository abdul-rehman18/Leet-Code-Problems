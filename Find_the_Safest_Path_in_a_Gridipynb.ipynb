{
  "nbformat": 4,
  "nbformat_minor": 0,
  "metadata": {
    "colab": {
      "provenance": []
    },
    "kernelspec": {
      "name": "python3",
      "display_name": "Python 3"
    },
    "language_info": {
      "name": "python"
    }
  },
  "cells": [
    {
      "cell_type": "markdown",
      "source": [
        "# LeetCode Problem: Find the Safest Path in a Grid"
      ],
      "metadata": {
        "id": "7Vk7j2RwKVCQ"
      }
    },
    {
      "cell_type": "code",
      "execution_count": 1,
      "metadata": {
        "colab": {
          "base_uri": "https://localhost:8080/"
        },
        "id": "w1oUWlKuKOkZ",
        "outputId": "9fb94eb0-4aba-4c3a-be8e-9c589b6018d0"
      },
      "outputs": [
        {
          "output_type": "stream",
          "name": "stdout",
          "text": [
            "Maximum Safeness Factor: 0\n"
          ]
        }
      ],
      "source": [
        "import heapq\n",
        "from collections import deque\n",
        "\n",
        "class Solution:\n",
        "    def __init__(self):\n",
        "        self.roww = [0, 0, -1, 1]\n",
        "        self.coll = [-1, 1, 0, 0]\n",
        "\n",
        "    def bfs(self, grid, score, n):\n",
        "        q = deque()\n",
        "\n",
        "        for i in range(n):\n",
        "            for j in range(n):\n",
        "                if grid[i][j]:\n",
        "                    score[i][j] = 0\n",
        "                    q.append((i, j))\n",
        "\n",
        "        while q:\n",
        "            x, y = q.popleft()\n",
        "            s = score[x][y]\n",
        "\n",
        "            for i in range(4):\n",
        "                new_x = x + self.roww[i]\n",
        "                new_y = y + self.coll[i]\n",
        "\n",
        "                if 0 <= new_x < n and 0 <= new_y < n and score[new_x][new_y] > s + 1:\n",
        "                    score[new_x][new_y] = s + 1\n",
        "                    q.append((new_x, new_y))\n",
        "\n",
        "    def maximumSafenessFactor(self, grid):\n",
        "        n = len(grid)\n",
        "        if grid[0][0] or grid[n - 1][n - 1]:\n",
        "            return 0\n",
        "\n",
        "        score = [[float('inf')] * n for _ in range(n)]\n",
        "        self.bfs(grid, score, n)\n",
        "\n",
        "        vis = [[False] * n for _ in range(n)]\n",
        "        pq = [(-score[0][0], 0, 0)]\n",
        "        heapq.heapify(pq)\n",
        "\n",
        "        while pq:\n",
        "            safe, x, y = heapq.heappop(pq)\n",
        "            safe = -safe\n",
        "\n",
        "            if x == n - 1 and y == n - 1:\n",
        "                return safe\n",
        "\n",
        "            vis[x][y] = True\n",
        "\n",
        "            for i in range(4):\n",
        "                new_x = x + self.roww[i]\n",
        "                new_y = y + self.coll[i]\n",
        "\n",
        "                if 0 <= new_x < n and 0 <= new_y < n and not vis[new_x][new_y]:\n",
        "                    s = min(safe, score[new_x][new_y])\n",
        "                    heapq.heappush(pq, (-s, new_x, new_y))\n",
        "                    vis[new_x][new_y] = True\n",
        "\n",
        "        return -1\n",
        "\n",
        "if __name__ == \"__main__\":\n",
        "    grid = [[1, 0, 0], [0, 0, 0], [0, 0, 1]]\n",
        "    solution = Solution()\n",
        "    result = solution.maximumSafenessFactor(grid)\n",
        "    print(\"Maximum Safeness Factor:\", result)\n"
      ]
    },
    {
      "cell_type": "code",
      "source": [],
      "metadata": {
        "id": "ZlJC3R1QKwd7"
      },
      "execution_count": null,
      "outputs": []
    }
  ]
}