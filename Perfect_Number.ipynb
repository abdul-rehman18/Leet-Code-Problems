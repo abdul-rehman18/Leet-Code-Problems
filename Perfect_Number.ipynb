{
  "nbformat": 4,
  "nbformat_minor": 0,
  "metadata": {
    "colab": {
      "provenance": []
    },
    "kernelspec": {
      "name": "python3",
      "display_name": "Python 3"
    },
    "language_info": {
      "name": "python"
    }
  },
  "cells": [
    {
      "cell_type": "markdown",
      "source": [
        "# LeetCode Problem: Perfect Number"
      ],
      "metadata": {
        "id": "D5z5lev_Mc4e"
      }
    },
    {
      "cell_type": "code",
      "execution_count": 7,
      "metadata": {
        "colab": {
          "base_uri": "https://localhost:8080/"
        },
        "id": "f0r5aMrS1oEu",
        "outputId": "089ad081-43b7-467f-eb49-8eda6a03ef61"
      },
      "outputs": [
        {
          "output_type": "stream",
          "name": "stdout",
          "text": [
            "True\n"
          ]
        }
      ],
      "source": [
        "def checkPerfectNumber(num):\n",
        "  s=0\n",
        "  for i in range(1,num-1):\n",
        "    if num%i==0:\n",
        "      s+=i\n",
        "  if s==num:\n",
        "    return True\n",
        "  else:\n",
        "    return False\n",
        "\n",
        "num = 28\n",
        "print(checkPerfectNumber(num))"
      ]
    },
    {
      "cell_type": "code",
      "source": [
        "#or\n",
        "def checkPerfectNumber(num):\n",
        "  return num in (6, 28, 496, 8128, 33550336)\n",
        "\n",
        "num = 28\n",
        "print(checkPerfectNumber(num))"
      ],
      "metadata": {
        "colab": {
          "base_uri": "https://localhost:8080/"
        },
        "id": "-7ymvapZNLQj",
        "outputId": "7577da5e-08eb-4774-f5a3-61a5e7ac71ea"
      },
      "execution_count": 8,
      "outputs": [
        {
          "output_type": "stream",
          "name": "stdout",
          "text": [
            "True\n"
          ]
        }
      ]
    },
    {
      "cell_type": "code",
      "source": [],
      "metadata": {
        "id": "jRGOVbZMOQxM"
      },
      "execution_count": null,
      "outputs": []
    }
  ]
}