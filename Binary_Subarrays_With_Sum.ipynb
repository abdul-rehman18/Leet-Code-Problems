{
  "nbformat": 4,
  "nbformat_minor": 0,
  "metadata": {
    "colab": {
      "provenance": []
    },
    "kernelspec": {
      "name": "python3",
      "display_name": "Python 3"
    },
    "language_info": {
      "name": "python"
    }
  },
  "cells": [
    {
      "cell_type": "markdown",
      "source": [
        "# LeetCode Problem: Binary Subarrays With Sum"
      ],
      "metadata": {
        "id": "ArmoG7j_ghaM"
      }
    },
    {
      "cell_type": "code",
      "execution_count": 1,
      "metadata": {
        "colab": {
          "base_uri": "https://localhost:8080/"
        },
        "id": "uEvI8KQAdBFs",
        "outputId": "1c1a0918-f16d-4d43-e6db-35ccfab6ba8f"
      },
      "outputs": [
        {
          "output_type": "stream",
          "name": "stdout",
          "text": [
            "4\n"
          ]
        }
      ],
      "source": [
        "def numSubarraysWithSum(nums, goal):\n",
        "        c = {0: 1}\n",
        "        s, res = 0,0\n",
        "        for i in nums:\n",
        "            s += i\n",
        "            if s - goal in c:\n",
        "                res += c[s-goal]\n",
        "            c[s] = c.get(s,0) + 1\n",
        "        return res\n",
        "\n",
        "nums = [1,0,1,0,1]\n",
        "goal = 2\n",
        "print(numSubarraysWithSum(nums, goal))"
      ]
    },
    {
      "cell_type": "code",
      "source": [],
      "metadata": {
        "id": "S48D_AIKgnyf"
      },
      "execution_count": null,
      "outputs": []
    }
  ]
}