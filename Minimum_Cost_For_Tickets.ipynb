{
  "nbformat": 4,
  "nbformat_minor": 0,
  "metadata": {
    "colab": {
      "provenance": []
    },
    "kernelspec": {
      "name": "python3",
      "display_name": "Python 3"
    },
    "language_info": {
      "name": "python"
    }
  },
  "cells": [
    {
      "cell_type": "markdown",
      "source": [
        "# LeetCode Problem: Minimum Cost For Tickets"
      ],
      "metadata": {
        "id": "kTzhMj-HSxdw"
      }
    },
    {
      "cell_type": "code",
      "execution_count": 1,
      "metadata": {
        "colab": {
          "base_uri": "https://localhost:8080/"
        },
        "id": "u59Vz7KJKMJx",
        "outputId": "9f684b91-b077-4ce9-850d-e093f8a40046"
      },
      "outputs": [
        {
          "output_type": "stream",
          "name": "stdout",
          "text": [
            "11\n"
          ]
        }
      ],
      "source": [
        "def mincostTickets(days, costs):\n",
        "        n = len(days)\n",
        "        left7 = 0\n",
        "        left30 = 0\n",
        "        dp = [0] * n\n",
        "\n",
        "        for right in range(n):\n",
        "            while days[right] - days[left7] >= 7:\n",
        "                left7 += 1\n",
        "            while days[right] - days[left30] >= 30:\n",
        "                left30 += 1\n",
        "\n",
        "            cost1 = (dp[right - 1] if right > 0 else 0) + costs[0]\n",
        "            cost7 = (dp[left7 - 1] if left7 > 0 else 0) + costs[1]\n",
        "            cost30 = (dp[left30 - 1] if left30 > 0 else 0) + costs[2]\n",
        "\n",
        "            dp[right] = min(cost1, cost7, cost30)\n",
        "\n",
        "        return dp[n - 1]\n",
        "\n",
        "days = [1,4,6,7,8,20]\n",
        "costs = [2,7,15]\n",
        "\n",
        "print(mincostTickets(days, costs))"
      ]
    },
    {
      "cell_type": "code",
      "source": [],
      "metadata": {
        "id": "JxCNSb-lTDBq"
      },
      "execution_count": null,
      "outputs": []
    }
  ]
}