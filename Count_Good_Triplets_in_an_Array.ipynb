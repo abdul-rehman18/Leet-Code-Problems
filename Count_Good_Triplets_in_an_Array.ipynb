{
  "nbformat": 4,
  "nbformat_minor": 0,
  "metadata": {
    "colab": {
      "provenance": []
    },
    "kernelspec": {
      "name": "python3",
      "display_name": "Python 3"
    },
    "language_info": {
      "name": "python"
    }
  },
  "cells": [
    {
      "cell_type": "markdown",
      "source": [
        "# LeetCode Problem: Count Good Triplets in an Array"
      ],
      "metadata": {
        "id": "376nEPhPR6eF"
      }
    },
    {
      "cell_type": "code",
      "execution_count": null,
      "metadata": {
        "id": "VqIYoESbRxUO"
      },
      "outputs": [],
      "source": [
        "class Solution:\n",
        "    def goodTriplets(self, nums1, nums2):\n",
        "        result = self.all_common_subsequences(nums1, nums2)\n",
        "        return len(self.extract_triplets(result))\n",
        "\n",
        "    def all_common_subsequences(self, nums1, nums2):\n",
        "        memo = {}\n",
        "\n",
        "        def dp(i, j):\n",
        "            key = f\"{i}|{j}\"\n",
        "            if key in memo:\n",
        "                return memo[key]\n",
        "\n",
        "            result = set()\n",
        "\n",
        "            if i >= len(nums1) or j >= len(nums2):\n",
        "                result.add(())\n",
        "            else:\n",
        "                if nums1[i] == nums2[j]:\n",
        "                    for subseq in dp(i + 1, j + 1):\n",
        "                        result.add((nums1[i],) + subseq)\n",
        "\n",
        "                for subseq in dp(i + 1, j):\n",
        "                    result.add(subseq)\n",
        "                for subseq in dp(i, j + 1):\n",
        "                    result.add(subseq)\n",
        "\n",
        "            memo[key] = result\n",
        "            return result\n",
        "\n",
        "        all_subsequences = dp(0, 0)\n",
        "        return [list(seq) for seq in all_subsequences if len(seq) > 2]\n",
        "\n",
        "    def extract_triplets(self, subsequences):\n",
        "        triplets = set()\n",
        "\n",
        "        for subseq in subsequences:\n",
        "            n = len(subseq)\n",
        "            for i in range(n - 2):\n",
        "                for j in range(i + 1, n - 1):\n",
        "                    for k in range(j + 1, n):\n",
        "                        triplet = (subseq[i], subseq[j], subseq[k])\n",
        "                        triplets.add(triplet)\n",
        "\n",
        "        return {list(triplet) for triplet in triplets}"
      ]
    }
  ]
}