{
  "nbformat": 4,
  "nbformat_minor": 0,
  "metadata": {
    "colab": {
      "provenance": []
    },
    "kernelspec": {
      "name": "python3",
      "display_name": "Python 3"
    },
    "language_info": {
      "name": "python"
    }
  },
  "cells": [
    {
      "cell_type": "markdown",
      "source": [
        "# LeetCode Problem: Distribute Candies to People"
      ],
      "metadata": {
        "id": "EXXlF_ucmUK-"
      }
    },
    {
      "cell_type": "code",
      "execution_count": 1,
      "metadata": {
        "id": "K-2oRu8QkRC3",
        "colab": {
          "base_uri": "https://localhost:8080/"
        },
        "outputId": "6cb6a4dd-a44c-4f51-dbdb-ecc0306d6c0e"
      },
      "outputs": [
        {
          "output_type": "stream",
          "name": "stdout",
          "text": [
            "[1, 2, 3, 1]\n"
          ]
        }
      ],
      "source": [
        "def distributeCandies(candies, num_people):\n",
        "        arr = [0 for i in range(num_people)]\n",
        "        i = 0\n",
        "        j = 1\n",
        "        while candies > 0:\n",
        "            if i == len(arr):\n",
        "                i = 0\n",
        "            if candies >= j:\n",
        "                arr[i] += j\n",
        "                candies -= j\n",
        "                j += 1\n",
        "            else:\n",
        "                arr[i] += candies\n",
        "                break\n",
        "            i += 1\n",
        "        return arr\n",
        "\n",
        "\n",
        "candies = 7\n",
        "num_people = 4\n",
        "print(distributeCandies(candies, num_people))"
      ]
    },
    {
      "cell_type": "code",
      "source": [],
      "metadata": {
        "id": "YfM2F4ozmRcN"
      },
      "execution_count": null,
      "outputs": []
    }
  ]
}