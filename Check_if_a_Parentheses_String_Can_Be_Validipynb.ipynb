{
  "nbformat": 4,
  "nbformat_minor": 0,
  "metadata": {
    "colab": {
      "provenance": []
    },
    "kernelspec": {
      "name": "python3",
      "display_name": "Python 3"
    },
    "language_info": {
      "name": "python"
    }
  },
  "cells": [
    {
      "cell_type": "markdown",
      "source": [
        "# LeetCode Problem: Check if a Parentheses String Can Be Valid"
      ],
      "metadata": {
        "id": "dvf95pnDkcrK"
      }
    },
    {
      "cell_type": "code",
      "execution_count": 2,
      "metadata": {
        "colab": {
          "base_uri": "https://localhost:8080/"
        },
        "id": "FADyGWBOkUU2",
        "outputId": "8d0beb7c-5cf7-4f10-d298-144e4c5dac81"
      },
      "outputs": [
        {
          "output_type": "stream",
          "name": "stdout",
          "text": [
            "False\n"
          ]
        }
      ],
      "source": [
        "def canBeValid(s, locked):\n",
        "        stringLength = len(s)\n",
        "\n",
        "        if stringLength % 2 == 1:\n",
        "            return False\n",
        "\n",
        "        openIndices = []\n",
        "        unlockedIndices = []\n",
        "\n",
        "        for i in range(stringLength):\n",
        "            if locked[i] == '0':\n",
        "                unlockedIndices.append(i)\n",
        "            elif s[i] == '(':\n",
        "                openIndices.append(i)\n",
        "            elif s[i] == ')':\n",
        "                if openIndices:\n",
        "                    openIndices.pop()\n",
        "                elif unlockedIndices:\n",
        "                    unlockedIndices.pop()\n",
        "                else:\n",
        "                    return False\n",
        "\n",
        "        while openIndices and unlockedIndices and openIndices[-1] < unlockedIndices[-1]:\n",
        "            openIndices.pop()\n",
        "            unlockedIndices.pop()\n",
        "\n",
        "        if not openIndices and unlockedIndices:\n",
        "            return len(unlockedIndices) % 2 == 0\n",
        "\n",
        "        return not openIndices\n",
        "\n",
        "s = \"))()))\",\n",
        "locked = \"010100\"\n",
        "\n",
        "print(canBeValid(s, locked))"
      ]
    },
    {
      "cell_type": "code",
      "source": [],
      "metadata": {
        "id": "5tOdWa8akvB2"
      },
      "execution_count": null,
      "outputs": []
    }
  ]
}