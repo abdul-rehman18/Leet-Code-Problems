{
  "nbformat": 4,
  "nbformat_minor": 0,
  "metadata": {
    "colab": {
      "provenance": []
    },
    "kernelspec": {
      "name": "python3",
      "display_name": "Python 3"
    },
    "language_info": {
      "name": "python"
    }
  },
  "cells": [
    {
      "cell_type": "markdown",
      "source": [
        "# LeetCode Problem: Fizz Buzz"
      ],
      "metadata": {
        "id": "3HVkwyPHyWQh"
      }
    },
    {
      "cell_type": "code",
      "execution_count": 1,
      "metadata": {
        "colab": {
          "base_uri": "https://localhost:8080/"
        },
        "id": "DeRRDgGdyOHr",
        "outputId": "d9b6f74e-6180-4082-975f-e404b7ce4e51"
      },
      "outputs": [
        {
          "output_type": "stream",
          "name": "stdout",
          "text": [
            "['1', '2', 'Fizz', '4', 'Buzz']\n"
          ]
        }
      ],
      "source": [
        "def fizzBuzz(n):\n",
        "        ans = []\n",
        "        for i in range(1, n+1):\n",
        "            div_3 = (i % 3 == 0)\n",
        "            div_5 = (i % 5 == 0)\n",
        "\n",
        "            if div_3 and div_5:\n",
        "                ans.append(\"FizzBuzz\")\n",
        "            elif div_3:\n",
        "                ans.append(\"Fizz\")\n",
        "            elif div_5:\n",
        "                ans.append(\"Buzz\")\n",
        "            else:\n",
        "                ans.append(str(i))\n",
        "\n",
        "        return ans\n",
        "\n",
        "n=5\n",
        "print(fizzBuzz(n))\n"
      ]
    },
    {
      "cell_type": "code",
      "source": [],
      "metadata": {
        "id": "0bABB3XX0C9t"
      },
      "execution_count": null,
      "outputs": []
    }
  ]
}