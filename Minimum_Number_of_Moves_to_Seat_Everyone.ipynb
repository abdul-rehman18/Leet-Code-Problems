{
  "nbformat": 4,
  "nbformat_minor": 0,
  "metadata": {
    "colab": {
      "provenance": []
    },
    "kernelspec": {
      "name": "python3",
      "display_name": "Python 3"
    },
    "language_info": {
      "name": "python"
    }
  },
  "cells": [
    {
      "cell_type": "markdown",
      "source": [
        "# LeetCode Problem: Minimum Number of Moves to Seat Everyone"
      ],
      "metadata": {
        "id": "hReOWG4FU56j"
      }
    },
    {
      "cell_type": "code",
      "execution_count": 1,
      "metadata": {
        "colab": {
          "base_uri": "https://localhost:8080/"
        },
        "id": "Rznc_ALXT5iq",
        "outputId": "127aa69e-c8fa-48da-8a07-f086ef4f5d02"
      },
      "outputs": [
        {
          "output_type": "stream",
          "name": "stdout",
          "text": [
            "4\n"
          ]
        }
      ],
      "source": [
        "def minMovesToSeat(seats, students):\n",
        "        seats.sort()\n",
        "        students.sort()\n",
        "        count = 0\n",
        "        for i in range(len(seats)):\n",
        "            count += abs(seats[i] - students[i])\n",
        "        return count\n",
        "\n",
        "seats = [3,1,5]\n",
        "students = [2,7,4]\n",
        "print(minMovesToSeat(seats, students))"
      ]
    },
    {
      "cell_type": "code",
      "source": [],
      "metadata": {
        "id": "TGII7TSnVZ5m"
      },
      "execution_count": null,
      "outputs": []
    }
  ]
}