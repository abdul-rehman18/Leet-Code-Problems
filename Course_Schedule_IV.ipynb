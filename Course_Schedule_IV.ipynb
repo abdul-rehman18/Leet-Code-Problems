{
  "nbformat": 4,
  "nbformat_minor": 0,
  "metadata": {
    "colab": {
      "provenance": []
    },
    "kernelspec": {
      "name": "python3",
      "display_name": "Python 3"
    },
    "language_info": {
      "name": "python"
    }
  },
  "cells": [
    {
      "cell_type": "markdown",
      "source": [
        "# LeetCode Problem: Course Schedule IV"
      ],
      "metadata": {
        "id": "2K_TrDz0Bg2g"
      }
    },
    {
      "cell_type": "code",
      "execution_count": null,
      "metadata": {
        "id": "2dKsCrwHBeCU"
      },
      "outputs": [],
      "source": [
        "def checkIfPrerequisite(numCourses, prerequisites, queries):\n",
        "        adj = [[] for _ in range(numCourses)]\n",
        "        indegree = [0] * numCourses\n",
        "        for p in prerequisites:\n",
        "            adj[p[0]].append(p[1])\n",
        "            indegree[p[1]] += 1\n",
        "\n",
        "        q = deque()\n",
        "        for i in range(numCourses):\n",
        "            if indegree[i] == 0:\n",
        "                q.append(i)\n",
        "\n",
        "        mp = defaultdict(set)\n",
        "        while q:\n",
        "            curr = q.popleft()\n",
        "            for next_course in adj[curr]:\n",
        "                mp[next_course].add(curr)\n",
        "                mp[next_course].update(mp[curr])\n",
        "                indegree[next_course] -= 1\n",
        "                if indegree[next_course] == 0:\n",
        "                    q.append(next_course)\n",
        "\n",
        "        return [q[0] in mp[q[1]] for q in queries]\n",
        "\n",
        "numCourses = 2\n",
        "prerequisites = [[1,0]]\n",
        "queries = [[0,1],[1,0]]\n",
        "\n",
        "\n",
        "print(checkIfPrerequisite(numCourses, prerequisites, queries))"
      ]
    },
    {
      "cell_type": "code",
      "source": [],
      "metadata": {
        "id": "XV6or3AQB-wl"
      },
      "execution_count": null,
      "outputs": []
    }
  ]
}