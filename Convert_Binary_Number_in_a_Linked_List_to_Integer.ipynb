{
  "nbformat": 4,
  "nbformat_minor": 0,
  "metadata": {
    "colab": {
      "provenance": []
    },
    "kernelspec": {
      "name": "python3",
      "display_name": "Python 3"
    },
    "language_info": {
      "name": "python"
    }
  },
  "cells": [
    {
      "cell_type": "markdown",
      "source": [
        "# LeetCode Problem: Convert Binary Number in a Linked List to Integer"
      ],
      "metadata": {
        "id": "MMH-N97Kegck"
      }
    },
    {
      "cell_type": "code",
      "execution_count": null,
      "metadata": {
        "id": "6Rr1P6WqT3D5"
      },
      "outputs": [],
      "source": [
        "# Definition for singly-linked list.\n",
        "# class ListNode:\n",
        "#     def __init__(self, val=0, next=None):\n",
        "#         self.val = val\n",
        "#         self.next = next\n",
        "\n",
        "class Solution:\n",
        "    def getDecimalValue(self, head: Optional[ListNode]) -> int:\n",
        "        current_dec = 0\n",
        "        while head:\n",
        "            current_dec = current_dec * 2 + head.val\n",
        "            head = head.next\n",
        "        return current_dec"
      ]
    }
  ]
}