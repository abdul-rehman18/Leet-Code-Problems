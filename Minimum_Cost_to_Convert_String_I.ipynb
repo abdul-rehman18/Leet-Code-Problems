{
  "nbformat": 4,
  "nbformat_minor": 0,
  "metadata": {
    "colab": {
      "provenance": []
    },
    "kernelspec": {
      "name": "python3",
      "display_name": "Python 3"
    },
    "language_info": {
      "name": "python"
    }
  },
  "cells": [
    {
      "cell_type": "markdown",
      "source": [
        "# LeetCode Problem: Minimum Cost to Convert String I"
      ],
      "metadata": {
        "id": "nouVBa8HcuTU"
      }
    },
    {
      "cell_type": "code",
      "execution_count": 1,
      "metadata": {
        "id": "sYKnDfpOcFod",
        "colab": {
          "base_uri": "https://localhost:8080/"
        },
        "outputId": "29c94f38-bacf-493b-d8b7-3528e0eec2ea"
      },
      "outputs": [
        {
          "output_type": "stream",
          "name": "stdout",
          "text": [
            "The minimum cost to transform 'abc' to 'def' is: 60\n"
          ]
        }
      ],
      "source": [
        "from collections import defaultdict\n",
        "from heapq import heappush, heappop\n",
        "from math import inf\n",
        "from typing import List\n",
        "\n",
        "class Solution:\n",
        "    def minimumCostFrom(self, sourceChar):\n",
        "        bests = {}\n",
        "        seenCost = defaultdict(lambda: inf)\n",
        "        seenCost[sourceChar] = 0\n",
        "        frontier = [(0, sourceChar)]\n",
        "        while len(frontier) > 0:\n",
        "            reachCost, current = heappop(frontier)\n",
        "            if current in bests:\n",
        "                continue\n",
        "            bests[current] = reachCost\n",
        "            for d, edgeCost in self.edges[current].items():\n",
        "                totalCost = reachCost + edgeCost\n",
        "                if totalCost < seenCost[d]:\n",
        "                    heappush(frontier, (totalCost, d))\n",
        "                    seenCost[d] = totalCost\n",
        "        return bests\n",
        "\n",
        "    def minimumCost(self, source, target, original, changed, cost):\n",
        "        self.edges = defaultdict(lambda: {})\n",
        "        for i in range(len(original)):\n",
        "            s = original[i]\n",
        "            d = changed[i]\n",
        "            c = cost[i]\n",
        "            if d not in self.edges[s] or c < self.edges[s][d]:\n",
        "                self.edges[s][d] = c\n",
        "\n",
        "        bests = defaultdict(lambda: {})\n",
        "        totalCost = 0\n",
        "        for s, t in zip(source, target):\n",
        "            if s != t:\n",
        "                if t in bests[s]:\n",
        "                    totalCost += bests[s][t]\n",
        "                elif len(bests[s]) > 0:\n",
        "                    return -1\n",
        "                else:\n",
        "                    best = self.minimumCostFrom(s)\n",
        "                    bests[s] = best\n",
        "                    if t in best:\n",
        "                        totalCost += best[t]\n",
        "                    else:\n",
        "                        return -1\n",
        "        return totalCost\n",
        "\n",
        "def main():\n",
        "    # Example input data\n",
        "    source = \"abc\"\n",
        "    target = \"def\"\n",
        "    original = [\"a\", \"b\", \"c\", \"b\", \"c\", \"d\"]\n",
        "    changed = [\"d\", \"e\", \"f\", \"a\", \"e\", \"f\"]\n",
        "    cost = [10, 20, 30, 40, 50, 60]\n",
        "\n",
        "    solution = Solution()\n",
        "    result = solution.minimumCost(source, target, original, changed, cost)\n",
        "    print(f\"The minimum cost to transform '{source}' to '{target}' is: {result}\")\n",
        "\n",
        "if __name__ == \"__main__\":\n",
        "    main()\n"
      ]
    },
    {
      "cell_type": "code",
      "source": [],
      "metadata": {
        "id": "aM9-WpyJddZb"
      },
      "execution_count": null,
      "outputs": []
    }
  ]
}