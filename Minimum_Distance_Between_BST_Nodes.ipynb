{
  "nbformat": 4,
  "nbformat_minor": 0,
  "metadata": {
    "colab": {
      "provenance": []
    },
    "kernelspec": {
      "name": "python3",
      "display_name": "Python 3"
    },
    "language_info": {
      "name": "python"
    }
  },
  "cells": [
    {
      "cell_type": "markdown",
      "source": [
        "# LeetCode Problem: Minimum Distance Between BST Nodes"
      ],
      "metadata": {
        "id": "5nu1Ge05LdX_"
      }
    },
    {
      "cell_type": "code",
      "execution_count": 1,
      "metadata": {
        "colab": {
          "base_uri": "https://localhost:8080/"
        },
        "id": "5lyMjgIlLNCx",
        "outputId": "acd923e7-7593-4064-96ab-266b8e490d13"
      },
      "outputs": [
        {
          "output_type": "stream",
          "name": "stdout",
          "text": [
            "Minimum Absolute Difference in the BST: 1\n"
          ]
        }
      ],
      "source": [
        "# Definition for a binary tree node.\n",
        "class TreeNode:\n",
        "    def __init__(self, val=0, left=None, right=None):\n",
        "        self.val = val\n",
        "        self.left = left\n",
        "        self.right = right\n",
        "\n",
        "class Solution:\n",
        "    def minDiffInBST(self, root: TreeNode) -> int:\n",
        "        self.ans = float('inf')\n",
        "        self.pred = None\n",
        "        self.inorder(root)\n",
        "        return self.ans\n",
        "\n",
        "    def inorder(self, root: TreeNode) -> None:\n",
        "        if root is None:\n",
        "            return\n",
        "\n",
        "        self.inorder(root.left)\n",
        "        if self.pred is not None:\n",
        "            self.ans = min(self.ans, root.val - self.pred)\n",
        "        self.pred = root.val\n",
        "        self.inorder(root.right)\n",
        "\n",
        "\n",
        "root = TreeNode(4)\n",
        "root.left = TreeNode(2, TreeNode(1), TreeNode(3))\n",
        "root.right = TreeNode(6)\n",
        "\n",
        "solution = Solution()\n",
        "\n",
        "result = solution.minDiffInBST(root)\n",
        "\n",
        "print(\"Minimum Absolute Difference in the BST:\", result)\n"
      ]
    },
    {
      "cell_type": "code",
      "source": [],
      "metadata": {
        "id": "irQLBg7dLi47"
      },
      "execution_count": null,
      "outputs": []
    }
  ]
}