{
  "nbformat": 4,
  "nbformat_minor": 0,
  "metadata": {
    "colab": {
      "provenance": []
    },
    "kernelspec": {
      "name": "python3",
      "display_name": "Python 3"
    },
    "language_info": {
      "name": "python"
    }
  },
  "cells": [
    {
      "cell_type": "markdown",
      "source": [
        "# LeetCode Problem: Squares of a Sorted Array"
      ],
      "metadata": {
        "id": "9_viTjWTatlZ"
      }
    },
    {
      "cell_type": "code",
      "execution_count": 4,
      "metadata": {
        "colab": {
          "base_uri": "https://localhost:8080/"
        },
        "id": "1y2pGY-BYC0o",
        "outputId": "2b06ce22-8093-412b-a76b-2ea6c3397cb8"
      },
      "outputs": [
        {
          "output_type": "stream",
          "name": "stdout",
          "text": [
            "[0, 1, 9, 16, 100]\n"
          ]
        }
      ],
      "source": [
        "def sortedSquares(nums):\n",
        "  nums = [s*s for s in nums ]\n",
        "  return sorted(nums)\n",
        "\n",
        "nums = [-4,-1,0,3,10]\n",
        "print(sortedSquares(nums))"
      ]
    },
    {
      "cell_type": "code",
      "source": [],
      "metadata": {
        "id": "YeQ5B0YGZSCM"
      },
      "execution_count": null,
      "outputs": []
    }
  ]
}