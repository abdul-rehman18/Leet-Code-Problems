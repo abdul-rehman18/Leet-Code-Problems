{
  "nbformat": 4,
  "nbformat_minor": 0,
  "metadata": {
    "colab": {
      "provenance": []
    },
    "kernelspec": {
      "name": "python3",
      "display_name": "Python 3"
    },
    "language_info": {
      "name": "python"
    }
  },
  "cells": [
    {
      "cell_type": "markdown",
      "source": [
        "# LeetCode Problem: Redundant Connection"
      ],
      "metadata": {
        "id": "OFF7_GCHZyhB"
      }
    },
    {
      "cell_type": "code",
      "execution_count": null,
      "metadata": {
        "id": "1LYu7FwyZuVa"
      },
      "outputs": [],
      "source": [
        "class Solution:\n",
        "    def findRedundantConnection(self, edges):\n",
        "        root = list(range(len(edges) + 1)) # each node is root of own subtree\n",
        "\n",
        "        def find_root(node):\n",
        "            if root[node] != node:\n",
        "                root[node] = find_root(root[node]) # set root for node as root of subtree\n",
        "            return root[node] # found root of subtree\n",
        "\n",
        "        for node1, node2 in edges:\n",
        "            root1, root2 = find_root(node1), find_root(node2)\n",
        "\n",
        "            if root1 == root2:\n",
        "                return [node1, node2] # both nodes are already in same subtree\n",
        "\n",
        "            root[root2] = root1 # found new connection between nodes / subtrees\n",
        "            # root[root1] = root2 also works\n",
        "\n",
        "edges = [[1,2],[1,3],[2,3]]\n"
      ]
    }
  ]
}