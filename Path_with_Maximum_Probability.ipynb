{
  "nbformat": 4,
  "nbformat_minor": 0,
  "metadata": {
    "colab": {
      "provenance": []
    },
    "kernelspec": {
      "name": "python3",
      "display_name": "Python 3"
    },
    "language_info": {
      "name": "python"
    }
  },
  "cells": [
    {
      "cell_type": "markdown",
      "source": [
        "# LeetCode Problem: Path with Maximum Probability"
      ],
      "metadata": {
        "id": "0pgiz95lwGnj"
      }
    },
    {
      "cell_type": "code",
      "execution_count": 1,
      "metadata": {
        "colab": {
          "base_uri": "https://localhost:8080/"
        },
        "id": "oYaAufRAv20N",
        "outputId": "9a4bfa67-737e-4984-bc9b-ec92deeab918"
      },
      "outputs": [
        {
          "output_type": "stream",
          "name": "stdout",
          "text": [
            "0.25\n"
          ]
        }
      ],
      "source": [
        "def maxProbability(n, edges, succProb, start, end):\n",
        "        dist = [0] * n\n",
        "        dist[start] = 1\n",
        "\n",
        "        for _ in range(n - 1):\n",
        "            updated = False\n",
        "            for i, (u, v) in enumerate(edges):\n",
        "                if dist[u] * succProb[i] > dist[v]:\n",
        "                    dist[v] = dist[u] * succProb[i]\n",
        "                    updated = True\n",
        "                if dist[v] * succProb[i] > dist[u]:\n",
        "                    dist[u] = dist[v] * succProb[i]\n",
        "                    updated = True\n",
        "            if not updated:\n",
        "                break\n",
        "\n",
        "        return dist[end]\n",
        "\n",
        "n = 3\n",
        "edges = [[0,1],[1,2],[0,2]]\n",
        "succProb = [0.5,0.5,0.2]\n",
        "start = 0\n",
        "end = 2\n",
        "\n",
        "print(maxProbability(n, edges, succProb, start, end))\n"
      ]
    },
    {
      "cell_type": "code",
      "source": [],
      "metadata": {
        "id": "ynHzfG3ywwuN"
      },
      "execution_count": null,
      "outputs": []
    }
  ]
}