{
  "nbformat": 4,
  "nbformat_minor": 0,
  "metadata": {
    "colab": {
      "provenance": []
    },
    "kernelspec": {
      "name": "python3",
      "display_name": "Python 3"
    },
    "language_info": {
      "name": "python"
    }
  },
  "cells": [
    {
      "cell_type": "markdown",
      "source": [
        "# LeetCode Problem: Average Waiting Time"
      ],
      "metadata": {
        "id": "HTb831AdrTWc"
      }
    },
    {
      "cell_type": "code",
      "execution_count": 1,
      "metadata": {
        "colab": {
          "base_uri": "https://localhost:8080/"
        },
        "id": "4YvROtVDrPyF",
        "outputId": "2da9097e-9e9b-4ec4-d881-9050d72cfd38"
      },
      "outputs": [
        {
          "output_type": "stream",
          "name": "stdout",
          "text": [
            "5.0\n"
          ]
        }
      ],
      "source": [
        "def averageWaitingTime(customers):\n",
        "        available_at = 0\n",
        "        total_wait = 0\n",
        "        for arrival, t in customers:\n",
        "            available_at = max(available_at, arrival) + t\n",
        "            total_wait += available_at - arrival\n",
        "\n",
        "        return total_wait / len(customers)\n",
        "\n",
        "customers = [[1,2],[2,5],[4,3]]\n",
        "\n",
        "print(averageWaitingTime(customers))"
      ]
    },
    {
      "cell_type": "code",
      "source": [],
      "metadata": {
        "id": "HEbZdfkorlYF"
      },
      "execution_count": null,
      "outputs": []
    }
  ]
}