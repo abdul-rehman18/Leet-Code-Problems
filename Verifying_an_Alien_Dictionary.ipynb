{
  "nbformat": 4,
  "nbformat_minor": 0,
  "metadata": {
    "colab": {
      "provenance": []
    },
    "kernelspec": {
      "name": "python3",
      "display_name": "Python 3"
    },
    "language_info": {
      "name": "python"
    }
  },
  "cells": [
    {
      "cell_type": "markdown",
      "source": [
        "# LeetCode Problem: Verifying an Alien Dictionary"
      ],
      "metadata": {
        "id": "nvpkqn1diinS"
      }
    },
    {
      "cell_type": "code",
      "execution_count": 1,
      "metadata": {
        "colab": {
          "base_uri": "https://localhost:8080/"
        },
        "id": "anEggltsffDw",
        "outputId": "10b240e0-c546-4300-b47b-9ffa83b8945e"
      },
      "outputs": [
        {
          "output_type": "stream",
          "name": "stdout",
          "text": [
            "True\n"
          ]
        }
      ],
      "source": [
        "def isAlienSorted(words, order):\n",
        "        # Iterate through each word in the list\n",
        "        for i in range(len(words)):\n",
        "            # Convert each word to its corresponding order according to the alien language\n",
        "            words[i] = ''.join([chr(order.index(words[i][j])) for j in range(len(words[i]))])\n",
        "        # Sort the words based on the alien language order\n",
        "        return words == sorted(words)\n",
        "\n",
        "\n",
        "words = [\"hello\",\"leetcode\"]\n",
        "order = \"hlabcdefgijkmnopqrstuvwxyz\"\n",
        "print(isAlienSorted(words, order))"
      ]
    },
    {
      "cell_type": "code",
      "source": [],
      "metadata": {
        "id": "KqZUc2-fieaN"
      },
      "execution_count": null,
      "outputs": []
    }
  ]
}