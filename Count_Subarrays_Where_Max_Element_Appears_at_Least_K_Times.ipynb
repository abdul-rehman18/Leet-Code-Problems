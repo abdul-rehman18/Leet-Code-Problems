{
  "nbformat": 4,
  "nbformat_minor": 0,
  "metadata": {
    "colab": {
      "provenance": []
    },
    "kernelspec": {
      "name": "python3",
      "display_name": "Python 3"
    },
    "language_info": {
      "name": "python"
    }
  },
  "cells": [
    {
      "cell_type": "markdown",
      "source": [
        "# LeetCode Problem: Count Subarrays Where Max Element Appears at Least K Times\n"
      ],
      "metadata": {
        "id": "IfKBNIHpUNYR"
      }
    },
    {
      "cell_type": "code",
      "execution_count": 1,
      "metadata": {
        "colab": {
          "base_uri": "https://localhost:8080/"
        },
        "id": "I4NoVzonTVPn",
        "outputId": "451a474f-6848-45dd-dedb-6979c2a5b3ab"
      },
      "outputs": [
        {
          "output_type": "stream",
          "name": "stdout",
          "text": [
            "6\n"
          ]
        }
      ],
      "source": [
        "def countSubarrays(nums, k):\n",
        "        M=max(nums)\n",
        "        n=len(nums)\n",
        "        cnt=0\n",
        "        ans=0\n",
        "        l=0\n",
        "        for r in range(n):\n",
        "            if nums[r]==M: cnt+=1\n",
        "            while cnt>=k:\n",
        "                if nums[l]==M: cnt-=1\n",
        "                l+=1\n",
        "            ans+=l\n",
        "        return ans\n",
        "\n",
        "nums = [1,3,2,3,3]\n",
        "k = 2\n",
        "print(countSubarrays(nums, k))"
      ]
    },
    {
      "cell_type": "code",
      "source": [],
      "metadata": {
        "id": "uuqXHqyLT1o8"
      },
      "execution_count": null,
      "outputs": []
    }
  ]
}