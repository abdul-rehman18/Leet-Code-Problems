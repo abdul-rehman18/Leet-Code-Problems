{
  "nbformat": 4,
  "nbformat_minor": 0,
  "metadata": {
    "colab": {
      "provenance": []
    },
    "kernelspec": {
      "name": "python3",
      "display_name": "Python 3"
    },
    "language_info": {
      "name": "python"
    }
  },
  "cells": [
    {
      "cell_type": "markdown",
      "source": [
        "# LeetCode Problem: Minimum Index of a Valid Split"
      ],
      "metadata": {
        "id": "0ESURzHqFfWB"
      }
    },
    {
      "cell_type": "code",
      "execution_count": null,
      "metadata": {
        "id": "Je1e24kVFXvJ"
      },
      "outputs": [],
      "source": [
        "class Solution:\n",
        "    def minimumIndex(self, nums: List[int]) -> int:\n",
        "        n=len(nums)\n",
        "        cnt, xM=0, 0\n",
        "        for x in nums:\n",
        "            if cnt==0: xM=x\n",
        "            cnt+=(x==xM)*2-1\n",
        "\n",
        "        cntL, cntR, i=0, 0, 0\n",
        "        while i<n and cntL*2<=i:\n",
        "            cntL+=nums[i]==xM\n",
        "            i+=1\n",
        "        i-=1\n",
        "        for j in range(i+1, n):\n",
        "            cntR+=nums[j]==xM\n",
        "\n",
        "        return i if cntR*2>(n-i-1) else -1\n",
        ""
      ]
    }
  ]
}