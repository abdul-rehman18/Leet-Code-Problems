{
  "nbformat": 4,
  "nbformat_minor": 0,
  "metadata": {
    "colab": {
      "provenance": []
    },
    "kernelspec": {
      "name": "python3",
      "display_name": "Python 3"
    },
    "language_info": {
      "name": "python"
    }
  },
  "cells": [
    {
      "cell_type": "markdown",
      "source": [
        "# LeetCode Problem: Count Days Without Meetings"
      ],
      "metadata": {
        "id": "D75haDcYpycp"
      }
    },
    {
      "cell_type": "code",
      "execution_count": null,
      "metadata": {
        "id": "-rUifilhpjAW"
      },
      "outputs": [],
      "source": [
        "class Solution:\n",
        "    def countDays(self, days: int, meetings: List[List[int]]) -> int:\n",
        "        meetings.sort()\n",
        "        merged_meetings = []\n",
        "        for meeting in meetings:\n",
        "            if not merged_meetings or meeting[0] > merged_meetings[-1][1]:\n",
        "                merged_meetings.append(meeting)\n",
        "            else:\n",
        "                merged_meetings[-1][1] = max(merged_meetings[-1][1], meeting[1])\n",
        "\n",
        "        meeting_days_count = 0\n",
        "        for start, end in merged_meetings:\n",
        "            meeting_days_count += end - start + 1\n",
        "\n",
        "        return days - meeting_days_count\n",
        ""
      ]
    }
  ]
}