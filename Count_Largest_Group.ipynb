{
  "nbformat": 4,
  "nbformat_minor": 0,
  "metadata": {
    "colab": {
      "provenance": []
    },
    "kernelspec": {
      "name": "python3",
      "display_name": "Python 3"
    },
    "language_info": {
      "name": "python"
    }
  },
  "cells": [
    {
      "cell_type": "markdown",
      "source": [
        "# LeetCode Problems: Count Largest Group"
      ],
      "metadata": {
        "id": "gt-OZ5kMa1V0"
      }
    },
    {
      "cell_type": "code",
      "execution_count": null,
      "metadata": {
        "id": "4ToFOTLaaura"
      },
      "outputs": [],
      "source": [
        "class Solution:\n",
        "    def countLargestGroup(self, n: int) -> int:\n",
        "        freq=[0]*37\n",
        "        maxF, sz=1, 1\n",
        "        freq[1]=1\n",
        "        for x in range(2, n+1):\n",
        "            digit_sum, y=0, x\n",
        "            while y>0:\n",
        "                q, r=divmod(y, 10)\n",
        "                digit_sum+=r\n",
        "                y=q\n",
        "            freq[digit_sum]+=1\n",
        "            f=freq[digit_sum]\n",
        "            if f==maxF:\n",
        "                sz+=1\n",
        "            elif f>maxF:\n",
        "                maxF=f\n",
        "                sz=1\n",
        "        return sz"
      ]
    }
  ]
}