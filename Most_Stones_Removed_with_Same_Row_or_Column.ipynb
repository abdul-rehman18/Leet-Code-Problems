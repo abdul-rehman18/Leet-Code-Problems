{
  "nbformat": 4,
  "nbformat_minor": 0,
  "metadata": {
    "colab": {
      "provenance": []
    },
    "kernelspec": {
      "name": "python3",
      "display_name": "Python 3"
    },
    "language_info": {
      "name": "python"
    }
  },
  "cells": [
    {
      "cell_type": "markdown",
      "source": [
        "# LeetCode Problem: Most Stones Removed with Same Row or Column"
      ],
      "metadata": {
        "id": "vnSvx-9_wh97"
      }
    },
    {
      "cell_type": "code",
      "execution_count": 2,
      "metadata": {
        "colab": {
          "base_uri": "https://localhost:8080/"
        },
        "id": "mvGBG5x0wR6F",
        "outputId": "c1b538ce-6bcb-4745-d32f-b094c2cb4bc9"
      },
      "outputs": [
        {
          "output_type": "stream",
          "name": "stdout",
          "text": [
            "5\n"
          ]
        }
      ],
      "source": [
        "class Solution:\n",
        "    def removeStones(self, stones):\n",
        "        n, M=len(stones), 10001\n",
        "        N=2*M+1\n",
        "        root=list(range(N))\n",
        "        Size=[1]*N\n",
        "        merge=0\n",
        "\n",
        "        def Find(x):\n",
        "            if x==root[x]: return x\n",
        "            root[x]=Find(root[x])\n",
        "            return root[x]\n",
        "\n",
        "        def Union(x, y):\n",
        "            nonlocal merge\n",
        "            x, y=Find(x), Find(y)\n",
        "            if x==y: return False\n",
        "            if Size[x]>Size[y]:\n",
        "                Size[x]+=Size[y]\n",
        "                root[y]=x\n",
        "            else:\n",
        "                Size[y]+=Size[x]\n",
        "                root[x]=y\n",
        "            merge+=1\n",
        "            return True\n",
        "        cntRC=[False]*N\n",
        "        for i, j in stones:\n",
        "            Union(i, M+j)\n",
        "            cntRC[i]=cntRC[M+j]=True\n",
        "        return n-cntRC.count(True)+merge\n",
        "\n",
        "\n",
        "\n",
        "stones = [[0,0],[0,1],[1,0],[1,2],[2,1],[2,2]]\n",
        "\n",
        "print(Solution().removeStones(stones))\n",
        "\n"
      ]
    },
    {
      "cell_type": "code",
      "source": [],
      "metadata": {
        "id": "WBw1BtvgxH9a"
      },
      "execution_count": null,
      "outputs": []
    }
  ]
}