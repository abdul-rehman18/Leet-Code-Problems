{
  "nbformat": 4,
  "nbformat_minor": 0,
  "metadata": {
    "colab": {
      "provenance": []
    },
    "kernelspec": {
      "name": "python3",
      "display_name": "Python 3"
    },
    "language_info": {
      "name": "python"
    }
  },
  "cells": [
    {
      "cell_type": "markdown",
      "source": [
        "# LeetCode Problem: Arranging Coins"
      ],
      "metadata": {
        "id": "wtUEJvDfk2FI"
      }
    },
    {
      "cell_type": "code",
      "execution_count": 8,
      "metadata": {
        "colab": {
          "base_uri": "https://localhost:8080/"
        },
        "id": "cJJU7UwyforJ",
        "outputId": "4bf9a00f-913e-42a1-c8dd-6f11e651be1e"
      },
      "outputs": [
        {
          "output_type": "stream",
          "name": "stdout",
          "text": [
            "3\n"
          ]
        }
      ],
      "source": [
        "def arrangeCoins(n):\n",
        "        l = 1\n",
        "        res=0\n",
        "        while(1):\n",
        "            n = n-l\n",
        "            if(n<0):\n",
        "                break\n",
        "            l = l+1\n",
        "            res=l-1\n",
        "        return res\n",
        "\n",
        "n=8\n",
        "res = arrangeCoins(n)\n",
        "print(res)"
      ]
    },
    {
      "cell_type": "code",
      "source": [],
      "metadata": {
        "id": "ZrRV3gTzi3jY"
      },
      "execution_count": null,
      "outputs": []
    }
  ]
}