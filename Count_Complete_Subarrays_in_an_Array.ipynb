{
  "nbformat": 4,
  "nbformat_minor": 0,
  "metadata": {
    "colab": {
      "provenance": []
    },
    "kernelspec": {
      "name": "python3",
      "display_name": "Python 3"
    },
    "language_info": {
      "name": "python"
    }
  },
  "cells": [
    {
      "cell_type": "markdown",
      "source": [
        "# LeetCode Problem: Count Complete Subarrays in an Array"
      ],
      "metadata": {
        "id": "ULVGd8SlYqrF"
      }
    },
    {
      "cell_type": "code",
      "execution_count": null,
      "metadata": {
        "id": "QnWlMM_kYj-I"
      },
      "outputs": [],
      "source": [
        "class Solution(object):\n",
        "    def countCompleteSubarrays(self, nums):\n",
        "        k = len(set(nums))\n",
        "        res = 0\n",
        "        for i in range(len(nums)):\n",
        "            st = set()\n",
        "            for j in range(i, len(nums)):\n",
        "                st.add(nums[j])\n",
        "                if len(st) == k:\n",
        "                    res += 1\n",
        "        return res"
      ]
    }
  ]
}