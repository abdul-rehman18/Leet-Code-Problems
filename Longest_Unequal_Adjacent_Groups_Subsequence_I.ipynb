{
  "nbformat": 4,
  "nbformat_minor": 0,
  "metadata": {
    "colab": {
      "provenance": []
    },
    "kernelspec": {
      "name": "python3",
      "display_name": "Python 3"
    },
    "language_info": {
      "name": "python"
    }
  },
  "cells": [
    {
      "cell_type": "markdown",
      "source": [
        "# LeetCode Problem: Longest Unequal Adjacent Groups Subsequence I"
      ],
      "metadata": {
        "id": "eqMGR7sKSXI0"
      }
    },
    {
      "cell_type": "code",
      "execution_count": null,
      "metadata": {
        "id": "NJadgcgcSHjJ"
      },
      "outputs": [],
      "source": [
        "class Solution:\n",
        "    def getLongestSubsequence(self, words, groups):\n",
        "        result = []\n",
        "        last = -1\n",
        "        for i in range(len(words)):\n",
        "            if groups[i] != last:\n",
        "                result.append(words[i])\n",
        "                last = groups[i]\n",
        "        return result"
      ]
    }
  ]
}