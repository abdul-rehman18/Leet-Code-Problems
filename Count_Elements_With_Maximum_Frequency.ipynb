{
  "nbformat": 4,
  "nbformat_minor": 0,
  "metadata": {
    "colab": {
      "provenance": []
    },
    "kernelspec": {
      "name": "python3",
      "display_name": "Python 3"
    },
    "language_info": {
      "name": "python"
    }
  },
  "cells": [
    {
      "cell_type": "markdown",
      "source": [
        "# LeetCode Problem: Count Elements With Maximum Frequency"
      ],
      "metadata": {
        "id": "k6USfPaEuZPJ"
      }
    },
    {
      "cell_type": "code",
      "execution_count": 5,
      "metadata": {
        "colab": {
          "base_uri": "https://localhost:8080/"
        },
        "id": "t4noyqSMsLpl",
        "outputId": "d376454d-fb3b-4bd3-ea74-1363df6c0c51"
      },
      "outputs": [
        {
          "output_type": "stream",
          "name": "stdout",
          "text": [
            "4\n"
          ]
        }
      ],
      "source": [
        "import collections\n",
        "def maxFrequencyElements(nums):\n",
        "        fc = collections.Counter(nums)\n",
        "        mf = max(fc.values())\n",
        "        f = [i for i,f in fc.items() if f == mf]\n",
        "        res = mf * len(f)\n",
        "        return res\n",
        "\n",
        "nums = [1,2,2,3,1,4]\n",
        "print(maxFrequencyElements(nums))"
      ]
    },
    {
      "cell_type": "code",
      "source": [],
      "metadata": {
        "id": "hTg5eYRoucMl"
      },
      "execution_count": null,
      "outputs": []
    }
  ]
}