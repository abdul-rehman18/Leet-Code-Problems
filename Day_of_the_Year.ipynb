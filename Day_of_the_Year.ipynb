{
  "nbformat": 4,
  "nbformat_minor": 0,
  "metadata": {
    "colab": {
      "provenance": []
    },
    "kernelspec": {
      "name": "python3",
      "display_name": "Python 3"
    },
    "language_info": {
      "name": "python"
    }
  },
  "cells": [
    {
      "cell_type": "markdown",
      "source": [
        "# LeetCode Problem: Day of the Year"
      ],
      "metadata": {
        "id": "yzv2lwgLahDk"
      }
    },
    {
      "cell_type": "code",
      "execution_count": 1,
      "metadata": {
        "colab": {
          "base_uri": "https://localhost:8080/"
        },
        "id": "vhMH7xj3Zf6I",
        "outputId": "ada72d1b-6361-4c21-baa4-6483f3e13f4f"
      },
      "outputs": [
        {
          "output_type": "stream",
          "name": "stdout",
          "text": [
            "9\n"
          ]
        }
      ],
      "source": [
        "def dayOfYear(date):\n",
        "        y,m,d = map(int, date.split('-'))\n",
        "        if (y%400==0 or (y%100!=0 and y%4==0)) and m>2: d+=1\n",
        "        months = [31, 28, 31, 30, 31, 30, 31, 31, 30, 31, 30, 31]\n",
        "        for i in range(1, m):\n",
        "            d+=months[i-1]\n",
        "        return d\n",
        "\n",
        "date = \"2019-01-09\"\n",
        "print(dayOfYear(date))"
      ]
    },
    {
      "cell_type": "code",
      "source": [],
      "metadata": {
        "id": "x_1ECYR0bXIy"
      },
      "execution_count": null,
      "outputs": []
    }
  ]
}