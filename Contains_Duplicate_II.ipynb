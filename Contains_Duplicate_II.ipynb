{
  "nbformat": 4,
  "nbformat_minor": 0,
  "metadata": {
    "colab": {
      "provenance": []
    },
    "kernelspec": {
      "name": "python3",
      "display_name": "Python 3"
    },
    "language_info": {
      "name": "python"
    }
  },
  "cells": [
    {
      "cell_type": "markdown",
      "source": [
        "# LeetCode Problem:Contains Duplicate II"
      ],
      "metadata": {
        "id": "71t_V4Q9hUZU"
      }
    },
    {
      "cell_type": "code",
      "execution_count": 1,
      "metadata": {
        "colab": {
          "base_uri": "https://localhost:8080/"
        },
        "id": "k5WbcShNhPt8",
        "outputId": "b5461598-1813-4fb3-f237-f408e560e7f9"
      },
      "outputs": [
        {
          "output_type": "stream",
          "name": "stdout",
          "text": [
            "True\n"
          ]
        }
      ],
      "source": [
        "def containsNearbyDuplicate(nums, k):\n",
        "  h ={}\n",
        "  for i,n in enumerate(nums):\n",
        "    if n in h and abs(i-h[n])<=k:\n",
        "      return True\n",
        "    else:\n",
        "      h[n]=i\n",
        "  return False\n",
        "\n",
        "nums = [1,2,3,1]\n",
        "k = 3\n",
        "print(containsNearbyDuplicate(nums,k))"
      ]
    },
    {
      "cell_type": "code",
      "source": [],
      "metadata": {
        "id": "fzcFVLXDjChn"
      },
      "execution_count": null,
      "outputs": []
    }
  ]
}