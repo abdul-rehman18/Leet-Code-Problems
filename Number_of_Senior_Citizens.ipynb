{
  "nbformat": 4,
  "nbformat_minor": 0,
  "metadata": {
    "colab": {
      "provenance": []
    },
    "kernelspec": {
      "name": "python3",
      "display_name": "Python 3"
    },
    "language_info": {
      "name": "python"
    }
  },
  "cells": [
    {
      "cell_type": "markdown",
      "source": [
        "# LeetCode Problem: Number of Senior Citizens"
      ],
      "metadata": {
        "id": "d8M709wbJnfa"
      }
    },
    {
      "cell_type": "code",
      "execution_count": 1,
      "metadata": {
        "colab": {
          "base_uri": "https://localhost:8080/"
        },
        "id": "ixvO-r1-IQaP",
        "outputId": "129527ae-9445-4d15-aa5f-85381e27950e"
      },
      "outputs": [
        {
          "output_type": "stream",
          "name": "stdout",
          "text": [
            "2\n"
          ]
        }
      ],
      "source": [
        "def countSeniors(details):\n",
        "        counter = 0\n",
        "        for i in details:\n",
        "            if int(i[11:13]) > 60:\n",
        "                counter+=1\n",
        "        return counter\n",
        "\n",
        "details = [\"7868190130M7522\",\"5303914400F9211\",\"9273338290F4010\"]\n",
        "\n",
        "\n",
        "print(countSeniors(details))"
      ]
    },
    {
      "cell_type": "code",
      "source": [],
      "metadata": {
        "id": "IxU3GR8CJ--C"
      },
      "execution_count": null,
      "outputs": []
    }
  ]
}