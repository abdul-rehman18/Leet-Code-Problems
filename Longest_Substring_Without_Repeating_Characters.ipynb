{
  "nbformat": 4,
  "nbformat_minor": 0,
  "metadata": {
    "colab": {
      "provenance": []
    },
    "kernelspec": {
      "name": "python3",
      "display_name": "Python 3"
    },
    "language_info": {
      "name": "python"
    }
  },
  "cells": [
    {
      "cell_type": "markdown",
      "source": [
        "# LeetCode Problem: Longest Substring Without Repeating Characters"
      ],
      "metadata": {
        "id": "TLuS-lUvlYl8"
      }
    },
    {
      "cell_type": "code",
      "execution_count": 8,
      "metadata": {
        "colab": {
          "base_uri": "https://localhost:8080/"
        },
        "id": "kUAdxHLVhKet",
        "outputId": "f6383323-9177-49e3-d564-4495673df5bd"
      },
      "outputs": [
        {
          "output_type": "stream",
          "name": "stdout",
          "text": [
            "3\n"
          ]
        }
      ],
      "source": [
        "def lengthOfLongestSubstring(s):\n",
        "        n = len(s)\n",
        "        max_length = 0\n",
        "        start = 0\n",
        "        end = 0\n",
        "        char_set = set()\n",
        "\n",
        "        while start < n and end < n:\n",
        "            if s[end] not in char_set:\n",
        "                char_set.add(s[end])\n",
        "                end += 1\n",
        "                max_length = max(max_length, end - start)\n",
        "            else:\n",
        "                char_set.remove(s[start])\n",
        "                start += 1\n",
        "\n",
        "        return max_length\n",
        "\n",
        "\n",
        "s = \"pwwkew\"\n",
        "print(lengthOfLongestSubstring(s))\n"
      ]
    },
    {
      "cell_type": "code",
      "source": [],
      "metadata": {
        "id": "uHyK2cpehLFn"
      },
      "execution_count": null,
      "outputs": []
    }
  ]
}