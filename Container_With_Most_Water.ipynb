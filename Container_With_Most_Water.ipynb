{
  "nbformat": 4,
  "nbformat_minor": 0,
  "metadata": {
    "colab": {
      "provenance": []
    },
    "kernelspec": {
      "name": "python3",
      "display_name": "Python 3"
    },
    "language_info": {
      "name": "python"
    }
  },
  "cells": [
    {
      "cell_type": "markdown",
      "source": [
        "# LeetCode Problem: Container With Most Water"
      ],
      "metadata": {
        "id": "Utj3PW1QYrIM"
      }
    },
    {
      "cell_type": "code",
      "execution_count": 1,
      "metadata": {
        "colab": {
          "base_uri": "https://localhost:8080/"
        },
        "id": "CKVWb4SJT4ny",
        "outputId": "97a6bc03-8822-4536-a723-4f3f94227efd"
      },
      "outputs": [
        {
          "output_type": "stream",
          "name": "stdout",
          "text": [
            "49\n"
          ]
        }
      ],
      "source": [
        "def maxArea(height):\n",
        "        ma = 0\n",
        "        l,r = 0, len(height)-1\n",
        "        while l < r:\n",
        "            a = (r-l) * min(height[r],height[l])\n",
        "            ma = max(ma,a)\n",
        "            if height[l] < height[r]:\n",
        "                l += 1\n",
        "            else:\n",
        "                r -= 1\n",
        "        return ma\n",
        "\n",
        "height = [1,8,6,2,5,4,8,3,7]\n",
        "print(maxArea(height))"
      ]
    },
    {
      "cell_type": "code",
      "source": [],
      "metadata": {
        "id": "b4v-IeitY4Qo"
      },
      "execution_count": null,
      "outputs": []
    }
  ]
}