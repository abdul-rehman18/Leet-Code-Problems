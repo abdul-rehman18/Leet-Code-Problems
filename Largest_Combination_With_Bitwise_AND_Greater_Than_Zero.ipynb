{
  "nbformat": 4,
  "nbformat_minor": 0,
  "metadata": {
    "colab": {
      "provenance": []
    },
    "kernelspec": {
      "name": "python3",
      "display_name": "Python 3"
    },
    "language_info": {
      "name": "python"
    }
  },
  "cells": [
    {
      "cell_type": "markdown",
      "source": [
        "# LeetCode Problem: Largest Combination With Bitwise AND Greater Than Zero"
      ],
      "metadata": {
        "id": "zADrsDGf6LjM"
      }
    },
    {
      "cell_type": "code",
      "execution_count": 1,
      "metadata": {
        "colab": {
          "base_uri": "https://localhost:8080/"
        },
        "id": "EuOo3h9v6GXL",
        "outputId": "9cfa08d6-6904-4443-c256-acb6705213ec"
      },
      "outputs": [
        {
          "output_type": "stream",
          "name": "stdout",
          "text": [
            "4\n"
          ]
        }
      ],
      "source": [
        "def largestCombination(candidates):\n",
        "        ans = 0\n",
        "        for i in range(32):\n",
        "            cnt = sum(1 for candidate in candidates if candidate & (1 << i))\n",
        "            ans = max(ans, cnt)\n",
        "        return ans\n",
        "\n",
        "\n",
        "candidates = [16,17,71,62,12,24,14]\n",
        "\n",
        "print(largestCombination(candidates))\n"
      ]
    },
    {
      "cell_type": "code",
      "source": [],
      "metadata": {
        "id": "JN-uFpFb6d8x"
      },
      "execution_count": null,
      "outputs": []
    }
  ]
}