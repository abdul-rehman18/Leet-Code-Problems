{
  "nbformat": 4,
  "nbformat_minor": 0,
  "metadata": {
    "colab": {
      "provenance": []
    },
    "kernelspec": {
      "name": "python3",
      "display_name": "Python 3"
    },
    "language_info": {
      "name": "python"
    }
  },
  "cells": [
    {
      "cell_type": "markdown",
      "source": [
        "# LeetCode Problem: Relative Ranks"
      ],
      "metadata": {
        "id": "3lrIuGfJW1_3"
      }
    },
    {
      "cell_type": "code",
      "execution_count": 1,
      "metadata": {
        "colab": {
          "base_uri": "https://localhost:8080/"
        },
        "id": "nNN2y3-LT8ix",
        "outputId": "cbaaabee-98f9-4512-d388-b16a6f168f22"
      },
      "outputs": [
        {
          "output_type": "stream",
          "name": "stdout",
          "text": [
            "['Gold Medal', '5', 'Bronze Medal', 'Silver Medal', '4']\n"
          ]
        }
      ],
      "source": [
        "def findRelativeRanks(score):\n",
        "        rank = [\"Gold Medal\", \"Silver Medal\", \"Bronze Medal\"] + list(map(str, range(4, len(score) + 1)))\n",
        "        n_s = sorted(score,reverse=True)\n",
        "        m = dict(zip(n_s,rank))\n",
        "        return [m.get(s) for s in score]\n",
        "\n",
        "\n",
        "score = [10,3,8,9,4]\n",
        "print(findRelativeRanks(score))"
      ]
    },
    {
      "cell_type": "code",
      "source": [],
      "metadata": {
        "id": "gQ18i6_bXEn-"
      },
      "execution_count": null,
      "outputs": []
    }
  ]
}