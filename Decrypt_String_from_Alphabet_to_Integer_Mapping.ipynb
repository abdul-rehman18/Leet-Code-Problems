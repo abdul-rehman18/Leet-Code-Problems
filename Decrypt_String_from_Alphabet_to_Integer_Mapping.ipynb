{
  "nbformat": 4,
  "nbformat_minor": 0,
  "metadata": {
    "colab": {
      "provenance": []
    },
    "kernelspec": {
      "name": "python3",
      "display_name": "Python 3"
    },
    "language_info": {
      "name": "python"
    }
  },
  "cells": [
    {
      "cell_type": "markdown",
      "source": [
        "# Decrypt String from Alphabet to Integer Mapping"
      ],
      "metadata": {
        "id": "PHfXjq3JdfUA"
      }
    },
    {
      "cell_type": "code",
      "execution_count": null,
      "metadata": {
        "id": "U8kYt_Nhc45J"
      },
      "outputs": [],
      "source": [
        "class Solution:\n",
        "    def freqAlphabets(self, s: str) -> str:\n",
        "        for i in range(26,0,-1): s = s.replace(str(i)+'#'*(i>9),chr(96+i))\n",
        "        return s\n"
      ]
    }
  ]
}