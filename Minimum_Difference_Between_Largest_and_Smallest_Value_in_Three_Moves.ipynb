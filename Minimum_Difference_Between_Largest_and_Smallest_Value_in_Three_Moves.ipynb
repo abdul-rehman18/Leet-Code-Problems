{
  "nbformat": 4,
  "nbformat_minor": 0,
  "metadata": {
    "colab": {
      "provenance": []
    },
    "kernelspec": {
      "name": "python3",
      "display_name": "Python 3"
    },
    "language_info": {
      "name": "python"
    }
  },
  "cells": [
    {
      "cell_type": "markdown",
      "source": [
        "# LeetCode Problem: Minimum Difference Between Largest and Smallest Value in Three Moves"
      ],
      "metadata": {
        "id": "xdulcoU2c5Wu"
      }
    },
    {
      "cell_type": "code",
      "execution_count": 1,
      "metadata": {
        "colab": {
          "base_uri": "https://localhost:8080/"
        },
        "id": "tyjVpVRLcy3M",
        "outputId": "7cb7d310-6d3b-4c52-8012-d38dec187480"
      },
      "outputs": [
        {
          "output_type": "stream",
          "name": "stdout",
          "text": [
            "0\n"
          ]
        }
      ],
      "source": [
        "def minDifference(nums):\n",
        "        n = len(nums)\n",
        "        if n <= 4:\n",
        "            return 0\n",
        "        nums.sort()\n",
        "        min_diff = min(\n",
        "            nums[n-1] - nums[3],\n",
        "            nums[n-2] - nums[2],\n",
        "            nums[n-3] - nums[1],\n",
        "            nums[n-4] - nums[0]\n",
        "        )\n",
        "        return min_diff\n",
        "nums = [5,3,2,4]\n",
        "print(minDifference(nums))\n",
        "\n"
      ]
    },
    {
      "cell_type": "code",
      "source": [],
      "metadata": {
        "id": "a3uScmmFdUA2"
      },
      "execution_count": null,
      "outputs": []
    }
  ]
}