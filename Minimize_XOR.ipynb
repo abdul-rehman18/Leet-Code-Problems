{
  "nbformat": 4,
  "nbformat_minor": 0,
  "metadata": {
    "colab": {
      "provenance": []
    },
    "kernelspec": {
      "name": "python3",
      "display_name": "Python 3"
    },
    "language_info": {
      "name": "python"
    }
  },
  "cells": [
    {
      "cell_type": "markdown",
      "source": [
        "# LeetCode Problem: Minimize XOR"
      ],
      "metadata": {
        "id": "G4nsBnhh8HFL"
      }
    },
    {
      "cell_type": "code",
      "execution_count": 1,
      "metadata": {
        "colab": {
          "base_uri": "https://localhost:8080/"
        },
        "id": "tlc_QPsb7QMo",
        "outputId": "df391b2e-5bbc-4b23-9b1c-f1654a630c2b"
      },
      "outputs": [
        {
          "output_type": "stream",
          "name": "stdout",
          "text": [
            "3\n"
          ]
        }
      ],
      "source": [
        "def minimizeXor(num1, num2):\n",
        "        a, b = bin(num1).count('1'), bin(num2).count('1')\n",
        "        res = num1\n",
        "        for i in range(32):\n",
        "            if a > b and (1 << i) & num1 > 0:\n",
        "                res ^= 1 << i\n",
        "                a -= 1\n",
        "            if a < b and (1 << i) & num1 == 0:\n",
        "                res ^= 1 << i\n",
        "                a += 1\n",
        "        return res\n",
        "\n",
        "num1 = 3\n",
        "num2 = 5\n",
        "\n",
        "print(minimizeXor(num1, num2))"
      ]
    },
    {
      "cell_type": "code",
      "source": [],
      "metadata": {
        "id": "TWLm3fGL8WWZ"
      },
      "execution_count": null,
      "outputs": []
    }
  ]
}