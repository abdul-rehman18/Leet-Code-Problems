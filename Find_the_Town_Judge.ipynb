{
  "nbformat": 4,
  "nbformat_minor": 0,
  "metadata": {
    "colab": {
      "provenance": []
    },
    "kernelspec": {
      "name": "python3",
      "display_name": "Python 3"
    },
    "language_info": {
      "name": "python"
    }
  },
  "cells": [
    {
      "cell_type": "markdown",
      "source": [
        "# LeetCode Problem: Find the Town Judge"
      ],
      "metadata": {
        "id": "n2B4emDUcAy3"
      }
    },
    {
      "cell_type": "code",
      "execution_count": 2,
      "metadata": {
        "colab": {
          "base_uri": "https://localhost:8080/"
        },
        "id": "I_0iEQgPb1sT",
        "outputId": "b59f647d-3f48-4f4d-84a0-437fc0f8d242"
      },
      "outputs": [
        {
          "output_type": "stream",
          "name": "stdout",
          "text": [
            "2\n"
          ]
        }
      ],
      "source": [
        "def findJudge(n, trust):\n",
        "        t1,t2 =[0]*(n+1),[0]*(n+1)\n",
        "        for i in trust:\n",
        "            t2[i[0]] += 1\n",
        "            t1[i[1]] += 1\n",
        "        for i in range(1,n+1):\n",
        "            if t1[i] == n-1 and t2[i] == 0:\n",
        "                return i\n",
        "        return -1\n",
        "\n",
        "n = 2\n",
        "trust = [[1,2]]\n",
        "print(findJudge(n, trust))"
      ]
    },
    {
      "cell_type": "code",
      "source": [],
      "metadata": {
        "id": "u1BTxdJ5b3xr"
      },
      "execution_count": null,
      "outputs": []
    }
  ]
}