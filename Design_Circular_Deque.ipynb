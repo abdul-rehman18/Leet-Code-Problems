{
  "nbformat": 4,
  "nbformat_minor": 0,
  "metadata": {
    "colab": {
      "provenance": []
    },
    "kernelspec": {
      "name": "python3",
      "display_name": "Python 3"
    },
    "language_info": {
      "name": "python"
    }
  },
  "cells": [
    {
      "cell_type": "markdown",
      "source": [
        "# LeetCode Problem: Design Circular Deque"
      ],
      "metadata": {
        "id": "J7KEkYVt6K5j"
      }
    },
    {
      "cell_type": "code",
      "execution_count": 4,
      "metadata": {
        "colab": {
          "base_uri": "https://localhost:8080/"
        },
        "id": "sLxkb6Eg6Jyd",
        "outputId": "7cfbdf5a-ac50-4458-f235-369d644bb21c"
      },
      "outputs": [
        {
          "output_type": "stream",
          "name": "stdout",
          "text": [
            "True\n",
            "True\n",
            "True\n",
            "False\n",
            "2\n",
            "True\n",
            "True\n",
            "True\n",
            "4\n"
          ]
        }
      ],
      "source": [
        "class MyCircularDeque:\n",
        "\n",
        "    def __init__(self, k: int):\n",
        "        self.v  =[-1]*k\n",
        "        self.front = 0\n",
        "        self.back = 0\n",
        "        self.size = 0\n",
        "        self.cap = k\n",
        "\n",
        "    def insertFront(self, value: int) -> bool:\n",
        "        if self.isFull():\n",
        "            return False\n",
        "\n",
        "        if self.front == 0:\n",
        "            self.front = self.cap -1\n",
        "        else:\n",
        "            self.front -= 1\n",
        "\n",
        "        self.v[self.front] = value\n",
        "        self.size += 1\n",
        "        return True\n",
        "\n",
        "    def insertLast(self, value: int) -> bool:\n",
        "        if self.isFull():\n",
        "            return False\n",
        "\n",
        "        self.v[self.back] = value\n",
        "\n",
        "        if self.back == self.cap -1:\n",
        "            self.back = 0\n",
        "        else:\n",
        "            self.back += 1\n",
        "\n",
        "        self.size += 1\n",
        "        return True\n",
        "\n",
        "    def deleteFront(self) -> bool:\n",
        "        if self.isEmpty():\n",
        "            return False\n",
        "\n",
        "        self.v[self.front] = -1\n",
        "\n",
        "        if self.front == self.cap - 1:\n",
        "            self.front = 0\n",
        "        else:\n",
        "            self.front +=  1\n",
        "\n",
        "        self.size -= 1\n",
        "        return True\n",
        "\n",
        "    def deleteLast(self) -> bool:\n",
        "        if self.isEmpty():\n",
        "            return False\n",
        "\n",
        "        if self.back == 0:\n",
        "            self.back = self.cap - 1  # Wrap around to the end\n",
        "        else:\n",
        "            self.back -= 1  # Simply decrement back\n",
        "\n",
        "        self.v[self.back] = -1\n",
        "        self.size -= 1\n",
        "        return True\n",
        "\n",
        "    def getFront(self) -> int:\n",
        "        if self.isEmpty():\n",
        "            return -1\n",
        "        return self.v[self.front]\n",
        "\n",
        "    def getRear(self) -> int:\n",
        "        if self.isEmpty():\n",
        "            return -1\n",
        "        if self.back == 0:\n",
        "            return self.v[self.cap - 1]  # Wrap around to the last valid element\n",
        "        else:\n",
        "            return self.v[self.back - 1]  # Get the last element\n",
        "\n",
        "    def isEmpty(self) -> bool:\n",
        "        return self.size == 0\n",
        "\n",
        "    def isFull(self) -> bool:\n",
        "        return self.size == self.cap\n",
        "\n",
        "\n",
        "\n",
        "myCircularDeque  = MyCircularDeque(3)\n",
        "print(myCircularDeque.insertLast(1))\n",
        "print(myCircularDeque.insertLast(2))\n",
        "print(myCircularDeque.insertFront(3))\n",
        "print(myCircularDeque.insertFront(4))\n",
        "print(myCircularDeque.getRear())\n",
        "print(myCircularDeque.isFull())\n",
        "print(myCircularDeque.deleteLast())\n",
        "print(myCircularDeque.insertFront(4))\n",
        "print(myCircularDeque.getFront())\n",
        "\n"
      ]
    },
    {
      "cell_type": "code",
      "source": [],
      "metadata": {
        "id": "PE-mFBpd6z75"
      },
      "execution_count": null,
      "outputs": []
    }
  ]
}