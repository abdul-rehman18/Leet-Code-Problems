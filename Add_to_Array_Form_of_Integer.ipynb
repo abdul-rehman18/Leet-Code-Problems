{
  "nbformat": 4,
  "nbformat_minor": 0,
  "metadata": {
    "colab": {
      "provenance": []
    },
    "kernelspec": {
      "name": "python3",
      "display_name": "Python 3"
    },
    "language_info": {
      "name": "python"
    }
  },
  "cells": [
    {
      "cell_type": "markdown",
      "source": [
        "# LeetCode Problem: Add to Array-Form of Integer"
      ],
      "metadata": {
        "id": "qcuRq6POKOf5"
      }
    },
    {
      "cell_type": "code",
      "execution_count": 1,
      "metadata": {
        "colab": {
          "base_uri": "https://localhost:8080/"
        },
        "id": "JGq7nsu5Fhei",
        "outputId": "ca0096a4-3c6f-437b-b370-576ede062eb2"
      },
      "outputs": [
        {
          "output_type": "stream",
          "name": "stdout",
          "text": [
            "[1, 2, 3, 4]\n"
          ]
        }
      ],
      "source": [
        "def addToArrayForm(num, k):\n",
        "        for i in range(len(num)-1,-1,-1):\n",
        "            k, num[i] = divmod(num[i]+k,10)\n",
        "        while k:\n",
        "            k, a = divmod(k,10)\n",
        "            num = [a] + num\n",
        "        return num\n",
        "num = [1,2,0,0]\n",
        "k = 34\n",
        "print(addToArrayForm(num, k))"
      ]
    },
    {
      "cell_type": "code",
      "source": [],
      "metadata": {
        "id": "BrS4JxvRKm0L"
      },
      "execution_count": null,
      "outputs": []
    }
  ]
}