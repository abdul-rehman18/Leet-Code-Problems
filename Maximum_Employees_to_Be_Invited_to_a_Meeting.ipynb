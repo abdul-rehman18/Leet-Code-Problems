{
  "nbformat": 4,
  "nbformat_minor": 0,
  "metadata": {
    "colab": {
      "provenance": []
    },
    "kernelspec": {
      "name": "python3",
      "display_name": "Python 3"
    },
    "language_info": {
      "name": "python"
    }
  },
  "cells": [
    {
      "cell_type": "markdown",
      "source": [
        "# LeetCode Problem: Maximum Employees to Be Invited to a Meeting"
      ],
      "metadata": {
        "id": "MHsVqyHa9b9S"
      }
    },
    {
      "cell_type": "code",
      "execution_count": null,
      "metadata": {
        "id": "ccELHa509Vk5"
      },
      "outputs": [],
      "source": [
        "class Solution:\n",
        "    def maximumInvitations(self, favorite):\n",
        "        adj=defaultdict(list)\n",
        "        transpose=defaultdict(list)\n",
        "        for i in range(len(favorite)):\n",
        "            adj[i].append(favorite[i])\n",
        "            transpose[favorite[i]].append(i)\n",
        "\n",
        "        stack=[]\n",
        "        visited=[False]*len(favorite)\n",
        "        def dfs(node):\n",
        "            visited[node]=True\n",
        "            for n in adj[node]:\n",
        "                if not visited[n]:\n",
        "                    dfs(n)\n",
        "            stack.append(node)\n",
        "\n",
        "        for i in range(len(favorite)):\n",
        "            if not visited[i]:\n",
        "                dfs(i)\n",
        "\n",
        "        sccs=[] #list of sets of each scc\n",
        "        scc=set()\n",
        "        visited=[False]*len(favorite)\n",
        "        def traverseForScc(node):\n",
        "            visited[node]=True\n",
        "            scc.add(node)\n",
        "            for n in transpose[node]:\n",
        "                if not visited[n]:\n",
        "                    traverseForScc(n)\n",
        "\n",
        "        while stack:\n",
        "            top = stack.pop()\n",
        "            if not visited[top]:\n",
        "                scc = set()\n",
        "                traverseForScc(top)\n",
        "                sccs.append(scc)\n",
        "\n",
        "        ans=max([len(scc) if len(scc)!=2 else -1 for scc in sccs])\n",
        "        def findLongestArm(a,b):\n",
        "            l=0\n",
        "            for node in transpose[a]:\n",
        "                if node!=b:\n",
        "                    l=max(l,1+findLongestArm(node,b))\n",
        "            return l\n",
        "\n",
        "        twoNodeSccs = 0\n",
        "        for n1,n2 in [scc for scc in sccs if len(scc)==2]:\n",
        "            twoNodeSccs+= 2 + findLongestArm(n1,n2) + findLongestArm(n2,n1)\n",
        "        return max(ans,twoNodeSccs)\n",
        "\n",
        "favorite = [2,2,1,2]\n"
      ]
    }
  ]
}