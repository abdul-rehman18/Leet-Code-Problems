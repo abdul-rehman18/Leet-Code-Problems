{
  "nbformat": 4,
  "nbformat_minor": 0,
  "metadata": {
    "colab": {
      "provenance": []
    },
    "kernelspec": {
      "name": "python3",
      "display_name": "Python 3"
    },
    "language_info": {
      "name": "python"
    }
  },
  "cells": [
    {
      "cell_type": "markdown",
      "source": [
        "# LeetCode Problem: Minimum Domino Rotations For Equal Row"
      ],
      "metadata": {
        "id": "h4WhxQ4SvjQO"
      }
    },
    {
      "cell_type": "code",
      "execution_count": null,
      "metadata": {
        "id": "tbRCF0HivdGX"
      },
      "outputs": [],
      "source": [
        "class Solution:\n",
        "    def minDominoRotations(self, tops, bottoms):\n",
        "        res = float('inf')\n",
        "        for val in range(1, 7):\n",
        "            top_swaps = bottom_swaps = 0\n",
        "            valid = True\n",
        "            for t, b in zip(tops, bottoms):\n",
        "                if t != val and b != val:\n",
        "                    valid = False\n",
        "                    break\n",
        "                if t != val:\n",
        "                    top_swaps += 1\n",
        "                if b != val:\n",
        "                    bottom_swaps += 1\n",
        "            if valid:\n",
        "                res = min(res, top_swaps, bottom_swaps)\n",
        "        return -1 if res == float('inf') else res"
      ]
    }
  ]
}