{
  "nbformat": 4,
  "nbformat_minor": 0,
  "metadata": {
    "colab": {
      "provenance": []
    },
    "kernelspec": {
      "name": "python3",
      "display_name": "Python 3"
    },
    "language_info": {
      "name": "python"
    }
  },
  "cells": [
    {
      "cell_type": "markdown",
      "source": [
        "# LeetCode Problem: Missing Number"
      ],
      "metadata": {
        "id": "pvV2GnXsv06s"
      }
    },
    {
      "cell_type": "code",
      "execution_count": 2,
      "metadata": {
        "colab": {
          "base_uri": "https://localhost:8080/"
        },
        "id": "UOSlGGfevpEU",
        "outputId": "f4b558a3-3c6b-4928-de18-071a686c3ea9"
      },
      "outputs": [
        {
          "output_type": "stream",
          "name": "stdout",
          "text": [
            "2\n"
          ]
        }
      ],
      "source": [
        "def missingNumber(nums):\n",
        "  return sum(range(len(nums)+1))-sum(nums)\n",
        "\n",
        "\n",
        "nums = [3,0,1]\n",
        "ans = missingNumber(nums)\n",
        "print(ans)"
      ]
    },
    {
      "cell_type": "code",
      "source": [],
      "metadata": {
        "id": "DygLcFAWx-lK"
      },
      "execution_count": null,
      "outputs": []
    }
  ]
}