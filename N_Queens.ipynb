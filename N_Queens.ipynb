{
  "nbformat": 4,
  "nbformat_minor": 0,
  "metadata": {
    "colab": {
      "provenance": []
    },
    "kernelspec": {
      "name": "python3",
      "display_name": "Python 3"
    },
    "language_info": {
      "name": "python"
    }
  },
  "cells": [
    {
      "cell_type": "markdown",
      "source": [
        "# LeetCode Problem: N-Queens"
      ],
      "metadata": {
        "id": "harr3qcPZqmr"
      }
    },
    {
      "cell_type": "code",
      "execution_count": 2,
      "metadata": {
        "colab": {
          "base_uri": "https://localhost:8080/"
        },
        "id": "imhuiEb5ZEpe",
        "outputId": "246b6714-2bd6-4918-a2bf-fe2971d8a40b"
      },
      "outputs": [
        {
          "output_type": "stream",
          "name": "stdout",
          "text": [
            "[['.Q..', '...Q', 'Q...', '..Q.'], ['..Q.', 'Q...', '...Q', '.Q..']]\n"
          ]
        }
      ],
      "source": [
        "def solveNQueens(n):\n",
        "        st = [[\".\"] * n for _ in range(n)]\n",
        "        res = []\n",
        "        col,ld,ud = set(),set(),set()\n",
        "        def bt(a):\n",
        "            if a == n:\n",
        "                res.append([\"\".join(i) for i in st])\n",
        "                return\n",
        "            for i in range(n):\n",
        "                d = a - i\n",
        "                s = a + i\n",
        "                if not (i in col or d in ld or s in ud):\n",
        "                    col.add(i)\n",
        "                    ld.add(d)\n",
        "                    ud.add(s)\n",
        "                    st[a][i] = \"Q\"\n",
        "                    bt(a+1)\n",
        "\n",
        "                    col.remove(i)\n",
        "                    ld.remove(d)\n",
        "                    ud.remove(s)\n",
        "                    st[a][i] = \".\"\n",
        "        bt(0)\n",
        "        return res\n",
        "\n",
        "\n",
        "n  = 4\n",
        "print(solveNQueens(n))"
      ]
    },
    {
      "cell_type": "code",
      "source": [],
      "metadata": {
        "id": "yT4r5bbPcWbh"
      },
      "execution_count": null,
      "outputs": []
    },
    {
      "cell_type": "code",
      "source": [],
      "metadata": {
        "id": "1DueLQAKcP3b"
      },
      "execution_count": null,
      "outputs": []
    }
  ]
}