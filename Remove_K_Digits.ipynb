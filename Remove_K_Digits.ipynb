{
  "nbformat": 4,
  "nbformat_minor": 0,
  "metadata": {
    "colab": {
      "provenance": []
    },
    "kernelspec": {
      "name": "python3",
      "display_name": "Python 3"
    },
    "language_info": {
      "name": "python"
    }
  },
  "cells": [
    {
      "cell_type": "markdown",
      "source": [
        "# LeetCode Problem: Remove K Digits"
      ],
      "metadata": {
        "id": "DGQ2kV--hBVB"
      }
    },
    {
      "cell_type": "code",
      "execution_count": 1,
      "metadata": {
        "colab": {
          "base_uri": "https://localhost:8080/"
        },
        "id": "ig2SrmkWgoxY",
        "outputId": "4b00fc98-e541-47f5-a577-333bef75d076"
      },
      "outputs": [
        {
          "output_type": "stream",
          "name": "stdout",
          "text": [
            "1219\n"
          ]
        }
      ],
      "source": [
        "def removeKdigits(num,k):\n",
        "        stack = []\n",
        "        for digit in num:\n",
        "            while stack and k > 0 and stack[-1] > digit:\n",
        "                stack.pop()\n",
        "                k -= 1\n",
        "            stack.append(digit)\n",
        "        stack = stack[:-k] if k > 0 else stack\n",
        "        result = ''.join(stack).lstrip('0')\n",
        "        return result if result else '0'\n",
        "\n",
        "num = \"1432219\"\n",
        "k = 3\n",
        "print(removeKdigits(num,k))"
      ]
    },
    {
      "cell_type": "code",
      "source": [],
      "metadata": {
        "id": "xXf7a9bBiD0s"
      },
      "execution_count": null,
      "outputs": []
    }
  ]
}