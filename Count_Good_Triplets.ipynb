{
  "nbformat": 4,
  "nbformat_minor": 0,
  "metadata": {
    "colab": {
      "provenance": []
    },
    "kernelspec": {
      "name": "python3",
      "display_name": "Python 3"
    },
    "language_info": {
      "name": "python"
    }
  },
  "cells": [
    {
      "cell_type": "markdown",
      "source": [
        "# LeetCode Problem: Count Good Triplets"
      ],
      "metadata": {
        "id": "gSWSQ0krRSky"
      }
    },
    {
      "cell_type": "code",
      "execution_count": null,
      "metadata": {
        "id": "wyqsFZrnRNq0"
      },
      "outputs": [],
      "source": [
        "class Solution:\n",
        "    def countGoodTriplets(self, arr: List[int], a: int, b: int, c: int) -> int:\n",
        "        good_triplets = 0\n",
        "        length = len(arr)\n",
        "\n",
        "        for i in range(length):  # i is the first index\n",
        "            for j in range(i + 1, length):  # j must be after i\n",
        "                if abs(arr[i] - arr[j]) <= a:  # first condition check\n",
        "                    for k in range(j + 1, length):  # k must be after j\n",
        "                        # Check all three conditions\n",
        "                        if abs(arr[j] - arr[k]) <= b and abs(arr[i] - arr[k]) <= c:\n",
        "                            good_triplets += 1\n",
        "                            # 🥋 Rock Lee: \"Another success from persistence!\" 🥳\n",
        "\n",
        "        return good_triplets"
      ]
    }
  ]
}