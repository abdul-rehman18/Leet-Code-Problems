{
  "nbformat": 4,
  "nbformat_minor": 0,
  "metadata": {
    "colab": {
      "provenance": []
    },
    "kernelspec": {
      "name": "python3",
      "display_name": "Python 3"
    },
    "language_info": {
      "name": "python"
    }
  },
  "cells": [
    {
      "cell_type": "markdown",
      "source": [
        "# LeetCode Problem: Reveal Cards In Increasing Order"
      ],
      "metadata": {
        "id": "Pq8WugWefYNu"
      }
    },
    {
      "cell_type": "code",
      "execution_count": 2,
      "metadata": {
        "colab": {
          "base_uri": "https://localhost:8080/"
        },
        "id": "6fC51rhwetjl",
        "outputId": "e53acede-bc67-4552-d248-6b29fab25878"
      },
      "outputs": [
        {
          "output_type": "stream",
          "name": "stdout",
          "text": [
            "[2, 13, 3, 11, 5, 17, 7]\n"
          ]
        }
      ],
      "source": [
        "from collections import deque\n",
        "def deckRevealedIncreasing(deck):\n",
        "        deck.sort()\n",
        "        n = len(deck)\n",
        "        result = [0] * n\n",
        "        indices = deque(range(n))\n",
        "        for card in deck:\n",
        "            idx = indices.popleft()\n",
        "            result[idx] = card\n",
        "            if indices:\n",
        "                indices.append(indices.popleft())\n",
        "        return result\n",
        "\n",
        "\n",
        "deck = [17,13,11,2,3,5,7]\n",
        "print(deckRevealedIncreasing(deck))"
      ]
    },
    {
      "cell_type": "code",
      "source": [],
      "metadata": {
        "id": "Cw6QZR4ZfeCA"
      },
      "execution_count": null,
      "outputs": []
    }
  ]
}