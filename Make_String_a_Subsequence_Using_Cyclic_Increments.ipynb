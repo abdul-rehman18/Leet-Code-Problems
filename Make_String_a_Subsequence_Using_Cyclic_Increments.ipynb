{
  "nbformat": 4,
  "nbformat_minor": 0,
  "metadata": {
    "colab": {
      "provenance": []
    },
    "kernelspec": {
      "name": "python3",
      "display_name": "Python 3"
    },
    "language_info": {
      "name": "python"
    }
  },
  "cells": [
    {
      "cell_type": "markdown",
      "source": [
        "# LeetCocde Problem: Make String a Subsequence Using Cyclic Increments"
      ],
      "metadata": {
        "id": "ufOdJt2FyShs"
      }
    },
    {
      "cell_type": "code",
      "execution_count": 3,
      "metadata": {
        "colab": {
          "base_uri": "https://localhost:8080/"
        },
        "id": "5Ry4N_acw2eM",
        "outputId": "4a0fa3f1-86d7-49f7-a63c-58eb0140887c"
      },
      "outputs": [
        {
          "output_type": "stream",
          "name": "stdout",
          "text": [
            "True\n"
          ]
        }
      ],
      "source": [
        "def canMakeSubsequence(source, target):\n",
        "        targetIdx, targetLen = 0, len(target)\n",
        "        for currChar in source:\n",
        "            if targetIdx < targetLen and (ord(target[targetIdx]) - ord(currChar)) % 26 < 2:\n",
        "                targetIdx += 1\n",
        "        return targetIdx == targetLen\n",
        "\n",
        "str1 = \"abc\"\n",
        "str2 = \"ad\"\n",
        "\n",
        "print(canMakeSubsequence(str1, str2))"
      ]
    },
    {
      "cell_type": "code",
      "source": [],
      "metadata": {
        "id": "_a1lq1Jtyqwa"
      },
      "execution_count": null,
      "outputs": []
    }
  ]
}