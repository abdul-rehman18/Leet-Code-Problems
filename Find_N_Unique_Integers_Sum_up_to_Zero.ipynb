{
  "nbformat": 4,
  "nbformat_minor": 0,
  "metadata": {
    "colab": {
      "provenance": []
    },
    "kernelspec": {
      "name": "python3",
      "display_name": "Python 3"
    },
    "language_info": {
      "name": "python"
    }
  },
  "cells": [
    {
      "cell_type": "markdown",
      "source": [
        "# Find N Unique Integers Sum up to Zero"
      ],
      "metadata": {
        "id": "iD2OHJI6gICb"
      }
    },
    {
      "cell_type": "code",
      "execution_count": null,
      "metadata": {
        "id": "0WGF4P1ygBH4"
      },
      "outputs": [],
      "source": [
        "class Solution:\n",
        "    def sumZero(self, n: int) -> List[int]:\n",
        "        r = []\n",
        "        pairs = n // 2\n",
        "        for i in range(1, pairs + 1):\n",
        "            r.append(i)\n",
        "            r.append(-i)\n",
        "        if n % 2 == 1:\n",
        "            r.append(0)\n",
        "        return r"
      ]
    }
  ]
}