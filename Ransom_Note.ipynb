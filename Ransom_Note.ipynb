{
  "nbformat": 4,
  "nbformat_minor": 0,
  "metadata": {
    "colab": {
      "provenance": []
    },
    "kernelspec": {
      "name": "python3",
      "display_name": "Python 3"
    },
    "language_info": {
      "name": "python"
    }
  },
  "cells": [
    {
      "cell_type": "markdown",
      "source": [
        "# LeetCode Problem: Ransom Note"
      ],
      "metadata": {
        "id": "sNmuzyyUc3OV"
      }
    },
    {
      "cell_type": "code",
      "execution_count": 2,
      "metadata": {
        "colab": {
          "base_uri": "https://localhost:8080/"
        },
        "id": "M1u1e1vJZ9Rq",
        "outputId": "98ff397c-cf91-4893-d781-5f9bd7cb67e5"
      },
      "outputs": [
        {
          "output_type": "stream",
          "name": "stdout",
          "text": [
            "Example 1: False\n",
            "Example 2: False\n",
            "Example 3: True\n"
          ]
        }
      ],
      "source": [
        "from collections import Counter\n",
        "\n",
        "class Solution:\n",
        "    def canConstruct(self,ransomNote, magazine):\n",
        "        ransom_count = Counter(ransomNote)\n",
        "        magazine_count = Counter(magazine)\n",
        "\n",
        "        for char, count in ransom_count.items():\n",
        "            if magazine_count[char] < count:\n",
        "                return False\n",
        "\n",
        "        return True\n",
        "\n",
        "def main():\n",
        "    solution = Solution()\n",
        "\n",
        "    # Example 1\n",
        "    ransom_note_1 = \"a\"\n",
        "    magazine_1 = \"b\"\n",
        "    result_1 = solution.canConstruct(ransom_note_1, magazine_1)\n",
        "    print(f\"Example 1: {result_1}\")\n",
        "\n",
        "    # Example 2\n",
        "    ransom_note_2 = \"aa\"\n",
        "    magazine_2 = \"ab\"\n",
        "    result_2 = solution.canConstruct(ransom_note_2, magazine_2)\n",
        "    print(f\"Example 2: {result_2}\")\n",
        "\n",
        "    # Example 3\n",
        "    ransom_note_3 = \"aa\"\n",
        "    magazine_3 = \"aab\"\n",
        "    result_3 = solution.canConstruct(ransom_note_3, magazine_3)\n",
        "    print(f\"Example 3: {result_3}\")\n",
        "\n",
        "if __name__ == \"__main__\":\n",
        "    main()\n"
      ]
    },
    {
      "cell_type": "code",
      "source": [],
      "metadata": {
        "id": "jdAZlwRYdJPt"
      },
      "execution_count": null,
      "outputs": []
    }
  ]
}