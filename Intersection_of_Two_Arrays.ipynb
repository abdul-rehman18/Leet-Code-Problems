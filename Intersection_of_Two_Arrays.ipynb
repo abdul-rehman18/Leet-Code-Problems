{
  "nbformat": 4,
  "nbformat_minor": 0,
  "metadata": {
    "colab": {
      "provenance": []
    },
    "kernelspec": {
      "name": "python3",
      "display_name": "Python 3"
    },
    "language_info": {
      "name": "python"
    }
  },
  "cells": [
    {
      "cell_type": "markdown",
      "source": [
        "# LeetCode Problem: Intersection of Two Arrays"
      ],
      "metadata": {
        "id": "dPlk-O3ZjMwA"
      }
    },
    {
      "cell_type": "code",
      "execution_count": 3,
      "metadata": {
        "colab": {
          "base_uri": "https://localhost:8080/"
        },
        "id": "_aE0eIuWiapZ",
        "outputId": "43f0cd06-6040-41f3-b1c1-39aa51a184d0"
      },
      "outputs": [
        {
          "output_type": "stream",
          "name": "stdout",
          "text": [
            "[9, 4]\n"
          ]
        }
      ],
      "source": [
        "def intersection(nums1, nums2):\n",
        "  n1 = set(nums1)\n",
        "  n2 = set(nums2)\n",
        "  return list(n1.intersection(n2))\n",
        "\n",
        "# nums1 = [1,2,2,1]\n",
        "# nums2 = [2,2]\n",
        "nums1 = [4,9,5]\n",
        "nums2 = [9,4,9,8,4]\n",
        "\n",
        "res = intersection(nums1,nums2)\n",
        "print(res)"
      ]
    },
    {
      "cell_type": "code",
      "source": [],
      "metadata": {
        "id": "kJnbRS0Vji3L"
      },
      "execution_count": null,
      "outputs": []
    }
  ]
}