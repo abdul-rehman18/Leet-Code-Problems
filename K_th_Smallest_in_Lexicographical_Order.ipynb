{
  "nbformat": 4,
  "nbformat_minor": 0,
  "metadata": {
    "colab": {
      "provenance": []
    },
    "kernelspec": {
      "name": "python3",
      "display_name": "Python 3"
    },
    "language_info": {
      "name": "python"
    }
  },
  "cells": [
    {
      "cell_type": "markdown",
      "source": [
        "# LeetCode Problem: K-th Smallest in Lexicographical Order"
      ],
      "metadata": {
        "id": "pi8PSXfhPtiy"
      }
    },
    {
      "cell_type": "code",
      "execution_count": 1,
      "metadata": {
        "colab": {
          "base_uri": "https://localhost:8080/"
        },
        "id": "l8uzFhG6Pl1S",
        "outputId": "5a6db5e3-96f1-439a-afd3-4477890e40ec"
      },
      "outputs": [
        {
          "output_type": "stream",
          "name": "stdout",
          "text": [
            "10\n"
          ]
        }
      ],
      "source": [
        "class Solution:\n",
        "    def getReqNum(self, a, b, n):\n",
        "        gap = 0\n",
        "        while a <= n:\n",
        "            gap += min(n + 1, b) - a\n",
        "            a *= 10\n",
        "            b *= 10\n",
        "        return gap\n",
        "\n",
        "    def findKthNumber(self, n, k):\n",
        "        num = 1\n",
        "        i = 1\n",
        "        while i < k:\n",
        "            req = self.getReqNum(num, num + 1, n)\n",
        "            if i + req <= k:\n",
        "                i += req\n",
        "                num += 1\n",
        "            else:\n",
        "                i += 1\n",
        "                num *= 10\n",
        "        return num\n",
        "\n",
        "n = 13\n",
        "k = 2\n",
        "\n",
        "solution = Solution()\n",
        "result = solution.findKthNumber(n, k)\n",
        "print(result)\n"
      ]
    },
    {
      "cell_type": "code",
      "source": [],
      "metadata": {
        "id": "7Qe_asoZQPpa"
      },
      "execution_count": null,
      "outputs": []
    }
  ]
}