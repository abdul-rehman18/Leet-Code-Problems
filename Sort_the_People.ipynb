{
  "nbformat": 4,
  "nbformat_minor": 0,
  "metadata": {
    "colab": {
      "provenance": []
    },
    "kernelspec": {
      "name": "python3",
      "display_name": "Python 3"
    },
    "language_info": {
      "name": "python"
    }
  },
  "cells": [
    {
      "cell_type": "markdown",
      "source": [
        "# LeetCode Problem: Sort the People"
      ],
      "metadata": {
        "id": "2Iw5S787qnQC"
      }
    },
    {
      "cell_type": "code",
      "execution_count": 1,
      "metadata": {
        "colab": {
          "base_uri": "https://localhost:8080/"
        },
        "id": "FEzeao5MqUWR",
        "outputId": "c0084119-6514-4fd2-9472-85223b9bebde"
      },
      "outputs": [
        {
          "output_type": "stream",
          "name": "stdout",
          "text": [
            "['Mary', 'Emma', 'John']\n"
          ]
        }
      ],
      "source": [
        "def sortPeople(names, heights):\n",
        "        return [names[i] for i in sorted(range(len(heights)), key= lambda i: -heights[i])]\n",
        "\n",
        "names = [\"Mary\",\"John\",\"Emma\"]\n",
        "heights = [180,165,170]\n",
        "\n",
        "print(sortPeople(names, heights))"
      ]
    },
    {
      "cell_type": "code",
      "source": [],
      "metadata": {
        "id": "YeWxWlvfq6Px"
      },
      "execution_count": null,
      "outputs": []
    }
  ]
}