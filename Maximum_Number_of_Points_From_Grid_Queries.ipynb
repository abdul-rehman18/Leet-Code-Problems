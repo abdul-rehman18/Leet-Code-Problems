{
  "nbformat": 4,
  "nbformat_minor": 0,
  "metadata": {
    "colab": {
      "provenance": []
    },
    "kernelspec": {
      "name": "python3",
      "display_name": "Python 3"
    },
    "language_info": {
      "name": "python"
    }
  },
  "cells": [
    {
      "cell_type": "markdown",
      "source": [
        "# LeetCode Problem: Maximum Number of Points From Grid Queries"
      ],
      "metadata": {
        "id": "A_qRHm40-kOd"
      }
    },
    {
      "cell_type": "code",
      "execution_count": null,
      "metadata": {
        "id": "UdFNmuta-gZI"
      },
      "outputs": [],
      "source": [
        "from queue import PriorityQueue\n",
        "\n",
        "class Solution:\n",
        "    def maxPoints(self, grid, queries):\n",
        "        rows, cols = len(grid), len(grid[0])\n",
        "        DIRECTIONS = [(0, 1), (1, 0), (0, -1), (-1, 0)]\n",
        "\n",
        "        sorted_queries = sorted([(val, idx) for idx, val in enumerate(queries)])\n",
        "        result = [0] * len(queries)\n",
        "\n",
        "        heap = PriorityQueue()\n",
        "        visited = [[False] * cols for _ in range(rows)]\n",
        "\n",
        "        heap.put((grid[0][0], 0, 0))\n",
        "        visited[0][0] = True\n",
        "        points = 0\n",
        "\n",
        "        for query_val, query_idx in sorted_queries:\n",
        "            while not heap.empty() and heap.queue[0][0] < query_val:\n",
        "                _, row, col = heap.get()\n",
        "                points += 1\n",
        "\n",
        "                for dr, dc in DIRECTIONS:\n",
        "                    nr, nc = row + dr, col + dc\n",
        "                    if (0 <= nr < rows and 0 <= nc < cols and\n",
        "                        not visited[nr][nc]):\n",
        "                        heap.put((grid[nr][nc], nr, nc))\n",
        "                        visited[nr][nc] = True\n",
        "\n",
        "            result[query_idx] = points\n",
        "\n",
        "        return result"
      ]
    }
  ]
}