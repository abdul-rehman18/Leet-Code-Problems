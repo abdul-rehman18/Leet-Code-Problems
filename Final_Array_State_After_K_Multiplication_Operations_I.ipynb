{
  "nbformat": 4,
  "nbformat_minor": 0,
  "metadata": {
    "colab": {
      "provenance": []
    },
    "kernelspec": {
      "name": "python3",
      "display_name": "Python 3"
    },
    "language_info": {
      "name": "python"
    }
  },
  "cells": [
    {
      "cell_type": "markdown",
      "source": [
        "# LeetCode Problem: Final Array State After K Multiplication Operations I"
      ],
      "metadata": {
        "id": "9EktaI_eKXLw"
      }
    },
    {
      "cell_type": "code",
      "execution_count": null,
      "metadata": {
        "id": "_FJ3xKBOGEhP"
      },
      "outputs": [],
      "source": [
        "import numpy as np\n",
        "from heapq import heapify, heapreplace\n",
        "def getFinalState(nums, k, multiplier):\n",
        "        heap=[(x, i) for i, x in enumerate(nums)]\n",
        "        heapify(heap)\n",
        "        for _ in range(k):\n",
        "            x, i=heap[0]\n",
        "            heapreplace(heap, (x*multiplier, i))\n",
        "        for x, i in heap:\n",
        "            nums[i]=x\n",
        "        return nums\n",
        "\n",
        "nums = [2,1,3,5,6]\n",
        "k = 5\n",
        "multiplier = 2\n",
        "\n",
        "print(getFinalState(nums, k, multiplier))"
      ]
    }
  ]
}