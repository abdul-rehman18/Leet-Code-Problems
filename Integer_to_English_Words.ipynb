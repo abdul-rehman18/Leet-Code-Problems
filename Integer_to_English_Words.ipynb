{
  "nbformat": 4,
  "nbformat_minor": 0,
  "metadata": {
    "colab": {
      "provenance": []
    },
    "kernelspec": {
      "name": "python3",
      "display_name": "Python 3"
    },
    "language_info": {
      "name": "python"
    }
  },
  "cells": [
    {
      "cell_type": "markdown",
      "source": [
        "# LeetCode Problem: Integer to English Words"
      ],
      "metadata": {
        "id": "DSY4dPvmJciO"
      }
    },
    {
      "cell_type": "code",
      "execution_count": 1,
      "metadata": {
        "colab": {
          "base_uri": "https://localhost:8080/"
        },
        "id": "sE50MvRcJWTo",
        "outputId": "9d4da98c-324d-4045-fbe2-0892fec6160d"
      },
      "outputs": [
        {
          "output_type": "stream",
          "name": "stdout",
          "text": [
            "One Billion Two Hundred Thirty Four Million Five Hundred Sixty Seven Thousand Eight Hundred Ninety One\n"
          ]
        }
      ],
      "source": [
        "class Solution:\n",
        "    def numberToWords(self, num: int) -> str:\n",
        "        if num == 0:\n",
        "            return \"Zero\"\n",
        "\n",
        "        bigString = [\"Thousand\", \"Million\", \"Billion\"]\n",
        "        result = self.numberToWordsHelper(num % 1000)\n",
        "        num //= 1000\n",
        "\n",
        "        for i in range(len(bigString)):\n",
        "            if num > 0 and num % 1000 > 0:\n",
        "                result = self.numberToWordsHelper(num % 1000) + \" \" + bigString[i] + \" \" + result\n",
        "            num //= 1000\n",
        "\n",
        "        return result.strip()\n",
        "\n",
        "    def numberToWordsHelper(self, num: int) -> str:\n",
        "        digitString = [\"Zero\", \"One\", \"Two\", \"Three\", \"Four\", \"Five\", \"Six\", \"Seven\", \"Eight\", \"Nine\"]\n",
        "        teenString = [\"Ten\", \"Eleven\", \"Twelve\", \"Thirteen\", \"Fourteen\", \"Fifteen\", \"Sixteen\", \"Seventeen\", \"Eighteen\", \"Nineteen\"]\n",
        "        tenString = [\"\", \"\", \"Twenty\", \"Thirty\", \"Forty\", \"Fifty\", \"Sixty\", \"Seventy\", \"Eighty\", \"Ninety\"]\n",
        "\n",
        "        result = \"\"\n",
        "        if num > 99:\n",
        "            result += digitString[num // 100] + \" Hundred \"\n",
        "\n",
        "        num %= 100\n",
        "        if num < 20 and num >= 10:\n",
        "            result += teenString[num - 10] + \" \"\n",
        "        else:\n",
        "            if num >= 20:\n",
        "                result += tenString[num // 10] + \" \"\n",
        "            num %= 10\n",
        "            if num > 0:\n",
        "                result += digitString[num] + \" \"\n",
        "\n",
        "        return result.strip()\n",
        "\n",
        "def main():\n",
        "    sol = Solution()\n",
        "    test_number = 1234567891\n",
        "    print(sol.numberToWords(test_number))\n",
        "\n",
        "if __name__ == \"__main__\":\n",
        "    main()\n"
      ]
    },
    {
      "cell_type": "code",
      "source": [],
      "metadata": {
        "id": "NZ_7pQMLKDXi"
      },
      "execution_count": null,
      "outputs": []
    }
  ]
}