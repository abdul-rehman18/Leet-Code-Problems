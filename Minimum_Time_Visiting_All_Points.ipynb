{
  "nbformat": 4,
  "nbformat_minor": 0,
  "metadata": {
    "colab": {
      "provenance": []
    },
    "kernelspec": {
      "name": "python3",
      "display_name": "Python 3"
    },
    "language_info": {
      "name": "python"
    }
  },
  "cells": [
    {
      "cell_type": "markdown",
      "source": [
        "# LeetCode Problem: Minimum Time Visiting All Points"
      ],
      "metadata": {
        "id": "5YlZoZT5IhsO"
      }
    },
    {
      "cell_type": "code",
      "execution_count": null,
      "metadata": {
        "id": "b5sDc7DnIHtU"
      },
      "outputs": [],
      "source": [
        "class Solution:\n",
        "    def minTimeToVisitAllPoints(self, points: List[List[int]]) -> int:\n",
        "        res = 0\n",
        "\n",
        "        for i in range(1, len(points)):\n",
        "            res += max(abs(points[i][0] - points[i - 1][0]),\n",
        "                        abs(points[i][1] - points[i - 1][1]))\n",
        "\n",
        "        return res"
      ]
    }
  ]
}