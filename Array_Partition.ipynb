{
  "nbformat": 4,
  "nbformat_minor": 0,
  "metadata": {
    "colab": {
      "provenance": []
    },
    "kernelspec": {
      "name": "python3",
      "display_name": "Python 3"
    },
    "language_info": {
      "name": "python"
    }
  },
  "cells": [
    {
      "cell_type": "markdown",
      "source": [
        "# LeetCode Problem: Array Partition"
      ],
      "metadata": {
        "id": "eVfx1hbrwC3J"
      }
    },
    {
      "cell_type": "code",
      "execution_count": 1,
      "metadata": {
        "colab": {
          "base_uri": "https://localhost:8080/"
        },
        "id": "3c26dc9Nr2nw",
        "outputId": "1224cc44-1b18-4e11-978e-9671cb7ede20"
      },
      "outputs": [
        {
          "output_type": "stream",
          "name": "stdout",
          "text": [
            "4\n"
          ]
        }
      ],
      "source": [
        "def arrayPairSum(nums):\n",
        "        nums.sort()\n",
        "        s = 0\n",
        "        for i in range(0,len(nums),2):\n",
        "            s += nums[i]\n",
        "        return s\n",
        "\n",
        "nums = [1,4,3,2]\n",
        "print(arrayPairSum(nums))"
      ]
    },
    {
      "cell_type": "code",
      "source": [],
      "metadata": {
        "id": "Zr2awXN7wWAp"
      },
      "execution_count": null,
      "outputs": []
    }
  ]
}