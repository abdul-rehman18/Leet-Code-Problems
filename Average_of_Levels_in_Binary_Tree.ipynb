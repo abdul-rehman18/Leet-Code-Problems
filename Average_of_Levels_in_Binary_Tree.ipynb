{
  "nbformat": 4,
  "nbformat_minor": 0,
  "metadata": {
    "colab": {
      "provenance": []
    },
    "kernelspec": {
      "name": "python3",
      "display_name": "Python 3"
    },
    "language_info": {
      "name": "python"
    }
  },
  "cells": [
    {
      "cell_type": "markdown",
      "source": [
        "# LeetCode Problem: Average of Levels in Binary Tree"
      ],
      "metadata": {
        "id": "mQBptcmpJgju"
      }
    },
    {
      "cell_type": "code",
      "execution_count": 2,
      "metadata": {
        "colab": {
          "base_uri": "https://localhost:8080/"
        },
        "id": "PXvgWxjeE6Dt",
        "outputId": "cd0b30e7-bf03-4485-a61c-f734a63e7e6b"
      },
      "outputs": [
        {
          "output_type": "stream",
          "name": "stdout",
          "text": [
            "[3.0, 14.5, 11.0]\n"
          ]
        }
      ],
      "source": [
        "class TreeNode:\n",
        "    def __init__(self, val=0, left=None, right=None):\n",
        "        self.val = val\n",
        "        self.left = left\n",
        "        self.right = right\n",
        "\n",
        "class Solution:\n",
        "    def averageOfLevels(self, root):\n",
        "        levels = []\n",
        "        def bfs(node, level):\n",
        "            if node:\n",
        "                if len(levels) == level: levels.append([])\n",
        "                levels[level] += [node.val]\n",
        "                bfs(node.left, level+1)\n",
        "                bfs(node.right, level+1)\n",
        "\n",
        "        bfs(root, 0)\n",
        "        return [sum(i)/len(i) for i in levels]\n",
        "\n",
        "def main():\n",
        "    # Create a sample binary tree\n",
        "    #        3\n",
        "    #       / \\\n",
        "    #      9  20\n",
        "    #        /  \\\n",
        "    #       15   7\n",
        "    root = TreeNode(3)\n",
        "    root.left = TreeNode(9)\n",
        "    root.right = TreeNode(20)\n",
        "    root.right.left = TreeNode(15)\n",
        "    root.right.right = TreeNode(7)\n",
        "\n",
        "    # Create an instance of Solution\n",
        "    solution = Solution()\n",
        "\n",
        "    # Call the averageOfLevels method\n",
        "    result = solution.averageOfLevels(root)\n",
        "\n",
        "    # Print the result\n",
        "    print(result)\n",
        "\n",
        "if __name__ == \"__main__\":\n",
        "    main()\n"
      ]
    },
    {
      "cell_type": "code",
      "source": [],
      "metadata": {
        "id": "N4FaHZHyJZ8o"
      },
      "execution_count": null,
      "outputs": []
    }
  ]
}