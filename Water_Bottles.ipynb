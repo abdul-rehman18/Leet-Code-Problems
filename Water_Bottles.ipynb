{
  "nbformat": 4,
  "nbformat_minor": 0,
  "metadata": {
    "colab": {
      "provenance": []
    },
    "kernelspec": {
      "name": "python3",
      "display_name": "Python 3"
    },
    "language_info": {
      "name": "python"
    }
  },
  "cells": [
    {
      "cell_type": "markdown",
      "source": [
        "# LeetCode Problem: Water Bottles"
      ],
      "metadata": {
        "id": "c3JpjJQla_eT"
      }
    },
    {
      "cell_type": "code",
      "execution_count": 1,
      "metadata": {
        "colab": {
          "base_uri": "https://localhost:8080/"
        },
        "id": "yoD5m3W4aRiQ",
        "outputId": "ab99fc51-f094-4f6e-ae60-38531201dffd"
      },
      "outputs": [
        {
          "output_type": "stream",
          "name": "stdout",
          "text": [
            "13\n"
          ]
        }
      ],
      "source": [
        "def numWaterBottles(numBottles, numExchange):\n",
        "        return numBottles + (numBottles-1)//(numExchange-1)\n",
        "\n",
        "numBottles = 9\n",
        "numExchange = 3\n",
        "\n",
        "print(numWaterBottles(numBottles, numExchange))"
      ]
    },
    {
      "cell_type": "code",
      "source": [],
      "metadata": {
        "id": "SVMVJtQ4bY4K"
      },
      "execution_count": null,
      "outputs": []
    }
  ]
}