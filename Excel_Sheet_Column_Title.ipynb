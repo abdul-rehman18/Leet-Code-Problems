{
  "nbformat": 4,
  "nbformat_minor": 0,
  "metadata": {
    "colab": {
      "provenance": []
    },
    "kernelspec": {
      "name": "python3",
      "display_name": "Python 3"
    },
    "language_info": {
      "name": "python"
    }
  },
  "cells": [
    {
      "cell_type": "markdown",
      "source": [
        "# LeetCode Problem: Excel Sheet Column Title"
      ],
      "metadata": {
        "id": "2HxecD7ZctaS"
      }
    },
    {
      "cell_type": "code",
      "execution_count": 2,
      "metadata": {
        "colab": {
          "base_uri": "https://localhost:8080/",
          "height": 36
        },
        "id": "Jsp1_vBtcZR3",
        "outputId": "8bb8bedb-d506-4e84-d9d2-eb29775c59a1"
      },
      "outputs": [
        {
          "output_type": "execute_result",
          "data": {
            "text/plain": [
              "'Y'"
            ],
            "application/vnd.google.colaboratory.intrinsic+json": {
              "type": "string"
            }
          },
          "metadata": {},
          "execution_count": 2
        }
      ],
      "source": [
        "def convertToTitle(columnNumber):\n",
        "        if not columnNumber:\n",
        "            return \"\"\n",
        "        columnNumber,remainder = divmod(columnNumber-1,26)\n",
        "        return convertToTitle(columnNumber)+ chr(65+ remainder)\n",
        "\n",
        "\n",
        "convertToTitle(25)"
      ]
    },
    {
      "cell_type": "code",
      "source": [],
      "metadata": {
        "id": "MLA-17KsetZL"
      },
      "execution_count": null,
      "outputs": []
    }
  ]
}