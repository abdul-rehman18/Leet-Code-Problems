{
  "nbformat": 4,
  "nbformat_minor": 0,
  "metadata": {
    "colab": {
      "provenance": []
    },
    "kernelspec": {
      "name": "python3",
      "display_name": "Python 3"
    },
    "language_info": {
      "name": "python"
    }
  },
  "cells": [
    {
      "cell_type": "markdown",
      "source": [
        "# LeetCode Problem: Reverse Prefix of Word\n"
      ],
      "metadata": {
        "id": "PjGvUm5Gn5vf"
      }
    },
    {
      "cell_type": "code",
      "execution_count": 2,
      "metadata": {
        "id": "Q_Yf4w-MbyUm",
        "colab": {
          "base_uri": "https://localhost:8080/"
        },
        "outputId": "e366c18f-4ec6-4356-da89-9fe6ea54c23d"
      },
      "outputs": [
        {
          "output_type": "stream",
          "name": "stdout",
          "text": [
            "dcbaefd\n"
          ]
        }
      ],
      "source": [
        "def reversePrefix(word,ch):\n",
        "        j = word.find(ch)\n",
        "        if j != -1:\n",
        "            return word[:j+1][::-1] + word[j+1:]\n",
        "        return word\n",
        "\n",
        "word = \"abcdefd\"\n",
        "ch = \"d\"\n",
        "print(reversePrefix(word,ch))"
      ]
    },
    {
      "cell_type": "code",
      "source": [],
      "metadata": {
        "id": "URGlKuAzb4IQ"
      },
      "execution_count": null,
      "outputs": []
    }
  ]
}