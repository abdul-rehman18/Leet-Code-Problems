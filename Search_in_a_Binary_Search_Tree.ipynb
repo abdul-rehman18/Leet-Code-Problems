{
  "nbformat": 4,
  "nbformat_minor": 0,
  "metadata": {
    "colab": {
      "provenance": []
    },
    "kernelspec": {
      "name": "python3",
      "display_name": "Python 3"
    },
    "language_info": {
      "name": "python"
    }
  },
  "cells": [
    {
      "cell_type": "markdown",
      "source": [
        "# LeetCode Problem: Search in a Binary Search Tree"
      ],
      "metadata": {
        "id": "nsYWsi3TVoDz"
      }
    },
    {
      "cell_type": "code",
      "execution_count": 1,
      "metadata": {
        "colab": {
          "base_uri": "https://localhost:8080/"
        },
        "id": "A9jBeH6fUWix",
        "outputId": "a00e6930-a6c1-46ba-cbb6-005c94180ad3"
      },
      "outputs": [
        {
          "output_type": "stream",
          "name": "stdout",
          "text": [
            "Node with value 4 found in the BST.\n"
          ]
        }
      ],
      "source": [
        "class TreeNode:\n",
        "    def __init__(self, val=0, left=None, right=None):\n",
        "        self.val = val\n",
        "        self.left = left\n",
        "        self.right = right\n",
        "class Solution:\n",
        "    def searchBST(self, root: TreeNode, val: int) -> TreeNode:\n",
        "        if not root:\n",
        "            return\n",
        "        if root.val==val:\n",
        "            return root\n",
        "        if root.val<val:\n",
        "            return self.searchBST(root.right,val)\n",
        "        else:\n",
        "            return self.searchBST(root.left,val)\n",
        "\n",
        "\n",
        "\n",
        "def main():\n",
        "    # Creating a sample binary search tree\n",
        "    #        5\n",
        "    #       / \\\n",
        "    #      3   7\n",
        "    #     / \\   \\\n",
        "    #    2   4   8\n",
        "    root = TreeNode(5)\n",
        "    root.left = TreeNode(3, TreeNode(2), TreeNode(4))\n",
        "    root.right = TreeNode(7, None, TreeNode(8))\n",
        "\n",
        "    # Creating an instance of the Solution class\n",
        "    solution = Solution()\n",
        "\n",
        "    # Searching for a value in the binary search tree\n",
        "    target_value = 4\n",
        "    result_node = solution.searchBST(root, target_value)\n",
        "\n",
        "    # Displaying the result\n",
        "    if result_node:\n",
        "        print(f\"Node with value {target_value} found in the BST.\")\n",
        "    else:\n",
        "        print(f\"Node with value {target_value} not found in the BST.\")\n",
        "\n",
        "if __name__ == \"__main__\":\n",
        "    main()\n"
      ]
    },
    {
      "cell_type": "code",
      "source": [],
      "metadata": {
        "id": "AGKZ0BQqVc6q"
      },
      "execution_count": null,
      "outputs": []
    }
  ]
}