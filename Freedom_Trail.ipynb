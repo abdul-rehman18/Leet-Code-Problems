{
  "nbformat": 4,
  "nbformat_minor": 0,
  "metadata": {
    "colab": {
      "provenance": []
    },
    "kernelspec": {
      "name": "python3",
      "display_name": "Python 3"
    },
    "language_info": {
      "name": "python"
    }
  },
  "cells": [
    {
      "cell_type": "markdown",
      "source": [
        "# LeetCode Problem: Freedom Trail"
      ],
      "metadata": {
        "id": "zl4z7i4R8IAs"
      }
    },
    {
      "cell_type": "code",
      "execution_count": 4,
      "metadata": {
        "colab": {
          "base_uri": "https://localhost:8080/"
        },
        "id": "SD8bScud76AM",
        "outputId": "b6750df4-56b5-40ae-e76c-a822ffebd171"
      },
      "outputs": [
        {
          "output_type": "stream",
          "name": "stdout",
          "text": [
            "4\n"
          ]
        }
      ],
      "source": [
        "from collections import defaultdict\n",
        "def findRotateSteps(ring, key):\n",
        "        memo = {}\n",
        "        positions = defaultdict(list)\n",
        "        for i, c in enumerate(ring):\n",
        "            positions[c].append(i)\n",
        "        return helper(0, 0, positions, key, ring, memo)\n",
        "\n",
        "def helper(in_index, pos, positions, key, ring, memo):\n",
        "        if in_index == len(key):\n",
        "            return 0\n",
        "        if (in_index, pos) in memo:\n",
        "            return memo[(in_index, pos)]\n",
        "        min_steps = float('inf')\n",
        "        for i in positions[key[in_index]]:\n",
        "            if i >= pos:\n",
        "                steps = min(i - pos, pos + len(ring) - i)\n",
        "            else:\n",
        "                steps = min(pos - i, i + len(ring) - pos)\n",
        "            min_steps = min(min_steps, steps + helper(in_index + 1, i, positions, key, ring, memo))\n",
        "        memo[(in_index, pos)] = min_steps + 1\n",
        "        return min_steps + 1\n",
        "\n",
        "\n",
        "ring = \"godding\"\n",
        "key = \"gd\"\n",
        "print(findRotateSteps(ring, key))"
      ]
    },
    {
      "cell_type": "code",
      "source": [],
      "metadata": {
        "id": "-d6aNhS98gig"
      },
      "execution_count": null,
      "outputs": []
    }
  ]
}