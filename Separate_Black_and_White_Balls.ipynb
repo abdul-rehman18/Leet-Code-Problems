{
  "nbformat": 4,
  "nbformat_minor": 0,
  "metadata": {
    "colab": {
      "provenance": []
    },
    "kernelspec": {
      "name": "python3",
      "display_name": "Python 3"
    },
    "language_info": {
      "name": "python"
    }
  },
  "cells": [
    {
      "cell_type": "markdown",
      "source": [
        "# LeetCode Problem: Separate Black and White Balls"
      ],
      "metadata": {
        "id": "05BMZ92wzEK2"
      }
    },
    {
      "cell_type": "code",
      "execution_count": 1,
      "metadata": {
        "colab": {
          "base_uri": "https://localhost:8080/"
        },
        "id": "amSL6vG9yo_8",
        "outputId": "a7a76a75-f1be-4949-fd10-fe93d590cc7b"
      },
      "outputs": [
        {
          "output_type": "stream",
          "name": "stdout",
          "text": [
            "1\n"
          ]
        }
      ],
      "source": [
        "def minimumSteps(s):\n",
        "        white=0\n",
        "        res=0\n",
        "        j=0\n",
        "        n=len(s)\n",
        "        while(j<n):\n",
        "            if s[j]=='0':\n",
        "                res+=white\n",
        "            white+=1 if s[j]=='1' else 0\n",
        "            j+=1\n",
        "        return res\n",
        "\n",
        "s = \"101\"\n",
        "print(minimumSteps(s))"
      ]
    },
    {
      "cell_type": "code",
      "source": [],
      "metadata": {
        "id": "24N7Y-Ryzi6C"
      },
      "execution_count": null,
      "outputs": []
    }
  ]
}