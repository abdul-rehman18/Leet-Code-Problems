{
  "nbformat": 4,
  "nbformat_minor": 0,
  "metadata": {
    "colab": {
      "provenance": []
    },
    "kernelspec": {
      "name": "python3",
      "display_name": "Python 3"
    },
    "language_info": {
      "name": "python"
    }
  },
  "cells": [
    {
      "cell_type": "markdown",
      "source": [
        "# LeetCode Problem: Delete Columns to Make Sorted"
      ],
      "metadata": {
        "id": "ghHbcPXkT_ge"
      }
    },
    {
      "cell_type": "code",
      "execution_count": 24,
      "metadata": {
        "colab": {
          "base_uri": "https://localhost:8080/"
        },
        "id": "y-aX49ncNp7o",
        "outputId": "71a31446-1053-44ec-ccb8-97269dba8975"
      },
      "outputs": [
        {
          "output_type": "stream",
          "name": "stdout",
          "text": [
            "1\n"
          ]
        }
      ],
      "source": [
        "def minDeletionSize(strs):\n",
        "    num_columns = len(strs[0])\n",
        "    num_deletions = 0\n",
        "\n",
        "    for col in range(num_columns):\n",
        "        for row in range(1, len(strs)):\n",
        "            if strs[row][col] < strs[row-1][col]:\n",
        "                num_deletions += 1\n",
        "                break\n",
        "\n",
        "    return num_deletions\n",
        "\n",
        "\n",
        "\n",
        "strs = [\"cba\",\"daf\",\"ghi\"]\n",
        "print(minDeletionSize(strs))"
      ]
    },
    {
      "cell_type": "code",
      "source": [],
      "metadata": {
        "id": "qeo8EfCVQfhh"
      },
      "execution_count": null,
      "outputs": []
    }
  ]
}