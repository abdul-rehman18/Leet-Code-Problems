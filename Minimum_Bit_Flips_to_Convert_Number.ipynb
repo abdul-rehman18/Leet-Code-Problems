{
  "nbformat": 4,
  "nbformat_minor": 0,
  "metadata": {
    "colab": {
      "provenance": []
    },
    "kernelspec": {
      "name": "python3",
      "display_name": "Python 3"
    },
    "language_info": {
      "name": "python"
    }
  },
  "cells": [
    {
      "cell_type": "markdown",
      "source": [
        "# LeetCode Problem: Minimum Bit Flips to Convert Number"
      ],
      "metadata": {
        "id": "7hPj5tospgio"
      }
    },
    {
      "cell_type": "code",
      "execution_count": 1,
      "metadata": {
        "colab": {
          "base_uri": "https://localhost:8080/"
        },
        "id": "eH7Z0CoRpImW",
        "outputId": "aec3b764-250a-4026-8290-0a8d06d69c68"
      },
      "outputs": [
        {
          "output_type": "stream",
          "name": "stdout",
          "text": [
            "3\n"
          ]
        }
      ],
      "source": [
        "def minBitFlips(start, goal):\n",
        "        xor_result = start ^ goal\n",
        "        count = 0\n",
        "        while xor_result > 0:\n",
        "            count += xor_result & 1  # Check if the least significant bit is 1\n",
        "            xor_result >>= 1         # Right shift to check the next bit\n",
        "        return count\n",
        "\n",
        "start = 10\n",
        "goal = 7\n",
        "print(minBitFlips(start, goal))"
      ]
    },
    {
      "cell_type": "code",
      "source": [],
      "metadata": {
        "id": "80JvwMXCpwsR"
      },
      "execution_count": null,
      "outputs": []
    }
  ]
}