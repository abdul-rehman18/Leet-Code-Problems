{
  "nbformat": 4,
  "nbformat_minor": 0,
  "metadata": {
    "colab": {
      "provenance": []
    },
    "kernelspec": {
      "name": "python3",
      "display_name": "Python 3"
    },
    "language_info": {
      "name": "python"
    }
  },
  "cells": [
    {
      "cell_type": "markdown",
      "source": [
        "# LeetCode Problem:  Smallest Range Covering Elements from K Lists"
      ],
      "metadata": {
        "id": "mYLFFmA974tj"
      }
    },
    {
      "cell_type": "code",
      "execution_count": 2,
      "metadata": {
        "colab": {
          "base_uri": "https://localhost:8080/"
        },
        "id": "1xlHPyZf70Rp",
        "outputId": "1a4a787e-393a-4ac9-e5a0-7383e814d53f"
      },
      "outputs": [
        {
          "output_type": "stream",
          "name": "stdout",
          "text": [
            "[20, 24]\n"
          ]
        }
      ],
      "source": [
        "import heapq\n",
        "def smallestRange(nums):\n",
        "        heap = []\n",
        "        cur_max = float('-inf')\n",
        "        for i in range(len(nums)):\n",
        "            heapq.heappush(heap, (nums[i][0],i,0))\n",
        "            cur_max = max(cur_max, nums[i][0])\n",
        "        small = [float('-inf'),float('inf')]\n",
        "        while heap:\n",
        "            cur_min , list_idx, i = heapq.heappop(heap)\n",
        "            if (cur_max - cur_min < small[1] - small[0]) or ((cur_max - cur_min == small[1] - small[0]) and cur_min < small[0]):\n",
        "                small = [cur_min, cur_max]\n",
        "            if i + 1 < len(nums[list_idx]):\n",
        "                nxt = nums[list_idx][i + 1]\n",
        "                heapq.heappush(heap, (nxt, list_idx, i+1))\n",
        "                cur_max = max(cur_max, nxt)\n",
        "            else:\n",
        "                break\n",
        "        return small\n",
        "\n",
        "nums = [[4,10,15,24,26],[0,9,12,20],[5,18,22,30]]\n",
        "\n",
        "print(smallestRange(nums))"
      ]
    },
    {
      "cell_type": "code",
      "source": [],
      "metadata": {
        "id": "-jwXkj2D-vLj"
      },
      "execution_count": null,
      "outputs": []
    }
  ]
}