{
  "nbformat": 4,
  "nbformat_minor": 0,
  "metadata": {
    "colab": {
      "provenance": []
    },
    "kernelspec": {
      "name": "python3",
      "display_name": "Python 3"
    },
    "language_info": {
      "name": "python"
    }
  },
  "cells": [
    {
      "cell_type": "markdown",
      "source": [
        "# LeetCode Problem:  Find Common Characters"
      ],
      "metadata": {
        "id": "wkLCdP_9tHKk"
      }
    },
    {
      "cell_type": "code",
      "execution_count": 2,
      "metadata": {
        "colab": {
          "base_uri": "https://localhost:8080/"
        },
        "id": "TDSgQNpwtBhq",
        "outputId": "c7050846-531a-46c3-d76a-a1e83b718266"
      },
      "outputs": [
        {
          "output_type": "stream",
          "name": "stdout",
          "text": [
            "['e', 'l', 'l']\n"
          ]
        }
      ],
      "source": [
        "from collections import Counter\n",
        "def commonChars(words):\n",
        "        res = []\n",
        "        freq = Counter(words[0])\n",
        "        for w in words[1:]:\n",
        "            w_freq = Counter(w)\n",
        "            freq &= w_freq\n",
        "        for i, j in freq.items():\n",
        "            res.extend([i]*j)\n",
        "        return res\n",
        "\n",
        "words = [\"bella\",\"label\",\"roller\"]\n",
        "print(commonChars(words))"
      ]
    },
    {
      "cell_type": "code",
      "source": [],
      "metadata": {
        "id": "1Yl6JamfxQIv"
      },
      "execution_count": null,
      "outputs": []
    }
  ]
}