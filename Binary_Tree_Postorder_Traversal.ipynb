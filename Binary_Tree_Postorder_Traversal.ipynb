{
  "nbformat": 4,
  "nbformat_minor": 0,
  "metadata": {
    "colab": {
      "provenance": []
    },
    "kernelspec": {
      "name": "python3",
      "display_name": "Python 3"
    },
    "language_info": {
      "name": "python"
    }
  },
  "cells": [
    {
      "cell_type": "markdown",
      "source": [
        "# LeetCode Problem : Binary Tree Postorder Traversal"
      ],
      "metadata": {
        "id": "45tWAJbSNs1x"
      }
    },
    {
      "cell_type": "code",
      "execution_count": 2,
      "metadata": {
        "colab": {
          "base_uri": "https://localhost:8080/"
        },
        "id": "ehRP14E2NWdk",
        "outputId": "2bd1e263-b8ea-4848-9af1-0ee408d0b9e3"
      },
      "outputs": [
        {
          "output_type": "stream",
          "name": "stdout",
          "text": [
            "[2, 3, 1]\n"
          ]
        }
      ],
      "source": [
        "class TreeNode:\n",
        "    def __init__(self, val=0, left=None, right=None):\n",
        "        self.val = val\n",
        "        self.left = left\n",
        "        self.right = right\n",
        "class Solution:\n",
        "    def postorderTraversal(self, root):\n",
        "        n=[]\n",
        "        def trav(root):\n",
        "            if not root: return\n",
        "            trav(root.left)\n",
        "            trav(root.right)\n",
        "            n.append(root.val)\n",
        "        trav(root)\n",
        "        return n\n",
        "\n",
        "def main():\n",
        "    root = TreeNode(1)\n",
        "    root.left = TreeNode(2)\n",
        "    root.right = TreeNode(3)\n",
        "\n",
        "    # Create a Solution object\n",
        "    solution = Solution()\n",
        "\n",
        "    # Test the postorderTraversal function\n",
        "    result = solution.postorderTraversal(root)\n",
        "    print(result)\n",
        "\n",
        "if __name__ == \"__main__\":\n",
        "    main()\n"
      ]
    },
    {
      "cell_type": "code",
      "source": [],
      "metadata": {
        "id": "YFk3vpEgO2q7"
      },
      "execution_count": null,
      "outputs": []
    }
  ]
}