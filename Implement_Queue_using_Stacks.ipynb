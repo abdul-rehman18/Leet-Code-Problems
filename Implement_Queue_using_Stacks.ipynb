{
  "nbformat": 4,
  "nbformat_minor": 0,
  "metadata": {
    "colab": {
      "provenance": []
    },
    "kernelspec": {
      "name": "python3",
      "display_name": "Python 3"
    },
    "language_info": {
      "name": "python"
    }
  },
  "cells": [
    {
      "cell_type": "markdown",
      "source": [
        "# LeetCode Problem: Implement Queue using Stacks"
      ],
      "metadata": {
        "id": "wHAFviX5lCPg"
      }
    },
    {
      "cell_type": "code",
      "execution_count": 1,
      "metadata": {
        "colab": {
          "base_uri": "https://localhost:8080/"
        },
        "id": "BImKkkeQkhEp",
        "outputId": "5587d5b4-5792-4d1c-9d39-63c600b9406e"
      },
      "outputs": [
        {
          "output_type": "stream",
          "name": "stdout",
          "text": [
            "Front element: 1\n",
            "Popped element: 1\n",
            "Is the queue empty? False\n"
          ]
        }
      ],
      "source": [
        "class MyQueue:\n",
        "\n",
        "    def __init__(self):\n",
        "        self.one =[]\n",
        "        self.two =[]\n",
        "\n",
        "    def push(self, x):\n",
        "        self.two.append(x)\n",
        "\n",
        "    def pop(self):\n",
        "        self.peek()\n",
        "        return self.one.pop()\n",
        "\n",
        "    def peek(self):\n",
        "        if not self.one:\n",
        "            while self.two:\n",
        "                self.one.append(self.two.pop())\n",
        "        return self.one[-1]\n",
        "\n",
        "    def empty(self):\n",
        "        return not self.one and self.two\n",
        "\n",
        "def main():\n",
        "    my_queue = MyQueue()\n",
        "\n",
        "    my_queue.push(1)\n",
        "    my_queue.push(2)\n",
        "    my_queue.push(3)\n",
        "\n",
        "    print(\"Front element:\", my_queue.peek())\n",
        "\n",
        "    popped_element = my_queue.pop()\n",
        "    print(\"Popped element:\", popped_element)\n",
        "\n",
        "    is_empty = my_queue.empty()\n",
        "    print(\"Is the queue empty?\", is_empty)\n",
        "\n",
        "if __name__ == \"__main__\":\n",
        "    main()\n"
      ]
    },
    {
      "cell_type": "code",
      "source": [],
      "metadata": {
        "id": "BkIJ7pH7mqMm"
      },
      "execution_count": null,
      "outputs": []
    }
  ]
}