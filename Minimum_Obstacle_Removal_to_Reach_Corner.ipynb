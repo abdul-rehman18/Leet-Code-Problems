{
  "nbformat": 4,
  "nbformat_minor": 0,
  "metadata": {
    "colab": {
      "provenance": []
    },
    "kernelspec": {
      "name": "python3",
      "display_name": "Python 3"
    },
    "language_info": {
      "name": "python"
    }
  },
  "cells": [
    {
      "cell_type": "markdown",
      "source": [
        "# LeetCode Problem: Minimum Obstacle Removal to Reach Corner"
      ],
      "metadata": {
        "id": "Ciqp0pt_L1Ff"
      }
    },
    {
      "cell_type": "code",
      "execution_count": 2,
      "metadata": {
        "colab": {
          "base_uri": "https://localhost:8080/"
        },
        "id": "BqC0B28lLxHx",
        "outputId": "31f7241b-4733-49a8-aa46-8abf721fa7a3"
      },
      "outputs": [
        {
          "output_type": "stream",
          "name": "stdout",
          "text": [
            "2\n"
          ]
        }
      ],
      "source": [
        "import heapq\n",
        "from collections import deque\n",
        "def minimumObstacles(grid):\n",
        "        m, n = len(grid), len(grid[0])\n",
        "        directions = [(0, 1), (1, 0), (0, -1), (-1, 0)]  # right, down, left, up\n",
        "\n",
        "        # Deque for 0-1 BFS: (x, y, obstacles_removed)\n",
        "        deque_ = deque([(0, 0, 0)])  # Start at (0, 0) with 0 obstacles removed\n",
        "        visited = [[False] * n for _ in range(m)]\n",
        "        visited[0][0] = True\n",
        "\n",
        "        while deque_:\n",
        "            x, y, obstacles_removed = deque_.popleft()\n",
        "\n",
        "            # If we reach the bottom-right corner\n",
        "            if x == m - 1 and y == n - 1:\n",
        "                return obstacles_removed\n",
        "\n",
        "            for dx, dy in directions:\n",
        "                nx, ny = x + dx, y + dy\n",
        "\n",
        "                if 0 <= nx < m and 0 <= ny < n and not visited[nx][ny]:\n",
        "                    visited[nx][ny] = True\n",
        "                    if grid[nx][ny] == 0:\n",
        "                        deque_.appendleft((nx, ny, obstacles_removed))  # No obstacle to remove\n",
        "                    else:\n",
        "                        deque_.append((nx, ny, obstacles_removed + 1))  # Remove the obstacle\n",
        "\n",
        "        # If no path exists (problem constraints guarantee at least one path exists)\n",
        "        return -1\n",
        "\n",
        "grid = [[0,1,1],[1,1,0],[1,1,0]]\n",
        "\n",
        "\n",
        "print(minimumObstacles(grid))"
      ]
    },
    {
      "cell_type": "code",
      "source": [],
      "metadata": {
        "id": "BDrY8gvrMGJc"
      },
      "execution_count": null,
      "outputs": []
    }
  ]
}