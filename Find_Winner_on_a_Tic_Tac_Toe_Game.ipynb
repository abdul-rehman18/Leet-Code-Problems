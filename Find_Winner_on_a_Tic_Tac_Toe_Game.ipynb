{
  "nbformat": 4,
  "nbformat_minor": 0,
  "metadata": {
    "colab": {
      "provenance": []
    },
    "kernelspec": {
      "name": "python3",
      "display_name": "Python 3"
    },
    "language_info": {
      "name": "python"
    }
  },
  "cells": [
    {
      "cell_type": "markdown",
      "source": [
        "# LeetCode Problem : Find Winner on a Tic Tac Toe Game"
      ],
      "metadata": {
        "id": "7ks8Cvjx1eMn"
      }
    },
    {
      "cell_type": "code",
      "execution_count": null,
      "metadata": {
        "id": "zcZCvg5Szz1e"
      },
      "outputs": [],
      "source": [
        "class Solution:\n",
        "    def tictactoe(self, moves: List[List[int]]) -> str:\n",
        "        board = [[\"\"] * 3 for _ in range(3)]\n",
        "\n",
        "        # Fill board\n",
        "        is_A = True\n",
        "        for r, c in moves:\n",
        "            board[r][c] = \"X\" if is_A else \"O\"\n",
        "            is_A = not is_A\n",
        "\n",
        "        # Check rows and columns\n",
        "        for i in range(3):\n",
        "            if board[i][0] and board[i][0] == board[i][1] == board[i][2]:\n",
        "                return \"A\" if board[i][0] == \"X\" else \"B\"\n",
        "            if board[0][i] and board[0][i] == board[1][i] == board[2][i]:\n",
        "                return \"A\" if board[0][i] == \"X\" else \"B\"\n",
        "\n",
        "        # Check diagonals\n",
        "        if board[1][1] and ((board[0][0] == board[1][1] == board[2][2]) or (board[0][2] == board[1][1] == board[2][0])):\n",
        "            return \"A\" if board[1][1] == \"X\" else \"B\"\n",
        "\n",
        "        return \"Draw\" if len(moves) == 9 else \"Pending\""
      ]
    }
  ]
}