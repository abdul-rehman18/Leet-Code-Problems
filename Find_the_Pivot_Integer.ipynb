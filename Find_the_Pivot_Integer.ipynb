{
  "nbformat": 4,
  "nbformat_minor": 0,
  "metadata": {
    "colab": {
      "provenance": []
    },
    "kernelspec": {
      "name": "python3",
      "display_name": "Python 3"
    },
    "language_info": {
      "name": "python"
    }
  },
  "cells": [
    {
      "cell_type": "markdown",
      "source": [
        "# LeetCode Problem: Find the Pivot Integer"
      ],
      "metadata": {
        "id": "O4InXBKzTqvF"
      }
    },
    {
      "cell_type": "code",
      "execution_count": 3,
      "metadata": {
        "colab": {
          "base_uri": "https://localhost:8080/"
        },
        "id": "XE_-dlOjRSCv",
        "outputId": "a92710e8-7929-4caf-8d5c-a4a8183af009"
      },
      "outputs": [
        {
          "output_type": "stream",
          "name": "stdout",
          "text": [
            "6\n"
          ]
        }
      ],
      "source": [
        "import math\n",
        "def pivotInteger(n):\n",
        "        ans = math.sqrt(n * (n + 1) / 2)\n",
        "        if ans % 1 == 0:\n",
        "            return int(ans)\n",
        "        return -1\n",
        "\n",
        "\n",
        "n = 8\n",
        "print(pivotInteger(n))"
      ]
    },
    {
      "cell_type": "code",
      "source": [],
      "metadata": {
        "id": "WMQy0SNwTuQ_"
      },
      "execution_count": null,
      "outputs": []
    }
  ]
}