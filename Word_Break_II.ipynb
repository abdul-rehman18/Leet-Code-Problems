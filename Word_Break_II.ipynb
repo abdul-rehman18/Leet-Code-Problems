{
  "nbformat": 4,
  "nbformat_minor": 0,
  "metadata": {
    "colab": {
      "provenance": []
    },
    "kernelspec": {
      "name": "python3",
      "display_name": "Python 3"
    },
    "language_info": {
      "name": "python"
    }
  },
  "cells": [
    {
      "cell_type": "markdown",
      "source": [
        "# LeetCode Problem: Word Break II"
      ],
      "metadata": {
        "id": "IGji4kN3EdQO"
      }
    },
    {
      "cell_type": "code",
      "execution_count": 2,
      "metadata": {
        "colab": {
          "base_uri": "https://localhost:8080/"
        },
        "id": "9LPO03nbET9x",
        "outputId": "d062b67a-dd14-48c5-cbcd-04f7913bfb38"
      },
      "outputs": [
        {
          "output_type": "stream",
          "name": "stdout",
          "text": [
            "['cat sand dog', 'cats and dog']\n"
          ]
        }
      ],
      "source": [
        "from functools import cache\n",
        "def wordBreak(s, wordDict):\n",
        "        wordSet = set(wordDict)\n",
        "        @cache\n",
        "        def helper(t):\n",
        "            combos = []\n",
        "            if not t:\n",
        "                return [\"\"]\n",
        "            for i, _ in enumerate(t):\n",
        "                w = t[:i+1]\n",
        "                if w in wordSet:\n",
        "                    combos.extend([\n",
        "                        f'{w} {sentence}' if sentence else w\n",
        "                        for sentence in helper(t[i+1:])\n",
        "                    ])\n",
        "            return combos\n",
        "        return helper(s)\n",
        "\n",
        "s = \"catsanddog\"\n",
        "wordDict = [\"cat\",\"cats\",\"and\",\"sand\",\"dog\"]\n",
        "print(wordBreak(s, wordDict))"
      ]
    },
    {
      "cell_type": "code",
      "source": [],
      "metadata": {
        "id": "a5CLdiW3FCFu"
      },
      "execution_count": null,
      "outputs": []
    }
  ]
}