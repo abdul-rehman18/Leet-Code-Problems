{
  "nbformat": 4,
  "nbformat_minor": 0,
  "metadata": {
    "colab": {
      "provenance": []
    },
    "kernelspec": {
      "name": "python3",
      "display_name": "Python 3"
    },
    "language_info": {
      "name": "python"
    }
  },
  "cells": [
    {
      "cell_type": "markdown",
      "source": [
        "LeetCode Problem: Last Stone Weight"
      ],
      "metadata": {
        "id": "adjX7REkb6EJ"
      }
    },
    {
      "cell_type": "code",
      "execution_count": 3,
      "metadata": {
        "colab": {
          "base_uri": "https://localhost:8080/"
        },
        "id": "ekFV7Yo4amcp",
        "outputId": "b3aac55a-b3b7-4ac4-9e5a-abe4ed3dba27"
      },
      "outputs": [
        {
          "output_type": "stream",
          "name": "stdout",
          "text": [
            "1\n"
          ]
        }
      ],
      "source": [
        "import heapq\n",
        "\n",
        "def lastStoneWeight(stones):\n",
        "    s = [-s for s in stones]\n",
        "    heapq.heapify(s)\n",
        "    while len(s)>1:\n",
        "        heapq.heappush(s, -abs(heapq.heappop(s) - heapq.heappop(s)))\n",
        "    return -s[0]\n",
        "\n",
        "\n",
        "stones = [2,7,4,1,8,1]\n",
        "print(lastStoneWeight(stones))"
      ]
    },
    {
      "cell_type": "code",
      "source": [],
      "metadata": {
        "id": "K8PRvlkbbvKY"
      },
      "execution_count": null,
      "outputs": []
    }
  ]
}