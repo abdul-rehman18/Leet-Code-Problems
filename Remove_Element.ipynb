{
 "cells": [
  {
   "cell_type": "markdown",
   "id": "a58df733",
   "metadata": {},
   "source": [
    "# LeetCode Problem: Remove Element"
   ]
  },
  {
   "cell_type": "code",
   "execution_count": 7,
   "id": "5ff43cec",
   "metadata": {},
   "outputs": [
    {
     "name": "stdout",
     "output_type": "stream",
     "text": [
      "5\n"
     ]
    }
   ],
   "source": [
    "def removeElement(nums,val):\n",
    "    nums[:] = [num for num in nums if val!=num]\n",
    "    return len(nums)\n",
    "    \n",
    "len_list=removeElement([0,1,2,2,3,0,4,2],2)\n",
    "print(len_list)"
   ]
  },
  {
   "cell_type": "code",
   "execution_count": null,
   "id": "7f8ef6de",
   "metadata": {},
   "outputs": [],
   "source": []
  }
 ],
 "metadata": {
  "kernelspec": {
   "display_name": "Python 3 (ipykernel)",
   "language": "python",
   "name": "python3"
  },
  "language_info": {
   "codemirror_mode": {
    "name": "ipython",
    "version": 3
   },
   "file_extension": ".py",
   "mimetype": "text/x-python",
   "name": "python",
   "nbconvert_exporter": "python",
   "pygments_lexer": "ipython3",
   "version": "3.10.9"
  }
 },
 "nbformat": 4,
 "nbformat_minor": 5
}
