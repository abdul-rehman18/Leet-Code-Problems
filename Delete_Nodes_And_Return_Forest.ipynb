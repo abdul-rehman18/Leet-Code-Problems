{
  "nbformat": 4,
  "nbformat_minor": 0,
  "metadata": {
    "colab": {
      "provenance": []
    },
    "kernelspec": {
      "name": "python3",
      "display_name": "Python 3"
    },
    "language_info": {
      "name": "python"
    }
  },
  "cells": [
    {
      "cell_type": "markdown",
      "source": [
        "# LeetCode Problem: Delete Nodes And Return Forest"
      ],
      "metadata": {
        "id": "Wj31tV0LCY39"
      }
    },
    {
      "cell_type": "code",
      "execution_count": 2,
      "metadata": {
        "colab": {
          "base_uri": "https://localhost:8080/"
        },
        "id": "YcKCpRt3CITK",
        "outputId": "698e2192-afc3-4212-d4d1-c063ed3bbbe8"
      },
      "outputs": [
        {
          "output_type": "stream",
          "name": "stdout",
          "text": [
            "1(2(4(None, None), None), None)\n",
            "6(None, None)\n",
            "7(None, None)\n"
          ]
        }
      ],
      "source": [
        "# Definition for a binary tree node.\n",
        "class TreeNode:\n",
        "    def __init__(self, val=0, left=None, right=None):\n",
        "        self.val = val\n",
        "        self.left = left\n",
        "        self.right = right\n",
        "\n",
        "class Solution:\n",
        "    def delNodes(self, root, to_delete):\n",
        "        s = set(to_delete)\n",
        "        res = []\n",
        "\n",
        "        def dfs(node, is_root):\n",
        "            if not node:\n",
        "                return None\n",
        "            to_delete = node.val in s\n",
        "            if is_root and not to_delete:\n",
        "                res.append(node)\n",
        "            node.left = dfs(node.left, to_delete)\n",
        "            node.right = dfs(node.right, to_delete)\n",
        "            return None if to_delete else node\n",
        "\n",
        "        dfs(root, True)\n",
        "        return res\n",
        "\n",
        "def main():\n",
        "    # Helper function to build tree from list\n",
        "    def build_tree(nodes):\n",
        "        val, left, right = nodes\n",
        "        root = TreeNode(val)\n",
        "        if left:\n",
        "            root.left = build_tree(left)\n",
        "        if right:\n",
        "            root.right = build_tree(right)\n",
        "        return root\n",
        "\n",
        "    # Example tree: [1, [2, [4, None, None], [5, None, None]], [3, [6, None, None], [7, None, None]]]\n",
        "    nodes = [1, [2, [4, None, None], [5, None, None]], [3, [6, None, None], [7, None, None]]]\n",
        "    root = build_tree(nodes)\n",
        "\n",
        "    # Nodes to delete\n",
        "    to_delete = [3, 5]\n",
        "\n",
        "    solution = Solution()\n",
        "    remaining_forest = solution.delNodes(root, to_delete)\n",
        "\n",
        "    # Helper function to print trees\n",
        "    def print_tree(root):\n",
        "        if root is None:\n",
        "            return \"None\"\n",
        "        return f\"{root.val}({print_tree(root.left)}, {print_tree(root.right)})\"\n",
        "\n",
        "    # Print remaining forest\n",
        "    for tree in remaining_forest:\n",
        "        print(print_tree(tree))\n",
        "\n",
        "if __name__ == \"__main__\":\n",
        "    main()\n"
      ]
    },
    {
      "cell_type": "code",
      "source": [],
      "metadata": {
        "id": "bkY5lvWECq03"
      },
      "execution_count": null,
      "outputs": []
    }
  ]
}