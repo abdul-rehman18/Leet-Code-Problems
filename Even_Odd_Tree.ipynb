{
  "nbformat": 4,
  "nbformat_minor": 0,
  "metadata": {
    "colab": {
      "provenance": []
    },
    "kernelspec": {
      "name": "python3",
      "display_name": "Python 3"
    },
    "language_info": {
      "name": "python"
    }
  },
  "cells": [
    {
      "cell_type": "markdown",
      "source": [
        "# LeetCode Problem: Even Odd Tree"
      ],
      "metadata": {
        "id": "cWbFyscpF1do"
      }
    },
    {
      "cell_type": "code",
      "execution_count": 1,
      "metadata": {
        "colab": {
          "base_uri": "https://localhost:8080/"
        },
        "id": "JhV_kG5eFqdE",
        "outputId": "c8ebbb4a-c239-4d1d-b0bf-db8238a656da"
      },
      "outputs": [
        {
          "output_type": "stream",
          "name": "stdout",
          "text": [
            "True\n"
          ]
        }
      ],
      "source": [
        "# Definition for a binary tree node.\n",
        "class TreeNode:\n",
        "    def __init__(self, val=0, left=None, right=None):\n",
        "        self.val = val\n",
        "        self.left = left\n",
        "        self.right = right\n",
        "\n",
        "from collections import deque\n",
        "\n",
        "class Solution:\n",
        "    def isEvenOddTree(self, root):\n",
        "        if not root:\n",
        "            return True\n",
        "\n",
        "        q = deque([root])\n",
        "        lvl =0\n",
        "        while q:\n",
        "            p = None\n",
        "            for _ in range(len(q)):\n",
        "                node = q.popleft()\n",
        "                if (lvl % 2 == 0 and (node.val % 2 == 0 or (p is not None and node.val <= p))) or (lvl % 2 == 1 and (node.val % 2 == 1 or (p is not None and node.val >= p))):\n",
        "                    return False\n",
        "                p = node.val\n",
        "                if node.left:\n",
        "                    q.append(node.left)\n",
        "                if node.right:\n",
        "                    q.append(node.right)\n",
        "            lvl += 1\n",
        "        return True\n",
        "\n",
        "def main():\n",
        "    root = TreeNode(1)\n",
        "    root.left = TreeNode(10)\n",
        "    root.right = TreeNode(4)\n",
        "    root.left.left = TreeNode(3)\n",
        "    root.left.right = TreeNode(7)\n",
        "    root.right.right = TreeNode(9)\n",
        "\n",
        "    solution = Solution()\n",
        "    print(solution.isEvenOddTree(root))\n",
        "\n",
        "if __name__ == \"__main__\":\n",
        "    main()\n"
      ]
    },
    {
      "cell_type": "code",
      "source": [],
      "metadata": {
        "id": "etTJDbGPGVRD"
      },
      "execution_count": null,
      "outputs": []
    }
  ]
}