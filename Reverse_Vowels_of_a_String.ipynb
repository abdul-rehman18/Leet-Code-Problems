{
  "nbformat": 4,
  "nbformat_minor": 0,
  "metadata": {
    "colab": {
      "provenance": []
    },
    "kernelspec": {
      "name": "python3",
      "display_name": "Python 3"
    },
    "language_info": {
      "name": "python"
    }
  },
  "cells": [
    {
      "cell_type": "markdown",
      "source": [
        "# LeetCode Problem: Reverse Vowels of a String"
      ],
      "metadata": {
        "id": "v8HFNvZbP8IH"
      }
    },
    {
      "cell_type": "code",
      "execution_count": 4,
      "metadata": {
        "colab": {
          "base_uri": "https://localhost:8080/"
        },
        "id": "axlWAOspKhXp",
        "outputId": "f18dbe7e-9478-4cce-a524-2511f57afc83"
      },
      "outputs": [
        {
          "output_type": "stream",
          "name": "stdout",
          "text": [
            "leotcede\n"
          ]
        }
      ],
      "source": [
        "def reverseVowels(s):\n",
        "    vowels = set(['a', 'e', 'i', 'o', 'u'])\n",
        "    s_list = list(s)\n",
        "    i, j = 0, len(s_list) - 1\n",
        "\n",
        "    while i < j:\n",
        "        while i < j and s_list[i].lower() not in vowels:\n",
        "            i += 1\n",
        "        while i < j and s_list[j].lower() not in vowels:\n",
        "            j -= 1\n",
        "\n",
        "        s_list[i], s_list[j] = s_list[j], s_list[i]\n",
        "        i += 1\n",
        "        j -= 1\n",
        "\n",
        "    return ''.join(s_list)\n",
        "\n",
        "s = \"leetcode\"\n",
        "res = reverseVowels(s)\n",
        "print(res)\n"
      ]
    },
    {
      "cell_type": "code",
      "source": [],
      "metadata": {
        "id": "ImMKmXvOMf4D"
      },
      "execution_count": null,
      "outputs": []
    }
  ]
}