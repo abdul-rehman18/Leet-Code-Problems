{
  "nbformat": 4,
  "nbformat_minor": 0,
  "metadata": {
    "colab": {
      "provenance": []
    },
    "kernelspec": {
      "name": "python3",
      "display_name": "Python 3"
    },
    "language_info": {
      "name": "python"
    }
  },
  "cells": [
    {
      "cell_type": "markdown",
      "source": [
        "# LeetCode Problem:  Range Sum Query - Immutable"
      ],
      "metadata": {
        "id": "q1f_AaVBSlLE"
      }
    },
    {
      "cell_type": "code",
      "execution_count": 2,
      "metadata": {
        "colab": {
          "base_uri": "https://localhost:8080/"
        },
        "id": "J8uH7u_2O57_",
        "outputId": "6a04c8fe-7f47-4a41-b238-1ddd24a0eecd"
      },
      "outputs": [
        {
          "output_type": "stream",
          "name": "stdout",
          "text": [
            "6\n",
            "12\n",
            "9\n"
          ]
        }
      ],
      "source": [
        "class NumArray:\n",
        "\n",
        "    def __init__(self, nums):\n",
        "        self.s = []\n",
        "        su = 0\n",
        "        for i in nums:\n",
        "            su += i\n",
        "            self.s.append(su)\n",
        "\n",
        "    def sumRange(self, left, right):\n",
        "        if left > 0 and right > 0:\n",
        "            return self.s[right] - self.s[left - 1]\n",
        "        else:\n",
        "            return self.s[left or right]\n",
        "\n",
        "\n",
        "def main():\n",
        "    nums = [1, 2, 3, 4, 5]\n",
        "    num_array = NumArray(nums)\n",
        "\n",
        "    # Test cases\n",
        "    print(num_array.sumRange(0, 2))  # Output: 6\n",
        "    print(num_array.sumRange(2, 4))  # Output: 12\n",
        "    print(num_array.sumRange(1, 3))  # Output: 9\n",
        "\n",
        "if __name__ == \"__main__\":\n",
        "    main()"
      ]
    },
    {
      "cell_type": "code",
      "source": [],
      "metadata": {
        "id": "LFjForajXYB2"
      },
      "execution_count": null,
      "outputs": []
    }
  ]
}