{
  "nbformat": 4,
  "nbformat_minor": 0,
  "metadata": {
    "colab": {
      "provenance": []
    },
    "kernelspec": {
      "name": "python3",
      "display_name": "Python 3"
    },
    "language_info": {
      "name": "python"
    }
  },
  "cells": [
    {
      "cell_type": "markdown",
      "source": [
        "# LeetCode Problem: Merge Nodes in Between Zeros"
      ],
      "metadata": {
        "id": "VV2M6mCIrZm4"
      }
    },
    {
      "cell_type": "code",
      "execution_count": 2,
      "metadata": {
        "colab": {
          "base_uri": "https://localhost:8080/"
        },
        "id": "s5PYimvGrJev",
        "outputId": "45c00809-435f-4d52-ba12-6d4d03051e5b"
      },
      "outputs": [
        {
          "output_type": "stream",
          "name": "stdout",
          "text": [
            "[4, 11]\n"
          ]
        }
      ],
      "source": [
        "class ListNode:\n",
        "    def __init__(self, val=0, next=None):\n",
        "        self.val = val\n",
        "        self.next = next\n",
        "\n",
        "class Solution:\n",
        "    def mergeNodes(self, head):\n",
        "        dummy = ListNode(0)  # Dummy node to simplify list construction\n",
        "        currentNew = dummy  # Pointer to construct new list\n",
        "        currentOld = head.next  # Start from the node after the initial zero\n",
        "\n",
        "        sum = 0\n",
        "\n",
        "        while currentOld is not None:\n",
        "            if currentOld.val == 0:\n",
        "                # When we hit a zero, we need to create a new node with the sum if sum is non-zero\n",
        "                if sum != 0:\n",
        "                    currentNew.next = ListNode(sum)\n",
        "                    currentNew = currentNew.next\n",
        "                    sum = 0  # Reset sum for the next segment\n",
        "            else:\n",
        "                # Accumulate the sum of values between zeros\n",
        "                sum += currentOld.val\n",
        "            currentOld = currentOld.next\n",
        "\n",
        "        return dummy.next  # The first node in the dummy list is the start of the result list\n",
        "\n",
        "\n",
        "def list_to_linkedlist(lst):\n",
        "    dummy = ListNode()\n",
        "    current = dummy\n",
        "    for val in lst:\n",
        "        current.next = ListNode(val)\n",
        "        current = current.next\n",
        "    return dummy.next\n",
        "\n",
        "\n",
        "def linkedlist_to_list(head):\n",
        "    lst = []\n",
        "    while head:\n",
        "        lst.append(head.val)\n",
        "        head = head.next\n",
        "    return lst\n",
        "\n",
        "\n",
        "def main():\n",
        "    # Example input\n",
        "    values = [0, 3, 1, 0, 4, 5, 2, 0]\n",
        "\n",
        "    # Convert list to linked list\n",
        "    head = list_to_linkedlist(values)\n",
        "\n",
        "    # Create Solution object and call mergeNodes\n",
        "    solution = Solution()\n",
        "    new_head = solution.mergeNodes(head)\n",
        "\n",
        "    # Convert the resulting linked list back to a list and print it\n",
        "    result = linkedlist_to_list(new_head)\n",
        "    print(result)\n",
        "\n",
        "\n",
        "if __name__ == \"__main__\":\n",
        "    main()\n"
      ]
    },
    {
      "cell_type": "code",
      "source": [],
      "metadata": {
        "id": "JeLQrH2Jr7we"
      },
      "execution_count": null,
      "outputs": []
    }
  ]
}