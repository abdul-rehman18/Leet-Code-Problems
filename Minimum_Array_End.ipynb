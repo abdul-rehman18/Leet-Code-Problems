{
  "nbformat": 4,
  "nbformat_minor": 0,
  "metadata": {
    "colab": {
      "provenance": []
    },
    "kernelspec": {
      "name": "python3",
      "display_name": "Python 3"
    },
    "language_info": {
      "name": "python"
    }
  },
  "cells": [
    {
      "cell_type": "markdown",
      "source": [
        "# LeetCode Problem: Minimum Array End"
      ],
      "metadata": {
        "id": "jX9LIa1iQw9t"
      }
    },
    {
      "cell_type": "code",
      "execution_count": 2,
      "metadata": {
        "colab": {
          "base_uri": "https://localhost:8080/"
        },
        "id": "FMEDFeqTPVuY",
        "outputId": "ba608692-5d78-4b6f-b9c6-7c81fa82e044"
      },
      "outputs": [
        {
          "output_type": "stream",
          "name": "stdout",
          "text": [
            "6\n"
          ]
        }
      ],
      "source": [
        "def minEnd(n, x):\n",
        "        result = x\n",
        "        remaining = n - 1\n",
        "        position = 1\n",
        "\n",
        "        while remaining:\n",
        "            if not (x & position):\n",
        "                result |= (remaining & 1) * position\n",
        "                remaining >>= 1\n",
        "            position <<= 1\n",
        "\n",
        "        return result\n",
        "\n",
        "n = 3\n",
        "x = 4\n",
        "print(minEnd(n,x))"
      ]
    },
    {
      "cell_type": "code",
      "source": [],
      "metadata": {
        "id": "0cFti55mROUf"
      },
      "execution_count": null,
      "outputs": []
    }
  ]
}