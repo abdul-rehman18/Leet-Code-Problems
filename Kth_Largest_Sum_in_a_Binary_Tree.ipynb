{
  "nbformat": 4,
  "nbformat_minor": 0,
  "metadata": {
    "colab": {
      "provenance": []
    },
    "kernelspec": {
      "name": "python3",
      "display_name": "Python 3"
    },
    "language_info": {
      "name": "python"
    }
  },
  "cells": [
    {
      "cell_type": "markdown",
      "source": [
        "# LeetCode Problem: Kth Largest Sum in a Binary Tree"
      ],
      "metadata": {
        "id": "ObzWkvla3ie4"
      }
    },
    {
      "cell_type": "code",
      "execution_count": 2,
      "metadata": {
        "colab": {
          "base_uri": "https://localhost:8080/"
        },
        "id": "PNk9CAHO3SQD",
        "outputId": "93012138-4254-4db9-ec37-0a6ac6979783"
      },
      "outputs": [
        {
          "output_type": "stream",
          "name": "stdout",
          "text": [
            "13\n"
          ]
        }
      ],
      "source": [
        "import heapq\n",
        "\n",
        "class TreeNode:\n",
        "    def __init__(self, val=0, left=None, right=None):\n",
        "        self.val = val\n",
        "        self.left = left\n",
        "        self.right = right\n",
        "\n",
        "class Solution:\n",
        "    def kthLargestLevelSum(self, root, k):\n",
        "        sum=[0]*100000\n",
        "        sz=0\n",
        "        def dfs(root, level):\n",
        "            nonlocal sz\n",
        "            if not root: return\n",
        "            if sz<=level: sz+=1\n",
        "            sum[level]+=root.val\n",
        "            if root.left: dfs(root.left, level+1)\n",
        "            if root.right: dfs(root.right, level+1)\n",
        "        dfs(root, 0)\n",
        "        if sz<k: return -1\n",
        "        return heapq.nlargest(k, sum[:sz])[-1]\n",
        "\n",
        "# Helper function to build a binary tree from a list\n",
        "def build_tree(arr):\n",
        "    if not arr:\n",
        "        return None\n",
        "\n",
        "    root = TreeNode(arr[0])\n",
        "    queue = [root]\n",
        "    i = 1\n",
        "\n",
        "    while queue and i < len(arr):\n",
        "        curr_node = queue.pop(0)\n",
        "\n",
        "        if arr[i] is not None:\n",
        "            curr_node.left = TreeNode(arr[i])\n",
        "            queue.append(curr_node.left)\n",
        "        i += 1\n",
        "\n",
        "        if i < len(arr) and arr[i] is not None:\n",
        "            curr_node.right = TreeNode(arr[i])\n",
        "            queue.append(curr_node.right)\n",
        "        i += 1\n",
        "\n",
        "    return root\n",
        "\n",
        "\n",
        "root_list = [5,8,9,2,1,3,7,4,6]\n",
        "k = 2\n",
        "# Build the tree from the list\n",
        "root = build_tree(root_list)\n",
        "print(Solution().kthLargestLevelSum(root, k)) # Call the function with the TreeNode object"
      ]
    },
    {
      "cell_type": "code",
      "source": [],
      "metadata": {
        "id": "nZ_UNmeD37ou"
      },
      "execution_count": null,
      "outputs": []
    }
  ]
}