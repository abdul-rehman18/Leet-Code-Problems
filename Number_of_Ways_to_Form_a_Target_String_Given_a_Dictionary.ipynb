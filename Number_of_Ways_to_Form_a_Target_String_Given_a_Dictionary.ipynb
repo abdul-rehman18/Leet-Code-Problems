{
  "nbformat": 4,
  "nbformat_minor": 0,
  "metadata": {
    "colab": {
      "provenance": []
    },
    "kernelspec": {
      "name": "python3",
      "display_name": "Python 3"
    },
    "language_info": {
      "name": "python"
    }
  },
  "cells": [
    {
      "cell_type": "markdown",
      "source": [
        "# LeetCode Problem: Number of Ways to Form a Target String Given a Dictionary"
      ],
      "metadata": {
        "id": "iV9t89V8_Ttc"
      }
    },
    {
      "cell_type": "code",
      "execution_count": 1,
      "metadata": {
        "colab": {
          "base_uri": "https://localhost:8080/"
        },
        "id": "Gc-J1xDd_DyU",
        "outputId": "5203365d-a8d0-4e6c-9892-aa1a1bfac1e6"
      },
      "outputs": [
        {
          "output_type": "stream",
          "name": "stdout",
          "text": [
            "6\n"
          ]
        }
      ],
      "source": [
        "def numWays(words, target):\n",
        "        mod = 10**9 + 7\n",
        "        n = len(words)\n",
        "        m = len(words[0])\n",
        "        A = [[0] * 26 for _ in range(m)]\n",
        "        for word in words:\n",
        "            for j in range(m):\n",
        "                A[j][ord(word[j]) - ord('a')] += 1\n",
        "\n",
        "        dp = [[-1] * len(target) for _ in range(m)]\n",
        "\n",
        "        def F(i: int, j: int) -> int:\n",
        "            if j == len(target):\n",
        "                return 1\n",
        "            if i == len(A):\n",
        "                return 0\n",
        "            if dp[i][j] != -1:\n",
        "                return dp[i][j]\n",
        "\n",
        "            count = F(i + 1, j)\n",
        "            count %= mod\n",
        "            count += (A[i][ord(target[j]) - ord('a')] * F(i + 1, j + 1)) % mod\n",
        "            count %= mod\n",
        "            dp[i][j] = count\n",
        "            return dp[i][j]\n",
        "\n",
        "        return F(0, 0)\n",
        "\n",
        "words = [\"acca\",\"bbbb\",\"caca\"]\n",
        "target = \"aba\"\n",
        "\n",
        "\n",
        "print(numWays(words, target))"
      ]
    },
    {
      "cell_type": "code",
      "source": [],
      "metadata": {
        "id": "49vh4GGX_rpF"
      },
      "execution_count": null,
      "outputs": []
    }
  ]
}