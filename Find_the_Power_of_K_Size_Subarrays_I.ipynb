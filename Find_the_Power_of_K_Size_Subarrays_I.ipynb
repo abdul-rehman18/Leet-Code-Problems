{
  "nbformat": 4,
  "nbformat_minor": 0,
  "metadata": {
    "colab": {
      "provenance": []
    },
    "kernelspec": {
      "name": "python3",
      "display_name": "Python 3"
    },
    "language_info": {
      "name": "python"
    }
  },
  "cells": [
    {
      "cell_type": "markdown",
      "source": [
        "# LeetCode Problem: Find the Power of K-Size Subarrays I"
      ],
      "metadata": {
        "id": "Xcp84ovrMgR_"
      }
    },
    {
      "cell_type": "code",
      "execution_count": 1,
      "metadata": {
        "id": "4Z3u3iAPMQZs"
      },
      "outputs": [],
      "source": [
        "def resultsArray(nums, k):\n",
        "        res = []\n",
        "        l = 0\n",
        "        consec_cnt = 1\n",
        "        for r in range(len(nums)):\n",
        "            if r > 0 and nums[r - 1] + 1 == nums[r]:\n",
        "                consec_cnt += 1\n",
        "\n",
        "            if r - l + 1 > k:\n",
        "                if nums[l] + 1 == nums[l + 1]:\n",
        "                    consec_cnt -= 1\n",
        "                l += 1\n",
        "\n",
        "            if r - l + 1 == k:\n",
        "                res.append(nums[r] if consec_cnt == k else -1)\n",
        "        return res\n",
        "\n",
        "nums = [1,2,3,4,3,2,5]\n",
        "k = 3\n",
        "\n",
        "print(resultsArray(nums, k))\n"
      ]
    },
    {
      "cell_type": "code",
      "source": [],
      "metadata": {
        "id": "iYTdO-2sMw4j"
      },
      "execution_count": null,
      "outputs": []
    }
  ]
}