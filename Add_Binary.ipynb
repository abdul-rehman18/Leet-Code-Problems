{
 "cells": [
  {
   "cell_type": "markdown",
   "id": "f4cfd2ee",
   "metadata": {},
   "source": [
    "# LeetCode Problem: Add Binary"
   ]
  },
  {
   "cell_type": "code",
   "execution_count": 5,
   "id": "322bc41a",
   "metadata": {},
   "outputs": [
    {
     "name": "stdout",
     "output_type": "stream",
     "text": [
      "100\n"
     ]
    }
   ],
   "source": [
    "def addBinary(a,b):\n",
    "    int_sum = int(a, 2) + int(b, 2)\n",
    "    binary_sum = bin(int_sum)[2:]\n",
    "    return binary_sum\n",
    "\n",
    "a='11'\n",
    "b='1'\n",
    "ans=addBinary(a,b)\n",
    "print(ans)"
   ]
  },
  {
   "cell_type": "code",
   "execution_count": null,
   "id": "de2de5b5",
   "metadata": {},
   "outputs": [],
   "source": []
  }
 ],
 "metadata": {
  "kernelspec": {
   "display_name": "Python 3 (ipykernel)",
   "language": "python",
   "name": "python3"
  },
  "language_info": {
   "codemirror_mode": {
    "name": "ipython",
    "version": 3
   },
   "file_extension": ".py",
   "mimetype": "text/x-python",
   "name": "python",
   "nbconvert_exporter": "python",
   "pygments_lexer": "ipython3",
   "version": "3.10.9"
  }
 },
 "nbformat": 4,
 "nbformat_minor": 5
}
