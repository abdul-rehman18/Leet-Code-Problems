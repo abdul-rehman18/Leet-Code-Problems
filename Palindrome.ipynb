{
 "cells": [
  {
   "cell_type": "markdown",
   "id": "f1bbc8a0",
   "metadata": {},
   "source": [
    "# LeetCode Problem:Palindrome"
   ]
  },
  {
   "cell_type": "code",
   "execution_count": 6,
   "id": "99d9d3fb",
   "metadata": {},
   "outputs": [
    {
     "data": {
      "text/plain": [
       "True"
      ]
     },
     "execution_count": 6,
     "metadata": {},
     "output_type": "execute_result"
    }
   ],
   "source": [
    "def isPalindrome(x):\n",
    "    if x<0:\n",
    "        return False\n",
    "    rev=0\n",
    "    temp=x\n",
    "    while temp != 0:\n",
    "        digit = temp % 10\n",
    "        rev = rev * 10 + digit\n",
    "        temp //= 10\n",
    "\n",
    "    return rev == x\n",
    "isPalindrome(121)"
   ]
  },
  {
   "cell_type": "code",
   "execution_count": null,
   "id": "2fcd6364",
   "metadata": {},
   "outputs": [],
   "source": []
  }
 ],
 "metadata": {
  "kernelspec": {
   "display_name": "Python 3 (ipykernel)",
   "language": "python",
   "name": "python3"
  },
  "language_info": {
   "codemirror_mode": {
    "name": "ipython",
    "version": 3
   },
   "file_extension": ".py",
   "mimetype": "text/x-python",
   "name": "python",
   "nbconvert_exporter": "python",
   "pygments_lexer": "ipython3",
   "version": "3.10.9"
  }
 },
 "nbformat": 4,
 "nbformat_minor": 5
}
