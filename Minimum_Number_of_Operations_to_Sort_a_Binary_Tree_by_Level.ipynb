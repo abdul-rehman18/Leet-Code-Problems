{
  "nbformat": 4,
  "nbformat_minor": 0,
  "metadata": {
    "colab": {
      "provenance": []
    },
    "kernelspec": {
      "name": "python3",
      "display_name": "Python 3"
    },
    "language_info": {
      "name": "python"
    }
  },
  "cells": [
    {
      "cell_type": "markdown",
      "source": [
        "# LeetCode Problem: Minimum Number of Operations to Sort a Binary Tree by Level"
      ],
      "metadata": {
        "id": "QivkaOcC1kkR"
      }
    },
    {
      "cell_type": "code",
      "execution_count": null,
      "metadata": {
        "id": "5U-RwE2W3Lc5"
      },
      "outputs": [],
      "source": [
        "# Definition for a binary tree node.\n",
        "# class TreeNode:\n",
        "#     def __init__(self, val=0, left=None, right=None):\n",
        "#         self.val = val\n",
        "#         self.left = left\n",
        "#         self.right = right\n",
        "\n",
        "class Solution:\n",
        "    def minimumOperations(self, root: Optional[TreeNode]) -> int:\n",
        "        def min_swaps_to_sort(arr: List[int]) -> int:\n",
        "            n = len(arr)\n",
        "            indexed_arr = [(val, i) for i, val in enumerate(arr)]\n",
        "            indexed_arr.sort()  # Sort by value\n",
        "            visited = [False] * n\n",
        "            swaps = 0\n",
        "\n",
        "            for i in range(n):\n",
        "                if visited[i] or indexed_arr[i][1] == i:\n",
        "                    continue\n",
        "\n",
        "                cycle_size = 0\n",
        "                x = i\n",
        "\n",
        "                while not visited[x]:\n",
        "                    visited[x] = True\n",
        "                    x = indexed_arr[x][1]\n",
        "                    cycle_size += 1\n",
        "\n",
        "                if cycle_size > 1:\n",
        "                    swaps += cycle_size - 1\n",
        "\n",
        "            return swaps\n",
        "\n",
        "        queue = deque([root])\n",
        "        total_swaps = 0\n",
        "\n",
        "        while queue:\n",
        "            level_size = len(queue)\n",
        "            current_level = []\n",
        "\n",
        "            for _ in range(level_size):\n",
        "                node = queue.popleft()\n",
        "                current_level.append(node.val)\n",
        "\n",
        "                if node.left:\n",
        "                    queue.append(node.left)\n",
        "                if node.right:\n",
        "                    queue.append(node.right)\n",
        "\n",
        "            total_swaps += min_swaps_to_sort(current_level)\n",
        "\n",
        "        return total_swaps\n",
        "\n",
        "\n",
        "root = [1,4,3,7,6,8,5,null,null,null,null,9,null,10]\n",
        "\n",
        "\n"
      ]
    }
  ]
}