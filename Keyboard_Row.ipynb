{
  "nbformat": 4,
  "nbformat_minor": 0,
  "metadata": {
    "colab": {
      "provenance": []
    },
    "kernelspec": {
      "name": "python3",
      "display_name": "Python 3"
    },
    "language_info": {
      "name": "python"
    }
  },
  "cells": [
    {
      "cell_type": "markdown",
      "source": [
        "# LeetCode Problem: Keyboard Row"
      ],
      "metadata": {
        "id": "J9TbrVgfiZX0"
      }
    },
    {
      "cell_type": "code",
      "execution_count": 1,
      "metadata": {
        "colab": {
          "base_uri": "https://localhost:8080/"
        },
        "id": "QkRlmcboiQFc",
        "outputId": "7beae5a0-00f3-4a60-ee92-812a212b0fba"
      },
      "outputs": [
        {
          "output_type": "stream",
          "name": "stdout",
          "text": [
            "['Alaska', 'Dad']\n"
          ]
        }
      ],
      "source": [
        "def findWords(words):\n",
        "        s1=\"qwertyuiop\"\n",
        "        s2=\"asdfghjkl\"\n",
        "        s3=\"zxcvbnm\"\n",
        "        res=[]\n",
        "        for i in words:\n",
        "            w = i.lower()\n",
        "            if len(set(s1+w))==len(s1) or len(set(s2+w))==len(s2) or len(set(s3+w))==len(s3):\n",
        "                res.append(i)\n",
        "        return res\n",
        "\n",
        "words = [\"Hello\",\"Alaska\",\"Dad\",\"Peace\"]\n",
        "print(findWords(words))"
      ]
    },
    {
      "cell_type": "code",
      "source": [],
      "metadata": {
        "id": "sXAyyVSklNMs"
      },
      "execution_count": null,
      "outputs": []
    }
  ]
}