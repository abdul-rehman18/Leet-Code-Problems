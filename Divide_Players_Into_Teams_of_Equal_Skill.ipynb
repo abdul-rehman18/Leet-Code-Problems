{
  "nbformat": 4,
  "nbformat_minor": 0,
  "metadata": {
    "colab": {
      "provenance": []
    },
    "kernelspec": {
      "name": "python3",
      "display_name": "Python 3"
    },
    "language_info": {
      "name": "python"
    }
  },
  "cells": [
    {
      "cell_type": "markdown",
      "source": [
        "# LeetCode Problem: Divide Players Into Teams of Equal Skill"
      ],
      "metadata": {
        "id": "GdYLeepie5Ru"
      }
    },
    {
      "cell_type": "code",
      "execution_count": 1,
      "metadata": {
        "colab": {
          "base_uri": "https://localhost:8080/"
        },
        "id": "abbCyOIpelFw",
        "outputId": "53d3e1d1-2d3c-4f89-aa71-f113335c846e"
      },
      "outputs": [
        {
          "output_type": "stream",
          "name": "stdout",
          "text": [
            "22\n"
          ]
        }
      ],
      "source": [
        "def dividePlayers(skill):\n",
        "        skill.sort()\n",
        "\n",
        "        total_skill = skill[0] + skill[-1]\n",
        "        chemistry_sum = 0\n",
        "\n",
        "        for i in range(len(skill) // 2):\n",
        "            if skill[i] + skill[-i - 1] != total_skill:\n",
        "                return -1\n",
        "            chemistry_sum += skill[i] * skill[-i - 1]\n",
        "\n",
        "        return chemistry_sum\n",
        "\n",
        "\n",
        "skill = [3,2,5,1,3,4]\n",
        "print(dividePlayers(skill))"
      ]
    },
    {
      "cell_type": "code",
      "source": [],
      "metadata": {
        "id": "rtqVs53wfZ6k"
      },
      "execution_count": null,
      "outputs": []
    }
  ]
}