{
  "nbformat": 4,
  "nbformat_minor": 0,
  "metadata": {
    "colab": {
      "provenance": []
    },
    "kernelspec": {
      "name": "python3",
      "display_name": "Python 3"
    },
    "language_info": {
      "name": "python"
    }
  },
  "cells": [
    {
      "cell_type": "markdown",
      "source": [
        "# LeetCode Problem: Length of Longest Subarray With at Most K Frequency"
      ],
      "metadata": {
        "id": "y268Td-4Hyj8"
      }
    },
    {
      "cell_type": "code",
      "execution_count": 8,
      "metadata": {
        "colab": {
          "base_uri": "https://localhost:8080/"
        },
        "id": "O9Lmp25GFoGI",
        "outputId": "7bd85bbe-52bc-483a-d9dc-e61d60950356"
      },
      "outputs": [
        {
          "output_type": "stream",
          "name": "stdout",
          "text": [
            "6\n"
          ]
        }
      ],
      "source": [
        "from collections import Counter\n",
        "def maxSubarrayLength(nums, k):\n",
        "    count = Counter()\n",
        "    start = 0\n",
        "    max_len = 0\n",
        "    for end in range(len(nums)):\n",
        "        count[nums[end]] += 1\n",
        "        while count[nums[end]] > k:\n",
        "            count[nums[start]] -= 1\n",
        "            start += 1\n",
        "        max_len = max(max_len, end - start + 1)\n",
        "    return max_len\n",
        "nums = [1, 2, 3, 1, 2, 3, 1, 2]\n",
        "k = 2\n",
        "print(maxSubarrayLength(nums, k))"
      ]
    },
    {
      "cell_type": "code",
      "source": [
        "from collections import Counter\n",
        "\n",
        "def maxSubarrayLength(nums, k):\n",
        "    r = Counter(nums)\n",
        "    for a in list(r):  # Iterate through the keys in the Counter\n",
        "        if r[a] > k:\n",
        "            r[a] = k  # Update the count directly in the Counter object\n",
        "    # a = 0\n",
        "    # for i in r.values():\n",
        "    #     a += i\n",
        "    a = sum(r.values())\n",
        "    return a\n",
        "\n",
        "nums = [1, 2, 3, 1, 2, 3, 1, 2]\n",
        "k = 2\n",
        "# nums = [1,2,1,2,1,2,1,2]\n",
        "# k = 1\n",
        "print(maxSubarrayLength(nums, k))\n"
      ],
      "metadata": {
        "colab": {
          "base_uri": "https://localhost:8080/"
        },
        "id": "OVF5tW_LHppj",
        "outputId": "ead37460-3dda-4c67-ffce-82552643f5cb"
      },
      "execution_count": 19,
      "outputs": [
        {
          "output_type": "stream",
          "name": "stdout",
          "text": [
            "6\n"
          ]
        }
      ]
    },
    {
      "cell_type": "code",
      "source": [],
      "metadata": {
        "id": "t8X0zq8IKA2x"
      },
      "execution_count": null,
      "outputs": []
    }
  ]
}