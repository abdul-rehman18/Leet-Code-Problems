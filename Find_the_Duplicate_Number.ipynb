{
  "nbformat": 4,
  "nbformat_minor": 0,
  "metadata": {
    "colab": {
      "provenance": []
    },
    "kernelspec": {
      "name": "python3",
      "display_name": "Python 3"
    },
    "language_info": {
      "name": "python"
    }
  },
  "cells": [
    {
      "cell_type": "markdown",
      "source": [
        "# LeetCode Problem: Find the Duplicate Number"
      ],
      "metadata": {
        "id": "YtSu_l7M5cPX"
      }
    },
    {
      "cell_type": "code",
      "execution_count": 1,
      "metadata": {
        "colab": {
          "base_uri": "https://localhost:8080/"
        },
        "id": "nR91PAKP5T7_",
        "outputId": "9aeb62ff-cee8-4f0f-efa7-347a0a8c5177"
      },
      "outputs": [
        {
          "output_type": "stream",
          "name": "stdout",
          "text": [
            "2\n"
          ]
        }
      ],
      "source": [
        "def findDuplicate(nums):\n",
        "        tortoise = nums[0]\n",
        "        hare = nums[0]\n",
        "        while True:\n",
        "            tortoise = nums[tortoise]\n",
        "            hare = nums[nums[hare]]\n",
        "            if tortoise == hare:\n",
        "                break\n",
        "        tortoise = nums[0]\n",
        "        while tortoise != hare:\n",
        "            tortoise  = nums[tortoise]\n",
        "            hare = nums[hare]\n",
        "        return hare\n",
        "\n",
        "nums = [1,3,4,2,2]\n",
        "print(findDuplicate(nums))"
      ]
    },
    {
      "cell_type": "code",
      "source": [],
      "metadata": {
        "id": "PG7pyoko6ztx"
      },
      "execution_count": null,
      "outputs": []
    }
  ]
}