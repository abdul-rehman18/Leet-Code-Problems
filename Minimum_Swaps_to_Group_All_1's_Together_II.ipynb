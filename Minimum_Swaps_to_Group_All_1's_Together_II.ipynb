{
  "nbformat": 4,
  "nbformat_minor": 0,
  "metadata": {
    "colab": {
      "provenance": []
    },
    "kernelspec": {
      "name": "python3",
      "display_name": "Python 3"
    },
    "language_info": {
      "name": "python"
    }
  },
  "cells": [
    {
      "cell_type": "markdown",
      "source": [
        "# LeetCode Problem: Minimum Swaps to Group All 1's Together II"
      ],
      "metadata": {
        "id": "os-lCKMvKTUp"
      }
    },
    {
      "cell_type": "code",
      "execution_count": 1,
      "metadata": {
        "colab": {
          "base_uri": "https://localhost:8080/"
        },
        "id": "EnGxd9AmKKG-",
        "outputId": "de414371-c483-46ef-a862-79f0f41bb2bc"
      },
      "outputs": [
        {
          "output_type": "stream",
          "name": "stdout",
          "text": [
            "1\n"
          ]
        }
      ],
      "source": [
        "def minSwaps(nums):\n",
        "        k = nums.count(1)\n",
        "        mx = cnt = sum(nums[:k])\n",
        "        n = len(nums)\n",
        "        for i in range(k, n + k):\n",
        "            cnt += nums[i % n]\n",
        "            cnt -= nums[(i - k + n) % n]\n",
        "            mx = max(mx, cnt)\n",
        "        return k - mx\n",
        "\n",
        "\n",
        "nums = [0,1,0,1,1,0,0]\n",
        "print(minSwaps(nums))"
      ]
    },
    {
      "cell_type": "code",
      "source": [],
      "metadata": {
        "id": "_CCSb7yhLtxo"
      },
      "execution_count": null,
      "outputs": []
    }
  ]
}