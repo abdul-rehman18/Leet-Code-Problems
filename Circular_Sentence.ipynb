{
  "nbformat": 4,
  "nbformat_minor": 0,
  "metadata": {
    "colab": {
      "provenance": []
    },
    "kernelspec": {
      "name": "python3",
      "display_name": "Python 3"
    },
    "language_info": {
      "name": "python"
    }
  },
  "cells": [
    {
      "cell_type": "markdown",
      "source": [
        "# LeetCode Problem: Circular Sentence"
      ],
      "metadata": {
        "id": "ibFa4Xyansf2"
      }
    },
    {
      "cell_type": "code",
      "execution_count": 17,
      "metadata": {
        "colab": {
          "base_uri": "https://localhost:8080/"
        },
        "id": "ElMdVyz5no75",
        "outputId": "8efb5013-3830-4ef1-b736-f345482e1bcf"
      },
      "outputs": [
        {
          "output_type": "stream",
          "name": "stdout",
          "text": [
            "False\n"
          ]
        }
      ],
      "source": [
        "def isCircularSentence(sentence):\n",
        "        n = len(sentence)\n",
        "        if sentence[0] != sentence[n-1]:\n",
        "            return False\n",
        "        for i in range(1, n-1):\n",
        "            if sentence[i] == ' ':\n",
        "                if sentence[i-1] != sentence[i+1]:\n",
        "                    return False\n",
        "        return True\n",
        "\n",
        "\n",
        "sentence = \"leetcode\"\n",
        "# sentence = \"Leetcode is cool\"\n",
        "print(isCircularSentence(sentence))"
      ]
    },
    {
      "cell_type": "code",
      "source": [],
      "metadata": {
        "id": "5P3f1Hr-n_WE"
      },
      "execution_count": null,
      "outputs": []
    }
  ]
}