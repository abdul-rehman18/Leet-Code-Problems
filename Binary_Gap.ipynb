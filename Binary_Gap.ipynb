{
  "nbformat": 4,
  "nbformat_minor": 0,
  "metadata": {
    "colab": {
      "provenance": []
    },
    "kernelspec": {
      "name": "python3",
      "display_name": "Python 3"
    },
    "language_info": {
      "name": "python"
    }
  },
  "cells": [
    {
      "cell_type": "markdown",
      "source": [
        "# LeetCode Problem: Binary Gap"
      ],
      "metadata": {
        "id": "cxDDpujA7NNm"
      }
    },
    {
      "cell_type": "code",
      "execution_count": 1,
      "metadata": {
        "colab": {
          "base_uri": "https://localhost:8080/"
        },
        "id": "OR-WW4Qv6l42",
        "outputId": "763c587d-40a8-4503-f61a-be1f38b01203"
      },
      "outputs": [
        {
          "output_type": "stream",
          "name": "stdout",
          "text": [
            "2\n"
          ]
        }
      ],
      "source": [
        "def binaryGap(n):\n",
        "        s = f'{n:b}'\n",
        "        result = 0\n",
        "        for i in range(len(s)):\n",
        "            if s[i] == '0':\n",
        "                continue\n",
        "            for j in range(i + 1, len(s)):\n",
        "                if s[j] == '0':\n",
        "                    continue\n",
        "                result = max(result, j - i)\n",
        "                break\n",
        "        return result\n",
        "\n",
        "n = 22\n",
        "print(binaryGap(n))"
      ]
    },
    {
      "cell_type": "code",
      "source": [],
      "metadata": {
        "id": "doS84YV87P6B"
      },
      "execution_count": null,
      "outputs": []
    }
  ]
}