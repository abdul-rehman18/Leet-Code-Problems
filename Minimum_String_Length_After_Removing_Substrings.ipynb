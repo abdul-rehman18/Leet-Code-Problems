{
  "nbformat": 4,
  "nbformat_minor": 0,
  "metadata": {
    "colab": {
      "provenance": []
    },
    "kernelspec": {
      "name": "python3",
      "display_name": "Python 3"
    },
    "language_info": {
      "name": "python"
    }
  },
  "cells": [
    {
      "cell_type": "markdown",
      "source": [
        "# LeetCode Problem: Minimum String Length After Removing Substrings"
      ],
      "metadata": {
        "id": "POG3Hf5EvF9R"
      }
    },
    {
      "cell_type": "code",
      "execution_count": 1,
      "metadata": {
        "colab": {
          "base_uri": "https://localhost:8080/"
        },
        "id": "m4TEJdoJrPOt",
        "outputId": "d4a60f43-ed6f-4e6a-f80b-7c141fb76737"
      },
      "outputs": [
        {
          "output_type": "stream",
          "name": "stdout",
          "text": [
            "2\n"
          ]
        }
      ],
      "source": [
        "def minLength(s):\n",
        "        stack = []\n",
        "        for c in s:\n",
        "            if not stack:\n",
        "                stack.append(c)\n",
        "                continue\n",
        "            if c == \"B\" and stack[-1] == \"A\":\n",
        "                stack.pop()\n",
        "            elif c == \"D\" and stack[-1] == \"C\":\n",
        "                stack.pop()\n",
        "            else:\n",
        "                stack.append(c)\n",
        "        return len(stack)\n",
        "\n",
        "\n",
        "\n",
        "s = \"ABFCACDB\"\n",
        "\n",
        "print(minLength(s))"
      ]
    },
    {
      "cell_type": "code",
      "source": [],
      "metadata": {
        "id": "ojgVJ5G1vgqp"
      },
      "execution_count": null,
      "outputs": []
    }
  ]
}