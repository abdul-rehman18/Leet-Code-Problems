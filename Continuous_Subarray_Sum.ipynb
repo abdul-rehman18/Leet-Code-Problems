{
  "nbformat": 4,
  "nbformat_minor": 0,
  "metadata": {
    "colab": {
      "provenance": []
    },
    "kernelspec": {
      "name": "python3",
      "display_name": "Python 3"
    },
    "language_info": {
      "name": "python"
    }
  },
  "cells": [
    {
      "cell_type": "markdown",
      "source": [
        "# LeetCode Problem: Continuous Subarray Sum"
      ],
      "metadata": {
        "id": "qSJE5VlOfeZe"
      }
    },
    {
      "cell_type": "code",
      "execution_count": 1,
      "metadata": {
        "colab": {
          "base_uri": "https://localhost:8080/"
        },
        "id": "qRX2rotMfcBd",
        "outputId": "dbe0eb38-81ad-42c8-ace4-38f62d55a9c3"
      },
      "outputs": [
        {
          "output_type": "stream",
          "name": "stdout",
          "text": [
            "True\n"
          ]
        }
      ],
      "source": [
        "def checkSubarraySum(nums, k):\n",
        "        n = len(nums)\n",
        "        for start in range(n - 1):  # Step 1: Iterate Through Starting Points\n",
        "            for end in range(start + 1, n):  # Step 2: Expand the Subarray\n",
        "                subarray_sum = sum(nums[start:end + 1])  # Step 3: Calculate the Sum\n",
        "                if subarray_sum == 0 and k == 0:  # Handling special case where k is 0\n",
        "                    return True\n",
        "                if k != 0 and subarray_sum % k == 0:  # Step 4: Check if the Sum is a Multiple of k\n",
        "                    return True\n",
        "        return False  # Step 5: Return the Result\n",
        "\n",
        "nums = [23,2,4,6,7]\n",
        "k = 6\n",
        "print(checkSubarraySum(nums, k))"
      ]
    },
    {
      "cell_type": "code",
      "source": [],
      "metadata": {
        "id": "NTn9R_gig8G9"
      },
      "execution_count": null,
      "outputs": []
    }
  ]
}