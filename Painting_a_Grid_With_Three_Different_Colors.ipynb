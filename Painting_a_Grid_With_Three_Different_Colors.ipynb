{
  "nbformat": 4,
  "nbformat_minor": 0,
  "metadata": {
    "colab": {
      "provenance": []
    },
    "kernelspec": {
      "name": "python3",
      "display_name": "Python 3"
    },
    "language_info": {
      "name": "python"
    }
  },
  "cells": [
    {
      "cell_type": "markdown",
      "source": [
        "# LeetCode Problem: Painting a Grid With Three Different Colors"
      ],
      "metadata": {
        "id": "bxdIHYDNliIB"
      }
    },
    {
      "cell_type": "code",
      "execution_count": null,
      "metadata": {
        "id": "Kt7a4KT1lTzD"
      },
      "outputs": [],
      "source": [
        "class Solution:\n",
        "    def colorTheGrid(self, m: int, n: int) -> int:\n",
        "       # Solution 1:\n",
        "        def dfs(pos, prev_color, mask):\n",
        "            if pos == m:\n",
        "                states.append(mask)\n",
        "                return\n",
        "            for color in range(3):\n",
        "                if color != prev_color:\n",
        "                    dfs(pos + 1, color, mask * 3 + color)\n",
        "\n",
        "        MOD, states = 10**9 + 7, []\n",
        "        dfs(0, -1, 0)\n",
        "        S = len(states)\n",
        "        compat = [[] for _ in range(S)]\n",
        "        for i, s1 in enumerate(states):\n",
        "            for j, s2 in enumerate(states):\n",
        "                x, y = s1, s2\n",
        "                ok = True\n",
        "                for _ in range(m):\n",
        "                    if x % 3 == y % 3:\n",
        "                        ok = False\n",
        "                        break\n",
        "                    x //= 3\n",
        "                    y //= 3\n",
        "                if ok:  compat[i].append(j)\n",
        "        dp = [1] * S\n",
        "        for _ in range(n - 1):\n",
        "            new_dp = [0] * S\n",
        "            for i in range(S):\n",
        "                if dp[i]:\n",
        "                    for j in compat[i]:\n",
        "                        new_dp[j] = (new_dp[j] + dp[i]) % MOD\n",
        "            dp = new_dp\n",
        "        return sum(dp) % MOD"
      ]
    }
  ]
}