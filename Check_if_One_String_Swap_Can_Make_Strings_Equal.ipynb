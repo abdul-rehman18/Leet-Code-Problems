{
  "nbformat": 4,
  "nbformat_minor": 0,
  "metadata": {
    "colab": {
      "provenance": []
    },
    "kernelspec": {
      "name": "python3",
      "display_name": "Python 3"
    },
    "language_info": {
      "name": "python"
    }
  },
  "cells": [
    {
      "cell_type": "markdown",
      "source": [
        "# LeetCode Problem: Check if One String Swap Can Make Strings Equal"
      ],
      "metadata": {
        "id": "BBAkRdhibNNy"
      }
    },
    {
      "cell_type": "code",
      "execution_count": 1,
      "metadata": {
        "colab": {
          "base_uri": "https://localhost:8080/"
        },
        "id": "c1bXP2BwbDdt",
        "outputId": "b2013c94-98dd-4194-e7d3-118354fb5ce9"
      },
      "outputs": [
        {
          "output_type": "stream",
          "name": "stdout",
          "text": [
            "True\n"
          ]
        }
      ],
      "source": [
        "def areAlmostEqual(s1, s2):\n",
        "        i=-1\n",
        "        j=-1\n",
        "        cnt=0\n",
        "        for k in range(0, len(s1)):\n",
        "            if s1[k]!=s2[k]:\n",
        "                cnt+=1\n",
        "                if i==-1: i=k\n",
        "                elif j==-1: j=k\n",
        "\n",
        "        if cnt==0: return True\n",
        "        elif cnt==2 and s1[i]==s2[j] and s1[j]==s2[i]: return True\n",
        "\n",
        "        return False\n",
        "\n",
        "s1 = \"bank\"\n",
        "s2 = \"kanb\"\n",
        "\n",
        "print(areAlmostEqual(s1, s2))"
      ]
    },
    {
      "cell_type": "code",
      "source": [],
      "metadata": {
        "id": "cHwsBjbFbrYg"
      },
      "execution_count": null,
      "outputs": []
    }
  ]
}