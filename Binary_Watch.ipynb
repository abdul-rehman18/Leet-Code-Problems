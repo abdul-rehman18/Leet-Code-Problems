{
  "nbformat": 4,
  "nbformat_minor": 0,
  "metadata": {
    "colab": {
      "provenance": []
    },
    "kernelspec": {
      "name": "python3",
      "display_name": "Python 3"
    },
    "language_info": {
      "name": "python"
    }
  },
  "cells": [
    {
      "cell_type": "markdown",
      "source": [
        "# LeetCode Problem: Binary Watch"
      ],
      "metadata": {
        "id": "vc7cslAIE5Ls"
      }
    },
    {
      "cell_type": "code",
      "execution_count": 2,
      "metadata": {
        "colab": {
          "base_uri": "https://localhost:8080/"
        },
        "id": "rcTSKLD9Ejr_",
        "outputId": "498c33d4-33cd-40d2-84b0-d409f180f528"
      },
      "outputs": [
        {
          "output_type": "stream",
          "name": "stdout",
          "text": [
            "['0:01', '0:02', '0:04', '0:08', '0:16', '0:32', '1:00', '2:00', '4:00', '8:00']\n"
          ]
        }
      ],
      "source": [
        "def readBinaryWatch(turnedOn):\n",
        "        res =[]\n",
        "        for i in range(12):\n",
        "            for j in range(60):\n",
        "                if bin(i).count('1')+bin(j).count('1')==turnedOn:\n",
        "                    res.append(f\"{i}:{j:02d}\")\n",
        "        return res\n",
        "\n",
        "turnedOn = 1\n",
        "res=readBinaryWatch(turnedOn)\n",
        "print(res)"
      ]
    },
    {
      "cell_type": "code",
      "source": [],
      "metadata": {
        "id": "ZS5McZsAGkjE"
      },
      "execution_count": null,
      "outputs": []
    }
  ]
}