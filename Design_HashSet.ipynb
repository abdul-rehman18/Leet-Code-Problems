{
  "nbformat": 4,
  "nbformat_minor": 0,
  "metadata": {
    "colab": {
      "provenance": []
    },
    "kernelspec": {
      "name": "python3",
      "display_name": "Python 3"
    },
    "language_info": {
      "name": "python"
    }
  },
  "cells": [
    {
      "cell_type": "markdown",
      "source": [
        "# LeetCode Problem: Design HashSet"
      ],
      "metadata": {
        "id": "nOxlSd68BDzt"
      }
    },
    {
      "cell_type": "code",
      "execution_count": 1,
      "metadata": {
        "colab": {
          "base_uri": "https://localhost:8080/"
        },
        "id": "ULGgczCz-tqK",
        "outputId": "d35b2d71-844a-48de-cca4-6e3b11f98498"
      },
      "outputs": [
        {
          "output_type": "stream",
          "name": "stdout",
          "text": [
            "HashSet contains 2: 1\n",
            "HashSet contains 4: 0\n",
            "HashSet contains 2 after removal: 0\n"
          ]
        }
      ],
      "source": [
        "class ListNode:\n",
        "    def __init__(self, val=0, next=None):\n",
        "        self.val = val\n",
        "        self.next = next\n",
        "\n",
        "class MyHashSet:\n",
        "\n",
        "    def __init__(self):\n",
        "        self.size = 1000\n",
        "        self.arr = [None]*self.size\n",
        "\n",
        "    def find_index(self, key):\n",
        "        return key % self.size\n",
        "\n",
        "    def find_value(self, key):\n",
        "        idx = self.find_index(key)\n",
        "        head = self.arr[idx]\n",
        "        while head:\n",
        "            if head.val == key: return 1\n",
        "            head = head.next\n",
        "        return 0\n",
        "\n",
        "    def add(self, key: int) -> None:\n",
        "        if self.find_value(key): return\n",
        "        idx = self.find_index(key)\n",
        "        self.arr[idx] = ListNode(key, self.arr[idx])\n",
        "\n",
        "    def remove(self, key: int) -> None:\n",
        "        idx = self.find_index(key)\n",
        "        node = self.arr[idx]\n",
        "        if node is None:\n",
        "            return\n",
        "        if node.val==key:\n",
        "            self.arr[idx] = node.next\n",
        "            return\n",
        "        first, second = node, node.next\n",
        "        while second:\n",
        "            if second.val == key:\n",
        "                first.next = second.next\n",
        "                return\n",
        "            first, second = first.next, second.next\n",
        "\n",
        "    def contains(self, key: int) -> bool:\n",
        "        return self.find_value(key)\n",
        "\n",
        "def main():\n",
        "    # Create a MyHashSet object\n",
        "    myHashSet = MyHashSet()\n",
        "\n",
        "    # Add elements to the HashSet\n",
        "    myHashSet.add(1)\n",
        "    myHashSet.add(2)\n",
        "    myHashSet.add(3)\n",
        "\n",
        "    # Check if elements are in the HashSet\n",
        "    print(f\"HashSet contains 2: {myHashSet.contains(2)}\")  # Should print True\n",
        "    print(f\"HashSet contains 4: {myHashSet.contains(4)}\")  # Should print False\n",
        "\n",
        "    # Remove an element from the HashSet\n",
        "    myHashSet.remove(2)\n",
        "\n",
        "    # Check if the element is removed\n",
        "    print(f\"HashSet contains 2 after removal: {myHashSet.contains(2)}\")  # Should print False\n",
        "\n",
        "if __name__ == \"__main__\":\n",
        "    main()\n"
      ]
    },
    {
      "cell_type": "code",
      "source": [],
      "metadata": {
        "id": "qyjr184ZA_0G"
      },
      "execution_count": null,
      "outputs": []
    }
  ]
}