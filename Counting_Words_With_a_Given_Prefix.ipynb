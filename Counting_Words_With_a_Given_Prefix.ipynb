{
  "nbformat": 4,
  "nbformat_minor": 0,
  "metadata": {
    "colab": {
      "provenance": []
    },
    "kernelspec": {
      "name": "python3",
      "display_name": "Python 3"
    },
    "language_info": {
      "name": "python"
    }
  },
  "cells": [
    {
      "cell_type": "markdown",
      "source": [
        "# LeetCode Problem: Counting Words With a Given Prefix"
      ],
      "metadata": {
        "id": "Cxx61U61MDL7"
      }
    },
    {
      "cell_type": "code",
      "execution_count": 1,
      "metadata": {
        "colab": {
          "base_uri": "https://localhost:8080/"
        },
        "id": "JgLgjlmvqWuc",
        "outputId": "4dd4b9b3-74fc-4496-ffe7-abd52a53014e"
      },
      "outputs": [
        {
          "output_type": "stream",
          "name": "stdout",
          "text": [
            "2\n"
          ]
        }
      ],
      "source": [
        "def prefixCount(words, pref):\n",
        "        c = 0\n",
        "        n = len(pref)\n",
        "        for word in words:\n",
        "            if len(word) >= n and word[:n] == pref:\n",
        "                c += 1\n",
        "        return c\n",
        "\n",
        "words = [\"pay\",\"attention\",\"practice\",\"attend\"]\n",
        "pref = \"at\"\n",
        "\n",
        "print(prefixCount(words, pref))\n"
      ]
    },
    {
      "cell_type": "code",
      "source": [],
      "metadata": {
        "id": "U-xk9W7VMj85"
      },
      "execution_count": null,
      "outputs": []
    }
  ]
}