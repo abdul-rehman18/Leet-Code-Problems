{
  "nbformat": 4,
  "nbformat_minor": 0,
  "metadata": {
    "colab": {
      "provenance": []
    },
    "kernelspec": {
      "name": "python3",
      "display_name": "Python 3"
    },
    "language_info": {
      "name": "python"
    }
  },
  "cells": [
    {
      "cell_type": "markdown",
      "source": [
        "# LeetCode Problem: Sum of Digits of String After Convert"
      ],
      "metadata": {
        "id": "N0r5Ph8kgTEk"
      }
    },
    {
      "cell_type": "code",
      "execution_count": 2,
      "metadata": {
        "colab": {
          "base_uri": "https://localhost:8080/"
        },
        "id": "Ua2_dj6RgIta",
        "outputId": "689c03ee-861b-4a02-b5ca-cb7a188fbeac"
      },
      "outputs": [
        {
          "output_type": "stream",
          "name": "stdout",
          "text": [
            "6\n"
          ]
        }
      ],
      "source": [
        "def getLucky(s, k):\n",
        "        number = ''\n",
        "        for x in s:\n",
        "            number += str(ord(x) - ord('a') + 1)\n",
        "        while k > 0:\n",
        "            temp = 0\n",
        "            for x in number:\n",
        "                temp += int(x)\n",
        "            number = str(temp)\n",
        "            k -= 1\n",
        "        return int(number)\n",
        "\n",
        "\n",
        "s = \"leetcode\"\n",
        "k = 2\n",
        "print(getLucky(s, k))"
      ]
    },
    {
      "cell_type": "code",
      "source": [],
      "metadata": {
        "id": "5fXaFmbegqjd"
      },
      "execution_count": null,
      "outputs": []
    }
  ]
}