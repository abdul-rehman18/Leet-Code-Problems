{
  "nbformat": 4,
  "nbformat_minor": 0,
  "metadata": {
    "colab": {
      "provenance": []
    },
    "kernelspec": {
      "name": "python3",
      "display_name": "Python 3"
    },
    "language_info": {
      "name": "python"
    }
  },
  "cells": [
    {
      "cell_type": "markdown",
      "source": [
        "# LeetCode Problem: Count Total Number of Colored Cells"
      ],
      "metadata": {
        "id": "aagDGHdbinWY"
      }
    },
    {
      "cell_type": "code",
      "execution_count": null,
      "metadata": {
        "id": "Fn-supKnia4F"
      },
      "outputs": [],
      "source": [
        "class Solution:\n",
        "    def coloredCells(self, n: int) -> int:\n",
        "        return 1 + 4 * n * (n-1) // 2"
      ]
    }
  ]
}