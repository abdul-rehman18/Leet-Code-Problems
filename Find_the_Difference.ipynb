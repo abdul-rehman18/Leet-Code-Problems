{
  "nbformat": 4,
  "nbformat_minor": 0,
  "metadata": {
    "colab": {
      "provenance": []
    },
    "kernelspec": {
      "name": "python3",
      "display_name": "Python 3"
    },
    "language_info": {
      "name": "python"
    }
  },
  "cells": [
    {
      "cell_type": "markdown",
      "source": [
        "# LeetCode Problem: Find the Difference"
      ],
      "metadata": {
        "id": "Dyk1X0tkkxmT"
      }
    },
    {
      "cell_type": "code",
      "execution_count": 3,
      "metadata": {
        "colab": {
          "base_uri": "https://localhost:8080/"
        },
        "id": "2PVJfUMph17f",
        "outputId": "8bb16f55-39af-47e8-bb4b-ea809c1f8602"
      },
      "outputs": [
        {
          "output_type": "stream",
          "name": "stdout",
          "text": [
            "a\n"
          ]
        }
      ],
      "source": [
        "from collections import Counter\n",
        "def findTheDifference(s, t):\n",
        "        countS = Counter(s)\n",
        "        countT = Counter(t)\n",
        "        for i in range(len(t)):\n",
        "            if t[i] not in countS or countT[t[i]] > countS[t[i]]:\n",
        "                return t[i]\n",
        "\n",
        "\n",
        "s =\"a\"\n",
        "t =\"aa\"\n",
        "\n",
        "res= findTheDifference(s,t)\n",
        "print(res)"
      ]
    },
    {
      "cell_type": "code",
      "source": [],
      "metadata": {
        "id": "4vGs2wZOkdcF"
      },
      "execution_count": null,
      "outputs": []
    }
  ]
}