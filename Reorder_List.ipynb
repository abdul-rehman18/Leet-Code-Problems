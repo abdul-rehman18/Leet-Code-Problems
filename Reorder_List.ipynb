{
  "nbformat": 4,
  "nbformat_minor": 0,
  "metadata": {
    "colab": {
      "provenance": []
    },
    "kernelspec": {
      "name": "python3",
      "display_name": "Python 3"
    },
    "language_info": {
      "name": "python"
    }
  },
  "cells": [
    {
      "cell_type": "markdown",
      "source": [
        "# LeetCode Problem: Reorder List"
      ],
      "metadata": {
        "id": "UbNNo1OA0bFK"
      }
    },
    {
      "cell_type": "code",
      "execution_count": 2,
      "metadata": {
        "colab": {
          "base_uri": "https://localhost:8080/"
        },
        "id": "Wm83bYnG0J1Q",
        "outputId": "461ee2db-9dc3-4959-8397-c26abf0c2e21"
      },
      "outputs": [
        {
          "output_type": "stream",
          "name": "stdout",
          "text": [
            "Original list:\n",
            "1 -> 2 -> 3 -> 4 -> 5\n",
            "Reordered list:\n",
            "1 -> 5 -> 2 -> 4 -> 3\n"
          ]
        }
      ],
      "source": [
        "class ListNode:\n",
        "    def __init__(self, val=0, next=None):\n",
        "        self.val = val\n",
        "        self.next = next\n",
        "\n",
        "class Solution:\n",
        "    def reorderList(self, head):\n",
        "        if not head:\n",
        "            return\n",
        "\n",
        "        slow, fast = head, head\n",
        "        while fast.next and fast.next.next:\n",
        "            slow = slow.next\n",
        "            fast = fast.next.next\n",
        "\n",
        "        prev, curr = None, slow.next\n",
        "        while curr:\n",
        "            next_temp = curr.next\n",
        "            curr.next = prev\n",
        "            prev = curr\n",
        "            curr = next_temp\n",
        "\n",
        "        slow.next = None\n",
        "\n",
        "        first, second = head, prev\n",
        "        while second:\n",
        "            temp1, temp2 = first.next, second.next\n",
        "            first.next = second\n",
        "            second.next = temp1\n",
        "            first, second = temp1, temp2\n",
        "\n",
        "def create_list(elements):\n",
        "    head = ListNode(elements[0]) if elements else None\n",
        "    current = head\n",
        "    for element in elements[1:]:\n",
        "        current.next = ListNode(element)\n",
        "        current = current.next\n",
        "    return head\n",
        "\n",
        "def print_list(head):\n",
        "    elements = []\n",
        "    current = head\n",
        "    while current:\n",
        "        elements.append(current.val)\n",
        "        current = current.next\n",
        "    print(\" -> \".join(map(str, elements)))\n",
        "\n",
        "def main():\n",
        "    elements = [1, 2, 3, 4, 5]\n",
        "    head = create_list(elements)\n",
        "\n",
        "    print(\"Original list:\")\n",
        "    print_list(head)\n",
        "\n",
        "    solution = Solution()\n",
        "    solution.reorderList(head)\n",
        "\n",
        "    print(\"Reordered list:\")\n",
        "    print_list(head)\n",
        "\n",
        "if __name__ == \"__main__\":\n",
        "    main()\n"
      ]
    },
    {
      "cell_type": "code",
      "source": [],
      "metadata": {
        "id": "YvyOmsfU0kTP"
      },
      "execution_count": null,
      "outputs": []
    }
  ]
}