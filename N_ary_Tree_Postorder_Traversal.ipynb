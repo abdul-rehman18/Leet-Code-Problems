{
  "nbformat": 4,
  "nbformat_minor": 0,
  "metadata": {
    "colab": {
      "provenance": []
    },
    "kernelspec": {
      "name": "python3",
      "display_name": "Python 3"
    },
    "language_info": {
      "name": "python"
    }
  },
  "cells": [
    {
      "cell_type": "markdown",
      "source": [
        "# LeetCode Problem: N-ary Tree Postorder Traversal"
      ],
      "metadata": {
        "id": "Crh--Ew7VGKE"
      }
    },
    {
      "cell_type": "code",
      "execution_count": 3,
      "metadata": {
        "colab": {
          "base_uri": "https://localhost:8080/"
        },
        "id": "tX5WpOJ5Ns5M",
        "outputId": "170c9be4-f8e4-4b44-f2a1-643187a3c8f8"
      },
      "outputs": [
        {
          "output_type": "stream",
          "name": "stdout",
          "text": [
            "Postorder Traversal: [5, 6, 3, 2, 4, 1]\n"
          ]
        }
      ],
      "source": [
        "# Definition for a Node.\n",
        "class Node:\n",
        "    def __init__(self, val=None, children=None):\n",
        "        self.val = val\n",
        "        self.children = children if children is not None else []\n",
        "\n",
        "class Solution:\n",
        "    def postorder(self, root):\n",
        "        out = []\n",
        "        self.traverse(root, out)\n",
        "        return out\n",
        "\n",
        "    def traverse(self, root, out):\n",
        "        if not root:\n",
        "            return None\n",
        "        for c in root.children:\n",
        "            self.traverse(c, out)\n",
        "        out.append(root.val)\n",
        "\n",
        "# Test the Solution class\n",
        "if __name__ == \"__main__\":\n",
        "    # Example usage:\n",
        "    # Construct a sample tree\n",
        "    #        1\n",
        "    #      / | \\\n",
        "    #     3  2  4\n",
        "    #    / \\\n",
        "    #   5   6\n",
        "    root = Node(1, [Node(3, [Node(5), Node(6)]), Node(2), Node(4)])\n",
        "\n",
        "    # Create a Solution instance\n",
        "    solution = Solution()\n",
        "\n",
        "    # Get the postorder traversal result\n",
        "    result = solution.postorder(root)\n",
        "\n",
        "    # Print the result\n",
        "    print(\"Postorder Traversal:\", result)\n"
      ]
    },
    {
      "cell_type": "code",
      "source": [],
      "metadata": {
        "id": "IGBhKX6FVPxc"
      },
      "execution_count": null,
      "outputs": []
    }
  ]
}