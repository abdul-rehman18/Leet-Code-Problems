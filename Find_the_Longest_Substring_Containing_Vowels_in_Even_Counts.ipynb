{
  "nbformat": 4,
  "nbformat_minor": 0,
  "metadata": {
    "colab": {
      "provenance": []
    },
    "kernelspec": {
      "name": "python3",
      "display_name": "Python 3"
    },
    "language_info": {
      "name": "python"
    }
  },
  "cells": [
    {
      "cell_type": "markdown",
      "source": [
        "# LeetCode Problem: Find the Longest Substring Containing Vowels in Even Counts"
      ],
      "metadata": {
        "id": "sKVjo1aJaJ9k"
      }
    },
    {
      "cell_type": "code",
      "execution_count": 2,
      "metadata": {
        "colab": {
          "base_uri": "https://localhost:8080/"
        },
        "id": "t1HNlgs9JE_E",
        "outputId": "2aa4d704-acb6-4135-be9b-614c464a5877"
      },
      "outputs": [
        {
          "output_type": "stream",
          "name": "stdout",
          "text": [
            "13\n"
          ]
        }
      ],
      "source": [
        "def findTheLongestSubstring(s):\n",
        "        mapy = [-2] * 32\n",
        "        mapy[0] = -1\n",
        "\n",
        "        max_len = 0\n",
        "        mask = 0\n",
        "\n",
        "        for i, char in enumerate(s):\n",
        "            if char == 'a':\n",
        "                mask ^= 1\n",
        "            elif char == 'e':\n",
        "                mask ^= 2\n",
        "            elif char == 'i':\n",
        "                mask ^= 4\n",
        "            elif char == 'o':\n",
        "                mask ^= 8\n",
        "            elif char == 'u':\n",
        "                mask ^= 16\n",
        "\n",
        "            prev = mapy[mask]\n",
        "            if prev == -2:\n",
        "                mapy[mask] = i\n",
        "            else:\n",
        "                max_len = max(max_len, i - prev)\n",
        "\n",
        "        return max_len\n",
        "\n",
        "s = \"eleetminicoworoep\"\n",
        "\n",
        "\n",
        "print(findTheLongestSubstring(s))"
      ]
    },
    {
      "cell_type": "code",
      "source": [],
      "metadata": {
        "id": "dVX--ZDpanac"
      },
      "execution_count": null,
      "outputs": []
    }
  ]
}