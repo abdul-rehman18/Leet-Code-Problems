{
  "nbformat": 4,
  "nbformat_minor": 0,
  "metadata": {
    "colab": {
      "provenance": []
    },
    "kernelspec": {
      "name": "python3",
      "display_name": "Python 3"
    },
    "language_info": {
      "name": "python"
    }
  },
  "cells": [
    {
      "cell_type": "markdown",
      "source": [
        "# LeetCode Problem : Largest Local Values in a Matrix"
      ],
      "metadata": {
        "id": "GaqaGmk1WzKr"
      }
    },
    {
      "cell_type": "code",
      "execution_count": 1,
      "metadata": {
        "colab": {
          "base_uri": "https://localhost:8080/"
        },
        "id": "sgLs2v41WmVr",
        "outputId": "85b8b088-60e1-463c-9c19-aa2f79c424d8"
      },
      "outputs": [
        {
          "output_type": "stream",
          "name": "stdout",
          "text": [
            "[[9, 9], [8, 6]]\n"
          ]
        }
      ],
      "source": [
        "def largestLocal(grid):\n",
        "        n, res = len(grid), []\n",
        "\n",
        "        for i in range(1, n - 1):\n",
        "            temp_row = []\n",
        "            for j in range(1, n - 1):\n",
        "                temp = 0\n",
        "\n",
        "                for k in range(i - 1, i + 2):\n",
        "                    for l in range(j - 1, j + 2):\n",
        "                        temp = max(temp, grid[k][l])\n",
        "\n",
        "                temp_row.append(temp)\n",
        "            res.append(temp_row)\n",
        "\n",
        "        return res\n",
        "\n",
        "grid = [[9,9,8,1],[5,6,2,6],[8,2,6,4],[6,2,2,2]]\n",
        "print(largestLocal(grid))"
      ]
    },
    {
      "cell_type": "code",
      "source": [],
      "metadata": {
        "id": "zN9UWNATXHRA"
      },
      "execution_count": null,
      "outputs": []
    }
  ]
}