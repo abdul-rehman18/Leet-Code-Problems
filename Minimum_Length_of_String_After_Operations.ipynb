{
  "nbformat": 4,
  "nbformat_minor": 0,
  "metadata": {
    "colab": {
      "provenance": []
    },
    "kernelspec": {
      "name": "python3",
      "display_name": "Python 3"
    },
    "language_info": {
      "name": "python"
    }
  },
  "cells": [
    {
      "cell_type": "markdown",
      "source": [
        "# LeetCode Problem: Minimum Length of String After Operations"
      ],
      "metadata": {
        "id": "yCYfvXEagxMX"
      }
    },
    {
      "cell_type": "code",
      "execution_count": 2,
      "metadata": {
        "colab": {
          "base_uri": "https://localhost:8080/"
        },
        "id": "Lx15JGkjgjoo",
        "outputId": "f2b1fc24-259e-4fc7-d07f-c2eecf7afc55"
      },
      "outputs": [
        {
          "output_type": "stream",
          "name": "stdout",
          "text": [
            "5\n"
          ]
        }
      ],
      "source": [
        "import numpy as np\n",
        "from collections import Counter\n",
        "def minimumLength(s):\n",
        "        return sum(1 if x % 2 else 2 for x in Counter(s).values())\n",
        "\n",
        "s = \"abaacbcbb\"\n",
        "\n",
        "\n",
        "print(minimumLength(s))"
      ]
    },
    {
      "cell_type": "code",
      "source": [],
      "metadata": {
        "id": "9r44iOqVhKva"
      },
      "execution_count": null,
      "outputs": []
    }
  ]
}