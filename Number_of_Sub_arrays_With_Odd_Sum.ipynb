{
  "nbformat": 4,
  "nbformat_minor": 0,
  "metadata": {
    "colab": {
      "provenance": []
    },
    "kernelspec": {
      "name": "python3",
      "display_name": "Python 3"
    },
    "language_info": {
      "name": "python"
    }
  },
  "cells": [
    {
      "cell_type": "markdown",
      "source": [
        "# LeetCode Problems: Number of Sub-arrays With Odd Sum"
      ],
      "metadata": {
        "id": "1yUvVn8Tvdu9"
      }
    },
    {
      "cell_type": "code",
      "execution_count": 1,
      "metadata": {
        "colab": {
          "base_uri": "https://localhost:8080/"
        },
        "id": "Ytqd4cPMvVf-",
        "outputId": "66b830a8-e5d5-4d9c-8835-aa29f6dd51ea"
      },
      "outputs": [
        {
          "output_type": "stream",
          "name": "stdout",
          "text": [
            "4\n",
            "0\n",
            "0\n"
          ]
        }
      ],
      "source": [
        "def numOfSubarrays(arr):\n",
        "        oddCount, prefixSum, mod = 0, 0, 1_000_000_007\n",
        "        for a in arr:\n",
        "            prefixSum += a\n",
        "            oddCount += prefixSum % 2\n",
        "        oddCount += (len(arr) - oddCount) * oddCount\n",
        "        return oddCount % mod\n",
        "\n",
        "\n",
        "print(numOfSubarrays([1,3,5]))\n",
        "print(numOfSubarrays([2,4,6]))\n",
        "print(numOfSubarrays([1024,1024,1024]))\n"
      ]
    },
    {
      "cell_type": "code",
      "source": [],
      "metadata": {
        "id": "AL9Bz5tyvusw"
      },
      "execution_count": null,
      "outputs": []
    }
  ]
}