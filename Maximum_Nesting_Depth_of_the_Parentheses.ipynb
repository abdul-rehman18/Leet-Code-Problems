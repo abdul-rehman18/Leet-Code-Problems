{
  "nbformat": 4,
  "nbformat_minor": 0,
  "metadata": {
    "colab": {
      "provenance": []
    },
    "kernelspec": {
      "name": "python3",
      "display_name": "Python 3"
    },
    "language_info": {
      "name": "python"
    }
  },
  "cells": [
    {
      "cell_type": "markdown",
      "source": [
        "# LeetCode Problem: Maximum Nesting Depth of the Parentheses\n"
      ],
      "metadata": {
        "id": "1LqrRuuXhlj6"
      }
    },
    {
      "cell_type": "code",
      "execution_count": 1,
      "metadata": {
        "colab": {
          "base_uri": "https://localhost:8080/"
        },
        "id": "8RnnZ6qahEJg",
        "outputId": "2c8702f2-8f83-443d-a985-19975bfadbb3"
      },
      "outputs": [
        {
          "output_type": "stream",
          "name": "stdout",
          "text": [
            "3\n"
          ]
        }
      ],
      "source": [
        "def maxDepth(s):\n",
        "        currentDepth = 0\n",
        "        maxDepth = 0\n",
        "        for char in s:\n",
        "            if char == '(':\n",
        "                currentDepth += 1\n",
        "                if currentDepth > maxDepth:\n",
        "                    maxDepth = currentDepth\n",
        "            elif char == ')':\n",
        "                currentDepth -= 1\n",
        "        return maxDepth\n",
        "\n",
        "\n",
        "s = \"(1+(2*3)+((8)/4))+1\"\n",
        "print(maxDepth(s))"
      ]
    },
    {
      "cell_type": "code",
      "source": [],
      "metadata": {
        "id": "xCQh0IKOhbS_"
      },
      "execution_count": null,
      "outputs": []
    }
  ]
}