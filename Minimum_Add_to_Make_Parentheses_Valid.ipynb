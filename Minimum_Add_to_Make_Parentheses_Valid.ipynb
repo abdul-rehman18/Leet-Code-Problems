{
  "nbformat": 4,
  "nbformat_minor": 0,
  "metadata": {
    "colab": {
      "provenance": []
    },
    "kernelspec": {
      "name": "python3",
      "display_name": "Python 3"
    },
    "language_info": {
      "name": "python"
    }
  },
  "cells": [
    {
      "cell_type": "markdown",
      "source": [
        "# LeetCode Problem:  Minimum Add to Make Parentheses Valid"
      ],
      "metadata": {
        "id": "WuuhXcsGfJ4f"
      }
    },
    {
      "cell_type": "code",
      "execution_count": 5,
      "metadata": {
        "colab": {
          "base_uri": "https://localhost:8080/"
        },
        "id": "qjgJ9IqjfCgp",
        "outputId": "f2aed73d-2ec5-4356-dc77-0fef0562f208"
      },
      "outputs": [
        {
          "output_type": "stream",
          "name": "stdout",
          "text": [
            "A: 1 , B: 0\n",
            "A: 0 , B: 0\n",
            "A: 0 , B: 1\n",
            "A: 0 , B: 2\n",
            "A: 1 , B: 2\n",
            "A: 2 , B: 2\n",
            "4\n"
          ]
        }
      ],
      "source": [
        "def minAddToMakeValid(s):\n",
        "        a = 0\n",
        "        b = 0\n",
        "        for i in s:\n",
        "            if i == '(':\n",
        "                a += 1\n",
        "            elif i == ')' and a > 0:\n",
        "                a -= 1\n",
        "            else:\n",
        "                b += 1\n",
        "            # print(f\"A: {a} , B: {b}\")\n",
        "            # print(b)\n",
        "        return a+b\n",
        "\n",
        "\n",
        "s =\"()))((\"\n",
        "print(minAddToMakeValid(s))"
      ]
    },
    {
      "cell_type": "code",
      "source": [],
      "metadata": {
        "id": "2_lzxjhGiNHI"
      },
      "execution_count": null,
      "outputs": []
    }
  ]
}