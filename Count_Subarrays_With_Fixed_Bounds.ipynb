{
  "nbformat": 4,
  "nbformat_minor": 0,
  "metadata": {
    "colab": {
      "provenance": []
    },
    "kernelspec": {
      "name": "python3",
      "display_name": "Python 3"
    },
    "language_info": {
      "name": "python"
    }
  },
  "cells": [
    {
      "cell_type": "markdown",
      "source": [
        "# LeetCode Problem: Count Subarrays With Fixed Bounds"
      ],
      "metadata": {
        "id": "d21UEa9-nQac"
      }
    },
    {
      "cell_type": "code",
      "execution_count": null,
      "metadata": {
        "id": "1TbfW6qfnHRs"
      },
      "outputs": [],
      "source": [
        "class Solution:\n",
        "    def countSubarrays(self, nums: List[int], mink: int, maxK: int) -> int:\n",
        "\n",
        "        res = 0\n",
        "        bad_idx = left_idx = right_idx = -1\n",
        "\n",
        "        for i, num in enumerate(nums) :\n",
        "            if not mink <= num <= maxK:\n",
        "                bad_idx = i\n",
        "\n",
        "            if num == mink:\n",
        "                left_idx = i\n",
        "\n",
        "            if num == maxK:\n",
        "                right_idx = i\n",
        "\n",
        "            res += max(0, min(left_idx, right_idx) - bad_idx)\n",
        "\n",
        "        return res"
      ]
    }
  ]
}