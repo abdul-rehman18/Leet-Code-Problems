{
  "nbformat": 4,
  "nbformat_minor": 0,
  "metadata": {
    "colab": {
      "provenance": []
    },
    "kernelspec": {
      "name": "python3",
      "display_name": "Python 3"
    },
    "language_info": {
      "name": "python"
    }
  },
  "cells": [
    {
      "cell_type": "markdown",
      "source": [
        "# LeetCode Problem: Final Prices With a Special Discount in a Shop"
      ],
      "metadata": {
        "id": "qLW_Sl0JyWUK"
      }
    },
    {
      "cell_type": "code",
      "execution_count": 1,
      "metadata": {
        "colab": {
          "base_uri": "https://localhost:8080/"
        },
        "id": "jVEWfYUax5uU",
        "outputId": "aae9239c-9f7b-4a40-e56a-3ce791ae436e"
      },
      "outputs": [
        {
          "output_type": "stream",
          "name": "stdout",
          "text": [
            "[4, 2, 4, 2, 3]\n"
          ]
        }
      ],
      "source": [
        "def finalPrices(prices):\n",
        "        n=len(prices)\n",
        "        stack=[n-1]\n",
        "        ans=[x for x in prices]\n",
        "        for i in range(n-2, -1, -1):\n",
        "            while stack and prices[i]<prices[stack[-1]]:\n",
        "                stack.pop()\n",
        "            if stack: ans[i]-=prices[stack[-1]]\n",
        "            stack.append(i)\n",
        "        return ans\n",
        "\n",
        "prices = [8,4,6,2,3]\n",
        "\n",
        "\n",
        "print(finalPrices(prices))"
      ]
    },
    {
      "cell_type": "code",
      "source": [],
      "metadata": {
        "id": "qBLfnIQr5JYL"
      },
      "execution_count": null,
      "outputs": []
    }
  ]
}