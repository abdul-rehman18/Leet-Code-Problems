{
  "nbformat": 4,
  "nbformat_minor": 0,
  "metadata": {
    "colab": {
      "provenance": []
    },
    "kernelspec": {
      "name": "python3",
      "display_name": "Python 3"
    },
    "language_info": {
      "name": "python"
    }
  },
  "cells": [
    {
      "cell_type": "markdown",
      "source": [
        "# LeetCode Problem: License Key Formatting"
      ],
      "metadata": {
        "id": "5MpAufqaa3B1"
      }
    },
    {
      "cell_type": "code",
      "execution_count": 15,
      "metadata": {
        "colab": {
          "base_uri": "https://localhost:8080/"
        },
        "id": "EuV3ZhThaZvb",
        "outputId": "b4379bba-77b7-4ad9-e34e-05a38c5671de"
      },
      "outputs": [
        {
          "output_type": "stream",
          "name": "stdout",
          "text": [
            "5F3Z-2E9W\n"
          ]
        }
      ],
      "source": [
        "def licenseKeyFormatting(s, k):\n",
        "  s =  s.replace('-','').upper()\n",
        "  l1 = len(s) % k\n",
        "  g1 = s[:l1]\n",
        "  for i in range(l1,len(s),k):\n",
        "    if g1:\n",
        "      g1 += \"-\"\n",
        "    g1 += s[i:i+k]\n",
        "  return g1\n",
        "\n",
        "s = \"5F3Z-2e-9-w\"\n",
        "k = 4\n",
        "print(licenseKeyFormatting(s, k))"
      ]
    },
    {
      "cell_type": "code",
      "source": [],
      "metadata": {
        "id": "IDfXyyfTbhN5"
      },
      "execution_count": null,
      "outputs": []
    }
  ]
}