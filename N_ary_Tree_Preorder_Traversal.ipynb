{
  "nbformat": 4,
  "nbformat_minor": 0,
  "metadata": {
    "colab": {
      "provenance": []
    },
    "kernelspec": {
      "name": "python3",
      "display_name": "Python 3"
    },
    "language_info": {
      "name": "python"
    }
  },
  "cells": [
    {
      "cell_type": "markdown",
      "source": [
        "# LeetCode Problem: N-ary Tree Preorder Traversal"
      ],
      "metadata": {
        "id": "n4wP2sglPwBn"
      }
    },
    {
      "cell_type": "code",
      "execution_count": 3,
      "metadata": {
        "colab": {
          "base_uri": "https://localhost:8080/"
        },
        "id": "e1wL7EF5Ovpj",
        "outputId": "f41e8ed3-6ac6-469d-c6e3-249e17d2cae6"
      },
      "outputs": [
        {
          "output_type": "stream",
          "name": "stdout",
          "text": [
            "[1, 3, 5, 6, 2, 4]\n"
          ]
        }
      ],
      "source": [
        "# Definition for a Node.\n",
        "class Node:\n",
        "    def __init__(self, val=None, children=None):\n",
        "        self.val = val\n",
        "        self.children = children if children is not None else []\n",
        "\n",
        "class Solution(object):\n",
        "    def preorder(self, root):\n",
        "        # To store the output result...\n",
        "        output = []\n",
        "        self.traverse(root, output)\n",
        "        return output\n",
        "\n",
        "    def traverse(self, root, output):\n",
        "        if root is None: return\n",
        "        output.append(root.val)\n",
        "        for child in root.children:\n",
        "            self.traverse(child, output)\n",
        "\n",
        "# Create a sample tree\n",
        "#     1\n",
        "#    /|\\\n",
        "#   3 2 4\n",
        "#  / \\\n",
        "# 5   6\n",
        "\n",
        "root = Node(1, [Node(3, [Node(5), Node(6)]), Node(2), Node(4)])\n",
        "\n",
        "solution = Solution()\n",
        "\n",
        "result = solution.preorder(root)\n",
        "\n",
        "print(result)\n"
      ]
    },
    {
      "cell_type": "code",
      "source": [],
      "metadata": {
        "id": "uuR9Ge9MP5Ry"
      },
      "execution_count": null,
      "outputs": []
    }
  ]
}