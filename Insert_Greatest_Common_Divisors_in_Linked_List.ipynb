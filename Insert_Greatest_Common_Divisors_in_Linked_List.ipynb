{
  "nbformat": 4,
  "nbformat_minor": 0,
  "metadata": {
    "colab": {
      "provenance": []
    },
    "kernelspec": {
      "name": "python3",
      "display_name": "Python 3"
    },
    "language_info": {
      "name": "python"
    }
  },
  "cells": [
    {
      "cell_type": "markdown",
      "source": [
        "# LeetCode Problem: Insert Greatest Common Divisors in Linked List"
      ],
      "metadata": {
        "id": "AbJeF6j75Nko"
      }
    },
    {
      "cell_type": "code",
      "execution_count": 3,
      "metadata": {
        "colab": {
          "base_uri": "https://localhost:8080/"
        },
        "id": "QRa3EEtv5FiA",
        "outputId": "b6d13091-b689-4f66-c3cd-5f88bb64c49d"
      },
      "outputs": [
        {
          "output_type": "stream",
          "name": "stdout",
          "text": [
            "Modified Linked List with GCDs inserted: [18, 6, 6, 2, 10, 1, 3]\n"
          ]
        }
      ],
      "source": [
        "# Definition for singly-linked list.\n",
        "class ListNode:\n",
        "    def __init__(self, val=0, next=None):\n",
        "        self.val = val\n",
        "        self.next = next\n",
        "\n",
        "class Solution(object):\n",
        "    def gcd(self, a, b):\n",
        "        # Function to compute the greatest common divisor (GCD) using the Euclidean algorithm\n",
        "        while b:\n",
        "            a, b = b, a % b  # Update a to b and b to a % b until b becomes 0\n",
        "        return a  # Return the GCD\n",
        "\n",
        "    def insertGreatestCommonDivisors(self, head):\n",
        "        # Function to insert GCDs between nodes in a linked list\n",
        "        ans = ListNode(0)  # Create a dummy node to help build the new list\n",
        "        cur = ans  # Pointer to the last node in the new list\n",
        "\n",
        "        # Loop through the original linked list until the second last node\n",
        "        while head.next:\n",
        "            gcd_val = self.gcd(head.val, head.next.val)  # Calculate GCD of the current and next node values\n",
        "\n",
        "            cur.next = ListNode(head.val)  # Create a new node for the current node's value\n",
        "            cur.next.next = ListNode(gcd_val)  # Create a new node for the GCD value\n",
        "\n",
        "            head = head.next  # Move to the next node in the original list\n",
        "            cur = cur.next.next  # Move to the last node in the new list (the newly added GCD node)\n",
        "\n",
        "        cur.next = ListNode(head.val)  # After exiting the loop, add the last node's value\n",
        "\n",
        "        return ans.next  # Return the new list starting from the first actual node (skipping the dummy node)\n",
        "\n",
        "def list_to_linkedlist(arr):\n",
        "    # Helper function to convert a list to a linked list\n",
        "    if not arr:\n",
        "        return None\n",
        "    head = ListNode(arr[0])\n",
        "    cur = head\n",
        "    for val in arr[1:]:\n",
        "        cur.next = ListNode(val)\n",
        "        cur = cur.next\n",
        "    return head\n",
        "\n",
        "def linkedlist_to_list(head):\n",
        "    # Helper function to convert a linked list back to a list\n",
        "    result = []\n",
        "    cur = head\n",
        "    while cur:\n",
        "        result.append(cur.val)\n",
        "        cur = cur.next\n",
        "    return result\n",
        "\n",
        "def main():\n",
        "    # Example input list\n",
        "    input_list = [18, 6, 10, 3]\n",
        "\n",
        "    # Convert list to linked list\n",
        "    head = list_to_linkedlist(input_list)\n",
        "\n",
        "    # Create Solution object\n",
        "    solution = Solution()\n",
        "\n",
        "    # Insert greatest common divisors between nodes\n",
        "    new_head = solution.insertGreatestCommonDivisors(head)\n",
        "\n",
        "    # Convert the resulting linked list back to a list and print it\n",
        "    output_list = linkedlist_to_list(new_head)\n",
        "    print(\"Modified Linked List with GCDs inserted:\", output_list)\n",
        "\n",
        "if __name__ == \"__main__\":\n",
        "    main()\n"
      ]
    },
    {
      "cell_type": "code",
      "source": [],
      "metadata": {
        "id": "vPZn6Tju5092"
      },
      "execution_count": null,
      "outputs": []
    }
  ]
}