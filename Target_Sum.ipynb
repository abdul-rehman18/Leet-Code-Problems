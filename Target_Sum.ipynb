{
  "nbformat": 4,
  "nbformat_minor": 0,
  "metadata": {
    "colab": {
      "provenance": []
    },
    "kernelspec": {
      "name": "python3",
      "display_name": "Python 3"
    },
    "language_info": {
      "name": "python"
    }
  },
  "cells": [
    {
      "cell_type": "markdown",
      "source": [
        "# LeetCode Problem: Target Sum"
      ],
      "metadata": {
        "id": "ZBnzXhbp7wu-"
      }
    },
    {
      "cell_type": "code",
      "execution_count": 2,
      "metadata": {
        "colab": {
          "base_uri": "https://localhost:8080/"
        },
        "id": "O64CPvCn7mD_",
        "outputId": "cb0feb9f-6255-42f1-c060-9a70a61a0b41"
      },
      "outputs": [
        {
          "output_type": "stream",
          "name": "stdout",
          "text": [
            "5\n"
          ]
        }
      ],
      "source": [
        "from functools import cache\n",
        "def findTargetSumWays(nums, target):\n",
        "        n=len(nums)\n",
        "        Sum=sum(nums)\n",
        "        diff=Sum-target\n",
        "\n",
        "        if diff<0 or diff%2==1: return 0\n",
        "        diff/=2\n",
        "\n",
        "        @cache\n",
        "        def f(j , sum):\n",
        "            if j==0: return 1 if sum==0 else 0\n",
        "            x=nums[j-1]\n",
        "            ans=f(j-1, sum)\n",
        "            if sum>=x:\n",
        "                ans+=f(j-1, sum-x)\n",
        "            return ans\n",
        "        return f(n, diff)\n",
        "\n",
        "nums = [1,1,1,1,1]\n",
        "target = 3\n",
        "\n",
        "print(findTargetSumWays(nums, target))"
      ]
    },
    {
      "cell_type": "code",
      "source": [],
      "metadata": {
        "id": "clFcJ6xi8K2A"
      },
      "execution_count": null,
      "outputs": []
    }
  ]
}