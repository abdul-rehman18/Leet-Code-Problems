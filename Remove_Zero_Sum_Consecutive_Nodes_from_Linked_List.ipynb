{
  "nbformat": 4,
  "nbformat_minor": 0,
  "metadata": {
    "colab": {
      "provenance": []
    },
    "kernelspec": {
      "name": "python3",
      "display_name": "Python 3"
    },
    "language_info": {
      "name": "python"
    }
  },
  "cells": [
    {
      "cell_type": "markdown",
      "source": [
        "# LeetCode Problem: Remove Zero Sum Consecutive Nodes from Linked List"
      ],
      "metadata": {
        "id": "YeqrDNgqNeIB"
      }
    },
    {
      "cell_type": "code",
      "execution_count": 1,
      "metadata": {
        "colab": {
          "base_uri": "https://localhost:8080/"
        },
        "id": "YEc8m2tjHyMd",
        "outputId": "d5f30b91-365f-4e76-88fe-52c496d3c3d5"
      },
      "outputs": [
        {
          "output_type": "stream",
          "name": "stdout",
          "text": [
            "Input:\n",
            "1 -> 2 -> -3 -> 3 -> 1 -> None\n",
            "Output:\n",
            "3 -> 1 -> None\n",
            "\n",
            "Input:\n",
            "1 -> 2 -> 3 -> -3 -> 4 -> None\n",
            "Output:\n",
            "1 -> 2 -> 4 -> None\n",
            "\n",
            "Input:\n",
            "1 -> 2 -> 3 -> -3 -> -2 -> None\n",
            "Output:\n",
            "1 -> None\n",
            "\n",
            "Input:\n",
            "1 -> 2 -> 3 -> -3 -> -2 -> 5 -> None\n",
            "Output:\n",
            "1 -> 5 -> None\n",
            "\n",
            "Input:\n",
            "1 -> 3 -> 2 -> -3 -> -2 -> 5 -> 100 -> -100 -> 50 -> None\n",
            "Output:\n",
            "1 -> 5 -> 50 -> None\n",
            "\n"
          ]
        }
      ],
      "source": [
        "# Definition for singly-linked list.\n",
        "class ListNode:\n",
        "    def __init__(self, val=0, next=None):\n",
        "        self.val = val\n",
        "        self.next = next\n",
        "\n",
        "class Solution:\n",
        "    def removeZeroSumSublists(self, head):\n",
        "        temp = ListNode(0,head)\n",
        "        pre = 0\n",
        "        re = {0: temp}\n",
        "        while head:\n",
        "            pre += head.val\n",
        "            re[pre] = head\n",
        "            head = head.next\n",
        "        head = temp\n",
        "        pre = 0\n",
        "        while head:\n",
        "            pre += head.val\n",
        "            head.next = re[pre].next\n",
        "            head = head.next\n",
        "        return temp.next\n",
        "\n",
        "def create_linked_list(arr):\n",
        "    if not arr:\n",
        "        return None\n",
        "    head = ListNode(arr[0])\n",
        "    current = head\n",
        "    for val in arr[1:]:\n",
        "        current.next = ListNode(val)\n",
        "        current = current.next\n",
        "    return head\n",
        "\n",
        "def print_linked_list(head):\n",
        "    current = head\n",
        "    while current:\n",
        "        print(current.val, end=\" -> \")\n",
        "        current = current.next\n",
        "    print(\"None\")\n",
        "\n",
        "def main():\n",
        "    # Test cases\n",
        "    test_cases = [\n",
        "        [1, 2, -3, 3, 1],\n",
        "        [1, 2, 3, -3, 4],\n",
        "        [1, 2, 3, -3, -2],\n",
        "        [1, 2, 3, -3, -2, 5],\n",
        "        [1, 3, 2, -3, -2, 5, 100, -100, 50]\n",
        "    ]\n",
        "\n",
        "    sol = Solution()\n",
        "    for arr in test_cases:\n",
        "        head = create_linked_list(arr)\n",
        "        print(\"Input:\")\n",
        "        print_linked_list(head)\n",
        "        result_head = sol.removeZeroSumSublists(head)\n",
        "        print(\"Output:\")\n",
        "        print_linked_list(result_head)\n",
        "        print()\n",
        "\n",
        "if __name__ == \"__main__\":\n",
        "    main()\n"
      ]
    },
    {
      "cell_type": "code",
      "source": [],
      "metadata": {
        "id": "9l003IwfNh8Y"
      },
      "execution_count": null,
      "outputs": []
    }
  ]
}