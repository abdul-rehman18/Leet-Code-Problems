{
  "nbformat": 4,
  "nbformat_minor": 0,
  "metadata": {
    "colab": {
      "provenance": []
    },
    "kernelspec": {
      "name": "python3",
      "display_name": "Python 3"
    },
    "language_info": {
      "name": "python"
    }
  },
  "cells": [
    {
      "cell_type": "markdown",
      "source": [
        "# LeetCode Problem: Find Champion II"
      ],
      "metadata": {
        "id": "mlYvP2wN8-oY"
      }
    },
    {
      "cell_type": "code",
      "execution_count": null,
      "metadata": {
        "id": "53jIjcvt5vM_"
      },
      "outputs": [],
      "source": [
        "def findChampion(n, edges):\n",
        "        isUndefeated = [True] * n\n",
        "\n",
        "        for winner, loser in edges:\n",
        "            isUndefeated[loser] = False\n",
        "\n",
        "        champion = -1\n",
        "        championCount = 0\n",
        "\n",
        "        for team in range(n):\n",
        "            if isUndefeated[team]:\n",
        "                champion = team\n",
        "                championCount += 1\n",
        "\n",
        "        if championCount == 1:\n",
        "            return champion\n",
        "\n",
        "        return -1"
      ]
    }
  ]
}