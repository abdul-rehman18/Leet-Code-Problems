{
  "nbformat": 4,
  "nbformat_minor": 0,
  "metadata": {
    "colab": {
      "provenance": []
    },
    "kernelspec": {
      "name": "python3",
      "display_name": "Python 3"
    },
    "language_info": {
      "name": "python"
    }
  },
  "cells": [
    {
      "cell_type": "markdown",
      "source": [
        "# LeetCode Problem: Binary Number with Alternating Bits"
      ],
      "metadata": {
        "id": "8n74z2CPhSZj"
      }
    },
    {
      "cell_type": "code",
      "execution_count": 2,
      "metadata": {
        "colab": {
          "base_uri": "https://localhost:8080/"
        },
        "id": "fY1W7SFNcbsb",
        "outputId": "552294ed-bf3c-4997-ada3-f16da6a65a29"
      },
      "outputs": [
        {
          "output_type": "stream",
          "name": "stdout",
          "text": [
            "True\n"
          ]
        }
      ],
      "source": [
        "def hasAlternatingBits(n):\n",
        "        n = bin(n)[2:]\n",
        "        for i in range(1, len(n)):\n",
        "            if n[i] == n[i - 1]:\n",
        "                return False\n",
        "        return True\n",
        "\n",
        "n=5\n",
        "print(hasAlternatingBits(n))"
      ]
    },
    {
      "cell_type": "code",
      "source": [],
      "metadata": {
        "id": "hEecsajkhMkj"
      },
      "execution_count": null,
      "outputs": []
    }
  ]
}