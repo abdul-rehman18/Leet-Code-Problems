{
  "nbformat": 4,
  "nbformat_minor": 0,
  "metadata": {
    "colab": {
      "provenance": []
    },
    "kernelspec": {
      "name": "python3",
      "display_name": "Python 3"
    },
    "language_info": {
      "name": "python"
    }
  },
  "cells": [
    {
      "cell_type": "markdown",
      "source": [
        "# LeetCode Problem: Minimum Remove to Make Valid Parentheses"
      ],
      "metadata": {
        "id": "VeIsDOjtDSi6"
      }
    },
    {
      "cell_type": "code",
      "execution_count": 1,
      "metadata": {
        "colab": {
          "base_uri": "https://localhost:8080/"
        },
        "id": "-ACBNCPbDJ50",
        "outputId": "c97bc3aa-e647-445a-e455-bd8c01989059"
      },
      "outputs": [
        {
          "output_type": "stream",
          "name": "stdout",
          "text": [
            "lee(t(c)o)de\n"
          ]
        }
      ],
      "source": [
        "def minRemoveToMakeValid(s):\n",
        "        left_count = 0\n",
        "        right_count = 0\n",
        "        stack = []\n",
        "\n",
        "        for ch in s:\n",
        "            if ch == '(':\n",
        "                left_count += 1\n",
        "            elif ch == ')':\n",
        "                right_count += 1\n",
        "            if right_count > left_count:\n",
        "                right_count -= 1\n",
        "            else:\n",
        "                stack.append(ch)\n",
        "\n",
        "        result = \"\"\n",
        "\n",
        "        while stack:\n",
        "            current_char = stack.pop()\n",
        "            if left_count > right_count and current_char == '(':\n",
        "                left_count -= 1\n",
        "            else:\n",
        "                result += current_char\n",
        "\n",
        "        return result[::-1]\n",
        "\n",
        "\n",
        "\n",
        "s = \"lee(t(c)o)de)\"\n",
        "print(minRemoveToMakeValid(s))"
      ]
    },
    {
      "cell_type": "code",
      "source": [],
      "metadata": {
        "id": "HkgdfQ2ZDrmz"
      },
      "execution_count": null,
      "outputs": []
    }
  ]
}