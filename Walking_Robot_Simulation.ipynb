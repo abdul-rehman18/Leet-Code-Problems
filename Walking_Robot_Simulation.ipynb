{
  "nbformat": 4,
  "nbformat_minor": 0,
  "metadata": {
    "colab": {
      "provenance": []
    },
    "kernelspec": {
      "name": "python3",
      "display_name": "Python 3"
    },
    "language_info": {
      "name": "python"
    }
  },
  "cells": [
    {
      "cell_type": "markdown",
      "source": [
        "# LeetCode Problem: Walking Robot Simulation"
      ],
      "metadata": {
        "id": "wR4Pk9kDIcgl"
      }
    },
    {
      "cell_type": "code",
      "execution_count": 1,
      "metadata": {
        "colab": {
          "base_uri": "https://localhost:8080/"
        },
        "id": "KWtYIULqIXzV",
        "outputId": "a9c80310-d5d8-4b96-e193-2a36af5e3a08"
      },
      "outputs": [
        {
          "output_type": "stream",
          "name": "stdout",
          "text": [
            "25\n"
          ]
        }
      ],
      "source": [
        "def robotSim(commands, obstacles):\n",
        "        dir=['N','E','S','W']\n",
        "        d=0\n",
        "        x=0\n",
        "        y=0\n",
        "        res=0\n",
        "        s=set((i,j) for i,j in obstacles)\n",
        "        for i in range(len(commands)):\n",
        "            if commands[i]==-1:\n",
        "                d+=1\n",
        "                d=d%4\n",
        "            elif  commands[i]==-2:\n",
        "                d-=1\n",
        "                d=d%4\n",
        "            else:\n",
        "                if dir[d]=='N':\n",
        "                    for move in range(commands[i]):\n",
        "                        if (x,y+1) in s:\n",
        "                            break\n",
        "                        y+=1\n",
        "                elif dir[d]=='E':\n",
        "                    for move in range(commands[i]):\n",
        "                        if (x+1,y) in s:\n",
        "                            break\n",
        "                        x+=1\n",
        "                elif dir[d]=='S':\n",
        "                    for move in range(commands[i]):\n",
        "                        if (x,y-1) in s:\n",
        "                            break\n",
        "                        y-=1\n",
        "                else:\n",
        "                    for move in range(commands[i]):\n",
        "                        if (x-1,y) in s:\n",
        "                            break\n",
        "                        x-=1\n",
        "            res=max(res,x**2+y**2)\n",
        "        return res\n",
        "\n",
        "\n",
        "\n",
        "commands=[4,-1,3]\n",
        "obstacles=[]\n",
        "print(robotSim(commands,obstacles))"
      ]
    },
    {
      "cell_type": "code",
      "source": [],
      "metadata": {
        "id": "QRmePXBhJG_N"
      },
      "execution_count": null,
      "outputs": []
    }
  ]
}