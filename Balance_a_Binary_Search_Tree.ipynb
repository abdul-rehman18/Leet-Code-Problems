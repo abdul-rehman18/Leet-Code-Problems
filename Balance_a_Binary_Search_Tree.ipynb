{
  "nbformat": 4,
  "nbformat_minor": 0,
  "metadata": {
    "colab": {
      "provenance": []
    },
    "kernelspec": {
      "name": "python3",
      "display_name": "Python 3"
    },
    "language_info": {
      "name": "python"
    }
  },
  "cells": [
    {
      "cell_type": "markdown",
      "source": [
        "# LeetCode Problem : Balance a Binary Search Tree"
      ],
      "metadata": {
        "id": "nmeGQTBwbWzU"
      }
    },
    {
      "cell_type": "code",
      "execution_count": 1,
      "metadata": {
        "colab": {
          "base_uri": "https://localhost:8080/"
        },
        "id": "LJWfKDK_bNDz",
        "outputId": "e48de704-cb5b-4272-ed75-b7e625b18798"
      },
      "outputs": [
        {
          "output_type": "stream",
          "name": "stdout",
          "text": [
            "Balanced BST:\n",
            ".: 3\n",
            "    L: 1\n",
            "        L: None\n",
            "        R: 2\n",
            "            L: None\n",
            "            R: None\n",
            "    R: 4\n",
            "        L: None\n",
            "        R: 5\n",
            "            L: None\n",
            "            R: None\n"
          ]
        }
      ],
      "source": [
        "class TreeNode:\n",
        "    def __init__(self, val=0, left=None, right=None):\n",
        "        self.val = val\n",
        "        self.left = left\n",
        "        self.right = right\n",
        "\n",
        "class Solution:\n",
        "    def balanceBST(self, root: TreeNode) -> TreeNode:\n",
        "        ans = []\n",
        "\n",
        "        def dfs(node):\n",
        "            if not node:\n",
        "                return\n",
        "            dfs(node.left)\n",
        "            ans.append(node.val)\n",
        "            dfs(node.right)\n",
        "\n",
        "        dfs(root)\n",
        "\n",
        "        def tree(low, high):\n",
        "            if low > high:\n",
        "                return None\n",
        "            mid = (low + high) // 2\n",
        "            root = TreeNode(ans[mid])\n",
        "            root.left = tree(low, mid - 1)\n",
        "            root.right = tree(mid + 1, high)\n",
        "            return root\n",
        "\n",
        "        return tree(0, len(ans) - 1)\n",
        "\n",
        "def print_tree(node, level=0, label=\".\"):\n",
        "    indent = \" \" * (4 * level)\n",
        "    print(f\"{indent}{label}: {node.val if node else 'None'}\")\n",
        "    if node:\n",
        "        print_tree(node.left, level + 1, \"L\")\n",
        "        print_tree(node.right, level + 1, \"R\")\n",
        "\n",
        "def main():\n",
        "    # Create a sample unbalanced BST\n",
        "    root = TreeNode(1)\n",
        "    root.right = TreeNode(2)\n",
        "    root.right.right = TreeNode(3)\n",
        "    root.right.right.right = TreeNode(4)\n",
        "    root.right.right.right.right = TreeNode(5)\n",
        "\n",
        "    # Balance the BST\n",
        "    solution = Solution()\n",
        "    balanced_root = solution.balanceBST(root)\n",
        "\n",
        "    # Print the balanced BST\n",
        "    print(\"Balanced BST:\")\n",
        "    print_tree(balanced_root)\n",
        "\n",
        "if __name__ == \"__main__\":\n",
        "    main()\n"
      ]
    },
    {
      "cell_type": "code",
      "source": [],
      "metadata": {
        "id": "ILVvqXffb6Mm"
      },
      "execution_count": null,
      "outputs": []
    }
  ]
}