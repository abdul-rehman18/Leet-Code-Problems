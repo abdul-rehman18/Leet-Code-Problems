{
 "cells": [
  {
   "cell_type": "markdown",
   "id": "5e46e17a",
   "metadata": {},
   "source": [
    "# LeetCode Problem: Same Tree"
   ]
  },
  {
   "cell_type": "code",
   "execution_count": 8,
   "id": "08329bc8",
   "metadata": {},
   "outputs": [
    {
     "name": "stdout",
     "output_type": "stream",
     "text": [
      "Is the two binary trees the same?\n",
      "True\n"
     ]
    }
   ],
   "source": [
    "class TreeNode:\n",
    "    def __init__(self, val=0, left=None, right=None):\n",
    "        self.val = val\n",
    "        self.left = left\n",
    "        self.right = right\n",
    "\n",
    "class Solution:\n",
    "    def isSameTree(self, p, q):\n",
    "        if not p and not q:\n",
    "            return True\n",
    "        if not p or not q:\n",
    "            return False\n",
    "        if p.val != q.val:\n",
    "            return False\n",
    "        return self.isSameTree(p.left, q.left) and self.isSameTree(p.right, q.right)\n",
    "\n",
    "if __name__ == \"__main__\":\n",
    "    p = TreeNode(1)\n",
    "    p.left = TreeNode(2)\n",
    "    p.right = TreeNode(3)\n",
    "    q = TreeNode(1)\n",
    "    q.left = TreeNode(2)\n",
    "    q.right = TreeNode(3)\n",
    "    \n",
    "    s = Solution()\n",
    "    # Function call\n",
    "    print(\"Is the two binary trees the same?\")\n",
    "    print(s.isSameTree(p, q))\n"
   ]
  },
  {
   "cell_type": "code",
   "execution_count": null,
   "id": "e84647d8",
   "metadata": {},
   "outputs": [],
   "source": []
  }
 ],
 "metadata": {
  "kernelspec": {
   "display_name": "Python 3 (ipykernel)",
   "language": "python",
   "name": "python3"
  },
  "language_info": {
   "codemirror_mode": {
    "name": "ipython",
    "version": 3
   },
   "file_extension": ".py",
   "mimetype": "text/x-python",
   "name": "python",
   "nbconvert_exporter": "python",
   "pygments_lexer": "ipython3",
   "version": "3.10.9"
  }
 },
 "nbformat": 4,
 "nbformat_minor": 5
}
