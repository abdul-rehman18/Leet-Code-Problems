{
  "nbformat": 4,
  "nbformat_minor": 0,
  "metadata": {
    "colab": {
      "provenance": []
    },
    "kernelspec": {
      "name": "python3",
      "display_name": "Python 3"
    },
    "language_info": {
      "name": "python"
    }
  },
  "cells": [
    {
      "cell_type": "markdown",
      "source": [
        "# LeetCode Problem: Reverse Only Letters"
      ],
      "metadata": {
        "id": "g0aCwOl8Bbie"
      }
    },
    {
      "cell_type": "code",
      "execution_count": 2,
      "metadata": {
        "colab": {
          "base_uri": "https://localhost:8080/"
        },
        "id": "Dh5B-Bgv_wNu",
        "outputId": "e2e1b73f-a518-4c49-e589-ff59ed1af03f"
      },
      "outputs": [
        {
          "output_type": "stream",
          "name": "stdout",
          "text": [
            "dc-ba\n"
          ]
        }
      ],
      "source": [
        "def reverseOnlyLetters(s):\n",
        "        u = s[::-1]\n",
        "        a=[]\n",
        "        for i in range(len(u)):\n",
        "            if u[i].isalpha():\n",
        "                a.append(u[i])\n",
        "        for i in range(len(s)):\n",
        "            if not s[i].isalpha():\n",
        "                a.insert(i,s[i])\n",
        "        b=''.join(a)\n",
        "        return b\n",
        "\n",
        "\n",
        "s = \"ab-cd\"\n",
        "print(reverseOnlyLetters(s))"
      ]
    },
    {
      "cell_type": "code",
      "source": [],
      "metadata": {
        "id": "iZrJ7HyUBTAS"
      },
      "execution_count": null,
      "outputs": []
    }
  ]
}