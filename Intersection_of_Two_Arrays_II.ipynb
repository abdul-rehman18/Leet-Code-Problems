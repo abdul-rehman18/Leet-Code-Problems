{
  "nbformat": 4,
  "nbformat_minor": 0,
  "metadata": {
    "colab": {
      "provenance": []
    },
    "kernelspec": {
      "name": "python3",
      "display_name": "Python 3"
    },
    "language_info": {
      "name": "python"
    }
  },
  "cells": [
    {
      "cell_type": "markdown",
      "source": [
        "# LeetCode Problem: Intersection of Two Arrays II"
      ],
      "metadata": {
        "id": "mGGWqyD8PNuo"
      }
    },
    {
      "cell_type": "code",
      "execution_count": 1,
      "metadata": {
        "colab": {
          "base_uri": "https://localhost:8080/"
        },
        "id": "ZGdPg1bgKkdk",
        "outputId": "6165d779-3958-4c31-9b10-1b919c4e6264"
      },
      "outputs": [
        {
          "output_type": "stream",
          "name": "stdout",
          "text": [
            "[2, 2]\n"
          ]
        }
      ],
      "source": [
        "def intersect(nums1, nums2):\n",
        "        nums1.sort()\n",
        "        nums2.sort()\n",
        "\n",
        "        a,b=0,0\n",
        "\n",
        "        ans=[]\n",
        "        while a<len(nums1) and b<len(nums2):\n",
        "            if nums1[a]<nums2[b]:\n",
        "                a+=1\n",
        "            elif nums2[b]<nums1[a]:\n",
        "                b+=1\n",
        "            else:\n",
        "                ans.append(nums1[a])\n",
        "                a+=1\n",
        "                b+=1\n",
        "        return ans\n",
        "\n",
        "\n",
        "nums1 = [1,2,2,1]\n",
        "nums2 = [2,2]\n",
        "\n",
        "res = intersect(nums1,nums2)\n",
        "print(res)"
      ]
    },
    {
      "cell_type": "code",
      "source": [],
      "metadata": {
        "id": "2kHNt_E9Ri9i"
      },
      "execution_count": null,
      "outputs": []
    }
  ]
}