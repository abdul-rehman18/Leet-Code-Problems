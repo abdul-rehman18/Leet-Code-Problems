{
  "nbformat": 4,
  "nbformat_minor": 0,
  "metadata": {
    "colab": {
      "provenance": []
    },
    "kernelspec": {
      "name": "python3",
      "display_name": "Python 3"
    },
    "language_info": {
      "name": "python"
    }
  },
  "cells": [
    {
      "cell_type": "markdown",
      "source": [
        "# LeetCode Problem: Binary Search Tree to Greater Sum Tree"
      ],
      "metadata": {
        "id": "YwLtTwxGW8ET"
      }
    },
    {
      "cell_type": "code",
      "execution_count": 2,
      "metadata": {
        "colab": {
          "base_uri": "https://localhost:8080/"
        },
        "id": "FKco82EvWoZq",
        "outputId": "918f917b-9dfd-4b2d-bb87-cec1f1d412e3"
      },
      "outputs": [
        {
          "output_type": "stream",
          "name": "stdout",
          "text": [
            "Original BST (in-order):\n",
            "1 2 3 4 5 6 7 \n",
            "Greater Sum Tree (in-order):\n",
            "28 27 25 22 18 13 7 \n"
          ]
        }
      ],
      "source": [
        "# Definition for a binary tree node.\n",
        "class TreeNode:\n",
        "    def __init__(self, val=0, left=None, right=None):\n",
        "        self.val = val\n",
        "        self.left = left\n",
        "        self.right = right\n",
        "\n",
        "class Solution:\n",
        "    def bstToGst(self, root: TreeNode) -> TreeNode:\n",
        "        self.val = 0\n",
        "\n",
        "        def dfs(node):\n",
        "            if not node:\n",
        "                return\n",
        "\n",
        "            dfs(node.right)\n",
        "            self.val += node.val\n",
        "            node.val = self.val\n",
        "            dfs(node.left)\n",
        "\n",
        "        dfs(root)\n",
        "        return root\n",
        "\n",
        "def print_inorder(node):\n",
        "    if node:\n",
        "        print_inorder(node.left)\n",
        "        print(node.val, end=' ')\n",
        "        print_inorder(node.right)\n",
        "\n",
        "def main():\n",
        "    # Creating a sample Binary Search Tree:\n",
        "    #       4\n",
        "    #      / \\\n",
        "    #     2   6\n",
        "    #    / \\ / \\\n",
        "    #   1  3 5  7\n",
        "    root = TreeNode(4)\n",
        "    root.left = TreeNode(2, TreeNode(1), TreeNode(3))\n",
        "    root.right = TreeNode(6, TreeNode(5), TreeNode(7))\n",
        "\n",
        "    print(\"Original BST (in-order):\")\n",
        "    print_inorder(root)\n",
        "    print()\n",
        "\n",
        "    # Convert BST to Greater Sum Tree\n",
        "    solution = Solution()\n",
        "    root_gst = solution.bstToGst(root)\n",
        "\n",
        "    print(\"Greater Sum Tree (in-order):\")\n",
        "    print_inorder(root_gst)\n",
        "    print()\n",
        "\n",
        "if __name__ == \"__main__\":\n",
        "    main()\n"
      ]
    },
    {
      "cell_type": "code",
      "source": [],
      "metadata": {
        "id": "zsIc3sbmXdYs"
      },
      "execution_count": null,
      "outputs": []
    }
  ]
}