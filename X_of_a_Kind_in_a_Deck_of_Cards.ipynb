{
  "nbformat": 4,
  "nbformat_minor": 0,
  "metadata": {
    "colab": {
      "provenance": []
    },
    "kernelspec": {
      "name": "python3",
      "display_name": "Python 3"
    },
    "language_info": {
      "name": "python"
    }
  },
  "cells": [
    {
      "cell_type": "markdown",
      "source": [
        "# LeetCode Problem: X of a Kind in a Deck of Cards"
      ],
      "metadata": {
        "id": "ukxrC--CVOUT"
      }
    },
    {
      "cell_type": "code",
      "execution_count": 4,
      "metadata": {
        "colab": {
          "base_uri": "https://localhost:8080/"
        },
        "id": "iFubCje8SncJ",
        "outputId": "5d75fde6-d8d9-4cfc-a25e-0e541001b230"
      },
      "outputs": [
        {
          "output_type": "stream",
          "name": "stdout",
          "text": [
            "True\n"
          ]
        }
      ],
      "source": [
        "import functools\n",
        "import collections\n",
        "def hasGroupsSizeX(deck):\n",
        "        def gcd(a,b):\n",
        "            while b:\n",
        "                a,b = b, a % b\n",
        "            return a\n",
        "        c = collections.Counter(deck).values()\n",
        "        return functools.reduce(gcd, c) > 1\n",
        "\n",
        "deck = [1,2,3,4,4,3,2,1]\n",
        "print(hasGroupsSizeX(deck))"
      ]
    },
    {
      "cell_type": "code",
      "source": [],
      "metadata": {
        "id": "bvZVbUNNUmzX"
      },
      "execution_count": null,
      "outputs": []
    }
  ]
}