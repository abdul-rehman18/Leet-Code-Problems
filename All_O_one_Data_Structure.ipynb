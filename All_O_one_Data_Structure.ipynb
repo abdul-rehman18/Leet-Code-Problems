{
  "nbformat": 4,
  "nbformat_minor": 0,
  "metadata": {
    "colab": {
      "provenance": []
    },
    "kernelspec": {
      "name": "python3",
      "display_name": "Python 3"
    },
    "language_info": {
      "name": "python"
    }
  },
  "cells": [
    {
      "cell_type": "markdown",
      "source": [
        "# LeetCode Problem: All O`one Data Structure"
      ],
      "metadata": {
        "id": "lPDm_tsilvkk"
      }
    },
    {
      "cell_type": "code",
      "execution_count": 1,
      "metadata": {
        "colab": {
          "base_uri": "https://localhost:8080/"
        },
        "id": "y3njv8qFjDfk",
        "outputId": "4714f9fc-b8e9-47c4-d28a-41e1b28fa533"
      },
      "outputs": [
        {
          "output_type": "stream",
          "name": "stdout",
          "text": [
            "hello\n",
            "leet\n"
          ]
        }
      ],
      "source": [
        "class AllOne:\n",
        "    def __init__(self):\n",
        "        self.myDict = {}\n",
        "\n",
        "    def inc(self, key: str) -> None:\n",
        "        if key in self.myDict:\n",
        "            self.myDict[key] += 1\n",
        "        else:\n",
        "            self.myDict[key] = 1\n",
        "\n",
        "    def dec(self, key: str) -> None:\n",
        "        if key in self.myDict:\n",
        "            if self.myDict[key] > 1:\n",
        "                self.myDict[key] -= 1\n",
        "            else:\n",
        "                self.myDict.pop(key)\n",
        "\n",
        "    def getMaxKey(self) -> str:\n",
        "        if not self.myDict:\n",
        "            return \"\"\n",
        "        maxVal = max(self.myDict.values())\n",
        "        for key in self.myDict.keys():\n",
        "            if self.myDict[key] == maxVal:\n",
        "                return key\n",
        "\n",
        "    def getMinKey(self) -> str:\n",
        "        if not self.myDict:\n",
        "            return \"\"\n",
        "        minVal = min(self.myDict.values())\n",
        "        for key in self.myDict.keys():\n",
        "            if self.myDict[key] == minVal:\n",
        "                return key\n",
        "\n",
        "\n",
        "sol = AllOne()\n",
        "sol.inc(\"hello\")\n",
        "sol.inc(\"hello\")\n",
        "sol.inc(\"leet\")\n",
        "print(sol.getMaxKey())\n",
        "print(sol.getMinKey())"
      ]
    },
    {
      "cell_type": "code",
      "source": [],
      "metadata": {
        "id": "j54-FlQMmCAO"
      },
      "execution_count": null,
      "outputs": []
    }
  ]
}