{
  "nbformat": 4,
  "nbformat_minor": 0,
  "metadata": {
    "colab": {
      "provenance": []
    },
    "kernelspec": {
      "name": "python3",
      "display_name": "Python 3"
    },
    "language_info": {
      "name": "python"
    }
  },
  "cells": [
    {
      "cell_type": "markdown",
      "source": [
        "# LeetCode Problem: Number Complement"
      ],
      "metadata": {
        "id": "ECT2o5SoXO3m"
      }
    },
    {
      "cell_type": "code",
      "execution_count": 15,
      "metadata": {
        "colab": {
          "base_uri": "https://localhost:8080/"
        },
        "id": "MynA4VR-VtAX",
        "outputId": "a79c8e77-90b6-4319-82ec-73901b5a24a1"
      },
      "outputs": [
        {
          "output_type": "execute_result",
          "data": {
            "text/plain": [
              "2"
            ]
          },
          "metadata": {},
          "execution_count": 15
        }
      ],
      "source": [
        "def findComplement(num):\n",
        "  n = bin(num)\n",
        "  po = 2**len(n[2:])-1\n",
        "  return num^po\n",
        "\n",
        "num=5\n",
        "findComplement(num)"
      ]
    },
    {
      "cell_type": "code",
      "source": [
        "def findComplement(num):\n",
        "  return num^(2**(len(bin(num)[2:]))-1)\n",
        "\n",
        "num=5\n",
        "findComplement(num)"
      ],
      "metadata": {
        "colab": {
          "base_uri": "https://localhost:8080/"
        },
        "id": "5QNlowDsXjTi",
        "outputId": "9ecf6e20-ead7-4168-c904-f828a17f0ae4"
      },
      "execution_count": 16,
      "outputs": [
        {
          "output_type": "execute_result",
          "data": {
            "text/plain": [
              "2"
            ]
          },
          "metadata": {},
          "execution_count": 16
        }
      ]
    },
    {
      "cell_type": "code",
      "source": [],
      "metadata": {
        "id": "ezXaP_WnZhaV"
      },
      "execution_count": null,
      "outputs": []
    }
  ]
}