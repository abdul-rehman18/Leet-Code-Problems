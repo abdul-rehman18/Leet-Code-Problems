{
  "nbformat": 4,
  "nbformat_minor": 0,
  "metadata": {
    "colab": {
      "provenance": []
    },
    "kernelspec": {
      "name": "python3",
      "display_name": "Python 3"
    },
    "language_info": {
      "name": "python"
    }
  },
  "cells": [
    {
      "cell_type": "markdown",
      "source": [
        "# LeetCode Problem: Minimum Number of Days to Make m Bouquets"
      ],
      "metadata": {
        "id": "hA1X7yq6ZOjM"
      }
    },
    {
      "cell_type": "code",
      "execution_count": 1,
      "metadata": {
        "colab": {
          "base_uri": "https://localhost:8080/"
        },
        "id": "2PezK38BY2WV",
        "outputId": "25624e74-48fd-4d9a-95f4-d96523199567"
      },
      "outputs": [
        {
          "output_type": "stream",
          "name": "stdout",
          "text": [
            "3\n"
          ]
        }
      ],
      "source": [
        "def minDays(bloomDay, m, k):\n",
        "        l, r = 1, 1000000000\n",
        "        ans = -1\n",
        "        while l <= r:\n",
        "            mid = l + (r - l) // 2\n",
        "            consecutive_length, bouquets = 0, 0\n",
        "            for bloom in bloomDay:\n",
        "                if bloom <= mid:\n",
        "                    consecutive_length += 1\n",
        "                    if consecutive_length >= k:\n",
        "                        consecutive_length = 0\n",
        "                        bouquets += 1\n",
        "                else:\n",
        "                    consecutive_length = 0\n",
        "            if bouquets >= m:\n",
        "                ans = mid\n",
        "                r = mid - 1\n",
        "            else:\n",
        "                l = mid + 1\n",
        "        return ans\n",
        "\n",
        "bloomDay = [1,10,3,10,2]\n",
        "m = 3\n",
        "k = 1\n",
        "\n",
        "print(minDays(bloomDay, m, k))"
      ]
    },
    {
      "cell_type": "code",
      "source": [],
      "metadata": {
        "id": "IP06ETjJaV5D"
      },
      "execution_count": null,
      "outputs": []
    }
  ]
}