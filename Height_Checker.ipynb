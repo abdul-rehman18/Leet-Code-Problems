{
  "nbformat": 4,
  "nbformat_minor": 0,
  "metadata": {
    "colab": {
      "provenance": []
    },
    "kernelspec": {
      "name": "python3",
      "display_name": "Python 3"
    },
    "language_info": {
      "name": "python"
    }
  },
  "cells": [
    {
      "cell_type": "markdown",
      "source": [
        "# LeetCode Problem: Height Checker"
      ],
      "metadata": {
        "id": "VXEIuhRGS-39"
      }
    },
    {
      "cell_type": "code",
      "execution_count": 1,
      "metadata": {
        "colab": {
          "base_uri": "https://localhost:8080/"
        },
        "id": "uN9NEaFRM2ZM",
        "outputId": "6c2655a0-dc0a-4b06-980e-533d1f9e0282"
      },
      "outputs": [
        {
          "output_type": "stream",
          "name": "stdout",
          "text": [
            "3\n"
          ]
        }
      ],
      "source": [
        "def heightChecker(heights):\n",
        "        expected = sorted(heights)\n",
        "        count = 0\n",
        "        for i in range(len(heights)):\n",
        "            if expected[i] != heights[i]:\n",
        "                count+=1\n",
        "        return count\n",
        "\n",
        "heights = [1,1,4,2,1,3]\n",
        "print(heightChecker(heights))"
      ]
    },
    {
      "cell_type": "code",
      "source": [],
      "metadata": {
        "id": "RmyvmEFBS7E-"
      },
      "execution_count": null,
      "outputs": []
    }
  ]
}