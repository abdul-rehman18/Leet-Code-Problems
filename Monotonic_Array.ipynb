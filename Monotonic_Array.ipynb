{
  "nbformat": 4,
  "nbformat_minor": 0,
  "metadata": {
    "colab": {
      "provenance": []
    },
    "kernelspec": {
      "name": "python3",
      "display_name": "Python 3"
    },
    "language_info": {
      "name": "python"
    }
  },
  "cells": [
    {
      "cell_type": "markdown",
      "source": [
        "# LeetCode Problem: Monotonic Array"
      ],
      "metadata": {
        "id": "ciywGmPFjxQ5"
      }
    },
    {
      "cell_type": "code",
      "execution_count": 1,
      "metadata": {
        "colab": {
          "base_uri": "https://localhost:8080/"
        },
        "id": "hpCaZjhiiaRc",
        "outputId": "cec27554-36e1-40af-8a14-ba36eac11a99"
      },
      "outputs": [
        {
          "output_type": "stream",
          "name": "stdout",
          "text": [
            "True\n"
          ]
        }
      ],
      "source": [
        "def isMonotonic(nums):\n",
        "        return nums == sorted(nums) or nums == sorted(nums, reverse=True)\n",
        "\n",
        "nums=[1,2,2,4]\n",
        "print(isMonotonic(nums))"
      ]
    },
    {
      "cell_type": "code",
      "source": [],
      "metadata": {
        "id": "KGOKQrcPj1lC"
      },
      "execution_count": null,
      "outputs": []
    }
  ]
}