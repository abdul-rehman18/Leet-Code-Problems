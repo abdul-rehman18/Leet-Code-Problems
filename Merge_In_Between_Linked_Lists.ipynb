{
  "nbformat": 4,
  "nbformat_minor": 0,
  "metadata": {
    "colab": {
      "provenance": []
    },
    "kernelspec": {
      "name": "python3",
      "display_name": "Python 3"
    },
    "language_info": {
      "name": "python"
    }
  },
  "cells": [
    {
      "cell_type": "markdown",
      "source": [
        "# LeetCode Problem: Merge In Between Linked Lists"
      ],
      "metadata": {
        "id": "V7GWwitUjEXq"
      }
    },
    {
      "cell_type": "code",
      "execution_count": 1,
      "metadata": {
        "colab": {
          "base_uri": "https://localhost:8080/"
        },
        "id": "TbUmx0cUZuQu",
        "outputId": "b969edcf-6ab3-4dc4-a3df-2169e381163a"
      },
      "outputs": [
        {
          "output_type": "stream",
          "name": "stdout",
          "text": [
            "Merged List:\n",
            "0 -> 1 -> 2 -> 1000000 -> 1000001 -> 1000002 -> 5\n"
          ]
        }
      ],
      "source": [
        "# Definition for singly-linked list.\n",
        "class ListNode:\n",
        "    def __init__(self, val=0, next=None):\n",
        "        self.val = val\n",
        "        self.next = next\n",
        "\n",
        "class Solution:\n",
        "    def mergeInBetween(self, list1, a, b, list2):\n",
        "        dummy = ListNode(0)\n",
        "        dummy.next = list1\n",
        "        preA = dummy\n",
        "        for i in range(a):\n",
        "            preA = preA.next\n",
        "        postB = preA\n",
        "        for i in range(b - a + 2):\n",
        "            postB = postB.next\n",
        "        preA.next = list2\n",
        "        while preA.next:\n",
        "            preA = preA.next\n",
        "        preA.next = postB\n",
        "        return dummy.next\n",
        "\n",
        "\n",
        "def createList(values):\n",
        "    head = ListNode(values[0])\n",
        "    current = head\n",
        "    for value in values[1:]:\n",
        "        current.next = ListNode(value)\n",
        "        current = current.next\n",
        "    return head\n",
        "\n",
        "def printList(head):\n",
        "    current = head\n",
        "    while current:\n",
        "        print(current.val, end=\" -> \" if current.next else \"\")\n",
        "        current = current.next\n",
        "    print()\n",
        "\n",
        "\n",
        "if __name__ == \"__main__\":\n",
        "    list1 = createList([0, 1, 2, 3, 4, 5])\n",
        "    list2 = createList([1000000, 1000001, 1000002])\n",
        "    a, b = 3, 4\n",
        "\n",
        "    solution = Solution()\n",
        "    result = solution.mergeInBetween(list1, a, b, list2)\n",
        "\n",
        "    print(\"Merged List:\")\n",
        "    printList(result)"
      ]
    },
    {
      "cell_type": "code",
      "source": [],
      "metadata": {
        "id": "ec7XQKsgjHxt"
      },
      "execution_count": null,
      "outputs": []
    }
  ]
}