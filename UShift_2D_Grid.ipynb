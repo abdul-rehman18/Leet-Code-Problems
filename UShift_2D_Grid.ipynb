{
  "nbformat": 4,
  "nbformat_minor": 0,
  "metadata": {
    "colab": {
      "provenance": []
    },
    "kernelspec": {
      "name": "python3",
      "display_name": "Python 3"
    },
    "language_info": {
      "name": "python"
    }
  },
  "cells": [
    {
      "cell_type": "markdown",
      "source": [
        "# LeetCode Problem: Shift 2D Grid"
      ],
      "metadata": {
        "id": "6_itua5WUm2J"
      }
    },
    {
      "cell_type": "code",
      "execution_count": 1,
      "metadata": {
        "colab": {
          "base_uri": "https://localhost:8080/"
        },
        "id": "c8AuN1YUUkJr",
        "outputId": "93b2688b-664c-4d3d-d6ae-a3fe1f37633b"
      },
      "outputs": [
        {
          "output_type": "stream",
          "name": "stdout",
          "text": [
            "[[9, 1, 2], [3, 4, 5], [6, 7, 8]]\n"
          ]
        }
      ],
      "source": [
        "def shiftGrid(grid, k):\n",
        "        m, n, ans = len(grid), len(grid[0]), []\n",
        "        for i in range(m):\n",
        "            ans.append([])\n",
        "            for j in range(n):\n",
        "                d = (i * n + j - k) % (m * n)\n",
        "                ans[-1].append(grid[d//n][d%n])\n",
        "        return ans\n",
        "\n",
        "grid = [[1,2,3],[4,5,6],[7,8,9]]\n",
        "k = 1\n",
        "print(shiftGrid(grid, k))"
      ]
    },
    {
      "cell_type": "code",
      "source": [],
      "metadata": {
        "id": "vjv0cFlxU_qz"
      },
      "execution_count": null,
      "outputs": []
    }
  ]
}