{
  "nbformat": 4,
  "nbformat_minor": 0,
  "metadata": {
    "colab": {
      "provenance": []
    },
    "kernelspec": {
      "name": "python3",
      "display_name": "Python 3"
    },
    "language_info": {
      "name": "python"
    }
  },
  "cells": [
    {
      "cell_type": "markdown",
      "source": [
        "# LeetCode Problem: Rabbits in Forest"
      ],
      "metadata": {
        "id": "A0KLAnIKhY_N"
      }
    },
    {
      "cell_type": "code",
      "execution_count": null,
      "metadata": {
        "id": "EZNSNfKXhTAa"
      },
      "outputs": [],
      "source": [
        "from collections import Counter\n",
        "from math import ceil\n",
        "\n",
        "class Solution:\n",
        "    def numRabbits(self, answers: List[int]) -> int:\n",
        "        freq = Counter(answers)\n",
        "        total = 0\n",
        "        for k, v in freq.items():\n",
        "            group_size = k + 1\n",
        "            groups = ceil(v / group_size)\n",
        "            total += groups * group_size\n",
        "        return total"
      ]
    }
  ]
}