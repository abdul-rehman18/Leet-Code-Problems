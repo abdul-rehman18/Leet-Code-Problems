{
  "nbformat": 4,
  "nbformat_minor": 0,
  "metadata": {
    "colab": {
      "provenance": []
    },
    "kernelspec": {
      "name": "python3",
      "display_name": "Python 3"
    },
    "language_info": {
      "name": "python"
    }
  },
  "cells": [
    {
      "cell_type": "markdown",
      "source": [
        "# LeetCode Problem: Find Words That Can Be Formed by Characters"
      ],
      "metadata": {
        "id": "UtHQivIQT4mL"
      }
    },
    {
      "cell_type": "code",
      "execution_count": 3,
      "metadata": {
        "colab": {
          "base_uri": "https://localhost:8080/"
        },
        "id": "VHUnHOZYSLAJ",
        "outputId": "3e8a4f05-4d98-4c2d-f87d-869b27049282"
      },
      "outputs": [
        {
          "output_type": "stream",
          "name": "stdout",
          "text": [
            "6\n"
          ]
        }
      ],
      "source": [
        "def countCharacters(words, chars):\n",
        "        return sum(len(word) for word in words if all(word.count(char) <= chars.count(char) for char in set(word)))\n",
        "\n",
        "words = [\"cat\",\"bt\",\"hat\",\"tree\"]\n",
        "chars = \"atach\"\n",
        "print(countCharacters(words, chars))"
      ]
    },
    {
      "cell_type": "code",
      "source": [],
      "metadata": {
        "id": "LeLp435aUKVM"
      },
      "execution_count": null,
      "outputs": []
    }
  ]
}