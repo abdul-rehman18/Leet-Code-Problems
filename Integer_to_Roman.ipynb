{
  "nbformat": 4,
  "nbformat_minor": 0,
  "metadata": {
    "colab": {
      "provenance": []
    },
    "kernelspec": {
      "name": "python3",
      "display_name": "Python 3"
    },
    "language_info": {
      "name": "python"
    }
  },
  "cells": [
    {
      "cell_type": "markdown",
      "source": [
        "# LeetCode Problem: Integer to Roman"
      ],
      "metadata": {
        "id": "aiGljd0nZKri"
      }
    },
    {
      "cell_type": "code",
      "execution_count": 1,
      "metadata": {
        "colab": {
          "base_uri": "https://localhost:8080/"
        },
        "id": "qbK328nrXPlC",
        "outputId": "5ff83e09-3c85-4187-fa9d-7c1a5a59d7bb"
      },
      "outputs": [
        {
          "output_type": "stream",
          "name": "stdout",
          "text": [
            "III\n"
          ]
        }
      ],
      "source": [
        "def intToRoman(num):\n",
        "        nm = {\n",
        "            1: \"I\",\n",
        "            5: \"V\",    4: \"IV\",\n",
        "            10: \"X\",   9: \"IX\",\n",
        "            50: \"L\",   40: \"XL\",\n",
        "            100: \"C\",  90: \"XC\",\n",
        "            500: \"D\",  400: \"CD\",\n",
        "            1000: \"M\", 900: \"CM\",\n",
        "        }\n",
        "\n",
        "        res = ''\n",
        "        for n in [1000, 900, 500, 400, 100, 90, 50, 40, 10, 9, 5, 4, 1]:\n",
        "            while n <= num:\n",
        "                res += nm[n]\n",
        "                num-=n\n",
        "        return res\n",
        "\n",
        "\n",
        "num= 3\n",
        "print(intToRoman(num))"
      ]
    },
    {
      "cell_type": "code",
      "source": [],
      "metadata": {
        "id": "X0SyfIUgZCb7"
      },
      "execution_count": null,
      "outputs": []
    }
  ]
}