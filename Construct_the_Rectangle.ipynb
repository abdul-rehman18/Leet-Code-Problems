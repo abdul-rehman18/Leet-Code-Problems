{
  "nbformat": 4,
  "nbformat_minor": 0,
  "metadata": {
    "colab": {
      "provenance": []
    },
    "kernelspec": {
      "name": "python3",
      "display_name": "Python 3"
    },
    "language_info": {
      "name": "python"
    }
  },
  "cells": [
    {
      "cell_type": "markdown",
      "source": [
        "# LeetCode Problem: Construct the Rectangle"
      ],
      "metadata": {
        "id": "XkrRci46v5Q5"
      }
    },
    {
      "cell_type": "code",
      "execution_count": 1,
      "metadata": {
        "colab": {
          "base_uri": "https://localhost:8080/"
        },
        "id": "cGgyqDZisnIM",
        "outputId": "ebf43a79-9c77-483d-c32f-6bf2175c6f52"
      },
      "outputs": [
        {
          "output_type": "stream",
          "name": "stdout",
          "text": [
            "[2, 2]\n"
          ]
        }
      ],
      "source": [
        "def constructRectangle(area):\n",
        "        for i in range(int(area**0.5),0,-1):\n",
        "            if area % i == 0:\n",
        "                return [area//i,i]\n",
        "\n",
        "area = 4\n",
        "res = constructRectangle(area)\n",
        "print(res)"
      ]
    },
    {
      "cell_type": "code",
      "source": [],
      "metadata": {
        "id": "UT3G7tEkv8vK"
      },
      "execution_count": null,
      "outputs": []
    }
  ]
}