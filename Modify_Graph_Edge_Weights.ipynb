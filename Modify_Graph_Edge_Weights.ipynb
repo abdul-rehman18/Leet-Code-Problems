{
  "nbformat": 4,
  "nbformat_minor": 0,
  "metadata": {
    "colab": {
      "provenance": []
    },
    "kernelspec": {
      "name": "python3",
      "display_name": "Python 3"
    },
    "language_info": {
      "name": "python"
    }
  },
  "cells": [
    {
      "cell_type": "markdown",
      "source": [
        "# LeetCode Problem: Modify Graph Edge Weights"
      ],
      "metadata": {
        "id": "EdJ058-FcUFk"
      }
    },
    {
      "cell_type": "code",
      "execution_count": 1,
      "metadata": {
        "colab": {
          "base_uri": "https://localhost:8080/"
        },
        "id": "jEY9VPq3cK_4",
        "outputId": "ead849b9-1544-4f5b-c3da-1b133dd8e7f8"
      },
      "outputs": [
        {
          "output_type": "stream",
          "name": "stdout",
          "text": [
            "[[4, 1, 1], [2, 0, 1], [0, 3, 1], [4, 3, 3]]\n"
          ]
        }
      ],
      "source": [
        "import heapq\n",
        "\n",
        "class Solution:\n",
        "    def modifiedGraphEdges(self, n, edges, source, destination, target):\n",
        "        adjs = [{} for _ in range(n)]\n",
        "\n",
        "        for edge in edges:\n",
        "            adjs[edge[0]][edge[1]] = edge[2]\n",
        "            adjs[edge[1]][edge[0]] = edge[2]\n",
        "\n",
        "        distTo = [float('inf')] * n\n",
        "        distTo[source] = 0\n",
        "\n",
        "        pq = [(0, source)]\n",
        "        heapq.heapify(pq)\n",
        "\n",
        "        self.dijkstra(adjs, distTo, pq)\n",
        "\n",
        "        if distTo[destination] == target:\n",
        "            return self.fill(edges)\n",
        "        elif distTo[destination] < target:\n",
        "            return []\n",
        "\n",
        "        for edge in edges:\n",
        "            if edge[2] == -1:\n",
        "                edge[2] = 1\n",
        "                adjs[edge[0]][edge[1]] = 1\n",
        "                adjs[edge[1]][edge[0]] = 1\n",
        "\n",
        "                pq = [(distTo[edge[0]], edge[0]), (distTo[edge[1]], edge[1])]\n",
        "\n",
        "                self.dijkstra(adjs, distTo, pq)\n",
        "\n",
        "                if distTo[destination] == target:\n",
        "                    return self.fill(edges)\n",
        "                elif distTo[destination] < target:\n",
        "                    edge[2] += target - distTo[destination]\n",
        "                    adjs[edge[0]][edge[1]] = edge[2]\n",
        "                    adjs[edge[1]][edge[0]] = edge[2]\n",
        "                    return self.fill(edges)\n",
        "\n",
        "        return []\n",
        "\n",
        "    def fill(self, edges):\n",
        "        for edge in edges:\n",
        "            if edge[2] == -1:\n",
        "                edge[2] = int(2e9)\n",
        "        return edges\n",
        "\n",
        "    def dijkstra(self, adjs, distTo, pq):\n",
        "        while pq:\n",
        "            curr_dist, curr = heapq.heappop(pq)\n",
        "\n",
        "            for next_node, weight in adjs[curr].items():\n",
        "                if weight > 0:\n",
        "                    if distTo[next_node] - weight > distTo[curr]:\n",
        "                        distTo[next_node] = distTo[curr] + weight\n",
        "                        heapq.heappush(pq, (distTo[next_node], next_node))\n",
        "\n",
        "\n",
        "n = 5\n",
        "edges = [[4,1,-1],[2,0,-1],[0,3,-1],[4,3,-1]]\n",
        "source = 0\n",
        "destination = 1\n",
        "target = 5\n",
        "\n",
        "print(Solution().modifiedGraphEdges(n, edges, source, destination, target))\n"
      ]
    },
    {
      "cell_type": "code",
      "source": [],
      "metadata": {
        "id": "cce5fXO2dMkf"
      },
      "execution_count": null,
      "outputs": []
    }
  ]
}