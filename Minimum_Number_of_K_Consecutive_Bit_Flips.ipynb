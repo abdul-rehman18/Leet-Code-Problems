{
  "nbformat": 4,
  "nbformat_minor": 0,
  "metadata": {
    "colab": {
      "provenance": []
    },
    "kernelspec": {
      "name": "python3",
      "display_name": "Python 3"
    },
    "language_info": {
      "name": "python"
    }
  },
  "cells": [
    {
      "cell_type": "markdown",
      "source": [
        "# LeetCode Problem: Minimum Number of K Consecutive Bit Flips"
      ],
      "metadata": {
        "id": "4T9vh1GAJOFx"
      }
    },
    {
      "cell_type": "code",
      "execution_count": 2,
      "metadata": {
        "colab": {
          "base_uri": "https://localhost:8080/"
        },
        "id": "Ljn-hzPxJFYG",
        "outputId": "ec969b9c-a3ba-478e-ad71-ea68c6304ad8"
      },
      "outputs": [
        {
          "output_type": "stream",
          "name": "stdout",
          "text": [
            "2\n"
          ]
        }
      ],
      "source": [
        "def minKBitFlips(nums,K):\n",
        "        n, flipped, res = len(nums), 0, 0\n",
        "        fp = [0] * n\n",
        "        for i in range(n):\n",
        "            if i >= K:\n",
        "                flipped ^= fp[i - K]\n",
        "            if flipped == nums[i]:\n",
        "                if i + K > n:\n",
        "                    return -1\n",
        "                fp[i] = 1\n",
        "                flipped ^= 1\n",
        "                res += 1\n",
        "        return res\n",
        "\n",
        "nums = [0,1,0]\n",
        "k = 1\n",
        "print(minKBitFlips(nums,k))"
      ]
    },
    {
      "cell_type": "code",
      "source": [],
      "metadata": {
        "id": "x2ajVzjgJfd0"
      },
      "execution_count": null,
      "outputs": []
    }
  ]
}