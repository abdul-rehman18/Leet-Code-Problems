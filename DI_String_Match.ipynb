{
  "nbformat": 4,
  "nbformat_minor": 0,
  "metadata": {
    "colab": {
      "provenance": []
    },
    "kernelspec": {
      "name": "python3",
      "display_name": "Python 3"
    },
    "language_info": {
      "name": "python"
    }
  },
  "cells": [
    {
      "cell_type": "markdown",
      "source": [
        "# LeetCode Problem: DI String Match"
      ],
      "metadata": {
        "id": "V3EprJaRKEEV"
      }
    },
    {
      "cell_type": "code",
      "execution_count": 1,
      "metadata": {
        "colab": {
          "base_uri": "https://localhost:8080/"
        },
        "id": "Fv_HWjfGJSEn",
        "outputId": "a0ea31d8-68bc-4ed6-b5bf-c60bf44c2043"
      },
      "outputs": [
        {
          "output_type": "stream",
          "name": "stdout",
          "text": [
            "[0, 4, 1, 3, 2]\n"
          ]
        }
      ],
      "source": [
        "def diStringMatch(s):\n",
        "        n = len(s)\n",
        "        start, end = 0, n\n",
        "        permutation = []\n",
        "\n",
        "        for char in s:\n",
        "            if char == 'I':\n",
        "                permutation.append(start)\n",
        "                start += 1\n",
        "            else:\n",
        "                permutation.append(end)\n",
        "                end -= 1\n",
        "\n",
        "        permutation.append(start)\n",
        "\n",
        "        return permutation\n",
        "\n",
        "s = \"IDID\"\n",
        "print(diStringMatch(s))"
      ]
    },
    {
      "cell_type": "code",
      "source": [],
      "metadata": {
        "id": "wLjj3gVxKSQo"
      },
      "execution_count": null,
      "outputs": []
    }
  ]
}