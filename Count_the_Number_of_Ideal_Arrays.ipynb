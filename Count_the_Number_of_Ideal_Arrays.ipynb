{
  "nbformat": 4,
  "nbformat_minor": 0,
  "metadata": {
    "colab": {
      "provenance": []
    },
    "kernelspec": {
      "name": "python3",
      "display_name": "Python 3"
    },
    "language_info": {
      "name": "python"
    }
  },
  "cells": [
    {
      "cell_type": "markdown",
      "source": [
        "# LeetCode Problems: Count the Number of Ideal Arrays"
      ],
      "metadata": {
        "id": "r7GVoT0CdGVu"
      }
    },
    {
      "cell_type": "code",
      "execution_count": null,
      "metadata": {
        "id": "3ALSkqPzc-6B"
      },
      "outputs": [],
      "source": [
        "from math import comb\n",
        "\n",
        "MOD = 10**9 + 7\n",
        "MAX = 10001\n",
        "cnt = [[0] * 14 for _ in range(MAX)]\n",
        "comb_table = [[0] * 14 for _ in range(MAX)]\n",
        "\n",
        "# Precompute combinations\n",
        "for s in range(MAX):\n",
        "    for r in range(min(s, 13) + 1):\n",
        "        comb_table[s][r] = comb(s, r)\n",
        "\n",
        "# Sieve-like DP for count\n",
        "for div in range(1, MAX):\n",
        "    cnt[div][0] += 1\n",
        "    for i in range(div * 2, MAX, div):\n",
        "        for bars in range(13):\n",
        "            if cnt[div][bars]:\n",
        "                cnt[i][bars + 1] += cnt[div][bars]\n",
        "\n",
        "class Solution:\n",
        "    def idealArrays(self, n: int, maxValue: int) -> int:\n",
        "        res = 0\n",
        "        for i in range(1, maxValue + 1):\n",
        "            for bars in range(min(14, n)):\n",
        "                res = (res + cnt[i][bars] * comb_table[n - 1][bars]) % MOD\n",
        "        return res"
      ]
    }
  ]
}