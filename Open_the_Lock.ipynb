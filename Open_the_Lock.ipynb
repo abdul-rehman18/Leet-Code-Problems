{
  "nbformat": 4,
  "nbformat_minor": 0,
  "metadata": {
    "colab": {
      "provenance": []
    },
    "kernelspec": {
      "name": "python3",
      "display_name": "Python 3"
    },
    "language_info": {
      "name": "python"
    }
  },
  "cells": [
    {
      "cell_type": "markdown",
      "source": [
        "# LeetCode Problem: Open the Lock"
      ],
      "metadata": {
        "id": "bW52ZMCdAh0q"
      }
    },
    {
      "cell_type": "code",
      "execution_count": 2,
      "metadata": {
        "colab": {
          "base_uri": "https://localhost:8080/"
        },
        "id": "ZP8DcrKc_Sx5",
        "outputId": "359070fe-5438-42e8-cbb1-1afdcb53a57e"
      },
      "outputs": [
        {
          "output_type": "stream",
          "name": "stdout",
          "text": [
            "6\n"
          ]
        }
      ],
      "source": [
        "from collections import deque\n",
        "def openLock(deadends, target):\n",
        "        # Convert deadends to a set for O(1) lookup\n",
        "        deadends = set(deadends)\n",
        "        if \"0000\" in deadends:\n",
        "            return -1\n",
        "\n",
        "        # Initialize BFS\n",
        "        queue = deque([('0000', 0)])  # (current_combination, moves)\n",
        "        visited = set('0000')\n",
        "\n",
        "        # BFS loop\n",
        "        while queue:\n",
        "            current_combination, moves = queue.popleft()\n",
        "\n",
        "            # Check if we've reached the target\n",
        "            if current_combination == target:\n",
        "                return moves\n",
        "\n",
        "            # Generate next possible combinations\n",
        "            for i in range(4):\n",
        "                for delta in [-1, 1]:\n",
        "                    new_digit = (int(current_combination[i]) + delta) % 10\n",
        "                    new_combination = (\n",
        "                        current_combination[:i] + str(new_digit) + current_combination[i+1:]\n",
        "                    )\n",
        "\n",
        "                    # Check if the new combination is valid and not visited\n",
        "                    if new_combination not in visited and new_combination not in deadends:\n",
        "                        visited.add(new_combination)\n",
        "                        queue.append((new_combination, moves + 1))\n",
        "\n",
        "        # If target is not reachable\n",
        "        return -1\n",
        "\n",
        "\n",
        "\n",
        "\n",
        "deadends = [\"0201\",\"0101\",\"0102\",\"1212\",\"2002\"]\n",
        "target = \"0202\"\n",
        "print(openLock(deadends, target))"
      ]
    },
    {
      "cell_type": "code",
      "source": [],
      "metadata": {
        "id": "ojiOAwBdAsNf"
      },
      "execution_count": null,
      "outputs": []
    }
  ]
}