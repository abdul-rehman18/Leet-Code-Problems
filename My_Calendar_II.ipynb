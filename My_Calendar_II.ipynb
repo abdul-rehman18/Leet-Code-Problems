{
  "nbformat": 4,
  "nbformat_minor": 0,
  "metadata": {
    "colab": {
      "provenance": []
    },
    "kernelspec": {
      "name": "python3",
      "display_name": "Python 3"
    },
    "language_info": {
      "name": "python"
    }
  },
  "cells": [
    {
      "cell_type": "markdown",
      "source": [
        "# LeetCode Problem: My Calendar II"
      ],
      "metadata": {
        "id": "WMierKYBx_ab"
      }
    },
    {
      "cell_type": "code",
      "execution_count": 1,
      "metadata": {
        "colab": {
          "base_uri": "https://localhost:8080/"
        },
        "id": "UIOx-JQWx9Om",
        "outputId": "db349a98-91c6-46a8-9fdf-b11531abb533"
      },
      "outputs": [
        {
          "output_type": "stream",
          "name": "stdout",
          "text": [
            "True\n"
          ]
        }
      ],
      "source": [
        "class MyCalendarTwo:\n",
        "    def __init__(self):\n",
        "        # List to hold the booked intervals\n",
        "        self.bookings = []\n",
        "\n",
        "    def book(self, start: int, end: int) -> bool:\n",
        "        # Check for overlaps with existing bookings\n",
        "        for a, b in self.bookings:\n",
        "            # Check if the new booking overlaps with the existing interval\n",
        "            if start < b and end > a:\n",
        "                # Calculate the overlapping sub-interval\n",
        "                new_start = max(a, start)\n",
        "                new_end = min(b, end)\n",
        "\n",
        "                # Check if the sub-interval overlaps more than once\n",
        "                if self.check(new_start, new_end):\n",
        "                    return False  # Overlapping more than once, booking fails\n",
        "\n",
        "        # If there are no conflicts, add the booking\n",
        "        self.bookings.append((start, end))\n",
        "        return True  # Booking successful\n",
        "\n",
        "    def check(self, start: int, end: int) -> bool:\n",
        "        overlap_count = 0\n",
        "\n",
        "        for a, b in self.bookings:\n",
        "            # Check for strict overlap\n",
        "            if start < b and end > a:\n",
        "                overlap_count += 1\n",
        "                if overlap_count == 2:\n",
        "                    return True  # Found more than one overlap\n",
        "\n",
        "        return False  # No overlapping found\n",
        "\n",
        "s = MyCalendarTwo()\n",
        "print(s.book(10, 20))\n",
        "\n",
        "# [\"MyCalendarTwo\", \"book\", \"book\", \"book\", \"book\", \"book\", \"book\"]\n",
        "# [[], [10, 20], [50, 60], [10, 40], [5, 15], [5, 10], [25, 55]]\n",
        "\n",
        "\n"
      ]
    },
    {
      "cell_type": "code",
      "source": [],
      "metadata": {
        "id": "PPILgthhyeW2"
      },
      "execution_count": null,
      "outputs": []
    }
  ]
}