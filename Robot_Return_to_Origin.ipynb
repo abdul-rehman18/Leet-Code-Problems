{
  "nbformat": 4,
  "nbformat_minor": 0,
  "metadata": {
    "colab": {
      "provenance": []
    },
    "kernelspec": {
      "name": "python3",
      "display_name": "Python 3"
    },
    "language_info": {
      "name": "python"
    }
  },
  "cells": [
    {
      "cell_type": "markdown",
      "source": [
        "# LeetCode Problem: Robot Return to Origin"
      ],
      "metadata": {
        "id": "GVf97sGKINEb"
      }
    },
    {
      "cell_type": "code",
      "execution_count": 2,
      "metadata": {
        "colab": {
          "base_uri": "https://localhost:8080/"
        },
        "id": "X9wmC_6EHmrQ",
        "outputId": "a4208e8b-348b-4f1f-d6c5-5c96f4b7aaf0"
      },
      "outputs": [
        {
          "output_type": "stream",
          "name": "stdout",
          "text": [
            "True\n"
          ]
        }
      ],
      "source": [
        "def judgeCircle(moves):\n",
        "        return moves.count('L') == moves.count('R') and moves.count('U') == moves.count('D')\n",
        "\n",
        "moves = \"UD\"\n",
        "print(judgeCircle(moves))"
      ]
    },
    {
      "cell_type": "code",
      "source": [],
      "metadata": {
        "id": "qrtQmSykII80"
      },
      "execution_count": null,
      "outputs": []
    }
  ]
}