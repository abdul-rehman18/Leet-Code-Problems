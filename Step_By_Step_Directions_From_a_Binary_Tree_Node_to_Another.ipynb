{
  "nbformat": 4,
  "nbformat_minor": 0,
  "metadata": {
    "colab": {
      "provenance": []
    },
    "kernelspec": {
      "name": "python3",
      "display_name": "Python 3"
    },
    "language_info": {
      "name": "python"
    }
  },
  "cells": [
    {
      "cell_type": "markdown",
      "source": [
        "# LeetCode Problem: Step-By-Step Directions From a Binary Tree Node to Another"
      ],
      "metadata": {
        "id": "NNFKCC8Sc9r_"
      }
    },
    {
      "cell_type": "code",
      "execution_count": 1,
      "metadata": {
        "colab": {
          "base_uri": "https://localhost:8080/"
        },
        "id": "E10iJ2G-cw3L",
        "outputId": "60af7d58-9eae-4bbd-8cb3-15766cedd586"
      },
      "outputs": [
        {
          "output_type": "stream",
          "name": "stdout",
          "text": [
            "Directions from node 3 to node 6: UR\n"
          ]
        }
      ],
      "source": [
        "# Definition for a binary tree node.\n",
        "class TreeNode:\n",
        "    def __init__(self, val=0, left=None, right=None):\n",
        "        self.val = val\n",
        "        self.left = left\n",
        "        self.right = right\n",
        "\n",
        "class Solution:\n",
        "    def getDirections(\n",
        "        self, root: TreeNode, startValue: int, destValue: int\n",
        "    ) -> str:\n",
        "        def find(n: TreeNode, val: int, path: list) -> bool:\n",
        "            if n.val == val:\n",
        "                return True\n",
        "            if n.left and find(n.left, val, path):\n",
        "                path += \"L\"\n",
        "            elif n.right and find(n.right, val, path):\n",
        "                path += \"R\"\n",
        "            return path\n",
        "\n",
        "        s, d = [], []\n",
        "        find(root, startValue, s)\n",
        "        find(root, destValue, d)\n",
        "        while len(s) and len(d) and s[-1] == d[-1]:\n",
        "            s.pop()\n",
        "            d.pop()\n",
        "        return \"\".join(\"U\" * len(s)) + \"\".join(reversed(d))\n",
        "\n",
        "def main():\n",
        "    # Constructing the binary tree\n",
        "    # Example tree:\n",
        "    #        5\n",
        "    #       / \\\n",
        "    #      1   2\n",
        "    #         / \\\n",
        "    #        3   6\n",
        "    #       /\n",
        "    #      4\n",
        "\n",
        "    root = TreeNode(5)\n",
        "    root.left = TreeNode(1)\n",
        "    root.right = TreeNode(2)\n",
        "    root.right.left = TreeNode(3)\n",
        "    root.right.right = TreeNode(6)\n",
        "    root.right.left.left = TreeNode(4)\n",
        "\n",
        "    # Define startValue and destValue\n",
        "    startValue = 3\n",
        "    destValue = 6\n",
        "\n",
        "    # Create a Solution object and find the directions\n",
        "    solution = Solution()\n",
        "    directions = solution.getDirections(root, startValue, destValue)\n",
        "\n",
        "    # Print the result\n",
        "    print(f\"Directions from node {startValue} to node {destValue}: {directions}\")\n",
        "\n",
        "if __name__ == \"__main__\":\n",
        "    main()\n"
      ]
    },
    {
      "cell_type": "code",
      "source": [],
      "metadata": {
        "id": "oATUAM-XdXtJ"
      },
      "execution_count": null,
      "outputs": []
    }
  ]
}