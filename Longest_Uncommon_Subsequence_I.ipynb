{
  "nbformat": 4,
  "nbformat_minor": 0,
  "metadata": {
    "colab": {
      "provenance": []
    },
    "kernelspec": {
      "name": "python3",
      "display_name": "Python 3"
    },
    "language_info": {
      "name": "python"
    }
  },
  "cells": [
    {
      "cell_type": "markdown",
      "source": [
        "# LeetCode Problem: Longest Uncommon Subsequence I"
      ],
      "metadata": {
        "id": "UNfZfdUk0pEa"
      }
    },
    {
      "cell_type": "code",
      "execution_count": 1,
      "metadata": {
        "colab": {
          "base_uri": "https://localhost:8080/"
        },
        "id": "dDZr2p6Mz2gK",
        "outputId": "4871b432-3a04-4bc7-fea2-1786394b5dc5"
      },
      "outputs": [
        {
          "output_type": "stream",
          "name": "stdout",
          "text": [
            "3\n"
          ]
        }
      ],
      "source": [
        "def findLUSlength(a, b):\n",
        "        return -1 if a==b else max(len(a),len(b))\n",
        "\n",
        "a=\"aaa\"\n",
        "b=\"bbb\"\n",
        "print(findLUSlength(a, b))"
      ]
    },
    {
      "cell_type": "code",
      "source": [],
      "metadata": {
        "id": "jQoe9HNu0c67"
      },
      "execution_count": null,
      "outputs": []
    }
  ]
}