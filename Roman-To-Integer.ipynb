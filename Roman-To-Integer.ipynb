{
 "cells": [
  {
   "cell_type": "markdown",
   "id": "3f18cbe4",
   "metadata": {},
   "source": [
    "# LeetCode Problem: Roman To Integer"
   ]
  },
  {
   "cell_type": "code",
   "execution_count": 27,
   "id": "1379e287",
   "metadata": {},
   "outputs": [
    {
     "name": "stdout",
     "output_type": "stream",
     "text": [
      "1994\n"
     ]
    }
   ],
   "source": [
    "def romanToInt(s):\n",
    "    num = 0\n",
    "    prev_value = 0\n",
    "    my_dict = {'I': 1, 'V': 5, 'X': 10, 'L': 50, 'C': 100, 'D': 500, 'M': 1000}\n",
    "\n",
    "    for i in s[::-1]:\n",
    "        if my_dict[i] < prev_value:\n",
    "            num -= my_dict[i]\n",
    "        else:\n",
    "            num += my_dict[i]\n",
    "        prev_value = my_dict[i]\n",
    "\n",
    "    return num\n",
    "\n",
    "result = romanToInt('MCMXCIV')\n",
    "print(result)"
   ]
  }
 ],
 "metadata": {
  "kernelspec": {
   "display_name": "Python 3 (ipykernel)",
   "language": "python",
   "name": "python3"
  },
  "language_info": {
   "codemirror_mode": {
    "name": "ipython",
    "version": 3
   },
   "file_extension": ".py",
   "mimetype": "text/x-python",
   "name": "python",
   "nbconvert_exporter": "python",
   "pygments_lexer": "ipython3",
   "version": "3.10.9"
  }
 },
 "nbformat": 4,
 "nbformat_minor": 5
}
