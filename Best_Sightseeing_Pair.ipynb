{
  "nbformat": 4,
  "nbformat_minor": 0,
  "metadata": {
    "colab": {
      "provenance": []
    },
    "kernelspec": {
      "name": "python3",
      "display_name": "Python 3"
    },
    "language_info": {
      "name": "python"
    }
  },
  "cells": [
    {
      "cell_type": "markdown",
      "source": [
        "# LeetCode Problem: Best Sightseeing Pair"
      ],
      "metadata": {
        "id": "SAph3oAQvq47"
      }
    },
    {
      "cell_type": "code",
      "execution_count": 1,
      "metadata": {
        "colab": {
          "base_uri": "https://localhost:8080/"
        },
        "id": "7BlT8kvXvoj1",
        "outputId": "f42ba34b-c807-4813-cd9a-1f0b04593a1d"
      },
      "outputs": [
        {
          "output_type": "stream",
          "name": "stdout",
          "text": [
            "11\n"
          ]
        }
      ],
      "source": [
        "def maxScoreSightseeingPair(values):\n",
        "        n = len(values)\n",
        "        suffixMax = [0] * n\n",
        "        suffixMax[n - 1] = values[n - 1] - (n - 1)\n",
        "\n",
        "        for i in range(n - 2, -1, -1):\n",
        "            suffixMax[i] = max(suffixMax[i + 1], values[i] - i)\n",
        "\n",
        "        maxScore = float('-inf')\n",
        "\n",
        "        for i in range(n - 1):\n",
        "            maxScore = max(maxScore, values[i] + i + suffixMax[i + 1])\n",
        "\n",
        "        return maxScore\n",
        "\n",
        "values = [8,1,5,2,6]\n",
        "print(maxScoreSightseeingPair(values))\n",
        "\n"
      ]
    },
    {
      "cell_type": "code",
      "source": [],
      "metadata": {
        "id": "U280ytrov5TC"
      },
      "execution_count": null,
      "outputs": []
    }
  ]
}