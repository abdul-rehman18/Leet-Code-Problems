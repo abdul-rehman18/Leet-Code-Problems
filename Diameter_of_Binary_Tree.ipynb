{
  "nbformat": 4,
  "nbformat_minor": 0,
  "metadata": {
    "colab": {
      "provenance": []
    },
    "kernelspec": {
      "name": "python3",
      "display_name": "Python 3"
    },
    "language_info": {
      "name": "python"
    }
  },
  "cells": [
    {
      "cell_type": "markdown",
      "source": [
        "# LeetCode Problem: Diameter of Binary Tree"
      ],
      "metadata": {
        "id": "0abOxfQoCLHy"
      }
    },
    {
      "cell_type": "code",
      "execution_count": 3,
      "metadata": {
        "id": "TBjEUJcqvXxk",
        "colab": {
          "base_uri": "https://localhost:8080/"
        },
        "outputId": "8053e158-f946-4c4f-a7c4-9dba3dece828"
      },
      "outputs": [
        {
          "output_type": "stream",
          "name": "stdout",
          "text": [
            "Diameter of the binary tree: 3\n"
          ]
        }
      ],
      "source": [
        "class TreeNode:\n",
        "    def __init__(self, val=0, left=None, right=None):\n",
        "        self.val = val\n",
        "        self.left = left\n",
        "        self.right = right\n",
        "def diameterOfBinaryTree(root):\n",
        "        def height(root):\n",
        "            nonlocal diameter\n",
        "            if not root:\n",
        "                return 0\n",
        "\n",
        "            left = height(root.left)\n",
        "            right = height(root.right)\n",
        "            diameter = max(diameter, left + right)\n",
        "            return max(left, right) + 1\n",
        "\n",
        "        diameter = 0\n",
        "        height(root)\n",
        "        return diameter\n",
        "\n",
        "\n",
        "def main():\n",
        "    # Create a sample binary tree\n",
        "    #      1\n",
        "    #     / \\\n",
        "    #    2   3\n",
        "    #   / \\\n",
        "    #  4   5\n",
        "\n",
        "    root = TreeNode(1)\n",
        "    root.left = TreeNode(2, TreeNode(4), TreeNode(5))\n",
        "    root.right = TreeNode(3)\n",
        "\n",
        "    result = diameterOfBinaryTree(root)\n",
        "    print(\"Diameter of the binary tree:\", result)\n",
        "\n",
        "if __name__ == \"__main__\":\n",
        "    main()"
      ]
    },
    {
      "cell_type": "code",
      "source": [],
      "metadata": {
        "id": "zItQ1yZkGsvX"
      },
      "execution_count": null,
      "outputs": []
    }
  ]
}