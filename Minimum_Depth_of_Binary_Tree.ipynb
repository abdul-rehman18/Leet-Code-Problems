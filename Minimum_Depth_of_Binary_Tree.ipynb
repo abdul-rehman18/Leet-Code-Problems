{
 "cells": [
  {
   "cell_type": "markdown",
   "id": "728c5aa1",
   "metadata": {},
   "source": [
    "# LeetCode Problem: Minimum Depth of Binary Tree"
   ]
  },
  {
   "cell_type": "code",
   "execution_count": 2,
   "id": "38aa82ea",
   "metadata": {},
   "outputs": [
    {
     "name": "stdout",
     "output_type": "stream",
     "text": [
      "The minimum depth of the binary tree is: 2\n"
     ]
    }
   ],
   "source": [
    "class TreeNode:\n",
    "    def __init__(self, val=0, left=None, right=None):\n",
    "        self.val = val\n",
    "        self.left = left\n",
    "        self.right = right\n",
    "class Solution:\n",
    "    def minDepth(self, root):\n",
    "        if not root: return 0\n",
    "        elif not root.right and not root.left: return 1\n",
    "        elif not root.right: return 1 + self.minDepth(root.left)\n",
    "        elif not root.left: return 1 + self.minDepth(root.right)\n",
    "        return min(self.minDepth(root.left), self.minDepth(root.right)) + 1\n",
    "    \n",
    "def create_binary_tree(values, index=0):\n",
    "    if index < len(values):\n",
    "        if values[index] is None:\n",
    "            return None\n",
    "        node = TreeNode(values[index])\n",
    "        node.left = create_binary_tree(values, 2 * index + 1)\n",
    "        node.right = create_binary_tree(values, 2 * index + 2)\n",
    "        return node\n",
    "    return None\n",
    "\n",
    "if __name__ == \"__main__\":\n",
    "    values = [3, 9, 20, None, None, 15, 7]\n",
    "    root = create_binary_tree(values)\n",
    "\n",
    "    solution = Solution()\n",
    "    \n",
    "    min_depth = solution.minDepth(root)\n",
    "\n",
    "    print(f\"The minimum depth of the binary tree is: {min_depth}\")\n",
    "    \n"
   ]
  },
  {
   "cell_type": "code",
   "execution_count": null,
   "id": "7bc79bee",
   "metadata": {},
   "outputs": [],
   "source": []
  }
 ],
 "metadata": {
  "kernelspec": {
   "display_name": "Python 3 (ipykernel)",
   "language": "python",
   "name": "python3"
  },
  "language_info": {
   "codemirror_mode": {
    "name": "ipython",
    "version": 3
   },
   "file_extension": ".py",
   "mimetype": "text/x-python",
   "name": "python",
   "nbconvert_exporter": "python",
   "pygments_lexer": "ipython3",
   "version": "3.10.9"
  }
 },
 "nbformat": 4,
 "nbformat_minor": 5
}
