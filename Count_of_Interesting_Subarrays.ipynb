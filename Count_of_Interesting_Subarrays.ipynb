{
  "nbformat": 4,
  "nbformat_minor": 0,
  "metadata": {
    "colab": {
      "provenance": []
    },
    "kernelspec": {
      "name": "python3",
      "display_name": "Python 3"
    },
    "language_info": {
      "name": "python"
    }
  },
  "cells": [
    {
      "cell_type": "markdown",
      "source": [
        "# LeetCode Problem: Count of Interesting Subarrays"
      ],
      "metadata": {
        "id": "fWw54FwmreOv"
      }
    },
    {
      "cell_type": "code",
      "execution_count": null,
      "metadata": {
        "id": "soWG9Z_6rUMP"
      },
      "outputs": [],
      "source": [
        "class Solution:\n",
        "    def countInterestingSubarrays(self, nums: List[int], modulo: int, k: int) -> int:\n",
        "        n=len(nums)\n",
        "        mp=defaultdict(int)\n",
        "        mp[0]=1\n",
        "        ans, prefix=0, 0\n",
        "        for i, x in enumerate(nums):\n",
        "            prefix+=(x%modulo==k)\n",
        "            ans+=mp[(prefix+modulo-k)%modulo]\n",
        "            mp[prefix%modulo]+=1\n",
        "        return ans"
      ]
    }
  ]
}