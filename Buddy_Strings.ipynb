{
  "nbformat": 4,
  "nbformat_minor": 0,
  "metadata": {
    "colab": {
      "provenance": []
    },
    "kernelspec": {
      "name": "python3",
      "display_name": "Python 3"
    },
    "language_info": {
      "name": "python"
    }
  },
  "cells": [
    {
      "cell_type": "markdown",
      "source": [
        "# LeetCode Problem : Buddy Strings"
      ],
      "metadata": {
        "id": "JOJkTacuBlab"
      }
    },
    {
      "cell_type": "code",
      "execution_count": 1,
      "metadata": {
        "colab": {
          "base_uri": "https://localhost:8080/"
        },
        "id": "RXAWCAYBAoRA",
        "outputId": "b4fa1e8e-892c-4ffe-b48f-4a104256b779"
      },
      "outputs": [
        {
          "output_type": "stream",
          "name": "stdout",
          "text": [
            "True\n"
          ]
        }
      ],
      "source": [
        "def buddyStrings(s, goal):\n",
        "        if len(s) != len(goal):\n",
        "            return False\n",
        "        if s == goal and len(set(s)) < len(s):\n",
        "            return True\n",
        "        diffs = [(a, b) for a, b in zip(s, goal) if a != b]\n",
        "        return len(diffs) == 2 and diffs[0] == diffs[1][::-1]\n",
        "\n",
        "\n",
        "s = \"ab\"\n",
        "goal = \"ba\"\n",
        "print(buddyStrings(s, goal))"
      ]
    },
    {
      "cell_type": "code",
      "source": [],
      "metadata": {
        "id": "JdshWs22BRe3"
      },
      "execution_count": null,
      "outputs": []
    }
  ]
}