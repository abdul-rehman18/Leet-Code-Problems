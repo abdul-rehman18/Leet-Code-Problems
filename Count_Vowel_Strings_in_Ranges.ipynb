{
  "nbformat": 4,
  "nbformat_minor": 0,
  "metadata": {
    "colab": {
      "provenance": []
    },
    "kernelspec": {
      "name": "python3",
      "display_name": "Python 3"
    },
    "language_info": {
      "name": "python"
    }
  },
  "cells": [
    {
      "cell_type": "markdown",
      "source": [
        "# LeetCode Problem: Count Vowel Strings in Ranges"
      ],
      "metadata": {
        "id": "xKiP-nSyF64G"
      }
    },
    {
      "cell_type": "code",
      "execution_count": 1,
      "metadata": {
        "colab": {
          "base_uri": "https://localhost:8080/"
        },
        "id": "iuLhohxOF05M",
        "outputId": "864ef8f6-f48f-4cd4-d541-1db1609aa4ff"
      },
      "outputs": [
        {
          "output_type": "stream",
          "name": "stdout",
          "text": [
            "[2, 3, 0]\n"
          ]
        }
      ],
      "source": [
        "def vowelStrings(words, queries):\n",
        "        n = len(words)\n",
        "        Prefix = [0] * (n + 1)\n",
        "        vowels = {'a', 'e', 'i', 'o', 'u'}\n",
        "\n",
        "        for i in range(n):\n",
        "            Prefix[i + 1] = Prefix[i]\n",
        "            if words[i][0] in vowels and words[i][-1] in vowels:\n",
        "                Prefix[i + 1] += 1\n",
        "\n",
        "        ANS = []\n",
        "        for query in queries:\n",
        "            ANS.append(Prefix[query[1] + 1] - Prefix[query[0]])\n",
        "\n",
        "        return ANS\n",
        "\n",
        "words = [\"aba\",\"bcb\",\"ece\",\"aa\",\"e\"]\n",
        "queries = [[0,2],[1,4],[1,1]]\n",
        "\n",
        "print(vowelStrings(words, queries))\n"
      ]
    },
    {
      "cell_type": "code",
      "source": [],
      "metadata": {
        "id": "DJlo3KzvGhSN"
      },
      "execution_count": null,
      "outputs": []
    }
  ]
}