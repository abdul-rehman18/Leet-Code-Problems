{
  "nbformat": 4,
  "nbformat_minor": 0,
  "metadata": {
    "colab": {
      "provenance": []
    },
    "kernelspec": {
      "name": "python3",
      "display_name": "Python 3"
    },
    "language_info": {
      "name": "python"
    }
  },
  "cells": [
    {
      "cell_type": "markdown",
      "source": [
        "# LeetCode Problem: Linked List Cycle"
      ],
      "metadata": {
        "id": "qxlZdUhYYvej"
      }
    },
    {
      "cell_type": "code",
      "execution_count": 7,
      "metadata": {
        "colab": {
          "base_uri": "https://localhost:8080/"
        },
        "id": "JT23NH0-YWSq",
        "outputId": "ae574100-4df4-49f1-946f-c43072cf977e"
      },
      "outputs": [
        {
          "output_type": "stream",
          "name": "stdout",
          "text": [
            "False\n"
          ]
        }
      ],
      "source": [
        "class ListNode:\n",
        "    def __init__(self, x):\n",
        "        self.val = x\n",
        "        self.next = None\n",
        "\n",
        "class Solution:\n",
        "    def hasCycle(self, head):\n",
        "        fast = slow = head\n",
        "        while fast and fast.next:\n",
        "            fast = fast.next.next\n",
        "            slow = slow.next\n",
        "\n",
        "            if fast == slow:\n",
        "                return True\n",
        "        return False\n",
        "\n",
        "# Creating a linked list\n",
        "head = ListNode(3)\n",
        "head.next = ListNode(2)\n",
        "head.next.next = ListNode(0)\n",
        "head.next.next.next = ListNode(-4)\n",
        "# Creating a cycle for testing\n",
        "head.next.next.next.next = head.next\n",
        "\n",
        "s = Solution()\n",
        "print(s.hasCycle(head))\n"
      ]
    },
    {
      "cell_type": "code",
      "source": [],
      "metadata": {
        "id": "XfyHd_zAbBEP"
      },
      "execution_count": null,
      "outputs": []
    }
  ]
}