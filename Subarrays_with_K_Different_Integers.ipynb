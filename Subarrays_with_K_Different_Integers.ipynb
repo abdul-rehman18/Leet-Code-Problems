{
  "nbformat": 4,
  "nbformat_minor": 0,
  "metadata": {
    "colab": {
      "provenance": []
    },
    "kernelspec": {
      "name": "python3",
      "display_name": "Python 3"
    },
    "language_info": {
      "name": "python"
    }
  },
  "cells": [
    {
      "cell_type": "markdown",
      "source": [
        "# LeetCode Problem: Subarrays with K Different Integers"
      ],
      "metadata": {
        "id": "doLzaGu6xYts"
      }
    },
    {
      "cell_type": "code",
      "execution_count": 3,
      "metadata": {
        "colab": {
          "base_uri": "https://localhost:8080/"
        },
        "id": "dfCA4rOhxLz3",
        "outputId": "71faeb59-1ff3-4f42-ab8f-cc784e965137"
      },
      "outputs": [
        {
          "output_type": "stream",
          "name": "stdout",
          "text": [
            "7\n"
          ]
        }
      ],
      "source": [
        "from collections import defaultdict\n",
        "def subarraysWithKDistinct(nums, k):\n",
        "        if k == 0:\n",
        "            return 0\n",
        "\n",
        "        def solve(nums, k):\n",
        "            ans = 0\n",
        "            n = len(nums)\n",
        "            cnt = defaultdict(int)\n",
        "            diff = 0\n",
        "\n",
        "            l = 0\n",
        "            for r in range(n):\n",
        "                cnt[nums[r]] += 1\n",
        "                if cnt[nums[r]] == 1:\n",
        "                    diff += 1\n",
        "\n",
        "                while diff > k:\n",
        "                    cnt[nums[l]] -= 1\n",
        "                    if cnt[nums[l]] == 0:\n",
        "                        diff -= 1\n",
        "                    l += 1\n",
        "                ans += (r - l + 1)\n",
        "            return ans\n",
        "\n",
        "        return solve(nums, k) - solve(nums, k - 1)\n",
        "\n",
        "\n",
        "nums = [1,2,1,2,3]\n",
        "k = 2\n",
        "print(subarraysWithKDistinct(nums, k))"
      ]
    },
    {
      "source": [
        "from collections import defaultdict"
      ],
      "cell_type": "code",
      "metadata": {
        "id": "rTv9qBATx0Tx"
      },
      "execution_count": null,
      "outputs": []
    },
    {
      "cell_type": "code",
      "source": [],
      "metadata": {
        "id": "talsSwewxpZj"
      },
      "execution_count": null,
      "outputs": []
    }
  ]
}