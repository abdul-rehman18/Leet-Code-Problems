{
  "nbformat": 4,
  "nbformat_minor": 0,
  "metadata": {
    "colab": {
      "provenance": []
    },
    "kernelspec": {
      "name": "python3",
      "display_name": "Python 3"
    },
    "language_info": {
      "name": "python"
    }
  },
  "cells": [
    {
      "cell_type": "markdown",
      "source": [
        "# LeetCode Problem: Move Pieces to Obtain a String"
      ],
      "metadata": {
        "id": "FPzr5vCHySTL"
      }
    },
    {
      "cell_type": "code",
      "execution_count": 1,
      "metadata": {
        "colab": {
          "base_uri": "https://localhost:8080/"
        },
        "id": "RUvGa6mDyFQK",
        "outputId": "a0fd4d98-319b-4d1c-9be2-cb6cfd7fd7bb"
      },
      "outputs": [
        {
          "output_type": "stream",
          "name": "stdout",
          "text": [
            "True\n"
          ]
        }
      ],
      "source": [
        "def canChange(s, t):\n",
        "        n=len(s)\n",
        "        s+='@'\n",
        "        t+='@'\n",
        "        i, j=0, 0\n",
        "        while i<n or j<n:\n",
        "            while i<n and s[i]=='_': i+=1\n",
        "            while j<n and t[j]=='_': j+=1\n",
        "            c=s[i]\n",
        "            if c!=t[j]: return False\n",
        "            if c=='L' and i<j: return False\n",
        "            if c=='R' and i>j: return False\n",
        "            i+=1\n",
        "            j+=1\n",
        "        return True\n",
        "\n",
        "\n",
        "start = \"_L__R__R_\"\n",
        "target = \"L______RR\"\n",
        "\n",
        "print(canChange(start, target))\n"
      ]
    },
    {
      "cell_type": "code",
      "source": [],
      "metadata": {
        "id": "iebmUnksy8d9"
      },
      "execution_count": null,
      "outputs": []
    }
  ]
}