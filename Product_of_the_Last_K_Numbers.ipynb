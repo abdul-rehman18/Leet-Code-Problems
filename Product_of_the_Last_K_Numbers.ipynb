{
  "nbformat": 4,
  "nbformat_minor": 0,
  "metadata": {
    "colab": {
      "provenance": []
    },
    "kernelspec": {
      "name": "python3",
      "display_name": "Python 3"
    },
    "language_info": {
      "name": "python"
    }
  },
  "cells": [
    {
      "cell_type": "markdown",
      "source": [
        "# LeetCode Problem: Product of the Last K Numbers"
      ],
      "metadata": {
        "id": "iELNb4OQqGeo"
      }
    },
    {
      "cell_type": "code",
      "execution_count": null,
      "metadata": {
        "id": "xXEFpOsrpg6a"
      },
      "outputs": [],
      "source": [
        "class ProductOfNumbers:\n",
        "    def __init__(self):\n",
        "        self.list = []\n",
        "        self.prod = 1\n",
        "\n",
        "    def add(self, num: int) -> None:\n",
        "        if num == 0:\n",
        "            self.list = []\n",
        "            self.prod = 1\n",
        "        else:\n",
        "            self.prod *= num\n",
        "            self.list.append(self.prod)\n",
        "\n",
        "    def getProduct(self, k: int) -> int:\n",
        "        if len(self.list) < k:\n",
        "            return 0\n",
        "        if len(self.list) == k:\n",
        "            return self.list[-1]\n",
        "        return self.list[-1] // self.list[-k - 1]"
      ]
    }
  ]
}