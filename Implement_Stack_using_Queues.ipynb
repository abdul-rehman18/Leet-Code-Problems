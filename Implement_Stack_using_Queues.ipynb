{
  "nbformat": 4,
  "nbformat_minor": 0,
  "metadata": {
    "colab": {
      "provenance": []
    },
    "kernelspec": {
      "name": "python3",
      "display_name": "Python 3"
    },
    "language_info": {
      "name": "python"
    }
  },
  "cells": [
    {
      "cell_type": "markdown",
      "source": [
        "# LeetCode Problem: Implement Stack using Queues"
      ],
      "metadata": {
        "id": "yRpUGIKKN6kl"
      }
    },
    {
      "cell_type": "code",
      "execution_count": 2,
      "metadata": {
        "colab": {
          "base_uri": "https://localhost:8080/"
        },
        "id": "68DHhuiONyTb",
        "outputId": "e5109a7b-3b7d-40bf-c1c2-15092fd13d7a"
      },
      "outputs": [
        {
          "output_type": "stream",
          "name": "stdout",
          "text": [
            "Stack after pushes:\n",
            "Top: 3\n",
            "Is the stack empty? False\n",
            "\n",
            "Popped element: 3\n",
            "Stack after pop:\n",
            "Top: 2\n",
            "Is the stack empty? False\n"
          ]
        }
      ],
      "source": [
        "from collections import deque\n",
        "\n",
        "class MyStack:\n",
        "\n",
        "    def __init__(self):\n",
        "        self.q = deque()\n",
        "\n",
        "\n",
        "    def push(self, x: int) -> None:\n",
        "        self.q.append(x)\n",
        "        for _ in range(len(self.q)-1):\n",
        "            self.q.append(self.q.popleft())\n",
        "\n",
        "\n",
        "    def pop(self) -> int:\n",
        "        return self.q.popleft()\n",
        "\n",
        "\n",
        "    def top(self) -> int:\n",
        "        return self.q[0]\n",
        "\n",
        "\n",
        "    def empty(self) -> bool:\n",
        "        return len(self.q)==0\n",
        "\n",
        "\n",
        "\n",
        "def main():\n",
        "    stack = MyStack()\n",
        "\n",
        "    stack.push(1)\n",
        "    stack.push(2)\n",
        "    stack.push(3)\n",
        "\n",
        "    print(\"Stack after pushes:\")\n",
        "    print(\"Top:\", stack.top())\n",
        "    print(\"Is the stack empty?\", stack.empty())\n",
        "\n",
        "    popped_element = stack.pop()\n",
        "    print(\"\\nPopped element:\", popped_element)\n",
        "\n",
        "    print(\"Stack after pop:\")\n",
        "    print(\"Top:\", stack.top())\n",
        "    print(\"Is the stack empty?\", stack.empty())\n",
        "\n",
        "if __name__ == \"__main__\":\n",
        "    main()"
      ]
    },
    {
      "cell_type": "code",
      "source": [],
      "metadata": {
        "id": "X1tUhj2tQnSj"
      },
      "execution_count": null,
      "outputs": []
    }
  ]
}