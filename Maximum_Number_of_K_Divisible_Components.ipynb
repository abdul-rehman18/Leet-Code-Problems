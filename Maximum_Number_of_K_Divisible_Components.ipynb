{
  "nbformat": 4,
  "nbformat_minor": 0,
  "metadata": {
    "colab": {
      "provenance": []
    },
    "kernelspec": {
      "name": "python3",
      "display_name": "Python 3"
    },
    "language_info": {
      "name": "python"
    }
  },
  "cells": [
    {
      "cell_type": "markdown",
      "source": [
        "# LeetCode Problem: Maximum Number of K-Divisible Components"
      ],
      "metadata": {
        "id": "B_yQ3zz5PUEb"
      }
    },
    {
      "cell_type": "code",
      "execution_count": 1,
      "metadata": {
        "colab": {
          "base_uri": "https://localhost:8080/"
        },
        "id": "tUOqvDNIOvUT",
        "outputId": "04d7b35d-72d6-4223-c183-fa098f02e1f3"
      },
      "outputs": [
        {
          "output_type": "stream",
          "name": "stdout",
          "text": [
            "2\n"
          ]
        }
      ],
      "source": [
        "from collections import deque, defaultdict\n",
        "def maxKDivisibleComponents(n, edges, vals, k):\n",
        "        if n < 2:\n",
        "            return 1\n",
        "        graph = defaultdict(list)\n",
        "        degree = [0] * n\n",
        "        for a, b in edges:\n",
        "            graph[a].append(b)\n",
        "            graph[b].append(a)\n",
        "            degree[a] += 1\n",
        "            degree[b] += 1\n",
        "        node_vals = vals[:]\n",
        "        leaf_q = deque([i for i in range(n) if degree[i] == 1])\n",
        "        comp_cnt = 0\n",
        "        while leaf_q:\n",
        "            curr = leaf_q.popleft()\n",
        "            degree[curr] -= 1\n",
        "            carry = 0\n",
        "            if node_vals[curr] % k == 0:\n",
        "                comp_cnt += 1\n",
        "            else:\n",
        "                carry = node_vals[curr]\n",
        "            for nbr in graph[curr]:\n",
        "                if degree[nbr] == 0:\n",
        "                    continue\n",
        "                degree[nbr] -= 1\n",
        "                node_vals[nbr] += carry\n",
        "                if degree[nbr] == 1:\n",
        "                    leaf_q.append(nbr)\n",
        "        return comp_cnt\n",
        "\n",
        "\n",
        "n = 6\n",
        "edges = [[0, 1], [0, 2], [1, 3], [1, 4], [2, 4], [2, 5]]\n",
        "vals = [1, 2, 3, 4, 5, 6]\n",
        "k = 2\n",
        "print(maxKDivisibleComponents(n, edges, vals, k))"
      ]
    },
    {
      "cell_type": "code",
      "source": [],
      "metadata": {
        "id": "65QJShVtPFFi"
      },
      "execution_count": null,
      "outputs": []
    }
  ]
}