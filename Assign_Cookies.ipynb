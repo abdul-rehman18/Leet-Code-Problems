{
  "nbformat": 4,
  "nbformat_minor": 0,
  "metadata": {
    "colab": {
      "provenance": []
    },
    "kernelspec": {
      "name": "python3",
      "display_name": "Python 3"
    },
    "language_info": {
      "name": "python"
    }
  },
  "cells": [
    {
      "cell_type": "markdown",
      "source": [
        "# LeetCode Problem: Assign Cookies"
      ],
      "metadata": {
        "id": "sOC19cATrHR3"
      }
    },
    {
      "cell_type": "code",
      "execution_count": 1,
      "metadata": {
        "colab": {
          "base_uri": "https://localhost:8080/"
        },
        "id": "VoqLLZ5eoZhJ",
        "outputId": "c99354dd-0598-4110-f1fd-a267cf3d5851"
      },
      "outputs": [
        {
          "output_type": "stream",
          "name": "stdout",
          "text": [
            "1\n"
          ]
        }
      ],
      "source": [
        "def findContentChildren(g, s):\n",
        "        g.sort()\n",
        "        s.sort()\n",
        "        i=0\n",
        "        for c in s :\n",
        "            if c>=g[i]:\n",
        "                i+=1\n",
        "            if i == len(g):\n",
        "                return i\n",
        "        return i\n",
        "\n",
        "g = [1,2,3]\n",
        "s = [1,1]\n",
        "print(findContentChildren(g, s))"
      ]
    },
    {
      "cell_type": "code",
      "source": [],
      "metadata": {
        "id": "ZQu4Uz0grEC9"
      },
      "execution_count": null,
      "outputs": []
    }
  ]
}