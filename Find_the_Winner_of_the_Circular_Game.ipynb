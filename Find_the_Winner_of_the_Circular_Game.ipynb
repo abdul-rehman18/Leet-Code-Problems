{
  "nbformat": 4,
  "nbformat_minor": 0,
  "metadata": {
    "colab": {
      "provenance": []
    },
    "kernelspec": {
      "name": "python3",
      "display_name": "Python 3"
    },
    "language_info": {
      "name": "python"
    }
  },
  "cells": [
    {
      "cell_type": "markdown",
      "source": [
        "# LeetCode Problem: Find the Winner of the Circular Game"
      ],
      "metadata": {
        "id": "yRoRI_1DE3AS"
      }
    },
    {
      "cell_type": "code",
      "execution_count": 1,
      "metadata": {
        "colab": {
          "base_uri": "https://localhost:8080/"
        },
        "id": "hh6PRha4EvYk",
        "outputId": "a32649f1-0d3d-4926-bba8-54e1bef748a0"
      },
      "outputs": [
        {
          "output_type": "stream",
          "name": "stdout",
          "text": [
            "3\n"
          ]
        }
      ],
      "source": [
        "def findTheWinner(n, k):\n",
        "        return (findTheWinner(n-1, k)+(k-1))%n+1 if n>1 else 1\n",
        "\n",
        "\n",
        "n = 5\n",
        "k = 2\n",
        "\n",
        "print(findTheWinner(n, k))"
      ]
    },
    {
      "cell_type": "code",
      "source": [],
      "metadata": {
        "id": "vFV-fxAAFc9J"
      },
      "execution_count": null,
      "outputs": []
    }
  ]
}