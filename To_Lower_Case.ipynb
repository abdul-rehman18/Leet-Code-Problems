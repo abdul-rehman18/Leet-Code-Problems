{
  "nbformat": 4,
  "nbformat_minor": 0,
  "metadata": {
    "colab": {
      "provenance": []
    },
    "kernelspec": {
      "name": "python3",
      "display_name": "Python 3"
    },
    "language_info": {
      "name": "python"
    }
  },
  "cells": [
    {
      "cell_type": "markdown",
      "source": [
        "# LeetCode Problem: To Lower Case"
      ],
      "metadata": {
        "id": "jckyMXEoAQG9"
      }
    },
    {
      "cell_type": "code",
      "execution_count": 1,
      "metadata": {
        "colab": {
          "base_uri": "https://localhost:8080/"
        },
        "id": "ZPQq6bmt-tEg",
        "outputId": "fae3f958-6ae5-4f82-8739-b96eecd3c94a"
      },
      "outputs": [
        {
          "output_type": "stream",
          "name": "stdout",
          "text": [
            "hello\n"
          ]
        }
      ],
      "source": [
        "def toLowerCase(s):\n",
        "        a=\"\"\n",
        "        for i in s:\n",
        "            if 64<ord(i)<91:\n",
        "                i=chr(ord(i)+32)\n",
        "                a+=i\n",
        "            else:\n",
        "                a+=i\n",
        "        return a\n",
        "\n",
        "s=\"HeLLo\"\n",
        "print(toLowerCase(s))"
      ]
    },
    {
      "cell_type": "code",
      "source": [],
      "metadata": {
        "id": "_nBlsz_LALMM"
      },
      "execution_count": null,
      "outputs": []
    }
  ]
}