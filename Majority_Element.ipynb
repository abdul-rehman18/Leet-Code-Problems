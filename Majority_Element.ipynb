{
  "nbformat": 4,
  "nbformat_minor": 0,
  "metadata": {
    "colab": {
      "provenance": []
    },
    "kernelspec": {
      "name": "python3",
      "display_name": "Python 3"
    },
    "language_info": {
      "name": "python"
    }
  },
  "cells": [
    {
      "cell_type": "markdown",
      "source": [
        "# LeetCode Problem: Majority Element"
      ],
      "metadata": {
        "id": "zukyoqUh_nio"
      }
    },
    {
      "cell_type": "code",
      "execution_count": 1,
      "metadata": {
        "colab": {
          "base_uri": "https://localhost:8080/"
        },
        "id": "DGkc1SHL_gQH",
        "outputId": "09a4a12a-a2cc-414f-ad75-b53ee56295b1"
      },
      "outputs": [
        {
          "output_type": "execute_result",
          "data": {
            "text/plain": [
              "3"
            ]
          },
          "metadata": {},
          "execution_count": 1
        }
      ],
      "source": [
        "def majorityElement(nums):\n",
        "  nums.sort()\n",
        "  n=len(nums)\n",
        "  return nums[n//2]\n",
        "\n",
        "\n",
        "li = [3,2,3]\n",
        "majorityElement(li)"
      ]
    },
    {
      "cell_type": "code",
      "source": [],
      "metadata": {
        "id": "ZdeU5tlQBBiB"
      },
      "execution_count": null,
      "outputs": []
    }
  ]
}