{
  "nbformat": 4,
  "nbformat_minor": 0,
  "metadata": {
    "colab": {
      "provenance": []
    },
    "kernelspec": {
      "name": "python3",
      "display_name": "Python 3"
    },
    "language_info": {
      "name": "python"
    }
  },
  "cells": [
    {
      "cell_type": "markdown",
      "source": [
        "# LeetCode Problem: Product of Array Except Self"
      ],
      "metadata": {
        "id": "saWA3xbn7dP1"
      }
    },
    {
      "cell_type": "code",
      "execution_count": 8,
      "metadata": {
        "colab": {
          "base_uri": "https://localhost:8080/"
        },
        "id": "E8cookV76fdf",
        "outputId": "d9125f99-eead-4360-81c1-6382eef43fbf"
      },
      "outputs": [
        {
          "output_type": "stream",
          "name": "stdout",
          "text": [
            "[0, 0, 9, 0, 0]\n",
            "[24, 12, 8, 6]\n",
            "[0, 0]\n"
          ]
        }
      ],
      "source": [
        "def productExceptSelf(nums):\n",
        "    length = len(nums)\n",
        "    left = [1] * length\n",
        "    right = [1] * length\n",
        "    res = [1] * length\n",
        "\n",
        "    # Calculate left products\n",
        "    for i in range(1, length):\n",
        "        left[i] = nums[i - 1] * left[i - 1]\n",
        "\n",
        "    # Calculate right products\n",
        "    for i in range(length - 2, -1, -1):\n",
        "        right[i] = nums[i + 1] * right[i + 1]\n",
        "\n",
        "    # Multiply left and right products\n",
        "    for i in range(length):\n",
        "        res[i] = left[i] * right[i]\n",
        "\n",
        "    return res\n",
        "\n",
        "# Testing the function\n",
        "nums1 = [-1, 1, 0, -3, 3]\n",
        "nums2 = [1, 2, 3, 4]\n",
        "nums3 = [0, 0]\n",
        "\n",
        "print(productExceptSelf(nums1))\n",
        "print(productExceptSelf(nums2))\n",
        "print(productExceptSelf(nums3))\n"
      ]
    },
    {
      "cell_type": "code",
      "source": [],
      "metadata": {
        "id": "26huHZLj7S9Q"
      },
      "execution_count": null,
      "outputs": []
    }
  ]
}