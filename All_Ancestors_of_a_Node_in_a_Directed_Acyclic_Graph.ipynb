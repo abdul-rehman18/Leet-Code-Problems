{
  "nbformat": 4,
  "nbformat_minor": 0,
  "metadata": {
    "colab": {
      "provenance": []
    },
    "kernelspec": {
      "name": "python3",
      "display_name": "Python 3"
    },
    "language_info": {
      "name": "python"
    }
  },
  "cells": [
    {
      "cell_type": "markdown",
      "source": [
        "# LeetCode Problem:  All Ancestors of a Node in a Directed Acyclic Graph"
      ],
      "metadata": {
        "id": "P7J8jh93O1YJ"
      }
    },
    {
      "cell_type": "code",
      "execution_count": 1,
      "metadata": {
        "colab": {
          "base_uri": "https://localhost:8080/"
        },
        "id": "t29EeuWFOvfQ",
        "outputId": "64151527-be1e-4ed7-d91b-d1fb55bb5009"
      },
      "outputs": [
        {
          "output_type": "stream",
          "name": "stdout",
          "text": [
            "Ancestors:\n",
            "0: []\n",
            "1: [0]\n",
            "2: [0, 1]\n",
            "3: [0, 1]\n",
            "4: [0, 1, 2, 3]\n"
          ]
        }
      ],
      "source": [
        "class Solution:\n",
        "    def getAncestors(self, n, edges):\n",
        "        ans = [[] for _ in range(n)]\n",
        "        directChild = [[] for _ in range(n)]\n",
        "        for e in edges:\n",
        "            directChild[e[0]].append(e[1])\n",
        "        for i in range(n):\n",
        "            self.dfs(i, i, ans, directChild)\n",
        "        return ans\n",
        "\n",
        "    def dfs(self, x, curr, ans, directChild):\n",
        "        for ch in directChild[curr]:\n",
        "            if not ans[ch] or ans[ch][-1] != x:\n",
        "                ans[ch].append(x)\n",
        "                self.dfs(x, ch, ans, directChild)\n",
        "\n",
        "def main():\n",
        "    n = 5\n",
        "    edges = [[0, 1], [1, 2], [1, 3], [2, 4], [3, 4]]\n",
        "\n",
        "    solution = Solution()\n",
        "    ancestors = solution.getAncestors(n, edges)\n",
        "\n",
        "    print(\"Ancestors:\")\n",
        "    for i, ancestor_list in enumerate(ancestors):\n",
        "        print(f\"{i}: {ancestor_list}\")\n",
        "\n",
        "if __name__ == \"__main__\":\n",
        "    main()"
      ]
    },
    {
      "cell_type": "code",
      "source": [],
      "metadata": {
        "id": "S53PtW3WPUXb"
      },
      "execution_count": null,
      "outputs": []
    }
  ]
}