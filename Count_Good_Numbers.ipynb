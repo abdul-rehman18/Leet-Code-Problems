{
  "nbformat": 4,
  "nbformat_minor": 0,
  "metadata": {
    "colab": {
      "provenance": []
    },
    "kernelspec": {
      "name": "python3",
      "display_name": "Python 3"
    },
    "language_info": {
      "name": "python"
    }
  },
  "cells": [
    {
      "cell_type": "markdown",
      "source": [
        "# LeetCode Problems: Count Good Numbers"
      ],
      "metadata": {
        "id": "ZffmV9ZDmw9T"
      }
    },
    {
      "cell_type": "code",
      "execution_count": null,
      "metadata": {
        "id": "SxVxvdjNh7mL"
      },
      "outputs": [],
      "source": [
        "class Solution:\n",
        "    MOD = 10**9 + 7\n",
        "\n",
        "    def countGoodNumbers(self, chakra_length: int) -> int:\n",
        "        even_positions = (chakra_length + 1) // 2\n",
        "        odd_positions = chakra_length // 2\n",
        "\n",
        "        even_ways = self.chakra_power(5, even_positions)\n",
        "        odd_ways = self.chakra_power(4, odd_positions)\n",
        "\n",
        "        return (even_ways * odd_ways) % self.MOD\n",
        "\n",
        "    def chakra_power(self, base, power):\n",
        "        result = 1\n",
        "        base %= self.MOD\n",
        "\n",
        "        while power > 0:\n",
        "            if power % 2 == 1:\n",
        "                result = (result * base) % self.MOD\n",
        "            base = (base * base) % self.MOD\n",
        "            power //= 2\n",
        "\n",
        "        return result"
      ]
    }
  ]
}