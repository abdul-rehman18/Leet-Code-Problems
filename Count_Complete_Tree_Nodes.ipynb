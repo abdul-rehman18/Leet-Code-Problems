{
  "nbformat": 4,
  "nbformat_minor": 0,
  "metadata": {
    "colab": {
      "provenance": []
    },
    "kernelspec": {
      "name": "python3",
      "display_name": "Python 3"
    },
    "language_info": {
      "name": "python"
    }
  },
  "cells": [
    {
      "cell_type": "code",
      "execution_count": 2,
      "metadata": {
        "colab": {
          "base_uri": "https://localhost:8080/"
        },
        "id": "SPtm-gNBYdPb",
        "outputId": "74fbfc8d-81e7-4835-c010-b2ec56942b34"
      },
      "outputs": [
        {
          "output_type": "stream",
          "name": "stdout",
          "text": [
            "Total nodes in the binary tree: 6\n"
          ]
        }
      ],
      "source": [
        "class TreeNode:\n",
        "    def __init__(self, val=0, left=None, right=None):\n",
        "        self.val = val\n",
        "        self.left = left\n",
        "        self.right = right\n",
        "class Solution:\n",
        "    def countNodes(self, root):\n",
        "        if not root :\n",
        "            return 0\n",
        "\n",
        "        def left(node):\n",
        "            c = 0\n",
        "            while node:\n",
        "                c += 1\n",
        "                node = node.left\n",
        "            return c\n",
        "\n",
        "        def right(node):\n",
        "            c = 0\n",
        "            while node:\n",
        "                c += 1\n",
        "                node = node.right\n",
        "            return c\n",
        "\n",
        "        l = left(root.left)\n",
        "        r = right(root.right)\n",
        "\n",
        "        if l == r:\n",
        "            return 2**(l+1)-1\n",
        "\n",
        "        else:\n",
        "            return 1+ self.countNodes(root.left)+self.countNodes(root.right)\n",
        "\n",
        "def main():\n",
        "    root = TreeNode(1)\n",
        "    root.left = TreeNode(2)\n",
        "    root.right = TreeNode(3)\n",
        "    root.left.left = TreeNode(4)\n",
        "    root.left.right = TreeNode(5)\n",
        "    root.right.left = TreeNode(6)\n",
        "\n",
        "    solution = Solution()\n",
        "\n",
        "    total_nodes = solution.countNodes(root)\n",
        "\n",
        "    print(f'Total nodes in the binary tree: {total_nodes}')\n",
        "\n",
        "if __name__ == \"__main__\":\n",
        "    main()"
      ]
    },
    {
      "cell_type": "code",
      "source": [],
      "metadata": {
        "id": "pb9JaBB4cAOJ"
      },
      "execution_count": null,
      "outputs": []
    }
  ]
}