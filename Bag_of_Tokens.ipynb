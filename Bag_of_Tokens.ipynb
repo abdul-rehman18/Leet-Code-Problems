{
  "nbformat": 4,
  "nbformat_minor": 0,
  "metadata": {
    "colab": {
      "provenance": []
    },
    "kernelspec": {
      "name": "python3",
      "display_name": "Python 3"
    },
    "language_info": {
      "name": "python"
    }
  },
  "cells": [
    {
      "cell_type": "markdown",
      "source": [
        "# LeetCode Problem: Bag of Tokens"
      ],
      "metadata": {
        "id": "nPvP2xYbJFBx"
      }
    },
    {
      "cell_type": "code",
      "execution_count": 2,
      "metadata": {
        "colab": {
          "base_uri": "https://localhost:8080/"
        },
        "id": "C3a63qUN_2q9",
        "outputId": "a0ead7b8-c667-45c5-eb5e-d04056e74b56"
      },
      "outputs": [
        {
          "output_type": "stream",
          "name": "stdout",
          "text": [
            "0\n"
          ]
        }
      ],
      "source": [
        "import collections\n",
        "def bagOfTokensScore(tokens, P):\n",
        "        score = 0\n",
        "        tokens.sort()\n",
        "        deque = collections.deque(tokens)\n",
        "        while deque:\n",
        "            if deque and P >= deque[0]:\n",
        "                P -= deque.popleft()\n",
        "                score += 1\n",
        "\n",
        "            else:\n",
        "                if len(deque) > 2 and score:\n",
        "                    P += deque.pop()\n",
        "                    score -= 1\n",
        "                else:\n",
        "                    return score\n",
        "\n",
        "        return score\n",
        "\n",
        "\n",
        "tokens = [100]\n",
        "P = 50\n",
        "print(bagOfTokensScore(tokens, P))"
      ]
    },
    {
      "cell_type": "code",
      "source": [],
      "metadata": {
        "id": "6EEW-2JjJBBy"
      },
      "execution_count": null,
      "outputs": []
    }
  ]
}