{
  "nbformat": 4,
  "nbformat_minor": 0,
  "metadata": {
    "colab": {
      "provenance": []
    },
    "kernelspec": {
      "name": "python3",
      "display_name": "Python 3"
    },
    "language_info": {
      "name": "python"
    }
  },
  "cells": [
    {
      "cell_type": "markdown",
      "source": [
        "# LeetCode Problem: Magnetic Force Between Two Balls"
      ],
      "metadata": {
        "id": "koBWye8c9Hcz"
      }
    },
    {
      "cell_type": "code",
      "execution_count": 1,
      "metadata": {
        "colab": {
          "base_uri": "https://localhost:8080/"
        },
        "id": "YNWdfssb9B-L",
        "outputId": "62becce2-9271-477b-8b48-d4bbcb075f0b"
      },
      "outputs": [
        {
          "output_type": "stream",
          "name": "stdout",
          "text": [
            "3\n"
          ]
        }
      ],
      "source": [
        "def maxDistance(position, m):\n",
        "        position.sort()\n",
        "        l, r = 1, position[-1] - position[0]\n",
        "        ans = -1\n",
        "        while l <= r:\n",
        "            mid = l + (r - l) // 2\n",
        "            last_position, balls = position[0], 1\n",
        "            for i in range(1, len(position)):\n",
        "                if position[i] - last_position >= mid:\n",
        "                    last_position = position[i]\n",
        "                    balls += 1\n",
        "            if balls >= m:\n",
        "                ans = mid\n",
        "                l = mid + 1\n",
        "            else:\n",
        "                r = mid - 1\n",
        "        return ans\n",
        "\n",
        "position = [1,2,3,4,7]\n",
        "m = 3\n",
        "print(maxDistance(position, m))"
      ]
    },
    {
      "cell_type": "code",
      "source": [],
      "metadata": {
        "id": "GSp_-4vs9aI1"
      },
      "execution_count": null,
      "outputs": []
    }
  ]
}