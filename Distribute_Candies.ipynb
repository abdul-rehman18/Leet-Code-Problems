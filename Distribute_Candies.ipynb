{
  "nbformat": 4,
  "nbformat_minor": 0,
  "metadata": {
    "colab": {
      "provenance": []
    },
    "kernelspec": {
      "name": "python3",
      "display_name": "Python 3"
    },
    "language_info": {
      "name": "python"
    }
  },
  "cells": [
    {
      "cell_type": "markdown",
      "source": [
        "# LeetCode Problem: Distribute Candies"
      ],
      "metadata": {
        "id": "wFKyHbEzga-D"
      }
    },
    {
      "cell_type": "code",
      "execution_count": 1,
      "metadata": {
        "colab": {
          "base_uri": "https://localhost:8080/"
        },
        "id": "xrviB9gVcvhQ",
        "outputId": "ca5de33e-55d5-4a4f-f526-4e03e10694c3"
      },
      "outputs": [
        {
          "output_type": "stream",
          "name": "stdout",
          "text": [
            "3\n"
          ]
        }
      ],
      "source": [
        "def distributeCandies(candyType):\n",
        "        c_l = len(candyType)//2\n",
        "        u_l = len(set(candyType))\n",
        "        return min(u_l,c_l)\n",
        "\n",
        "\n",
        "candyType = [1,1,2,2,3,3]\n",
        "print(distributeCandies(candyType))"
      ]
    },
    {
      "cell_type": "code",
      "source": [],
      "metadata": {
        "id": "62zyF7z6gdcc"
      },
      "execution_count": null,
      "outputs": []
    }
  ]
}