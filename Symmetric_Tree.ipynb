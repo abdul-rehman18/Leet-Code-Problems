{
 "cells": [
  {
   "cell_type": "markdown",
   "id": "2ea3c7f2",
   "metadata": {},
   "source": [
    "# LeetCode Problem: Symmetric Tree"
   ]
  },
  {
   "cell_type": "code",
   "execution_count": null,
   "id": "39a83d1b",
   "metadata": {},
   "outputs": [],
   "source": [
    "class TreeNode:\n",
    "    def __init__(self, val=0, left=None, right=None):\n",
    "        self.val = val\n",
    "        self.left = left\n",
    "        self.right = right\n",
    "class Solution:\n",
    "    def isTreeSymmetric(self, leftChild, rightChild):\n",
    "        if leftChild is None and rightChild is None:\n",
    "            return True\n",
    "        if (leftChild is None and rightChild is not None) or (leftChild is not None and rightChild is None):\n",
    "            return False\n",
    "        if leftChild.val != rightChild.val:\n",
    "            return False\n",
    "        return self.isTreeSymmetric(leftChild.left, rightChild.right) and self.isTreeSymmetric(leftChild.right, rightChild.left)\n",
    "    def isSymmetric(self, root):\n",
    "        return self.isTreeSymmetric(root.left, root.right)\n",
    "    \n",
    "    \n",
    "\n",
    "        "
   ]
  }
 ],
 "metadata": {
  "kernelspec": {
   "display_name": "Python 3 (ipykernel)",
   "language": "python",
   "name": "python3"
  },
  "language_info": {
   "codemirror_mode": {
    "name": "ipython",
    "version": 3
   },
   "file_extension": ".py",
   "mimetype": "text/x-python",
   "name": "python",
   "nbconvert_exporter": "python",
   "pygments_lexer": "ipython3",
   "version": "3.10.9"
  }
 },
 "nbformat": 4,
 "nbformat_minor": 5
}
