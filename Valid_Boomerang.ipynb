{
  "nbformat": 4,
  "nbformat_minor": 0,
  "metadata": {
    "colab": {
      "provenance": []
    },
    "kernelspec": {
      "name": "python3",
      "display_name": "Python 3"
    },
    "language_info": {
      "name": "python"
    }
  },
  "cells": [
    {
      "cell_type": "markdown",
      "source": [
        "# LeetCode Problem: Valid Boomerang"
      ],
      "metadata": {
        "id": "m_DRqxOT58Ta"
      }
    },
    {
      "cell_type": "code",
      "execution_count": 1,
      "metadata": {
        "colab": {
          "base_uri": "https://localhost:8080/"
        },
        "id": "HemMM8y95535",
        "outputId": "516843bd-1997-412b-85d7-66578e848585"
      },
      "outputs": [
        {
          "output_type": "stream",
          "name": "stdout",
          "text": [
            "True\n"
          ]
        }
      ],
      "source": [
        "def isBoomerang(points):\n",
        "    # Extract points\n",
        "    (x1, y1), (x2, y2), (x3, y3) = points\n",
        "\n",
        "    # Check if all points are distinct\n",
        "    if points[0] == points[1] or points[1] == points[2] or points[0] == points[2]:\n",
        "        return False\n",
        "\n",
        "    # Calculate the area of the triangle formed by the three points\n",
        "    area = 0.5 * abs(x1 * (y2 - y3) + x2 * (y3 - y1) + x3 * (y1 - y2))\n",
        "\n",
        "    # If the area is non-zero, the points form a boomerang\n",
        "    return area != 0\n",
        "\n",
        "\n",
        "\n",
        "points = [[1,1],[2,3],[3,2]]\n",
        "print(isBoomerang(points))"
      ]
    },
    {
      "cell_type": "code",
      "source": [],
      "metadata": {
        "id": "0AF0hmhs867S"
      },
      "execution_count": null,
      "outputs": []
    }
  ]
}