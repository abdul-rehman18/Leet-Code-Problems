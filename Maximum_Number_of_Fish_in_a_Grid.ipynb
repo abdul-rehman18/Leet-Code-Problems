{
  "nbformat": 4,
  "nbformat_minor": 0,
  "metadata": {
    "colab": {
      "provenance": []
    },
    "kernelspec": {
      "name": "python3",
      "display_name": "Python 3"
    },
    "language_info": {
      "name": "python"
    }
  },
  "cells": [
    {
      "cell_type": "markdown",
      "source": [
        "# LeetCode Problem: Maximum Number of Fish in a Grid"
      ],
      "metadata": {
        "id": "0v-F3TCWJY8k"
      }
    },
    {
      "cell_type": "code",
      "execution_count": null,
      "metadata": {
        "id": "iFYd9pczJC5z"
      },
      "outputs": [],
      "source": [
        "def findMaxFish(grid):\n",
        "        directions = [[0,1], [0,-1], [1,0], [-1,0]]\n",
        "        m = len(grid)\n",
        "        n = len(grid[0])\n",
        "        maxFish = 0\n",
        "\n",
        "        def dfs(i, j, m, n):\n",
        "            fish = 0\n",
        "\n",
        "            if grid[i][j] == 0:\n",
        "                return fish\n",
        "\n",
        "            fish += grid[i][j]\n",
        "            grid[i][j] = -1  # Visited\n",
        "\n",
        "            for dir in directions:\n",
        "                nr = i + dir[0]\n",
        "                nc = j + dir[1]\n",
        "                if 0 <= nr < m and 0 <= nc < n:\n",
        "                    if grid[nr][nc] > 0:\n",
        "                        fish += dfs(nr, nc, m, n)\n",
        "\n",
        "            return fish\n",
        "\n",
        "grid = [[0,2,1,0],[4,0,0,3],[1,0,0,4],[0,3,2,0]]\n"
      ]
    }
  ]
}