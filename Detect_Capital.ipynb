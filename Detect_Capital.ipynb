{
  "nbformat": 4,
  "nbformat_minor": 0,
  "metadata": {
    "colab": {
      "provenance": []
    },
    "kernelspec": {
      "name": "python3",
      "display_name": "Python 3"
    },
    "language_info": {
      "name": "python"
    }
  },
  "cells": [
    {
      "cell_type": "markdown",
      "source": [
        "# LeetCode Problem: Detect Capital\n"
      ],
      "metadata": {
        "id": "duLrNgPGGUaK"
      }
    },
    {
      "cell_type": "code",
      "execution_count": 2,
      "metadata": {
        "colab": {
          "base_uri": "https://localhost:8080/"
        },
        "id": "SDJjAYyREvtP",
        "outputId": "6886f6a1-5465-482b-ecbb-104d3ba5f111"
      },
      "outputs": [
        {
          "output_type": "stream",
          "name": "stdout",
          "text": [
            "True\n"
          ]
        }
      ],
      "source": [
        "def detectCapitalUse(word):\n",
        "        c = sum(w.isupper() for w in word)\n",
        "\n",
        "        return c == len(word) or c == 0 or c == 1 and word[0].isupper()\n",
        "\n",
        "\n",
        "word = \"USA\"\n",
        "print(detectCapitalUse(word))"
      ]
    },
    {
      "cell_type": "code",
      "source": [],
      "metadata": {
        "id": "cHn1puKPGRb0"
      },
      "execution_count": null,
      "outputs": []
    }
  ]
}