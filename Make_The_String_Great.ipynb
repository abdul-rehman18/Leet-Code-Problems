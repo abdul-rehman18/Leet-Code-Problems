{
  "nbformat": 4,
  "nbformat_minor": 0,
  "metadata": {
    "colab": {
      "provenance": []
    },
    "kernelspec": {
      "name": "python3",
      "display_name": "Python 3"
    },
    "language_info": {
      "name": "python"
    }
  },
  "cells": [
    {
      "cell_type": "markdown",
      "source": [
        "# LeetCode Problem: Make The String Great"
      ],
      "metadata": {
        "id": "yIKGpGFm9gr4"
      }
    },
    {
      "cell_type": "code",
      "execution_count": 2,
      "metadata": {
        "colab": {
          "base_uri": "https://localhost:8080/"
        },
        "id": "EQDNyj0R47xp",
        "outputId": "d05dd7da-c428-48ff-a12c-386cd6e4701a"
      },
      "outputs": [
        {
          "output_type": "stream",
          "name": "stdout",
          "text": [
            "leetcode\n"
          ]
        }
      ],
      "source": [
        "def makeGood(s):\n",
        "        st = []\n",
        "        for c in s:\n",
        "            if st and abs(ord(c) - ord(st[-1])) == 32:\n",
        "                st.pop()\n",
        "            else:\n",
        "                st.append(c)\n",
        "        return ''.join(st)\n",
        "\n",
        "\n",
        "s = \"leEeetcode\"\n",
        "print(makeGood(s))"
      ]
    },
    {
      "cell_type": "code",
      "source": [],
      "metadata": {
        "id": "YQkrswXZ9cKN"
      },
      "execution_count": null,
      "outputs": []
    }
  ]
}