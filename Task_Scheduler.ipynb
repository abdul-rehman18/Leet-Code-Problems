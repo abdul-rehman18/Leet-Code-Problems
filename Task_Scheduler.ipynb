{
  "nbformat": 4,
  "nbformat_minor": 0,
  "metadata": {
    "colab": {
      "provenance": []
    },
    "kernelspec": {
      "name": "python3",
      "display_name": "Python 3"
    },
    "language_info": {
      "name": "python"
    }
  },
  "cells": [
    {
      "cell_type": "markdown",
      "source": [
        "# LeetCode Problem: Task Scheduler"
      ],
      "metadata": {
        "id": "5kA8hafZ3XFn"
      }
    },
    {
      "cell_type": "code",
      "execution_count": 1,
      "metadata": {
        "colab": {
          "base_uri": "https://localhost:8080/"
        },
        "id": "YWSp26562nBj",
        "outputId": "f66146cb-7460-46e0-c674-ecf9bdd21a85"
      },
      "outputs": [
        {
          "output_type": "stream",
          "name": "stdout",
          "text": [
            "8\n"
          ]
        }
      ],
      "source": [
        "def leastInterval(tasks, n):\n",
        "        freq = [0] * 26\n",
        "        for task in tasks:\n",
        "            freq[ord(task) - ord('A')] += 1\n",
        "        freq.sort()\n",
        "        chunk = freq[25] - 1\n",
        "        idle = chunk * n\n",
        "\n",
        "        for i in range(24, -1, -1):\n",
        "            idle -= min(chunk, freq[i])\n",
        "\n",
        "        return len(tasks) + idle if idle >= 0 else len(tasks)\n",
        "\n",
        "tasks = [\"A\",\"A\",\"A\",\"B\",\"B\",\"B\"]\n",
        "n = 2\n",
        "print(leastInterval(tasks, n))"
      ]
    },
    {
      "cell_type": "code",
      "source": [],
      "metadata": {
        "id": "NdT1mfhB3evN"
      },
      "execution_count": null,
      "outputs": []
    }
  ]
}