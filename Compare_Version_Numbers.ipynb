{
  "nbformat": 4,
  "nbformat_minor": 0,
  "metadata": {
    "colab": {
      "provenance": []
    },
    "kernelspec": {
      "name": "python3",
      "display_name": "Python 3"
    },
    "language_info": {
      "name": "python"
    }
  },
  "cells": [
    {
      "cell_type": "markdown",
      "source": [
        "# LeetCode Problem: Compare Version Numbers"
      ],
      "metadata": {
        "id": "UrkuRgmTTWkU"
      }
    },
    {
      "cell_type": "code",
      "execution_count": 1,
      "metadata": {
        "colab": {
          "base_uri": "https://localhost:8080/"
        },
        "id": "soxbQlYzTTwS",
        "outputId": "7de517db-deaa-4c49-cb70-019ffcfec29f"
      },
      "outputs": [
        {
          "output_type": "stream",
          "name": "stdout",
          "text": [
            "0\n"
          ]
        }
      ],
      "source": [
        "def compareVersion(version1, version2):\n",
        "        parts1, parts2 = version1.split(\".\"), version2.split(\".\")\n",
        "        i, j = len(parts1) - 1, len(parts2) - 1\n",
        "        while parts1 != [] and int(parts1[i]) == 0:\n",
        "            parts1.pop()\n",
        "            i -= 1\n",
        "        while parts2 != [] and int(parts2[j]) == 0:\n",
        "            parts2.pop()\n",
        "            j -= 1\n",
        "        for i in range(len(min(parts1, parts2))):\n",
        "            int1, int2 = int(parts1[i]), int(parts2[i])\n",
        "            if int1 > int2:\n",
        "                return 1\n",
        "            elif int1 < int2:\n",
        "                return -1\n",
        "        if len(parts1) > len(parts2):\n",
        "            return 1\n",
        "        elif len(parts2) > len(parts1):\n",
        "            return -1\n",
        "        return 0\n",
        "\n",
        "version1 = \"1.0\"\n",
        "version2 = \"1.0.0\"\n",
        "\n",
        "print(compareVersion(version1, version2))"
      ]
    },
    {
      "cell_type": "code",
      "source": [],
      "metadata": {
        "id": "PDqyrtR4Tsv0"
      },
      "execution_count": null,
      "outputs": []
    }
  ]
}