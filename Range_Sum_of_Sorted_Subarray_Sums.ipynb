{
  "nbformat": 4,
  "nbformat_minor": 0,
  "metadata": {
    "colab": {
      "provenance": []
    },
    "kernelspec": {
      "name": "python3",
      "display_name": "Python 3"
    },
    "language_info": {
      "name": "python"
    }
  },
  "cells": [
    {
      "cell_type": "markdown",
      "source": [
        "# LeetCode Problem: Range Sum of Sorted Subarray Sums"
      ],
      "metadata": {
        "id": "OIPHvMKrAiAH"
      }
    },
    {
      "cell_type": "code",
      "execution_count": 1,
      "metadata": {
        "colab": {
          "base_uri": "https://localhost:8080/"
        },
        "id": "YG1N1MPOAbbW",
        "outputId": "09893f9d-eee3-4c1a-f154-10b7a9c8bf55"
      },
      "outputs": [
        {
          "output_type": "stream",
          "name": "stdout",
          "text": [
            "13\n"
          ]
        }
      ],
      "source": [
        "def rangeSum(nums, n, left, right):\n",
        "        arr = []\n",
        "        for i in range(n):\n",
        "            s = 0\n",
        "            for j in range(i, n):\n",
        "                s += nums[j]\n",
        "                arr.append(s)\n",
        "        arr.sort()\n",
        "        mod = 10**9 + 7\n",
        "        return sum(arr[left - 1 : right]) % mod\n",
        "\n",
        "nums = [1,2,3,4]\n",
        "n = 4\n",
        "left = 1\n",
        "right = 5\n",
        "\n",
        "print(rangeSum(nums, n, left, right))"
      ]
    },
    {
      "cell_type": "code",
      "source": [],
      "metadata": {
        "id": "WQMdGpMfCCY4"
      },
      "execution_count": null,
      "outputs": []
    }
  ]
}