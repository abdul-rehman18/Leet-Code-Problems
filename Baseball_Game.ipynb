{
  "nbformat": 4,
  "nbformat_minor": 0,
  "metadata": {
    "colab": {
      "provenance": []
    },
    "kernelspec": {
      "name": "python3",
      "display_name": "Python 3"
    },
    "language_info": {
      "name": "python"
    }
  },
  "cells": [
    {
      "cell_type": "markdown",
      "source": [
        "# LeetCode Problem: Baseball Game"
      ],
      "metadata": {
        "id": "63pLhHoHDYbe"
      }
    },
    {
      "cell_type": "code",
      "execution_count": 1,
      "metadata": {
        "colab": {
          "base_uri": "https://localhost:8080/"
        },
        "id": "Lx-LPdnECRA9",
        "outputId": "d34d5358-053f-4a1d-ab40-539eff25f7a4"
      },
      "outputs": [
        {
          "output_type": "stream",
          "name": "stdout",
          "text": [
            "30\n"
          ]
        }
      ],
      "source": [
        "def calPoints(ops):\n",
        "        stack = []\n",
        "        s = 0\n",
        "        for op in ops:\n",
        "            if op == \"C\":\n",
        "                s -= stack.pop()\n",
        "            elif op == 'D':\n",
        "                stack.append(2*stack[-1])\n",
        "                s += stack[-1]\n",
        "            elif op == \"+\":\n",
        "                stack.append(stack[-1] + stack[-2])\n",
        "                s += stack[-1]\n",
        "            else:\n",
        "                stack.append(int(op))\n",
        "                s += stack[-1]\n",
        "        return s\n",
        "\n",
        "\n",
        "ops = [\"5\",\"2\",\"C\",\"D\",\"+\"]\n",
        "print(calPoints(ops))"
      ]
    },
    {
      "cell_type": "code",
      "source": [],
      "metadata": {
        "id": "V9TgAxUFDnXo"
      },
      "execution_count": null,
      "outputs": []
    }
  ]
}