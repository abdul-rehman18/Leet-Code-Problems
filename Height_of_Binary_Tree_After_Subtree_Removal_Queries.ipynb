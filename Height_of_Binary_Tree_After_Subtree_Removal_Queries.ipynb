{
  "nbformat": 4,
  "nbformat_minor": 0,
  "metadata": {
    "colab": {
      "provenance": []
    },
    "kernelspec": {
      "name": "python3",
      "display_name": "Python 3"
    },
    "language_info": {
      "name": "python"
    }
  },
  "cells": [
    {
      "cell_type": "markdown",
      "source": [
        "# LeetCode Problem: Height of Binary Tree After Subtree Removal Queries"
      ],
      "metadata": {
        "id": "AEEQg0RKqNpk"
      }
    },
    {
      "cell_type": "code",
      "execution_count": 2,
      "metadata": {
        "colab": {
          "base_uri": "https://localhost:8080/"
        },
        "id": "nKAuBhZyqDD6",
        "outputId": "9dc4b9b6-3579-4aaf-82d8-0207149bc2af"
      },
      "outputs": [
        {
          "output_type": "stream",
          "name": "stdout",
          "text": [
            "[2]\n"
          ]
        }
      ],
      "source": [
        "# Definition for a binary tree node.\n",
        "class TreeNode:\n",
        "    def __init__(self, val=0, left=None, right=None):\n",
        "        self.val = val\n",
        "        self.left = left\n",
        "        self.right = right\n",
        "\n",
        "class Solution:\n",
        "    def treeQueries(self, root, queries):\n",
        "        # Initialize arrays to store heights and node information\n",
        "        heights = [0] * 50000  # Heights of leaf nodes\n",
        "        d = [0] * 100001      # Depth of each node\n",
        "        l = [0] * 100001      # Left index for each node\n",
        "        r = [0] * 100001      # Right index for each node\n",
        "        len_leaves = 0        # Counter for leaf nodes\n",
        "\n",
        "        def search(p: TreeNode, h: int) -> None:\n",
        "            nonlocal len_leaves\n",
        "            d[p.val] = h  # Store current node's depth\n",
        "\n",
        "            # If leaf node found\n",
        "            if not p.left and not p.right:\n",
        "                heights[len_leaves] = h    # Store leaf height\n",
        "                l[p.val] = r[p.val] = len_leaves  # Both indices same for leaf\n",
        "                len_leaves += 1\n",
        "                return\n",
        "\n",
        "            l[p.val] = len_leaves  # Store left index for current node\n",
        "\n",
        "            # Recursively process left and right subtrees\n",
        "            if p.left:\n",
        "                search(p.left, h + 1)\n",
        "            if p.right:\n",
        "                search(p.right, h + 1)\n",
        "\n",
        "            r[p.val] = len_leaves - 1  # Store right index for current node\n",
        "\n",
        "        # Process the tree starting from root\n",
        "        search(root, 0)\n",
        "\n",
        "        n = len_leaves  # Total number of leaf nodes\n",
        "        maxl = [0] * n  # Max heights from left\n",
        "        maxr = [0] * n  # Max heights from right\n",
        "\n",
        "        # Build prefix and suffix maximum arrays\n",
        "        for i in range(1, n):\n",
        "            maxl[i] = max(maxl[i-1], heights[i-1])  # Max height from left\n",
        "            maxr[n-i-1] = max(maxr[n-i], heights[n-i])  # Max height from right\n",
        "\n",
        "        ret = []  # Result list\n",
        "\n",
        "        # Process each query\n",
        "        for query in queries:\n",
        "            # Find maximum height excluding current node's subtree\n",
        "            maxxl = maxl[l[query]]  # Max height to the left\n",
        "            maxxr = maxr[r[query]]  # Max height to the right\n",
        "            # Result is max of (max left height, max right height, current depth-1)\n",
        "            ret.append(max(max(maxxl, maxxr), d[query]-1))\n",
        "\n",
        "        return ret\n",
        "\n",
        "def build_tree(nodes):\n",
        "    \"\"\" Build a binary tree from a list of values (including None for missing nodes). \"\"\"\n",
        "    if not nodes:\n",
        "        return None\n",
        "\n",
        "    root = TreeNode(nodes[0])\n",
        "    queue = [root]\n",
        "    index = 1\n",
        "\n",
        "    while queue and index < len(nodes):\n",
        "        current_node = queue.pop(0)\n",
        "\n",
        "        if nodes[index] is not None:\n",
        "            current_node.left = TreeNode(nodes[index])\n",
        "            queue.append(current_node.left)\n",
        "\n",
        "        index += 1\n",
        "\n",
        "        if index < len(nodes) and nodes[index] is not None:\n",
        "            current_node.right = TreeNode(nodes[index])\n",
        "            queue.append(current_node.right)\n",
        "\n",
        "        index += 1\n",
        "\n",
        "    return root\n",
        "\n",
        "def main():\n",
        "    root_values = [1, 3, 4, 2, None, 6, 5, None, None, None, None, None, 7]\n",
        "    queries = [4]\n",
        "\n",
        "    root = build_tree(root_values)\n",
        "\n",
        "    solution = Solution()\n",
        "    results = solution.treeQueries(root, queries)\n",
        "\n",
        "    print(results)\n",
        "\n",
        "if __name__ == \"__main__\":\n",
        "    main()"
      ]
    },
    {
      "cell_type": "code",
      "source": [],
      "metadata": {
        "id": "J08GBz-Gq83q"
      },
      "execution_count": null,
      "outputs": []
    }
  ]
}