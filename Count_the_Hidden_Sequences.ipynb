{
  "nbformat": 4,
  "nbformat_minor": 0,
  "metadata": {
    "colab": {
      "provenance": []
    },
    "kernelspec": {
      "name": "python3",
      "display_name": "Python 3"
    },
    "language_info": {
      "name": "python"
    }
  },
  "cells": [
    {
      "cell_type": "markdown",
      "source": [
        "# LeetCode Problem: Count the Hidden Sequences"
      ],
      "metadata": {
        "id": "mQwHn_zkiHfm"
      }
    },
    {
      "cell_type": "code",
      "execution_count": null,
      "metadata": {
        "id": "lFX6UwnthX7V"
      },
      "outputs": [],
      "source": [
        "class Solution(object):\n",
        "    def numberOfArrays(self, differences, lower, upper):\n",
        "        sum, maxi, mini = 0, 0, 0\n",
        "        for x in differences:\n",
        "            sum += x\n",
        "            maxi = max(maxi, sum)\n",
        "            mini = min(mini, sum)\n",
        "        return max(0, upper - lower - maxi + mini + 1)"
      ]
    }
  ]
}