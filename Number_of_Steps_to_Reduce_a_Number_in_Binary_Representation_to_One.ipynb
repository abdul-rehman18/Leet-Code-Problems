{
  "nbformat": 4,
  "nbformat_minor": 0,
  "metadata": {
    "colab": {
      "provenance": []
    },
    "kernelspec": {
      "name": "python3",
      "display_name": "Python 3"
    },
    "language_info": {
      "name": "python"
    }
  },
  "cells": [
    {
      "cell_type": "markdown",
      "source": [
        "# LeetCode Problem: Number of Steps to Reduce a Number in Binary Representation to One"
      ],
      "metadata": {
        "id": "9iuAg8cPRgtb"
      }
    },
    {
      "cell_type": "code",
      "execution_count": 2,
      "metadata": {
        "colab": {
          "base_uri": "https://localhost:8080/"
        },
        "id": "RK3v-GgRRd5u",
        "outputId": "b9386f14-c987-415a-c04c-063efd3c6436"
      },
      "outputs": [
        {
          "output_type": "stream",
          "name": "stdout",
          "text": [
            "6\n"
          ]
        }
      ],
      "source": [
        "def numSteps(s):\n",
        "        value = int(s, 2)\n",
        "        # print(s)\n",
        "        i = 0\n",
        "        while value > 1:\n",
        "            if value % 2 == 0:\n",
        "                value //= 2\n",
        "            else:\n",
        "                value += 1\n",
        "            i += 1\n",
        "        return i\n",
        "\n",
        "s = \"1101\"\n",
        "print(numSteps(s))"
      ]
    },
    {
      "cell_type": "code",
      "source": [],
      "metadata": {
        "id": "Wc6PD-BrR7Dk"
      },
      "execution_count": null,
      "outputs": []
    }
  ]
}