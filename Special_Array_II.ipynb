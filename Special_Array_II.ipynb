{
  "nbformat": 4,
  "nbformat_minor": 0,
  "metadata": {
    "colab": {
      "provenance": []
    },
    "kernelspec": {
      "name": "python3",
      "display_name": "Python 3"
    },
    "language_info": {
      "name": "python"
    }
  },
  "cells": [
    {
      "cell_type": "markdown",
      "source": [
        "# LeetCode Problem: Special Array II"
      ],
      "metadata": {
        "id": "sKWC_Y7nZzLh"
      }
    },
    {
      "cell_type": "code",
      "execution_count": 1,
      "metadata": {
        "colab": {
          "base_uri": "https://localhost:8080/"
        },
        "id": "ydHrYDbKZVm1",
        "outputId": "9bceb78d-c543-4899-ac8c-d43f53c14908"
      },
      "outputs": [
        {
          "output_type": "stream",
          "name": "stdout",
          "text": [
            "[False]\n"
          ]
        }
      ],
      "source": [
        "def isArraySpecial(nums, queries):\n",
        "        n = len(nums)\n",
        "        prefix = [0] * n  # Prefix array to count special pairs\n",
        "\n",
        "        # Build the prefix array\n",
        "        for i in range(1, n):\n",
        "            prefix[i] = prefix[i - 1]\n",
        "            if (nums[i - 1] % 2 == 0 and nums[i] % 2 == 0) or (nums[i - 1] % 2 != 0 and nums[i] % 2 != 0):\n",
        "                prefix[i] += 1\n",
        "\n",
        "        result = []  # Result list\n",
        "\n",
        "        # Process each query\n",
        "        for left, right in queries:\n",
        "            special_count = prefix[right] - (prefix[left] if left > 0 else 0)\n",
        "            result.append(special_count == 0)\n",
        "\n",
        "        return result\n",
        "\n",
        "\n",
        "nums = [3,4,1,2,6]\n",
        "queries = [[0,4]]\n",
        "\n",
        "print(isArraySpecial(nums, queries))"
      ]
    },
    {
      "cell_type": "code",
      "source": [],
      "metadata": {
        "id": "EaEJNDuxaJ-2"
      },
      "execution_count": null,
      "outputs": []
    }
  ]
}