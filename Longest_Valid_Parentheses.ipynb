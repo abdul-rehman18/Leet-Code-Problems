{
  "nbformat": 4,
  "nbformat_minor": 0,
  "metadata": {
    "colab": {
      "provenance": []
    },
    "kernelspec": {
      "name": "python3",
      "display_name": "Python 3"
    },
    "language_info": {
      "name": "python"
    }
  },
  "cells": [
    {
      "cell_type": "markdown",
      "source": [
        "# LeetCode Problem: Longest Valid Parentheses"
      ],
      "metadata": {
        "id": "cD74us3JpU_l"
      }
    },
    {
      "cell_type": "code",
      "execution_count": 1,
      "metadata": {
        "colab": {
          "base_uri": "https://localhost:8080/"
        },
        "id": "NVMvZnkrnnGY",
        "outputId": "a54889a0-5c25-444f-a167-7d07b50bc925"
      },
      "outputs": [
        {
          "output_type": "stream",
          "name": "stdout",
          "text": [
            "2\n"
          ]
        }
      ],
      "source": [
        "def longestValidParentheses(s):\n",
        "        n = len(s)\n",
        "        a = [0]*n\n",
        "        st = []\n",
        "        for i in range(n):\n",
        "            if s[i] == \"(\":\n",
        "                st.append(i)\n",
        "            if s[i] == \")\" and st:\n",
        "                a[st.pop()] = 1\n",
        "                a[i] = 1\n",
        "        res = 0\n",
        "        t = 0\n",
        "        for i in a:\n",
        "            if i == 1:\n",
        "                t += 1\n",
        "                res = max(res,t)\n",
        "            else:\n",
        "                t = 0\n",
        "        return res\n",
        "\n",
        "s = \"(()\"\n",
        "print(longestValidParentheses(s))"
      ]
    },
    {
      "cell_type": "code",
      "source": [],
      "metadata": {
        "id": "zPb2xpMLpQ9B"
      },
      "execution_count": null,
      "outputs": []
    }
  ]
}