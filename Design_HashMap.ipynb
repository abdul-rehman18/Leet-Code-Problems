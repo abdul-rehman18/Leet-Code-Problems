{
  "nbformat": 4,
  "nbformat_minor": 0,
  "metadata": {
    "colab": {
      "provenance": []
    },
    "kernelspec": {
      "name": "python3",
      "display_name": "Python 3"
    },
    "language_info": {
      "name": "python"
    }
  },
  "cells": [
    {
      "cell_type": "markdown",
      "source": [
        "# LeetCode Problem:  Design HashMap"
      ],
      "metadata": {
        "id": "YPPW7yiahujv"
      }
    },
    {
      "cell_type": "code",
      "execution_count": 1,
      "metadata": {
        "colab": {
          "base_uri": "https://localhost:8080/"
        },
        "id": "QyctFULBfzdG",
        "outputId": "45caf8db-0270-4e59-922f-547464f91246"
      },
      "outputs": [
        {
          "output_type": "stream",
          "name": "stdout",
          "text": [
            "10\n",
            "20\n",
            "-1\n",
            "-1\n"
          ]
        }
      ],
      "source": [
        "class ListNode:\n",
        "    def __init__(self, key, value):\n",
        "        self.key = key\n",
        "        self.value = value\n",
        "        self.next = None\n",
        "\n",
        "class MyHashMap:\n",
        "\n",
        "    def __init__(self):\n",
        "        self.size = 1000\n",
        "        self.table = [None] * self.size\n",
        "\n",
        "    def _index(self, key: int) -> int:\n",
        "        return key % self.size\n",
        "\n",
        "    def put(self, key: int, value: int) -> None:\n",
        "        idx = self._index(key)\n",
        "        if not self.table[idx]:\n",
        "            self.table[idx] = ListNode(key, value)\n",
        "            return\n",
        "        current = self.table[idx]\n",
        "        while current:\n",
        "            if current.key == key:\n",
        "                current.value = value\n",
        "                return\n",
        "            if not current.next:\n",
        "                current.next = ListNode(key, value)\n",
        "                return\n",
        "            current = current.next\n",
        "\n",
        "    def get(self, key: int) -> int:\n",
        "        idx = self._index(key)\n",
        "        current = self.table[idx]\n",
        "        while current:\n",
        "            if current.key == key:\n",
        "                return current.value\n",
        "            current = current.next\n",
        "        return -1\n",
        "\n",
        "    def remove(self, key: int) -> None:\n",
        "        idx = self._index(key)\n",
        "        current = self.table[idx]\n",
        "        if not current:\n",
        "            return\n",
        "        if current.key == key:\n",
        "            self.table[idx] = current.next\n",
        "            return\n",
        "        while current.next:\n",
        "            if current.next.key == key:\n",
        "                current.next = current.next.next\n",
        "                return\n",
        "            current = current.next\n",
        "\n",
        "# Example usage:\n",
        "\n",
        "# Create an instance of MyHashMap\n",
        "myHashMap = MyHashMap()\n",
        "\n",
        "# Insert key-value pairs\n",
        "myHashMap.put(1, 10)\n",
        "myHashMap.put(2, 20)\n",
        "myHashMap.put(3, 30)\n",
        "\n",
        "# Retrieve values\n",
        "print(myHashMap.get(1))  # Output: 10\n",
        "print(myHashMap.get(2))  # Output: 20\n",
        "print(myHashMap.get(4))  # Output: -1 (key not found)\n",
        "\n",
        "# Remove a key\n",
        "myHashMap.remove(2)\n",
        "\n",
        "# Verify removal\n",
        "print(myHashMap.get(2))  # Output: -1 (key not found)\n"
      ]
    },
    {
      "cell_type": "code",
      "source": [],
      "metadata": {
        "id": "FcfKe7rMhpQQ"
      },
      "execution_count": null,
      "outputs": []
    }
  ]
}