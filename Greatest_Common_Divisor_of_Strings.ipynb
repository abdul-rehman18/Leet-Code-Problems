{
  "nbformat": 4,
  "nbformat_minor": 0,
  "metadata": {
    "colab": {
      "provenance": []
    },
    "kernelspec": {
      "name": "python3",
      "display_name": "Python 3"
    },
    "language_info": {
      "name": "python"
    }
  },
  "cells": [
    {
      "cell_type": "markdown",
      "source": [
        "# LeetCode Problem: Greatest Common Divisor of Strings"
      ],
      "metadata": {
        "id": "kfZg1XqcVKNA"
      }
    },
    {
      "cell_type": "code",
      "execution_count": 2,
      "metadata": {
        "colab": {
          "base_uri": "https://localhost:8080/"
        },
        "id": "QWo-ihGIUc-u",
        "outputId": "06a8ff41-8506-49f2-9be4-170ddf2c49fb"
      },
      "outputs": [
        {
          "output_type": "stream",
          "name": "stdout",
          "text": [
            "ABC\n"
          ]
        }
      ],
      "source": [
        "from math import gcd\n",
        "def gcdOfStrings(str1, str2):\n",
        "        if str1 + str2 != str2 + str1:\n",
        "            return \"\"\n",
        "        return str1[:gcd(len(str1), len(str2))]\n",
        "\n",
        "str1 = \"ABCABC\"\n",
        "str2 = \"ABC\"\n",
        "print(gcdOfStrings(str1, str2))"
      ]
    },
    {
      "cell_type": "code",
      "source": [],
      "metadata": {
        "id": "foweL7oYWLoV"
      },
      "execution_count": null,
      "outputs": []
    }
  ]
}