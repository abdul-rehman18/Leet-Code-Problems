{
  "nbformat": 4,
  "nbformat_minor": 0,
  "metadata": {
    "colab": {
      "provenance": []
    },
    "kernelspec": {
      "name": "python3",
      "display_name": "Python 3"
    },
    "language_info": {
      "name": "python"
    }
  },
  "cells": [
    {
      "cell_type": "markdown",
      "source": [
        "# LeetCode Problem: Finding 3-Digit Even Numbers"
      ],
      "metadata": {
        "id": "8OsMmqs34uj7"
      }
    },
    {
      "cell_type": "code",
      "execution_count": null,
      "metadata": {
        "id": "Szl2YLau4qg8"
      },
      "outputs": [],
      "source": [
        "class Solution:\n",
        "    def findEvenNumbers(self, digits):\n",
        "        from collections import Counter\n",
        "        freq = Counter(digits)\n",
        "        res = []\n",
        "        for num in range(100, 1000, 2):\n",
        "            parts = [num // 100, (num // 10) % 10, num % 10]\n",
        "            count = Counter(parts)\n",
        "            if all(freq[d] >= count[d] for d in count):\n",
        "                res.append(num)\n",
        "        return res"
      ]
    }
  ]
}