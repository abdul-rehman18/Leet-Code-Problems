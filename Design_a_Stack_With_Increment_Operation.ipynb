{
  "nbformat": 4,
  "nbformat_minor": 0,
  "metadata": {
    "colab": {
      "provenance": []
    },
    "kernelspec": {
      "name": "python3",
      "display_name": "Python 3"
    },
    "language_info": {
      "name": "python"
    }
  },
  "cells": [
    {
      "cell_type": "markdown",
      "source": [
        "# LeetCode Problem: Design a Stack With Increment Operation"
      ],
      "metadata": {
        "id": "Y5nBsaoC04VE"
      }
    },
    {
      "cell_type": "code",
      "execution_count": 2,
      "metadata": {
        "colab": {
          "base_uri": "https://localhost:8080/"
        },
        "id": "lKr_wr5Z0zc3",
        "outputId": "d2150d76-2fa1-433c-ff08-11402700ae51"
      },
      "outputs": [
        {
          "output_type": "stream",
          "name": "stdout",
          "text": [
            "2\n"
          ]
        }
      ],
      "source": [
        "class CustomStack:\n",
        "    def __init__(self, maxSize: int):\n",
        "        self.st = [0] * maxSize\n",
        "        self.t = -1\n",
        "\n",
        "    def push(self, x: int) -> None:\n",
        "        if self.t < len(self.st) - 1:\n",
        "            self.t += 1\n",
        "            self.st[self.t] = x\n",
        "\n",
        "    def pop(self) -> int:\n",
        "        if self.t != -1:\n",
        "            value = self.st[self.t]\n",
        "            self.t -= 1\n",
        "            return value\n",
        "        return -1\n",
        "\n",
        "    def increment(self, k: int, val: int) -> None:\n",
        "        for i in range(min(k, self.t + 1)):\n",
        "            self.st[i] += val\n",
        "\n",
        "\n",
        "\n",
        "solution = CustomStack(3)\n",
        "solution.push(1)\n",
        "solution.push(2)\n",
        "print(solution.pop())\n"
      ]
    },
    {
      "cell_type": "code",
      "source": [],
      "metadata": {
        "id": "6OPkPNpO1yeI"
      },
      "execution_count": null,
      "outputs": []
    }
  ]
}