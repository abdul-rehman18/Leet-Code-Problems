{
  "nbformat": 4,
  "nbformat_minor": 0,
  "metadata": {
    "colab": {
      "provenance": []
    },
    "kernelspec": {
      "name": "python3",
      "display_name": "Python 3"
    },
    "language_info": {
      "name": "python"
    }
  },
  "cells": [
    {
      "cell_type": "markdown",
      "source": [
        "# LeetCode Problem: Excel Sheet Column Number"
      ],
      "metadata": {
        "id": "tV43dcV95M0V"
      }
    },
    {
      "cell_type": "code",
      "execution_count": 1,
      "metadata": {
        "colab": {
          "base_uri": "https://localhost:8080/"
        },
        "id": "FDMHabKO5ID7",
        "outputId": "7fd228cb-2d8a-4055-dc4e-5187787a2803"
      },
      "outputs": [
        {
          "output_type": "execute_result",
          "data": {
            "text/plain": [
              "1"
            ]
          },
          "metadata": {},
          "execution_count": 1
        }
      ],
      "source": [
        "def titleToNumber(columnTitle):\n",
        "  ans,pos=0,0\n",
        "  for letter in reversed(columnTitle):\n",
        "      digit = ord(letter)-64\n",
        "      ans+=digit*26**pos\n",
        "      pos+=1\n",
        "  return ans\n",
        "\n",
        "titleToNumber('A')"
      ]
    },
    {
      "cell_type": "code",
      "source": [],
      "metadata": {
        "id": "xFFp6pzc7VCl"
      },
      "execution_count": null,
      "outputs": []
    }
  ]
}