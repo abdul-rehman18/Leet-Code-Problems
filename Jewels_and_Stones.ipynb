{
  "nbformat": 4,
  "nbformat_minor": 0,
  "metadata": {
    "colab": {
      "provenance": []
    },
    "kernelspec": {
      "name": "python3",
      "display_name": "Python 3"
    },
    "language_info": {
      "name": "python"
    }
  },
  "cells": [
    {
      "cell_type": "markdown",
      "source": [
        "# LeetCode Problem: Jewels and Stones"
      ],
      "metadata": {
        "id": "LohoczCaUF1Z"
      }
    },
    {
      "cell_type": "code",
      "execution_count": 1,
      "metadata": {
        "colab": {
          "base_uri": "https://localhost:8080/"
        },
        "id": "s2ShoSfRT0IH",
        "outputId": "7cb1bfb3-c241-4fae-f2f4-c9627f7b4657"
      },
      "outputs": [
        {
          "output_type": "stream",
          "name": "stdout",
          "text": [
            "3\n"
          ]
        }
      ],
      "source": [
        "def numJewelsInStones(jewels,stones):\n",
        "        return sum(i in jewels for i in stones)\n",
        "\n",
        "jewels = \"aA\"\n",
        "stones = \"aAAbbbb\"\n",
        "\n",
        "print(numJewelsInStones(jewels,stones))"
      ]
    },
    {
      "cell_type": "code",
      "source": [],
      "metadata": {
        "id": "23mFNlceUTpt"
      },
      "execution_count": null,
      "outputs": []
    }
  ]
}