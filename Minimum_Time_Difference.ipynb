{
  "nbformat": 4,
  "nbformat_minor": 0,
  "metadata": {
    "colab": {
      "provenance": []
    },
    "kernelspec": {
      "name": "python3",
      "display_name": "Python 3"
    },
    "language_info": {
      "name": "python"
    }
  },
  "cells": [
    {
      "cell_type": "markdown",
      "source": [
        "# LeetCode Problem: Minimum Time Difference"
      ],
      "metadata": {
        "id": "99gSC-jcASFT"
      }
    },
    {
      "cell_type": "code",
      "execution_count": 1,
      "metadata": {
        "colab": {
          "base_uri": "https://localhost:8080/"
        },
        "id": "qNrcAfVF4fz9",
        "outputId": "32029c4e-de15-4e9d-a91a-1d4b29b71f1f"
      },
      "outputs": [
        {
          "output_type": "stream",
          "name": "stdout",
          "text": [
            "1\n"
          ]
        }
      ],
      "source": [
        "def findMinDifference(timePoints):\n",
        "        # Convert time from \"HH:MM\" to minutes since 00:00\n",
        "        def timeToMinutes(time):\n",
        "            hours, minutes = map(int, time.split(':'))\n",
        "            return hours * 60 + minutes\n",
        "\n",
        "        # Step 1: Convert all times to minutes\n",
        "        minutes = [timeToMinutes(tp) for tp in timePoints]\n",
        "\n",
        "        # Step 2: Sort the minutes\n",
        "        minutes.sort()\n",
        "\n",
        "        # Step 3: Calculate the minimum difference between consecutive times\n",
        "        min_diff = float('inf')  # Initialize to a large number\n",
        "\n",
        "        for i in range(1, len(minutes)):\n",
        "            min_diff = min(min_diff, minutes[i] - minutes[i - 1])\n",
        "\n",
        "        # Step 4: Check the circular difference between the last and first time points\n",
        "        circular_diff = 1440 - minutes[-1] + minutes[0]\n",
        "        min_diff = min(min_diff, circular_diff)\n",
        "\n",
        "        return min_diff\n",
        "\n",
        "timePoints = [\"23:59\",\"00:00\"]\n",
        "\n",
        "\n",
        "print(findMinDifference(timePoints))"
      ]
    },
    {
      "cell_type": "code",
      "source": [],
      "metadata": {
        "id": "OjtkDv40AjPe"
      },
      "execution_count": null,
      "outputs": []
    }
  ]
}