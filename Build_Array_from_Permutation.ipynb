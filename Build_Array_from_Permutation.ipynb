{
  "nbformat": 4,
  "nbformat_minor": 0,
  "metadata": {
    "colab": {
      "provenance": []
    },
    "kernelspec": {
      "name": "python3",
      "display_name": "Python 3"
    },
    "language_info": {
      "name": "python"
    }
  },
  "cells": [
    {
      "cell_type": "markdown",
      "source": [
        "# LeetCode Problem: Build Array from Permutation"
      ],
      "metadata": {
        "id": "G7dNiKlI54QN"
      }
    },
    {
      "cell_type": "code",
      "execution_count": null,
      "metadata": {
        "id": "1Y_vQIDu5xxS"
      },
      "outputs": [],
      "source": [
        "class Solution:\n",
        "    def buildArray(self, nums: List[int]) -> List[int]:\n",
        "        return [nums[x] for x in nums]\n",
        ""
      ]
    }
  ]
}