{
  "nbformat": 4,
  "nbformat_minor": 0,
  "metadata": {
    "colab": {
      "provenance": []
    },
    "kernelspec": {
      "name": "python3",
      "display_name": "Python 3"
    },
    "language_info": {
      "name": "python"
    }
  },
  "cells": [
    {
      "cell_type": "markdown",
      "source": [
        "# LeetCode Problem: Regions Cut By Slashes"
      ],
      "metadata": {
        "id": "0-UMTP2-MgsM"
      }
    },
    {
      "cell_type": "code",
      "execution_count": 1,
      "metadata": {
        "colab": {
          "base_uri": "https://localhost:8080/"
        },
        "id": "xQBAmb5TMLNw",
        "outputId": "fae75d66-7fc8-463f-8f01-7f4288fe4c5b"
      },
      "outputs": [
        {
          "output_type": "stream",
          "name": "stdout",
          "text": [
            "Number of regions: 2\n"
          ]
        }
      ],
      "source": [
        "class Solution:\n",
        "    def regionsBySlashes(self, grid):\n",
        "        n = len(grid)\n",
        "        parent = {}\n",
        "\n",
        "        # Initialize the union-find parent for each triangle\n",
        "        def find(x):\n",
        "            if parent[x] != x:\n",
        "                parent[x] = find(parent[x])\n",
        "            return parent[x]\n",
        "\n",
        "        def union(x, y):\n",
        "            rootX = find(x)\n",
        "            rootY = find(y)\n",
        "            if rootX != rootY:\n",
        "                parent[rootX] = rootY\n",
        "\n",
        "        # Each cell is represented by 4 triangles: 0 (top-left), 1 (top-right), 2 (bottom-right), 3 (bottom-left)\n",
        "        def get_index(i, j, k):\n",
        "            return (i * n + j) * 4 + k\n",
        "\n",
        "        # Initialize all triangles\n",
        "        for i in range(n):\n",
        "            for j in range(n):\n",
        "                for k in range(4):\n",
        "                    parent[get_index(i, j, k)] = get_index(i, j, k)\n",
        "\n",
        "        for i in range(n):\n",
        "            for j in range(n):\n",
        "                if grid[i][j] == '/':\n",
        "                    union(get_index(i, j, 0), get_index(i, j, 3))\n",
        "                    union(get_index(i, j, 1), get_index(i, j, 2))\n",
        "                elif grid[i][j] == '\\\\':\n",
        "                    union(get_index(i, j, 0), get_index(i, j, 1))\n",
        "                    union(get_index(i, j, 2), get_index(i, j, 3))\n",
        "                else:\n",
        "                    union(get_index(i, j, 0), get_index(i, j, 1))\n",
        "                    union(get_index(i, j, 1), get_index(i, j, 2))\n",
        "                    union(get_index(i, j, 2), get_index(i, j, 3))\n",
        "\n",
        "                # Union with right and bottom cells if possible\n",
        "                if j + 1 < n:\n",
        "                    union(get_index(i, j, 1), get_index(i, j + 1, 3))\n",
        "                if i + 1 < n:\n",
        "                    union(get_index(i, j, 2), get_index(i + 1, j, 0))\n",
        "\n",
        "        # Count the number of distinct roots\n",
        "        return sum(find(x) == x for x in parent)\n",
        "\n",
        "def main():\n",
        "    # Example grid input\n",
        "    grid = [\n",
        "        \" /\",\n",
        "        \"/ \"\n",
        "    ]\n",
        "\n",
        "    # Instantiate the Solution class\n",
        "    solution = Solution()\n",
        "\n",
        "    # Get the number of regions\n",
        "    result = solution.regionsBySlashes(grid)\n",
        "\n",
        "    # Print the result\n",
        "    print(\"Number of regions:\", result)\n",
        "\n",
        "if __name__ == \"__main__\":\n",
        "    main()\n"
      ]
    },
    {
      "cell_type": "code",
      "source": [],
      "metadata": {
        "id": "TKRx-ik_NSaX"
      },
      "execution_count": null,
      "outputs": []
    }
  ]
}