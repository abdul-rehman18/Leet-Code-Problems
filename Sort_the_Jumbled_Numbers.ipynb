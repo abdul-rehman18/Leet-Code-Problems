{
  "nbformat": 4,
  "nbformat_minor": 0,
  "metadata": {
    "colab": {
      "provenance": []
    },
    "kernelspec": {
      "name": "python3",
      "display_name": "Python 3"
    },
    "language_info": {
      "name": "python"
    }
  },
  "cells": [
    {
      "cell_type": "markdown",
      "source": [
        "# LeetCode Problem: Sort the Jumbled Numbers"
      ],
      "metadata": {
        "id": "2_z6-4MoDEbI"
      }
    },
    {
      "cell_type": "code",
      "execution_count": 1,
      "metadata": {
        "colab": {
          "base_uri": "https://localhost:8080/"
        },
        "id": "6DCUjZOXC_KI",
        "outputId": "06f4e99f-e467-4130-c4bc-5f8943cbdf12"
      },
      "outputs": [
        {
          "output_type": "stream",
          "name": "stdout",
          "text": [
            "[338, 38, 991]\n"
          ]
        }
      ],
      "source": [
        "def sortJumbled(mapping, nums):\n",
        "        # List to hold tuples of the mapped value and its original index\n",
        "        mapped_with_index = []\n",
        "\n",
        "        # Iterate over the input numbers' list\n",
        "        for index, num in enumerate(nums):\n",
        "            # If the number is 0, get the mapped value for 0, else start with 0\n",
        "            mapped_num = mapping[0] if num == 0 else 0\n",
        "            power_of_ten = 1  # To keep track of the decimal place\n",
        "\n",
        "            # Decompose the number into digits and map using the provided mapping\n",
        "            while num:\n",
        "                num, digit = divmod(num, 10)\n",
        "                # Map the digit, adjust decimal place and add to the mapped number\n",
        "                mapped_num = mapping[digit] * power_of_ten + mapped_num\n",
        "                power_of_ten *= 10  # Increase the decimal place\n",
        "\n",
        "            # Append the tuple of mapped number and original index to the list\n",
        "            mapped_with_index.append((mapped_num, index))\n",
        "\n",
        "        # Sort the list according to the mapped numbers, stable for identical values\n",
        "        mapped_with_index.sort()\n",
        "\n",
        "        # Reconstruct the sorted list using the original indices\n",
        "        return [nums[i] for _, i in mapped_with_index]\n",
        "\n",
        "mapping = [8,9,4,0,2,1,3,5,7,6]\n",
        "nums = [991,338,38]\n",
        "\n",
        "print(sortJumbled(mapping, nums))"
      ]
    },
    {
      "cell_type": "code",
      "source": [],
      "metadata": {
        "id": "JAwrs2YQDju6"
      },
      "execution_count": null,
      "outputs": []
    }
  ]
}