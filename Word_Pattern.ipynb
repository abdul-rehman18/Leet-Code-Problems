{
  "nbformat": 4,
  "nbformat_minor": 0,
  "metadata": {
    "colab": {
      "provenance": []
    },
    "kernelspec": {
      "name": "python3",
      "display_name": "Python 3"
    },
    "language_info": {
      "name": "python"
    }
  },
  "cells": [
    {
      "cell_type": "markdown",
      "source": [
        "# LeetCode Problem: Word Pattern"
      ],
      "metadata": {
        "id": "NIVA5Te7_l-C"
      }
    },
    {
      "cell_type": "code",
      "execution_count": 1,
      "metadata": {
        "colab": {
          "base_uri": "https://localhost:8080/"
        },
        "id": "RPOs4W4M-Dsa",
        "outputId": "2e99f115-d70f-439f-fa0e-9f78e56537e7"
      },
      "outputs": [
        {
          "output_type": "stream",
          "name": "stdout",
          "text": [
            "True\n"
          ]
        }
      ],
      "source": [
        "import itertools\n",
        "def wordPattern(pattern, s):\n",
        "  s = s.split()\n",
        "  return (len(set(pattern)) == len(set(s)) == len(set(itertools.zip_longest(pattern,s))))\n",
        "\n",
        "\n",
        "pattern = \"abba\"\n",
        "s = \"dog cat cat dog\"\n",
        "\n",
        "print(wordPattern(pattern,s))"
      ]
    },
    {
      "cell_type": "code",
      "source": [],
      "metadata": {
        "id": "9HQxIQCCAYER"
      },
      "execution_count": null,
      "outputs": []
    }
  ]
}