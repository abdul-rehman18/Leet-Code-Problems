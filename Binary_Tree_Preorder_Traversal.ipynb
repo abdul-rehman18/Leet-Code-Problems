{
  "nbformat": 4,
  "nbformat_minor": 0,
  "metadata": {
    "colab": {
      "provenance": []
    },
    "kernelspec": {
      "name": "python3",
      "display_name": "Python 3"
    },
    "language_info": {
      "name": "python"
    }
  },
  "cells": [
    {
      "cell_type": "code",
      "execution_count": 3,
      "metadata": {
        "colab": {
          "base_uri": "https://localhost:8080/"
        },
        "id": "-GY-G81MFMZX",
        "outputId": "d70edba7-8d3b-4b7e-8d01-d41200dd0993"
      },
      "outputs": [
        {
          "output_type": "stream",
          "name": "stdout",
          "text": [
            "[1, 2, 3]\n"
          ]
        }
      ],
      "source": [
        "class TreeNode:\n",
        "    def __init__(self, val=0, left=None, right=None):\n",
        "        self.val = val\n",
        "        self.left = left\n",
        "        self.right = right\n",
        "class Solution:\n",
        "    def preorderTraversal(self, root):\n",
        "        n=[]\n",
        "        def trav(root):\n",
        "            if not root:\n",
        "                return\n",
        "            n.append(root.val)\n",
        "            trav(root.left)\n",
        "            trav(root.right)\n",
        "        trav(root)\n",
        "        return n\n",
        "\n",
        "def main():\n",
        "    root = TreeNode(1)\n",
        "    root.left = TreeNode(2)\n",
        "    root.right = TreeNode(3)\n",
        "\n",
        "    # Create a Solution object\n",
        "    solution = Solution()\n",
        "\n",
        "    # Test the preorderTraversal function\n",
        "    result = solution.preorderTraversal(root)\n",
        "    print(result)\n",
        "\n",
        "if __name__ == \"__main__\":\n",
        "    main()\n",
        ""
      ]
    },
    {
      "cell_type": "code",
      "source": [],
      "metadata": {
        "id": "BGcYonbCF_wV"
      },
      "execution_count": null,
      "outputs": []
    }
  ]
}