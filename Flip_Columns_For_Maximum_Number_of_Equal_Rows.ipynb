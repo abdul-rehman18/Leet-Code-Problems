{
  "nbformat": 4,
  "nbformat_minor": 0,
  "metadata": {
    "colab": {
      "provenance": []
    },
    "kernelspec": {
      "name": "python3",
      "display_name": "Python 3"
    },
    "language_info": {
      "name": "python"
    }
  },
  "cells": [
    {
      "cell_type": "markdown",
      "source": [
        "# LeetCode Problem: Flip Columns For Maximum Number of Equal Rows"
      ],
      "metadata": {
        "id": "Vi-elRRbO8X8"
      }
    },
    {
      "cell_type": "code",
      "execution_count": 3,
      "metadata": {
        "colab": {
          "base_uri": "https://localhost:8080/"
        },
        "id": "vZrSrv7oO0bO",
        "outputId": "df2bfc69-3341-4aa5-c305-1dd06c4715bf"
      },
      "outputs": [
        {
          "output_type": "stream",
          "name": "stdout",
          "text": [
            "1\n"
          ]
        }
      ],
      "source": [
        "from collections import Counter\n",
        "def maxEqualRowsAfterFlips(mat):\n",
        "        pat_freq = Counter()\n",
        "\n",
        "        for r in mat:\n",
        "            pattern = tuple(r) if r[0] == 0 else tuple(bit ^ 1 for bit in r)\n",
        "            pat_freq[pattern] += 1\n",
        "\n",
        "        return max(pat_freq.values())\n",
        "\n",
        "matrix = [[0,1],[1,1]]\n",
        "\n",
        "\n",
        "print(maxEqualRowsAfterFlips(matrix))"
      ]
    },
    {
      "cell_type": "code",
      "source": [],
      "metadata": {
        "id": "92Qu0rWnPPnB"
      },
      "execution_count": null,
      "outputs": []
    }
  ]
}