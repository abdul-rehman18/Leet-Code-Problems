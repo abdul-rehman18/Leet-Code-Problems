{
  "nbformat": 4,
  "nbformat_minor": 0,
  "metadata": {
    "colab": {
      "provenance": []
    },
    "kernelspec": {
      "name": "python3",
      "display_name": "Python 3"
    },
    "language_info": {
      "name": "python"
    }
  },
  "cells": [
    {
      "cell_type": "markdown",
      "source": [
        "# LeetCode Problem: Minimum Absolute Difference in BST"
      ],
      "metadata": {
        "id": "_SiPngTTd7m9"
      }
    },
    {
      "cell_type": "code",
      "execution_count": 2,
      "metadata": {
        "colab": {
          "base_uri": "https://localhost:8080/"
        },
        "id": "qtjFsYoZZZjl",
        "outputId": "5e3a77ee-d2a8-447b-9074-79f38f6b1033"
      },
      "outputs": [
        {
          "output_type": "stream",
          "name": "stdout",
          "text": [
            "The minimum difference is: 1\n"
          ]
        }
      ],
      "source": [
        "class TreeNode:\n",
        "    def __init__(self, val=0, left=None, right=None):\n",
        "        self.val = val\n",
        "        self.left = left\n",
        "        self.right = right\n",
        "class Solution:\n",
        "    def getMinimumDifference(self,root):\n",
        "        prev = float('-inf')\n",
        "        min_diff = float('inf')\n",
        "\n",
        "        def inorderTraversal(root):\n",
        "            nonlocal prev, min_diff\n",
        "            if not root:\n",
        "                return\n",
        "            if root.left:\n",
        "                inorderTraversal(root.left)\n",
        "            if (root.val - prev) < min_diff:\n",
        "                min_diff = root.val - prev\n",
        "            prev = root.val\n",
        "            if root.right:\n",
        "                inorderTraversal(root.right)\n",
        "        inorderTraversal(root)\n",
        "\n",
        "        return min_diff\n",
        "\n",
        "\n",
        "# Create a sample binary tree\n",
        "#        4\n",
        "#       / \\\n",
        "#      2   6\n",
        "#     / \\\n",
        "#    1   3\n",
        "root = TreeNode(4)\n",
        "root.left = TreeNode(2)\n",
        "root.right = TreeNode(6)\n",
        "root.left.left = TreeNode(1)\n",
        "root.left.right = TreeNode(3)\n",
        "\n",
        "# Test your Solution class\n",
        "solution = Solution()\n",
        "result = solution.getMinimumDifference(root)\n",
        "\n",
        "print(f\"The minimum difference is: {result}\")"
      ]
    },
    {
      "cell_type": "code",
      "source": [],
      "metadata": {
        "id": "eXUCmB2CeHEu"
      },
      "execution_count": null,
      "outputs": []
    }
  ]
}