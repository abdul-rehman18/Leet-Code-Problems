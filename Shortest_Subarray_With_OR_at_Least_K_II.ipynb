{
  "nbformat": 4,
  "nbformat_minor": 0,
  "metadata": {
    "colab": {
      "provenance": []
    },
    "kernelspec": {
      "name": "python3",
      "display_name": "Python 3"
    },
    "language_info": {
      "name": "python"
    }
  },
  "cells": [
    {
      "cell_type": "markdown",
      "source": [
        "# LeetCode Problem: Shortest Subarray With OR at Least K II"
      ],
      "metadata": {
        "id": "Wul3qz_DxoKD"
      }
    },
    {
      "cell_type": "code",
      "execution_count": 1,
      "metadata": {
        "colab": {
          "base_uri": "https://localhost:8080/"
        },
        "id": "MOO_FwxwxBBG",
        "outputId": "d349cce1-1d35-4b7d-d1fc-603bcaff714e"
      },
      "outputs": [
        {
          "output_type": "stream",
          "name": "stdout",
          "text": [
            "1\n"
          ]
        }
      ],
      "source": [
        "def minimumSubarrayLength(nums, k):\n",
        "        if k == 0:\n",
        "            return 1\n",
        "\n",
        "        ans = len(nums) + 1\n",
        "        bits = [0] * 32\n",
        "        left = 0\n",
        "        n = len(nums)\n",
        "\n",
        "        for right in range(n):\n",
        "            temp = 0\n",
        "            for i in range(32):\n",
        "                if nums[right] & (1 << i):\n",
        "                    bits[i] += 1\n",
        "                if bits[i] > 0:\n",
        "                    temp |= (1 << i)\n",
        "\n",
        "            if temp >= k:\n",
        "                ans = min(ans, right - left + 1)\n",
        "\n",
        "            while temp >= k:  # Constraints not satisfying, so move the left pointer\n",
        "                temp = 0\n",
        "                for i in range(32):\n",
        "                    if nums[left] & (1 << i):\n",
        "                        bits[i] -= 1\n",
        "                    if bits[i] > 0:\n",
        "                        temp |= (1 << i)\n",
        "\n",
        "                left += 1\n",
        "                if temp >= k:\n",
        "                    ans = min(ans, right - left + 1)\n",
        "\n",
        "        return -1 if ans == (len(nums) + 1) else ans\n",
        "\n",
        "nums = [1,2,3]\n",
        "k = 2\n",
        "\n",
        "\n",
        "print(minimumSubarrayLength(nums, k))"
      ]
    },
    {
      "cell_type": "code",
      "source": [],
      "metadata": {
        "id": "29OyxVNpyCg2"
      },
      "execution_count": null,
      "outputs": []
    }
  ]
}