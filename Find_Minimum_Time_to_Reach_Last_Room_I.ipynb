{
  "nbformat": 4,
  "nbformat_minor": 0,
  "metadata": {
    "colab": {
      "provenance": []
    },
    "kernelspec": {
      "name": "python3",
      "display_name": "Python 3"
    },
    "language_info": {
      "name": "python"
    }
  },
  "cells": [
    {
      "cell_type": "markdown",
      "source": [
        "# LeetCode Problem: Find Minimum Time to Reach Last Room I"
      ],
      "metadata": {
        "id": "vKQOYGrCN6wM"
      }
    },
    {
      "cell_type": "code",
      "execution_count": null,
      "metadata": {
        "id": "ElPKyd_IN3BN"
      },
      "outputs": [],
      "source": [
        "class Solution:\n",
        "    def minTimeToReach(self, moveTime):\n",
        "        n, m = len(moveTime), len(moveTime[0])\n",
        "        visited = [[False] * m for _ in range(n)]\n",
        "        bestTime = [[float('inf')] * m for _ in range(n)]\n",
        "        directions = [(-1, 0), (0, 1), (1, 0), (0, -1)]\n",
        "        ans = float('inf')\n",
        "\n",
        "        def _helper(i, j, time):\n",
        "            nonlocal ans\n",
        "            # Prune worse paths\n",
        "            if time >= bestTime[i][j]:\n",
        "                return\n",
        "            bestTime[i][j] = time\n",
        "\n",
        "            if i == n - 1 and j == m - 1:\n",
        "                ans = min(ans, time)\n",
        "                return\n",
        "\n",
        "            for d in directions:\n",
        "                x, y = i + d[0], j + d[1]\n",
        "                if 0 <= x < n and 0 <= y < m and not visited[x][y]:\n",
        "                    visited[x][y] = True\n",
        "                    wait = moveTime[x][y]\n",
        "                    nextTime = wait + 1 if wait > time else time + 1\n",
        "                    if i == 0 and j == 0 and wait <= time:\n",
        "                        nextTime = 1 + wait\n",
        "                    _helper(x, y, nextTime)\n",
        "                    visited[x][y] = False\n",
        "\n",
        "        visited[0][0] = True\n",
        "        _helper(0, 0, 0)\n",
        "        return ans"
      ]
    }
  ]
}