{
  "nbformat": 4,
  "nbformat_minor": 0,
  "metadata": {
    "colab": {
      "provenance": []
    },
    "kernelspec": {
      "name": "python3",
      "display_name": "Python 3"
    },
    "language_info": {
      "name": "python"
    }
  },
  "cells": [
    {
      "cell_type": "markdown",
      "source": [
        "# LeetCode Problem: Contiguous Array"
      ],
      "metadata": {
        "id": "63_iC9mpstRh"
      }
    },
    {
      "cell_type": "code",
      "execution_count": 1,
      "metadata": {
        "colab": {
          "base_uri": "https://localhost:8080/"
        },
        "id": "EuC4ScKNsoq_",
        "outputId": "c4eea20c-bc58-4972-f95d-cd17d5d3fede"
      },
      "outputs": [
        {
          "output_type": "stream",
          "name": "stdout",
          "text": [
            "2\n"
          ]
        }
      ],
      "source": [
        "def findMaxLength(nums):\n",
        "        count, ml, cd = 0,0,{0:-1}\n",
        "        for i, num in enumerate(nums):\n",
        "            if num == 0:\n",
        "                count -= 1\n",
        "            else:\n",
        "                count += 1\n",
        "            if count in cd:\n",
        "                ml = max(ml,i-cd[count])\n",
        "            else:\n",
        "                cd[count] = i\n",
        "        return ml\n",
        "\n",
        "\n",
        "\n",
        "\n",
        "nums = [0,1]\n",
        "print(findMaxLength(nums))"
      ]
    },
    {
      "cell_type": "code",
      "source": [],
      "metadata": {
        "id": "CjoGrjlHubSP"
      },
      "execution_count": null,
      "outputs": []
    }
  ]
}