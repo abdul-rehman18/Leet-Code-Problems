{
  "nbformat": 4,
  "nbformat_minor": 0,
  "metadata": {
    "colab": {
      "provenance": []
    },
    "kernelspec": {
      "name": "python3",
      "display_name": "Python 3"
    },
    "language_info": {
      "name": "python"
    }
  },
  "cells": [
    {
      "cell_type": "code",
      "execution_count": null,
      "metadata": {
        "id": "ESPXQXPNQtZe"
      },
      "outputs": [],
      "source": [
        "import math\n",
        "\n",
        "class Solution(object):\n",
        "    def time_is_suff(self, ranks, cars, min_given):\n",
        "        cars_done = 0\n",
        "        for r in ranks:\n",
        "            c2 = min_given // r\n",
        "            c = int(math.sqrt(c2))\n",
        "            cars_done += c\n",
        "        return cars_done >= cars\n",
        "\n",
        "    def repairCars(self, ranks, cars):\n",
        "        l, r = 1, int(1e14)\n",
        "        while l < r:\n",
        "            mid = (l + r) // 2\n",
        "            if self.time_is_suff(ranks, cars, mid):\n",
        "                r = mid\n",
        "            else:\n",
        "                l = mid + 1\n",
        "        return l"
      ]
    }
  ]
}