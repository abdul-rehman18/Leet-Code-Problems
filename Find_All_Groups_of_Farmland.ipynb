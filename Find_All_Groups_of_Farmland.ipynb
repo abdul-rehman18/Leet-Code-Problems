{
  "nbformat": 4,
  "nbformat_minor": 0,
  "metadata": {
    "colab": {
      "provenance": []
    },
    "kernelspec": {
      "name": "python3",
      "display_name": "Python 3"
    },
    "language_info": {
      "name": "python"
    }
  },
  "cells": [
    {
      "cell_type": "markdown",
      "source": [
        "# LeetCode Problem: Find All Groups of Farmland"
      ],
      "metadata": {
        "id": "fck_mIfEeLH-"
      }
    },
    {
      "cell_type": "code",
      "execution_count": 1,
      "metadata": {
        "colab": {
          "base_uri": "https://localhost:8080/"
        },
        "id": "sjjXQ3Gkd6ff",
        "outputId": "c7a8ce04-89ec-46dd-b32b-edb828c4be94"
      },
      "outputs": [
        {
          "output_type": "stream",
          "name": "stdout",
          "text": [
            "[[0, 0, 0, 0], [1, 1, 2, 2]]\n"
          ]
        }
      ],
      "source": [
        "def findFarmland(land):\n",
        "        def dfs(x, y):\n",
        "            # This function performs DFS to mark all connected farmland and find the boundaries\n",
        "            stack = [(x, y)]\n",
        "            min_row, min_col = x, y\n",
        "            max_row, max_col = x, y\n",
        "            visited.add((x, y))\n",
        "\n",
        "            while stack:\n",
        "                cur_x, cur_y = stack.pop()\n",
        "                for dx, dy in [(-1, 0), (1, 0), (0, -1), (0, 1)]:\n",
        "                    nx, ny = cur_x + dx, cur_y + dy\n",
        "                    if 0 <= nx < rows and 0 <= ny < cols and (nx, ny) not in visited and land[nx][ny] == 1:\n",
        "                        visited.add((nx, ny))\n",
        "                        stack.append((nx, ny))\n",
        "                        min_row = min(min_row, nx)\n",
        "                        min_col = min(min_col, ny)\n",
        "                        max_row = max(max_row, nx)\n",
        "                        max_col = max(max_col, ny)\n",
        "\n",
        "            return (min_row, min_col, max_row, max_col)\n",
        "\n",
        "        rows, cols = len(land), len(land[0])\n",
        "        visited = set()\n",
        "        result = []\n",
        "\n",
        "        for i in range(rows):\n",
        "            for j in range(cols):\n",
        "                if land[i][j] == 1 and (i, j) not in visited:\n",
        "                    # Found a new piece of farmland\n",
        "                    min_row, min_col, max_row, max_col = dfs(i, j)\n",
        "                    result.append([min_row, min_col, max_row, max_col])\n",
        "\n",
        "        return result\n",
        "\n",
        "land = [[1,0,0],[0,1,1],[0,1,1]]\n",
        "print(findFarmland(land))"
      ]
    },
    {
      "cell_type": "code",
      "source": [],
      "metadata": {
        "id": "BLRDHrF_fDQ1"
      },
      "execution_count": null,
      "outputs": []
    }
  ]
}